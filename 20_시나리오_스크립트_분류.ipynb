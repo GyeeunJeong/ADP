{
  "cells": [
    {
      "cell_type": "markdown",
      "metadata": {
        "id": "erBw_lsJZkUx"
      },
      "source": [
        "# 기계학습"
      ]
    },
    {
      "cell_type": "markdown",
      "metadata": {
        "id": "QxNHN4_7ZkWM"
      },
      "source": [
        "## 분류"
      ]
    },
    {
      "cell_type": "markdown",
      "metadata": {
        "id": "AmQdwRNOZkWX"
      },
      "source": [
        "### 라이브러리 호출"
      ]
    },
    {
      "cell_type": "code",
      "execution_count": 1,
      "metadata": {
        "ExecuteTime": {
          "end_time": "2020-12-12T05:50:54.869176Z",
          "start_time": "2020-12-12T05:50:52.948647Z"
        },
        "id": "ACaYKbqNZkWa"
      },
      "outputs": [],
      "source": [
        "import pandas as pd\n",
        "import numpy as np\n",
        "import seaborn as sns\n",
        "import matplotlib.pyplot as plt\n",
        "%matplotlib inline\n",
        "pd.options.display.max_columns = None"
      ]
    },
    {
      "cell_type": "markdown",
      "metadata": {
        "id": "ECAs9977Zka7"
      },
      "source": [
        "### 그래프 한글 깨짐 방지"
      ]
    },
    {
      "cell_type": "code",
      "source": [
        "!git clone https://github.com/joyfulspace/ADP.git"
      ],
      "metadata": {
        "id": "NXQ0r4ciZ7JH",
        "outputId": "6de1afe9-0912-4686-9c4d-71a8afea95e0",
        "colab": {
          "base_uri": "https://localhost:8080/"
        }
      },
      "execution_count": 2,
      "outputs": [
        {
          "output_type": "stream",
          "name": "stdout",
          "text": [
            "Cloning into 'ADP'...\n",
            "remote: Enumerating objects: 2561, done.\u001b[K\n",
            "remote: Counting objects: 100% (2254/2254), done.\u001b[K\n",
            "remote: Compressing objects: 100% (2248/2248), done.\u001b[K\n",
            "remote: Total 2561 (delta 61), reused 2135 (delta 4), pack-reused 307\u001b[K\n",
            "Receiving objects: 100% (2561/2561), 56.71 MiB | 26.03 MiB/s, done.\n",
            "Resolving deltas: 100% (183/183), done.\n",
            "Checking out files: 100% (2407/2407), done.\n"
          ]
        }
      ]
    },
    {
      "cell_type": "code",
      "execution_count": 3,
      "metadata": {
        "ExecuteTime": {
          "end_time": "2020-12-12T05:50:54.879780Z",
          "start_time": "2020-12-12T05:50:54.871704Z"
        },
        "id": "kwIOa6v1Zka9"
      },
      "outputs": [],
      "source": [
        "from matplotlib import font_manager, rc\n",
        "path = 'ADP/file/malgun.ttf'\n",
        "font_name = font_manager.FontProperties(fname=path).get_name()\n",
        "rc('font', family = font_name)"
      ]
    },
    {
      "cell_type": "markdown",
      "metadata": {
        "id": "2_EKAH1ZZkbB"
      },
      "source": [
        "### 데이터 로딩"
      ]
    },
    {
      "cell_type": "code",
      "execution_count": 4,
      "metadata": {
        "ExecuteTime": {
          "end_time": "2020-12-12T05:50:54.914720Z",
          "start_time": "2020-12-12T05:50:54.884828Z"
        },
        "id": "vmVOfpj6ZkbF"
      },
      "outputs": [],
      "source": [
        "df = pd.read_csv('ADP/data/bikeshare.csv')"
      ]
    },
    {
      "cell_type": "markdown",
      "metadata": {
        "ExecuteTime": {
          "end_time": "2020-12-05T09:20:00.664746Z",
          "start_time": "2020-12-05T09:20:00.636168Z"
        },
        "id": "_bj-FpisZkbL"
      },
      "source": [
        "### 데이터 구조 확인"
      ]
    },
    {
      "cell_type": "code",
      "execution_count": 5,
      "metadata": {
        "ExecuteTime": {
          "end_time": "2020-12-12T05:50:54.939333Z",
          "start_time": "2020-12-12T05:50:54.917707Z"
        },
        "id": "ZhuEVhGVZkbQ",
        "outputId": "8973bc7f-eeeb-4a98-967b-2e0e3068c65f",
        "colab": {
          "base_uri": "https://localhost:8080/",
          "height": 357
        }
      },
      "outputs": [
        {
          "output_type": "execute_result",
          "data": {
            "text/plain": [
              "          datetime season  holiday  workingday  weather  temp   atemp  \\\n",
              "0  2011-01-01 0:00      A        0           0        1  9.84  14.395   \n",
              "1  2011-01-01 1:00      A        0           0        1  9.02  13.635   \n",
              "2  2011-01-01 2:00      A        0           0        1  9.02  13.635   \n",
              "3  2011-01-01 3:00      A        0           0        1  9.84  14.395   \n",
              "4  2011-01-01 4:00      A        0           0        1  9.84  14.395   \n",
              "\n",
              "   humidity  windspeed  casual  registered  count  \n",
              "0        81        0.0       3          13     16  \n",
              "1        80        0.0       8          32     40  \n",
              "2        80        0.0       5          27     32  \n",
              "3        75        0.0       3          10     13  \n",
              "4        75        0.0       0           1      1  "
            ],
            "text/html": [
              "\n",
              "  <div id=\"df-4752bb68-b126-4577-a155-bbbf17aaa1c6\">\n",
              "    <div class=\"colab-df-container\">\n",
              "      <div>\n",
              "<style scoped>\n",
              "    .dataframe tbody tr th:only-of-type {\n",
              "        vertical-align: middle;\n",
              "    }\n",
              "\n",
              "    .dataframe tbody tr th {\n",
              "        vertical-align: top;\n",
              "    }\n",
              "\n",
              "    .dataframe thead th {\n",
              "        text-align: right;\n",
              "    }\n",
              "</style>\n",
              "<table border=\"1\" class=\"dataframe\">\n",
              "  <thead>\n",
              "    <tr style=\"text-align: right;\">\n",
              "      <th></th>\n",
              "      <th>datetime</th>\n",
              "      <th>season</th>\n",
              "      <th>holiday</th>\n",
              "      <th>workingday</th>\n",
              "      <th>weather</th>\n",
              "      <th>temp</th>\n",
              "      <th>atemp</th>\n",
              "      <th>humidity</th>\n",
              "      <th>windspeed</th>\n",
              "      <th>casual</th>\n",
              "      <th>registered</th>\n",
              "      <th>count</th>\n",
              "    </tr>\n",
              "  </thead>\n",
              "  <tbody>\n",
              "    <tr>\n",
              "      <th>0</th>\n",
              "      <td>2011-01-01 0:00</td>\n",
              "      <td>A</td>\n",
              "      <td>0</td>\n",
              "      <td>0</td>\n",
              "      <td>1</td>\n",
              "      <td>9.84</td>\n",
              "      <td>14.395</td>\n",
              "      <td>81</td>\n",
              "      <td>0.0</td>\n",
              "      <td>3</td>\n",
              "      <td>13</td>\n",
              "      <td>16</td>\n",
              "    </tr>\n",
              "    <tr>\n",
              "      <th>1</th>\n",
              "      <td>2011-01-01 1:00</td>\n",
              "      <td>A</td>\n",
              "      <td>0</td>\n",
              "      <td>0</td>\n",
              "      <td>1</td>\n",
              "      <td>9.02</td>\n",
              "      <td>13.635</td>\n",
              "      <td>80</td>\n",
              "      <td>0.0</td>\n",
              "      <td>8</td>\n",
              "      <td>32</td>\n",
              "      <td>40</td>\n",
              "    </tr>\n",
              "    <tr>\n",
              "      <th>2</th>\n",
              "      <td>2011-01-01 2:00</td>\n",
              "      <td>A</td>\n",
              "      <td>0</td>\n",
              "      <td>0</td>\n",
              "      <td>1</td>\n",
              "      <td>9.02</td>\n",
              "      <td>13.635</td>\n",
              "      <td>80</td>\n",
              "      <td>0.0</td>\n",
              "      <td>5</td>\n",
              "      <td>27</td>\n",
              "      <td>32</td>\n",
              "    </tr>\n",
              "    <tr>\n",
              "      <th>3</th>\n",
              "      <td>2011-01-01 3:00</td>\n",
              "      <td>A</td>\n",
              "      <td>0</td>\n",
              "      <td>0</td>\n",
              "      <td>1</td>\n",
              "      <td>9.84</td>\n",
              "      <td>14.395</td>\n",
              "      <td>75</td>\n",
              "      <td>0.0</td>\n",
              "      <td>3</td>\n",
              "      <td>10</td>\n",
              "      <td>13</td>\n",
              "    </tr>\n",
              "    <tr>\n",
              "      <th>4</th>\n",
              "      <td>2011-01-01 4:00</td>\n",
              "      <td>A</td>\n",
              "      <td>0</td>\n",
              "      <td>0</td>\n",
              "      <td>1</td>\n",
              "      <td>9.84</td>\n",
              "      <td>14.395</td>\n",
              "      <td>75</td>\n",
              "      <td>0.0</td>\n",
              "      <td>0</td>\n",
              "      <td>1</td>\n",
              "      <td>1</td>\n",
              "    </tr>\n",
              "  </tbody>\n",
              "</table>\n",
              "</div>\n",
              "      <button class=\"colab-df-convert\" onclick=\"convertToInteractive('df-4752bb68-b126-4577-a155-bbbf17aaa1c6')\"\n",
              "              title=\"Convert this dataframe to an interactive table.\"\n",
              "              style=\"display:none;\">\n",
              "        \n",
              "  <svg xmlns=\"http://www.w3.org/2000/svg\" height=\"24px\"viewBox=\"0 0 24 24\"\n",
              "       width=\"24px\">\n",
              "    <path d=\"M0 0h24v24H0V0z\" fill=\"none\"/>\n",
              "    <path d=\"M18.56 5.44l.94 2.06.94-2.06 2.06-.94-2.06-.94-.94-2.06-.94 2.06-2.06.94zm-11 1L8.5 8.5l.94-2.06 2.06-.94-2.06-.94L8.5 2.5l-.94 2.06-2.06.94zm10 10l.94 2.06.94-2.06 2.06-.94-2.06-.94-.94-2.06-.94 2.06-2.06.94z\"/><path d=\"M17.41 7.96l-1.37-1.37c-.4-.4-.92-.59-1.43-.59-.52 0-1.04.2-1.43.59L10.3 9.45l-7.72 7.72c-.78.78-.78 2.05 0 2.83L4 21.41c.39.39.9.59 1.41.59.51 0 1.02-.2 1.41-.59l7.78-7.78 2.81-2.81c.8-.78.8-2.07 0-2.86zM5.41 20L4 18.59l7.72-7.72 1.47 1.35L5.41 20z\"/>\n",
              "  </svg>\n",
              "      </button>\n",
              "      \n",
              "  <style>\n",
              "    .colab-df-container {\n",
              "      display:flex;\n",
              "      flex-wrap:wrap;\n",
              "      gap: 12px;\n",
              "    }\n",
              "\n",
              "    .colab-df-convert {\n",
              "      background-color: #E8F0FE;\n",
              "      border: none;\n",
              "      border-radius: 50%;\n",
              "      cursor: pointer;\n",
              "      display: none;\n",
              "      fill: #1967D2;\n",
              "      height: 32px;\n",
              "      padding: 0 0 0 0;\n",
              "      width: 32px;\n",
              "    }\n",
              "\n",
              "    .colab-df-convert:hover {\n",
              "      background-color: #E2EBFA;\n",
              "      box-shadow: 0px 1px 2px rgba(60, 64, 67, 0.3), 0px 1px 3px 1px rgba(60, 64, 67, 0.15);\n",
              "      fill: #174EA6;\n",
              "    }\n",
              "\n",
              "    [theme=dark] .colab-df-convert {\n",
              "      background-color: #3B4455;\n",
              "      fill: #D2E3FC;\n",
              "    }\n",
              "\n",
              "    [theme=dark] .colab-df-convert:hover {\n",
              "      background-color: #434B5C;\n",
              "      box-shadow: 0px 1px 3px 1px rgba(0, 0, 0, 0.15);\n",
              "      filter: drop-shadow(0px 1px 2px rgba(0, 0, 0, 0.3));\n",
              "      fill: #FFFFFF;\n",
              "    }\n",
              "  </style>\n",
              "\n",
              "      <script>\n",
              "        const buttonEl =\n",
              "          document.querySelector('#df-4752bb68-b126-4577-a155-bbbf17aaa1c6 button.colab-df-convert');\n",
              "        buttonEl.style.display =\n",
              "          google.colab.kernel.accessAllowed ? 'block' : 'none';\n",
              "\n",
              "        async function convertToInteractive(key) {\n",
              "          const element = document.querySelector('#df-4752bb68-b126-4577-a155-bbbf17aaa1c6');\n",
              "          const dataTable =\n",
              "            await google.colab.kernel.invokeFunction('convertToInteractive',\n",
              "                                                     [key], {});\n",
              "          if (!dataTable) return;\n",
              "\n",
              "          const docLinkHtml = 'Like what you see? Visit the ' +\n",
              "            '<a target=\"_blank\" href=https://colab.research.google.com/notebooks/data_table.ipynb>data table notebook</a>'\n",
              "            + ' to learn more about interactive tables.';\n",
              "          element.innerHTML = '';\n",
              "          dataTable['output_type'] = 'display_data';\n",
              "          await google.colab.output.renderOutput(dataTable, element);\n",
              "          const docLink = document.createElement('div');\n",
              "          docLink.innerHTML = docLinkHtml;\n",
              "          element.appendChild(docLink);\n",
              "        }\n",
              "      </script>\n",
              "    </div>\n",
              "  </div>\n",
              "  "
            ]
          },
          "metadata": {},
          "execution_count": 5
        }
      ],
      "source": [
        "df.head() #CCCCC"
      ]
    },
    {
      "cell_type": "code",
      "execution_count": 6,
      "metadata": {
        "ExecuteTime": {
          "end_time": "2020-12-12T05:50:54.956377Z",
          "start_time": "2020-12-12T05:50:54.941329Z"
        },
        "id": "eAlv23reZkbW",
        "outputId": "3c4a8e5a-e732-4484-b2c8-da6f9062bcf2",
        "colab": {
          "base_uri": "https://localhost:8080/",
          "height": 357
        }
      },
      "outputs": [
        {
          "output_type": "execute_result",
          "data": {
            "text/plain": [
              "               datetime season  holiday  workingday  weather   temp   atemp  \\\n",
              "10881  2012-12-19 19:00      D        0           1        1  15.58  19.695   \n",
              "10882  2012-12-19 20:00      D        0           1        1  14.76  17.425   \n",
              "10883  2012-12-19 21:00      D        0           1        1  13.94  15.910   \n",
              "10884  2012-12-19 22:00      D        0           1        1  13.94  17.425   \n",
              "10885  2012-12-19 23:00      D        0           1        1  13.12  16.665   \n",
              "\n",
              "       humidity  windspeed  casual  registered  count  \n",
              "10881        50    26.0027       7         329    336  \n",
              "10882        57    15.0013      10         231    241  \n",
              "10883        61    15.0013       4         164    168  \n",
              "10884        61     6.0032      12         117    129  \n",
              "10885        66     8.9981       4          84     88  "
            ],
            "text/html": [
              "\n",
              "  <div id=\"df-8d3ae9f4-12de-49a6-a9d5-d61580be9dd7\">\n",
              "    <div class=\"colab-df-container\">\n",
              "      <div>\n",
              "<style scoped>\n",
              "    .dataframe tbody tr th:only-of-type {\n",
              "        vertical-align: middle;\n",
              "    }\n",
              "\n",
              "    .dataframe tbody tr th {\n",
              "        vertical-align: top;\n",
              "    }\n",
              "\n",
              "    .dataframe thead th {\n",
              "        text-align: right;\n",
              "    }\n",
              "</style>\n",
              "<table border=\"1\" class=\"dataframe\">\n",
              "  <thead>\n",
              "    <tr style=\"text-align: right;\">\n",
              "      <th></th>\n",
              "      <th>datetime</th>\n",
              "      <th>season</th>\n",
              "      <th>holiday</th>\n",
              "      <th>workingday</th>\n",
              "      <th>weather</th>\n",
              "      <th>temp</th>\n",
              "      <th>atemp</th>\n",
              "      <th>humidity</th>\n",
              "      <th>windspeed</th>\n",
              "      <th>casual</th>\n",
              "      <th>registered</th>\n",
              "      <th>count</th>\n",
              "    </tr>\n",
              "  </thead>\n",
              "  <tbody>\n",
              "    <tr>\n",
              "      <th>10881</th>\n",
              "      <td>2012-12-19 19:00</td>\n",
              "      <td>D</td>\n",
              "      <td>0</td>\n",
              "      <td>1</td>\n",
              "      <td>1</td>\n",
              "      <td>15.58</td>\n",
              "      <td>19.695</td>\n",
              "      <td>50</td>\n",
              "      <td>26.0027</td>\n",
              "      <td>7</td>\n",
              "      <td>329</td>\n",
              "      <td>336</td>\n",
              "    </tr>\n",
              "    <tr>\n",
              "      <th>10882</th>\n",
              "      <td>2012-12-19 20:00</td>\n",
              "      <td>D</td>\n",
              "      <td>0</td>\n",
              "      <td>1</td>\n",
              "      <td>1</td>\n",
              "      <td>14.76</td>\n",
              "      <td>17.425</td>\n",
              "      <td>57</td>\n",
              "      <td>15.0013</td>\n",
              "      <td>10</td>\n",
              "      <td>231</td>\n",
              "      <td>241</td>\n",
              "    </tr>\n",
              "    <tr>\n",
              "      <th>10883</th>\n",
              "      <td>2012-12-19 21:00</td>\n",
              "      <td>D</td>\n",
              "      <td>0</td>\n",
              "      <td>1</td>\n",
              "      <td>1</td>\n",
              "      <td>13.94</td>\n",
              "      <td>15.910</td>\n",
              "      <td>61</td>\n",
              "      <td>15.0013</td>\n",
              "      <td>4</td>\n",
              "      <td>164</td>\n",
              "      <td>168</td>\n",
              "    </tr>\n",
              "    <tr>\n",
              "      <th>10884</th>\n",
              "      <td>2012-12-19 22:00</td>\n",
              "      <td>D</td>\n",
              "      <td>0</td>\n",
              "      <td>1</td>\n",
              "      <td>1</td>\n",
              "      <td>13.94</td>\n",
              "      <td>17.425</td>\n",
              "      <td>61</td>\n",
              "      <td>6.0032</td>\n",
              "      <td>12</td>\n",
              "      <td>117</td>\n",
              "      <td>129</td>\n",
              "    </tr>\n",
              "    <tr>\n",
              "      <th>10885</th>\n",
              "      <td>2012-12-19 23:00</td>\n",
              "      <td>D</td>\n",
              "      <td>0</td>\n",
              "      <td>1</td>\n",
              "      <td>1</td>\n",
              "      <td>13.12</td>\n",
              "      <td>16.665</td>\n",
              "      <td>66</td>\n",
              "      <td>8.9981</td>\n",
              "      <td>4</td>\n",
              "      <td>84</td>\n",
              "      <td>88</td>\n",
              "    </tr>\n",
              "  </tbody>\n",
              "</table>\n",
              "</div>\n",
              "      <button class=\"colab-df-convert\" onclick=\"convertToInteractive('df-8d3ae9f4-12de-49a6-a9d5-d61580be9dd7')\"\n",
              "              title=\"Convert this dataframe to an interactive table.\"\n",
              "              style=\"display:none;\">\n",
              "        \n",
              "  <svg xmlns=\"http://www.w3.org/2000/svg\" height=\"24px\"viewBox=\"0 0 24 24\"\n",
              "       width=\"24px\">\n",
              "    <path d=\"M0 0h24v24H0V0z\" fill=\"none\"/>\n",
              "    <path d=\"M18.56 5.44l.94 2.06.94-2.06 2.06-.94-2.06-.94-.94-2.06-.94 2.06-2.06.94zm-11 1L8.5 8.5l.94-2.06 2.06-.94-2.06-.94L8.5 2.5l-.94 2.06-2.06.94zm10 10l.94 2.06.94-2.06 2.06-.94-2.06-.94-.94-2.06-.94 2.06-2.06.94z\"/><path d=\"M17.41 7.96l-1.37-1.37c-.4-.4-.92-.59-1.43-.59-.52 0-1.04.2-1.43.59L10.3 9.45l-7.72 7.72c-.78.78-.78 2.05 0 2.83L4 21.41c.39.39.9.59 1.41.59.51 0 1.02-.2 1.41-.59l7.78-7.78 2.81-2.81c.8-.78.8-2.07 0-2.86zM5.41 20L4 18.59l7.72-7.72 1.47 1.35L5.41 20z\"/>\n",
              "  </svg>\n",
              "      </button>\n",
              "      \n",
              "  <style>\n",
              "    .colab-df-container {\n",
              "      display:flex;\n",
              "      flex-wrap:wrap;\n",
              "      gap: 12px;\n",
              "    }\n",
              "\n",
              "    .colab-df-convert {\n",
              "      background-color: #E8F0FE;\n",
              "      border: none;\n",
              "      border-radius: 50%;\n",
              "      cursor: pointer;\n",
              "      display: none;\n",
              "      fill: #1967D2;\n",
              "      height: 32px;\n",
              "      padding: 0 0 0 0;\n",
              "      width: 32px;\n",
              "    }\n",
              "\n",
              "    .colab-df-convert:hover {\n",
              "      background-color: #E2EBFA;\n",
              "      box-shadow: 0px 1px 2px rgba(60, 64, 67, 0.3), 0px 1px 3px 1px rgba(60, 64, 67, 0.15);\n",
              "      fill: #174EA6;\n",
              "    }\n",
              "\n",
              "    [theme=dark] .colab-df-convert {\n",
              "      background-color: #3B4455;\n",
              "      fill: #D2E3FC;\n",
              "    }\n",
              "\n",
              "    [theme=dark] .colab-df-convert:hover {\n",
              "      background-color: #434B5C;\n",
              "      box-shadow: 0px 1px 3px 1px rgba(0, 0, 0, 0.15);\n",
              "      filter: drop-shadow(0px 1px 2px rgba(0, 0, 0, 0.3));\n",
              "      fill: #FFFFFF;\n",
              "    }\n",
              "  </style>\n",
              "\n",
              "      <script>\n",
              "        const buttonEl =\n",
              "          document.querySelector('#df-8d3ae9f4-12de-49a6-a9d5-d61580be9dd7 button.colab-df-convert');\n",
              "        buttonEl.style.display =\n",
              "          google.colab.kernel.accessAllowed ? 'block' : 'none';\n",
              "\n",
              "        async function convertToInteractive(key) {\n",
              "          const element = document.querySelector('#df-8d3ae9f4-12de-49a6-a9d5-d61580be9dd7');\n",
              "          const dataTable =\n",
              "            await google.colab.kernel.invokeFunction('convertToInteractive',\n",
              "                                                     [key], {});\n",
              "          if (!dataTable) return;\n",
              "\n",
              "          const docLinkHtml = 'Like what you see? Visit the ' +\n",
              "            '<a target=\"_blank\" href=https://colab.research.google.com/notebooks/data_table.ipynb>data table notebook</a>'\n",
              "            + ' to learn more about interactive tables.';\n",
              "          element.innerHTML = '';\n",
              "          dataTable['output_type'] = 'display_data';\n",
              "          await google.colab.output.renderOutput(dataTable, element);\n",
              "          const docLink = document.createElement('div');\n",
              "          docLink.innerHTML = docLinkHtml;\n",
              "          element.appendChild(docLink);\n",
              "        }\n",
              "      </script>\n",
              "    </div>\n",
              "  </div>\n",
              "  "
            ]
          },
          "metadata": {},
          "execution_count": 6
        }
      ],
      "source": [
        "df.tail()  #CCCCC"
      ]
    },
    {
      "cell_type": "code",
      "execution_count": 7,
      "metadata": {
        "ExecuteTime": {
          "end_time": "2020-12-12T05:50:54.965399Z",
          "start_time": "2020-12-12T05:50:54.958362Z"
        },
        "id": "QfZTlvmyZkbY",
        "outputId": "8991297c-bc54-41b2-d8e6-8b3113e36523",
        "colab": {
          "base_uri": "https://localhost:8080/"
        }
      },
      "outputs": [
        {
          "output_type": "execute_result",
          "data": {
            "text/plain": [
              "(10886, 12)"
            ]
          },
          "metadata": {},
          "execution_count": 7
        }
      ],
      "source": [
        "df.shape "
      ]
    },
    {
      "cell_type": "code",
      "execution_count": 8,
      "metadata": {
        "ExecuteTime": {
          "end_time": "2020-12-12T05:50:54.981418Z",
          "start_time": "2020-12-12T05:50:54.967338Z"
        },
        "id": "OM1b00bjZkba",
        "outputId": "1413e967-2beb-4a61-c9f1-8af8ac875b10",
        "colab": {
          "base_uri": "https://localhost:8080/"
        }
      },
      "outputs": [
        {
          "output_type": "stream",
          "name": "stdout",
          "text": [
            "<class 'pandas.core.frame.DataFrame'>\n",
            "RangeIndex: 10886 entries, 0 to 10885\n",
            "Data columns (total 12 columns):\n",
            " #   Column      Non-Null Count  Dtype  \n",
            "---  ------      --------------  -----  \n",
            " 0   datetime    10886 non-null  object \n",
            " 1   season      10886 non-null  object \n",
            " 2   holiday     10886 non-null  int64  \n",
            " 3   workingday  10886 non-null  int64  \n",
            " 4   weather     10886 non-null  int64  \n",
            " 5   temp        10886 non-null  float64\n",
            " 6   atemp       10886 non-null  float64\n",
            " 7   humidity    10886 non-null  int64  \n",
            " 8   windspeed   10886 non-null  float64\n",
            " 9   casual      10886 non-null  int64  \n",
            " 10  registered  10886 non-null  int64  \n",
            " 11  count       10886 non-null  int64  \n",
            "dtypes: float64(3), int64(7), object(2)\n",
            "memory usage: 1020.7+ KB\n"
          ]
        }
      ],
      "source": [
        "df.info()"
      ]
    },
    {
      "cell_type": "markdown",
      "metadata": {
        "id": "ylW2b41hZkbb"
      },
      "source": [
        "### 데이터 타입 맞춰주기"
      ]
    },
    {
      "cell_type": "code",
      "execution_count": 9,
      "metadata": {
        "ExecuteTime": {
          "end_time": "2020-12-12T05:50:54.990424Z",
          "start_time": "2020-12-12T05:50:54.985378Z"
        },
        "id": "-nNL0KECZkbc",
        "outputId": "470040fa-6f67-4709-dbc7-40c4bcf10907",
        "colab": {
          "base_uri": "https://localhost:8080/"
        }
      },
      "outputs": [
        {
          "output_type": "execute_result",
          "data": {
            "text/plain": [
              "Index(['datetime', 'season', 'holiday', 'workingday', 'weather', 'temp',\n",
              "       'atemp', 'humidity', 'windspeed', 'casual', 'registered', 'count'],\n",
              "      dtype='object')"
            ]
          },
          "metadata": {},
          "execution_count": 9
        }
      ],
      "source": [
        "df.columns"
      ]
    },
    {
      "cell_type": "code",
      "execution_count": 10,
      "metadata": {
        "ExecuteTime": {
          "end_time": "2020-12-12T05:50:54.999365Z",
          "start_time": "2020-12-12T05:50:54.993382Z"
        },
        "id": "I-kUQb4RZkbd"
      },
      "outputs": [],
      "source": [
        "# type별로 컬럼 분류\n",
        "col_id = []\n",
        "col_dt = ['datetime']\n",
        "col_cat = ['season']\n",
        "col_int = ['weather', 'humidity','casual','registered','count']\n",
        "col_float = ['temp','atemp','windspeed']\n",
        "col_bool = ['holiday','workingday']\n",
        "col_num = col_int + col_float"
      ]
    },
    {
      "cell_type": "code",
      "execution_count": 11,
      "metadata": {
        "ExecuteTime": {
          "end_time": "2020-12-12T05:50:55.024925Z",
          "start_time": "2020-12-12T05:50:55.001947Z"
        },
        "id": "4CniIneyZkbj"
      },
      "outputs": [],
      "source": [
        "df['datetime'] = pd.to_datetime(df['datetime'])\n",
        "df[col_cat]= df[col_cat].astype('str')\n",
        "df[col_int] = df[col_int].astype('int', errors='ignore')\n",
        "df[col_float] = df[col_float].astype('float')"
      ]
    },
    {
      "cell_type": "markdown",
      "metadata": {
        "id": "Hu1w3cAhZkbk"
      },
      "source": [
        "### DQ Check (빈도분석, 분포분석)"
      ]
    },
    {
      "cell_type": "markdown",
      "metadata": {
        "id": "YxTllAWjZkbl"
      },
      "source": [
        "#### 연속형 변수"
      ]
    },
    {
      "cell_type": "code",
      "execution_count": 12,
      "metadata": {
        "ExecuteTime": {
          "end_time": "2020-12-12T05:50:55.036910Z",
          "start_time": "2020-12-12T05:50:55.026901Z"
        },
        "id": "cxCdwwWSZkbm"
      },
      "outputs": [],
      "source": [
        "def DA(data):\n",
        "    # 숫자형 변수의 분포 요약 함수\n",
        "    da = data.describe(percentiles=[0.05, 0.1, 0.25, 0.5, 0.75, 0.9, 0.95])\n",
        "    da = da.T\n",
        "    df1 = data.isna().sum() # 결측값\n",
        "    df1.name = 'missing'\n",
        "    df2 = data.median() # 중앙값\n",
        "    df2.name = 'median'\n",
        "    df3 = np.var(data) # 분산\n",
        "    df3.name = 'variance'\n",
        "    df4 = data.skew() # 왜도 : 양수면 왼쪽으로 치우침\n",
        "    df4.name = 'skewness'\n",
        "    df5 = data.kurtosis() # 첨도 : 0보다 클수록 뾰족함\n",
        "    df5.name = 'kurtosis'\n",
        "\n",
        "    da = pd.concat([da,df1,df2,df3,df4,df5], axis=1) # 모두 합침\n",
        "    da['total'] = da['count'] + da['missing'] # 전체 데이터 수\n",
        "\n",
        "    # 컬럼 순서 보기 좋게 정렬\n",
        "    col_nm = da.columns.tolist()\n",
        "    order = ['total','count','missing','mean','median','std','variance','skewness','kurtosis','min',\n",
        "             '5%','10%','25%','50%','75%','90%','95%','max']\n",
        "    col_nm_new=[]\n",
        "    for i in order:\n",
        "        col_nm_new.append(i)\n",
        "#     col_nm_new.extend(col_nm[3:12])\n",
        "    da = da[col_nm_new]\n",
        "    \n",
        "    # 소수점 둘째자리 반올림\n",
        "    da = da.round(2) \n",
        "    return da"
      ]
    },
    {
      "cell_type": "code",
      "execution_count": 13,
      "metadata": {
        "ExecuteTime": {
          "end_time": "2020-12-12T05:50:55.121634Z",
          "start_time": "2020-12-12T05:50:55.038899Z"
        },
        "id": "I5xHDiGaZkbq"
      },
      "outputs": [],
      "source": [
        "DA1 = DA(df[col_num])\n",
        "#DA1.to_csv('빈도분포분석_연속형.csv', encoding='cp949')"
      ]
    },
    {
      "cell_type": "code",
      "execution_count": 14,
      "metadata": {
        "ExecuteTime": {
          "end_time": "2020-12-12T05:50:55.157663Z",
          "start_time": "2020-12-12T05:50:55.124525Z"
        },
        "id": "pRwbn2TgZkbr",
        "outputId": "18474d91-2b8f-4570-8612-b5c37f27949e",
        "colab": {
          "base_uri": "https://localhost:8080/",
          "height": 364
        }
      },
      "outputs": [
        {
          "output_type": "execute_result",
          "data": {
            "text/plain": [
              "              total    count  missing    mean  median     std  variance  \\\n",
              "weather     10886.0  10886.0        0    1.42    1.00    0.63      0.40   \n",
              "humidity    10886.0  10886.0        0   61.89   62.00   19.25    370.34   \n",
              "casual      10886.0  10886.0        0   36.02   17.00   49.96   2495.82   \n",
              "registered  10886.0  10886.0        0  155.55  118.00  151.04  22810.69   \n",
              "count       10886.0  10886.0        0  191.57  145.00  181.14  32810.30   \n",
              "temp        10886.0  10886.0        0   20.23   20.50    7.79     60.70   \n",
              "atemp       10886.0  10886.0        0   23.66   24.24    8.47     71.81   \n",
              "windspeed   10886.0  10886.0        0   12.80   13.00    8.16     66.65   \n",
              "\n",
              "            skewness  kurtosis   min     5%    10%    25%     50%     75%  \\\n",
              "weather         1.24      0.40  1.00   1.00   1.00   1.00    1.00    2.00   \n",
              "humidity       -0.09     -0.76  0.00  31.00  37.00  47.00   62.00   77.00   \n",
              "casual          2.50      7.55  0.00   0.00   1.00   4.00   17.00   49.00   \n",
              "registered      1.52      2.63  0.00   4.00   7.00  36.00  118.00  222.00   \n",
              "count           1.24      1.30  1.00   5.00   9.00  42.00  145.00  284.00   \n",
              "temp            0.00     -0.91  0.82   8.20   9.84  13.94   20.50   26.24   \n",
              "atemp          -0.10     -0.85  0.76   9.85  12.12  16.66   24.24   31.06   \n",
              "windspeed       0.59      0.63  0.00   0.00   0.00   7.00   13.00   17.00   \n",
              "\n",
              "               90%     95%     max  \n",
              "weather       2.00    3.00    4.00  \n",
              "humidity     88.00   93.00  100.00  \n",
              "casual       94.00  141.00  367.00  \n",
              "registered  354.00  464.00  886.00  \n",
              "count       452.00  563.75  977.00  \n",
              "temp         30.34   32.80   41.00  \n",
              "atemp        34.09   36.36   45.46  \n",
              "windspeed    24.00   28.00   57.00  "
            ],
            "text/html": [
              "\n",
              "  <div id=\"df-bd846722-b434-4f55-baa0-83a25ccd5951\">\n",
              "    <div class=\"colab-df-container\">\n",
              "      <div>\n",
              "<style scoped>\n",
              "    .dataframe tbody tr th:only-of-type {\n",
              "        vertical-align: middle;\n",
              "    }\n",
              "\n",
              "    .dataframe tbody tr th {\n",
              "        vertical-align: top;\n",
              "    }\n",
              "\n",
              "    .dataframe thead th {\n",
              "        text-align: right;\n",
              "    }\n",
              "</style>\n",
              "<table border=\"1\" class=\"dataframe\">\n",
              "  <thead>\n",
              "    <tr style=\"text-align: right;\">\n",
              "      <th></th>\n",
              "      <th>total</th>\n",
              "      <th>count</th>\n",
              "      <th>missing</th>\n",
              "      <th>mean</th>\n",
              "      <th>median</th>\n",
              "      <th>std</th>\n",
              "      <th>variance</th>\n",
              "      <th>skewness</th>\n",
              "      <th>kurtosis</th>\n",
              "      <th>min</th>\n",
              "      <th>5%</th>\n",
              "      <th>10%</th>\n",
              "      <th>25%</th>\n",
              "      <th>50%</th>\n",
              "      <th>75%</th>\n",
              "      <th>90%</th>\n",
              "      <th>95%</th>\n",
              "      <th>max</th>\n",
              "    </tr>\n",
              "  </thead>\n",
              "  <tbody>\n",
              "    <tr>\n",
              "      <th>weather</th>\n",
              "      <td>10886.0</td>\n",
              "      <td>10886.0</td>\n",
              "      <td>0</td>\n",
              "      <td>1.42</td>\n",
              "      <td>1.00</td>\n",
              "      <td>0.63</td>\n",
              "      <td>0.40</td>\n",
              "      <td>1.24</td>\n",
              "      <td>0.40</td>\n",
              "      <td>1.00</td>\n",
              "      <td>1.00</td>\n",
              "      <td>1.00</td>\n",
              "      <td>1.00</td>\n",
              "      <td>1.00</td>\n",
              "      <td>2.00</td>\n",
              "      <td>2.00</td>\n",
              "      <td>3.00</td>\n",
              "      <td>4.00</td>\n",
              "    </tr>\n",
              "    <tr>\n",
              "      <th>humidity</th>\n",
              "      <td>10886.0</td>\n",
              "      <td>10886.0</td>\n",
              "      <td>0</td>\n",
              "      <td>61.89</td>\n",
              "      <td>62.00</td>\n",
              "      <td>19.25</td>\n",
              "      <td>370.34</td>\n",
              "      <td>-0.09</td>\n",
              "      <td>-0.76</td>\n",
              "      <td>0.00</td>\n",
              "      <td>31.00</td>\n",
              "      <td>37.00</td>\n",
              "      <td>47.00</td>\n",
              "      <td>62.00</td>\n",
              "      <td>77.00</td>\n",
              "      <td>88.00</td>\n",
              "      <td>93.00</td>\n",
              "      <td>100.00</td>\n",
              "    </tr>\n",
              "    <tr>\n",
              "      <th>casual</th>\n",
              "      <td>10886.0</td>\n",
              "      <td>10886.0</td>\n",
              "      <td>0</td>\n",
              "      <td>36.02</td>\n",
              "      <td>17.00</td>\n",
              "      <td>49.96</td>\n",
              "      <td>2495.82</td>\n",
              "      <td>2.50</td>\n",
              "      <td>7.55</td>\n",
              "      <td>0.00</td>\n",
              "      <td>0.00</td>\n",
              "      <td>1.00</td>\n",
              "      <td>4.00</td>\n",
              "      <td>17.00</td>\n",
              "      <td>49.00</td>\n",
              "      <td>94.00</td>\n",
              "      <td>141.00</td>\n",
              "      <td>367.00</td>\n",
              "    </tr>\n",
              "    <tr>\n",
              "      <th>registered</th>\n",
              "      <td>10886.0</td>\n",
              "      <td>10886.0</td>\n",
              "      <td>0</td>\n",
              "      <td>155.55</td>\n",
              "      <td>118.00</td>\n",
              "      <td>151.04</td>\n",
              "      <td>22810.69</td>\n",
              "      <td>1.52</td>\n",
              "      <td>2.63</td>\n",
              "      <td>0.00</td>\n",
              "      <td>4.00</td>\n",
              "      <td>7.00</td>\n",
              "      <td>36.00</td>\n",
              "      <td>118.00</td>\n",
              "      <td>222.00</td>\n",
              "      <td>354.00</td>\n",
              "      <td>464.00</td>\n",
              "      <td>886.00</td>\n",
              "    </tr>\n",
              "    <tr>\n",
              "      <th>count</th>\n",
              "      <td>10886.0</td>\n",
              "      <td>10886.0</td>\n",
              "      <td>0</td>\n",
              "      <td>191.57</td>\n",
              "      <td>145.00</td>\n",
              "      <td>181.14</td>\n",
              "      <td>32810.30</td>\n",
              "      <td>1.24</td>\n",
              "      <td>1.30</td>\n",
              "      <td>1.00</td>\n",
              "      <td>5.00</td>\n",
              "      <td>9.00</td>\n",
              "      <td>42.00</td>\n",
              "      <td>145.00</td>\n",
              "      <td>284.00</td>\n",
              "      <td>452.00</td>\n",
              "      <td>563.75</td>\n",
              "      <td>977.00</td>\n",
              "    </tr>\n",
              "    <tr>\n",
              "      <th>temp</th>\n",
              "      <td>10886.0</td>\n",
              "      <td>10886.0</td>\n",
              "      <td>0</td>\n",
              "      <td>20.23</td>\n",
              "      <td>20.50</td>\n",
              "      <td>7.79</td>\n",
              "      <td>60.70</td>\n",
              "      <td>0.00</td>\n",
              "      <td>-0.91</td>\n",
              "      <td>0.82</td>\n",
              "      <td>8.20</td>\n",
              "      <td>9.84</td>\n",
              "      <td>13.94</td>\n",
              "      <td>20.50</td>\n",
              "      <td>26.24</td>\n",
              "      <td>30.34</td>\n",
              "      <td>32.80</td>\n",
              "      <td>41.00</td>\n",
              "    </tr>\n",
              "    <tr>\n",
              "      <th>atemp</th>\n",
              "      <td>10886.0</td>\n",
              "      <td>10886.0</td>\n",
              "      <td>0</td>\n",
              "      <td>23.66</td>\n",
              "      <td>24.24</td>\n",
              "      <td>8.47</td>\n",
              "      <td>71.81</td>\n",
              "      <td>-0.10</td>\n",
              "      <td>-0.85</td>\n",
              "      <td>0.76</td>\n",
              "      <td>9.85</td>\n",
              "      <td>12.12</td>\n",
              "      <td>16.66</td>\n",
              "      <td>24.24</td>\n",
              "      <td>31.06</td>\n",
              "      <td>34.09</td>\n",
              "      <td>36.36</td>\n",
              "      <td>45.46</td>\n",
              "    </tr>\n",
              "    <tr>\n",
              "      <th>windspeed</th>\n",
              "      <td>10886.0</td>\n",
              "      <td>10886.0</td>\n",
              "      <td>0</td>\n",
              "      <td>12.80</td>\n",
              "      <td>13.00</td>\n",
              "      <td>8.16</td>\n",
              "      <td>66.65</td>\n",
              "      <td>0.59</td>\n",
              "      <td>0.63</td>\n",
              "      <td>0.00</td>\n",
              "      <td>0.00</td>\n",
              "      <td>0.00</td>\n",
              "      <td>7.00</td>\n",
              "      <td>13.00</td>\n",
              "      <td>17.00</td>\n",
              "      <td>24.00</td>\n",
              "      <td>28.00</td>\n",
              "      <td>57.00</td>\n",
              "    </tr>\n",
              "  </tbody>\n",
              "</table>\n",
              "</div>\n",
              "      <button class=\"colab-df-convert\" onclick=\"convertToInteractive('df-bd846722-b434-4f55-baa0-83a25ccd5951')\"\n",
              "              title=\"Convert this dataframe to an interactive table.\"\n",
              "              style=\"display:none;\">\n",
              "        \n",
              "  <svg xmlns=\"http://www.w3.org/2000/svg\" height=\"24px\"viewBox=\"0 0 24 24\"\n",
              "       width=\"24px\">\n",
              "    <path d=\"M0 0h24v24H0V0z\" fill=\"none\"/>\n",
              "    <path d=\"M18.56 5.44l.94 2.06.94-2.06 2.06-.94-2.06-.94-.94-2.06-.94 2.06-2.06.94zm-11 1L8.5 8.5l.94-2.06 2.06-.94-2.06-.94L8.5 2.5l-.94 2.06-2.06.94zm10 10l.94 2.06.94-2.06 2.06-.94-2.06-.94-.94-2.06-.94 2.06-2.06.94z\"/><path d=\"M17.41 7.96l-1.37-1.37c-.4-.4-.92-.59-1.43-.59-.52 0-1.04.2-1.43.59L10.3 9.45l-7.72 7.72c-.78.78-.78 2.05 0 2.83L4 21.41c.39.39.9.59 1.41.59.51 0 1.02-.2 1.41-.59l7.78-7.78 2.81-2.81c.8-.78.8-2.07 0-2.86zM5.41 20L4 18.59l7.72-7.72 1.47 1.35L5.41 20z\"/>\n",
              "  </svg>\n",
              "      </button>\n",
              "      \n",
              "  <style>\n",
              "    .colab-df-container {\n",
              "      display:flex;\n",
              "      flex-wrap:wrap;\n",
              "      gap: 12px;\n",
              "    }\n",
              "\n",
              "    .colab-df-convert {\n",
              "      background-color: #E8F0FE;\n",
              "      border: none;\n",
              "      border-radius: 50%;\n",
              "      cursor: pointer;\n",
              "      display: none;\n",
              "      fill: #1967D2;\n",
              "      height: 32px;\n",
              "      padding: 0 0 0 0;\n",
              "      width: 32px;\n",
              "    }\n",
              "\n",
              "    .colab-df-convert:hover {\n",
              "      background-color: #E2EBFA;\n",
              "      box-shadow: 0px 1px 2px rgba(60, 64, 67, 0.3), 0px 1px 3px 1px rgba(60, 64, 67, 0.15);\n",
              "      fill: #174EA6;\n",
              "    }\n",
              "\n",
              "    [theme=dark] .colab-df-convert {\n",
              "      background-color: #3B4455;\n",
              "      fill: #D2E3FC;\n",
              "    }\n",
              "\n",
              "    [theme=dark] .colab-df-convert:hover {\n",
              "      background-color: #434B5C;\n",
              "      box-shadow: 0px 1px 3px 1px rgba(0, 0, 0, 0.15);\n",
              "      filter: drop-shadow(0px 1px 2px rgba(0, 0, 0, 0.3));\n",
              "      fill: #FFFFFF;\n",
              "    }\n",
              "  </style>\n",
              "\n",
              "      <script>\n",
              "        const buttonEl =\n",
              "          document.querySelector('#df-bd846722-b434-4f55-baa0-83a25ccd5951 button.colab-df-convert');\n",
              "        buttonEl.style.display =\n",
              "          google.colab.kernel.accessAllowed ? 'block' : 'none';\n",
              "\n",
              "        async function convertToInteractive(key) {\n",
              "          const element = document.querySelector('#df-bd846722-b434-4f55-baa0-83a25ccd5951');\n",
              "          const dataTable =\n",
              "            await google.colab.kernel.invokeFunction('convertToInteractive',\n",
              "                                                     [key], {});\n",
              "          if (!dataTable) return;\n",
              "\n",
              "          const docLinkHtml = 'Like what you see? Visit the ' +\n",
              "            '<a target=\"_blank\" href=https://colab.research.google.com/notebooks/data_table.ipynb>data table notebook</a>'\n",
              "            + ' to learn more about interactive tables.';\n",
              "          element.innerHTML = '';\n",
              "          dataTable['output_type'] = 'display_data';\n",
              "          await google.colab.output.renderOutput(dataTable, element);\n",
              "          const docLink = document.createElement('div');\n",
              "          docLink.innerHTML = docLinkHtml;\n",
              "          element.appendChild(docLink);\n",
              "        }\n",
              "      </script>\n",
              "    </div>\n",
              "  </div>\n",
              "  "
            ]
          },
          "metadata": {},
          "execution_count": 14
        }
      ],
      "source": [
        "DA1"
      ]
    },
    {
      "cell_type": "markdown",
      "metadata": {
        "id": "mItOS22EZkbs"
      },
      "source": [
        "#### 범주형 변수"
      ]
    },
    {
      "cell_type": "code",
      "execution_count": 15,
      "metadata": {
        "ExecuteTime": {
          "end_time": "2020-12-12T05:50:55.171626Z",
          "start_time": "2020-12-12T05:50:55.160656Z"
        },
        "id": "B4vZWfH2Zkbv"
      },
      "outputs": [],
      "source": [
        "# 범주형 변수 빈도분석\n",
        "def DA_cat(data, col_cat):\n",
        "    DA_cat = pd.DataFrame()\n",
        "    \n",
        "    for i in col_cat:\n",
        "        a = data[i].value_counts(dropna=False).to_frame().sort_index().rename(columns={i:'count'}).reset_index()\n",
        "        a['col_nm'] = i\n",
        "        a = a.rename(columns = {'index':'class'})\n",
        "        a = a[['col_nm','class','count']]\n",
        "        b=data[i].value_counts(dropna = False, normalize = True).to_frame().sort_index().rename(\n",
        "        columns = {i:'ratio'}).reset_index()\n",
        "        b = b['ratio'].to_frame()\n",
        "        b['ratio'] = b['ratio'].round(2)\n",
        "        c = pd.concat([a,b], axis = 1)\n",
        "        DA_cat = pd.concat([DA_cat, c], axis=0)\n",
        "    DA_cat = DA_cat.reset_index(drop=True)\n",
        "    return DA_cat"
      ]
    },
    {
      "cell_type": "code",
      "execution_count": 16,
      "metadata": {
        "ExecuteTime": {
          "end_time": "2020-12-12T05:50:55.225536Z",
          "start_time": "2020-12-12T05:50:55.175617Z"
        },
        "id": "QtDtycjXZkbw",
        "outputId": "6cfed617-60ab-41a4-e456-7ce0dd1945ba",
        "colab": {
          "base_uri": "https://localhost:8080/",
          "height": 300
        }
      },
      "outputs": [
        {
          "output_type": "execute_result",
          "data": {
            "text/plain": [
              "       col_nm class  count  ratio\n",
              "0      season     A   2686   0.25\n",
              "1      season     B   2733   0.25\n",
              "2      season     C   2733   0.25\n",
              "3      season     D   2734   0.25\n",
              "4     holiday     0  10575   0.97\n",
              "5     holiday     1    311   0.03\n",
              "6  workingday     0   3474   0.32\n",
              "7  workingday     1   7412   0.68"
            ],
            "text/html": [
              "\n",
              "  <div id=\"df-e48aaea5-d81d-4ca2-878c-9bf8fb1743cb\">\n",
              "    <div class=\"colab-df-container\">\n",
              "      <div>\n",
              "<style scoped>\n",
              "    .dataframe tbody tr th:only-of-type {\n",
              "        vertical-align: middle;\n",
              "    }\n",
              "\n",
              "    .dataframe tbody tr th {\n",
              "        vertical-align: top;\n",
              "    }\n",
              "\n",
              "    .dataframe thead th {\n",
              "        text-align: right;\n",
              "    }\n",
              "</style>\n",
              "<table border=\"1\" class=\"dataframe\">\n",
              "  <thead>\n",
              "    <tr style=\"text-align: right;\">\n",
              "      <th></th>\n",
              "      <th>col_nm</th>\n",
              "      <th>class</th>\n",
              "      <th>count</th>\n",
              "      <th>ratio</th>\n",
              "    </tr>\n",
              "  </thead>\n",
              "  <tbody>\n",
              "    <tr>\n",
              "      <th>0</th>\n",
              "      <td>season</td>\n",
              "      <td>A</td>\n",
              "      <td>2686</td>\n",
              "      <td>0.25</td>\n",
              "    </tr>\n",
              "    <tr>\n",
              "      <th>1</th>\n",
              "      <td>season</td>\n",
              "      <td>B</td>\n",
              "      <td>2733</td>\n",
              "      <td>0.25</td>\n",
              "    </tr>\n",
              "    <tr>\n",
              "      <th>2</th>\n",
              "      <td>season</td>\n",
              "      <td>C</td>\n",
              "      <td>2733</td>\n",
              "      <td>0.25</td>\n",
              "    </tr>\n",
              "    <tr>\n",
              "      <th>3</th>\n",
              "      <td>season</td>\n",
              "      <td>D</td>\n",
              "      <td>2734</td>\n",
              "      <td>0.25</td>\n",
              "    </tr>\n",
              "    <tr>\n",
              "      <th>4</th>\n",
              "      <td>holiday</td>\n",
              "      <td>0</td>\n",
              "      <td>10575</td>\n",
              "      <td>0.97</td>\n",
              "    </tr>\n",
              "    <tr>\n",
              "      <th>5</th>\n",
              "      <td>holiday</td>\n",
              "      <td>1</td>\n",
              "      <td>311</td>\n",
              "      <td>0.03</td>\n",
              "    </tr>\n",
              "    <tr>\n",
              "      <th>6</th>\n",
              "      <td>workingday</td>\n",
              "      <td>0</td>\n",
              "      <td>3474</td>\n",
              "      <td>0.32</td>\n",
              "    </tr>\n",
              "    <tr>\n",
              "      <th>7</th>\n",
              "      <td>workingday</td>\n",
              "      <td>1</td>\n",
              "      <td>7412</td>\n",
              "      <td>0.68</td>\n",
              "    </tr>\n",
              "  </tbody>\n",
              "</table>\n",
              "</div>\n",
              "      <button class=\"colab-df-convert\" onclick=\"convertToInteractive('df-e48aaea5-d81d-4ca2-878c-9bf8fb1743cb')\"\n",
              "              title=\"Convert this dataframe to an interactive table.\"\n",
              "              style=\"display:none;\">\n",
              "        \n",
              "  <svg xmlns=\"http://www.w3.org/2000/svg\" height=\"24px\"viewBox=\"0 0 24 24\"\n",
              "       width=\"24px\">\n",
              "    <path d=\"M0 0h24v24H0V0z\" fill=\"none\"/>\n",
              "    <path d=\"M18.56 5.44l.94 2.06.94-2.06 2.06-.94-2.06-.94-.94-2.06-.94 2.06-2.06.94zm-11 1L8.5 8.5l.94-2.06 2.06-.94-2.06-.94L8.5 2.5l-.94 2.06-2.06.94zm10 10l.94 2.06.94-2.06 2.06-.94-2.06-.94-.94-2.06-.94 2.06-2.06.94z\"/><path d=\"M17.41 7.96l-1.37-1.37c-.4-.4-.92-.59-1.43-.59-.52 0-1.04.2-1.43.59L10.3 9.45l-7.72 7.72c-.78.78-.78 2.05 0 2.83L4 21.41c.39.39.9.59 1.41.59.51 0 1.02-.2 1.41-.59l7.78-7.78 2.81-2.81c.8-.78.8-2.07 0-2.86zM5.41 20L4 18.59l7.72-7.72 1.47 1.35L5.41 20z\"/>\n",
              "  </svg>\n",
              "      </button>\n",
              "      \n",
              "  <style>\n",
              "    .colab-df-container {\n",
              "      display:flex;\n",
              "      flex-wrap:wrap;\n",
              "      gap: 12px;\n",
              "    }\n",
              "\n",
              "    .colab-df-convert {\n",
              "      background-color: #E8F0FE;\n",
              "      border: none;\n",
              "      border-radius: 50%;\n",
              "      cursor: pointer;\n",
              "      display: none;\n",
              "      fill: #1967D2;\n",
              "      height: 32px;\n",
              "      padding: 0 0 0 0;\n",
              "      width: 32px;\n",
              "    }\n",
              "\n",
              "    .colab-df-convert:hover {\n",
              "      background-color: #E2EBFA;\n",
              "      box-shadow: 0px 1px 2px rgba(60, 64, 67, 0.3), 0px 1px 3px 1px rgba(60, 64, 67, 0.15);\n",
              "      fill: #174EA6;\n",
              "    }\n",
              "\n",
              "    [theme=dark] .colab-df-convert {\n",
              "      background-color: #3B4455;\n",
              "      fill: #D2E3FC;\n",
              "    }\n",
              "\n",
              "    [theme=dark] .colab-df-convert:hover {\n",
              "      background-color: #434B5C;\n",
              "      box-shadow: 0px 1px 3px 1px rgba(0, 0, 0, 0.15);\n",
              "      filter: drop-shadow(0px 1px 2px rgba(0, 0, 0, 0.3));\n",
              "      fill: #FFFFFF;\n",
              "    }\n",
              "  </style>\n",
              "\n",
              "      <script>\n",
              "        const buttonEl =\n",
              "          document.querySelector('#df-e48aaea5-d81d-4ca2-878c-9bf8fb1743cb button.colab-df-convert');\n",
              "        buttonEl.style.display =\n",
              "          google.colab.kernel.accessAllowed ? 'block' : 'none';\n",
              "\n",
              "        async function convertToInteractive(key) {\n",
              "          const element = document.querySelector('#df-e48aaea5-d81d-4ca2-878c-9bf8fb1743cb');\n",
              "          const dataTable =\n",
              "            await google.colab.kernel.invokeFunction('convertToInteractive',\n",
              "                                                     [key], {});\n",
              "          if (!dataTable) return;\n",
              "\n",
              "          const docLinkHtml = 'Like what you see? Visit the ' +\n",
              "            '<a target=\"_blank\" href=https://colab.research.google.com/notebooks/data_table.ipynb>data table notebook</a>'\n",
              "            + ' to learn more about interactive tables.';\n",
              "          element.innerHTML = '';\n",
              "          dataTable['output_type'] = 'display_data';\n",
              "          await google.colab.output.renderOutput(dataTable, element);\n",
              "          const docLink = document.createElement('div');\n",
              "          docLink.innerHTML = docLinkHtml;\n",
              "          element.appendChild(docLink);\n",
              "        }\n",
              "      </script>\n",
              "    </div>\n",
              "  </div>\n",
              "  "
            ]
          },
          "metadata": {},
          "execution_count": 16
        }
      ],
      "source": [
        "DA2 = DA_cat(df,col_cat+col_bool)\n",
        "# DA2.to_csv('빈도분포분석_범주형.csv', encoding='cp949', errors='ignore')\n",
        "DA2"
      ]
    },
    {
      "cell_type": "markdown",
      "metadata": {
        "id": "L1FI5OM0Zkbz"
      },
      "source": [
        "### 전처리(중복값, 결측치, 이상치 처리)"
      ]
    },
    {
      "cell_type": "markdown",
      "metadata": {
        "id": "mZbyQFFAZkb0"
      },
      "source": [
        "#### 중복값"
      ]
    },
    {
      "cell_type": "code",
      "execution_count": 19,
      "metadata": {
        "ExecuteTime": {
          "end_time": "2020-12-12T05:50:55.257486Z",
          "start_time": "2020-12-12T05:50:55.232741Z"
        },
        "id": "KPjwOPoTZkb1",
        "outputId": "30b4556c-40ca-4746-feae-bba10d4f7a37",
        "colab": {
          "base_uri": "https://localhost:8080/",
          "height": 113
        }
      },
      "outputs": [
        {
          "output_type": "execute_result",
          "data": {
            "text/plain": [
              "Empty DataFrame\n",
              "Columns: [datetime, season, holiday, workingday, weather, temp, atemp, humidity, windspeed, casual, registered, count]\n",
              "Index: []"
            ],
            "text/html": [
              "\n",
              "  <div id=\"df-0149929f-af86-4e00-a0f4-f1633ce39130\">\n",
              "    <div class=\"colab-df-container\">\n",
              "      <div>\n",
              "<style scoped>\n",
              "    .dataframe tbody tr th:only-of-type {\n",
              "        vertical-align: middle;\n",
              "    }\n",
              "\n",
              "    .dataframe tbody tr th {\n",
              "        vertical-align: top;\n",
              "    }\n",
              "\n",
              "    .dataframe thead th {\n",
              "        text-align: right;\n",
              "    }\n",
              "</style>\n",
              "<table border=\"1\" class=\"dataframe\">\n",
              "  <thead>\n",
              "    <tr style=\"text-align: right;\">\n",
              "      <th></th>\n",
              "      <th>datetime</th>\n",
              "      <th>season</th>\n",
              "      <th>holiday</th>\n",
              "      <th>workingday</th>\n",
              "      <th>weather</th>\n",
              "      <th>temp</th>\n",
              "      <th>atemp</th>\n",
              "      <th>humidity</th>\n",
              "      <th>windspeed</th>\n",
              "      <th>casual</th>\n",
              "      <th>registered</th>\n",
              "      <th>count</th>\n",
              "    </tr>\n",
              "  </thead>\n",
              "  <tbody>\n",
              "  </tbody>\n",
              "</table>\n",
              "</div>\n",
              "      <button class=\"colab-df-convert\" onclick=\"convertToInteractive('df-0149929f-af86-4e00-a0f4-f1633ce39130')\"\n",
              "              title=\"Convert this dataframe to an interactive table.\"\n",
              "              style=\"display:none;\">\n",
              "        \n",
              "  <svg xmlns=\"http://www.w3.org/2000/svg\" height=\"24px\"viewBox=\"0 0 24 24\"\n",
              "       width=\"24px\">\n",
              "    <path d=\"M0 0h24v24H0V0z\" fill=\"none\"/>\n",
              "    <path d=\"M18.56 5.44l.94 2.06.94-2.06 2.06-.94-2.06-.94-.94-2.06-.94 2.06-2.06.94zm-11 1L8.5 8.5l.94-2.06 2.06-.94-2.06-.94L8.5 2.5l-.94 2.06-2.06.94zm10 10l.94 2.06.94-2.06 2.06-.94-2.06-.94-.94-2.06-.94 2.06-2.06.94z\"/><path d=\"M17.41 7.96l-1.37-1.37c-.4-.4-.92-.59-1.43-.59-.52 0-1.04.2-1.43.59L10.3 9.45l-7.72 7.72c-.78.78-.78 2.05 0 2.83L4 21.41c.39.39.9.59 1.41.59.51 0 1.02-.2 1.41-.59l7.78-7.78 2.81-2.81c.8-.78.8-2.07 0-2.86zM5.41 20L4 18.59l7.72-7.72 1.47 1.35L5.41 20z\"/>\n",
              "  </svg>\n",
              "      </button>\n",
              "      \n",
              "  <style>\n",
              "    .colab-df-container {\n",
              "      display:flex;\n",
              "      flex-wrap:wrap;\n",
              "      gap: 12px;\n",
              "    }\n",
              "\n",
              "    .colab-df-convert {\n",
              "      background-color: #E8F0FE;\n",
              "      border: none;\n",
              "      border-radius: 50%;\n",
              "      cursor: pointer;\n",
              "      display: none;\n",
              "      fill: #1967D2;\n",
              "      height: 32px;\n",
              "      padding: 0 0 0 0;\n",
              "      width: 32px;\n",
              "    }\n",
              "\n",
              "    .colab-df-convert:hover {\n",
              "      background-color: #E2EBFA;\n",
              "      box-shadow: 0px 1px 2px rgba(60, 64, 67, 0.3), 0px 1px 3px 1px rgba(60, 64, 67, 0.15);\n",
              "      fill: #174EA6;\n",
              "    }\n",
              "\n",
              "    [theme=dark] .colab-df-convert {\n",
              "      background-color: #3B4455;\n",
              "      fill: #D2E3FC;\n",
              "    }\n",
              "\n",
              "    [theme=dark] .colab-df-convert:hover {\n",
              "      background-color: #434B5C;\n",
              "      box-shadow: 0px 1px 3px 1px rgba(0, 0, 0, 0.15);\n",
              "      filter: drop-shadow(0px 1px 2px rgba(0, 0, 0, 0.3));\n",
              "      fill: #FFFFFF;\n",
              "    }\n",
              "  </style>\n",
              "\n",
              "      <script>\n",
              "        const buttonEl =\n",
              "          document.querySelector('#df-0149929f-af86-4e00-a0f4-f1633ce39130 button.colab-df-convert');\n",
              "        buttonEl.style.display =\n",
              "          google.colab.kernel.accessAllowed ? 'block' : 'none';\n",
              "\n",
              "        async function convertToInteractive(key) {\n",
              "          const element = document.querySelector('#df-0149929f-af86-4e00-a0f4-f1633ce39130');\n",
              "          const dataTable =\n",
              "            await google.colab.kernel.invokeFunction('convertToInteractive',\n",
              "                                                     [key], {});\n",
              "          if (!dataTable) return;\n",
              "\n",
              "          const docLinkHtml = 'Like what you see? Visit the ' +\n",
              "            '<a target=\"_blank\" href=https://colab.research.google.com/notebooks/data_table.ipynb>data table notebook</a>'\n",
              "            + ' to learn more about interactive tables.';\n",
              "          element.innerHTML = '';\n",
              "          dataTable['output_type'] = 'display_data';\n",
              "          await google.colab.output.renderOutput(dataTable, element);\n",
              "          const docLink = document.createElement('div');\n",
              "          docLink.innerHTML = docLinkHtml;\n",
              "          element.appendChild(docLink);\n",
              "        }\n",
              "      </script>\n",
              "    </div>\n",
              "  </div>\n",
              "  "
            ]
          },
          "metadata": {},
          "execution_count": 19
        }
      ],
      "source": [
        "# 중복값 확인\n",
        "df[df.duplicated(keep=False)] \n",
        "\n",
        "# 중복값 있다면\n",
        "#df.drop_duplicates() # 행 내용이 동일한 경우 제거\n",
        "#df.drop_duplicates(['col1'], keep='last') # col1기준 중복값중 마지막만 남겨둠"
      ]
    },
    {
      "cell_type": "markdown",
      "metadata": {
        "id": "inRfUQc2Zkb4"
      },
      "source": [
        "#### 결측치"
      ]
    },
    {
      "cell_type": "code",
      "execution_count": 20,
      "metadata": {
        "ExecuteTime": {
          "end_time": "2020-12-12T05:50:55.792610Z",
          "start_time": "2020-12-12T05:50:55.783407Z"
        },
        "id": "zksAbeOIZkb5",
        "outputId": "2fb69186-c63a-497e-fae3-031731316c4d",
        "colab": {
          "base_uri": "https://localhost:8080/"
        }
      },
      "outputs": [
        {
          "output_type": "execute_result",
          "data": {
            "text/plain": [
              "datetime      0\n",
              "season        0\n",
              "holiday       0\n",
              "workingday    0\n",
              "weather       0\n",
              "temp          0\n",
              "atemp         0\n",
              "humidity      0\n",
              "windspeed     0\n",
              "casual        0\n",
              "registered    0\n",
              "count         0\n",
              "dtype: int64"
            ]
          },
          "metadata": {},
          "execution_count": 20
        }
      ],
      "source": [
        "df.isna().sum()"
      ]
    },
    {
      "cell_type": "code",
      "execution_count": null,
      "metadata": {
        "ExecuteTime": {
          "end_time": "2020-12-06T03:30:26.942446Z",
          "start_time": "2020-12-06T03:30:26.856Z"
        },
        "id": "dPAf5woyZkb6"
      },
      "outputs": [],
      "source": [
        "# na 처리 : dropna(), fillna()\n",
        "df.dropna() # nan이 하나라도 들어간 행은 삭제\n",
        "df.dropna(how = 'all') # 데이터가 모두 nan인 행만 삭제 / 초기값:'any'\n",
        "## Parameters\n",
        "# axis = 'index' / 'columns'\n",
        "# subset = ['col1', 'col2', ...] # 적용 대상 컬럼 특정\n",
        "\n",
        "df.fillna(0) # na를 0으로 채우기\n",
        "\n",
        "new_data = {'a':0, 'b':1, 'c':-999}\n",
        "df.fillna(new_data) # na 발생 시 a 열에는 0, b 열에는 1, c 열에는 -999로 채움\n",
        "df.fillna(new_data, limit = 2) # 각 열별로 2개의 nan까지 대체\n",
        "df.fillna(method = 'ffill') # 열 별로 바로 앞의 데이터로 채움\n",
        "df.fillna(method = 'bfill') # 열 별로 바로 뒤의 데이터로 채움\n",
        "# ffill의 경우 첫 행이거나, 앞의 데이터가 nan일 경우 nan유지. bfill도 반대로 동일\n",
        "\n",
        "# 평균값, 중앙값으로 대치\n",
        "df.loc[19,'Leaflets'] = df['Leaflets'].mean() # 평균값으로 \n",
        "df.loc[19,'Leaflets'] = df['Leaflets'].median # 중앙값으로"
      ]
    },
    {
      "cell_type": "markdown",
      "metadata": {
        "id": "HHX0VuciZkb7"
      },
      "source": [
        "#### 이상치"
      ]
    },
    {
      "cell_type": "code",
      "execution_count": 21,
      "metadata": {
        "ExecuteTime": {
          "end_time": "2020-12-12T05:51:53.742749Z",
          "start_time": "2020-12-12T05:51:53.738793Z"
        },
        "id": "X6kX3u0dZkb7"
      },
      "outputs": [],
      "source": [
        "tmp = 'humidity'"
      ]
    },
    {
      "cell_type": "code",
      "execution_count": 22,
      "metadata": {
        "ExecuteTime": {
          "end_time": "2020-12-12T05:51:53.908542Z",
          "start_time": "2020-12-12T05:51:53.745739Z"
        },
        "scrolled": true,
        "id": "2M9KTyLBZkb8",
        "outputId": "e40413f6-dc75-4fd8-fbe8-afbd3c3b2798",
        "colab": {
          "base_uri": "https://localhost:8080/",
          "height": 345
        }
      },
      "outputs": [
        {
          "output_type": "stream",
          "name": "stderr",
          "text": [
            "/usr/local/lib/python3.7/dist-packages/seaborn/_core.py:1319: UserWarning: Horizontal orientation ignored with only `y` specified.\n",
            "  warnings.warn(single_var_warning.format(\"Horizontal\", \"y\"))\n"
          ]
        },
        {
          "output_type": "execute_result",
          "data": {
            "text/plain": [
              "<matplotlib.axes._subplots.AxesSubplot at 0x7fe46c77ad50>"
            ]
          },
          "metadata": {},
          "execution_count": 22
        },
        {
          "output_type": "stream",
          "name": "stderr",
          "text": [
            "WARNING:matplotlib.font_manager:findfont: Font family ['Malgun Gothic'] not found. Falling back to DejaVu Sans.\n"
          ]
        },
        {
          "output_type": "display_data",
          "data": {
            "text/plain": [
              "<Figure size 432x288 with 1 Axes>"
            ],
            "image/png": "[encoded data removed]"
          },
          "metadata": {
            "needs_background": "light"
          }
        }
      ],
      "source": [
        "sns.boxplot(y = tmp, data = df, orient = 'h')"
      ]
    },
    {
      "cell_type": "code",
      "execution_count": 23,
      "metadata": {
        "ExecuteTime": {
          "end_time": "2020-12-12T05:51:53.945104Z",
          "start_time": "2020-12-12T05:51:53.910576Z"
        },
        "scrolled": true,
        "id": "5SStOFTdZkb9",
        "outputId": "9a77d285-8dfb-4ed2-a226-228bd46aa371",
        "colab": {
          "base_uri": "https://localhost:8080/",
          "height": 1000
        }
      },
      "outputs": [
        {
          "output_type": "stream",
          "name": "stdout",
          "text": [
            "(22, 12)\n"
          ]
        },
        {
          "output_type": "execute_result",
          "data": {
            "text/plain": [
              "                datetime season  holiday  workingday  weather   temp   atemp  \\\n",
              "1091 2011-03-10 00:00:00      A        0           1        3  13.94  15.910   \n",
              "1092 2011-03-10 01:00:00      A        0           1        3  13.94  15.910   \n",
              "1093 2011-03-10 02:00:00      A        0           1        3  13.94  15.910   \n",
              "1094 2011-03-10 05:00:00      A        0           1        3  14.76  17.425   \n",
              "1095 2011-03-10 06:00:00      A        0           1        3  14.76  16.665   \n",
              "1096 2011-03-10 07:00:00      A        0           1        3  15.58  19.695   \n",
              "1097 2011-03-10 08:00:00      A        0           1        3  15.58  19.695   \n",
              "1098 2011-03-10 09:00:00      A        0           1        3  16.40  20.455   \n",
              "1099 2011-03-10 10:00:00      A        0           1        3  16.40  20.455   \n",
              "1100 2011-03-10 11:00:00      A        0           1        3  16.40  20.455   \n",
              "1101 2011-03-10 12:00:00      A        0           1        3  17.22  21.210   \n",
              "1102 2011-03-10 13:00:00      A        0           1        3  17.22  21.210   \n",
              "1103 2011-03-10 14:00:00      A        0           1        3  18.04  21.970   \n",
              "1104 2011-03-10 15:00:00      A        0           1        3  18.04  21.970   \n",
              "1105 2011-03-10 16:00:00      A        0           1        3  17.22  21.210   \n",
              "1106 2011-03-10 17:00:00      A        0           1        2  18.04  21.970   \n",
              "1107 2011-03-10 18:00:00      A        0           1        3  18.04  21.970   \n",
              "1108 2011-03-10 19:00:00      A        0           1        3  18.04  21.970   \n",
              "1109 2011-03-10 20:00:00      A        0           1        3  14.76  16.665   \n",
              "1110 2011-03-10 21:00:00      A        0           1        3  14.76  17.425   \n",
              "1111 2011-03-10 22:00:00      A        0           1        2  13.94  16.665   \n",
              "1112 2011-03-10 23:00:00      A        0           1        3  13.94  17.425   \n",
              "\n",
              "      humidity  windspeed  casual  registered  count  \n",
              "1091         0    16.9979       3           0      3  \n",
              "1092         0    16.9979       0           2      2  \n",
              "1093         0    16.9979       0           1      1  \n",
              "1094         0    12.9980       1           2      3  \n",
              "1095         0    22.0028       0          12     12  \n",
              "1096         0    15.0013       1          36     37  \n",
              "1097         0    19.0012       1          43     44  \n",
              "1098         0    15.0013       1          23     24  \n",
              "1099         0    11.0014       0          17     17  \n",
              "1100         0    16.9979       6           5     11  \n",
              "1101         0    15.0013       4          30     34  \n",
              "1102         0    15.0013       1          11     12  \n",
              "1103         0    19.9995       0          12     12  \n",
              "1104         0    15.0013       3          11     14  \n",
              "1105         0    16.9979       1          20     21  \n",
              "1106         0    26.0027       2         109    111  \n",
              "1107         0    23.9994       2          80     82  \n",
              "1108         0    39.0007       5          51     56  \n",
              "1109         0    22.0028       9          29     38  \n",
              "1110         0    15.0013       1          27     28  \n",
              "1111         0     8.9981       4          30     34  \n",
              "1112         0     6.0032       1          26     27  "
            ],
            "text/html": [
              "\n",
              "  <div id=\"df-a616da85-d90a-489b-840d-b738a9d88356\">\n",
              "    <div class=\"colab-df-container\">\n",
              "      <div>\n",
              "<style scoped>\n",
              "    .dataframe tbody tr th:only-of-type {\n",
              "        vertical-align: middle;\n",
              "    }\n",
              "\n",
              "    .dataframe tbody tr th {\n",
              "        vertical-align: top;\n",
              "    }\n",
              "\n",
              "    .dataframe thead th {\n",
              "        text-align: right;\n",
              "    }\n",
              "</style>\n",
              "<table border=\"1\" class=\"dataframe\">\n",
              "  <thead>\n",
              "    <tr style=\"text-align: right;\">\n",
              "      <th></th>\n",
              "      <th>datetime</th>\n",
              "      <th>season</th>\n",
              "      <th>holiday</th>\n",
              "      <th>workingday</th>\n",
              "      <th>weather</th>\n",
              "      <th>temp</th>\n",
              "      <th>atemp</th>\n",
              "      <th>humidity</th>\n",
              "      <th>windspeed</th>\n",
              "      <th>casual</th>\n",
              "      <th>registered</th>\n",
              "      <th>count</th>\n",
              "    </tr>\n",
              "  </thead>\n",
              "  <tbody>\n",
              "    <tr>\n",
              "      <th>1091</th>\n",
              "      <td>2011-03-10 00:00:00</td>\n",
              "      <td>A</td>\n",
              "      <td>0</td>\n",
              "      <td>1</td>\n",
              "      <td>3</td>\n",
              "      <td>13.94</td>\n",
              "      <td>15.910</td>\n",
              "      <td>0</td>\n",
              "      <td>16.9979</td>\n",
              "      <td>3</td>\n",
              "      <td>0</td>\n",
              "      <td>3</td>\n",
              "    </tr>\n",
              "    <tr>\n",
              "      <th>1092</th>\n",
              "      <td>2011-03-10 01:00:00</td>\n",
              "      <td>A</td>\n",
              "      <td>0</td>\n",
              "      <td>1</td>\n",
              "      <td>3</td>\n",
              "      <td>13.94</td>\n",
              "      <td>15.910</td>\n",
              "      <td>0</td>\n",
              "      <td>16.9979</td>\n",
              "      <td>0</td>\n",
              "      <td>2</td>\n",
              "      <td>2</td>\n",
              "    </tr>\n",
              "    <tr>\n",
              "      <th>1093</th>\n",
              "      <td>2011-03-10 02:00:00</td>\n",
              "      <td>A</td>\n",
              "      <td>0</td>\n",
              "      <td>1</td>\n",
              "      <td>3</td>\n",
              "      <td>13.94</td>\n",
              "      <td>15.910</td>\n",
              "      <td>0</td>\n",
              "      <td>16.9979</td>\n",
              "      <td>0</td>\n",
              "      <td>1</td>\n",
              "      <td>1</td>\n",
              "    </tr>\n",
              "    <tr>\n",
              "      <th>1094</th>\n",
              "      <td>2011-03-10 05:00:00</td>\n",
              "      <td>A</td>\n",
              "      <td>0</td>\n",
              "      <td>1</td>\n",
              "      <td>3</td>\n",
              "      <td>14.76</td>\n",
              "      <td>17.425</td>\n",
              "      <td>0</td>\n",
              "      <td>12.9980</td>\n",
              "      <td>1</td>\n",
              "      <td>2</td>\n",
              "      <td>3</td>\n",
              "    </tr>\n",
              "    <tr>\n",
              "      <th>1095</th>\n",
              "      <td>2011-03-10 06:00:00</td>\n",
              "      <td>A</td>\n",
              "      <td>0</td>\n",
              "      <td>1</td>\n",
              "      <td>3</td>\n",
              "      <td>14.76</td>\n",
              "      <td>16.665</td>\n",
              "      <td>0</td>\n",
              "      <td>22.0028</td>\n",
              "      <td>0</td>\n",
              "      <td>12</td>\n",
              "      <td>12</td>\n",
              "    </tr>\n",
              "    <tr>\n",
              "      <th>1096</th>\n",
              "      <td>2011-03-10 07:00:00</td>\n",
              "      <td>A</td>\n",
              "      <td>0</td>\n",
              "      <td>1</td>\n",
              "      <td>3</td>\n",
              "      <td>15.58</td>\n",
              "      <td>19.695</td>\n",
              "      <td>0</td>\n",
              "      <td>15.0013</td>\n",
              "      <td>1</td>\n",
              "      <td>36</td>\n",
              "      <td>37</td>\n",
              "    </tr>\n",
              "    <tr>\n",
              "      <th>1097</th>\n",
              "      <td>2011-03-10 08:00:00</td>\n",
              "      <td>A</td>\n",
              "      <td>0</td>\n",
              "      <td>1</td>\n",
              "      <td>3</td>\n",
              "      <td>15.58</td>\n",
              "      <td>19.695</td>\n",
              "      <td>0</td>\n",
              "      <td>19.0012</td>\n",
              "      <td>1</td>\n",
              "      <td>43</td>\n",
              "      <td>44</td>\n",
              "    </tr>\n",
              "    <tr>\n",
              "      <th>1098</th>\n",
              "      <td>2011-03-10 09:00:00</td>\n",
              "      <td>A</td>\n",
              "      <td>0</td>\n",
              "      <td>1</td>\n",
              "      <td>3</td>\n",
              "      <td>16.40</td>\n",
              "      <td>20.455</td>\n",
              "      <td>0</td>\n",
              "      <td>15.0013</td>\n",
              "      <td>1</td>\n",
              "      <td>23</td>\n",
              "      <td>24</td>\n",
              "    </tr>\n",
              "    <tr>\n",
              "      <th>1099</th>\n",
              "      <td>2011-03-10 10:00:00</td>\n",
              "      <td>A</td>\n",
              "      <td>0</td>\n",
              "      <td>1</td>\n",
              "      <td>3</td>\n",
              "      <td>16.40</td>\n",
              "      <td>20.455</td>\n",
              "      <td>0</td>\n",
              "      <td>11.0014</td>\n",
              "      <td>0</td>\n",
              "      <td>17</td>\n",
              "      <td>17</td>\n",
              "    </tr>\n",
              "    <tr>\n",
              "      <th>1100</th>\n",
              "      <td>2011-03-10 11:00:00</td>\n",
              "      <td>A</td>\n",
              "      <td>0</td>\n",
              "      <td>1</td>\n",
              "      <td>3</td>\n",
              "      <td>16.40</td>\n",
              "      <td>20.455</td>\n",
              "      <td>0</td>\n",
              "      <td>16.9979</td>\n",
              "      <td>6</td>\n",
              "      <td>5</td>\n",
              "      <td>11</td>\n",
              "    </tr>\n",
              "    <tr>\n",
              "      <th>1101</th>\n",
              "      <td>2011-03-10 12:00:00</td>\n",
              "      <td>A</td>\n",
              "      <td>0</td>\n",
              "      <td>1</td>\n",
              "      <td>3</td>\n",
              "      <td>17.22</td>\n",
              "      <td>21.210</td>\n",
              "      <td>0</td>\n",
              "      <td>15.0013</td>\n",
              "      <td>4</td>\n",
              "      <td>30</td>\n",
              "      <td>34</td>\n",
              "    </tr>\n",
              "    <tr>\n",
              "      <th>1102</th>\n",
              "      <td>2011-03-10 13:00:00</td>\n",
              "      <td>A</td>\n",
              "      <td>0</td>\n",
              "      <td>1</td>\n",
              "      <td>3</td>\n",
              "      <td>17.22</td>\n",
              "      <td>21.210</td>\n",
              "      <td>0</td>\n",
              "      <td>15.0013</td>\n",
              "      <td>1</td>\n",
              "      <td>11</td>\n",
              "      <td>12</td>\n",
              "    </tr>\n",
              "    <tr>\n",
              "      <th>1103</th>\n",
              "      <td>2011-03-10 14:00:00</td>\n",
              "      <td>A</td>\n",
              "      <td>0</td>\n",
              "      <td>1</td>\n",
              "      <td>3</td>\n",
              "      <td>18.04</td>\n",
              "      <td>21.970</td>\n",
              "      <td>0</td>\n",
              "      <td>19.9995</td>\n",
              "      <td>0</td>\n",
              "      <td>12</td>\n",
              "      <td>12</td>\n",
              "    </tr>\n",
              "    <tr>\n",
              "      <th>1104</th>\n",
              "      <td>2011-03-10 15:00:00</td>\n",
              "      <td>A</td>\n",
              "      <td>0</td>\n",
              "      <td>1</td>\n",
              "      <td>3</td>\n",
              "      <td>18.04</td>\n",
              "      <td>21.970</td>\n",
              "      <td>0</td>\n",
              "      <td>15.0013</td>\n",
              "      <td>3</td>\n",
              "      <td>11</td>\n",
              "      <td>14</td>\n",
              "    </tr>\n",
              "    <tr>\n",
              "      <th>1105</th>\n",
              "      <td>2011-03-10 16:00:00</td>\n",
              "      <td>A</td>\n",
              "      <td>0</td>\n",
              "      <td>1</td>\n",
              "      <td>3</td>\n",
              "      <td>17.22</td>\n",
              "      <td>21.210</td>\n",
              "      <td>0</td>\n",
              "      <td>16.9979</td>\n",
              "      <td>1</td>\n",
              "      <td>20</td>\n",
              "      <td>21</td>\n",
              "    </tr>\n",
              "    <tr>\n",
              "      <th>1106</th>\n",
              "      <td>2011-03-10 17:00:00</td>\n",
              "      <td>A</td>\n",
              "      <td>0</td>\n",
              "      <td>1</td>\n",
              "      <td>2</td>\n",
              "      <td>18.04</td>\n",
              "      <td>21.970</td>\n",
              "      <td>0</td>\n",
              "      <td>26.0027</td>\n",
              "      <td>2</td>\n",
              "      <td>109</td>\n",
              "      <td>111</td>\n",
              "    </tr>\n",
              "    <tr>\n",
              "      <th>1107</th>\n",
              "      <td>2011-03-10 18:00:00</td>\n",
              "      <td>A</td>\n",
              "      <td>0</td>\n",
              "      <td>1</td>\n",
              "      <td>3</td>\n",
              "      <td>18.04</td>\n",
              "      <td>21.970</td>\n",
              "      <td>0</td>\n",
              "      <td>23.9994</td>\n",
              "      <td>2</td>\n",
              "      <td>80</td>\n",
              "      <td>82</td>\n",
              "    </tr>\n",
              "    <tr>\n",
              "      <th>1108</th>\n",
              "      <td>2011-03-10 19:00:00</td>\n",
              "      <td>A</td>\n",
              "      <td>0</td>\n",
              "      <td>1</td>\n",
              "      <td>3</td>\n",
              "      <td>18.04</td>\n",
              "      <td>21.970</td>\n",
              "      <td>0</td>\n",
              "      <td>39.0007</td>\n",
              "      <td>5</td>\n",
              "      <td>51</td>\n",
              "      <td>56</td>\n",
              "    </tr>\n",
              "    <tr>\n",
              "      <th>1109</th>\n",
              "      <td>2011-03-10 20:00:00</td>\n",
              "      <td>A</td>\n",
              "      <td>0</td>\n",
              "      <td>1</td>\n",
              "      <td>3</td>\n",
              "      <td>14.76</td>\n",
              "      <td>16.665</td>\n",
              "      <td>0</td>\n",
              "      <td>22.0028</td>\n",
              "      <td>9</td>\n",
              "      <td>29</td>\n",
              "      <td>38</td>\n",
              "    </tr>\n",
              "    <tr>\n",
              "      <th>1110</th>\n",
              "      <td>2011-03-10 21:00:00</td>\n",
              "      <td>A</td>\n",
              "      <td>0</td>\n",
              "      <td>1</td>\n",
              "      <td>3</td>\n",
              "      <td>14.76</td>\n",
              "      <td>17.425</td>\n",
              "      <td>0</td>\n",
              "      <td>15.0013</td>\n",
              "      <td>1</td>\n",
              "      <td>27</td>\n",
              "      <td>28</td>\n",
              "    </tr>\n",
              "    <tr>\n",
              "      <th>1111</th>\n",
              "      <td>2011-03-10 22:00:00</td>\n",
              "      <td>A</td>\n",
              "      <td>0</td>\n",
              "      <td>1</td>\n",
              "      <td>2</td>\n",
              "      <td>13.94</td>\n",
              "      <td>16.665</td>\n",
              "      <td>0</td>\n",
              "      <td>8.9981</td>\n",
              "      <td>4</td>\n",
              "      <td>30</td>\n",
              "      <td>34</td>\n",
              "    </tr>\n",
              "    <tr>\n",
              "      <th>1112</th>\n",
              "      <td>2011-03-10 23:00:00</td>\n",
              "      <td>A</td>\n",
              "      <td>0</td>\n",
              "      <td>1</td>\n",
              "      <td>3</td>\n",
              "      <td>13.94</td>\n",
              "      <td>17.425</td>\n",
              "      <td>0</td>\n",
              "      <td>6.0032</td>\n",
              "      <td>1</td>\n",
              "      <td>26</td>\n",
              "      <td>27</td>\n",
              "    </tr>\n",
              "  </tbody>\n",
              "</table>\n",
              "</div>\n",
              "      <button class=\"colab-df-convert\" onclick=\"convertToInteractive('df-a616da85-d90a-489b-840d-b738a9d88356')\"\n",
              "              title=\"Convert this dataframe to an interactive table.\"\n",
              "              style=\"display:none;\">\n",
              "        \n",
              "  <svg xmlns=\"http://www.w3.org/2000/svg\" height=\"24px\"viewBox=\"0 0 24 24\"\n",
              "       width=\"24px\">\n",
              "    <path d=\"M0 0h24v24H0V0z\" fill=\"none\"/>\n",
              "    <path d=\"M18.56 5.44l.94 2.06.94-2.06 2.06-.94-2.06-.94-.94-2.06-.94 2.06-2.06.94zm-11 1L8.5 8.5l.94-2.06 2.06-.94-2.06-.94L8.5 2.5l-.94 2.06-2.06.94zm10 10l.94 2.06.94-2.06 2.06-.94-2.06-.94-.94-2.06-.94 2.06-2.06.94z\"/><path d=\"M17.41 7.96l-1.37-1.37c-.4-.4-.92-.59-1.43-.59-.52 0-1.04.2-1.43.59L10.3 9.45l-7.72 7.72c-.78.78-.78 2.05 0 2.83L4 21.41c.39.39.9.59 1.41.59.51 0 1.02-.2 1.41-.59l7.78-7.78 2.81-2.81c.8-.78.8-2.07 0-2.86zM5.41 20L4 18.59l7.72-7.72 1.47 1.35L5.41 20z\"/>\n",
              "  </svg>\n",
              "      </button>\n",
              "      \n",
              "  <style>\n",
              "    .colab-df-container {\n",
              "      display:flex;\n",
              "      flex-wrap:wrap;\n",
              "      gap: 12px;\n",
              "    }\n",
              "\n",
              "    .colab-df-convert {\n",
              "      background-color: #E8F0FE;\n",
              "      border: none;\n",
              "      border-radius: 50%;\n",
              "      cursor: pointer;\n",
              "      display: none;\n",
              "      fill: #1967D2;\n",
              "      height: 32px;\n",
              "      padding: 0 0 0 0;\n",
              "      width: 32px;\n",
              "    }\n",
              "\n",
              "    .colab-df-convert:hover {\n",
              "      background-color: #E2EBFA;\n",
              "      box-shadow: 0px 1px 2px rgba(60, 64, 67, 0.3), 0px 1px 3px 1px rgba(60, 64, 67, 0.15);\n",
              "      fill: #174EA6;\n",
              "    }\n",
              "\n",
              "    [theme=dark] .colab-df-convert {\n",
              "      background-color: #3B4455;\n",
              "      fill: #D2E3FC;\n",
              "    }\n",
              "\n",
              "    [theme=dark] .colab-df-convert:hover {\n",
              "      background-color: #434B5C;\n",
              "      box-shadow: 0px 1px 3px 1px rgba(0, 0, 0, 0.15);\n",
              "      filter: drop-shadow(0px 1px 2px rgba(0, 0, 0, 0.3));\n",
              "      fill: #FFFFFF;\n",
              "    }\n",
              "  </style>\n",
              "\n",
              "      <script>\n",
              "        const buttonEl =\n",
              "          document.querySelector('#df-a616da85-d90a-489b-840d-b738a9d88356 button.colab-df-convert');\n",
              "        buttonEl.style.display =\n",
              "          google.colab.kernel.accessAllowed ? 'block' : 'none';\n",
              "\n",
              "        async function convertToInteractive(key) {\n",
              "          const element = document.querySelector('#df-a616da85-d90a-489b-840d-b738a9d88356');\n",
              "          const dataTable =\n",
              "            await google.colab.kernel.invokeFunction('convertToInteractive',\n",
              "                                                     [key], {});\n",
              "          if (!dataTable) return;\n",
              "\n",
              "          const docLinkHtml = 'Like what you see? Visit the ' +\n",
              "            '<a target=\"_blank\" href=https://colab.research.google.com/notebooks/data_table.ipynb>data table notebook</a>'\n",
              "            + ' to learn more about interactive tables.';\n",
              "          element.innerHTML = '';\n",
              "          dataTable['output_type'] = 'display_data';\n",
              "          await google.colab.output.renderOutput(dataTable, element);\n",
              "          const docLink = document.createElement('div');\n",
              "          docLink.innerHTML = docLinkHtml;\n",
              "          element.appendChild(docLink);\n",
              "        }\n",
              "      </script>\n",
              "    </div>\n",
              "  </div>\n",
              "  "
            ]
          },
          "metadata": {},
          "execution_count": 23
        }
      ],
      "source": [
        "# IQR 활용\n",
        "q1 = df[tmp].quantile(.25)\n",
        "q3 = df[tmp].quantile(.75)\n",
        "iqr = q3-q1\n",
        "min_iqr = q1 - 1.5 * iqr\n",
        "max_iqr = q3 + 1.5 * iqr\n",
        "min_from_all = df[tmp].min()\n",
        "max_from_all = df[tmp].max()\n",
        "if (min_iqr < min_from_all) :\n",
        "    min_iqr = min_from_all\n",
        "if (max_iqr > max_from_all) :\n",
        "    max_iqr = max_from_all\n",
        "\n",
        "outlier = df[(df[tmp] < min_iqr ) | (df[tmp] > max_iqr)] # 이상치 조회\n",
        "outlier_index = outlier.index\n",
        "print(outlier.shape)\n",
        "outlier"
      ]
    },
    {
      "cell_type": "markdown",
      "metadata": {
        "id": "wpRdKZF_ZkcA"
      },
      "source": [
        "##### 이상치 해결 방법"
      ]
    },
    {
      "cell_type": "code",
      "source": [
        "# min/max값으로 보정\n",
        "#df[tmp] = df[tmp].clip(lower=min_iqr, upper=max_iqr) # 이상치 보정 (상한, 하한 지정)\n",
        "\n",
        "# 이상치 제거\n",
        "df = df.drop(outlier_index, axis=0)\n",
        "df.shape"
      ],
      "metadata": {
        "id": "YUsJx0C49NDm",
        "outputId": "45062caf-bf5e-49c3-9234-100a8b4c6b19",
        "colab": {
          "base_uri": "https://localhost:8080/"
        }
      },
      "execution_count": 28,
      "outputs": [
        {
          "output_type": "execute_result",
          "data": {
            "text/plain": [
              "(10864, 12)"
            ]
          },
          "metadata": {},
          "execution_count": 28
        }
      ]
    },
    {
      "cell_type": "markdown",
      "metadata": {
        "id": "t8Q-ozr4ZkcD"
      },
      "source": [
        "### 요약데이터로 변환"
      ]
    },
    {
      "cell_type": "code",
      "execution_count": 29,
      "metadata": {
        "ExecuteTime": {
          "end_time": "2020-12-12T05:51:53.989875Z",
          "start_time": "2020-12-12T05:51:53.971345Z"
        },
        "id": "D3obLTu8ZkcE",
        "outputId": "74c0e978-1a17-4ea2-ab40-c03bc291d081",
        "colab": {
          "base_uri": "https://localhost:8080/",
          "height": 206
        }
      },
      "outputs": [
        {
          "output_type": "execute_result",
          "data": {
            "text/plain": [
              "        datetime   temp  windspeed   count\n",
              "season                                    \n",
              "A           2664   0.82  14.612957  311875\n",
              "B           2733   9.84  13.405607  588282\n",
              "C           2733  15.58  11.508862  640662\n",
              "D           2734   5.74  11.678147  544034"
            ],
            "text/html": [
              "\n",
              "  <div id=\"df-a3a7d1fa-fbb1-48c5-b459-a1d5428b5904\">\n",
              "    <div class=\"colab-df-container\">\n",
              "      <div>\n",
              "<style scoped>\n",
              "    .dataframe tbody tr th:only-of-type {\n",
              "        vertical-align: middle;\n",
              "    }\n",
              "\n",
              "    .dataframe tbody tr th {\n",
              "        vertical-align: top;\n",
              "    }\n",
              "\n",
              "    .dataframe thead th {\n",
              "        text-align: right;\n",
              "    }\n",
              "</style>\n",
              "<table border=\"1\" class=\"dataframe\">\n",
              "  <thead>\n",
              "    <tr style=\"text-align: right;\">\n",
              "      <th></th>\n",
              "      <th>datetime</th>\n",
              "      <th>temp</th>\n",
              "      <th>windspeed</th>\n",
              "      <th>count</th>\n",
              "    </tr>\n",
              "    <tr>\n",
              "      <th>season</th>\n",
              "      <th></th>\n",
              "      <th></th>\n",
              "      <th></th>\n",
              "      <th></th>\n",
              "    </tr>\n",
              "  </thead>\n",
              "  <tbody>\n",
              "    <tr>\n",
              "      <th>A</th>\n",
              "      <td>2664</td>\n",
              "      <td>0.82</td>\n",
              "      <td>14.612957</td>\n",
              "      <td>311875</td>\n",
              "    </tr>\n",
              "    <tr>\n",
              "      <th>B</th>\n",
              "      <td>2733</td>\n",
              "      <td>9.84</td>\n",
              "      <td>13.405607</td>\n",
              "      <td>588282</td>\n",
              "    </tr>\n",
              "    <tr>\n",
              "      <th>C</th>\n",
              "      <td>2733</td>\n",
              "      <td>15.58</td>\n",
              "      <td>11.508862</td>\n",
              "      <td>640662</td>\n",
              "    </tr>\n",
              "    <tr>\n",
              "      <th>D</th>\n",
              "      <td>2734</td>\n",
              "      <td>5.74</td>\n",
              "      <td>11.678147</td>\n",
              "      <td>544034</td>\n",
              "    </tr>\n",
              "  </tbody>\n",
              "</table>\n",
              "</div>\n",
              "      <button class=\"colab-df-convert\" onclick=\"convertToInteractive('df-a3a7d1fa-fbb1-48c5-b459-a1d5428b5904')\"\n",
              "              title=\"Convert this dataframe to an interactive table.\"\n",
              "              style=\"display:none;\">\n",
              "        \n",
              "  <svg xmlns=\"http://www.w3.org/2000/svg\" height=\"24px\"viewBox=\"0 0 24 24\"\n",
              "       width=\"24px\">\n",
              "    <path d=\"M0 0h24v24H0V0z\" fill=\"none\"/>\n",
              "    <path d=\"M18.56 5.44l.94 2.06.94-2.06 2.06-.94-2.06-.94-.94-2.06-.94 2.06-2.06.94zm-11 1L8.5 8.5l.94-2.06 2.06-.94-2.06-.94L8.5 2.5l-.94 2.06-2.06.94zm10 10l.94 2.06.94-2.06 2.06-.94-2.06-.94-.94-2.06-.94 2.06-2.06.94z\"/><path d=\"M17.41 7.96l-1.37-1.37c-.4-.4-.92-.59-1.43-.59-.52 0-1.04.2-1.43.59L10.3 9.45l-7.72 7.72c-.78.78-.78 2.05 0 2.83L4 21.41c.39.39.9.59 1.41.59.51 0 1.02-.2 1.41-.59l7.78-7.78 2.81-2.81c.8-.78.8-2.07 0-2.86zM5.41 20L4 18.59l7.72-7.72 1.47 1.35L5.41 20z\"/>\n",
              "  </svg>\n",
              "      </button>\n",
              "      \n",
              "  <style>\n",
              "    .colab-df-container {\n",
              "      display:flex;\n",
              "      flex-wrap:wrap;\n",
              "      gap: 12px;\n",
              "    }\n",
              "\n",
              "    .colab-df-convert {\n",
              "      background-color: #E8F0FE;\n",
              "      border: none;\n",
              "      border-radius: 50%;\n",
              "      cursor: pointer;\n",
              "      display: none;\n",
              "      fill: #1967D2;\n",
              "      height: 32px;\n",
              "      padding: 0 0 0 0;\n",
              "      width: 32px;\n",
              "    }\n",
              "\n",
              "    .colab-df-convert:hover {\n",
              "      background-color: #E2EBFA;\n",
              "      box-shadow: 0px 1px 2px rgba(60, 64, 67, 0.3), 0px 1px 3px 1px rgba(60, 64, 67, 0.15);\n",
              "      fill: #174EA6;\n",
              "    }\n",
              "\n",
              "    [theme=dark] .colab-df-convert {\n",
              "      background-color: #3B4455;\n",
              "      fill: #D2E3FC;\n",
              "    }\n",
              "\n",
              "    [theme=dark] .colab-df-convert:hover {\n",
              "      background-color: #434B5C;\n",
              "      box-shadow: 0px 1px 3px 1px rgba(0, 0, 0, 0.15);\n",
              "      filter: drop-shadow(0px 1px 2px rgba(0, 0, 0, 0.3));\n",
              "      fill: #FFFFFF;\n",
              "    }\n",
              "  </style>\n",
              "\n",
              "      <script>\n",
              "        const buttonEl =\n",
              "          document.querySelector('#df-a3a7d1fa-fbb1-48c5-b459-a1d5428b5904 button.colab-df-convert');\n",
              "        buttonEl.style.display =\n",
              "          google.colab.kernel.accessAllowed ? 'block' : 'none';\n",
              "\n",
              "        async function convertToInteractive(key) {\n",
              "          const element = document.querySelector('#df-a3a7d1fa-fbb1-48c5-b459-a1d5428b5904');\n",
              "          const dataTable =\n",
              "            await google.colab.kernel.invokeFunction('convertToInteractive',\n",
              "                                                     [key], {});\n",
              "          if (!dataTable) return;\n",
              "\n",
              "          const docLinkHtml = 'Like what you see? Visit the ' +\n",
              "            '<a target=\"_blank\" href=https://colab.research.google.com/notebooks/data_table.ipynb>data table notebook</a>'\n",
              "            + ' to learn more about interactive tables.';\n",
              "          element.innerHTML = '';\n",
              "          dataTable['output_type'] = 'display_data';\n",
              "          await google.colab.output.renderOutput(dataTable, element);\n",
              "          const docLink = document.createElement('div');\n",
              "          docLink.innerHTML = docLinkHtml;\n",
              "          element.appendChild(docLink);\n",
              "        }\n",
              "      </script>\n",
              "    </div>\n",
              "  </div>\n",
              "  "
            ]
          },
          "metadata": {},
          "execution_count": 29
        }
      ],
      "source": [
        "df.groupby('season').aggregate({'datetime':'count','temp': 'min', 'windspeed':np.mean, 'count': np.sum})"
      ]
    },
    {
      "cell_type": "markdown",
      "metadata": {
        "id": "HWP-S3J3ZkcF"
      },
      "source": [
        "### 파생변수 생성 (파머 책 p.452 참고)"
      ]
    },
    {
      "cell_type": "code",
      "execution_count": 30,
      "metadata": {
        "ExecuteTime": {
          "end_time": "2020-12-12T05:51:54.009379Z",
          "start_time": "2020-12-12T05:51:53.991871Z"
        },
        "id": "sBX4kS1VZkcH"
      },
      "outputs": [],
      "source": [
        "# Recency\n",
        "today = pd.to_datetime('2020-12-13') # 아니면 그냥 각 ID별로 최대값을 today에서 빼기 = ID별 Recency가 같음\n",
        "cond1 = (today-df['datetime']) >= pd.Timedelta('3000 days')\n",
        "cond2 = ((today-df['datetime']) < pd.Timedelta('3000 days'))&((today-df['datetime']) >= pd.Timedelta('2000 days'))\n",
        "cond3 = (today-df['datetime']) < pd.Timedelta('2000 days')\n",
        "\n",
        "df.loc[cond1, 'Recency'] = 1\n",
        "df.loc[cond2, 'Recency'] = 2\n",
        "df.loc[cond3, 'Recency'] = 3"
      ]
    },
    {
      "cell_type": "code",
      "execution_count": 31,
      "metadata": {
        "ExecuteTime": {
          "end_time": "2020-12-12T05:51:54.024357Z",
          "start_time": "2020-12-12T05:51:54.011355Z"
        },
        "id": "-I_299KlZkcJ"
      },
      "outputs": [],
      "source": [
        "# Frenquency (빈도)  아니면 발생 count\n",
        "df.loc[df['count']<=10, 'Frequency'] = 1\n",
        "df.loc[(df['count']>10)&(df['count']<=20), 'Frequency'] = 2\n",
        "df.loc[df['count']>20, 'Frequency'] = 3"
      ]
    },
    {
      "cell_type": "code",
      "execution_count": 33,
      "metadata": {
        "ExecuteTime": {
          "end_time": "2020-12-12T05:51:54.034293Z",
          "start_time": "2020-12-12T05:51:54.027313Z"
        },
        "id": "oWoZ4lJDZkcJ"
      },
      "outputs": [],
      "source": [
        "# Monetary (거래규모) 아니면 발생 sum\n",
        "df['Monetary'] = df['count'] * df['temp']"
      ]
    },
    {
      "cell_type": "code",
      "execution_count": 34,
      "metadata": {
        "ExecuteTime": {
          "end_time": "2020-12-12T05:51:54.329475Z",
          "start_time": "2020-12-12T05:51:54.037323Z"
        },
        "id": "-FSUx8cwZkcK"
      },
      "outputs": [],
      "source": [
        "df['year'] = df['datetime'].map(lambda x: x.year)\n",
        "df['month'] = df['datetime'].map(lambda x: x.month)\n",
        "df['day'] = df['datetime'].map(lambda x: x.day)\n",
        "df['hour'] = df['datetime'].map(lambda x: x.hour)\n",
        "df['minute'] = df['datetime'].map(lambda x: x.minute)"
      ]
    },
    {
      "cell_type": "code",
      "execution_count": 35,
      "metadata": {
        "ExecuteTime": {
          "end_time": "2020-12-12T05:51:54.357461Z",
          "start_time": "2020-12-12T05:51:54.333466Z"
        },
        "id": "WnqblpBsZkcL",
        "outputId": "61959c0e-f83a-4732-a2cd-adcc13532f2f",
        "colab": {
          "base_uri": "https://localhost:8080/",
          "height": 311
        }
      },
      "outputs": [
        {
          "output_type": "execute_result",
          "data": {
            "text/plain": [
              "             datetime season  holiday  workingday  weather  temp   atemp  \\\n",
              "0 2011-01-01 00:00:00      A        0           0        1  9.84  14.395   \n",
              "1 2011-01-01 01:00:00      A        0           0        1  9.02  13.635   \n",
              "2 2011-01-01 02:00:00      A        0           0        1  9.02  13.635   \n",
              "\n",
              "   humidity  windspeed  casual  registered  count  Recency  Frequency  \\\n",
              "0        81        0.0       3          13     16      1.0        2.0   \n",
              "1        80        0.0       8          32     40      1.0        3.0   \n",
              "2        80        0.0       5          27     32      1.0        3.0   \n",
              "\n",
              "   Monetary  year  month  day  hour  minute  \n",
              "0    157.44  2011      1    1     0       0  \n",
              "1    360.80  2011      1    1     1       0  \n",
              "2    288.64  2011      1    1     2       0  "
            ],
            "text/html": [
              "\n",
              "  <div id=\"df-26bfcf15-946d-40b0-a85f-04bc16fed54d\">\n",
              "    <div class=\"colab-df-container\">\n",
              "      <div>\n",
              "<style scoped>\n",
              "    .dataframe tbody tr th:only-of-type {\n",
              "        vertical-align: middle;\n",
              "    }\n",
              "\n",
              "    .dataframe tbody tr th {\n",
              "        vertical-align: top;\n",
              "    }\n",
              "\n",
              "    .dataframe thead th {\n",
              "        text-align: right;\n",
              "    }\n",
              "</style>\n",
              "<table border=\"1\" class=\"dataframe\">\n",
              "  <thead>\n",
              "    <tr style=\"text-align: right;\">\n",
              "      <th></th>\n",
              "      <th>datetime</th>\n",
              "      <th>season</th>\n",
              "      <th>holiday</th>\n",
              "      <th>workingday</th>\n",
              "      <th>weather</th>\n",
              "      <th>temp</th>\n",
              "      <th>atemp</th>\n",
              "      <th>humidity</th>\n",
              "      <th>windspeed</th>\n",
              "      <th>casual</th>\n",
              "      <th>registered</th>\n",
              "      <th>count</th>\n",
              "      <th>Recency</th>\n",
              "      <th>Frequency</th>\n",
              "      <th>Monetary</th>\n",
              "      <th>year</th>\n",
              "      <th>month</th>\n",
              "      <th>day</th>\n",
              "      <th>hour</th>\n",
              "      <th>minute</th>\n",
              "    </tr>\n",
              "  </thead>\n",
              "  <tbody>\n",
              "    <tr>\n",
              "      <th>0</th>\n",
              "      <td>2011-01-01 00:00:00</td>\n",
              "      <td>A</td>\n",
              "      <td>0</td>\n",
              "      <td>0</td>\n",
              "      <td>1</td>\n",
              "      <td>9.84</td>\n",
              "      <td>14.395</td>\n",
              "      <td>81</td>\n",
              "      <td>0.0</td>\n",
              "      <td>3</td>\n",
              "      <td>13</td>\n",
              "      <td>16</td>\n",
              "      <td>1.0</td>\n",
              "      <td>2.0</td>\n",
              "      <td>157.44</td>\n",
              "      <td>2011</td>\n",
              "      <td>1</td>\n",
              "      <td>1</td>\n",
              "      <td>0</td>\n",
              "      <td>0</td>\n",
              "    </tr>\n",
              "    <tr>\n",
              "      <th>1</th>\n",
              "      <td>2011-01-01 01:00:00</td>\n",
              "      <td>A</td>\n",
              "      <td>0</td>\n",
              "      <td>0</td>\n",
              "      <td>1</td>\n",
              "      <td>9.02</td>\n",
              "      <td>13.635</td>\n",
              "      <td>80</td>\n",
              "      <td>0.0</td>\n",
              "      <td>8</td>\n",
              "      <td>32</td>\n",
              "      <td>40</td>\n",
              "      <td>1.0</td>\n",
              "      <td>3.0</td>\n",
              "      <td>360.80</td>\n",
              "      <td>2011</td>\n",
              "      <td>1</td>\n",
              "      <td>1</td>\n",
              "      <td>1</td>\n",
              "      <td>0</td>\n",
              "    </tr>\n",
              "    <tr>\n",
              "      <th>2</th>\n",
              "      <td>2011-01-01 02:00:00</td>\n",
              "      <td>A</td>\n",
              "      <td>0</td>\n",
              "      <td>0</td>\n",
              "      <td>1</td>\n",
              "      <td>9.02</td>\n",
              "      <td>13.635</td>\n",
              "      <td>80</td>\n",
              "      <td>0.0</td>\n",
              "      <td>5</td>\n",
              "      <td>27</td>\n",
              "      <td>32</td>\n",
              "      <td>1.0</td>\n",
              "      <td>3.0</td>\n",
              "      <td>288.64</td>\n",
              "      <td>2011</td>\n",
              "      <td>1</td>\n",
              "      <td>1</td>\n",
              "      <td>2</td>\n",
              "      <td>0</td>\n",
              "    </tr>\n",
              "  </tbody>\n",
              "</table>\n",
              "</div>\n",
              "      <button class=\"colab-df-convert\" onclick=\"convertToInteractive('df-26bfcf15-946d-40b0-a85f-04bc16fed54d')\"\n",
              "              title=\"Convert this dataframe to an interactive table.\"\n",
              "              style=\"display:none;\">\n",
              "        \n",
              "  <svg xmlns=\"http://www.w3.org/2000/svg\" height=\"24px\"viewBox=\"0 0 24 24\"\n",
              "       width=\"24px\">\n",
              "    <path d=\"M0 0h24v24H0V0z\" fill=\"none\"/>\n",
              "    <path d=\"M18.56 5.44l.94 2.06.94-2.06 2.06-.94-2.06-.94-.94-2.06-.94 2.06-2.06.94zm-11 1L8.5 8.5l.94-2.06 2.06-.94-2.06-.94L8.5 2.5l-.94 2.06-2.06.94zm10 10l.94 2.06.94-2.06 2.06-.94-2.06-.94-.94-2.06-.94 2.06-2.06.94z\"/><path d=\"M17.41 7.96l-1.37-1.37c-.4-.4-.92-.59-1.43-.59-.52 0-1.04.2-1.43.59L10.3 9.45l-7.72 7.72c-.78.78-.78 2.05 0 2.83L4 21.41c.39.39.9.59 1.41.59.51 0 1.02-.2 1.41-.59l7.78-7.78 2.81-2.81c.8-.78.8-2.07 0-2.86zM5.41 20L4 18.59l7.72-7.72 1.47 1.35L5.41 20z\"/>\n",
              "  </svg>\n",
              "      </button>\n",
              "      \n",
              "  <style>\n",
              "    .colab-df-container {\n",
              "      display:flex;\n",
              "      flex-wrap:wrap;\n",
              "      gap: 12px;\n",
              "    }\n",
              "\n",
              "    .colab-df-convert {\n",
              "      background-color: #E8F0FE;\n",
              "      border: none;\n",
              "      border-radius: 50%;\n",
              "      cursor: pointer;\n",
              "      display: none;\n",
              "      fill: #1967D2;\n",
              "      height: 32px;\n",
              "      padding: 0 0 0 0;\n",
              "      width: 32px;\n",
              "    }\n",
              "\n",
              "    .colab-df-convert:hover {\n",
              "      background-color: #E2EBFA;\n",
              "      box-shadow: 0px 1px 2px rgba(60, 64, 67, 0.3), 0px 1px 3px 1px rgba(60, 64, 67, 0.15);\n",
              "      fill: #174EA6;\n",
              "    }\n",
              "\n",
              "    [theme=dark] .colab-df-convert {\n",
              "      background-color: #3B4455;\n",
              "      fill: #D2E3FC;\n",
              "    }\n",
              "\n",
              "    [theme=dark] .colab-df-convert:hover {\n",
              "      background-color: #434B5C;\n",
              "      box-shadow: 0px 1px 3px 1px rgba(0, 0, 0, 0.15);\n",
              "      filter: drop-shadow(0px 1px 2px rgba(0, 0, 0, 0.3));\n",
              "      fill: #FFFFFF;\n",
              "    }\n",
              "  </style>\n",
              "\n",
              "      <script>\n",
              "        const buttonEl =\n",
              "          document.querySelector('#df-26bfcf15-946d-40b0-a85f-04bc16fed54d button.colab-df-convert');\n",
              "        buttonEl.style.display =\n",
              "          google.colab.kernel.accessAllowed ? 'block' : 'none';\n",
              "\n",
              "        async function convertToInteractive(key) {\n",
              "          const element = document.querySelector('#df-26bfcf15-946d-40b0-a85f-04bc16fed54d');\n",
              "          const dataTable =\n",
              "            await google.colab.kernel.invokeFunction('convertToInteractive',\n",
              "                                                     [key], {});\n",
              "          if (!dataTable) return;\n",
              "\n",
              "          const docLinkHtml = 'Like what you see? Visit the ' +\n",
              "            '<a target=\"_blank\" href=https://colab.research.google.com/notebooks/data_table.ipynb>data table notebook</a>'\n",
              "            + ' to learn more about interactive tables.';\n",
              "          element.innerHTML = '';\n",
              "          dataTable['output_type'] = 'display_data';\n",
              "          await google.colab.output.renderOutput(dataTable, element);\n",
              "          const docLink = document.createElement('div');\n",
              "          docLink.innerHTML = docLinkHtml;\n",
              "          element.appendChild(docLink);\n",
              "        }\n",
              "      </script>\n",
              "    </div>\n",
              "  </div>\n",
              "  "
            ]
          },
          "metadata": {},
          "execution_count": 35
        }
      ],
      "source": [
        "df.head(3)"
      ]
    },
    {
      "cell_type": "markdown",
      "metadata": {
        "id": "aNJlC4yUZkcM"
      },
      "source": [
        "### 데이터 마트 DQ Check, 변수선택및 EDA"
      ]
    },
    {
      "cell_type": "markdown",
      "metadata": {
        "id": "Cb8_k4GcZkcM"
      },
      "source": [
        "#### DQ Check"
      ]
    },
    {
      "cell_type": "code",
      "execution_count": 36,
      "metadata": {
        "ExecuteTime": {
          "end_time": "2020-12-12T05:51:54.364977Z",
          "start_time": "2020-12-12T05:51:54.359995Z"
        },
        "id": "6f-pheDuZkcN"
      },
      "outputs": [],
      "source": [
        "col_num = ['weather', 'temp', 'atemp', 'humidity', 'windspeed', 'casual', 'registered', 'count', 'Monetary']\n",
        "col_cat = ['season', 'holiday', 'workingday', 'Recency', 'Frequency']"
      ]
    },
    {
      "cell_type": "code",
      "execution_count": 37,
      "metadata": {
        "ExecuteTime": {
          "end_time": "2020-12-12T05:51:54.454518Z",
          "start_time": "2020-12-12T05:51:54.367967Z"
        },
        "id": "9QzA-i4ZZkcQ",
        "outputId": "0880f159-4fe6-4640-d62d-8940d245fdcb",
        "colab": {
          "base_uri": "https://localhost:8080/",
          "height": 395
        }
      },
      "outputs": [
        {
          "output_type": "execute_result",
          "data": {
            "text/plain": [
              "              total    count  missing     mean   median      std     variance  \\\n",
              "weather     10864.0  10864.0        0     1.42     1.00     0.63         0.40   \n",
              "temp        10864.0  10864.0        0    20.24    20.50     7.80        60.78   \n",
              "atemp       10864.0  10864.0        0    23.66    24.24     8.48        71.91   \n",
              "humidity    10864.0  10864.0        0    62.01    62.00    19.06       363.32   \n",
              "windspeed   10864.0  10864.0        0    12.79    13.00     8.16        66.66   \n",
              "casual      10864.0  10864.0        0    36.09    17.00    49.99      2498.53   \n",
              "registered  10864.0  10864.0        0   155.81   119.00   151.08     22821.59   \n",
              "count       10864.0  10864.0        0   191.90   146.00   181.17     32821.26   \n",
              "Monetary    10864.0  10864.0        0  4440.41  2642.86  5024.94  25247714.04   \n",
              "\n",
              "            skewness  kurtosis   min     5%     10%     25%      50%      75%  \\\n",
              "weather         1.25      0.42  1.00   1.00    1.00    1.00     1.00     2.00   \n",
              "temp            0.00     -0.92  0.82   8.20    9.84   13.94    20.50    26.24   \n",
              "atemp          -0.11     -0.85  0.76   9.85   12.12   16.66    24.24    31.06   \n",
              "humidity       -0.04     -0.89  8.00  31.00   37.00   47.00    62.00    77.00   \n",
              "windspeed       0.59      0.63  0.00   0.00    0.00    7.00    13.00    17.00   \n",
              "casual          2.49      7.54  0.00   0.00    1.00    4.00    17.00    49.00   \n",
              "registered      1.52      2.62  0.00   4.00    7.00   36.00   119.00   223.00   \n",
              "count           1.24      1.30  1.00   5.00    9.00   43.00   146.00   284.00   \n",
              "Monetary        1.66      2.88  0.82  63.96  139.40  619.51  2642.86  6509.16   \n",
              "\n",
              "                 90%       95%       max  \n",
              "weather         2.00      3.00      4.00  \n",
              "temp           30.34     32.80     41.00  \n",
              "atemp          34.09     36.36     45.46  \n",
              "humidity       88.00     93.00    100.00  \n",
              "windspeed      24.00     28.00     57.00  \n",
              "casual         94.00    141.00    367.00  \n",
              "registered    354.00    464.00    886.00  \n",
              "count         453.00    564.00    977.00  \n",
              "Monetary    11670.08  15170.00  30157.14  "
            ],
            "text/html": [
              "\n",
              "  <div id=\"df-198042e1-8a75-413c-b70f-3f031adbbac9\">\n",
              "    <div class=\"colab-df-container\">\n",
              "      <div>\n",
              "<style scoped>\n",
              "    .dataframe tbody tr th:only-of-type {\n",
              "        vertical-align: middle;\n",
              "    }\n",
              "\n",
              "    .dataframe tbody tr th {\n",
              "        vertical-align: top;\n",
              "    }\n",
              "\n",
              "    .dataframe thead th {\n",
              "        text-align: right;\n",
              "    }\n",
              "</style>\n",
              "<table border=\"1\" class=\"dataframe\">\n",
              "  <thead>\n",
              "    <tr style=\"text-align: right;\">\n",
              "      <th></th>\n",
              "      <th>total</th>\n",
              "      <th>count</th>\n",
              "      <th>missing</th>\n",
              "      <th>mean</th>\n",
              "      <th>median</th>\n",
              "      <th>std</th>\n",
              "      <th>variance</th>\n",
              "      <th>skewness</th>\n",
              "      <th>kurtosis</th>\n",
              "      <th>min</th>\n",
              "      <th>5%</th>\n",
              "      <th>10%</th>\n",
              "      <th>25%</th>\n",
              "      <th>50%</th>\n",
              "      <th>75%</th>\n",
              "      <th>90%</th>\n",
              "      <th>95%</th>\n",
              "      <th>max</th>\n",
              "    </tr>\n",
              "  </thead>\n",
              "  <tbody>\n",
              "    <tr>\n",
              "      <th>weather</th>\n",
              "      <td>10864.0</td>\n",
              "      <td>10864.0</td>\n",
              "      <td>0</td>\n",
              "      <td>1.42</td>\n",
              "      <td>1.00</td>\n",
              "      <td>0.63</td>\n",
              "      <td>0.40</td>\n",
              "      <td>1.25</td>\n",
              "      <td>0.42</td>\n",
              "      <td>1.00</td>\n",
              "      <td>1.00</td>\n",
              "      <td>1.00</td>\n",
              "      <td>1.00</td>\n",
              "      <td>1.00</td>\n",
              "      <td>2.00</td>\n",
              "      <td>2.00</td>\n",
              "      <td>3.00</td>\n",
              "      <td>4.00</td>\n",
              "    </tr>\n",
              "    <tr>\n",
              "      <th>temp</th>\n",
              "      <td>10864.0</td>\n",
              "      <td>10864.0</td>\n",
              "      <td>0</td>\n",
              "      <td>20.24</td>\n",
              "      <td>20.50</td>\n",
              "      <td>7.80</td>\n",
              "      <td>60.78</td>\n",
              "      <td>0.00</td>\n",
              "      <td>-0.92</td>\n",
              "      <td>0.82</td>\n",
              "      <td>8.20</td>\n",
              "      <td>9.84</td>\n",
              "      <td>13.94</td>\n",
              "      <td>20.50</td>\n",
              "      <td>26.24</td>\n",
              "      <td>30.34</td>\n",
              "      <td>32.80</td>\n",
              "      <td>41.00</td>\n",
              "    </tr>\n",
              "    <tr>\n",
              "      <th>atemp</th>\n",
              "      <td>10864.0</td>\n",
              "      <td>10864.0</td>\n",
              "      <td>0</td>\n",
              "      <td>23.66</td>\n",
              "      <td>24.24</td>\n",
              "      <td>8.48</td>\n",
              "      <td>71.91</td>\n",
              "      <td>-0.11</td>\n",
              "      <td>-0.85</td>\n",
              "      <td>0.76</td>\n",
              "      <td>9.85</td>\n",
              "      <td>12.12</td>\n",
              "      <td>16.66</td>\n",
              "      <td>24.24</td>\n",
              "      <td>31.06</td>\n",
              "      <td>34.09</td>\n",
              "      <td>36.36</td>\n",
              "      <td>45.46</td>\n",
              "    </tr>\n",
              "    <tr>\n",
              "      <th>humidity</th>\n",
              "      <td>10864.0</td>\n",
              "      <td>10864.0</td>\n",
              "      <td>0</td>\n",
              "      <td>62.01</td>\n",
              "      <td>62.00</td>\n",
              "      <td>19.06</td>\n",
              "      <td>363.32</td>\n",
              "      <td>-0.04</td>\n",
              "      <td>-0.89</td>\n",
              "      <td>8.00</td>\n",
              "      <td>31.00</td>\n",
              "      <td>37.00</td>\n",
              "      <td>47.00</td>\n",
              "      <td>62.00</td>\n",
              "      <td>77.00</td>\n",
              "      <td>88.00</td>\n",
              "      <td>93.00</td>\n",
              "      <td>100.00</td>\n",
              "    </tr>\n",
              "    <tr>\n",
              "      <th>windspeed</th>\n",
              "      <td>10864.0</td>\n",
              "      <td>10864.0</td>\n",
              "      <td>0</td>\n",
              "      <td>12.79</td>\n",
              "      <td>13.00</td>\n",
              "      <td>8.16</td>\n",
              "      <td>66.66</td>\n",
              "      <td>0.59</td>\n",
              "      <td>0.63</td>\n",
              "      <td>0.00</td>\n",
              "      <td>0.00</td>\n",
              "      <td>0.00</td>\n",
              "      <td>7.00</td>\n",
              "      <td>13.00</td>\n",
              "      <td>17.00</td>\n",
              "      <td>24.00</td>\n",
              "      <td>28.00</td>\n",
              "      <td>57.00</td>\n",
              "    </tr>\n",
              "    <tr>\n",
              "      <th>casual</th>\n",
              "      <td>10864.0</td>\n",
              "      <td>10864.0</td>\n",
              "      <td>0</td>\n",
              "      <td>36.09</td>\n",
              "      <td>17.00</td>\n",
              "      <td>49.99</td>\n",
              "      <td>2498.53</td>\n",
              "      <td>2.49</td>\n",
              "      <td>7.54</td>\n",
              "      <td>0.00</td>\n",
              "      <td>0.00</td>\n",
              "      <td>1.00</td>\n",
              "      <td>4.00</td>\n",
              "      <td>17.00</td>\n",
              "      <td>49.00</td>\n",
              "      <td>94.00</td>\n",
              "      <td>141.00</td>\n",
              "      <td>367.00</td>\n",
              "    </tr>\n",
              "    <tr>\n",
              "      <th>registered</th>\n",
              "      <td>10864.0</td>\n",
              "      <td>10864.0</td>\n",
              "      <td>0</td>\n",
              "      <td>155.81</td>\n",
              "      <td>119.00</td>\n",
              "      <td>151.08</td>\n",
              "      <td>22821.59</td>\n",
              "      <td>1.52</td>\n",
              "      <td>2.62</td>\n",
              "      <td>0.00</td>\n",
              "      <td>4.00</td>\n",
              "      <td>7.00</td>\n",
              "      <td>36.00</td>\n",
              "      <td>119.00</td>\n",
              "      <td>223.00</td>\n",
              "      <td>354.00</td>\n",
              "      <td>464.00</td>\n",
              "      <td>886.00</td>\n",
              "    </tr>\n",
              "    <tr>\n",
              "      <th>count</th>\n",
              "      <td>10864.0</td>\n",
              "      <td>10864.0</td>\n",
              "      <td>0</td>\n",
              "      <td>191.90</td>\n",
              "      <td>146.00</td>\n",
              "      <td>181.17</td>\n",
              "      <td>32821.26</td>\n",
              "      <td>1.24</td>\n",
              "      <td>1.30</td>\n",
              "      <td>1.00</td>\n",
              "      <td>5.00</td>\n",
              "      <td>9.00</td>\n",
              "      <td>43.00</td>\n",
              "      <td>146.00</td>\n",
              "      <td>284.00</td>\n",
              "      <td>453.00</td>\n",
              "      <td>564.00</td>\n",
              "      <td>977.00</td>\n",
              "    </tr>\n",
              "    <tr>\n",
              "      <th>Monetary</th>\n",
              "      <td>10864.0</td>\n",
              "      <td>10864.0</td>\n",
              "      <td>0</td>\n",
              "      <td>4440.41</td>\n",
              "      <td>2642.86</td>\n",
              "      <td>5024.94</td>\n",
              "      <td>25247714.04</td>\n",
              "      <td>1.66</td>\n",
              "      <td>2.88</td>\n",
              "      <td>0.82</td>\n",
              "      <td>63.96</td>\n",
              "      <td>139.40</td>\n",
              "      <td>619.51</td>\n",
              "      <td>2642.86</td>\n",
              "      <td>6509.16</td>\n",
              "      <td>11670.08</td>\n",
              "      <td>15170.00</td>\n",
              "      <td>30157.14</td>\n",
              "    </tr>\n",
              "  </tbody>\n",
              "</table>\n",
              "</div>\n",
              "      <button class=\"colab-df-convert\" onclick=\"convertToInteractive('df-198042e1-8a75-413c-b70f-3f031adbbac9')\"\n",
              "              title=\"Convert this dataframe to an interactive table.\"\n",
              "              style=\"display:none;\">\n",
              "        \n",
              "  <svg xmlns=\"http://www.w3.org/2000/svg\" height=\"24px\"viewBox=\"0 0 24 24\"\n",
              "       width=\"24px\">\n",
              "    <path d=\"M0 0h24v24H0V0z\" fill=\"none\"/>\n",
              "    <path d=\"M18.56 5.44l.94 2.06.94-2.06 2.06-.94-2.06-.94-.94-2.06-.94 2.06-2.06.94zm-11 1L8.5 8.5l.94-2.06 2.06-.94-2.06-.94L8.5 2.5l-.94 2.06-2.06.94zm10 10l.94 2.06.94-2.06 2.06-.94-2.06-.94-.94-2.06-.94 2.06-2.06.94z\"/><path d=\"M17.41 7.96l-1.37-1.37c-.4-.4-.92-.59-1.43-.59-.52 0-1.04.2-1.43.59L10.3 9.45l-7.72 7.72c-.78.78-.78 2.05 0 2.83L4 21.41c.39.39.9.59 1.41.59.51 0 1.02-.2 1.41-.59l7.78-7.78 2.81-2.81c.8-.78.8-2.07 0-2.86zM5.41 20L4 18.59l7.72-7.72 1.47 1.35L5.41 20z\"/>\n",
              "  </svg>\n",
              "      </button>\n",
              "      \n",
              "  <style>\n",
              "    .colab-df-container {\n",
              "      display:flex;\n",
              "      flex-wrap:wrap;\n",
              "      gap: 12px;\n",
              "    }\n",
              "\n",
              "    .colab-df-convert {\n",
              "      background-color: #E8F0FE;\n",
              "      border: none;\n",
              "      border-radius: 50%;\n",
              "      cursor: pointer;\n",
              "      display: none;\n",
              "      fill: #1967D2;\n",
              "      height: 32px;\n",
              "      padding: 0 0 0 0;\n",
              "      width: 32px;\n",
              "    }\n",
              "\n",
              "    .colab-df-convert:hover {\n",
              "      background-color: #E2EBFA;\n",
              "      box-shadow: 0px 1px 2px rgba(60, 64, 67, 0.3), 0px 1px 3px 1px rgba(60, 64, 67, 0.15);\n",
              "      fill: #174EA6;\n",
              "    }\n",
              "\n",
              "    [theme=dark] .colab-df-convert {\n",
              "      background-color: #3B4455;\n",
              "      fill: #D2E3FC;\n",
              "    }\n",
              "\n",
              "    [theme=dark] .colab-df-convert:hover {\n",
              "      background-color: #434B5C;\n",
              "      box-shadow: 0px 1px 3px 1px rgba(0, 0, 0, 0.15);\n",
              "      filter: drop-shadow(0px 1px 2px rgba(0, 0, 0, 0.3));\n",
              "      fill: #FFFFFF;\n",
              "    }\n",
              "  </style>\n",
              "\n",
              "      <script>\n",
              "        const buttonEl =\n",
              "          document.querySelector('#df-198042e1-8a75-413c-b70f-3f031adbbac9 button.colab-df-convert');\n",
              "        buttonEl.style.display =\n",
              "          google.colab.kernel.accessAllowed ? 'block' : 'none';\n",
              "\n",
              "        async function convertToInteractive(key) {\n",
              "          const element = document.querySelector('#df-198042e1-8a75-413c-b70f-3f031adbbac9');\n",
              "          const dataTable =\n",
              "            await google.colab.kernel.invokeFunction('convertToInteractive',\n",
              "                                                     [key], {});\n",
              "          if (!dataTable) return;\n",
              "\n",
              "          const docLinkHtml = 'Like what you see? Visit the ' +\n",
              "            '<a target=\"_blank\" href=https://colab.research.google.com/notebooks/data_table.ipynb>data table notebook</a>'\n",
              "            + ' to learn more about interactive tables.';\n",
              "          element.innerHTML = '';\n",
              "          dataTable['output_type'] = 'display_data';\n",
              "          await google.colab.output.renderOutput(dataTable, element);\n",
              "          const docLink = document.createElement('div');\n",
              "          docLink.innerHTML = docLinkHtml;\n",
              "          element.appendChild(docLink);\n",
              "        }\n",
              "      </script>\n",
              "    </div>\n",
              "  </div>\n",
              "  "
            ]
          },
          "metadata": {},
          "execution_count": 37
        }
      ],
      "source": [
        "DA3 = DA(df[col_num])\n",
        "DA3"
      ]
    },
    {
      "cell_type": "code",
      "execution_count": 38,
      "metadata": {
        "ExecuteTime": {
          "end_time": "2020-12-12T05:51:54.519414Z",
          "start_time": "2020-12-12T05:51:54.456472Z"
        },
        "id": "NrALBPJHZkcR",
        "outputId": "9d71dbf8-c1c7-49a7-b6f4-44f39bb65ded",
        "colab": {
          "base_uri": "https://localhost:8080/",
          "height": 457
        }
      },
      "outputs": [
        {
          "output_type": "execute_result",
          "data": {
            "text/plain": [
              "        col_nm class  count  ratio\n",
              "0       season     A   2664   0.25\n",
              "1       season     B   2733   0.25\n",
              "2       season     C   2733   0.25\n",
              "3       season     D   2734   0.25\n",
              "4      holiday     0  10553   0.97\n",
              "5      holiday     1    311   0.03\n",
              "6   workingday     0   3474   0.32\n",
              "7   workingday     1   7390   0.68\n",
              "8      Recency   1.0   9497   0.87\n",
              "9      Recency   2.0   1367   0.13\n",
              "10   Frequency   1.0   1225   0.11\n",
              "11   Frequency   2.0    625   0.06\n",
              "12   Frequency   3.0   9014   0.83"
            ],
            "text/html": [
              "\n",
              "  <div id=\"df-d9e536cc-079c-4bdb-8d2d-9ea6c8de42b7\">\n",
              "    <div class=\"colab-df-container\">\n",
              "      <div>\n",
              "<style scoped>\n",
              "    .dataframe tbody tr th:only-of-type {\n",
              "        vertical-align: middle;\n",
              "    }\n",
              "\n",
              "    .dataframe tbody tr th {\n",
              "        vertical-align: top;\n",
              "    }\n",
              "\n",
              "    .dataframe thead th {\n",
              "        text-align: right;\n",
              "    }\n",
              "</style>\n",
              "<table border=\"1\" class=\"dataframe\">\n",
              "  <thead>\n",
              "    <tr style=\"text-align: right;\">\n",
              "      <th></th>\n",
              "      <th>col_nm</th>\n",
              "      <th>class</th>\n",
              "      <th>count</th>\n",
              "      <th>ratio</th>\n",
              "    </tr>\n",
              "  </thead>\n",
              "  <tbody>\n",
              "    <tr>\n",
              "      <th>0</th>\n",
              "      <td>season</td>\n",
              "      <td>A</td>\n",
              "      <td>2664</td>\n",
              "      <td>0.25</td>\n",
              "    </tr>\n",
              "    <tr>\n",
              "      <th>1</th>\n",
              "      <td>season</td>\n",
              "      <td>B</td>\n",
              "      <td>2733</td>\n",
              "      <td>0.25</td>\n",
              "    </tr>\n",
              "    <tr>\n",
              "      <th>2</th>\n",
              "      <td>season</td>\n",
              "      <td>C</td>\n",
              "      <td>2733</td>\n",
              "      <td>0.25</td>\n",
              "    </tr>\n",
              "    <tr>\n",
              "      <th>3</th>\n",
              "      <td>season</td>\n",
              "      <td>D</td>\n",
              "      <td>2734</td>\n",
              "      <td>0.25</td>\n",
              "    </tr>\n",
              "    <tr>\n",
              "      <th>4</th>\n",
              "      <td>holiday</td>\n",
              "      <td>0</td>\n",
              "      <td>10553</td>\n",
              "      <td>0.97</td>\n",
              "    </tr>\n",
              "    <tr>\n",
              "      <th>5</th>\n",
              "      <td>holiday</td>\n",
              "      <td>1</td>\n",
              "      <td>311</td>\n",
              "      <td>0.03</td>\n",
              "    </tr>\n",
              "    <tr>\n",
              "      <th>6</th>\n",
              "      <td>workingday</td>\n",
              "      <td>0</td>\n",
              "      <td>3474</td>\n",
              "      <td>0.32</td>\n",
              "    </tr>\n",
              "    <tr>\n",
              "      <th>7</th>\n",
              "      <td>workingday</td>\n",
              "      <td>1</td>\n",
              "      <td>7390</td>\n",
              "      <td>0.68</td>\n",
              "    </tr>\n",
              "    <tr>\n",
              "      <th>8</th>\n",
              "      <td>Recency</td>\n",
              "      <td>1.0</td>\n",
              "      <td>9497</td>\n",
              "      <td>0.87</td>\n",
              "    </tr>\n",
              "    <tr>\n",
              "      <th>9</th>\n",
              "      <td>Recency</td>\n",
              "      <td>2.0</td>\n",
              "      <td>1367</td>\n",
              "      <td>0.13</td>\n",
              "    </tr>\n",
              "    <tr>\n",
              "      <th>10</th>\n",
              "      <td>Frequency</td>\n",
              "      <td>1.0</td>\n",
              "      <td>1225</td>\n",
              "      <td>0.11</td>\n",
              "    </tr>\n",
              "    <tr>\n",
              "      <th>11</th>\n",
              "      <td>Frequency</td>\n",
              "      <td>2.0</td>\n",
              "      <td>625</td>\n",
              "      <td>0.06</td>\n",
              "    </tr>\n",
              "    <tr>\n",
              "      <th>12</th>\n",
              "      <td>Frequency</td>\n",
              "      <td>3.0</td>\n",
              "      <td>9014</td>\n",
              "      <td>0.83</td>\n",
              "    </tr>\n",
              "  </tbody>\n",
              "</table>\n",
              "</div>\n",
              "      <button class=\"colab-df-convert\" onclick=\"convertToInteractive('df-d9e536cc-079c-4bdb-8d2d-9ea6c8de42b7')\"\n",
              "              title=\"Convert this dataframe to an interactive table.\"\n",
              "              style=\"display:none;\">\n",
              "        \n",
              "  <svg xmlns=\"http://www.w3.org/2000/svg\" height=\"24px\"viewBox=\"0 0 24 24\"\n",
              "       width=\"24px\">\n",
              "    <path d=\"M0 0h24v24H0V0z\" fill=\"none\"/>\n",
              "    <path d=\"M18.56 5.44l.94 2.06.94-2.06 2.06-.94-2.06-.94-.94-2.06-.94 2.06-2.06.94zm-11 1L8.5 8.5l.94-2.06 2.06-.94-2.06-.94L8.5 2.5l-.94 2.06-2.06.94zm10 10l.94 2.06.94-2.06 2.06-.94-2.06-.94-.94-2.06-.94 2.06-2.06.94z\"/><path d=\"M17.41 7.96l-1.37-1.37c-.4-.4-.92-.59-1.43-.59-.52 0-1.04.2-1.43.59L10.3 9.45l-7.72 7.72c-.78.78-.78 2.05 0 2.83L4 21.41c.39.39.9.59 1.41.59.51 0 1.02-.2 1.41-.59l7.78-7.78 2.81-2.81c.8-.78.8-2.07 0-2.86zM5.41 20L4 18.59l7.72-7.72 1.47 1.35L5.41 20z\"/>\n",
              "  </svg>\n",
              "      </button>\n",
              "      \n",
              "  <style>\n",
              "    .colab-df-container {\n",
              "      display:flex;\n",
              "      flex-wrap:wrap;\n",
              "      gap: 12px;\n",
              "    }\n",
              "\n",
              "    .colab-df-convert {\n",
              "      background-color: #E8F0FE;\n",
              "      border: none;\n",
              "      border-radius: 50%;\n",
              "      cursor: pointer;\n",
              "      display: none;\n",
              "      fill: #1967D2;\n",
              "      height: 32px;\n",
              "      padding: 0 0 0 0;\n",
              "      width: 32px;\n",
              "    }\n",
              "\n",
              "    .colab-df-convert:hover {\n",
              "      background-color: #E2EBFA;\n",
              "      box-shadow: 0px 1px 2px rgba(60, 64, 67, 0.3), 0px 1px 3px 1px rgba(60, 64, 67, 0.15);\n",
              "      fill: #174EA6;\n",
              "    }\n",
              "\n",
              "    [theme=dark] .colab-df-convert {\n",
              "      background-color: #3B4455;\n",
              "      fill: #D2E3FC;\n",
              "    }\n",
              "\n",
              "    [theme=dark] .colab-df-convert:hover {\n",
              "      background-color: #434B5C;\n",
              "      box-shadow: 0px 1px 3px 1px rgba(0, 0, 0, 0.15);\n",
              "      filter: drop-shadow(0px 1px 2px rgba(0, 0, 0, 0.3));\n",
              "      fill: #FFFFFF;\n",
              "    }\n",
              "  </style>\n",
              "\n",
              "      <script>\n",
              "        const buttonEl =\n",
              "          document.querySelector('#df-d9e536cc-079c-4bdb-8d2d-9ea6c8de42b7 button.colab-df-convert');\n",
              "        buttonEl.style.display =\n",
              "          google.colab.kernel.accessAllowed ? 'block' : 'none';\n",
              "\n",
              "        async function convertToInteractive(key) {\n",
              "          const element = document.querySelector('#df-d9e536cc-079c-4bdb-8d2d-9ea6c8de42b7');\n",
              "          const dataTable =\n",
              "            await google.colab.kernel.invokeFunction('convertToInteractive',\n",
              "                                                     [key], {});\n",
              "          if (!dataTable) return;\n",
              "\n",
              "          const docLinkHtml = 'Like what you see? Visit the ' +\n",
              "            '<a target=\"_blank\" href=https://colab.research.google.com/notebooks/data_table.ipynb>data table notebook</a>'\n",
              "            + ' to learn more about interactive tables.';\n",
              "          element.innerHTML = '';\n",
              "          dataTable['output_type'] = 'display_data';\n",
              "          await google.colab.output.renderOutput(dataTable, element);\n",
              "          const docLink = document.createElement('div');\n",
              "          docLink.innerHTML = docLinkHtml;\n",
              "          element.appendChild(docLink);\n",
              "        }\n",
              "      </script>\n",
              "    </div>\n",
              "  </div>\n",
              "  "
            ]
          },
          "metadata": {},
          "execution_count": 38
        }
      ],
      "source": [
        "DA4 = DA_cat(df, col_cat)\n",
        "DA4"
      ]
    },
    {
      "cell_type": "markdown",
      "metadata": {
        "id": "GdVb5ul4ZkcS"
      },
      "source": [
        "#### 변수 제외"
      ]
    },
    {
      "cell_type": "code",
      "execution_count": null,
      "metadata": {
        "ExecuteTime": {
          "end_time": "2020-12-12T05:51:54.530438Z",
          "start_time": "2020-12-12T05:51:54.523449Z"
        },
        "id": "HLIhUTQ9ZkcS"
      },
      "outputs": [],
      "source": [
        "df = df.drop(columns = ['Frequency'], axis=1)"
      ]
    },
    {
      "cell_type": "markdown",
      "metadata": {
        "id": "N7sB9LiHZkcT"
      },
      "source": [
        "#### EDA"
      ]
    },
    {
      "cell_type": "code",
      "execution_count": 39,
      "metadata": {
        "ExecuteTime": {
          "end_time": "2020-12-12T05:51:55.184473Z",
          "start_time": "2020-12-12T05:51:54.534518Z"
        },
        "id": "-nQVGpeuZkcT",
        "outputId": "f8cf94e8-e964-4cec-a73b-85ddc143363c",
        "colab": {
          "base_uri": "https://localhost:8080/",
          "height": 297
        }
      },
      "outputs": [
        {
          "output_type": "execute_result",
          "data": {
            "text/plain": [
              "<matplotlib.axes._subplots.AxesSubplot at 0x7fe46a480790>"
            ]
          },
          "metadata": {},
          "execution_count": 39
        },
        {
          "output_type": "display_data",
          "data": {
            "text/plain": [
              "<Figure size 432x288 with 1 Axes>"
            ],
            "image/png": "[encoded data removed]"
          },
          "metadata": {
            "needs_background": "light"
          }
        }
      ],
      "source": [
        "# 범주형 X별 y의 평균\n",
        "sns.barplot(x='season', y='casual', data=df)"
      ]
    },
    {
      "cell_type": "code",
      "execution_count": 40,
      "metadata": {
        "ExecuteTime": {
          "end_time": "2020-12-12T05:51:55.341490Z",
          "start_time": "2020-12-12T05:51:55.186429Z"
        },
        "scrolled": true,
        "id": "4k3Hjp8mZkcU",
        "outputId": "13befd1f-01cf-4c0b-d247-895f9357ab35",
        "colab": {
          "base_uri": "https://localhost:8080/",
          "height": 297
        }
      },
      "outputs": [
        {
          "output_type": "execute_result",
          "data": {
            "text/plain": [
              "<matplotlib.axes._subplots.AxesSubplot at 0x7fe4684a9c10>"
            ]
          },
          "metadata": {},
          "execution_count": 40
        },
        {
          "output_type": "display_data",
          "data": {
            "text/plain": [
              "<Figure size 432x288 with 1 Axes>"
            ],
            "image/png": "[encoded data removed]"
          },
          "metadata": {
            "needs_background": "light"
          }
        }
      ],
      "source": [
        "# 범주형(또는 가지수가 많지 않은 연속형) 변수의 데이터별 count\n",
        "sns.countplot(y = 'season', data = df)"
      ]
    },
    {
      "cell_type": "markdown",
      "metadata": {
        "id": "L66dsFGzZkcW"
      },
      "source": [
        "### 종속변수 전처리(이항 형태로 변환 / 4개 클래스로 변환)"
      ]
    },
    {
      "cell_type": "code",
      "execution_count": 41,
      "metadata": {
        "ExecuteTime": {
          "end_time": "2020-12-12T05:51:55.353536Z",
          "start_time": "2020-12-12T05:51:55.343489Z"
        },
        "id": "gd_T7GBtZkcY"
      },
      "outputs": [],
      "source": [
        "# 이항 형태\n",
        "df.loc[df['count'] <= 150, 'y1'] = 1\n",
        "df.loc[df['count'] > 150, 'y1'] = 0"
      ]
    },
    {
      "cell_type": "code",
      "execution_count": 42,
      "metadata": {
        "ExecuteTime": {
          "end_time": "2020-12-12T05:51:55.372246Z",
          "start_time": "2020-12-12T05:51:55.356460Z"
        },
        "id": "KJWFc6lPZkcZ"
      },
      "outputs": [],
      "source": [
        "# 4개 클래스\n",
        "df.loc[df['count'] <= 150, 'y2'] = 0\n",
        "df.loc[(df['count']>150)&(df['count'] <= 300), 'y2'] = 1\n",
        "df.loc[(df['count']>300)&(df['count'] <= 450), 'y2'] = 2\n",
        "df.loc[df['count'] > 450, 'y2'] = 3"
      ]
    },
    {
      "cell_type": "markdown",
      "metadata": {
        "id": "rVN6HJYtZkca"
      },
      "source": [
        "### 범주형 변수 더미화"
      ]
    },
    {
      "cell_type": "code",
      "execution_count": null,
      "metadata": {
        "ExecuteTime": {
          "end_time": "2020-12-12T05:51:55.390209Z",
          "start_time": "2020-12-12T05:51:55.374241Z"
        },
        "id": "4xEAZtigZkca",
        "outputId": "05d5e691-db8e-48f0-b007-aa1f7c13a68c"
      },
      "outputs": [
        {
          "name": "stdout",
          "output_type": "stream",
          "text": [
            "<class 'pandas.core.frame.DataFrame'>\n",
            "Int64Index: 10864 entries, 0 to 10885\n",
            "Data columns (total 21 columns):\n",
            " #   Column      Non-Null Count  Dtype         \n",
            "---  ------      --------------  -----         \n",
            " 0   datetime    10864 non-null  datetime64[ns]\n",
            " 1   season      10864 non-null  object        \n",
            " 2   holiday     10864 non-null  int64         \n",
            " 3   workingday  10864 non-null  int64         \n",
            " 4   weather     10864 non-null  int32         \n",
            " 5   temp        10864 non-null  float64       \n",
            " 6   atemp       10864 non-null  float64       \n",
            " 7   humidity    10864 non-null  float64       \n",
            " 8   windspeed   10864 non-null  float64       \n",
            " 9   casual      10864 non-null  int32         \n",
            " 10  registered  10864 non-null  int32         \n",
            " 11  count       10864 non-null  int32         \n",
            " 12  Recency     10864 non-null  float64       \n",
            " 13  Monetary    10864 non-null  float64       \n",
            " 14  year        10864 non-null  int64         \n",
            " 15  month       10864 non-null  int64         \n",
            " 16  day         10864 non-null  int64         \n",
            " 17  hour        10864 non-null  int64         \n",
            " 18  minute      10864 non-null  int64         \n",
            " 19  y1          10864 non-null  float64       \n",
            " 20  y2          10864 non-null  float64       \n",
            "dtypes: datetime64[ns](1), float64(8), int32(4), int64(7), object(1)\n",
            "memory usage: 2.0+ MB\n"
          ]
        }
      ],
      "source": [
        "df.info()"
      ]
    },
    {
      "cell_type": "code",
      "execution_count": null,
      "metadata": {
        "ExecuteTime": {
          "end_time": "2020-12-12T05:51:55.415206Z",
          "start_time": "2020-12-12T05:51:55.393192Z"
        },
        "id": "EdLAhFbEZkcb",
        "outputId": "0200ac87-058a-4be9-e23d-cb482c33013b"
      },
      "outputs": [
        {
          "data": {
            "text/html": [
              "<div>\n",
              "<style scoped>\n",
              "    .dataframe tbody tr th:only-of-type {\n",
              "        vertical-align: middle;\n",
              "    }\n",
              "\n",
              "    .dataframe tbody tr th {\n",
              "        vertical-align: top;\n",
              "    }\n",
              "\n",
              "    .dataframe thead th {\n",
              "        text-align: right;\n",
              "    }\n",
              "</style>\n",
              "<table border=\"1\" class=\"dataframe\">\n",
              "  <thead>\n",
              "    <tr style=\"text-align: right;\">\n",
              "      <th></th>\n",
              "      <th>datetime</th>\n",
              "      <th>season</th>\n",
              "      <th>holiday</th>\n",
              "      <th>workingday</th>\n",
              "      <th>weather</th>\n",
              "      <th>temp</th>\n",
              "      <th>atemp</th>\n",
              "      <th>humidity</th>\n",
              "      <th>windspeed</th>\n",
              "      <th>casual</th>\n",
              "      <th>registered</th>\n",
              "      <th>count</th>\n",
              "      <th>Recency</th>\n",
              "      <th>Monetary</th>\n",
              "      <th>year</th>\n",
              "      <th>month</th>\n",
              "      <th>day</th>\n",
              "      <th>hour</th>\n",
              "      <th>minute</th>\n",
              "      <th>y1</th>\n",
              "      <th>y2</th>\n",
              "    </tr>\n",
              "  </thead>\n",
              "  <tbody>\n",
              "    <tr>\n",
              "      <th>0</th>\n",
              "      <td>2011-01-01 00:00:00</td>\n",
              "      <td>A</td>\n",
              "      <td>0</td>\n",
              "      <td>0</td>\n",
              "      <td>1</td>\n",
              "      <td>9.84</td>\n",
              "      <td>14.395</td>\n",
              "      <td>81.0</td>\n",
              "      <td>0.0</td>\n",
              "      <td>3</td>\n",
              "      <td>13</td>\n",
              "      <td>16</td>\n",
              "      <td>1.0</td>\n",
              "      <td>157.44</td>\n",
              "      <td>2011</td>\n",
              "      <td>1</td>\n",
              "      <td>1</td>\n",
              "      <td>0</td>\n",
              "      <td>0</td>\n",
              "      <td>1.0</td>\n",
              "      <td>0.0</td>\n",
              "    </tr>\n",
              "    <tr>\n",
              "      <th>1</th>\n",
              "      <td>2011-01-01 01:00:00</td>\n",
              "      <td>A</td>\n",
              "      <td>0</td>\n",
              "      <td>0</td>\n",
              "      <td>1</td>\n",
              "      <td>9.02</td>\n",
              "      <td>13.635</td>\n",
              "      <td>80.0</td>\n",
              "      <td>0.0</td>\n",
              "      <td>8</td>\n",
              "      <td>32</td>\n",
              "      <td>40</td>\n",
              "      <td>1.0</td>\n",
              "      <td>360.80</td>\n",
              "      <td>2011</td>\n",
              "      <td>1</td>\n",
              "      <td>1</td>\n",
              "      <td>1</td>\n",
              "      <td>0</td>\n",
              "      <td>1.0</td>\n",
              "      <td>0.0</td>\n",
              "    </tr>\n",
              "    <tr>\n",
              "      <th>2</th>\n",
              "      <td>2011-01-01 02:00:00</td>\n",
              "      <td>A</td>\n",
              "      <td>0</td>\n",
              "      <td>0</td>\n",
              "      <td>1</td>\n",
              "      <td>9.02</td>\n",
              "      <td>13.635</td>\n",
              "      <td>80.0</td>\n",
              "      <td>0.0</td>\n",
              "      <td>5</td>\n",
              "      <td>27</td>\n",
              "      <td>32</td>\n",
              "      <td>1.0</td>\n",
              "      <td>288.64</td>\n",
              "      <td>2011</td>\n",
              "      <td>1</td>\n",
              "      <td>1</td>\n",
              "      <td>2</td>\n",
              "      <td>0</td>\n",
              "      <td>1.0</td>\n",
              "      <td>0.0</td>\n",
              "    </tr>\n",
              "    <tr>\n",
              "      <th>3</th>\n",
              "      <td>2011-01-01 03:00:00</td>\n",
              "      <td>A</td>\n",
              "      <td>0</td>\n",
              "      <td>0</td>\n",
              "      <td>1</td>\n",
              "      <td>9.84</td>\n",
              "      <td>14.395</td>\n",
              "      <td>75.0</td>\n",
              "      <td>0.0</td>\n",
              "      <td>3</td>\n",
              "      <td>10</td>\n",
              "      <td>13</td>\n",
              "      <td>1.0</td>\n",
              "      <td>127.92</td>\n",
              "      <td>2011</td>\n",
              "      <td>1</td>\n",
              "      <td>1</td>\n",
              "      <td>3</td>\n",
              "      <td>0</td>\n",
              "      <td>1.0</td>\n",
              "      <td>0.0</td>\n",
              "    </tr>\n",
              "    <tr>\n",
              "      <th>4</th>\n",
              "      <td>2011-01-01 04:00:00</td>\n",
              "      <td>A</td>\n",
              "      <td>0</td>\n",
              "      <td>0</td>\n",
              "      <td>1</td>\n",
              "      <td>9.84</td>\n",
              "      <td>14.395</td>\n",
              "      <td>75.0</td>\n",
              "      <td>0.0</td>\n",
              "      <td>0</td>\n",
              "      <td>1</td>\n",
              "      <td>1</td>\n",
              "      <td>1.0</td>\n",
              "      <td>9.84</td>\n",
              "      <td>2011</td>\n",
              "      <td>1</td>\n",
              "      <td>1</td>\n",
              "      <td>4</td>\n",
              "      <td>0</td>\n",
              "      <td>1.0</td>\n",
              "      <td>0.0</td>\n",
              "    </tr>\n",
              "  </tbody>\n",
              "</table>\n",
              "</div>"
            ],
            "text/plain": [
              "             datetime season  holiday  workingday  weather  temp   atemp  \\\n",
              "0 2011-01-01 00:00:00      A        0           0        1  9.84  14.395   \n",
              "1 2011-01-01 01:00:00      A        0           0        1  9.02  13.635   \n",
              "2 2011-01-01 02:00:00      A        0           0        1  9.02  13.635   \n",
              "3 2011-01-01 03:00:00      A        0           0        1  9.84  14.395   \n",
              "4 2011-01-01 04:00:00      A        0           0        1  9.84  14.395   \n",
              "\n",
              "   humidity  windspeed  casual  registered  count  Recency  Monetary  year  \\\n",
              "0      81.0        0.0       3          13     16      1.0    157.44  2011   \n",
              "1      80.0        0.0       8          32     40      1.0    360.80  2011   \n",
              "2      80.0        0.0       5          27     32      1.0    288.64  2011   \n",
              "3      75.0        0.0       3          10     13      1.0    127.92  2011   \n",
              "4      75.0        0.0       0           1      1      1.0      9.84  2011   \n",
              "\n",
              "   month  day  hour  minute   y1   y2  \n",
              "0      1    1     0       0  1.0  0.0  \n",
              "1      1    1     1       0  1.0  0.0  \n",
              "2      1    1     2       0  1.0  0.0  \n",
              "3      1    1     3       0  1.0  0.0  \n",
              "4      1    1     4       0  1.0  0.0  "
            ]
          },
          "execution_count": 38,
          "metadata": {},
          "output_type": "execute_result"
        }
      ],
      "source": [
        "df.head()"
      ]
    },
    {
      "cell_type": "code",
      "execution_count": 44,
      "metadata": {
        "ExecuteTime": {
          "end_time": "2020-12-12T05:51:56.040485Z",
          "start_time": "2020-12-12T05:51:55.418160Z"
        },
        "id": "P12rohWrZkcb"
      },
      "outputs": [],
      "source": [
        "import statsmodels.api as sm\n",
        "import pandas as pd\n",
        "from patsy import dmatrices\n",
        "\n",
        "y, X = dmatrices('y2 ~ season+holiday+workingday+weather+temp+atemp+humidity+windspeed+casual\\\n",
        "+registered+Recency+Monetary', data=df, return_type='dataframe')"
      ]
    },
    {
      "cell_type": "markdown",
      "metadata": {
        "id": "Jjp8OthZZkcc"
      },
      "source": [
        "### VIF 확인 필요 (y값 섞여 들어가지 않게 주의!!)"
      ]
    },
    {
      "cell_type": "code",
      "execution_count": 45,
      "metadata": {
        "ExecuteTime": {
          "end_time": "2020-12-12T05:51:56.234491Z",
          "start_time": "2020-12-12T05:51:56.042454Z"
        },
        "id": "924qJ4v_Zkcc",
        "outputId": "f5ded4c4-b85c-4b70-cb60-74034890da9a",
        "colab": {
          "base_uri": "https://localhost:8080/",
          "height": 519
        }
      },
      "outputs": [
        {
          "output_type": "execute_result",
          "data": {
            "text/plain": [
              "    VIF Factor     features\n",
              "0    56.314408    Intercept\n",
              "1     2.535383  season[T.B]\n",
              "2     4.129738  season[T.C]\n",
              "3     2.580344  season[T.D]\n",
              "4     1.075556      holiday\n",
              "5     1.428789   workingday\n",
              "6     1.282391      weather\n",
              "7    43.474120         temp\n",
              "8    37.339966        atemp\n",
              "9     1.743745     humidity\n",
              "10    1.210113    windspeed\n",
              "11    3.912857       casual\n",
              "12    9.435817   registered\n",
              "13    1.805088      Recency\n",
              "14   17.914355     Monetary"
            ],
            "text/html": [
              "\n",
              "  <div id=\"df-b68ed79a-6e83-49fd-98cf-0ccf71ad8f2d\">\n",
              "    <div class=\"colab-df-container\">\n",
              "      <div>\n",
              "<style scoped>\n",
              "    .dataframe tbody tr th:only-of-type {\n",
              "        vertical-align: middle;\n",
              "    }\n",
              "\n",
              "    .dataframe tbody tr th {\n",
              "        vertical-align: top;\n",
              "    }\n",
              "\n",
              "    .dataframe thead th {\n",
              "        text-align: right;\n",
              "    }\n",
              "</style>\n",
              "<table border=\"1\" class=\"dataframe\">\n",
              "  <thead>\n",
              "    <tr style=\"text-align: right;\">\n",
              "      <th></th>\n",
              "      <th>VIF Factor</th>\n",
              "      <th>features</th>\n",
              "    </tr>\n",
              "  </thead>\n",
              "  <tbody>\n",
              "    <tr>\n",
              "      <th>0</th>\n",
              "      <td>56.314408</td>\n",
              "      <td>Intercept</td>\n",
              "    </tr>\n",
              "    <tr>\n",
              "      <th>1</th>\n",
              "      <td>2.535383</td>\n",
              "      <td>season[T.B]</td>\n",
              "    </tr>\n",
              "    <tr>\n",
              "      <th>2</th>\n",
              "      <td>4.129738</td>\n",
              "      <td>season[T.C]</td>\n",
              "    </tr>\n",
              "    <tr>\n",
              "      <th>3</th>\n",
              "      <td>2.580344</td>\n",
              "      <td>season[T.D]</td>\n",
              "    </tr>\n",
              "    <tr>\n",
              "      <th>4</th>\n",
              "      <td>1.075556</td>\n",
              "      <td>holiday</td>\n",
              "    </tr>\n",
              "    <tr>\n",
              "      <th>5</th>\n",
              "      <td>1.428789</td>\n",
              "      <td>workingday</td>\n",
              "    </tr>\n",
              "    <tr>\n",
              "      <th>6</th>\n",
              "      <td>1.282391</td>\n",
              "      <td>weather</td>\n",
              "    </tr>\n",
              "    <tr>\n",
              "      <th>7</th>\n",
              "      <td>43.474120</td>\n",
              "      <td>temp</td>\n",
              "    </tr>\n",
              "    <tr>\n",
              "      <th>8</th>\n",
              "      <td>37.339966</td>\n",
              "      <td>atemp</td>\n",
              "    </tr>\n",
              "    <tr>\n",
              "      <th>9</th>\n",
              "      <td>1.743745</td>\n",
              "      <td>humidity</td>\n",
              "    </tr>\n",
              "    <tr>\n",
              "      <th>10</th>\n",
              "      <td>1.210113</td>\n",
              "      <td>windspeed</td>\n",
              "    </tr>\n",
              "    <tr>\n",
              "      <th>11</th>\n",
              "      <td>3.912857</td>\n",
              "      <td>casual</td>\n",
              "    </tr>\n",
              "    <tr>\n",
              "      <th>12</th>\n",
              "      <td>9.435817</td>\n",
              "      <td>registered</td>\n",
              "    </tr>\n",
              "    <tr>\n",
              "      <th>13</th>\n",
              "      <td>1.805088</td>\n",
              "      <td>Recency</td>\n",
              "    </tr>\n",
              "    <tr>\n",
              "      <th>14</th>\n",
              "      <td>17.914355</td>\n",
              "      <td>Monetary</td>\n",
              "    </tr>\n",
              "  </tbody>\n",
              "</table>\n",
              "</div>\n",
              "      <button class=\"colab-df-convert\" onclick=\"convertToInteractive('df-b68ed79a-6e83-49fd-98cf-0ccf71ad8f2d')\"\n",
              "              title=\"Convert this dataframe to an interactive table.\"\n",
              "              style=\"display:none;\">\n",
              "        \n",
              "  <svg xmlns=\"http://www.w3.org/2000/svg\" height=\"24px\"viewBox=\"0 0 24 24\"\n",
              "       width=\"24px\">\n",
              "    <path d=\"M0 0h24v24H0V0z\" fill=\"none\"/>\n",
              "    <path d=\"M18.56 5.44l.94 2.06.94-2.06 2.06-.94-2.06-.94-.94-2.06-.94 2.06-2.06.94zm-11 1L8.5 8.5l.94-2.06 2.06-.94-2.06-.94L8.5 2.5l-.94 2.06-2.06.94zm10 10l.94 2.06.94-2.06 2.06-.94-2.06-.94-.94-2.06-.94 2.06-2.06.94z\"/><path d=\"M17.41 7.96l-1.37-1.37c-.4-.4-.92-.59-1.43-.59-.52 0-1.04.2-1.43.59L10.3 9.45l-7.72 7.72c-.78.78-.78 2.05 0 2.83L4 21.41c.39.39.9.59 1.41.59.51 0 1.02-.2 1.41-.59l7.78-7.78 2.81-2.81c.8-.78.8-2.07 0-2.86zM5.41 20L4 18.59l7.72-7.72 1.47 1.35L5.41 20z\"/>\n",
              "  </svg>\n",
              "      </button>\n",
              "      \n",
              "  <style>\n",
              "    .colab-df-container {\n",
              "      display:flex;\n",
              "      flex-wrap:wrap;\n",
              "      gap: 12px;\n",
              "    }\n",
              "\n",
              "    .colab-df-convert {\n",
              "      background-color: #E8F0FE;\n",
              "      border: none;\n",
              "      border-radius: 50%;\n",
              "      cursor: pointer;\n",
              "      display: none;\n",
              "      fill: #1967D2;\n",
              "      height: 32px;\n",
              "      padding: 0 0 0 0;\n",
              "      width: 32px;\n",
              "    }\n",
              "\n",
              "    .colab-df-convert:hover {\n",
              "      background-color: #E2EBFA;\n",
              "      box-shadow: 0px 1px 2px rgba(60, 64, 67, 0.3), 0px 1px 3px 1px rgba(60, 64, 67, 0.15);\n",
              "      fill: #174EA6;\n",
              "    }\n",
              "\n",
              "    [theme=dark] .colab-df-convert {\n",
              "      background-color: #3B4455;\n",
              "      fill: #D2E3FC;\n",
              "    }\n",
              "\n",
              "    [theme=dark] .colab-df-convert:hover {\n",
              "      background-color: #434B5C;\n",
              "      box-shadow: 0px 1px 3px 1px rgba(0, 0, 0, 0.15);\n",
              "      filter: drop-shadow(0px 1px 2px rgba(0, 0, 0, 0.3));\n",
              "      fill: #FFFFFF;\n",
              "    }\n",
              "  </style>\n",
              "\n",
              "      <script>\n",
              "        const buttonEl =\n",
              "          document.querySelector('#df-b68ed79a-6e83-49fd-98cf-0ccf71ad8f2d button.colab-df-convert');\n",
              "        buttonEl.style.display =\n",
              "          google.colab.kernel.accessAllowed ? 'block' : 'none';\n",
              "\n",
              "        async function convertToInteractive(key) {\n",
              "          const element = document.querySelector('#df-b68ed79a-6e83-49fd-98cf-0ccf71ad8f2d');\n",
              "          const dataTable =\n",
              "            await google.colab.kernel.invokeFunction('convertToInteractive',\n",
              "                                                     [key], {});\n",
              "          if (!dataTable) return;\n",
              "\n",
              "          const docLinkHtml = 'Like what you see? Visit the ' +\n",
              "            '<a target=\"_blank\" href=https://colab.research.google.com/notebooks/data_table.ipynb>data table notebook</a>'\n",
              "            + ' to learn more about interactive tables.';\n",
              "          element.innerHTML = '';\n",
              "          dataTable['output_type'] = 'display_data';\n",
              "          await google.colab.output.renderOutput(dataTable, element);\n",
              "          const docLink = document.createElement('div');\n",
              "          docLink.innerHTML = docLinkHtml;\n",
              "          element.appendChild(docLink);\n",
              "        }\n",
              "      </script>\n",
              "    </div>\n",
              "  </div>\n",
              "  "
            ]
          },
          "metadata": {},
          "execution_count": 45
        }
      ],
      "source": [
        "# y, X = dmatrices('price ~ area + bedrooms + bathrooms', df, return_type = 'dataframe')\n",
        "from statsmodels.stats.outliers_influence import variance_inflation_factor\n",
        "\n",
        "vif = pd.DataFrame()\n",
        "vif[\"VIF Factor\"] = [variance_inflation_factor(X.values, i) for i in range(X.shape[1])]\n",
        "vif[\"features\"] = X.columns \n",
        "vif"
      ]
    },
    {
      "cell_type": "code",
      "execution_count": 46,
      "metadata": {
        "ExecuteTime": {
          "end_time": "2020-12-12T05:51:56.251436Z",
          "start_time": "2020-12-12T05:51:56.242831Z"
        },
        "id": "i3jAjommZkcd"
      },
      "outputs": [],
      "source": [
        "X = X.drop(columns=['temp'])"
      ]
    },
    {
      "cell_type": "code",
      "execution_count": 47,
      "metadata": {
        "ExecuteTime": {
          "end_time": "2020-12-12T05:51:56.498548Z",
          "start_time": "2020-12-12T05:51:56.257421Z"
        },
        "scrolled": false,
        "id": "15KH5svwZkcd",
        "outputId": "d74eefc9-d649-497c-9026-46963bc0b6ca",
        "colab": {
          "base_uri": "https://localhost:8080/",
          "height": 488
        }
      },
      "outputs": [
        {
          "output_type": "execute_result",
          "data": {
            "text/plain": [
              "    VIF Factor     features\n",
              "0    56.306543    Intercept\n",
              "1     2.455552  season[T.B]\n",
              "2     3.722530  season[T.C]\n",
              "3     2.569020  season[T.D]\n",
              "4     1.074492      holiday\n",
              "5     1.423276   workingday\n",
              "6     1.279043      weather\n",
              "7     3.751375        atemp\n",
              "8     1.731370     humidity\n",
              "9     1.157455    windspeed\n",
              "10    3.868163       casual\n",
              "11    8.961080   registered\n",
              "12    1.803690      Recency\n",
              "13   16.802380     Monetary"
            ],
            "text/html": [
              "\n",
              "  <div id=\"df-7c170dd6-e95b-49b4-974f-58d47635a0e6\">\n",
              "    <div class=\"colab-df-container\">\n",
              "      <div>\n",
              "<style scoped>\n",
              "    .dataframe tbody tr th:only-of-type {\n",
              "        vertical-align: middle;\n",
              "    }\n",
              "\n",
              "    .dataframe tbody tr th {\n",
              "        vertical-align: top;\n",
              "    }\n",
              "\n",
              "    .dataframe thead th {\n",
              "        text-align: right;\n",
              "    }\n",
              "</style>\n",
              "<table border=\"1\" class=\"dataframe\">\n",
              "  <thead>\n",
              "    <tr style=\"text-align: right;\">\n",
              "      <th></th>\n",
              "      <th>VIF Factor</th>\n",
              "      <th>features</th>\n",
              "    </tr>\n",
              "  </thead>\n",
              "  <tbody>\n",
              "    <tr>\n",
              "      <th>0</th>\n",
              "      <td>56.306543</td>\n",
              "      <td>Intercept</td>\n",
              "    </tr>\n",
              "    <tr>\n",
              "      <th>1</th>\n",
              "      <td>2.455552</td>\n",
              "      <td>season[T.B]</td>\n",
              "    </tr>\n",
              "    <tr>\n",
              "      <th>2</th>\n",
              "      <td>3.722530</td>\n",
              "      <td>season[T.C]</td>\n",
              "    </tr>\n",
              "    <tr>\n",
              "      <th>3</th>\n",
              "      <td>2.569020</td>\n",
              "      <td>season[T.D]</td>\n",
              "    </tr>\n",
              "    <tr>\n",
              "      <th>4</th>\n",
              "      <td>1.074492</td>\n",
              "      <td>holiday</td>\n",
              "    </tr>\n",
              "    <tr>\n",
              "      <th>5</th>\n",
              "      <td>1.423276</td>\n",
              "      <td>workingday</td>\n",
              "    </tr>\n",
              "    <tr>\n",
              "      <th>6</th>\n",
              "      <td>1.279043</td>\n",
              "      <td>weather</td>\n",
              "    </tr>\n",
              "    <tr>\n",
              "      <th>7</th>\n",
              "      <td>3.751375</td>\n",
              "      <td>atemp</td>\n",
              "    </tr>\n",
              "    <tr>\n",
              "      <th>8</th>\n",
              "      <td>1.731370</td>\n",
              "      <td>humidity</td>\n",
              "    </tr>\n",
              "    <tr>\n",
              "      <th>9</th>\n",
              "      <td>1.157455</td>\n",
              "      <td>windspeed</td>\n",
              "    </tr>\n",
              "    <tr>\n",
              "      <th>10</th>\n",
              "      <td>3.868163</td>\n",
              "      <td>casual</td>\n",
              "    </tr>\n",
              "    <tr>\n",
              "      <th>11</th>\n",
              "      <td>8.961080</td>\n",
              "      <td>registered</td>\n",
              "    </tr>\n",
              "    <tr>\n",
              "      <th>12</th>\n",
              "      <td>1.803690</td>\n",
              "      <td>Recency</td>\n",
              "    </tr>\n",
              "    <tr>\n",
              "      <th>13</th>\n",
              "      <td>16.802380</td>\n",
              "      <td>Monetary</td>\n",
              "    </tr>\n",
              "  </tbody>\n",
              "</table>\n",
              "</div>\n",
              "      <button class=\"colab-df-convert\" onclick=\"convertToInteractive('df-7c170dd6-e95b-49b4-974f-58d47635a0e6')\"\n",
              "              title=\"Convert this dataframe to an interactive table.\"\n",
              "              style=\"display:none;\">\n",
              "        \n",
              "  <svg xmlns=\"http://www.w3.org/2000/svg\" height=\"24px\"viewBox=\"0 0 24 24\"\n",
              "       width=\"24px\">\n",
              "    <path d=\"M0 0h24v24H0V0z\" fill=\"none\"/>\n",
              "    <path d=\"M18.56 5.44l.94 2.06.94-2.06 2.06-.94-2.06-.94-.94-2.06-.94 2.06-2.06.94zm-11 1L8.5 8.5l.94-2.06 2.06-.94-2.06-.94L8.5 2.5l-.94 2.06-2.06.94zm10 10l.94 2.06.94-2.06 2.06-.94-2.06-.94-.94-2.06-.94 2.06-2.06.94z\"/><path d=\"M17.41 7.96l-1.37-1.37c-.4-.4-.92-.59-1.43-.59-.52 0-1.04.2-1.43.59L10.3 9.45l-7.72 7.72c-.78.78-.78 2.05 0 2.83L4 21.41c.39.39.9.59 1.41.59.51 0 1.02-.2 1.41-.59l7.78-7.78 2.81-2.81c.8-.78.8-2.07 0-2.86zM5.41 20L4 18.59l7.72-7.72 1.47 1.35L5.41 20z\"/>\n",
              "  </svg>\n",
              "      </button>\n",
              "      \n",
              "  <style>\n",
              "    .colab-df-container {\n",
              "      display:flex;\n",
              "      flex-wrap:wrap;\n",
              "      gap: 12px;\n",
              "    }\n",
              "\n",
              "    .colab-df-convert {\n",
              "      background-color: #E8F0FE;\n",
              "      border: none;\n",
              "      border-radius: 50%;\n",
              "      cursor: pointer;\n",
              "      display: none;\n",
              "      fill: #1967D2;\n",
              "      height: 32px;\n",
              "      padding: 0 0 0 0;\n",
              "      width: 32px;\n",
              "    }\n",
              "\n",
              "    .colab-df-convert:hover {\n",
              "      background-color: #E2EBFA;\n",
              "      box-shadow: 0px 1px 2px rgba(60, 64, 67, 0.3), 0px 1px 3px 1px rgba(60, 64, 67, 0.15);\n",
              "      fill: #174EA6;\n",
              "    }\n",
              "\n",
              "    [theme=dark] .colab-df-convert {\n",
              "      background-color: #3B4455;\n",
              "      fill: #D2E3FC;\n",
              "    }\n",
              "\n",
              "    [theme=dark] .colab-df-convert:hover {\n",
              "      background-color: #434B5C;\n",
              "      box-shadow: 0px 1px 3px 1px rgba(0, 0, 0, 0.15);\n",
              "      filter: drop-shadow(0px 1px 2px rgba(0, 0, 0, 0.3));\n",
              "      fill: #FFFFFF;\n",
              "    }\n",
              "  </style>\n",
              "\n",
              "      <script>\n",
              "        const buttonEl =\n",
              "          document.querySelector('#df-7c170dd6-e95b-49b4-974f-58d47635a0e6 button.colab-df-convert');\n",
              "        buttonEl.style.display =\n",
              "          google.colab.kernel.accessAllowed ? 'block' : 'none';\n",
              "\n",
              "        async function convertToInteractive(key) {\n",
              "          const element = document.querySelector('#df-7c170dd6-e95b-49b4-974f-58d47635a0e6');\n",
              "          const dataTable =\n",
              "            await google.colab.kernel.invokeFunction('convertToInteractive',\n",
              "                                                     [key], {});\n",
              "          if (!dataTable) return;\n",
              "\n",
              "          const docLinkHtml = 'Like what you see? Visit the ' +\n",
              "            '<a target=\"_blank\" href=https://colab.research.google.com/notebooks/data_table.ipynb>data table notebook</a>'\n",
              "            + ' to learn more about interactive tables.';\n",
              "          element.innerHTML = '';\n",
              "          dataTable['output_type'] = 'display_data';\n",
              "          await google.colab.output.renderOutput(dataTable, element);\n",
              "          const docLink = document.createElement('div');\n",
              "          docLink.innerHTML = docLinkHtml;\n",
              "          element.appendChild(docLink);\n",
              "        }\n",
              "      </script>\n",
              "    </div>\n",
              "  </div>\n",
              "  "
            ]
          },
          "metadata": {},
          "execution_count": 47
        }
      ],
      "source": [
        "vif = pd.DataFrame()\n",
        "vif[\"VIF Factor\"] = [variance_inflation_factor(X.values, i) for i in range(X.shape[1])]\n",
        "vif[\"features\"] = X.columns \n",
        "vif"
      ]
    },
    {
      "cell_type": "markdown",
      "metadata": {
        "id": "SZ49Mh29Zkce"
      },
      "source": [
        "### train, test split"
      ]
    },
    {
      "cell_type": "code",
      "execution_count": 48,
      "metadata": {
        "ExecuteTime": {
          "end_time": "2020-12-12T05:51:57.508994Z",
          "start_time": "2020-12-12T05:51:56.501727Z"
        },
        "id": "itVVGy-3Zkcg"
      },
      "outputs": [],
      "source": [
        "from sklearn.model_selection import train_test_split\n",
        "X_train , X_test , y_train , y_test = train_test_split(X , y ,test_size=0.3, random_state=0)"
      ]
    },
    {
      "cell_type": "markdown",
      "metadata": {
        "id": "iyvI0z9LZkch"
      },
      "source": [
        "### StandardScaler"
      ]
    },
    {
      "cell_type": "code",
      "execution_count": 49,
      "metadata": {
        "ExecuteTime": {
          "end_time": "2020-12-12T05:51:57.516526Z",
          "start_time": "2020-12-12T05:51:57.511502Z"
        },
        "id": "dW9vlD_DZkci"
      },
      "outputs": [],
      "source": [
        "from sklearn.preprocessing import StandardScaler\n",
        "\n",
        "scaler = StandardScaler()"
      ]
    },
    {
      "cell_type": "code",
      "execution_count": 50,
      "metadata": {
        "ExecuteTime": {
          "end_time": "2020-12-12T05:51:57.536429Z",
          "start_time": "2020-12-12T05:51:57.520472Z"
        },
        "id": "vfCzNbHqZkci"
      },
      "outputs": [],
      "source": [
        "scaler.fit(X_train)\n",
        "X_train_scale = scaler.transform(X_train)\n",
        "X_test_scale = scaler.transform(X_test)"
      ]
    },
    {
      "cell_type": "code",
      "execution_count": 51,
      "metadata": {
        "ExecuteTime": {
          "end_time": "2020-12-12T05:51:57.544410Z",
          "start_time": "2020-12-12T05:51:57.539421Z"
        },
        "id": "7IIFo6sTZkcj"
      },
      "outputs": [],
      "source": [
        "# 컬럼명 다시 붙여주기\n",
        "X_train_scale = pd.DataFrame(X_train_scale, columns= X_train.columns)\n",
        "X_test_scale = pd.DataFrame(X_test_scale, columns= X_test.columns)"
      ]
    },
    {
      "cell_type": "markdown",
      "metadata": {
        "id": "3ODKdv0qZkcx"
      },
      "source": [
        "### 오버샘플링 수행"
      ]
    },
    {
      "cell_type": "code",
      "execution_count": 52,
      "metadata": {
        "ExecuteTime": {
          "end_time": "2020-12-12T05:51:57.558579Z",
          "start_time": "2020-12-12T05:51:57.547401Z"
        },
        "id": "x11QhEnRZkcy",
        "outputId": "94b98431-423e-4d6e-a059-38634b1a6dc3",
        "colab": {
          "base_uri": "https://localhost:8080/"
        }
      },
      "outputs": [
        {
          "output_type": "execute_result",
          "data": {
            "text/plain": [
              "y2 \n",
              "0.0    3885\n",
              "1.0    1986\n",
              "2.0     971\n",
              "3.0     762\n",
              "dtype: int64"
            ]
          },
          "metadata": {},
          "execution_count": 52
        }
      ],
      "source": [
        "y_train.value_counts()"
      ]
    },
    {
      "cell_type": "code",
      "execution_count": 54,
      "metadata": {
        "ExecuteTime": {
          "end_time": "2020-12-12T05:52:07.379115Z",
          "start_time": "2020-12-12T05:51:57.560526Z"
        },
        "id": "v199quhHZkcy"
      },
      "outputs": [],
      "source": [
        "from imblearn.over_sampling import SMOTE\n",
        "\n",
        "smote = SMOTE(random_state=0)\n",
        "X_train_over, y_train_over = smote.fit_resample(X_train_scale, y_train)"
      ]
    },
    {
      "cell_type": "code",
      "execution_count": 55,
      "metadata": {
        "ExecuteTime": {
          "end_time": "2020-12-12T05:52:07.388753Z",
          "start_time": "2020-12-12T05:52:07.382725Z"
        },
        "id": "KyBUJwvVZkc3"
      },
      "outputs": [],
      "source": [
        "# 컬럼명 다시 붙여주기\n",
        "X_train_over = pd.DataFrame(X_train_over, columns= X_train.columns)\n",
        "y_train_over = pd.DataFrame(y_train_over, columns=['y2'])"
      ]
    },
    {
      "cell_type": "code",
      "execution_count": 56,
      "metadata": {
        "ExecuteTime": {
          "end_time": "2020-12-12T05:52:07.402842Z",
          "start_time": "2020-12-12T05:52:07.391197Z"
        },
        "id": "iHfFy8_ZZkc4",
        "outputId": "d02e6d1e-0fa0-46c2-fb56-31b9977c5441",
        "colab": {
          "base_uri": "https://localhost:8080/"
        }
      },
      "outputs": [
        {
          "output_type": "execute_result",
          "data": {
            "text/plain": [
              "y2 \n",
              "0.0    3885\n",
              "1.0    3885\n",
              "2.0    3885\n",
              "3.0    3885\n",
              "dtype: int64"
            ]
          },
          "metadata": {},
          "execution_count": 56
        }
      ],
      "source": [
        "y_train_over.value_counts()"
      ]
    },
    {
      "cell_type": "markdown",
      "metadata": {
        "id": "NGUCQiQ_Zkc7"
      },
      "source": [
        "### 군집화 수행"
      ]
    },
    {
      "cell_type": "code",
      "execution_count": 61,
      "metadata": {
        "ExecuteTime": {
          "end_time": "2020-12-12T05:52:07.412828Z",
          "start_time": "2020-12-12T05:52:07.406287Z"
        },
        "id": "4qAWe0rHZkc9"
      },
      "outputs": [],
      "source": [
        "# X_train_over, X_test_scale, y_train_over, y_test이 현재 변수\n",
        "\n",
        "from sklearn.cluster import KMeans\n",
        "\n",
        "# 바로 최적 개수 찾기\n",
        "def elbow(X, range_list=range(1,11)):\n",
        "    sse = [] # 오차제곱합\n",
        "    for i in range_list:\n",
        "        km = KMeans(n_clusters=i, init='k-means++', random_state=0)\n",
        "        km.fit(X)\n",
        "        sse.append(km.inertia_)\n",
        "        \n",
        "    plt.plot(range_list, sse, marker ='o')\n",
        "    plt.xlabel('n_clusters')\n",
        "    plt.ylabel('SSE')\n",
        "    plt.show()"
      ]
    },
    {
      "cell_type": "code",
      "execution_count": 58,
      "metadata": {
        "ExecuteTime": {
          "end_time": "2020-12-12T05:52:10.731148Z",
          "start_time": "2020-12-12T05:52:07.415821Z"
        },
        "id": "geHs09S_Zkc-",
        "outputId": "48cf5172-6cde-4d02-e6c7-5b00c94fea6c",
        "colab": {
          "base_uri": "https://localhost:8080/",
          "height": 280
        }
      },
      "outputs": [
        {
          "output_type": "display_data",
          "data": {
            "text/plain": [
              "<Figure size 432x288 with 1 Axes>"
            ],
            "image/png": "[encoded data removed]"
          },
          "metadata": {
            "needs_background": "light"
          }
        }
      ],
      "source": [
        "elbow(X_train_over)"
      ]
    },
    {
      "cell_type": "markdown",
      "source": [
        "#### 실루엣 계수\n",
        "- 군집 안에 있는 데이터들이 잘 모여있는지, 군집끼리는 서로 잘 구분되는지 클러스터링 평가하는 척도\n",
        "- 각 데이터 포인트와 주위 데이터 포인트들과의 거리 계산을 통해 값을 구함\n",
        "  1. a(i): 클러스터 A 안의 포인트 i와 A 안의 다른 포인트들간의 거리 평균\n",
        "  2. b(i): A 외 다른 클러스터와 i와의 거리 평균 중 가장 작은 값\n",
        "  3. $s(i)=\\frac{b(i)-a(i)}{max(a(i), b(i))}, -1\\le s(i)\\le 1$\n",
        "  4. 모든 점마다 실루엣 계수를 계산한 뒤, 실루엣 계수의 평균값 계산\n",
        "- 실루엣 계수의 평균값이 1에 가까울수록 군집화가 잘 되었다고 볼 수 있음\n",
        "- 0에 가까우면 거리가 비슷한 경우, -1에 가까우면 잘못 할당된 상태(같은 클러스터의 점보다 이웃 클러스터가 더 가까움)\n",
        "\n",
        "[출처] https://studying-haeung.tistory.com/10#:~:text=실루엣%20계수(Silhouette%20Coefficient)%20%3A,하는%20척도로%20활용된다.\n",
        "\n"
      ],
      "metadata": {
        "id": "KBSJtz-RWnjv"
      }
    },
    {
      "cell_type": "code",
      "execution_count": 66,
      "metadata": {
        "ExecuteTime": {
          "end_time": "2020-12-12T05:52:53.584277Z",
          "start_time": "2020-12-12T05:52:10.733132Z"
        },
        "id": "5WWlDRoaZkdA",
        "outputId": "e46beedc-e2bd-40d9-dc59-466b1ead6544",
        "colab": {
          "base_uri": "https://localhost:8080/"
        }
      },
      "outputs": [
        {
          "output_type": "stream",
          "name": "stdout",
          "text": [
            "[0.194 0.21  0.201 0.205 0.223 0.216 0.238 0.232 0.225]\n"
          ]
        }
      ],
      "source": [
        "from sklearn.metrics import silhouette_samples, silhouette_score\n",
        "\n",
        "def sil(X):\n",
        "    si = [] # 실루엣계수\n",
        "    for i in range(2,11): # cluster가 2개인것 부터 10개까지!!!!\n",
        "        km = KMeans(n_clusters=i, init='k-means++', random_state=0)\n",
        "        km.fit(X)\n",
        "        si.append(silhouette_score(X, km.labels_))\n",
        "    print(np.round(si,3))\n",
        "sil(X_train_over)"
      ]
    },
    {
      "cell_type": "markdown",
      "metadata": {
        "id": "9YBMI9IQZkdB"
      },
      "source": [
        "#### 군집 수 직접 지정해서 군집화"
      ]
    },
    {
      "cell_type": "code",
      "execution_count": 67,
      "metadata": {
        "ExecuteTime": {
          "end_time": "2020-12-12T05:52:53.878393Z",
          "start_time": "2020-12-12T05:52:53.587237Z"
        },
        "id": "BPVroE18ZkdB",
        "outputId": "379be5ee-a5d0-4033-9bad-4fd74de47b22",
        "colab": {
          "base_uri": "https://localhost:8080/"
        }
      },
      "outputs": [
        {
          "output_type": "execute_result",
          "data": {
            "text/plain": [
              "KMeans(n_clusters=4, random_state=0)"
            ]
          },
          "metadata": {},
          "execution_count": 67
        }
      ],
      "source": [
        "kmeans = KMeans(n_clusters=4, init='k-means++', max_iter=300,random_state=0)\n",
        "kmeans.fit(X_train_over)"
      ]
    },
    {
      "cell_type": "markdown",
      "metadata": {
        "id": "mJJ0wzX0ZkdC"
      },
      "source": [
        "### 군집화 결과 프로파일링"
      ]
    },
    {
      "cell_type": "code",
      "execution_count": 68,
      "metadata": {
        "ExecuteTime": {
          "end_time": "2020-12-12T05:52:53.888365Z",
          "start_time": "2020-12-12T05:52:53.880412Z"
        },
        "id": "aV9rATcwZkdC"
      },
      "outputs": [],
      "source": [
        "# 스케일링 풀고 프로파일링\n",
        "\n",
        "df_profile = pd.DataFrame(scaler.inverse_transform(X_train_over), columns = X_train.columns)\n",
        "df_profile['kmeans'] = kmeans.labels_"
      ]
    },
    {
      "cell_type": "code",
      "execution_count": 69,
      "metadata": {
        "ExecuteTime": {
          "end_time": "2020-12-12T05:52:54.567198Z",
          "start_time": "2020-12-12T05:52:53.890360Z"
        },
        "id": "TpVc1mV9ZkdD",
        "outputId": "42a3dcb4-727f-4537-ebcb-6f2d40b9a455",
        "colab": {
          "base_uri": "https://localhost:8080/",
          "height": 354
        }
      },
      "outputs": [
        {
          "output_type": "stream",
          "name": "stderr",
          "text": [
            "/usr/local/lib/python3.7/dist-packages/seaborn/_decorators.py:43: FutureWarning: Pass the following variables as keyword args: x, y. From version 0.12, the only valid positional argument will be `data`, and passing other arguments without an explicit keyword will result in an error or misinterpretation.\n",
            "  FutureWarning\n"
          ]
        },
        {
          "output_type": "execute_result",
          "data": {
            "text/plain": [
              "<matplotlib.axes._subplots.AxesSubplot at 0x7fe457e436d0>"
            ]
          },
          "metadata": {},
          "execution_count": 69
        },
        {
          "output_type": "display_data",
          "data": {
            "text/plain": [
              "<Figure size 432x288 with 1 Axes>"
            ],
            "image/png": "[encoded data removed]"
          },
          "metadata": {
            "needs_background": "light"
          }
        }
      ],
      "source": [
        "sns.barplot(df_profile['kmeans'], df_profile['atemp'])"
      ]
    },
    {
      "cell_type": "code",
      "execution_count": 70,
      "metadata": {
        "ExecuteTime": {
          "end_time": "2020-12-12T05:52:55.228331Z",
          "start_time": "2020-12-12T05:52:54.569203Z"
        },
        "id": "KcwgHJ98ZkdE",
        "outputId": "508b2d60-8719-43cf-aaf9-63f5c7185065",
        "colab": {
          "base_uri": "https://localhost:8080/",
          "height": 354
        }
      },
      "outputs": [
        {
          "output_type": "stream",
          "name": "stderr",
          "text": [
            "/usr/local/lib/python3.7/dist-packages/seaborn/_decorators.py:43: FutureWarning: Pass the following variables as keyword args: x, y. From version 0.12, the only valid positional argument will be `data`, and passing other arguments without an explicit keyword will result in an error or misinterpretation.\n",
            "  FutureWarning\n"
          ]
        },
        {
          "output_type": "execute_result",
          "data": {
            "text/plain": [
              "<matplotlib.axes._subplots.AxesSubplot at 0x7fe457daf990>"
            ]
          },
          "metadata": {},
          "execution_count": 70
        },
        {
          "output_type": "display_data",
          "data": {
            "text/plain": [
              "<Figure size 432x288 with 1 Axes>"
            ],
            "image/png": "[encoded data removed]"
          },
          "metadata": {
            "needs_background": "light"
          }
        }
      ],
      "source": [
        "sns.barplot(df_profile['kmeans'], df_profile['windspeed'])"
      ]
    },
    {
      "cell_type": "markdown",
      "metadata": {
        "id": "1y_EnULhZkdF"
      },
      "source": [
        "### 군집 결과 성능 평가"
      ]
    },
    {
      "cell_type": "code",
      "execution_count": 71,
      "metadata": {
        "ExecuteTime": {
          "end_time": "2020-12-12T05:52:55.238930Z",
          "start_time": "2020-12-12T05:52:55.232430Z"
        },
        "id": "2Gsb_MHtZkdG"
      },
      "outputs": [],
      "source": [
        "a = y_train_over['y2'].astype('int')"
      ]
    },
    {
      "cell_type": "code",
      "execution_count": 72,
      "metadata": {
        "ExecuteTime": {
          "end_time": "2020-12-12T05:52:55.251473Z",
          "start_time": "2020-12-12T05:52:55.242461Z"
        },
        "id": "CbStfLsnZkdK",
        "outputId": "14d9daed-6841-4d8f-fea7-6723e5f5f94b",
        "colab": {
          "base_uri": "https://localhost:8080/"
        }
      },
      "outputs": [
        {
          "output_type": "execute_result",
          "data": {
            "text/plain": [
              "0    3885\n",
              "1    3885\n",
              "2    3885\n",
              "3    3885\n",
              "Name: y2, dtype: int64"
            ]
          },
          "metadata": {},
          "execution_count": 72
        }
      ],
      "source": [
        "a.value_counts().sort_index()"
      ]
    },
    {
      "cell_type": "code",
      "execution_count": 73,
      "metadata": {
        "ExecuteTime": {
          "end_time": "2020-12-12T05:52:55.259453Z",
          "start_time": "2020-12-12T05:52:55.254520Z"
        },
        "id": "D91n1AUKZkdK"
      },
      "outputs": [],
      "source": [
        "b = df_profile['kmeans']"
      ]
    },
    {
      "cell_type": "code",
      "execution_count": 74,
      "metadata": {
        "ExecuteTime": {
          "end_time": "2020-12-12T05:52:55.270501Z",
          "start_time": "2020-12-12T05:52:55.262445Z"
        },
        "id": "8U41kflkZkdM",
        "outputId": "63e66462-3d62-422b-9fe8-9abea970436e",
        "colab": {
          "base_uri": "https://localhost:8080/"
        }
      },
      "outputs": [
        {
          "output_type": "execute_result",
          "data": {
            "text/plain": [
              "0    2147\n",
              "1    6845\n",
              "2    2446\n",
              "3    4102\n",
              "Name: kmeans, dtype: int64"
            ]
          },
          "metadata": {},
          "execution_count": 74
        }
      ],
      "source": [
        "b.value_counts().sort_index()"
      ]
    },
    {
      "cell_type": "code",
      "execution_count": 76,
      "metadata": {
        "ExecuteTime": {
          "end_time": "2020-12-12T05:52:55.308237Z",
          "start_time": "2020-12-12T05:52:55.273522Z"
        },
        "id": "3qBWeQXvZkdN",
        "outputId": "0b69654f-b5a7-472f-a429-881f0679b0fd",
        "colab": {
          "base_uri": "https://localhost:8080/"
        }
      },
      "outputs": [
        {
          "output_type": "stream",
          "name": "stdout",
          "text": [
            "              precision    recall  f1-score   support\n",
            "\n",
            "     class 0       0.17      0.09      0.12      3885\n",
            "     class 1       0.37      0.65      0.47      3885\n",
            "     class 2       0.45      0.28      0.35      3885\n",
            "     class 3       0.48      0.51      0.50      3885\n",
            "\n",
            "    accuracy                           0.38     15540\n",
            "   macro avg       0.37      0.38      0.36     15540\n",
            "weighted avg       0.37      0.38      0.36     15540\n",
            "\n"
          ]
        }
      ],
      "source": [
        "# y의 class와 군집화 class의 이름을 맞추지 않으면 matrix가 안 맞는다\n",
        "# 세로가 actual값, 가로가 예측값 \n",
        "from sklearn.metrics import classification_report\n",
        "from sklearn.metrics import confusion_matrix\n",
        "\n",
        "target_names = ['class 0', 'class 1', 'class 2', 'class 3']\n",
        "print(classification_report(a, b, target_names=target_names))"
      ]
    },
    {
      "cell_type": "code",
      "execution_count": 77,
      "metadata": {
        "ExecuteTime": {
          "end_time": "2020-12-12T05:52:55.319192Z",
          "start_time": "2020-12-12T05:52:55.314533Z"
        },
        "id": "ZOSSQJfcZkdN"
      },
      "outputs": [],
      "source": [
        "target_name_pred = ['예측_'+i for i in target_names]\n",
        "target_name_actual = ['실제_'+i for i in target_names]"
      ]
    },
    {
      "cell_type": "code",
      "execution_count": 78,
      "metadata": {
        "ExecuteTime": {
          "end_time": "2020-12-12T05:52:55.350731Z",
          "start_time": "2020-12-12T05:52:55.322171Z"
        },
        "id": "qW3A5u1qZkdR",
        "outputId": "1aa4a91e-4ea8-4574-cd84-a11cd2bb659d",
        "colab": {
          "base_uri": "https://localhost:8080/",
          "height": 175
        }
      },
      "outputs": [
        {
          "output_type": "execute_result",
          "data": {
            "text/plain": [
              "            예측_class 0  예측_class 1  예측_class 2  예측_class 3\n",
              "실제_class 0         356        3510           0          19\n",
              "실제_class 1         477        2521         141         746\n",
              "실제_class 2         694         739        1101        1351\n",
              "실제_class 3         620          75        1204        1986"
            ],
            "text/html": [
              "\n",
              "  <div id=\"df-64a6762f-fc22-4e49-ac53-83dbf0932013\">\n",
              "    <div class=\"colab-df-container\">\n",
              "      <div>\n",
              "<style scoped>\n",
              "    .dataframe tbody tr th:only-of-type {\n",
              "        vertical-align: middle;\n",
              "    }\n",
              "\n",
              "    .dataframe tbody tr th {\n",
              "        vertical-align: top;\n",
              "    }\n",
              "\n",
              "    .dataframe thead th {\n",
              "        text-align: right;\n",
              "    }\n",
              "</style>\n",
              "<table border=\"1\" class=\"dataframe\">\n",
              "  <thead>\n",
              "    <tr style=\"text-align: right;\">\n",
              "      <th></th>\n",
              "      <th>예측_class 0</th>\n",
              "      <th>예측_class 1</th>\n",
              "      <th>예측_class 2</th>\n",
              "      <th>예측_class 3</th>\n",
              "    </tr>\n",
              "  </thead>\n",
              "  <tbody>\n",
              "    <tr>\n",
              "      <th>실제_class 0</th>\n",
              "      <td>356</td>\n",
              "      <td>3510</td>\n",
              "      <td>0</td>\n",
              "      <td>19</td>\n",
              "    </tr>\n",
              "    <tr>\n",
              "      <th>실제_class 1</th>\n",
              "      <td>477</td>\n",
              "      <td>2521</td>\n",
              "      <td>141</td>\n",
              "      <td>746</td>\n",
              "    </tr>\n",
              "    <tr>\n",
              "      <th>실제_class 2</th>\n",
              "      <td>694</td>\n",
              "      <td>739</td>\n",
              "      <td>1101</td>\n",
              "      <td>1351</td>\n",
              "    </tr>\n",
              "    <tr>\n",
              "      <th>실제_class 3</th>\n",
              "      <td>620</td>\n",
              "      <td>75</td>\n",
              "      <td>1204</td>\n",
              "      <td>1986</td>\n",
              "    </tr>\n",
              "  </tbody>\n",
              "</table>\n",
              "</div>\n",
              "      <button class=\"colab-df-convert\" onclick=\"convertToInteractive('df-64a6762f-fc22-4e49-ac53-83dbf0932013')\"\n",
              "              title=\"Convert this dataframe to an interactive table.\"\n",
              "              style=\"display:none;\">\n",
              "        \n",
              "  <svg xmlns=\"http://www.w3.org/2000/svg\" height=\"24px\"viewBox=\"0 0 24 24\"\n",
              "       width=\"24px\">\n",
              "    <path d=\"M0 0h24v24H0V0z\" fill=\"none\"/>\n",
              "    <path d=\"M18.56 5.44l.94 2.06.94-2.06 2.06-.94-2.06-.94-.94-2.06-.94 2.06-2.06.94zm-11 1L8.5 8.5l.94-2.06 2.06-.94-2.06-.94L8.5 2.5l-.94 2.06-2.06.94zm10 10l.94 2.06.94-2.06 2.06-.94-2.06-.94-.94-2.06-.94 2.06-2.06.94z\"/><path d=\"M17.41 7.96l-1.37-1.37c-.4-.4-.92-.59-1.43-.59-.52 0-1.04.2-1.43.59L10.3 9.45l-7.72 7.72c-.78.78-.78 2.05 0 2.83L4 21.41c.39.39.9.59 1.41.59.51 0 1.02-.2 1.41-.59l7.78-7.78 2.81-2.81c.8-.78.8-2.07 0-2.86zM5.41 20L4 18.59l7.72-7.72 1.47 1.35L5.41 20z\"/>\n",
              "  </svg>\n",
              "      </button>\n",
              "      \n",
              "  <style>\n",
              "    .colab-df-container {\n",
              "      display:flex;\n",
              "      flex-wrap:wrap;\n",
              "      gap: 12px;\n",
              "    }\n",
              "\n",
              "    .colab-df-convert {\n",
              "      background-color: #E8F0FE;\n",
              "      border: none;\n",
              "      border-radius: 50%;\n",
              "      cursor: pointer;\n",
              "      display: none;\n",
              "      fill: #1967D2;\n",
              "      height: 32px;\n",
              "      padding: 0 0 0 0;\n",
              "      width: 32px;\n",
              "    }\n",
              "\n",
              "    .colab-df-convert:hover {\n",
              "      background-color: #E2EBFA;\n",
              "      box-shadow: 0px 1px 2px rgba(60, 64, 67, 0.3), 0px 1px 3px 1px rgba(60, 64, 67, 0.15);\n",
              "      fill: #174EA6;\n",
              "    }\n",
              "\n",
              "    [theme=dark] .colab-df-convert {\n",
              "      background-color: #3B4455;\n",
              "      fill: #D2E3FC;\n",
              "    }\n",
              "\n",
              "    [theme=dark] .colab-df-convert:hover {\n",
              "      background-color: #434B5C;\n",
              "      box-shadow: 0px 1px 3px 1px rgba(0, 0, 0, 0.15);\n",
              "      filter: drop-shadow(0px 1px 2px rgba(0, 0, 0, 0.3));\n",
              "      fill: #FFFFFF;\n",
              "    }\n",
              "  </style>\n",
              "\n",
              "      <script>\n",
              "        const buttonEl =\n",
              "          document.querySelector('#df-64a6762f-fc22-4e49-ac53-83dbf0932013 button.colab-df-convert');\n",
              "        buttonEl.style.display =\n",
              "          google.colab.kernel.accessAllowed ? 'block' : 'none';\n",
              "\n",
              "        async function convertToInteractive(key) {\n",
              "          const element = document.querySelector('#df-64a6762f-fc22-4e49-ac53-83dbf0932013');\n",
              "          const dataTable =\n",
              "            await google.colab.kernel.invokeFunction('convertToInteractive',\n",
              "                                                     [key], {});\n",
              "          if (!dataTable) return;\n",
              "\n",
              "          const docLinkHtml = 'Like what you see? Visit the ' +\n",
              "            '<a target=\"_blank\" href=https://colab.research.google.com/notebooks/data_table.ipynb>data table notebook</a>'\n",
              "            + ' to learn more about interactive tables.';\n",
              "          element.innerHTML = '';\n",
              "          dataTable['output_type'] = 'display_data';\n",
              "          await google.colab.output.renderOutput(dataTable, element);\n",
              "          const docLink = document.createElement('div');\n",
              "          docLink.innerHTML = docLinkHtml;\n",
              "          element.appendChild(docLink);\n",
              "        }\n",
              "      </script>\n",
              "    </div>\n",
              "  </div>\n",
              "  "
            ]
          },
          "metadata": {},
          "execution_count": 78
        }
      ],
      "source": [
        "confusion = pd.DataFrame(confusion_matrix( a, b))\n",
        "confusion.columns = target_name_pred\n",
        "confusion.index = target_name_actual\n",
        "confusion"
      ]
    },
    {
      "cell_type": "markdown",
      "metadata": {
        "id": "vQbWXIdUZkdS"
      },
      "source": [
        "### 군집화 결과를 새로운 컬럼으로 추가(train, test 모두 수행)"
      ]
    },
    {
      "cell_type": "code",
      "execution_count": 79,
      "metadata": {
        "ExecuteTime": {
          "end_time": "2020-12-12T05:52:55.357756Z",
          "start_time": "2020-12-12T05:52:55.352726Z"
        },
        "id": "D0i3919YZkdU"
      },
      "outputs": [],
      "source": [
        "X_train_over['kmeans'] = kmeans.labels_"
      ]
    },
    {
      "cell_type": "code",
      "execution_count": 80,
      "metadata": {
        "ExecuteTime": {
          "end_time": "2020-12-12T05:52:55.371676Z",
          "start_time": "2020-12-12T05:52:55.360706Z"
        },
        "id": "iCEGmuSbZkdY"
      },
      "outputs": [],
      "source": [
        "kmeans_test = kmeans.predict(X_test_scale)\n",
        "X_test_scale['kmeans'] = kmeans_test"
      ]
    },
    {
      "cell_type": "markdown",
      "metadata": {
        "id": "Dm6QoJm4Zkdc"
      },
      "source": [
        "### 모델링"
      ]
    },
    {
      "cell_type": "code",
      "execution_count": 81,
      "metadata": {
        "ExecuteTime": {
          "end_time": "2020-12-12T05:52:55.418122Z",
          "start_time": "2020-12-12T05:52:55.374668Z"
        },
        "id": "XcqiEdLdZkdh"
      },
      "outputs": [],
      "source": [
        "from sklearn.pipeline import Pipeline\n",
        "from sklearn.model_selection import GridSearchCV, train_test_split, KFold, cross_val_score\n",
        "from sklearn.linear_model import LogisticRegression\n",
        "from sklearn.tree import DecisionTreeClassifier\n",
        "from sklearn.neighbors import KNeighborsClassifier\n",
        "from sklearn.discriminant_analysis import LinearDiscriminantAnalysis\n",
        "from sklearn.naive_bayes import GaussianNB\n",
        "from sklearn.ensemble import RandomForestClassifier\n",
        "from sklearn.neural_network import MLPClassifier"
      ]
    },
    {
      "cell_type": "code",
      "execution_count": 82,
      "metadata": {
        "ExecuteTime": {
          "end_time": "2020-12-12T05:52:55.425119Z",
          "start_time": "2020-12-12T05:52:55.420133Z"
        },
        "id": "eVQNbpXmZkds"
      },
      "outputs": [],
      "source": [
        "# Evaluate Algorithms\n",
        "# Test options and evaluation metric\n",
        "num_folds = 10\n",
        "seed = 7\n",
        "scoring = 'accuracy'\n",
        "# num_instances = len(X_train_over)"
      ]
    },
    {
      "cell_type": "markdown",
      "metadata": {
        "id": "cL71aeeqZkdt"
      },
      "source": [
        "#### 기초모델"
      ]
    },
    {
      "cell_type": "code",
      "execution_count": 83,
      "metadata": {
        "ExecuteTime": {
          "end_time": "2020-12-12T05:52:55.434140Z",
          "start_time": "2020-12-12T05:52:55.428113Z"
        },
        "id": "kD2ZWwLKZkdt"
      },
      "outputs": [],
      "source": [
        "models = []\n",
        "models.append(('LR', LogisticRegression()))\n",
        "models.append(('LDA', LinearDiscriminantAnalysis()))\n",
        "models.append(('KNN', KNeighborsClassifier()))\n",
        "models.append(('CART', DecisionTreeClassifier()))\n",
        "models.append(('NB', GaussianNB()))\n",
        "models.append(('RF', RandomForestClassifier()))\n",
        "models.append(('MLP', MLPClassifier()))"
      ]
    },
    {
      "cell_type": "code",
      "execution_count": 84,
      "metadata": {
        "ExecuteTime": {
          "end_time": "2020-12-12T05:52:55.445067Z",
          "start_time": "2020-12-12T05:52:55.437088Z"
        },
        "id": "Kwu66RlBZkdu",
        "outputId": "8a5adad3-7e5e-4513-fb59-1140b43a6349",
        "colab": {
          "base_uri": "https://localhost:8080/"
        }
      },
      "outputs": [
        {
          "output_type": "execute_result",
          "data": {
            "text/plain": [
              "[('LR', LogisticRegression()),\n",
              " ('LDA', LinearDiscriminantAnalysis()),\n",
              " ('KNN', KNeighborsClassifier()),\n",
              " ('CART', DecisionTreeClassifier()),\n",
              " ('NB', GaussianNB()),\n",
              " ('RF', RandomForestClassifier()),\n",
              " ('MLP', MLPClassifier())]"
            ]
          },
          "metadata": {},
          "execution_count": 84
        }
      ],
      "source": [
        "models"
      ]
    },
    {
      "cell_type": "code",
      "execution_count": 85,
      "metadata": {
        "ExecuteTime": {
          "end_time": "2020-12-12T05:57:26.758964Z",
          "start_time": "2020-12-12T05:52:55.447527Z"
        },
        "id": "rgUL2jR3Zkdv",
        "outputId": "fb5de1a7-1ac9-4b2e-80e4-29f81787b68e",
        "colab": {
          "base_uri": "https://localhost:8080/"
        }
      },
      "outputs": [
        {
          "output_type": "stream",
          "name": "stderr",
          "text": [
            "/usr/local/lib/python3.7/dist-packages/sklearn/linear_model/_logistic.py:818: ConvergenceWarning: lbfgs failed to converge (status=1):\n",
            "STOP: TOTAL NO. of ITERATIONS REACHED LIMIT.\n",
            "\n",
            "Increase the number of iterations (max_iter) or scale the data as shown in:\n",
            "    https://scikit-learn.org/stable/modules/preprocessing.html\n",
            "Please also refer to the documentation for alternative solver options:\n",
            "    https://scikit-learn.org/stable/modules/linear_model.html#logistic-regression\n",
            "  extra_warning_msg=_LOGISTIC_SOLVER_CONVERGENCE_MSG,\n",
            "/usr/local/lib/python3.7/dist-packages/sklearn/linear_model/_logistic.py:818: ConvergenceWarning: lbfgs failed to converge (status=1):\n",
            "STOP: TOTAL NO. of ITERATIONS REACHED LIMIT.\n",
            "\n",
            "Increase the number of iterations (max_iter) or scale the data as shown in:\n",
            "    https://scikit-learn.org/stable/modules/preprocessing.html\n",
            "Please also refer to the documentation for alternative solver options:\n",
            "    https://scikit-learn.org/stable/modules/linear_model.html#logistic-regression\n",
            "  extra_warning_msg=_LOGISTIC_SOLVER_CONVERGENCE_MSG,\n",
            "/usr/local/lib/python3.7/dist-packages/sklearn/linear_model/_logistic.py:818: ConvergenceWarning: lbfgs failed to converge (status=1):\n",
            "STOP: TOTAL NO. of ITERATIONS REACHED LIMIT.\n",
            "\n",
            "Increase the number of iterations (max_iter) or scale the data as shown in:\n",
            "    https://scikit-learn.org/stable/modules/preprocessing.html\n",
            "Please also refer to the documentation for alternative solver options:\n",
            "    https://scikit-learn.org/stable/modules/linear_model.html#logistic-regression\n",
            "  extra_warning_msg=_LOGISTIC_SOLVER_CONVERGENCE_MSG,\n",
            "/usr/local/lib/python3.7/dist-packages/sklearn/linear_model/_logistic.py:818: ConvergenceWarning: lbfgs failed to converge (status=1):\n",
            "STOP: TOTAL NO. of ITERATIONS REACHED LIMIT.\n",
            "\n",
            "Increase the number of iterations (max_iter) or scale the data as shown in:\n",
            "    https://scikit-learn.org/stable/modules/preprocessing.html\n",
            "Please also refer to the documentation for alternative solver options:\n",
            "    https://scikit-learn.org/stable/modules/linear_model.html#logistic-regression\n",
            "  extra_warning_msg=_LOGISTIC_SOLVER_CONVERGENCE_MSG,\n",
            "/usr/local/lib/python3.7/dist-packages/sklearn/linear_model/_logistic.py:818: ConvergenceWarning: lbfgs failed to converge (status=1):\n",
            "STOP: TOTAL NO. of ITERATIONS REACHED LIMIT.\n",
            "\n",
            "Increase the number of iterations (max_iter) or scale the data as shown in:\n",
            "    https://scikit-learn.org/stable/modules/preprocessing.html\n",
            "Please also refer to the documentation for alternative solver options:\n",
            "    https://scikit-learn.org/stable/modules/linear_model.html#logistic-regression\n",
            "  extra_warning_msg=_LOGISTIC_SOLVER_CONVERGENCE_MSG,\n",
            "/usr/local/lib/python3.7/dist-packages/sklearn/linear_model/_logistic.py:818: ConvergenceWarning: lbfgs failed to converge (status=1):\n",
            "STOP: TOTAL NO. of ITERATIONS REACHED LIMIT.\n",
            "\n",
            "Increase the number of iterations (max_iter) or scale the data as shown in:\n",
            "    https://scikit-learn.org/stable/modules/preprocessing.html\n",
            "Please also refer to the documentation for alternative solver options:\n",
            "    https://scikit-learn.org/stable/modules/linear_model.html#logistic-regression\n",
            "  extra_warning_msg=_LOGISTIC_SOLVER_CONVERGENCE_MSG,\n",
            "/usr/local/lib/python3.7/dist-packages/sklearn/linear_model/_logistic.py:818: ConvergenceWarning: lbfgs failed to converge (status=1):\n",
            "STOP: TOTAL NO. of ITERATIONS REACHED LIMIT.\n",
            "\n",
            "Increase the number of iterations (max_iter) or scale the data as shown in:\n",
            "    https://scikit-learn.org/stable/modules/preprocessing.html\n",
            "Please also refer to the documentation for alternative solver options:\n",
            "    https://scikit-learn.org/stable/modules/linear_model.html#logistic-regression\n",
            "  extra_warning_msg=_LOGISTIC_SOLVER_CONVERGENCE_MSG,\n",
            "/usr/local/lib/python3.7/dist-packages/sklearn/linear_model/_logistic.py:818: ConvergenceWarning: lbfgs failed to converge (status=1):\n",
            "STOP: TOTAL NO. of ITERATIONS REACHED LIMIT.\n",
            "\n",
            "Increase the number of iterations (max_iter) or scale the data as shown in:\n",
            "    https://scikit-learn.org/stable/modules/preprocessing.html\n",
            "Please also refer to the documentation for alternative solver options:\n",
            "    https://scikit-learn.org/stable/modules/linear_model.html#logistic-regression\n",
            "  extra_warning_msg=_LOGISTIC_SOLVER_CONVERGENCE_MSG,\n",
            "/usr/local/lib/python3.7/dist-packages/sklearn/linear_model/_logistic.py:818: ConvergenceWarning: lbfgs failed to converge (status=1):\n",
            "STOP: TOTAL NO. of ITERATIONS REACHED LIMIT.\n",
            "\n",
            "Increase the number of iterations (max_iter) or scale the data as shown in:\n",
            "    https://scikit-learn.org/stable/modules/preprocessing.html\n",
            "Please also refer to the documentation for alternative solver options:\n",
            "    https://scikit-learn.org/stable/modules/linear_model.html#logistic-regression\n",
            "  extra_warning_msg=_LOGISTIC_SOLVER_CONVERGENCE_MSG,\n",
            "/usr/local/lib/python3.7/dist-packages/sklearn/linear_model/_logistic.py:818: ConvergenceWarning: lbfgs failed to converge (status=1):\n",
            "STOP: TOTAL NO. of ITERATIONS REACHED LIMIT.\n",
            "\n",
            "Increase the number of iterations (max_iter) or scale the data as shown in:\n",
            "    https://scikit-learn.org/stable/modules/preprocessing.html\n",
            "Please also refer to the documentation for alternative solver options:\n",
            "    https://scikit-learn.org/stable/modules/linear_model.html#logistic-regression\n",
            "  extra_warning_msg=_LOGISTIC_SOLVER_CONVERGENCE_MSG,\n"
          ]
        },
        {
          "output_type": "stream",
          "name": "stdout",
          "text": [
            "[LR]\tmean: 0.992342\tstd: 0.002565\n",
            "[LDA]\tmean: 0.904118\tstd: 0.006638\n",
            "[KNN]\tmean: 0.956757\tstd: 0.003638\n",
            "[CART]\tmean: 0.990862\tstd: 0.002455\n",
            "[NB]\tmean: 0.898327\tstd: 0.005995\n",
            "[RF]\tmean: 0.992278\tstd: 0.002834\n"
          ]
        },
        {
          "output_type": "stream",
          "name": "stderr",
          "text": [
            "/usr/local/lib/python3.7/dist-packages/sklearn/neural_network/_multilayer_perceptron.py:696: ConvergenceWarning: Stochastic Optimizer: Maximum iterations (200) reached and the optimization hasn't converged yet.\n",
            "  ConvergenceWarning,\n",
            "/usr/local/lib/python3.7/dist-packages/sklearn/neural_network/_multilayer_perceptron.py:696: ConvergenceWarning: Stochastic Optimizer: Maximum iterations (200) reached and the optimization hasn't converged yet.\n",
            "  ConvergenceWarning,\n",
            "/usr/local/lib/python3.7/dist-packages/sklearn/neural_network/_multilayer_perceptron.py:696: ConvergenceWarning: Stochastic Optimizer: Maximum iterations (200) reached and the optimization hasn't converged yet.\n",
            "  ConvergenceWarning,\n",
            "/usr/local/lib/python3.7/dist-packages/sklearn/neural_network/_multilayer_perceptron.py:696: ConvergenceWarning: Stochastic Optimizer: Maximum iterations (200) reached and the optimization hasn't converged yet.\n",
            "  ConvergenceWarning,\n",
            "/usr/local/lib/python3.7/dist-packages/sklearn/neural_network/_multilayer_perceptron.py:696: ConvergenceWarning: Stochastic Optimizer: Maximum iterations (200) reached and the optimization hasn't converged yet.\n",
            "  ConvergenceWarning,\n",
            "/usr/local/lib/python3.7/dist-packages/sklearn/neural_network/_multilayer_perceptron.py:696: ConvergenceWarning: Stochastic Optimizer: Maximum iterations (200) reached and the optimization hasn't converged yet.\n",
            "  ConvergenceWarning,\n",
            "/usr/local/lib/python3.7/dist-packages/sklearn/neural_network/_multilayer_perceptron.py:696: ConvergenceWarning: Stochastic Optimizer: Maximum iterations (200) reached and the optimization hasn't converged yet.\n",
            "  ConvergenceWarning,\n"
          ]
        },
        {
          "output_type": "stream",
          "name": "stdout",
          "text": [
            "[MLP]\tmean: 0.996332\tstd: 0.001524\n"
          ]
        },
        {
          "output_type": "stream",
          "name": "stderr",
          "text": [
            "/usr/local/lib/python3.7/dist-packages/sklearn/neural_network/_multilayer_perceptron.py:696: ConvergenceWarning: Stochastic Optimizer: Maximum iterations (200) reached and the optimization hasn't converged yet.\n",
            "  ConvergenceWarning,\n"
          ]
        }
      ],
      "source": [
        "results = []\n",
        "names = []\n",
        "\n",
        "from sklearn.model_selection import StratifiedKFold\n",
        "skf = StratifiedKFold(n_splits=num_folds, shuffle=True, random_state=seed)\n",
        "# kfold = KFold(n_splits=num_folds, shuffle=True, random_state=seed)\n",
        "\n",
        "for name, model in models:\n",
        "    cv_results = cross_val_score(model, X_train_over, y_train_over.values.ravel(), cv=skf, scoring=scoring)\n",
        "    results.append(cv_results)\n",
        "    names.append(name)\n",
        "    msg = \"[%s]\\tmean: %f\\tstd: %f\" % (name, cv_results.mean(), cv_results.std())\n",
        "    print(msg)"
      ]
    },
    {
      "cell_type": "code",
      "execution_count": 86,
      "metadata": {
        "ExecuteTime": {
          "end_time": "2020-12-12T05:57:26.768882Z",
          "start_time": "2020-12-12T05:57:26.761966Z"
        },
        "id": "FOzhcWHsZkdx",
        "outputId": "c666d897-f143-43aa-fa60-8ee611b0f6a6",
        "colab": {
          "base_uri": "https://localhost:8080/"
        }
      },
      "outputs": [
        {
          "output_type": "execute_result",
          "data": {
            "text/plain": [
              "['LR', 'LDA', 'KNN', 'CART', 'NB', 'RF', 'MLP']"
            ]
          },
          "metadata": {},
          "execution_count": 86
        }
      ],
      "source": [
        "names"
      ]
    },
    {
      "cell_type": "code",
      "execution_count": 87,
      "metadata": {
        "ExecuteTime": {
          "end_time": "2020-12-12T05:57:26.787341Z",
          "start_time": "2020-12-12T05:57:26.773380Z"
        },
        "id": "JjOXGhgJZkdy",
        "outputId": "b3382357-5b15-4f1a-e1cf-7e9a91b30265",
        "colab": {
          "base_uri": "https://localhost:8080/"
        }
      },
      "outputs": [
        {
          "output_type": "stream",
          "name": "stdout",
          "text": [
            "LR 0.9923423423423424\n",
            "LDA 0.9041184041184043\n",
            "KNN 0.9567567567567569\n",
            "CART 0.9908622908622908\n",
            "NB 0.8983268983268984\n",
            "RF 0.9922779922779924\n",
            "MLP 0.9963320463320464\n"
          ]
        }
      ],
      "source": [
        "for i in range(len(names)):\n",
        "    print(names[i], np.mean(results[i]))"
      ]
    },
    {
      "cell_type": "code",
      "execution_count": 88,
      "metadata": {
        "ExecuteTime": {
          "end_time": "2020-12-12T05:57:27.070814Z",
          "start_time": "2020-12-12T05:57:26.790223Z"
        },
        "id": "EneaZCLbZkd0",
        "outputId": "d7f5f9f1-6034-460b-db6b-4b8ef5f8330e",
        "colab": {
          "base_uri": "https://localhost:8080/",
          "height": 332
        }
      },
      "outputs": [
        {
          "output_type": "stream",
          "name": "stderr",
          "text": [
            "WARNING:matplotlib.font_manager:findfont: Font family ['Malgun Gothic'] not found. Falling back to DejaVu Sans.\n"
          ]
        },
        {
          "output_type": "display_data",
          "data": {
            "text/plain": [
              "<Figure size 432x288 with 1 Axes>"
            ],
            "image/png": "[encoded data removed]"
          },
          "metadata": {
            "needs_background": "light"
          }
        }
      ],
      "source": [
        "# Compare Algorithms\n",
        "fig = plt.figure()\n",
        "fig.suptitle('Algorithm Comparison')\n",
        "ax = fig.add_subplot(111)\n",
        "plt.boxplot(results)\n",
        "ax.set_xticklabels(names)\n",
        "plt.show()"
      ]
    },
    {
      "cell_type": "markdown",
      "metadata": {
        "id": "RJKP6f0zZkd2"
      },
      "source": [
        "### 파라미터 튜닝 및 최종모델 선정"
      ]
    },
    {
      "cell_type": "code",
      "execution_count": 89,
      "metadata": {
        "ExecuteTime": {
          "end_time": "2020-12-12T06:00:06.198776Z",
          "start_time": "2020-12-12T05:57:27.072811Z"
        },
        "scrolled": true,
        "id": "BdIQkHNLZkd3",
        "outputId": "919876aa-c45c-435f-de21-f6bddd71a20d",
        "colab": {
          "base_uri": "https://localhost:8080/"
        }
      },
      "outputs": [
        {
          "output_type": "stream",
          "name": "stdout",
          "text": [
            "Best: 0.994852 using {'max_features': None, 'n_estimators': 20}\n",
            "0.983333 (0.003119) with: {'max_features': 'sqrt', 'n_estimators': 5}\n",
            "0.989640 (0.002645) with: {'max_features': 'sqrt', 'n_estimators': 10}\n",
            "0.990090 (0.002157) with: {'max_features': 'sqrt', 'n_estimators': 15}\n",
            "0.991184 (0.002193) with: {'max_features': 'sqrt', 'n_estimators': 20}\n",
            "0.990541 (0.003166) with: {'max_features': 'sqrt', 'n_estimators': 25}\n",
            "0.991699 (0.003337) with: {'max_features': 'sqrt', 'n_estimators': 30}\n",
            "0.991377 (0.003062) with: {'max_features': 'sqrt', 'n_estimators': 35}\n",
            "0.991248 (0.003075) with: {'max_features': 'sqrt', 'n_estimators': 40}\n",
            "0.984041 (0.002169) with: {'max_features': 'log2', 'n_estimators': 5}\n",
            "0.987838 (0.003132) with: {'max_features': 'log2', 'n_estimators': 10}\n",
            "0.989897 (0.002638) with: {'max_features': 'log2', 'n_estimators': 15}\n",
            "0.991441 (0.002864) with: {'max_features': 'log2', 'n_estimators': 20}\n",
            "0.989897 (0.003851) with: {'max_features': 'log2', 'n_estimators': 25}\n",
            "0.992278 (0.003086) with: {'max_features': 'log2', 'n_estimators': 30}\n",
            "0.991506 (0.003241) with: {'max_features': 'log2', 'n_estimators': 35}\n",
            "0.991441 (0.002526) with: {'max_features': 'log2', 'n_estimators': 40}\n",
            "0.993243 (0.001756) with: {'max_features': None, 'n_estimators': 5}\n",
            "0.993758 (0.001679) with: {'max_features': None, 'n_estimators': 10}\n",
            "0.993436 (0.002555) with: {'max_features': None, 'n_estimators': 15}\n",
            "0.994852 (0.002373) with: {'max_features': None, 'n_estimators': 20}\n",
            "0.994595 (0.002119) with: {'max_features': None, 'n_estimators': 25}\n",
            "0.994530 (0.002271) with: {'max_features': None, 'n_estimators': 30}\n",
            "0.993887 (0.002177) with: {'max_features': None, 'n_estimators': 35}\n",
            "0.993951 (0.002593) with: {'max_features': None, 'n_estimators': 40}\n"
          ]
        }
      ],
      "source": [
        "model = RandomForestClassifier()\n",
        "\n",
        "n_estimators_set = [5, 10, 15, 20, 25, 30, 35, 40]\n",
        "max_features_set = [\"sqrt\", \"log2\", None]\n",
        "param_grid = dict(n_estimators = n_estimators_set,\n",
        "                  max_features = max_features_set)\n",
        "\n",
        "grid = GridSearchCV(estimator = model, param_grid = param_grid, scoring = scoring, cv = skf)\n",
        "grid_result = grid.fit(X_train_over, y_train_over.values.ravel())\n",
        "print(\"Best: %f using %s\" % (grid_result.best_score_, grid_result.best_params_))\n",
        "\n",
        "a = grid_result.cv_results_\n",
        "\n",
        "for i in range(len(a['rank_test_score'])):\n",
        "    print('%f (%f) with: %r' %(a['mean_test_score'][i], a['std_test_score'][i], a['params'][i]))\n",
        "\n",
        "# for params, mean_score, scores in grid_result.cv_results_:  ## 얘 에러난다\n",
        "#     print('%f (%f) with: %r' %(mean_test_score.mean(), std_test_score.mean(), params))"
      ]
    },
    {
      "cell_type": "code",
      "execution_count": 90,
      "metadata": {
        "ExecuteTime": {
          "end_time": "2020-12-12T06:00:06.217619Z",
          "start_time": "2020-12-12T06:00:06.201661Z"
        },
        "id": "gb5rBwPbZkd4",
        "outputId": "5018f137-6e34-412c-f103-9a6b6b84f321",
        "colab": {
          "base_uri": "https://localhost:8080/"
        }
      },
      "outputs": [
        {
          "output_type": "stream",
          "name": "stdout",
          "text": [
            "best params:  {'max_features': None, 'n_estimators': 20}\n"
          ]
        },
        {
          "output_type": "execute_result",
          "data": {
            "text/plain": [
              "array([0.00000000e+00, 7.99128829e-05, 1.30818246e-04, 2.37822166e-04,\n",
              "       4.90180225e-04, 4.40926396e-05, 3.83916376e-04, 1.27829640e-02,\n",
              "       2.05511770e-03, 1.07728730e-03, 2.42589406e-01, 6.52032679e-01,\n",
              "       8.71228588e-05, 8.78355653e-02, 1.73115223e-04])"
            ]
          },
          "metadata": {},
          "execution_count": 90
        }
      ],
      "source": [
        "fine_tuned_RF = grid_result.best_estimator_\n",
        "print('best params: ', grid_result.best_params_)\n",
        "fine_tuned_RF.feature_importances_"
      ]
    },
    {
      "cell_type": "code",
      "execution_count": 91,
      "metadata": {
        "ExecuteTime": {
          "end_time": "2020-12-12T06:00:06.243517Z",
          "start_time": "2020-12-12T06:00:06.221193Z"
        },
        "id": "pKc28GRyZkd5",
        "outputId": "cd68dd19-dbfd-46d7-a287-1feb79e21261",
        "colab": {
          "base_uri": "https://localhost:8080/",
          "height": 519
        }
      },
      "outputs": [
        {
          "output_type": "execute_result",
          "data": {
            "text/plain": [
              "            col        FI\n",
              "11   registered  0.652033\n",
              "10       casual  0.242589\n",
              "13     Monetary  0.087836\n",
              "7         atemp  0.012783\n",
              "8      humidity  0.002055\n",
              "9     windspeed  0.001077\n",
              "4       holiday  0.000490\n",
              "6       weather  0.000384\n",
              "3   season[T.D]  0.000238\n",
              "14       kmeans  0.000173\n",
              "2   season[T.C]  0.000131\n",
              "12      Recency  0.000087\n",
              "1   season[T.B]  0.000080\n",
              "5    workingday  0.000044\n",
              "0     Intercept  0.000000"
            ],
            "text/html": [
              "\n",
              "  <div id=\"df-e19248d5-ee37-4f3f-9d36-90b1a270fbb1\">\n",
              "    <div class=\"colab-df-container\">\n",
              "      <div>\n",
              "<style scoped>\n",
              "    .dataframe tbody tr th:only-of-type {\n",
              "        vertical-align: middle;\n",
              "    }\n",
              "\n",
              "    .dataframe tbody tr th {\n",
              "        vertical-align: top;\n",
              "    }\n",
              "\n",
              "    .dataframe thead th {\n",
              "        text-align: right;\n",
              "    }\n",
              "</style>\n",
              "<table border=\"1\" class=\"dataframe\">\n",
              "  <thead>\n",
              "    <tr style=\"text-align: right;\">\n",
              "      <th></th>\n",
              "      <th>col</th>\n",
              "      <th>FI</th>\n",
              "    </tr>\n",
              "  </thead>\n",
              "  <tbody>\n",
              "    <tr>\n",
              "      <th>11</th>\n",
              "      <td>registered</td>\n",
              "      <td>0.652033</td>\n",
              "    </tr>\n",
              "    <tr>\n",
              "      <th>10</th>\n",
              "      <td>casual</td>\n",
              "      <td>0.242589</td>\n",
              "    </tr>\n",
              "    <tr>\n",
              "      <th>13</th>\n",
              "      <td>Monetary</td>\n",
              "      <td>0.087836</td>\n",
              "    </tr>\n",
              "    <tr>\n",
              "      <th>7</th>\n",
              "      <td>atemp</td>\n",
              "      <td>0.012783</td>\n",
              "    </tr>\n",
              "    <tr>\n",
              "      <th>8</th>\n",
              "      <td>humidity</td>\n",
              "      <td>0.002055</td>\n",
              "    </tr>\n",
              "    <tr>\n",
              "      <th>9</th>\n",
              "      <td>windspeed</td>\n",
              "      <td>0.001077</td>\n",
              "    </tr>\n",
              "    <tr>\n",
              "      <th>4</th>\n",
              "      <td>holiday</td>\n",
              "      <td>0.000490</td>\n",
              "    </tr>\n",
              "    <tr>\n",
              "      <th>6</th>\n",
              "      <td>weather</td>\n",
              "      <td>0.000384</td>\n",
              "    </tr>\n",
              "    <tr>\n",
              "      <th>3</th>\n",
              "      <td>season[T.D]</td>\n",
              "      <td>0.000238</td>\n",
              "    </tr>\n",
              "    <tr>\n",
              "      <th>14</th>\n",
              "      <td>kmeans</td>\n",
              "      <td>0.000173</td>\n",
              "    </tr>\n",
              "    <tr>\n",
              "      <th>2</th>\n",
              "      <td>season[T.C]</td>\n",
              "      <td>0.000131</td>\n",
              "    </tr>\n",
              "    <tr>\n",
              "      <th>12</th>\n",
              "      <td>Recency</td>\n",
              "      <td>0.000087</td>\n",
              "    </tr>\n",
              "    <tr>\n",
              "      <th>1</th>\n",
              "      <td>season[T.B]</td>\n",
              "      <td>0.000080</td>\n",
              "    </tr>\n",
              "    <tr>\n",
              "      <th>5</th>\n",
              "      <td>workingday</td>\n",
              "      <td>0.000044</td>\n",
              "    </tr>\n",
              "    <tr>\n",
              "      <th>0</th>\n",
              "      <td>Intercept</td>\n",
              "      <td>0.000000</td>\n",
              "    </tr>\n",
              "  </tbody>\n",
              "</table>\n",
              "</div>\n",
              "      <button class=\"colab-df-convert\" onclick=\"convertToInteractive('df-e19248d5-ee37-4f3f-9d36-90b1a270fbb1')\"\n",
              "              title=\"Convert this dataframe to an interactive table.\"\n",
              "              style=\"display:none;\">\n",
              "        \n",
              "  <svg xmlns=\"http://www.w3.org/2000/svg\" height=\"24px\"viewBox=\"0 0 24 24\"\n",
              "       width=\"24px\">\n",
              "    <path d=\"M0 0h24v24H0V0z\" fill=\"none\"/>\n",
              "    <path d=\"M18.56 5.44l.94 2.06.94-2.06 2.06-.94-2.06-.94-.94-2.06-.94 2.06-2.06.94zm-11 1L8.5 8.5l.94-2.06 2.06-.94-2.06-.94L8.5 2.5l-.94 2.06-2.06.94zm10 10l.94 2.06.94-2.06 2.06-.94-2.06-.94-.94-2.06-.94 2.06-2.06.94z\"/><path d=\"M17.41 7.96l-1.37-1.37c-.4-.4-.92-.59-1.43-.59-.52 0-1.04.2-1.43.59L10.3 9.45l-7.72 7.72c-.78.78-.78 2.05 0 2.83L4 21.41c.39.39.9.59 1.41.59.51 0 1.02-.2 1.41-.59l7.78-7.78 2.81-2.81c.8-.78.8-2.07 0-2.86zM5.41 20L4 18.59l7.72-7.72 1.47 1.35L5.41 20z\"/>\n",
              "  </svg>\n",
              "      </button>\n",
              "      \n",
              "  <style>\n",
              "    .colab-df-container {\n",
              "      display:flex;\n",
              "      flex-wrap:wrap;\n",
              "      gap: 12px;\n",
              "    }\n",
              "\n",
              "    .colab-df-convert {\n",
              "      background-color: #E8F0FE;\n",
              "      border: none;\n",
              "      border-radius: 50%;\n",
              "      cursor: pointer;\n",
              "      display: none;\n",
              "      fill: #1967D2;\n",
              "      height: 32px;\n",
              "      padding: 0 0 0 0;\n",
              "      width: 32px;\n",
              "    }\n",
              "\n",
              "    .colab-df-convert:hover {\n",
              "      background-color: #E2EBFA;\n",
              "      box-shadow: 0px 1px 2px rgba(60, 64, 67, 0.3), 0px 1px 3px 1px rgba(60, 64, 67, 0.15);\n",
              "      fill: #174EA6;\n",
              "    }\n",
              "\n",
              "    [theme=dark] .colab-df-convert {\n",
              "      background-color: #3B4455;\n",
              "      fill: #D2E3FC;\n",
              "    }\n",
              "\n",
              "    [theme=dark] .colab-df-convert:hover {\n",
              "      background-color: #434B5C;\n",
              "      box-shadow: 0px 1px 3px 1px rgba(0, 0, 0, 0.15);\n",
              "      filter: drop-shadow(0px 1px 2px rgba(0, 0, 0, 0.3));\n",
              "      fill: #FFFFFF;\n",
              "    }\n",
              "  </style>\n",
              "\n",
              "      <script>\n",
              "        const buttonEl =\n",
              "          document.querySelector('#df-e19248d5-ee37-4f3f-9d36-90b1a270fbb1 button.colab-df-convert');\n",
              "        buttonEl.style.display =\n",
              "          google.colab.kernel.accessAllowed ? 'block' : 'none';\n",
              "\n",
              "        async function convertToInteractive(key) {\n",
              "          const element = document.querySelector('#df-e19248d5-ee37-4f3f-9d36-90b1a270fbb1');\n",
              "          const dataTable =\n",
              "            await google.colab.kernel.invokeFunction('convertToInteractive',\n",
              "                                                     [key], {});\n",
              "          if (!dataTable) return;\n",
              "\n",
              "          const docLinkHtml = 'Like what you see? Visit the ' +\n",
              "            '<a target=\"_blank\" href=https://colab.research.google.com/notebooks/data_table.ipynb>data table notebook</a>'\n",
              "            + ' to learn more about interactive tables.';\n",
              "          element.innerHTML = '';\n",
              "          dataTable['output_type'] = 'display_data';\n",
              "          await google.colab.output.renderOutput(dataTable, element);\n",
              "          const docLink = document.createElement('div');\n",
              "          docLink.innerHTML = docLinkHtml;\n",
              "          element.appendChild(docLink);\n",
              "        }\n",
              "      </script>\n",
              "    </div>\n",
              "  </div>\n",
              "  "
            ]
          },
          "metadata": {},
          "execution_count": 91
        }
      ],
      "source": [
        "pd.DataFrame({'col':X_train_over.columns, 'FI':fine_tuned_RF.feature_importances_}).sort_values('FI', ascending=False)"
      ]
    },
    {
      "cell_type": "code",
      "execution_count": 92,
      "metadata": {
        "ExecuteTime": {
          "end_time": "2020-12-12T06:00:06.616677Z",
          "start_time": "2020-12-12T06:00:06.246438Z"
        },
        "id": "aCj9NyyHZkd6",
        "outputId": "418949fd-05c2-4960-d234-266b8227f385",
        "colab": {
          "base_uri": "https://localhost:8080/",
          "height": 332
        }
      },
      "outputs": [
        {
          "output_type": "execute_result",
          "data": {
            "text/plain": [
              "<matplotlib.axes._subplots.AxesSubplot at 0x7fe457a7ffd0>"
            ]
          },
          "metadata": {},
          "execution_count": 92
        },
        {
          "output_type": "display_data",
          "data": {
            "text/plain": [
              "<Figure size 432x288 with 1 Axes>"
            ],
            "image/png": "[encoded data removed]"
          },
          "metadata": {
            "needs_background": "light"
          }
        }
      ],
      "source": [
        "importances = pd.Series(fine_tuned_RF.feature_importances_, index =X_train_over.columns)\n",
        "importances.plot(kind='bar')"
      ]
    },
    {
      "cell_type": "code",
      "execution_count": 93,
      "metadata": {
        "ExecuteTime": {
          "end_time": "2020-12-12T06:00:06.626641Z",
          "start_time": "2020-12-12T06:00:06.618663Z"
        },
        "id": "PX6JRMHKZkd6",
        "outputId": "60ba90b7-599d-42a5-8ae7-49979e28bf76",
        "colab": {
          "base_uri": "https://localhost:8080/"
        }
      },
      "outputs": [
        {
          "output_type": "execute_result",
          "data": {
            "text/plain": [
              "array([0., 0., 0., ..., 3., 3., 3.])"
            ]
          },
          "metadata": {},
          "execution_count": 93
        }
      ],
      "source": [
        "y_train_over.values.ravel()"
      ]
    },
    {
      "cell_type": "markdown",
      "metadata": {
        "id": "e9uP3ERrZkd7"
      },
      "source": [
        "#### XGBoost 별도 수행(시간 없으니 꼭 필요할 때만 하기)\n",
        "\n",
        "- 컬럼명에 대괄호, 콤마, 부등호가 있으면 에러남\n",
        "- 수기로 바꿔줘야함"
      ]
    },
    {
      "cell_type": "code",
      "execution_count": 94,
      "metadata": {
        "ExecuteTime": {
          "end_time": "2020-12-12T06:00:06.636152Z",
          "start_time": "2020-12-12T06:00:06.629633Z"
        },
        "id": "Nn41ayZiZkd9",
        "outputId": "e5746407-7380-4671-fcdc-1ed795e09d9c",
        "colab": {
          "base_uri": "https://localhost:8080/"
        }
      },
      "outputs": [
        {
          "output_type": "execute_result",
          "data": {
            "text/plain": [
              "Index(['Intercept', 'season[T.B]', 'season[T.C]', 'season[T.D]', 'holiday',\n",
              "       'workingday', 'weather', 'atemp', 'humidity', 'windspeed', 'casual',\n",
              "       'registered', 'Recency', 'Monetary', 'kmeans'],\n",
              "      dtype='object')"
            ]
          },
          "metadata": {},
          "execution_count": 94
        }
      ],
      "source": [
        "X_train_over.columns"
      ]
    },
    {
      "cell_type": "code",
      "execution_count": 95,
      "metadata": {
        "ExecuteTime": {
          "end_time": "2020-12-12T06:00:06.647585Z",
          "start_time": "2020-12-12T06:00:06.640613Z"
        },
        "id": "NpDNmiE7Zkd9"
      },
      "outputs": [],
      "source": [
        "X_train_over.columns = ['Intercept', 'season_B', 'season_C', 'season_D', 'holiday',\n",
        "       'workingday', 'weather', 'atemp', 'humidity', 'windspeed', 'casual',\n",
        "       'registered', 'Recency', 'Monetary', 'kmeans']"
      ]
    },
    {
      "cell_type": "markdown",
      "metadata": {
        "id": "ZChoqBr7Zkea"
      },
      "source": [
        "- GridsearchCV가 불안정하므로 수기로 max_depth만 바꿔서 두 번 해보기"
      ]
    },
    {
      "cell_type": "code",
      "execution_count": 96,
      "metadata": {
        "ExecuteTime": {
          "end_time": "2020-12-12T06:01:55.570450Z",
          "start_time": "2020-12-12T06:00:06.650578Z"
        },
        "scrolled": true,
        "id": "nHpD6EhCZked",
        "outputId": "7fc61bb2-2ccc-4608-9cbb-7e77018c962f",
        "colab": {
          "base_uri": "https://localhost:8080/"
        }
      },
      "outputs": [
        {
          "output_type": "stream",
          "name": "stderr",
          "text": [
            "/usr/local/lib/python3.7/dist-packages/sklearn/preprocessing/_label.py:98: DataConversionWarning: A column-vector y was passed when a 1d array was expected. Please change the shape of y to (n_samples, ), for example using ravel().\n",
            "  y = column_or_1d(y, warn=True)\n",
            "/usr/local/lib/python3.7/dist-packages/sklearn/preprocessing/_label.py:133: DataConversionWarning: A column-vector y was passed when a 1d array was expected. Please change the shape of y to (n_samples, ), for example using ravel().\n",
            "  y = column_or_1d(y, warn=True)\n",
            "/usr/local/lib/python3.7/dist-packages/sklearn/preprocessing/_label.py:98: DataConversionWarning: A column-vector y was passed when a 1d array was expected. Please change the shape of y to (n_samples, ), for example using ravel().\n",
            "  y = column_or_1d(y, warn=True)\n",
            "/usr/local/lib/python3.7/dist-packages/sklearn/preprocessing/_label.py:133: DataConversionWarning: A column-vector y was passed when a 1d array was expected. Please change the shape of y to (n_samples, ), for example using ravel().\n",
            "  y = column_or_1d(y, warn=True)\n",
            "/usr/local/lib/python3.7/dist-packages/sklearn/preprocessing/_label.py:98: DataConversionWarning: A column-vector y was passed when a 1d array was expected. Please change the shape of y to (n_samples, ), for example using ravel().\n",
            "  y = column_or_1d(y, warn=True)\n",
            "/usr/local/lib/python3.7/dist-packages/sklearn/preprocessing/_label.py:133: DataConversionWarning: A column-vector y was passed when a 1d array was expected. Please change the shape of y to (n_samples, ), for example using ravel().\n",
            "  y = column_or_1d(y, warn=True)\n",
            "/usr/local/lib/python3.7/dist-packages/sklearn/preprocessing/_label.py:98: DataConversionWarning: A column-vector y was passed when a 1d array was expected. Please change the shape of y to (n_samples, ), for example using ravel().\n",
            "  y = column_or_1d(y, warn=True)\n",
            "/usr/local/lib/python3.7/dist-packages/sklearn/preprocessing/_label.py:133: DataConversionWarning: A column-vector y was passed when a 1d array was expected. Please change the shape of y to (n_samples, ), for example using ravel().\n",
            "  y = column_or_1d(y, warn=True)\n",
            "/usr/local/lib/python3.7/dist-packages/sklearn/preprocessing/_label.py:98: DataConversionWarning: A column-vector y was passed when a 1d array was expected. Please change the shape of y to (n_samples, ), for example using ravel().\n",
            "  y = column_or_1d(y, warn=True)\n",
            "/usr/local/lib/python3.7/dist-packages/sklearn/preprocessing/_label.py:133: DataConversionWarning: A column-vector y was passed when a 1d array was expected. Please change the shape of y to (n_samples, ), for example using ravel().\n",
            "  y = column_or_1d(y, warn=True)\n",
            "/usr/local/lib/python3.7/dist-packages/sklearn/preprocessing/_label.py:98: DataConversionWarning: A column-vector y was passed when a 1d array was expected. Please change the shape of y to (n_samples, ), for example using ravel().\n",
            "  y = column_or_1d(y, warn=True)\n",
            "/usr/local/lib/python3.7/dist-packages/sklearn/preprocessing/_label.py:133: DataConversionWarning: A column-vector y was passed when a 1d array was expected. Please change the shape of y to (n_samples, ), for example using ravel().\n",
            "  y = column_or_1d(y, warn=True)\n",
            "/usr/local/lib/python3.7/dist-packages/sklearn/preprocessing/_label.py:98: DataConversionWarning: A column-vector y was passed when a 1d array was expected. Please change the shape of y to (n_samples, ), for example using ravel().\n",
            "  y = column_or_1d(y, warn=True)\n",
            "/usr/local/lib/python3.7/dist-packages/sklearn/preprocessing/_label.py:133: DataConversionWarning: A column-vector y was passed when a 1d array was expected. Please change the shape of y to (n_samples, ), for example using ravel().\n",
            "  y = column_or_1d(y, warn=True)\n",
            "/usr/local/lib/python3.7/dist-packages/sklearn/preprocessing/_label.py:98: DataConversionWarning: A column-vector y was passed when a 1d array was expected. Please change the shape of y to (n_samples, ), for example using ravel().\n",
            "  y = column_or_1d(y, warn=True)\n",
            "/usr/local/lib/python3.7/dist-packages/sklearn/preprocessing/_label.py:133: DataConversionWarning: A column-vector y was passed when a 1d array was expected. Please change the shape of y to (n_samples, ), for example using ravel().\n",
            "  y = column_or_1d(y, warn=True)\n",
            "/usr/local/lib/python3.7/dist-packages/sklearn/preprocessing/_label.py:98: DataConversionWarning: A column-vector y was passed when a 1d array was expected. Please change the shape of y to (n_samples, ), for example using ravel().\n",
            "  y = column_or_1d(y, warn=True)\n",
            "/usr/local/lib/python3.7/dist-packages/sklearn/preprocessing/_label.py:133: DataConversionWarning: A column-vector y was passed when a 1d array was expected. Please change the shape of y to (n_samples, ), for example using ravel().\n",
            "  y = column_or_1d(y, warn=True)\n",
            "/usr/local/lib/python3.7/dist-packages/sklearn/preprocessing/_label.py:98: DataConversionWarning: A column-vector y was passed when a 1d array was expected. Please change the shape of y to (n_samples, ), for example using ravel().\n",
            "  y = column_or_1d(y, warn=True)\n",
            "/usr/local/lib/python3.7/dist-packages/sklearn/preprocessing/_label.py:133: DataConversionWarning: A column-vector y was passed when a 1d array was expected. Please change the shape of y to (n_samples, ), for example using ravel().\n",
            "  y = column_or_1d(y, warn=True)\n",
            "/usr/local/lib/python3.7/dist-packages/sklearn/preprocessing/_label.py:98: DataConversionWarning: A column-vector y was passed when a 1d array was expected. Please change the shape of y to (n_samples, ), for example using ravel().\n",
            "  y = column_or_1d(y, warn=True)\n",
            "/usr/local/lib/python3.7/dist-packages/sklearn/preprocessing/_label.py:133: DataConversionWarning: A column-vector y was passed when a 1d array was expected. Please change the shape of y to (n_samples, ), for example using ravel().\n",
            "  y = column_or_1d(y, warn=True)\n"
          ]
        },
        {
          "output_type": "stream",
          "name": "stdout",
          "text": [
            "[XGB]\tmean: 0.995624\tstd: 0.001404\n"
          ]
        }
      ],
      "source": [
        "# 사이킷런 래퍼 XGBoost 클래스인 XGBClassifier 임포트\n",
        "from xgboost import XGBClassifier\n",
        "\n",
        "xgb = XGBClassifier(n_estimators=400, learning_rate=0.1, max_depth=3)\n",
        "xgb.fit(X_train_over, y_train_over)\n",
        "\n",
        "\n",
        "kfold = KFold(n_splits=num_folds, shuffle=True, random_state=seed)\n",
        "# kfold = cross_validation.KFold(n=num_instances, n_folds=num_folds, random_state=seed)\n",
        "\n",
        "cv_results = cross_val_score(xgb, X_train_over, y_train_over, cv=kfold, scoring=scoring)\n",
        "# results.append(cv_results)\n",
        "# names.append(name)\n",
        "msg = \"[%s]\\tmean: %f\\tstd: %f\" % ('XGB', cv_results.mean(), cv_results.std())\n",
        "print(msg)"
      ]
    },
    {
      "cell_type": "code",
      "execution_count": 97,
      "metadata": {
        "ExecuteTime": {
          "end_time": "2020-12-12T06:04:25.819677Z",
          "start_time": "2020-12-12T06:01:55.573444Z"
        },
        "id": "9IdUYkqzZked",
        "outputId": "ab57b45e-ae2d-42e1-f0f1-2d4f69d2670d",
        "colab": {
          "base_uri": "https://localhost:8080/"
        }
      },
      "outputs": [
        {
          "output_type": "stream",
          "name": "stderr",
          "text": [
            "/usr/local/lib/python3.7/dist-packages/sklearn/preprocessing/_label.py:98: DataConversionWarning: A column-vector y was passed when a 1d array was expected. Please change the shape of y to (n_samples, ), for example using ravel().\n",
            "  y = column_or_1d(y, warn=True)\n",
            "/usr/local/lib/python3.7/dist-packages/sklearn/preprocessing/_label.py:133: DataConversionWarning: A column-vector y was passed when a 1d array was expected. Please change the shape of y to (n_samples, ), for example using ravel().\n",
            "  y = column_or_1d(y, warn=True)\n",
            "/usr/local/lib/python3.7/dist-packages/sklearn/preprocessing/_label.py:98: DataConversionWarning: A column-vector y was passed when a 1d array was expected. Please change the shape of y to (n_samples, ), for example using ravel().\n",
            "  y = column_or_1d(y, warn=True)\n",
            "/usr/local/lib/python3.7/dist-packages/sklearn/preprocessing/_label.py:133: DataConversionWarning: A column-vector y was passed when a 1d array was expected. Please change the shape of y to (n_samples, ), for example using ravel().\n",
            "  y = column_or_1d(y, warn=True)\n",
            "/usr/local/lib/python3.7/dist-packages/sklearn/preprocessing/_label.py:98: DataConversionWarning: A column-vector y was passed when a 1d array was expected. Please change the shape of y to (n_samples, ), for example using ravel().\n",
            "  y = column_or_1d(y, warn=True)\n",
            "/usr/local/lib/python3.7/dist-packages/sklearn/preprocessing/_label.py:133: DataConversionWarning: A column-vector y was passed when a 1d array was expected. Please change the shape of y to (n_samples, ), for example using ravel().\n",
            "  y = column_or_1d(y, warn=True)\n",
            "/usr/local/lib/python3.7/dist-packages/sklearn/preprocessing/_label.py:98: DataConversionWarning: A column-vector y was passed when a 1d array was expected. Please change the shape of y to (n_samples, ), for example using ravel().\n",
            "  y = column_or_1d(y, warn=True)\n",
            "/usr/local/lib/python3.7/dist-packages/sklearn/preprocessing/_label.py:133: DataConversionWarning: A column-vector y was passed when a 1d array was expected. Please change the shape of y to (n_samples, ), for example using ravel().\n",
            "  y = column_or_1d(y, warn=True)\n",
            "/usr/local/lib/python3.7/dist-packages/sklearn/preprocessing/_label.py:98: DataConversionWarning: A column-vector y was passed when a 1d array was expected. Please change the shape of y to (n_samples, ), for example using ravel().\n",
            "  y = column_or_1d(y, warn=True)\n",
            "/usr/local/lib/python3.7/dist-packages/sklearn/preprocessing/_label.py:133: DataConversionWarning: A column-vector y was passed when a 1d array was expected. Please change the shape of y to (n_samples, ), for example using ravel().\n",
            "  y = column_or_1d(y, warn=True)\n",
            "/usr/local/lib/python3.7/dist-packages/sklearn/preprocessing/_label.py:98: DataConversionWarning: A column-vector y was passed when a 1d array was expected. Please change the shape of y to (n_samples, ), for example using ravel().\n",
            "  y = column_or_1d(y, warn=True)\n",
            "/usr/local/lib/python3.7/dist-packages/sklearn/preprocessing/_label.py:133: DataConversionWarning: A column-vector y was passed when a 1d array was expected. Please change the shape of y to (n_samples, ), for example using ravel().\n",
            "  y = column_or_1d(y, warn=True)\n",
            "/usr/local/lib/python3.7/dist-packages/sklearn/preprocessing/_label.py:98: DataConversionWarning: A column-vector y was passed when a 1d array was expected. Please change the shape of y to (n_samples, ), for example using ravel().\n",
            "  y = column_or_1d(y, warn=True)\n",
            "/usr/local/lib/python3.7/dist-packages/sklearn/preprocessing/_label.py:133: DataConversionWarning: A column-vector y was passed when a 1d array was expected. Please change the shape of y to (n_samples, ), for example using ravel().\n",
            "  y = column_or_1d(y, warn=True)\n",
            "/usr/local/lib/python3.7/dist-packages/sklearn/preprocessing/_label.py:98: DataConversionWarning: A column-vector y was passed when a 1d array was expected. Please change the shape of y to (n_samples, ), for example using ravel().\n",
            "  y = column_or_1d(y, warn=True)\n",
            "/usr/local/lib/python3.7/dist-packages/sklearn/preprocessing/_label.py:133: DataConversionWarning: A column-vector y was passed when a 1d array was expected. Please change the shape of y to (n_samples, ), for example using ravel().\n",
            "  y = column_or_1d(y, warn=True)\n",
            "/usr/local/lib/python3.7/dist-packages/sklearn/preprocessing/_label.py:98: DataConversionWarning: A column-vector y was passed when a 1d array was expected. Please change the shape of y to (n_samples, ), for example using ravel().\n",
            "  y = column_or_1d(y, warn=True)\n",
            "/usr/local/lib/python3.7/dist-packages/sklearn/preprocessing/_label.py:133: DataConversionWarning: A column-vector y was passed when a 1d array was expected. Please change the shape of y to (n_samples, ), for example using ravel().\n",
            "  y = column_or_1d(y, warn=True)\n",
            "/usr/local/lib/python3.7/dist-packages/sklearn/preprocessing/_label.py:98: DataConversionWarning: A column-vector y was passed when a 1d array was expected. Please change the shape of y to (n_samples, ), for example using ravel().\n",
            "  y = column_or_1d(y, warn=True)\n",
            "/usr/local/lib/python3.7/dist-packages/sklearn/preprocessing/_label.py:133: DataConversionWarning: A column-vector y was passed when a 1d array was expected. Please change the shape of y to (n_samples, ), for example using ravel().\n",
            "  y = column_or_1d(y, warn=True)\n",
            "/usr/local/lib/python3.7/dist-packages/sklearn/preprocessing/_label.py:98: DataConversionWarning: A column-vector y was passed when a 1d array was expected. Please change the shape of y to (n_samples, ), for example using ravel().\n",
            "  y = column_or_1d(y, warn=True)\n",
            "/usr/local/lib/python3.7/dist-packages/sklearn/preprocessing/_label.py:133: DataConversionWarning: A column-vector y was passed when a 1d array was expected. Please change the shape of y to (n_samples, ), for example using ravel().\n",
            "  y = column_or_1d(y, warn=True)\n"
          ]
        },
        {
          "output_type": "stream",
          "name": "stdout",
          "text": [
            "[XGB]\tmean: 0.995367\tstd: 0.001905\n"
          ]
        }
      ],
      "source": [
        "xgb = XGBClassifier(n_estimators=400, learning_rate=0.1, max_depth=5) # max_depth를 5로만 바꿈\n",
        "xgb.fit(X_train_over, y_train_over)\n",
        "\n",
        "kfold = KFold(n_splits=num_folds, shuffle=True, random_state=seed)\n",
        "\n",
        "cv_results = cross_val_score(xgb, X_train_over, y_train_over, cv=kfold, scoring=scoring)\n",
        "msg = \"[%s]\\tmean: %f\\tstd: %f\" % ('XGB', cv_results.mean(), cv_results.std())\n",
        "print(msg)"
      ]
    },
    {
      "cell_type": "markdown",
      "metadata": {
        "id": "I_T68nk6Zkeh"
      },
      "source": [
        "- 변수중요도 시각화"
      ]
    },
    {
      "cell_type": "code",
      "execution_count": 98,
      "metadata": {
        "ExecuteTime": {
          "end_time": "2020-12-12T06:04:26.430326Z",
          "start_time": "2020-12-12T06:04:25.821790Z"
        },
        "id": "4JzMDtHVZkeh",
        "outputId": "00d41884-711d-4bf3-a44b-4fbcf8224795",
        "colab": {
          "base_uri": "https://localhost:8080/",
          "height": 748
        }
      },
      "outputs": [
        {
          "output_type": "execute_result",
          "data": {
            "text/plain": [
              "<matplotlib.axes._subplots.AxesSubplot at 0x7fe457991910>"
            ]
          },
          "metadata": {},
          "execution_count": 98
        },
        {
          "output_type": "display_data",
          "data": {
            "text/plain": [
              "<Figure size 720x864 with 1 Axes>"
            ],
            "image/png": "[encoded data removed]"
          },
          "metadata": {
            "needs_background": "light"
          }
        }
      ],
      "source": [
        "from xgboost import plot_importance\n",
        "import matplotlib.pyplot as plt\n",
        "%matplotlib inline\n",
        "\n",
        "fig, ax = plt.subplots(figsize=(10, 12))\n",
        "# 사이킷런 래퍼 클래스를 입력해도 무방. \n",
        "plot_importance(xgb, ax=ax)"
      ]
    },
    {
      "cell_type": "markdown",
      "metadata": {
        "id": "E3XDsI5OZken"
      },
      "source": [
        "### Test set 활용하여 예측 수행"
      ]
    },
    {
      "cell_type": "code",
      "execution_count": 99,
      "metadata": {
        "ExecuteTime": {
          "end_time": "2020-12-12T06:04:26.468614Z",
          "start_time": "2020-12-12T06:04:26.433308Z"
        },
        "id": "4MJll6YTZkeo"
      },
      "outputs": [],
      "source": [
        "y_pred = fine_tuned_RF.predict(X_test_scale)"
      ]
    },
    {
      "cell_type": "code",
      "execution_count": 100,
      "metadata": {
        "ExecuteTime": {
          "end_time": "2020-12-12T06:04:26.492628Z",
          "start_time": "2020-12-12T06:04:26.480615Z"
        },
        "id": "dNgoSOjbZkeo",
        "outputId": "15820147-8336-4eb0-a967-e32c9d9d2363",
        "colab": {
          "base_uri": "https://localhost:8080/"
        }
      },
      "outputs": [
        {
          "output_type": "execute_result",
          "data": {
            "text/plain": [
              "array([[1657,    7,    0,    0],\n",
              "       [   5,  837,    5,    0],\n",
              "       [   0,    5,  397,    6],\n",
              "       [   0,    0,   11,  330]])"
            ]
          },
          "metadata": {},
          "execution_count": 100
        }
      ],
      "source": [
        "confusion_matrix(y_test, y_pred)"
      ]
    },
    {
      "cell_type": "markdown",
      "metadata": {
        "id": "W2IBLmFWZkep"
      },
      "source": [
        "#### F1 score"
      ]
    },
    {
      "cell_type": "code",
      "execution_count": 101,
      "metadata": {
        "ExecuteTime": {
          "end_time": "2020-12-12T06:04:26.518314Z",
          "start_time": "2020-12-12T06:04:26.497650Z"
        },
        "id": "zMnXs-D2Zkep",
        "outputId": "eb3739cc-8615-4800-c122-5f20849f9055",
        "colab": {
          "base_uri": "https://localhost:8080/"
        }
      },
      "outputs": [
        {
          "output_type": "stream",
          "name": "stdout",
          "text": [
            "              precision    recall  f1-score   support\n",
            "\n",
            "         0.0       1.00      1.00      1.00      1664\n",
            "         1.0       0.99      0.99      0.99       847\n",
            "         2.0       0.96      0.97      0.97       408\n",
            "         3.0       0.98      0.97      0.97       341\n",
            "\n",
            "    accuracy                           0.99      3260\n",
            "   macro avg       0.98      0.98      0.98      3260\n",
            "weighted avg       0.99      0.99      0.99      3260\n",
            "\n"
          ]
        }
      ],
      "source": [
        "print(classification_report(y_test, y_pred))"
      ]
    },
    {
      "cell_type": "markdown",
      "metadata": {
        "id": "7UHKQvWhZkeq"
      },
      "source": [
        "#### ROC AUC"
      ]
    },
    {
      "cell_type": "code",
      "execution_count": 102,
      "metadata": {
        "ExecuteTime": {
          "end_time": "2020-12-12T06:04:34.766364Z",
          "start_time": "2020-12-12T06:04:26.532705Z"
        },
        "id": "aXWixmkRZkeq",
        "outputId": "83e6ff84-2d25-460f-be41-cb08f1235e33",
        "colab": {
          "base_uri": "https://localhost:8080/",
          "height": 756
        }
      },
      "outputs": [
        {
          "output_type": "stream",
          "name": "stderr",
          "text": [
            "/usr/local/lib/python3.7/dist-packages/matplotlib/backends/backend_agg.py:214: RuntimeWarning: Glyph 50948 missing from current font.\n",
            "  font.set_text(s, 0.0, flags=flags)\n",
            "/usr/local/lib/python3.7/dist-packages/matplotlib/backends/backend_agg.py:214: RuntimeWarning: Glyph 50577 missing from current font.\n",
            "  font.set_text(s, 0.0, flags=flags)\n",
            "/usr/local/lib/python3.7/dist-packages/matplotlib/backends/backend_agg.py:214: RuntimeWarning: Glyph 49457 missing from current font.\n",
            "  font.set_text(s, 0.0, flags=flags)\n",
            "/usr/local/lib/python3.7/dist-packages/matplotlib/backends/backend_agg.py:214: RuntimeWarning: Glyph 47456 missing from current font.\n",
            "  font.set_text(s, 0.0, flags=flags)\n",
            "/usr/local/lib/python3.7/dist-packages/matplotlib/backends/backend_agg.py:214: RuntimeWarning: Glyph 51116 missing from current font.\n",
            "  font.set_text(s, 0.0, flags=flags)\n",
            "/usr/local/lib/python3.7/dist-packages/matplotlib/backends/backend_agg.py:214: RuntimeWarning: Glyph 54788 missing from current font.\n",
            "  font.set_text(s, 0.0, flags=flags)\n",
            "/usr/local/lib/python3.7/dist-packages/matplotlib/backends/backend_agg.py:183: RuntimeWarning: Glyph 50948 missing from current font.\n",
            "  font.set_text(s, 0, flags=flags)\n",
            "/usr/local/lib/python3.7/dist-packages/matplotlib/backends/backend_agg.py:183: RuntimeWarning: Glyph 50577 missing from current font.\n",
            "  font.set_text(s, 0, flags=flags)\n",
            "/usr/local/lib/python3.7/dist-packages/matplotlib/backends/backend_agg.py:183: RuntimeWarning: Glyph 49457 missing from current font.\n",
            "  font.set_text(s, 0, flags=flags)\n",
            "/usr/local/lib/python3.7/dist-packages/matplotlib/backends/backend_agg.py:183: RuntimeWarning: Glyph 47456 missing from current font.\n",
            "  font.set_text(s, 0, flags=flags)\n",
            "/usr/local/lib/python3.7/dist-packages/matplotlib/backends/backend_agg.py:183: RuntimeWarning: Glyph 51116 missing from current font.\n",
            "  font.set_text(s, 0, flags=flags)\n",
            "/usr/local/lib/python3.7/dist-packages/matplotlib/backends/backend_agg.py:183: RuntimeWarning: Glyph 54788 missing from current font.\n",
            "  font.set_text(s, 0, flags=flags)\n"
          ]
        },
        {
          "output_type": "display_data",
          "data": {
            "text/plain": [
              "<Figure size 432x288 with 1 Axes>"
            ],
            "image/png": "[encoded data removed]"
          },
          "metadata": {
            "needs_background": "light"
          }
        },
        {
          "output_type": "stream",
          "name": "stdout",
          "text": [
            "ROC_AUC :  [0.9999999779150358, 0.9999998343627687, 0.9999998233202866, 1.0]\n"
          ]
        }
      ],
      "source": [
        "from sklearn.metrics import roc_curve\n",
        "from sklearn.metrics import auc\n",
        "import matplotlib.pyplot as plt\n",
        "# from sklearn.naive_bayes import GaussianNB\n",
        "# from sklearn.datasets import load_iris\n",
        "from sklearn.preprocessing import label_binarize\n",
        "\n",
        "# iris = load_iris()\n",
        "# X = iris.data   # 독립변수가 있고\n",
        "\n",
        "\n",
        "# 이 아래부터 활용하면 됨\n",
        "X = X_train_over\n",
        "y = label_binarize(y_train_over, classes = [0, 1, 2, 3])   # 종속변수 y를 더미화를 시킴\n",
        "\n",
        "n = 4 # class 개수만큼(여기선 4개였음)\n",
        "fpr = [None] * n\n",
        "tpr = [None] * n\n",
        "threshold = [None] * n\n",
        "roc_auc = []\n",
        "\n",
        "for i in range(n):   \n",
        "    model = fine_tuned_RF.fit(X, y[:, i])   # 모델링을 함\n",
        "    fpr[i], tpr[i], threshold[i] = roc_curve(y[:, i], model.predict_proba(X)[:, 1])\n",
        "    plt.plot(fpr[i], tpr[i])\n",
        "    \n",
        "    roc_auc.append(auc(fpr[i], tpr[i]))\n",
        "\n",
        "plt.xlabel('위양성률(Fall-Out)')\n",
        "plt.ylabel('재현률(Recall)')\n",
        "plt.show()\n",
        "print('ROC_AUC : ',roc_auc)"
      ]
    },
    {
      "cell_type": "code",
      "source": [
        ""
      ],
      "metadata": {
        "id": "z5i6RjgCpwtC"
      },
      "execution_count": null,
      "outputs": []
    }
  ],
  "metadata": {
    "kernelspec": {
      "display_name": "Python 3",
      "language": "python",
      "name": "python3"
    },
    "language_info": {
      "codemirror_mode": {
        "name": "ipython",
        "version": 3
      },
      "file_extension": ".py",
      "mimetype": "text/x-python",
      "name": "python",
      "nbconvert_exporter": "python",
      "pygments_lexer": "ipython3",
      "version": "3.7.4"
    },
    "toc": {
      "base_numbering": 1,
      "nav_menu": {},
      "number_sections": true,
      "sideBar": true,
      "skip_h1_title": false,
      "title_cell": "Table of Contents",
      "title_sidebar": "Contents",
      "toc_cell": false,
      "toc_position": {
        "height": "calc(100% - 180px)",
        "left": "10px",
        "top": "150px",
        "width": "672px"
      },
      "toc_section_display": true,
      "toc_window_display": true
    },
    "varInspector": {
      "cols": {
        "lenName": 16,
        "lenType": 16,
        "lenVar": 40
      },
      "kernels_config": {
        "python": {
          "delete_cmd_postfix": "",
          "delete_cmd_prefix": "del ",
          "library": "var_list.py",
          "varRefreshCmd": "print(var_dic_list())"
        },
        "r": {
          "delete_cmd_postfix": ") ",
          "delete_cmd_prefix": "rm(",
          "library": "var_list.r",
          "varRefreshCmd": "cat(var_dic_list()) "
        }
      },
      "types_to_exclude": [
        "module",
        "function",
        "builtin_function_or_method",
        "instance",
        "_Feature"
      ],
      "window_display": false
    },
    "colab": {
      "name": "20_시나리오_스크립트_분류.ipynb",
      "provenance": []
    }
  },
  "nbformat": 4,
  "nbformat_minor": 0
}