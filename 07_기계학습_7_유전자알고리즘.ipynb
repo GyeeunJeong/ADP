{
  "nbformat": 4,
  "nbformat_minor": 0,
  "metadata": {
    "colab": {
      "name": "07_기계학습_7_유전자알고리즘.ipynb",
      "provenance": [],
      "authorship_tag": "ABX9TyNSF0zn3Kp/nzFZfJwA/lMr",
      "include_colab_link": true
    },
    "kernelspec": {
      "name": "python3",
      "display_name": "Python 3"
    },
    "language_info": {
      "name": "python"
    }
  },
  "cells": [
    {
      "cell_type": "markdown",
      "metadata": {
        "id": "view-in-github",
        "colab_type": "text"
      },
      "source": [
        "<a href=\"https://colab.research.google.com/github/joyfulspace/ADP/blob/master/07_%EA%B8%B0%EA%B3%84%ED%95%99%EC%8A%B5_7_%EC%9C%A0%EC%A0%84%EC%9E%90%EC%95%8C%EA%B3%A0%EB%A6%AC%EC%A6%98.ipynb\" target=\"_parent\"><img src=\"https://colab.research.google.com/assets/colab-badge.svg\" alt=\"Open In Colab\"/></a>"
      ]
    },
    {
      "cell_type": "markdown",
      "source": [
        "# 유전자알고리즘\n",
        "* 모든 규칙을 만족시켜야 할 때 사용\n",
        "* 교차(crossover): 2개의 염색체를 유합하는 방법 (염색체: 솔루션을 추상화한 정보 단위)\n",
        "  - 교차점 1개: 싱글 크로스오버\n",
        "  - 교차점이 많다고 꼭 좋은 해를 얻는 것은 아니고 다양한 해를 얻을 수 있음\n",
        "* 변이(mutation): 돌연변이 발생할 때 오히려 좋은 해가 만들어질 수 있음.\n",
        "  - 지역 최적화 탈출하는 효과 있음\n",
        "  - 하나의 염색체, 정보 단위에서 랜덤으로 하나의 연결점을 찾은 후, 그 부분의 정보를 의도적으로 왜곡시키는 것\n",
        "\n",
        "* 프로세스\n",
        "  1. 문제/해/해집합 정의\n",
        "    - 도메인 결정도 중요\n",
        "    - 도메인: 해 집합의 범위\n",
        "  2. 해(솔루션)의 염색체 정의 \n",
        "  3. 적합도 함수 f(x)설계 \n",
        "    - 적합도 평가\n",
        "    - cost function 사용: 규칙 위배에 따른 상벌 부과\n",
        "    - 환경에 적응하지 못하는 염색체는 페널티가 부과되어 자연선택의 확률이 낮아져 도태되도록 되어 있음\n",
        "    - 규칙 정리하고 > 패널티, 리워드 정하고 > cost function 설계\n",
        "    - 이 부분에 따라 성능이 크게 달라짐\n",
        "    - 우선순위 정리가 필요\n",
        "    - 모든 것을 100% 만족시키는 방법은 없음\n",
        "  4. 좋은 품종의 유전자 교배(교차/변이 등) \n",
        "  5. 적합한 염색체 선별 \n",
        "  6. 충분한 세대교체\n",
        "\n"
      ],
      "metadata": {
        "id": "FoKCz7-LVdBQ"
      }
    },
    {
      "cell_type": "code",
      "source": [
        "# -*- coding: utf-8 -*-\n",
        "\n",
        "import time\n",
        "import random\n",
        "import math\n",
        "import scipy.stats\n",
        "import numpy as np\n",
        "\n",
        "# 구간과 도메인의 정의\n",
        "times = ['A', 'B', 'C', 'D', 'E', 'F']\n",
        "domain = [(0, (len(times)*3)-i-1) for i in range(0, len(times)*3)]\n",
        "\n",
        "# cost function 설계를 위한 제약조건 정리\n",
        "prefs = {\n",
        "    1: ['B', 'C', 'A'], # 1번 사람은 B, C, A 시간대를 선호\n",
        "    7: ['E', 'F'],\n",
        "    11: ['A', 'B'],\n",
        "    15: ['E', 'D']\n",
        "}\n",
        "\n",
        "hates = {13: [1, 7], # 13번 사람은 1번, 7번 사람과 함께 있기 싫음\n",
        "         10: [11, 15],\n",
        "         3: [8, 12, 10]\n",
        "}\n",
        "\n",
        "man = [range(0, 12)] # 0~11이 남자\n",
        "woman = [range(12, 18)]"
      ],
      "metadata": {
        "id": "p4fMlWvraPuN"
      },
      "execution_count": 10,
      "outputs": []
    },
    {
      "cell_type": "code",
      "source": [
        "domain"
      ],
      "metadata": {
        "colab": {
          "base_uri": "https://localhost:8080/"
        },
        "id": "ACjnooZreM2a",
        "outputId": "4ab7f46c-7911-4455-e2f2-e6998a123f07"
      },
      "execution_count": 5,
      "outputs": [
        {
          "output_type": "execute_result",
          "data": {
            "text/plain": [
              "[(0, 17),\n",
              " (0, 16),\n",
              " (0, 15),\n",
              " (0, 14),\n",
              " (0, 13),\n",
              " (0, 12),\n",
              " (0, 11),\n",
              " (0, 10),\n",
              " (0, 9),\n",
              " (0, 8),\n",
              " (0, 7),\n",
              " (0, 6),\n",
              " (0, 5),\n",
              " (0, 4),\n",
              " (0, 3),\n",
              " (0, 2),\n",
              " (0, 1),\n",
              " (0, 0)]"
            ]
          },
          "metadata": {},
          "execution_count": 5
        }
      ]
    },
    {
      "cell_type": "code",
      "source": [
        "def dormcost(vec):\n",
        "  # cost function 정의\n",
        "  # 선호하는 시간대에 따라 점수 부여\n",
        "  # 싫어하는 사람에 따라 점수 부여\n",
        "  # 각 시간대에 적어도 1명은 남자\n",
        "  # C시간대에 여성이 있으면 안 됨\n",
        "\n",
        "  cost = 0\n",
        "\n",
        "  # Create list a lot of slots\n",
        "  slots = []\n",
        "  for i in range(len(times)): slots+=[i,i,i]\n",
        "\n",
        "  # 해 vec에 따른 시간대 설정\n",
        "  times_band = printsolution(vec) #vec는 DNA값\n",
        "\n",
        "  # 선호하는 시간대에 따라 점수 부여\n",
        "  for i in prefs.keys():\n",
        "    time = times_band[i]\n",
        "    pref = prefs[i]\n",
        "\n",
        "    satisfy = False\n",
        "    for j in range(len(pref)):\n",
        "      if pref[j]==time:\n",
        "        cost += (j*2)\n",
        "        satisfy = True\n",
        "    if satisfy==False:\n",
        "      cost += (j*2+3)\n",
        "\n",
        "  # 싫어하는 사람에 따라 점수 부여\n",
        "  for i in hates.keys():\n",
        "    time = times_band[i]\n",
        "    ha = hates[i]\n",
        "\n",
        "    for j in range(len(ha)):\n",
        "      y = int(vec[ha[j]])\n",
        "      time_y = times[slots[y]]\n",
        "      if time_y==time:\n",
        "        cost += (7-j)\n",
        "\n",
        "  # 각 방에 적어도 1명은 남자\n",
        "  idx = 0\n",
        "  time_dic = {'A':0, 'B':0, 'C':0, 'D':0, 'E':0, 'F':0}\n",
        "\n",
        "  for t in times_band:\n",
        "    idx += 1\n",
        "    if idx>=0 and idx<=11:\n",
        "      if t=='A': time_dic['A'] += 1\n",
        "      elif t=='B': time_dic['B'] += 1\n",
        "      elif t=='C': time_dic['C'] += 1\n",
        "      elif t=='D': time_dic['D'] += 1\n",
        "      elif t=='E': time_dic['E'] += 1\n",
        "      elif t=='F': time_dic['F'] += 1\n",
        "\n",
        "  # 페널티를 2점씩 부과해준다.\n",
        "  cost += sum(np.matrix(time_dic.values())==0)*2\n",
        "\n",
        "  # C 시간대에 여성이 있으면 안됨\n",
        "  idx = 0\n",
        "  time_dic = {'A':0, 'B':0, 'C':0, 'D':0, 'E':0, 'F':0}\n",
        "\n",
        "  for t in times_band:\n",
        "    idx += 1\n",
        "    if idx>=12:\n",
        "      if t=='C': time_dic['C'] += 1\n",
        "  \n",
        "  if time_dic['C']>0:\n",
        "    cost += 10 # 패널티 10점 부과. 패널티 크기에 따라 우선순위 조정 가능\n",
        "\n",
        "  return cost"
      ],
      "metadata": {
        "id": "CmhNWm5cbZyR"
      },
      "execution_count": 14,
      "outputs": []
    },
    {
      "cell_type": "code",
      "source": [
        "# TEST\n",
        "slots = []\n",
        "for i in range(len(times)): slots+=[i,i,i]\n",
        "slots"
      ],
      "metadata": {
        "id": "G2BK6RZreMIU",
        "colab": {
          "base_uri": "https://localhost:8080/"
        },
        "outputId": "15be969e-16e7-4790-e49d-4a9ab10c4e94"
      },
      "execution_count": 6,
      "outputs": [
        {
          "output_type": "execute_result",
          "data": {
            "text/plain": [
              "[0, 0, 0, 1, 1, 1, 2, 2, 2, 3, 3, 3, 4, 4, 4, 5, 5, 5]"
            ]
          },
          "metadata": {},
          "execution_count": 6
        }
      ]
    },
    {
      "cell_type": "code",
      "source": [
        "def printsolution(vec):\n",
        "  slots = []\n",
        "  times_band = []\n",
        "\n",
        "  # 슬롯초기화\n",
        "  for i in range(len(times)): slots+=[i,i,i]\n",
        "\n",
        "  # 루프를 돌면서 전직원들의 시가배정\n",
        "  for i in range(len(vec)):\n",
        "    x = int(vec[i])\n",
        "\n",
        "    # 직원의 시간대를 정한다.\n",
        "    time = times[slots[x]]\n",
        "\n",
        "    # 시간대를 추가함.\n",
        "    times_band.append(time)\n",
        "\n",
        "    # 해당하는 슬롯삭제(이미 배정되었으므로)\n",
        "    del slots[x]\n",
        "\n",
        "  return times_band\n",
        "\n",
        "# 유전자 알고리즘의 핵심. 거의 변화 없이 다른 문제에도 적용 가능\n",
        "def geneticoptimize(domain, costf=dormcost, popsize=200, step=1, mutprob=0.5, elite=0.4, maxiter=20):\n",
        "  # popsize: 해집합 크기, elite: 좋은 해 비율 0.4로 해서 좋은 해끼리 교배. mutprob: 변이 확률, step: 변이할 때 변화되는 정도\n",
        "  # maxiter: 세대수\n",
        "  \n",
        "  # 변이\n",
        "  def mutate(vec):\n",
        "    i = random.randint(0, len(domain)-1)\n",
        "    if random.random()<0.5 and vec[i]-step>domain[i][0]:\n",
        "      return vec[0:i]+[vec[i]-step]+vec[i+1:]\n",
        "    elif vec[i]+step<domain[i][1]:\n",
        "      return vec[0:i]+[vec[i]+step]+vec[i+1:]\n",
        "    else:\n",
        "      return vec\n",
        "\n",
        "  #교차연산\n",
        "  def crossover(r1, r2):\n",
        "    i = random.randint(1, len(domain)-1)\n",
        "    return r1[0:i] + r2[i:] # 새로운 해 만듬\n",
        "\n",
        "  # 초기의 random 해 설정\n",
        "  pop = []\n",
        "  for i in range(popsize): \n",
        "    vec = [random.randint(domain[0][0], domain[i][1]) for i in range(len(domain))]\n",
        "    pop.append(vec)\n",
        "\n",
        "  # 엘리트해의 개수 설정\n",
        "  topelite = int(elite*popsize)\n",
        "\n",
        "  # 메인루프\n",
        "  for i in range(maxiter):\n",
        "    scores = [(costf(v), v) for v in pop]\n",
        "    scores.sort()\n",
        "    ranked = [v for (s, v) in scores]\n",
        "\n",
        "    # 엘리트해의 추출\n",
        "    pop = ranked[0:topelite]\n",
        "\n",
        "    # 변이와 교차의 반복. popsize만큼.\n",
        "    while len(pop)<popsize:\n",
        "      if random.random()<mutprob:\n",
        "        #변이\n",
        "        c = random.randint(0, topelite)\n",
        "        pop.append(mutate(ranked[c]))\n",
        "\n",
        "      else:\n",
        "        #교차(싱글)\n",
        "        c1 = random.randint(0, topelite)\n",
        "        c2 = random.randint(0, topelite)\n",
        "        pop.append(crossover(ranked[c1], ranked[c2]))\n",
        "\n",
        "    # 현재까지의 최적해 출력\n",
        "    print(i, scores[0][0], '--->', scores[0][1], '==>', printsolution(scores[0][1]))\n",
        "\n",
        "  return scores[0][1]"
      ],
      "metadata": {
        "id": "lS2Vvj8WQqUq"
      },
      "execution_count": 16,
      "outputs": []
    },
    {
      "cell_type": "code",
      "source": [
        "geneticoptimize(domain) # cost가 점점 작아지도록 학습"
      ],
      "metadata": {
        "colab": {
          "base_uri": "https://localhost:8080/"
        },
        "id": "nN8BEwF4TCoe",
        "outputId": "e765aff5-eb67-4f0a-91d8-be22bd469615"
      },
      "execution_count": 17,
      "outputs": [
        {
          "output_type": "stream",
          "name": "stdout",
          "text": [
            "0 [[7]] ---> [14, 3, 1, 14, 4, 11, 5, 5, 0, 3, 6, 2, 0, 1, 3, 2, 1, 0] ==> ['E', 'B', 'A', 'F', 'C', 'F', 'C', 'D', 'A', 'C', 'E', 'B', 'A', 'D', 'F', 'E', 'D', 'B']\n",
            "1 [[7]] ---> [14, 3, 1, 14, 4, 11, 5, 5, 0, 3, 6, 2, 0, 1, 3, 2, 1, 0] ==> ['E', 'B', 'A', 'F', 'C', 'F', 'C', 'D', 'A', 'C', 'E', 'B', 'A', 'D', 'F', 'E', 'D', 'B']\n",
            "2 [[2]] ---> [0, 6, 8, 10, 6, 6, 10, 7, 5, 1, 1, 0, 5, 1, 0, 1, 1, 0] ==> ['A', 'C', 'D', 'E', 'C', 'D', 'F', 'E', 'C', 'A', 'B', 'A', 'F', 'B', 'B', 'E', 'F', 'D']\n",
            "3 [[2]] ---> [0, 6, 8, 10, 6, 6, 10, 7, 5, 1, 1, 0, 5, 1, 0, 1, 1, 0] ==> ['A', 'C', 'D', 'E', 'C', 'D', 'F', 'E', 'C', 'A', 'B', 'A', 'F', 'B', 'B', 'E', 'F', 'D']\n",
            "4 [[0]] ---> [7, 5, 1, 3, 4, 12, 11, 9, 6, 3, 2, 0, 1, 3, 3, 2, 0, 0] ==> ['C', 'B', 'A', 'B', 'C', 'F', 'F', 'E', 'D', 'C', 'B', 'A', 'D', 'E', 'F', 'E', 'A', 'D']\n",
            "5 [[0]] ---> [7, 5, 1, 3, 4, 12, 11, 9, 6, 3, 2, 0, 1, 3, 3, 2, 0, 0] ==> ['C', 'B', 'A', 'B', 'C', 'F', 'F', 'E', 'D', 'C', 'B', 'A', 'D', 'E', 'F', 'E', 'A', 'D']\n",
            "6 [[0]] ---> [3, 4, 4, 7, 6, 6, 5, 6, 4, 8, 4, 0, 1, 4, 1, 1, 1, 0] ==> ['B', 'B', 'C', 'D', 'D', 'D', 'C', 'E', 'C', 'F', 'E', 'A', 'A', 'F', 'B', 'E', 'F', 'A']\n",
            "7 [[0]] ---> [3, 4, 4, 7, 6, 6, 5, 6, 4, 8, 4, 0, 1, 4, 1, 1, 1, 0] ==> ['B', 'B', 'C', 'D', 'D', 'D', 'C', 'E', 'C', 'F', 'E', 'A', 'A', 'F', 'B', 'E', 'F', 'A']\n",
            "8 [[0]] ---> [3, 4, 1, 14, 6, 6, 5, 6, 1, 2, 2, 0, 4, 1, 1, 1, 0, 0] ==> ['B', 'B', 'A', 'F', 'D', 'D', 'C', 'E', 'A', 'C', 'C', 'A', 'F', 'D', 'E', 'E', 'B', 'F']\n",
            "9 [[0]] ---> [3, 4, 1, 14, 6, 6, 5, 6, 1, 2, 2, 0, 4, 1, 1, 1, 0, 0] ==> ['B', 'B', 'A', 'F', 'D', 'D', 'C', 'E', 'A', 'C', 'C', 'A', 'F', 'D', 'E', 'E', 'B', 'F']\n",
            "10 [[0]] ---> [0, 4, 2, 14, 6, 6, 5, 6, 1, 2, 2, 0, 4, 1, 1, 1, 0, 0] ==> ['A', 'B', 'B', 'F', 'D', 'D', 'C', 'E', 'A', 'C', 'C', 'A', 'F', 'D', 'E', 'E', 'B', 'F']\n",
            "11 [[0]] ---> [0, 4, 2, 14, 6, 6, 5, 6, 1, 2, 2, 0, 4, 1, 1, 1, 0, 0] ==> ['A', 'B', 'B', 'F', 'D', 'D', 'C', 'E', 'A', 'C', 'C', 'A', 'F', 'D', 'E', 'E', 'B', 'F']\n",
            "12 [[0]] ---> [0, 4, 2, 14, 6, 6, 5, 6, 1, 2, 2, 0, 4, 1, 1, 1, 0, 0] ==> ['A', 'B', 'B', 'F', 'D', 'D', 'C', 'E', 'A', 'C', 'C', 'A', 'F', 'D', 'E', 'E', 'B', 'F']\n",
            "13 [[0]] ---> [0, 4, 2, 13, 6, 6, 5, 6, 1, 2, 2, 0, 4, 1, 1, 1, 0, 0] ==> ['A', 'B', 'B', 'F', 'D', 'D', 'C', 'E', 'A', 'C', 'C', 'A', 'F', 'D', 'E', 'E', 'B', 'F']\n",
            "14 [[0]] ---> [0, 4, 2, 13, 6, 6, 5, 6, 1, 2, 2, 0, 4, 1, 1, 1, 0, 0] ==> ['A', 'B', 'B', 'F', 'D', 'D', 'C', 'E', 'A', 'C', 'C', 'A', 'F', 'D', 'E', 'E', 'B', 'F']\n",
            "15 [[0]] ---> [0, 4, 2, 13, 6, 6, 5, 6, 1, 2, 2, 0, 4, 1, 1, 1, 0, 0] ==> ['A', 'B', 'B', 'F', 'D', 'D', 'C', 'E', 'A', 'C', 'C', 'A', 'F', 'D', 'E', 'E', 'B', 'F']\n",
            "16 [[0]] ---> [0, 4, 1, 14, 6, 6, 4, 6, 1, 2, 2, 0, 4, 1, 1, 1, 0, 0] ==> ['A', 'B', 'A', 'F', 'D', 'D', 'C', 'E', 'B', 'C', 'C', 'A', 'F', 'D', 'E', 'E', 'B', 'F']\n",
            "17 [[0]] ---> [0, 3, 4, 7, 6, 6, 6, 6, 4, 8, 4, 1, 1, 4, 1, 1, 1, 0] ==> ['A', 'B', 'C', 'D', 'D', 'D', 'E', 'E', 'C', 'F', 'C', 'A', 'B', 'F', 'B', 'E', 'F', 'A']\n",
            "18 [[0]] ---> [0, 3, 2, 13, 6, 6, 5, 6, 2, 2, 2, 0, 4, 1, 1, 1, 0, 0] ==> ['A', 'B', 'B', 'F', 'D', 'D', 'C', 'E', 'B', 'C', 'C', 'A', 'F', 'D', 'E', 'E', 'A', 'F']\n",
            "19 [[0]] ---> [0, 3, 2, 13, 6, 6, 5, 6, 2, 2, 2, 0, 4, 1, 1, 1, 0, 0] ==> ['A', 'B', 'B', 'F', 'D', 'D', 'C', 'E', 'B', 'C', 'C', 'A', 'F', 'D', 'E', 'E', 'A', 'F']\n"
          ]
        },
        {
          "output_type": "execute_result",
          "data": {
            "text/plain": [
              "[0, 3, 2, 13, 6, 6, 5, 6, 2, 2, 2, 0, 4, 1, 1, 1, 0, 0]"
            ]
          },
          "metadata": {},
          "execution_count": 17
        }
      ]
    },
    {
      "cell_type": "code",
      "source": [
        ""
      ],
      "metadata": {
        "id": "26k8umivVgBP"
      },
      "execution_count": null,
      "outputs": []
    }
  ]
}