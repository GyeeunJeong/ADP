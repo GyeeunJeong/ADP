{
  "nbformat": 4,
  "nbformat_minor": 0,
  "metadata": {
    "colab": {
      "name": "07_기계학습_7_유전자알고리즘.ipynb",
      "provenance": [],
      "authorship_tag": "ABX9TyPFmkWje9C/cQXs15Jnq6m9",
      "include_colab_link": true
    },
    "kernelspec": {
      "name": "python3",
      "display_name": "Python 3"
    },
    "language_info": {
      "name": "python"
    }
  },
  "cells": [
    {
      "cell_type": "markdown",
      "metadata": {
        "id": "view-in-github",
        "colab_type": "text"
      },
      "source": [
        "<a href=\"https://colab.research.google.com/github/joyfulspace/ADP/blob/master/07_%EA%B8%B0%EA%B3%84%ED%95%99%EC%8A%B5_7_%EC%9C%A0%EC%A0%84%EC%9E%90%EC%95%8C%EA%B3%A0%EB%A6%AC%EC%A6%98.ipynb\" target=\"_parent\"><img src=\"https://colab.research.google.com/assets/colab-badge.svg\" alt=\"Open In Colab\"/></a>"
      ]
    },
    {
      "cell_type": "markdown",
      "source": [
        "# 유전자알고리즘\n",
        "* 모든 규칙을 만족시켜야 할 때 사용\n",
        "* 교차(crossover): 2개의 염색체를 유합하는 방법 (염색체: 솔루션을 추상화한 정보 단위)\n",
        "  - 교차점 1개: 싱글 크로스오버\n",
        "  - 교차점이 많다고 꼭 좋은 해를 얻는 것은 아니고 다양한 해를 얻을 수 있음\n",
        "* 변이(mutation): 돌연변이 발생할 때 오히려 좋은 해가 만들어질 수 있음.\n",
        "  - 지역 최적화 탈출하는 효과 있음\n",
        "  - 하나의 염색체, 정보 단위에서 랜덤으로 하나의 연결점을 찾은 후, 그 부분의 정보를 의도적으로 왜곡시키는 것\n",
        "\n",
        "* 프로세스\n",
        "  1. 문제/해/해집합 정의\n",
        "    - 도메인 결정도 중요\n",
        "    - 도메인: 해 집합의 범위\n",
        "  2. 해(솔루션)의 염색체 정의 \n",
        "  3. 적합도 함수 f(x)설계 \n",
        "    - 적합도 평가\n",
        "    - cost function 사용: 규칙 위배에 따른 상벌 부과\n",
        "    - 환경에 적응하지 못하는 염색체는 페널티가 부과되어 자연선택의 확률이 낮아져 도태되도록 되어 있음\n",
        "    - 규칙 정리하고 > 패널티, 리워드 정하고 > cost function 설계\n",
        "    - 이 부분에 따라 성능이 크게 달라짐\n",
        "    - 우선순위 정리가 필요\n",
        "    - 모든 것을 100% 만족시키는 방법은 없음\n",
        "  4. 좋은 품종의 유전자 교배(교차/변이 등) \n",
        "  5. 적합한 염색체 선별 \n",
        "  6. 충분한 세대교체\n",
        "\n"
      ],
      "metadata": {
        "id": "FoKCz7-LVdBQ"
      }
    },
    {
      "cell_type": "code",
      "source": [
        "# -*- coding: utf-8 -*-\n",
        "\n",
        "import time\n",
        "import random\n",
        "import math\n",
        "import scipy.stats\n",
        "import numpy as np\n",
        "\n",
        "# 구간과 도메인의 정의\n",
        "times = ['A', 'B', 'C', 'D', 'E', 'F']\n",
        "domain = [(0, (len(times)*3)-i-1) for i in range(0, len(times)*3)]\n",
        "\n",
        "# cost function 설계를 위한 제약조건 정리\n",
        "pref = {\n",
        "    1: ['B', 'C', 'A'], # 1번 사람은 B, C, A 시간대를 선호\n",
        "    7: ['E', 'F'],\n",
        "    11: ['A', 'B'],\n",
        "    15: ['E', 'D']\n",
        "}\n",
        "\n",
        "hates = {13: [1, 7], # 13번 사람은 1번, 7번 사람과 함께 있기 싫음\n",
        "         10: [11, 15],\n",
        "         3: [8, 12, 10]\n",
        "}\n",
        "\n",
        "man = [range(0, 12)] # 0~11이 남자\n",
        "woman = [range(12, 18)]"
      ],
      "metadata": {
        "id": "p4fMlWvraPuN"
      },
      "execution_count": 1,
      "outputs": []
    },
    {
      "cell_type": "code",
      "source": [
        "domain"
      ],
      "metadata": {
        "colab": {
          "base_uri": "https://localhost:8080/"
        },
        "id": "ACjnooZreM2a",
        "outputId": "f49a40eb-53b2-4b59-aa6c-abb99f56daf3"
      },
      "execution_count": 2,
      "outputs": [
        {
          "output_type": "execute_result",
          "data": {
            "text/plain": [
              "[(0, 17),\n",
              " (0, 16),\n",
              " (0, 15),\n",
              " (0, 14),\n",
              " (0, 13),\n",
              " (0, 12),\n",
              " (0, 11),\n",
              " (0, 10),\n",
              " (0, 9),\n",
              " (0, 8),\n",
              " (0, 7),\n",
              " (0, 6),\n",
              " (0, 5),\n",
              " (0, 4),\n",
              " (0, 3),\n",
              " (0, 2),\n",
              " (0, 1),\n",
              " (0, 0)]"
            ]
          },
          "metadata": {},
          "execution_count": 2
        }
      ]
    },
    {
      "cell_type": "code",
      "source": [
        "def dormcost(vec):\n",
        "  # 선호하는 시간대에 따라 점수 부여\n",
        "  # 싫어하는 사람에 따라 점수 부여\n",
        "  # 각 시간대에 적어도 1명은 남자\n",
        "  # C시간대에 여성이 있으면 안 됨\n",
        "\n",
        "  cost = 0\n",
        "\n",
        "  # Create list a lot of slots\n",
        "  slots = []\n",
        "  for i in range(len(times)): slots"
      ],
      "metadata": {
        "id": "CmhNWm5cbZyR"
      },
      "execution_count": null,
      "outputs": []
    },
    {
      "cell_type": "code",
      "source": [
        ""
      ],
      "metadata": {
        "id": "G2BK6RZreMIU"
      },
      "execution_count": null,
      "outputs": []
    }
  ]
}