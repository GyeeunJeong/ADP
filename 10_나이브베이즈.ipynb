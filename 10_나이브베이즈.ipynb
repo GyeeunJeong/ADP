{
  "nbformat": 4,
  "nbformat_minor": 0,
  "metadata": {
    "colab": {
      "name": "10_나이브베이즈.ipynb",
      "provenance": [],
      "collapsed_sections": [],
      "authorship_tag": "ABX9TyORpijbkdm5/cicKj1TKPuE",
      "include_colab_link": true
    },
    "kernelspec": {
      "name": "python3",
      "display_name": "Python 3"
    },
    "language_info": {
      "name": "python"
    }
  },
  "cells": [
    {
      "cell_type": "markdown",
      "metadata": {
        "id": "view-in-github",
        "colab_type": "text"
      },
      "source": [
        "<a href=\"https://colab.research.google.com/github/joyfulspace/ADP/blob/master/10_%EB%82%98%EC%9D%B4%EB%B8%8C%EB%B2%A0%EC%9D%B4%EC%A6%88.ipynb\" target=\"_parent\"><img src=\"https://colab.research.google.com/assets/colab-badge.svg\" alt=\"Open In Colab\"/></a>"
      ]
    },
    {
      "cell_type": "markdown",
      "source": [
        "# 나이브 베이즈\n",
        "* A와 B가 일어날 확률\n",
        "  - 두 사건이 독립이라면: $P(A)XP(B)$\n",
        "  - A가 일어났다는 조건 하에서 B가 일어날 확률 $P(B|A)$\n",
        "  - A와 B가 연달아서 일어날 확률: $P(A)*P(B|A)=P(A\\cap B)$ (A가 사전, B가 사후)\n",
        "  - B가 일어나고 A가 일어날 확률: $P(B)*P(A|B)=P(A\\cap B)$\n",
        "  - 따라서 $P(A)*P(B|A)=P(B)*P(A|B)$ : 베이즈 정리\n",
        "* 나이브 베이즈: A가 일어나고 B가 일어날 확률과 C가 일어나고 B가 일어날 확률은 다른데 이 원리를 이용\n",
        "  - 긍정, 부정을 예측하거나 주제 분류, 텍스트 마이닝에서 많이 사용\n",
        "  - ex. 스팸메일 찾기\n",
        "    - $P(스팸메일|'광고')=P('광고'|스팸메일)*P(스팸메일)/P('광고')$\n",
        "    - 광고 단어가 있을 때 스팸메일일 확률 = 스팸메일인데 광고 단어가 있을 확률 * 스팸메일일 확률 / '광고' 단어가 있을 확률\n",
        "   - 여러개의 단어가 나타났을 때 스팸일지 정상일지?\n",
        "   - 긴 텍스트라도 쪼개서 확률 계산 가능"
      ],
      "metadata": {
        "id": "R92eSiKWQWyQ"
      }
    },
    {
      "cell_type": "code",
      "source": [
        "import pandas as pd\n",
        "%pylab inline"
      ],
      "metadata": {
        "colab": {
          "base_uri": "https://localhost:8080/"
        },
        "id": "VAfEGwDXWRy_",
        "outputId": "3bcc0bac-0294-4dff-db85-45e2d69d956e"
      },
      "execution_count": 1,
      "outputs": [
        {
          "output_type": "stream",
          "name": "stdout",
          "text": [
            "Populating the interactive namespace from numpy and matplotlib\n"
          ]
        }
      ]
    },
    {
      "cell_type": "code",
      "source": [
        "!git clone https://github.com/GyeeunJeong/ADP.git"
      ],
      "metadata": {
        "colab": {
          "base_uri": "https://localhost:8080/"
        },
        "id": "avXFpVLQWp-5",
        "outputId": "ee2518af-5e49-4f1a-8249-d825287d6446"
      },
      "execution_count": 2,
      "outputs": [
        {
          "output_type": "stream",
          "name": "stdout",
          "text": [
            "Cloning into 'ADP'...\n",
            "remote: Enumerating objects: 2488, done.\u001b[K\n",
            "remote: Counting objects: 100% (2181/2181), done.\u001b[K\n",
            "remote: Compressing objects: 100% (2175/2175), done.\u001b[K\n",
            "remote: Total 2488 (delta 23), reused 2135 (delta 4), pack-reused 307\u001b[K\n",
            "Receiving objects: 100% (2488/2488), 55.99 MiB | 24.73 MiB/s, done.\n",
            "Resolving deltas: 100% (145/145), done.\n"
          ]
        }
      ]
    },
    {
      "cell_type": "code",
      "source": [
        "import chardet\n",
        "\n",
        "# 영화리뷰데이터 # 파일 없음\n",
        "with open('ADP/data/imdb_master.csv', 'rb') as f:\n",
        "  result = chardet.detect(f.read()) # 인코딩 자동으로 감지\n",
        "\n",
        "train = pd.read_csv('ADP/data/imdb_master.csv', encoding=result['encoding'])\n",
        "train.head()"
      ],
      "metadata": {
        "colab": {
          "base_uri": "https://localhost:8080/",
          "height": 246
        },
        "id": "JYLK8BkDWUcv",
        "outputId": "009f6fb7-6a58-432c-9837-714df2831ecd"
      },
      "execution_count": 3,
      "outputs": [
        {
          "output_type": "error",
          "ename": "FileNotFoundError",
          "evalue": "ignored",
          "traceback": [
            "\u001b[0;31m---------------------------------------------------------------------------\u001b[0m",
            "\u001b[0;31mFileNotFoundError\u001b[0m                         Traceback (most recent call last)",
            "\u001b[0;32m<ipython-input-3-c1e205c23790>\u001b[0m in \u001b[0;36m<module>\u001b[0;34m()\u001b[0m\n\u001b[1;32m      2\u001b[0m \u001b[0;34m\u001b[0m\u001b[0m\n\u001b[1;32m      3\u001b[0m \u001b[0;31m# 영화리뷰데이터\u001b[0m\u001b[0;34m\u001b[0m\u001b[0;34m\u001b[0m\u001b[0;34m\u001b[0m\u001b[0m\n\u001b[0;32m----> 4\u001b[0;31m \u001b[0;32mwith\u001b[0m \u001b[0mopen\u001b[0m\u001b[0;34m(\u001b[0m\u001b[0;34m'ADP/data/imdb_master.csv'\u001b[0m\u001b[0;34m,\u001b[0m \u001b[0;34m'rb'\u001b[0m\u001b[0;34m)\u001b[0m \u001b[0;32mas\u001b[0m \u001b[0mf\u001b[0m\u001b[0;34m:\u001b[0m\u001b[0;34m\u001b[0m\u001b[0;34m\u001b[0m\u001b[0m\n\u001b[0m\u001b[1;32m      5\u001b[0m   \u001b[0mresult\u001b[0m \u001b[0;34m=\u001b[0m \u001b[0mchardet\u001b[0m\u001b[0;34m.\u001b[0m\u001b[0mdetect\u001b[0m\u001b[0;34m(\u001b[0m\u001b[0mf\u001b[0m\u001b[0;34m.\u001b[0m\u001b[0mread\u001b[0m\u001b[0;34m(\u001b[0m\u001b[0;34m)\u001b[0m\u001b[0;34m)\u001b[0m \u001b[0;31m# 인코딩 자동으로 감지\u001b[0m\u001b[0;34m\u001b[0m\u001b[0;34m\u001b[0m\u001b[0m\n\u001b[1;32m      6\u001b[0m \u001b[0;34m\u001b[0m\u001b[0m\n",
            "\u001b[0;31mFileNotFoundError\u001b[0m: [Errno 2] No such file or directory: 'ADP/data/imdb_master.csv'"
          ]
        }
      ]
    },
    {
      "cell_type": "code",
      "source": [
        "train = train.drop(train.columns[[0, 1, 4]], axis=1)"
      ],
      "metadata": {
        "id": "Ixq910ByWtCr"
      },
      "execution_count": null,
      "outputs": []
    },
    {
      "cell_type": "code",
      "source": [
        "train.label = [(l!='neg')*1 for l in train.label]"
      ],
      "metadata": {
        "id": "9-BVVHpXXSDS"
      },
      "execution_count": null,
      "outputs": []
    },
    {
      "cell_type": "code",
      "source": [
        "train.head()"
      ],
      "metadata": {
        "id": "zSF5CRC8XhDp"
      },
      "execution_count": null,
      "outputs": []
    },
    {
      "cell_type": "code",
      "source": [
        "d = train\n",
        "d.columns = ['user_review', 'positive']\n",
        "d.head()"
      ],
      "metadata": {
        "colab": {
          "base_uri": "https://localhost:8080/",
          "height": 210
        },
        "id": "szY1i_a4XiPe",
        "outputId": "7369d487-1d4c-48d2-a5d1-ede52076fa85"
      },
      "execution_count": null,
      "outputs": [
        {
          "output_type": "error",
          "ename": "NameError",
          "evalue": "ignored",
          "traceback": [
            "\u001b[0;31m---------------------------------------------------------------------------\u001b[0m",
            "\u001b[0;31mNameError\u001b[0m                                 Traceback (most recent call last)",
            "\u001b[0;32m<ipython-input-2-a768b5cf58c2>\u001b[0m in \u001b[0;36m<module>\u001b[0;34m()\u001b[0m\n\u001b[0;32m----> 1\u001b[0;31m \u001b[0md\u001b[0m \u001b[0;34m=\u001b[0m \u001b[0mtrain\u001b[0m\u001b[0;34m\u001b[0m\u001b[0;34m\u001b[0m\u001b[0m\n\u001b[0m\u001b[1;32m      2\u001b[0m \u001b[0md\u001b[0m\u001b[0;34m.\u001b[0m\u001b[0mcolumns\u001b[0m \u001b[0;34m=\u001b[0m \u001b[0;34m[\u001b[0m\u001b[0;34m'user_review'\u001b[0m\u001b[0;34m,\u001b[0m \u001b[0;34m'positive'\u001b[0m\u001b[0;34m]\u001b[0m\u001b[0;34m\u001b[0m\u001b[0;34m\u001b[0m\u001b[0m\n\u001b[1;32m      3\u001b[0m \u001b[0md\u001b[0m\u001b[0;34m.\u001b[0m\u001b[0mhead\u001b[0m\u001b[0;34m(\u001b[0m\u001b[0;34m)\u001b[0m\u001b[0;34m\u001b[0m\u001b[0;34m\u001b[0m\u001b[0m\n",
            "\u001b[0;31mNameError\u001b[0m: name 'train' is not defined"
          ]
        }
      ]
    },
    {
      "cell_type": "code",
      "source": [
        "# train셋, test셋 나눔\n",
        "split = 0.7\n",
        "d_train = d[:int(split*len(d))]\n",
        "d_test = d[int((1-split)*len(d)):]"
      ],
      "metadata": {
        "id": "NJxXuX8KXoKE"
      },
      "execution_count": null,
      "outputs": []
    },
    {
      "cell_type": "code",
      "source": [
        "from sklearn.feature_extraction.text import CountVectorizer\n",
        "vectorizer = CountVectorizer()\n",
        "features = vectorizer.fit_transform(d_train.user_review)"
      ],
      "metadata": {
        "id": "bxP_64XvFn1q"
      },
      "execution_count": null,
      "outputs": []
    },
    {
      "cell_type": "code",
      "source": [
        "i = 30000 # 3만건에서 100번 째 칸까지 확인하기\n",
        "j = 100\n",
        "words = vectorizer.get_feature_names()[i:i+30]\n",
        "pd.DataFrame(features[j:j+10, i:i+30].todense(), columns=words)"
      ],
      "metadata": {
        "id": "SUE1DrdkF2uo"
      },
      "execution_count": null,
      "outputs": []
    },
    {
      "cell_type": "code",
      "source": [
        "from sklearn.naive_bayes import MultinomialNB\n",
        "model1 = MultinomialNB()\n",
        "model1.fit(features, d_train.positive)\n",
        "\n",
        "pred1 = model1.predict_proba(vectorizer.transform(d_test.user_review))\n",
        "pred1, pred1.shape"
      ],
      "metadata": {
        "id": "1IaOXlimGSYo"
      },
      "execution_count": null,
      "outputs": []
    },
    {
      "cell_type": "code",
      "source": [
        "from sklearn.metrics import accuracy_score, roc_auc_score, classification_report, roc_curve\n",
        "from matplotlib.pyplot import plot, xlabel, ylabel, annotate\n",
        "def performance(y_true, pred, color='g', ann=True):\n",
        "  acc = accuracy_score(y_true, pred[:,1]>0.5)\n",
        "  auc = roc_auc_score(y_true, pred[:,1])\n",
        "  fpr, tpr, thr = roc_curve(y_true, pred[:,1])\n",
        "  plot(fpr, tpr, color, linewidth='3')\n",
        "  xlabel('False positive rate')\n",
        "  ylabel('True positive rate')\n",
        "  if ann:\n",
        "    annotate('Acc: %0.2f' % acc, (0.1,0.8), size=14)\n",
        "    annotate('AUC: %0.2f' % acc, (0.1,0.7), size=14)"
      ],
      "metadata": {
        "id": "1dyXJm3EGhjT"
      },
      "execution_count": null,
      "outputs": []
    },
    {
      "cell_type": "code",
      "source": [
        "performance(d_test.positive, pred1)"
      ],
      "metadata": {
        "id": "R7oc-p7QHb6w"
      },
      "execution_count": null,
      "outputs": []
    }
  ]
}