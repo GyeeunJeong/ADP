{
  "cells": [
    {
      "cell_type": "markdown",
      "metadata": {
        "ExecuteTime": {
          "end_time": "2020-09-17T16:43:15.446916Z",
          "start_time": "2020-09-17T16:43:15.442963Z"
        },
        "id": "Glyc9vUskRPF"
      },
      "source": [
        "# 07_기계학습_3 텍스트마이닝"
      ]
    },
    {
      "cell_type": "markdown",
      "metadata": {
        "id": "Qo-ytKJrkRPO"
      },
      "source": [
        "# 텍스트 마이닝 기본 지식/기술 - 기본 필요 없고 3번부터 보면 됨"
      ]
    },
    {
      "cell_type": "markdown",
      "metadata": {
        "id": "65zdQa4pkRPQ"
      },
      "source": [
        "## 텍스트 정규화 - 텍스트 전처리 = 사전 준비작업\n",
        "- 클렌징 : 불필요한 문자, 기호 제거 ex) HTML 태그 등\n",
        "- 토큰화 : 쪼개는 거. 문서->문장->단어토큰\n",
        "- 필터링/스톱 워드 제거/철자 수정\n",
        "- Stemming\n",
        "- Lemmatization"
      ]
    },
    {
      "cell_type": "markdown",
      "metadata": {
        "id": "N_ru6cm2kRPV"
      },
      "source": [
        "### 문장 토큰화\n",
        "- 문장토큰화는 단어의 순서가 중요한 경우 사용"
      ]
    },
    {
      "cell_type": "code",
      "execution_count": null,
      "metadata": {
        "id": "OXmgdeTvkRPX"
      },
      "outputs": [],
      "source": [
        "# # ************ 될 지 모르겠지만 토큰화 nltk 에러나면 시도해보기\n",
        "# import nltk\n",
        "# nltk.download()"
      ]
    },
    {
      "cell_type": "code",
      "execution_count": null,
      "metadata": {
        "ExecuteTime": {
          "end_time": "2020-12-03T14:30:04.012823Z",
          "start_time": "2020-12-03T14:30:04.007836Z"
        },
        "id": "TtDP_4FnkRPb"
      },
      "outputs": [],
      "source": [
        "text_sample = 'The Matrix is everywhere its all around us, here even in this room. \\\n",
        "               You can see it out your window or on your television. \\\n",
        "               You feel it when you go to work, or go to church or pay your taxes.'"
      ]
    },
    {
      "cell_type": "code",
      "execution_count": null,
      "metadata": {
        "ExecuteTime": {
          "end_time": "2020-12-03T14:30:07.649146Z",
          "start_time": "2020-12-03T14:30:04.254180Z"
        },
        "scrolled": true,
        "id": "HSEm79BzkRPc",
        "outputId": "250f2f1d-1284-4f93-89d4-e55fd76846fc"
      },
      "outputs": [
        {
          "name": "stdout",
          "output_type": "stream",
          "text": [
            "<class 'list'> 3\n",
            "['The Matrix is everywhere its all around us, here even in this room.', 'You can see it out your window or on your television.', 'You feel it when you go to work, or go to church or pay your taxes.']\n"
          ]
        }
      ],
      "source": [
        "from nltk import sent_tokenize\n",
        "sentences = sent_tokenize(text=text_sample)\n",
        "print(type(sentences),len(sentences))\n",
        "print(sentences)"
      ]
    },
    {
      "cell_type": "markdown",
      "metadata": {
        "id": "ihQQMV50kRPk"
      },
      "source": [
        "### 단어 토큰화"
      ]
    },
    {
      "cell_type": "code",
      "execution_count": null,
      "metadata": {
        "ExecuteTime": {
          "end_time": "2020-12-03T14:30:09.188612Z",
          "start_time": "2020-12-03T14:30:09.181005Z"
        },
        "id": "vBBa3fKHkRPl",
        "outputId": "874ae189-daa4-45a9-df06-73f6232f0116"
      },
      "outputs": [
        {
          "name": "stdout",
          "output_type": "stream",
          "text": [
            "<class 'list'> 15\n",
            "['The', 'Matrix', 'is', 'everywhere', 'its', 'all', 'around', 'us', ',', 'here', 'even', 'in', 'this', 'room', '.']\n"
          ]
        }
      ],
      "source": [
        "sentence = \"The Matrix is everywhere its all around us, here even in this room.\"\n",
        "\n",
        "from nltk import word_tokenize\n",
        "words = word_tokenize(sentence)\n",
        "print(type(words), len(words))\n",
        "print(words)"
      ]
    },
    {
      "cell_type": "markdown",
      "metadata": {
        "id": "CogSZnfMkRPo"
      },
      "source": [
        "#### 문장과 단어 토큰화 한 번에 하는 사용자 함수 만들기"
      ]
    },
    {
      "cell_type": "code",
      "execution_count": null,
      "metadata": {
        "ExecuteTime": {
          "end_time": "2020-12-03T14:30:11.148744Z",
          "start_time": "2020-12-03T14:30:11.143759Z"
        },
        "id": "5uHL2tPGkRPp"
      },
      "outputs": [],
      "source": [
        "from nltk import word_tokenize, sent_tokenize\n",
        "\n",
        "#여러개의 문장으로 된 입력 데이터를 문장별로 단어 토큰화 만드는 함수 생성\n",
        "def tokenize_text(text):\n",
        "    \n",
        "    # 문장별로 분리 토큰\n",
        "    sentences = sent_tokenize(text)\n",
        "    # 분리된 문장별 단어 토큰화\n",
        "    word_tokens = [word_tokenize(sentence) for sentence in sentences]\n",
        "    return word_tokens"
      ]
    },
    {
      "cell_type": "code",
      "execution_count": null,
      "metadata": {
        "ExecuteTime": {
          "end_time": "2020-12-03T14:30:12.337203Z",
          "start_time": "2020-12-03T14:30:12.331585Z"
        },
        "id": "whxPQQ0xkRPr",
        "outputId": "862e98ef-f996-42e7-8836-24986bfc0677"
      },
      "outputs": [
        {
          "name": "stdout",
          "output_type": "stream",
          "text": [
            "<class 'list'> 3\n",
            "[['The', 'Matrix', 'is', 'everywhere', 'its', 'all', 'around', 'us', ',', 'here', 'even', 'in', 'this', 'room', '.'], ['You', 'can', 'see', 'it', 'out', 'your', 'window', 'or', 'on', 'your', 'television', '.'], ['You', 'feel', 'it', 'when', 'you', 'go', 'to', 'work', ',', 'or', 'go', 'to', 'church', 'or', 'pay', 'your', 'taxes', '.']]\n"
          ]
        }
      ],
      "source": [
        "#여러 문장들에 대해 문장별 단어 토큰화 수행. \n",
        "word_tokens = tokenize_text(text_sample)\n",
        "print(type(word_tokens),len(word_tokens))\n",
        "print(word_tokens)"
      ]
    },
    {
      "cell_type": "markdown",
      "metadata": {
        "id": "6HJN7donkRPt"
      },
      "source": [
        "## 스톱 워드 제거\n",
        "- 문맥적으로 큰 의미가 없는 단어 제거"
      ]
    },
    {
      "cell_type": "code",
      "execution_count": null,
      "metadata": {
        "ExecuteTime": {
          "end_time": "2020-12-03T14:31:30.474056Z",
          "start_time": "2020-12-03T14:31:29.926500Z"
        },
        "id": "uJJNi_x7kRPt",
        "outputId": "00b9ec8b-6b5b-47c9-f3c8-e36506c0eed5"
      },
      "outputs": [
        {
          "name": "stderr",
          "output_type": "stream",
          "text": [
            "[nltk_data] Downloading package stopwords to\n",
            "[nltk_data]     C:\\Users\\50008313\\AppData\\Roaming\\nltk_data...\n",
            "[nltk_data]   Package stopwords is already up-to-date!\n"
          ]
        },
        {
          "data": {
            "text/plain": [
              "True"
            ]
          },
          "execution_count": 6,
          "metadata": {},
          "output_type": "execute_result"
        }
      ],
      "source": [
        "import nltk\n",
        "nltk.download('stopwords')"
      ]
    },
    {
      "cell_type": "code",
      "execution_count": null,
      "metadata": {
        "ExecuteTime": {
          "end_time": "2020-12-03T14:34:19.125488Z",
          "start_time": "2020-12-03T14:34:19.109045Z"
        },
        "id": "i7oGGAtFkRPu",
        "outputId": "77ac9d35-2d9d-4784-8f91-49391d057c79"
      },
      "outputs": [
        {
          "name": "stdout",
          "output_type": "stream",
          "text": [
            "[['matrix', 'everywhere', 'around', 'us', ',', 'even', 'room', '.'], ['see', 'window', 'television', '.'], ['feel', 'go', 'work', ',', 'go', 'church', 'pay', 'taxes', '.']]\n"
          ]
        }
      ],
      "source": [
        "import nltk\n",
        "\n",
        "stopwords = nltk.corpus.stopwords.words('english')\n",
        "all_tokens = []\n",
        "# 위 예제의 3개의 문장별로 얻은 word_tokens list 에 대해 stop word 제거 Loop\n",
        "for sentence in word_tokens:\n",
        "    filtered_words=[]\n",
        "    # 개별 문장별로 tokenize된 sentence list에 대해 stop word 제거 Loop\n",
        "    for word in sentence:\n",
        "        #소문자로 모두 변환합니다. \n",
        "        word = word.lower()\n",
        "        # tokenize 된 개별 word가 stop words 들의 단어에 포함되지 않으면 word_tokens에 추가\n",
        "        if word not in stopwords:\n",
        "            filtered_words.append(word)\n",
        "    all_tokens.append(filtered_words)\n",
        "    \n",
        "print(all_tokens)"
      ]
    },
    {
      "cell_type": "markdown",
      "metadata": {
        "id": "6kNmoWsMkRPw"
      },
      "source": [
        "## Stemming과 Lemmatization : 단어의 원형을 찾는 것\n",
        "- Stemming : 단순화 해서 단어에서 일부 철자가 훼손되는 경향이 있음\n",
        "<br>Porter\n",
        "<br>Lancaster\n",
        "<br>Snowball Stemmer\n",
        "\n",
        "\n",
        "- Lemmatization : 더 정확한 철자로 된 어근 단어를 찾아줌. 대신 좀 오래 걸림\n",
        "<br>WordNetLemmatizer"
      ]
    },
    {
      "cell_type": "markdown",
      "metadata": {
        "ExecuteTime": {
          "end_time": "2020-09-17T17:09:56.174615Z",
          "start_time": "2020-09-17T17:09:56.170626Z"
        },
        "id": "4r1nRvwmkRPy"
      },
      "source": [
        "### Stemming"
      ]
    },
    {
      "cell_type": "code",
      "execution_count": null,
      "metadata": {
        "ExecuteTime": {
          "end_time": "2020-12-03T14:34:30.635269Z",
          "start_time": "2020-12-03T14:34:30.630986Z"
        },
        "id": "I6bLDDmukRPy",
        "outputId": "c178b4ba-e2dc-4e65-b366-3eb031442309"
      },
      "outputs": [
        {
          "name": "stdout",
          "output_type": "stream",
          "text": [
            "work\n"
          ]
        }
      ],
      "source": [
        "from nltk.stem import LancasterStemmer\n",
        "stemmer = LancasterStemmer()\n",
        "\n",
        "print(stemmer.stem('working'))"
      ]
    },
    {
      "cell_type": "markdown",
      "metadata": {
        "id": "jqmzBCVSkRPz"
      },
      "source": [
        "### Lemmatization\n",
        "- 품사를 입력해줘야 함"
      ]
    },
    {
      "cell_type": "code",
      "execution_count": null,
      "metadata": {
        "ExecuteTime": {
          "end_time": "2020-12-03T14:34:49.542264Z",
          "start_time": "2020-12-03T14:34:47.565602Z"
        },
        "id": "pHnV9eETkRP0",
        "outputId": "c6865bdf-f508-4902-fc89-36abfaa0f513"
      },
      "outputs": [
        {
          "name": "stdout",
          "output_type": "stream",
          "text": [
            "amuse amuse amuse\n",
            "happy happy\n",
            "fancy fancy\n"
          ]
        }
      ],
      "source": [
        "from nltk.stem import WordNetLemmatizer\n",
        "\n",
        "lemma = WordNetLemmatizer()\n",
        "print(lemma.lemmatize('amusing','v'),lemma.lemmatize('amuses','v'),lemma.lemmatize('amused','v'))\n",
        "print(lemma.lemmatize('happier','a'),lemma.lemmatize('happiest','a'))\n",
        "print(lemma.lemmatize('fancier','a'),lemma.lemmatize('fanciest','a'))"
      ]
    },
    {
      "cell_type": "markdown",
      "metadata": {
        "ExecuteTime": {
          "end_time": "2020-09-17T17:11:59.746406Z",
          "start_time": "2020-09-17T17:11:59.731446Z"
        },
        "id": "BhsltdKnkRP2"
      },
      "source": [
        "## 피처 벡터화/추출 : BOW - Bag of Words\n",
        "- 단어를 컬럼으로 만들고, 문장을 행으로 봤을 때, 문장별로 각 단어가 몇 회(count)가 나타나는지 정리한 데이터\n",
        "- 두 가지 방식 1) 카운트 기반 벡터화, 2) TF-IDF 벡터화\n",
        "- TF-IDF를 사용. 개별 문서에서 자주 나타나는 단어에는 가중치를 주되, 모든 문서에서 나타나는 단어는 페널티 부과"
      ]
    },
    {
      "cell_type": "markdown",
      "metadata": {
        "id": "NhhcHaxtkRP2"
      },
      "source": [
        "### 사이킷런 CountVectorizer / TfidfVectorizer --> 결과는 사이파이 CSR 형식 희소행렬\n",
        "- 두 개 사용법은 같음\n",
        "- 벡터화 뿐만 아니라 소문자 변환, 토큰화, 스톱 워드 필터링 등의 전처리도 함께 수행\n",
        "- fit, transform 사용\n",
        "- 파라미터는 파머 완전 가이드 p.474 참고"
      ]
    },
    {
      "cell_type": "markdown",
      "metadata": {
        "id": "C4t3W194kRP3"
      },
      "source": [
        "### 참고. COO, CSR 형식 희소행렬\n",
        "- 희소행렬: Sparse 행렬. 대부분 0으로 채워져 있음\n",
        "  - <-> 밀집행렬(dense 행렬)\n",
        "  - 불필요한 0으로 메모리 낭비가 심하고 크기가 커서 연산 시간이 오래 걸림\n",
        "  - 희소행렬의 메모리 낭비가 적도록 변환하는 방법: COO, CSR\n",
        "- COO: 0이 아닌 데이터만 별도의 배열에 저장하고, 그 데이터가 가리키는 행과 열의 위치를 별도의 배열에 저장하는 방식\n",
        "  - 행과 열의 위치를 나타내기 위해서 반복적으로 같은 위치를 작성해야 함\n",
        "- CSR: COO의 단점을 해결하기 위해 만들어졌으며 일반적으로 가장 많이 사용\n",
        "  - 위치 배열의 값의 시작 위치만 표기하는 방법. (0행이 몇번째부터 시작하는지, 1열이 몇번째부터 시작하는지 위치만 작성)\n",
        "\n",
        "[출처] https://bkshin.tistory.com/entry/NLP-7-희소-행렬-Sparse-Matrix-COO-형식-CSR-형식"
      ]
    },
    {
      "cell_type": "code",
      "execution_count": null,
      "metadata": {
        "ExecuteTime": {
          "end_time": "2020-09-17T17:44:22.589161Z",
          "start_time": "2020-09-17T17:44:22.578189Z"
        },
        "id": "5U5mxNxIkRP4",
        "colab": {
          "base_uri": "https://localhost:8080/"
        },
        "outputId": "d5b7fc55-7555-486d-e9ed-9104509cfbdc"
      },
      "outputs": [
        {
          "output_type": "stream",
          "name": "stdout",
          "text": [
            "[[0 0 1 0 0 5]\n",
            " [1 4 0 3 2 5]\n",
            " [0 6 0 3 0 0]\n",
            " [2 0 0 0 0 0]\n",
            " [0 0 0 7 0 8]\n",
            " [1 0 0 0 0 0]]\n",
            "[[0 0 1 0 0 5]\n",
            " [1 4 0 3 2 5]\n",
            " [0 6 0 3 0 0]\n",
            " [2 0 0 0 0 0]\n",
            " [0 0 0 7 0 8]\n",
            " [1 0 0 0 0 0]]\n"
          ]
        }
      ],
      "source": [
        "import numpy as np\n",
        "\n",
        "dense2 = np.array([[0,0,1,0,0,5],\n",
        "             [1,4,0,3,2,5],\n",
        "             [0,6,0,3,0,0],\n",
        "             [2,0,0,0,0,0],\n",
        "             [0,0,0,7,0,8],\n",
        "             [1,0,0,0,0,0]])\n",
        "\n",
        "from scipy import sparse\n",
        "coo = sparse.coo_matrix(dense2) # coo 행렬 만들기\n",
        "csr = sparse.csr_matrix(dense2) # csr 행렬 만들기\n",
        "# 복원\n",
        "print(coo.toarray())\n",
        "print(csr.toarray())"
      ]
    },
    {
      "cell_type": "markdown",
      "metadata": {
        "id": "g90_Qi1jkRP6"
      },
      "source": [
        "- 이론적인 거"
      ]
    },
    {
      "cell_type": "code",
      "execution_count": null,
      "metadata": {
        "ExecuteTime": {
          "end_time": "2020-09-17T17:38:42.531311Z",
          "start_time": "2020-09-17T17:38:42.516384Z"
        },
        "scrolled": true,
        "id": "y1rd0N-ZkRP6",
        "outputId": "e00e7cb2-8363-4e32-aa05-74db6d394538"
      },
      "outputs": [
        {
          "name": "stdout",
          "output_type": "stream",
          "text": [
            "COO 변환된 데이터가 제대로 되었는지 다시 Dense로 출력 확인\n",
            "[[0 0 1 0 0 5]\n",
            " [1 4 0 3 2 5]\n",
            " [0 6 0 3 0 0]\n",
            " [2 0 0 0 0 0]\n",
            " [0 0 0 7 0 8]\n",
            " [1 0 0 0 0 0]]\n",
            "CSR 변환된 데이터가 제대로 되었는지 다시 Dense로 출력 확인\n",
            "[[0 0 1 0 0 5]\n",
            " [1 4 0 3 2 5]\n",
            " [0 6 0 3 0 0]\n",
            " [2 0 0 0 0 0]\n",
            " [0 0 0 7 0 8]\n",
            " [1 0 0 0 0 0]]\n"
          ]
        }
      ],
      "source": [
        "from scipy import sparse\n",
        "\n",
        "dense2 = np.array([[0,0,1,0,0,5],\n",
        "             [1,4,0,3,2,5],\n",
        "             [0,6,0,3,0,0],\n",
        "             [2,0,0,0,0,0],\n",
        "             [0,0,0,7,0,8],\n",
        "             [1,0,0,0,0,0]])\n",
        "\n",
        "# 0 이 아닌 데이터 추출\n",
        "data2 = np.array([1, 5, 1, 4, 3, 2, 5, 6, 3, 2, 7, 8, 1])\n",
        "\n",
        "# 행 위치와 열 위치를 각각 array로 생성 \n",
        "row_pos = np.array([0, 0, 1, 1, 1, 1, 1, 2, 2, 3, 4, 4, 5])\n",
        "col_pos = np.array([2, 5, 0, 1, 3, 4, 5, 1, 3, 0, 3, 5, 0])\n",
        "\n",
        "# COO 형식으로 변환 \n",
        "sparse_coo = sparse.coo_matrix((data2, (row_pos,col_pos)))\n",
        "\n",
        "# 행 위치 배열의 고유한 값들의 시작 위치 인덱스를 배열로 생성\n",
        "row_pos_ind = np.array([0, 2, 7, 9, 10, 12, 13])\n",
        "\n",
        "# CSR 형식으로 변환 \n",
        "sparse_csr = sparse.csr_matrix((data2, col_pos, row_pos_ind))\n",
        "\n",
        "print('COO 변환된 데이터가 제대로 되었는지 다시 Dense로 출력 확인')\n",
        "print(sparse_coo.toarray())\n",
        "print('CSR 변환된 데이터가 제대로 되었는지 다시 Dense로 출력 확인')\n",
        "print(sparse_csr.toarray())\n"
      ]
    },
    {
      "cell_type": "markdown",
      "source": [
        "## 텍스트 마이닝 실습 (신문분석)"
      ],
      "metadata": {
        "id": "JpOjzCY0lvR4"
      }
    },
    {
      "cell_type": "code",
      "source": [
        "!git clone https://github.com/GyeeunJeong/ADP.git"
      ],
      "metadata": {
        "colab": {
          "base_uri": "https://localhost:8080/"
        },
        "id": "_wFwzuniC7CR",
        "outputId": "4d9331bf-f8b1-44de-fcd8-75e2583c4792"
      },
      "execution_count": null,
      "outputs": [
        {
          "output_type": "stream",
          "name": "stdout",
          "text": [
            "fatal: destination path 'ADP' already exists and is not an empty directory.\n"
          ]
        }
      ]
    },
    {
      "cell_type": "code",
      "source": [
        "from urllib.parse import quote_plus\n",
        "\n",
        "import requests\n",
        "import lxml.html\n",
        "import codecs\n",
        "\n",
        "article_all = []\n",
        "import glob\n",
        "import nltk\n",
        "import re\n",
        "\n",
        "articles_all = []\n",
        "cat_list = glob.glob('ADP/data/bbc/*') # 영자신문 카테고리별로 신문 읽어오기\n",
        "\n",
        "# 여러가지 주제의 뉴스기사 읽어오기\n",
        "for folder in cat_list:\n",
        "  print(folder)\n",
        "\n",
        "  file_list = glob.glob(folder + '/*.txt') # 카테고리마다 저장된 txt파일 읽어오기\n",
        "  for fn in file_list:\n",
        "    fn_contents = open(fn, 'r')\n",
        "    article = fn_contents.read()\n",
        "    fn_contents.close()\n",
        "    articles_all.append(article)\n",
        "\n",
        "# 2글자 이상의 명사만 추출함\n",
        "def get_noun(text):\n",
        "  text = re.sub('[^A-Za-z ]+', '', text)\n",
        "  texts = nltk.word_tokenize(text)\n",
        "  return ([x for (x,y) in (nltk.pos_tag(texts)) if (y=='NNP' or y=='NN') and len(x)>1])  # pos_tag: 형태소 분석"
      ],
      "metadata": {
        "id": "PVWn_bBglyTY",
        "colab": {
          "base_uri": "https://localhost:8080/"
        },
        "outputId": "a781ddf2-f3c1-48a7-c405-1fa7fcd2025f"
      },
      "execution_count": null,
      "outputs": [
        {
          "output_type": "stream",
          "name": "stdout",
          "text": [
            "ADP/data/bbc/entertainment\n",
            "ADP/data/bbc/politics\n",
            "ADP/data/bbc/business\n",
            "ADP/data/bbc/tech\n",
            "ADP/data/bbc/sport\n"
          ]
        }
      ]
    },
    {
      "cell_type": "code",
      "source": [
        "import nltk\n",
        "nltk.download('punkt')\n",
        "nltk.download('averaged_perceptron_tagger')\n",
        "\n",
        "from sklearn.feature_extraction.text import TfidfVectorizer\n",
        "\n",
        "cv = TfidfVectorizer(tokenizer=get_noun, max_features=100)\n",
        "tdm = cv.fit_transform(articles_all) #어떤 term이 어떤 document에 속하는지, tfidf score는 어떻게 되는지. (document, term) tfidf score"
      ],
      "metadata": {
        "colab": {
          "base_uri": "https://localhost:8080/"
        },
        "id": "bqakkT7XEOh8",
        "outputId": "d950ae66-cfb8-4e1d-f0f6-7f02857163a0"
      },
      "execution_count": null,
      "outputs": [
        {
          "output_type": "stream",
          "name": "stderr",
          "text": [
            "[nltk_data] Downloading package punkt to /root/nltk_data...\n",
            "[nltk_data]   Package punkt is already up-to-date!\n",
            "[nltk_data] Downloading package averaged_perceptron_tagger to\n",
            "[nltk_data]     /root/nltk_data...\n",
            "[nltk_data]   Package averaged_perceptron_tagger is already up-to-\n",
            "[nltk_data]       date!\n"
          ]
        }
      ]
    },
    {
      "cell_type": "code",
      "source": [
        "print(tdm[0])"
      ],
      "metadata": {
        "colab": {
          "base_uri": "https://localhost:8080/"
        },
        "id": "oiemG-oiEkYW",
        "outputId": "3c594b13-a685-4cd8-96e5-874a77c73b80"
      },
      "execution_count": null,
      "outputs": [
        {
          "output_type": "stream",
          "name": "stdout",
          "text": [
            "  (0, 55)\t0.21266339570670753\n",
            "  (0, 93)\t0.21327519890026245\n",
            "  (0, 8)\t0.2002676504950796\n",
            "  (0, 29)\t0.20440127859718712\n",
            "  (0, 59)\t0.15927072281191854\n",
            "  (0, 57)\t0.40987516339531527\n",
            "  (0, 53)\t0.5829214174907217\n",
            "  (0, 95)\t0.15330032130791402\n",
            "  (0, 91)\t0.2666601114270372\n",
            "  (0, 98)\t0.14961282061925457\n",
            "  (0, 99)\t0.3593159203679832\n",
            "  (0, 27)\t0.21940426884605557\n"
          ]
        }
      ]
    },
    {
      "cell_type": "code",
      "source": [
        "import numpy\n",
        "import operator\n",
        "words = cv.get_feature_names() # 단어사전\n",
        "count_mat = tdm.sum(axis=0)    # 단어마다 tfidf score\n",
        "count = numpy.squeeze(numpy.asarray(count_mat))\n",
        "word_count = list(zip(words, count))\n",
        "word_count = sorted(word_count, key=operator.itemgetter(1), reverse=True)\n",
        "hot_key = list(dict(word_count).keys())"
      ],
      "metadata": {
        "colab": {
          "base_uri": "https://localhost:8080/"
        },
        "id": "3pRPRd1PMEWV",
        "outputId": "e60af348-110c-4739-ea93-7d98efca12c0"
      },
      "execution_count": null,
      "outputs": [
        {
          "output_type": "stream",
          "name": "stderr",
          "text": [
            "/usr/local/lib/python3.7/dist-packages/sklearn/utils/deprecation.py:87: FutureWarning: Function get_feature_names is deprecated; get_feature_names is deprecated in 1.0 and will be removed in 1.2. Please use get_feature_names_out instead.\n",
            "  warnings.warn(msg, category=FutureWarning)\n"
          ]
        }
      ]
    },
    {
      "cell_type": "code",
      "source": [
        "count"
      ],
      "metadata": {
        "id": "naRE0RBeqIzM",
        "outputId": "8c0a0ced-ea91-4077-af14-fcc33baa9762",
        "colab": {
          "base_uri": "https://localhost:8080/"
        }
      },
      "execution_count": null,
      "outputs": [
        {
          "output_type": "execute_result",
          "data": {
            "text/plain": [
              "array([ 33.02954156,  54.55621512,  53.68204836,  54.4485829 ,\n",
              "        36.48854665,  60.04629886,  86.76626884,  35.77560476,\n",
              "        52.51627017,  40.69450076,  45.10282166,  49.96344971,\n",
              "        30.00931697,  59.36713809,  88.94227049,  43.0387114 ,\n",
              "        53.65009342,  54.10414361,  60.65492574,  58.05334671,\n",
              "        57.84171827,  56.58243221,  65.37687603,  58.01675423,\n",
              "        64.40312063,  60.36874288,  72.63546154,  45.16708978,\n",
              "        49.66625042, 118.26126245,  79.6011348 ,  50.1666615 ,\n",
              "       128.96157026, 103.73693857,  67.75730002,  66.79526497,\n",
              "        78.447832  ,  42.81517423,  35.35575076,  54.58752913,\n",
              "        51.5341859 ,  42.90753927,  35.87958212,  38.21499022,\n",
              "        45.64002727,  36.87512307,  49.20237328,  43.56408622,\n",
              "        44.91914381,  53.54896388,  45.85356619,  85.56520559,\n",
              "        61.48377573,  63.74705811,  58.20600643,  43.11431216,\n",
              "       123.99341074,  88.17971824,  65.89989446, 100.01055249,\n",
              "        49.39016675,  45.06076465,  74.46257068,  60.41771225,\n",
              "        47.80189581,  64.21998123,  56.78253166,  35.53069402,\n",
              "        49.98736879,  41.55556371,  35.26803099,  61.11671572,\n",
              "        51.3372713 ,  40.20189515,  40.85677043,  41.05783151,\n",
              "        43.97262519,  43.29896269,  57.63131804,  39.63362941,\n",
              "        58.56252739,  58.47407773,  48.68835179,  38.53220949,\n",
              "        56.09241115,  55.5687884 ,  45.65128251,  52.51663263,\n",
              "        45.16604809,  68.07197838,  63.88118655, 124.27460682,\n",
              "        62.16756169,  40.95591106,  36.7298083 ,  81.80832045,\n",
              "        74.80707038,  58.04785836, 125.02466525, 167.45743993])"
            ]
          },
          "metadata": {},
          "execution_count": 85
        }
      ]
    },
    {
      "cell_type": "code",
      "source": [
        "word_count[:10]"
      ],
      "metadata": {
        "colab": {
          "base_uri": "https://localhost:8080/"
        },
        "id": "fCAEReS0Mi0M",
        "outputId": "2844db10-e076-480d-f0d0-7592dab33d8b"
      },
      "execution_count": null,
      "outputs": [
        {
          "output_type": "execute_result",
          "data": {
            "text/plain": [
              "[('year', 167.45743992945893),\n",
              " ('game', 128.96157026148535),\n",
              " ('world', 125.0246652479693),\n",
              " ('time', 124.27460682339118),\n",
              " ('mr', 123.99341073794787),\n",
              " ('film', 118.26126244504222),\n",
              " ('government', 103.73693856850868),\n",
              " ('number', 100.0105524885636),\n",
              " ('company', 88.94227048792924),\n",
              " ('music', 88.17971823607581)]"
            ]
          },
          "metadata": {},
          "execution_count": 54
        }
      ]
    },
    {
      "cell_type": "code",
      "source": [
        "hot_key[:10]"
      ],
      "metadata": {
        "colab": {
          "base_uri": "https://localhost:8080/"
        },
        "id": "_9q01BhiMkDB",
        "outputId": "4ce02fd8-9b91-48c1-ce64-5c96e1d96333"
      },
      "execution_count": null,
      "outputs": [
        {
          "output_type": "execute_result",
          "data": {
            "text/plain": [
              "['year',\n",
              " 'game',\n",
              " 'world',\n",
              " 'time',\n",
              " 'mr',\n",
              " 'film',\n",
              " 'government',\n",
              " 'number',\n",
              " 'company',\n",
              " 'music']"
            ]
          },
          "metadata": {},
          "execution_count": 55
        }
      ]
    },
    {
      "cell_type": "code",
      "source": [
        "%matplotlib inline\n",
        "from matplotlib import pyplot\n",
        "from wordcloud import WordCloud\n",
        "wc = WordCloud(background_color='white', width=400, height=300) #font_path='C:\\\\Windows\\\\Fonts\\\\NGULIM.ttf', \n",
        "cloud = wc.fit_words(dict(word_count)) # tfidf 크기가 크면 글자 크기가 커지게 클라우드 형성\n",
        "pyplot.figure(figsize=(12,9))\n",
        "pyplot.imshow(cloud)\n",
        "pyplot.axis('off')\n",
        "pyplot.show()"
      ],
      "metadata": {
        "colab": {
          "base_uri": "https://localhost:8080/",
          "height": 520
        },
        "id": "OTfzks6vOMBi",
        "outputId": "029456fb-70dd-4694-d4b6-3db7bc666f75"
      },
      "execution_count": null,
      "outputs": [
        {
          "output_type": "display_data",
          "data": {
            "text/plain": [
              "<Figure size 864x648 with 1 Axes>"
            ],
            "image/png": "[encoded data removed]"
          },
          "metadata": {
            "needs_background": "light"
          }
        }
      ]
    },
    {
      "cell_type": "code",
      "source": [
        "count_iter = iter(count)\n",
        "word_dict = dict(zip(words, count))"
      ],
      "metadata": {
        "id": "5LC7WkctmNfA"
      },
      "execution_count": null,
      "outputs": []
    },
    {
      "cell_type": "code",
      "source": [
        "import operator\n",
        "sorted_tfidf = sorted(word_dict.items(), key=operator.itemgetter(1), reverse=True)"
      ],
      "metadata": {
        "id": "wUBsj7GpO5g4"
      },
      "execution_count": null,
      "outputs": []
    },
    {
      "cell_type": "code",
      "source": [
        "sorted_tfidf[:10]"
      ],
      "metadata": {
        "colab": {
          "base_uri": "https://localhost:8080/"
        },
        "id": "tI8zscqOn8y4",
        "outputId": "481e967b-01e7-4df8-89f1-3413872b9c77"
      },
      "execution_count": null,
      "outputs": [
        {
          "output_type": "execute_result",
          "data": {
            "text/plain": [
              "[('year', 167.45743992945893),\n",
              " ('game', 128.96157026148535),\n",
              " ('world', 125.0246652479693),\n",
              " ('time', 124.27460682339118),\n",
              " ('mr', 123.99341073794787),\n",
              " ('film', 118.26126244504222),\n",
              " ('government', 103.73693856850868),\n",
              " ('number', 100.0105524885636),\n",
              " ('company', 88.94227048792924),\n",
              " ('music', 88.17971823607581)]"
            ]
          },
          "metadata": {},
          "execution_count": 70
        }
      ]
    },
    {
      "cell_type": "code",
      "source": [
        "import pandas as pd\n",
        "tfidf_df = pd.DataFrame(list(sorted_tfidf), columns=('word', 'tfidf_score'))"
      ],
      "metadata": {
        "id": "hvXBcA8wn__k"
      },
      "execution_count": null,
      "outputs": []
    },
    {
      "cell_type": "code",
      "source": [
        "tfidf_df.head()"
      ],
      "metadata": {
        "colab": {
          "base_uri": "https://localhost:8080/",
          "height": 206
        },
        "id": "olnezIjwoI1T",
        "outputId": "5a962132-14e8-4bdb-9ebd-db5b8545ab48"
      },
      "execution_count": null,
      "outputs": [
        {
          "output_type": "execute_result",
          "data": {
            "text/plain": [
              "    word  tfidf_score\n",
              "0   year   167.457440\n",
              "1   game   128.961570\n",
              "2  world   125.024665\n",
              "3   time   124.274607\n",
              "4     mr   123.993411"
            ],
            "text/html": [
              "\n",
              "  <div id=\"df-5abcebe8-fde1-44f7-9cd3-dd1da3b65c49\">\n",
              "    <div class=\"colab-df-container\">\n",
              "      <div>\n",
              "<style scoped>\n",
              "    .dataframe tbody tr th:only-of-type {\n",
              "        vertical-align: middle;\n",
              "    }\n",
              "\n",
              "    .dataframe tbody tr th {\n",
              "        vertical-align: top;\n",
              "    }\n",
              "\n",
              "    .dataframe thead th {\n",
              "        text-align: right;\n",
              "    }\n",
              "</style>\n",
              "<table border=\"1\" class=\"dataframe\">\n",
              "  <thead>\n",
              "    <tr style=\"text-align: right;\">\n",
              "      <th></th>\n",
              "      <th>word</th>\n",
              "      <th>tfidf_score</th>\n",
              "    </tr>\n",
              "  </thead>\n",
              "  <tbody>\n",
              "    <tr>\n",
              "      <th>0</th>\n",
              "      <td>year</td>\n",
              "      <td>167.457440</td>\n",
              "    </tr>\n",
              "    <tr>\n",
              "      <th>1</th>\n",
              "      <td>game</td>\n",
              "      <td>128.961570</td>\n",
              "    </tr>\n",
              "    <tr>\n",
              "      <th>2</th>\n",
              "      <td>world</td>\n",
              "      <td>125.024665</td>\n",
              "    </tr>\n",
              "    <tr>\n",
              "      <th>3</th>\n",
              "      <td>time</td>\n",
              "      <td>124.274607</td>\n",
              "    </tr>\n",
              "    <tr>\n",
              "      <th>4</th>\n",
              "      <td>mr</td>\n",
              "      <td>123.993411</td>\n",
              "    </tr>\n",
              "  </tbody>\n",
              "</table>\n",
              "</div>\n",
              "      <button class=\"colab-df-convert\" onclick=\"convertToInteractive('df-5abcebe8-fde1-44f7-9cd3-dd1da3b65c49')\"\n",
              "              title=\"Convert this dataframe to an interactive table.\"\n",
              "              style=\"display:none;\">\n",
              "        \n",
              "  <svg xmlns=\"http://www.w3.org/2000/svg\" height=\"24px\"viewBox=\"0 0 24 24\"\n",
              "       width=\"24px\">\n",
              "    <path d=\"M0 0h24v24H0V0z\" fill=\"none\"/>\n",
              "    <path d=\"M18.56 5.44l.94 2.06.94-2.06 2.06-.94-2.06-.94-.94-2.06-.94 2.06-2.06.94zm-11 1L8.5 8.5l.94-2.06 2.06-.94-2.06-.94L8.5 2.5l-.94 2.06-2.06.94zm10 10l.94 2.06.94-2.06 2.06-.94-2.06-.94-.94-2.06-.94 2.06-2.06.94z\"/><path d=\"M17.41 7.96l-1.37-1.37c-.4-.4-.92-.59-1.43-.59-.52 0-1.04.2-1.43.59L10.3 9.45l-7.72 7.72c-.78.78-.78 2.05 0 2.83L4 21.41c.39.39.9.59 1.41.59.51 0 1.02-.2 1.41-.59l7.78-7.78 2.81-2.81c.8-.78.8-2.07 0-2.86zM5.41 20L4 18.59l7.72-7.72 1.47 1.35L5.41 20z\"/>\n",
              "  </svg>\n",
              "      </button>\n",
              "      \n",
              "  <style>\n",
              "    .colab-df-container {\n",
              "      display:flex;\n",
              "      flex-wrap:wrap;\n",
              "      gap: 12px;\n",
              "    }\n",
              "\n",
              "    .colab-df-convert {\n",
              "      background-color: #E8F0FE;\n",
              "      border: none;\n",
              "      border-radius: 50%;\n",
              "      cursor: pointer;\n",
              "      display: none;\n",
              "      fill: #1967D2;\n",
              "      height: 32px;\n",
              "      padding: 0 0 0 0;\n",
              "      width: 32px;\n",
              "    }\n",
              "\n",
              "    .colab-df-convert:hover {\n",
              "      background-color: #E2EBFA;\n",
              "      box-shadow: 0px 1px 2px rgba(60, 64, 67, 0.3), 0px 1px 3px 1px rgba(60, 64, 67, 0.15);\n",
              "      fill: #174EA6;\n",
              "    }\n",
              "\n",
              "    [theme=dark] .colab-df-convert {\n",
              "      background-color: #3B4455;\n",
              "      fill: #D2E3FC;\n",
              "    }\n",
              "\n",
              "    [theme=dark] .colab-df-convert:hover {\n",
              "      background-color: #434B5C;\n",
              "      box-shadow: 0px 1px 3px 1px rgba(0, 0, 0, 0.15);\n",
              "      filter: drop-shadow(0px 1px 2px rgba(0, 0, 0, 0.3));\n",
              "      fill: #FFFFFF;\n",
              "    }\n",
              "  </style>\n",
              "\n",
              "      <script>\n",
              "        const buttonEl =\n",
              "          document.querySelector('#df-5abcebe8-fde1-44f7-9cd3-dd1da3b65c49 button.colab-df-convert');\n",
              "        buttonEl.style.display =\n",
              "          google.colab.kernel.accessAllowed ? 'block' : 'none';\n",
              "\n",
              "        async function convertToInteractive(key) {\n",
              "          const element = document.querySelector('#df-5abcebe8-fde1-44f7-9cd3-dd1da3b65c49');\n",
              "          const dataTable =\n",
              "            await google.colab.kernel.invokeFunction('convertToInteractive',\n",
              "                                                     [key], {});\n",
              "          if (!dataTable) return;\n",
              "\n",
              "          const docLinkHtml = 'Like what you see? Visit the ' +\n",
              "            '<a target=\"_blank\" href=https://colab.research.google.com/notebooks/data_table.ipynb>data table notebook</a>'\n",
              "            + ' to learn more about interactive tables.';\n",
              "          element.innerHTML = '';\n",
              "          dataTable['output_type'] = 'display_data';\n",
              "          await google.colab.output.renderOutput(dataTable, element);\n",
              "          const docLink = document.createElement('div');\n",
              "          docLink.innerHTML = docLinkHtml;\n",
              "          element.appendChild(docLink);\n",
              "        }\n",
              "      </script>\n",
              "    </div>\n",
              "  </div>\n",
              "  "
            ]
          },
          "metadata": {},
          "execution_count": 72
        }
      ]
    },
    {
      "cell_type": "code",
      "source": [
        "tfidf_df.to_csv('sorted_tfidf.csv')"
      ],
      "metadata": {
        "id": "WK1qEWYxoLQZ"
      },
      "execution_count": null,
      "outputs": []
    },
    {
      "cell_type": "markdown",
      "metadata": {
        "id": "FBdkeUTSkRP8"
      },
      "source": [
        "# 텍스트 분류 - 문서 분류\n",
        "- 텍스트 피처 벡터화 희소 행렬을 잘 분류할 수 있는 알고리즘은 로지스틱 회귀, SVM, NB\n",
        "- 순서 : 텍스트 정규화 -> 피처 벡터화 -> ML 학습/예측/평가"
      ]
    },
    {
      "cell_type": "markdown",
      "metadata": {
        "ExecuteTime": {
          "end_time": "2020-09-17T17:52:30.452222Z",
          "start_time": "2020-09-17T17:52:30.447234Z"
        },
        "id": "GNGEGKMskRP9"
      },
      "source": [
        "- 데이터 로딩"
      ]
    },
    {
      "cell_type": "code",
      "execution_count": null,
      "metadata": {
        "ExecuteTime": {
          "end_time": "2021-03-24T11:23:58.537270Z",
          "start_time": "2021-03-24T11:23:53.378082Z"
        },
        "id": "0hf7LA2DkRP9",
        "outputId": "09e19238-322f-4163-ef58-ea931bfa0453"
      },
      "outputs": [
        {
          "name": "stdout",
          "output_type": "stream",
          "text": [
            "<class 'list'>\n",
            "학습 데이터 크기 11314 , 테스트 데이터 크기 7532\n"
          ]
        }
      ],
      "source": [
        "from sklearn.datasets import fetch_20newsgroups\n",
        "\n",
        "# subset='train'으로 학습용(Train) 데이터만 추출, remove=('headers', 'footers', 'quotes')로 내용만 추출\n",
        "train_news= fetch_20newsgroups(subset='train', remove=('headers', 'footers', 'quotes'), random_state=156)\n",
        "X_train = train_news.data\n",
        "y_train = train_news.target\n",
        "print(type(X_train))\n",
        "\n",
        "# subset='test'으로 테스트(Test) 데이터만 추출, remove=('headers', 'footers', 'quotes')로 내용만 추출\n",
        "test_news= fetch_20newsgroups(subset='test',remove=('headers', 'footers','quotes'),random_state=156)\n",
        "X_test = test_news.data\n",
        "y_test = test_news.target\n",
        "print('학습 데이터 크기 {0} , 테스트 데이터 크기 {1}'.format(len(train_news.data) , len(test_news.data)))"
      ]
    },
    {
      "cell_type": "markdown",
      "metadata": {
        "id": "bRrRaXTqkRP-"
      },
      "source": [
        "### 피처 벡터 변환(CounterVectorizer) --> Logsitc 분류"
      ]
    },
    {
      "cell_type": "markdown",
      "metadata": {
        "id": "7XRXTdAwkRP_"
      },
      "source": [
        "* CounterVectorizer"
      ]
    },
    {
      "cell_type": "code",
      "execution_count": null,
      "metadata": {
        "ExecuteTime": {
          "end_time": "2021-03-24T11:26:23.016858Z",
          "start_time": "2021-03-24T11:26:17.298152Z"
        },
        "id": "wTBQwuvpkRP_",
        "outputId": "23567683-fb49-40c0-db1c-3ab588385df1"
      },
      "outputs": [
        {
          "name": "stdout",
          "output_type": "stream",
          "text": [
            "학습 데이터 Text의 CountVectorizer Shape: (11314, 101631)\n"
          ]
        }
      ],
      "source": [
        "from sklearn.feature_extraction.text import CountVectorizer\n",
        "\n",
        "# Count Vectorization으로 feature extraction 변환 수행. \n",
        "cnt_vect = CountVectorizer()\n",
        "cnt_vect.fit(X_train , y_train)\n",
        "X_train_cnt_vect = cnt_vect.transform(X_train)\n",
        "\n",
        "# 학습 데이터로 fit( )된 CountVectorizer를 이용하여 테스트 데이터를 feature extraction 변환 수행. \n",
        "X_test_cnt_vect = cnt_vect.transform(X_test)\n",
        "\n",
        "print('학습 데이터 Text의 CountVectorizer Shape:',X_train_cnt_vect.shape)"
      ]
    },
    {
      "cell_type": "markdown",
      "metadata": {
        "id": "sDMu8QFbkRQA"
      },
      "source": [
        "* ML 분류 예측"
      ]
    },
    {
      "cell_type": "code",
      "execution_count": null,
      "metadata": {
        "ExecuteTime": {
          "end_time": "2020-12-03T15:38:44.661611Z",
          "start_time": "2020-12-03T15:37:29.745553Z"
        },
        "id": "LNSCy90VkRQB",
        "outputId": "4fc4efc2-e926-4bce-9182-3c6ff6bff05a"
      },
      "outputs": [
        {
          "name": "stdout",
          "output_type": "stream",
          "text": [
            "CountVectorized Logistic Regression 의 예측 정확도는 0.605\n"
          ]
        },
        {
          "name": "stderr",
          "output_type": "stream",
          "text": [
            "C:\\Users\\50008313\\AppData\\Local\\Continuum\\anaconda3\\lib\\site-packages\\sklearn\\linear_model\\_logistic.py:764: ConvergenceWarning: lbfgs failed to converge (status=1):\n",
            "STOP: TOTAL NO. of ITERATIONS REACHED LIMIT.\n",
            "\n",
            "Increase the number of iterations (max_iter) or scale the data as shown in:\n",
            "    https://scikit-learn.org/stable/modules/preprocessing.html\n",
            "Please also refer to the documentation for alternative solver options:\n",
            "    https://scikit-learn.org/stable/modules/linear_model.html#logistic-regression\n",
            "  extra_warning_msg=_LOGISTIC_SOLVER_CONVERGENCE_MSG)\n"
          ]
        }
      ],
      "source": [
        "from sklearn.linear_model import LogisticRegression\n",
        "from sklearn.metrics import accuracy_score\n",
        "\n",
        "# LogisticRegression을 이용하여 학습/예측/평가 수행. \n",
        "lr_clf = LogisticRegression()\n",
        "lr_clf.fit(X_train_cnt_vect , y_train)\n",
        "pred = lr_clf.predict(X_test_cnt_vect)\n",
        "print('CountVectorized Logistic Regression 의 예측 정확도는 {0:.3f}'.format(accuracy_score(y_test,pred)))"
      ]
    },
    {
      "cell_type": "markdown",
      "metadata": {
        "id": "SGqGkVX4kRQC"
      },
      "source": [
        "### 피처 벡터 변환(TF-IDF) --> Logsitc 분류"
      ]
    },
    {
      "cell_type": "code",
      "execution_count": null,
      "metadata": {
        "ExecuteTime": {
          "end_time": "2020-09-17T18:05:11.648418Z",
          "start_time": "2020-09-17T18:04:58.290214Z"
        },
        "id": "SLA73XApkRQC",
        "outputId": "591ef095-8185-41e8-b1a1-8c9271d0947d"
      },
      "outputs": [
        {
          "name": "stderr",
          "output_type": "stream",
          "text": [
            "C:\\Users\\50008313\\AppData\\Local\\Continuum\\anaconda3\\lib\\site-packages\\sklearn\\linear_model\\logistic.py:432: FutureWarning: Default solver will be changed to 'lbfgs' in 0.22. Specify a solver to silence this warning.\n",
            "  FutureWarning)\n",
            "C:\\Users\\50008313\\AppData\\Local\\Continuum\\anaconda3\\lib\\site-packages\\sklearn\\linear_model\\logistic.py:469: FutureWarning: Default multi_class will be changed to 'auto' in 0.22. Specify the multi_class option to silence this warning.\n",
            "  \"this warning.\", FutureWarning)\n"
          ]
        },
        {
          "name": "stdout",
          "output_type": "stream",
          "text": [
            "TF-IDF Logistic Regression 의 예측 정확도는 0.678\n"
          ]
        }
      ],
      "source": [
        "from sklearn.feature_extraction.text import TfidfVectorizer\n",
        "from sklearn.linear_model import LogisticRegression\n",
        "from sklearn.metrics import accuracy_score\n",
        "\n",
        "# TF-IDF Vectorization 적용하여 학습 데이터셋과 테스트 데이터 셋 변환. \n",
        "tfidf_vect = TfidfVectorizer()\n",
        "tfidf_vect.fit(X_train)\n",
        "X_train_tfidf_vect = tfidf_vect.transform(X_train)\n",
        "X_test_tfidf_vect = tfidf_vect.transform(X_test)\n",
        "\n",
        "# LogisticRegression을 이용하여 학습/예측/평가 수행. \n",
        "lr_clf = LogisticRegression()\n",
        "lr_clf.fit(X_train_tfidf_vect , y_train)\n",
        "pred = lr_clf.predict(X_test_tfidf_vect)\n",
        "print('TF-IDF Logistic Regression 의 예측 정확도는 {0:.3f}'.format(accuracy_score(y_test ,pred)))"
      ]
    },
    {
      "cell_type": "markdown",
      "metadata": {
        "id": "FY_afFM7kRQD"
      },
      "source": [
        "### 피처 벡터 변환(TF-IDF) + 스톱 워드, ngram 변경 --> Logsitc 분류"
      ]
    },
    {
      "cell_type": "code",
      "execution_count": null,
      "metadata": {
        "ExecuteTime": {
          "end_time": "2020-09-17T18:06:58.513347Z",
          "start_time": "2020-09-17T18:06:21.689951Z"
        },
        "id": "M6Fu7MnckRQE",
        "outputId": "167bdddb-61a9-4d81-8650-b4271236323d"
      },
      "outputs": [
        {
          "name": "stderr",
          "output_type": "stream",
          "text": [
            "C:\\Users\\50008313\\AppData\\Local\\Continuum\\anaconda3\\lib\\site-packages\\sklearn\\linear_model\\logistic.py:432: FutureWarning: Default solver will be changed to 'lbfgs' in 0.22. Specify a solver to silence this warning.\n",
            "  FutureWarning)\n",
            "C:\\Users\\50008313\\AppData\\Local\\Continuum\\anaconda3\\lib\\site-packages\\sklearn\\linear_model\\logistic.py:469: FutureWarning: Default multi_class will be changed to 'auto' in 0.22. Specify the multi_class option to silence this warning.\n",
            "  \"this warning.\", FutureWarning)\n"
          ]
        },
        {
          "name": "stdout",
          "output_type": "stream",
          "text": [
            "TF-IDF Vectorized Logistic Regression 의 예측 정확도는 0.690\n"
          ]
        }
      ],
      "source": [
        "# stop words 필터링을 추가하고 ngram을 기본(1,1)에서 (1,2)로 변경하여 Feature Vectorization 적용.\n",
        "tfidf_vect = TfidfVectorizer(stop_words='english', ngram_range=(1,2), max_df=300 ) \n",
        "                            #stop_words='english' 영어용 스탑 워드 사용.\n",
        "                                                   # n-그램 범위: 띄어쓰기를 기본으로 토큰화를 진행하지만, 때로는 단어와 단어의 조합이 의미를 갖는 경우가 있다. \n",
        "                                                   # (e.g. go back). 최소 min개, 최대 max개의 단어 구성으로 토큰을 구성하게 할 수 있다.\n",
        "                                                                      #max_df : 정수 또는 [0.0, 1.0] 사이의 실수. 디폴트 1\n",
        "                                                                      #최대 몇개 문서에 걸쳐 포함된 단어까지 단어 꾸러미에 담아 사용할 것인지\n",
        "                            # 매개변수 설명 출처: https://wikidocs.net/33664, https://mingchin.tistory.com/6?category=971417\n",
        "tfidf_vect.fit(X_train)\n",
        "X_train_tfidf_vect = tfidf_vect.transform(X_train)\n",
        "X_test_tfidf_vect = tfidf_vect.transform(X_test)\n",
        "\n",
        "lr_clf = LogisticRegression()\n",
        "lr_clf.fit(X_train_tfidf_vect , y_train)\n",
        "pred = lr_clf.predict(X_test_tfidf_vect)\n",
        "print('TF-IDF Vectorized Logistic Regression 의 예측 정확도는 {0:.3f}'.format(accuracy_score(y_test ,pred)))\n"
      ]
    },
    {
      "cell_type": "markdown",
      "metadata": {
        "id": "h_2mrsk-kRQF"
      },
      "source": [
        "## 위 작업을 GridsearchCV"
      ]
    },
    {
      "cell_type": "code",
      "execution_count": null,
      "metadata": {
        "ExecuteTime": {
          "end_time": "2020-09-17T18:14:09.711220Z",
          "start_time": "2020-09-17T18:09:05.403682Z"
        },
        "id": "iWM1UyRnkRQF",
        "outputId": "076e17d4-8e7b-4c9b-df09-1282a385562d"
      },
      "outputs": [
        {
          "name": "stdout",
          "output_type": "stream",
          "text": [
            "Fitting 3 folds for each of 5 candidates, totalling 15 fits\n"
          ]
        },
        {
          "name": "stderr",
          "output_type": "stream",
          "text": [
            "[Parallel(n_jobs=1)]: Using backend SequentialBackend with 1 concurrent workers.\n",
            "C:\\Users\\50008313\\AppData\\Local\\Continuum\\anaconda3\\lib\\site-packages\\sklearn\\linear_model\\logistic.py:432: FutureWarning: Default solver will be changed to 'lbfgs' in 0.22. Specify a solver to silence this warning.\n",
            "  FutureWarning)\n",
            "C:\\Users\\50008313\\AppData\\Local\\Continuum\\anaconda3\\lib\\site-packages\\sklearn\\linear_model\\logistic.py:469: FutureWarning: Default multi_class will be changed to 'auto' in 0.22. Specify the multi_class option to silence this warning.\n",
            "  \"this warning.\", FutureWarning)\n",
            "[Parallel(n_jobs=1)]: Done  15 out of  15 | elapsed:  4.5min finished\n"
          ]
        },
        {
          "name": "stdout",
          "output_type": "stream",
          "text": [
            "Logistic Regression best C parameter : {'C': 10}\n",
            "TF-IDF Vectorized Logistic Regression 의 예측 정확도는 0.704\n"
          ]
        }
      ],
      "source": [
        "from sklearn.model_selection import GridSearchCV\n",
        "\n",
        "# 최적 C 값 도출 튜닝 수행. CV는 3 Fold셋으로 설정. \n",
        "params = { 'C':[0.01, 0.1, 1, 5, 10]}\n",
        "grid_cv_lr = GridSearchCV(lr_clf ,param_grid=params , cv=3 , scoring='accuracy' , verbose=1 )\n",
        "grid_cv_lr.fit(X_train_tfidf_vect , y_train)\n",
        "print('Logistic Regression best C parameter :',grid_cv_lr.best_params_ )\n",
        "\n",
        "# 최적 C 값으로 학습된 grid_cv로 예측 수행하고 정확도 평가. \n",
        "pred = grid_cv_lr.predict(X_test_tfidf_vect)\n",
        "print('TF-IDF Vectorized Logistic Regression 의 예측 정확도는 {0:.3f}'.format(accuracy_score(y_test ,pred)))\n"
      ]
    },
    {
      "cell_type": "markdown",
      "metadata": {
        "id": "3EJfRtVnkRQG"
      },
      "source": [
        "# 감성분석\n",
        "- 지도학습은 레이블이 있음\n",
        "- 비지도학습은 'Lexicon'이라는 감성 어휘 사전을 이용"
      ]
    },
    {
      "cell_type": "markdown",
      "metadata": {
        "id": "1CszUtXDkRQG"
      },
      "source": [
        "- 데이터 로딩"
      ]
    },
    {
      "cell_type": "code",
      "execution_count": null,
      "metadata": {
        "ExecuteTime": {
          "end_time": "2020-09-18T01:37:36.828489Z",
          "start_time": "2020-09-18T01:37:36.247347Z"
        },
        "id": "m-i_KuMAkRQH",
        "outputId": "d0e88b18-cc92-463d-b059-3948ccd50d45"
      },
      "outputs": [
        {
          "data": {
            "text/html": [
              "<div>\n",
              "<style scoped>\n",
              "    .dataframe tbody tr th:only-of-type {\n",
              "        vertical-align: middle;\n",
              "    }\n",
              "\n",
              "    .dataframe tbody tr th {\n",
              "        vertical-align: top;\n",
              "    }\n",
              "\n",
              "    .dataframe thead th {\n",
              "        text-align: right;\n",
              "    }\n",
              "</style>\n",
              "<table border=\"1\" class=\"dataframe\">\n",
              "  <thead>\n",
              "    <tr style=\"text-align: right;\">\n",
              "      <th></th>\n",
              "      <th>id</th>\n",
              "      <th>sentiment</th>\n",
              "      <th>review</th>\n",
              "    </tr>\n",
              "  </thead>\n",
              "  <tbody>\n",
              "    <tr>\n",
              "      <th>0</th>\n",
              "      <td>\"5814_8\"</td>\n",
              "      <td>1</td>\n",
              "      <td>\"With all this stuff going down at the moment ...</td>\n",
              "    </tr>\n",
              "    <tr>\n",
              "      <th>1</th>\n",
              "      <td>\"2381_9\"</td>\n",
              "      <td>1</td>\n",
              "      <td>\"\\\"The Classic War of the Worlds\\\" by Timothy ...</td>\n",
              "    </tr>\n",
              "    <tr>\n",
              "      <th>2</th>\n",
              "      <td>\"7759_3\"</td>\n",
              "      <td>0</td>\n",
              "      <td>\"The film starts with a manager (Nicholas Bell...</td>\n",
              "    </tr>\n",
              "  </tbody>\n",
              "</table>\n",
              "</div>"
            ],
            "text/plain": [
              "         id  sentiment                                             review\n",
              "0  \"5814_8\"          1  \"With all this stuff going down at the moment ...\n",
              "1  \"2381_9\"          1  \"\\\"The Classic War of the Worlds\\\" by Timothy ...\n",
              "2  \"7759_3\"          0  \"The film starts with a manager (Nicholas Bell..."
            ]
          },
          "execution_count": 4,
          "metadata": {},
          "output_type": "execute_result"
        }
      ],
      "source": [
        "import pandas as pd\n",
        "\n",
        "review_df = pd.read_csv('D:/github/labeledTrainData.tsv', header=0, sep=\"\\t\", quoting=3)\n",
        "review_df.head(3)"
      ]
    },
    {
      "cell_type": "code",
      "execution_count": null,
      "metadata": {
        "ExecuteTime": {
          "end_time": "2020-09-18T01:40:10.430757Z",
          "start_time": "2020-09-18T01:40:10.423844Z"
        },
        "id": "T9TPZYSLkRQP",
        "outputId": "1484c720-47fd-43e5-9d4f-078c44eb7144"
      },
      "outputs": [
        {
          "data": {
            "text/plain": [
              "'\"With all this stuff going down at the moment with MJ i\\'ve started listening to his music, watching the odd documentary here and there, watched The Wiz and watched Moonwalker again. Maybe i just want to get a certain insight into this guy who i thought was really cool in the eighties just to maybe m'"
            ]
          },
          "execution_count": 18,
          "metadata": {},
          "output_type": "execute_result"
        }
      ],
      "source": [
        "review_df['review'][0][:300]"
      ]
    },
    {
      "cell_type": "markdown",
      "metadata": {
        "id": "KcOPQAubkRQQ"
      },
      "source": [
        "## 지도학습 기반 감성 분석"
      ]
    },
    {
      "cell_type": "markdown",
      "metadata": {
        "id": "rF3b06vXkRQR"
      },
      "source": [
        "### 클렌징 : 불필요 문자, 기호 삭제"
      ]
    },
    {
      "cell_type": "code",
      "execution_count": null,
      "metadata": {
        "ExecuteTime": {
          "end_time": "2020-09-18T01:46:20.734213Z",
          "start_time": "2020-09-18T01:46:17.622648Z"
        },
        "id": "HRogwDi_kRQR"
      },
      "outputs": [],
      "source": [
        "import re\n",
        "\n",
        "# <br> html 태그는 replace 함수로 공백으로 변환\n",
        "review_df['review'] = review_df['review'].str.replace('<br />',' ')\n",
        "\n",
        "# 파이썬의 정규 표현식 모듈인 re를 이용하여 영어 문자열이 아닌 문자는 모두 공백으로 변환 \n",
        "review_df['review'] = review_df['review'].apply( lambda x : re.sub(\"[^a-zA-Z]\", \" \", x) )\n"
      ]
    },
    {
      "cell_type": "markdown",
      "metadata": {
        "id": "5LE9AJj1kRQR"
      },
      "source": [
        "### X, y 분리 : 감정(sentiment)가 y"
      ]
    },
    {
      "cell_type": "code",
      "execution_count": null,
      "metadata": {
        "ExecuteTime": {
          "end_time": "2020-09-18T01:47:44.165318Z",
          "start_time": "2020-09-18T01:47:44.144631Z"
        },
        "id": "w9JYID_tkRQS",
        "outputId": "0c06d064-f6c1-4a4e-cbe9-cc685b1c3660"
      },
      "outputs": [
        {
          "data": {
            "text/plain": [
              "((17500, 1), (7500, 1))"
            ]
          },
          "execution_count": 21,
          "metadata": {},
          "output_type": "execute_result"
        }
      ],
      "source": [
        "from sklearn.model_selection import train_test_split\n",
        "\n",
        "class_df = review_df['sentiment']\n",
        "feature_df = review_df.drop(['id','sentiment'], axis=1, inplace=False)\n",
        "\n",
        "X_train, X_test, y_train, y_test= train_test_split(feature_df, class_df, test_size=0.3, random_state=156)\n",
        "\n",
        "X_train.shape, X_test.shape"
      ]
    },
    {
      "cell_type": "markdown",
      "metadata": {
        "id": "HJ6SWZGkkRQT"
      },
      "source": [
        "## Pipeline을 활용한 벡터화 후 ML 분류"
      ]
    },
    {
      "cell_type": "markdown",
      "metadata": {
        "id": "KPj1Lh7ZkRQT"
      },
      "source": [
        "#### 시도1. CountVectorizer"
      ]
    },
    {
      "cell_type": "code",
      "execution_count": null,
      "metadata": {
        "ExecuteTime": {
          "end_time": "2020-09-18T01:48:24.960740Z",
          "start_time": "2020-09-18T01:47:44.339386Z"
        },
        "id": "JOCNVgc0kRQU",
        "outputId": "c9a593c7-439d-4095-c8a6-e1b5ffa79609"
      },
      "outputs": [
        {
          "name": "stderr",
          "output_type": "stream",
          "text": [
            "C:\\Users\\50008313\\AppData\\Local\\Continuum\\anaconda3\\lib\\site-packages\\sklearn\\linear_model\\logistic.py:432: FutureWarning: Default solver will be changed to 'lbfgs' in 0.22. Specify a solver to silence this warning.\n",
            "  FutureWarning)\n"
          ]
        },
        {
          "name": "stdout",
          "output_type": "stream",
          "text": [
            "예측 정확도는 0.8859, ROC-AUC는 0.9503\n"
          ]
        }
      ],
      "source": [
        "from sklearn.feature_extraction.text import CountVectorizer, TfidfVectorizer\n",
        "from sklearn.pipeline import Pipeline\n",
        "from sklearn.linear_model import LogisticRegression\n",
        "from sklearn.metrics import accuracy_score, roc_auc_score\n",
        "\n",
        "# 스톱 워드는 English, filtering, ngram은 (1,2)로 설정해 CountVectorization수행. \n",
        "# LogisticRegression의 C는 10으로 설정. \n",
        "pipeline = Pipeline([\n",
        "    ('cnt_vect', CountVectorizer(stop_words='english', ngram_range=(1,2) )),\n",
        "    ('lr_clf', LogisticRegression(C=10))])\n",
        "\n",
        "# Pipeline 객체를 이용하여 fit(), predict()로 학습/예측 수행. predict_proba()는 roc_auc때문에 수행.  \n",
        "pipeline.fit(X_train['review'], y_train)\n",
        "pred = pipeline.predict(X_test['review'])\n",
        "pred_probs = pipeline.predict_proba(X_test['review'])[:,1]\n",
        "\n",
        "print('예측 정확도는 {0:.4f}, ROC-AUC는 {1:.4f}'.format(accuracy_score(y_test ,pred),\n",
        "                                         roc_auc_score(y_test, pred_probs)))"
      ]
    },
    {
      "cell_type": "markdown",
      "metadata": {
        "id": "XsBzZQZjkRQV"
      },
      "source": [
        "#### 시도2. TD-IDF"
      ]
    },
    {
      "cell_type": "code",
      "execution_count": null,
      "metadata": {
        "ExecuteTime": {
          "end_time": "2020-09-18T01:48:51.988275Z",
          "start_time": "2020-09-18T01:48:24.963884Z"
        },
        "id": "rQXuIMkEkRQV",
        "outputId": "001afffc-2072-425a-e347-816a07f28851"
      },
      "outputs": [
        {
          "name": "stderr",
          "output_type": "stream",
          "text": [
            "C:\\Users\\50008313\\AppData\\Local\\Continuum\\anaconda3\\lib\\site-packages\\sklearn\\linear_model\\logistic.py:432: FutureWarning: Default solver will be changed to 'lbfgs' in 0.22. Specify a solver to silence this warning.\n",
            "  FutureWarning)\n"
          ]
        },
        {
          "name": "stdout",
          "output_type": "stream",
          "text": [
            "예측 정확도는 0.8936, ROC-AUC는 0.9598\n"
          ]
        }
      ],
      "source": [
        "# 스톱 워드는 english, filtering, ngram은 (1,2)로 설정해 TF-IDF 벡터화 수행. \n",
        "# LogisticRegression의 C는 10으로 설정. \n",
        "pipeline = Pipeline([\n",
        "    ('tfidf_vect', TfidfVectorizer(stop_words='english', ngram_range=(1,2) )),\n",
        "    ('lr_clf', LogisticRegression(C=10))])\n",
        "\n",
        "pipeline.fit(X_train['review'], y_train)\n",
        "pred = pipeline.predict(X_test['review'])\n",
        "pred_probs = pipeline.predict_proba(X_test['review'])[:,1]\n",
        "\n",
        "print('예측 정확도는 {0:.4f}, ROC-AUC는 {1:.4f}'.format(accuracy_score(y_test ,pred),\n",
        "                                         roc_auc_score(y_test, pred_probs)))"
      ]
    },
    {
      "cell_type": "markdown",
      "metadata": {
        "id": "e-uxCn8lkRQW"
      },
      "source": [
        "## 비지도학습 기반 감성분석"
      ]
    },
    {
      "cell_type": "markdown",
      "metadata": {
        "id": "7K8P_HVikRQW"
      },
      "source": [
        "### 참고: Synset의 개념"
      ]
    },
    {
      "cell_type": "markdown",
      "metadata": {
        "id": "bvLhyRpykRQW"
      },
      "source": [
        "import nltk\n",
        "nltk.download('all')"
      ]
    },
    {
      "cell_type": "markdown",
      "metadata": {
        "id": "Kfo7afOakRQX"
      },
      "source": [
        "- 참고 : NLP의 WordNet은 시멘틱 분석을 제공하는 어휘 사전"
      ]
    },
    {
      "cell_type": "code",
      "execution_count": null,
      "metadata": {
        "ExecuteTime": {
          "end_time": "2020-09-18T01:59:48.152085Z",
          "start_time": "2020-09-18T01:59:44.259460Z"
        },
        "id": "H2M7XAAMkRQY",
        "outputId": "85d1c128-4c13-4a61-e42d-57351c38677f",
        "colab": {
          "base_uri": "https://localhost:8080/"
        }
      },
      "outputs": [
        {
          "output_type": "stream",
          "name": "stderr",
          "text": [
            "[nltk_data] Downloading package wordnet to /root/nltk_data...\n",
            "[nltk_data]   Package wordnet is already up-to-date!\n",
            "[nltk_data] Downloading package omw-1.4 to /root/nltk_data...\n",
            "[nltk_data]   Unzipping corpora/omw-1.4.zip.\n"
          ]
        },
        {
          "output_type": "stream",
          "name": "stdout",
          "text": [
            "synsets() 반환 type : <class 'list'>\n",
            "synsets() 반환 값 갯수: 18\n",
            "synsets() 반환 값 : [Synset('present.n.01'), Synset('present.n.02'), Synset('present.n.03'), Synset('show.v.01'), Synset('present.v.02'), Synset('stage.v.01'), Synset('present.v.04'), Synset('present.v.05'), Synset('award.v.01'), Synset('give.v.08'), Synset('deliver.v.01'), Synset('introduce.v.01'), Synset('portray.v.04'), Synset('confront.v.03'), Synset('present.v.12'), Synset('salute.v.06'), Synset('present.a.01'), Synset('present.a.02')]\n"
          ]
        }
      ],
      "source": [
        "import nltk\n",
        "nltk.download('wordnet')\n",
        "nltk.download('omw-1.4')\n",
        "from nltk.corpus import wordnet as wn\n",
        "\n",
        "term = 'present'\n",
        "\n",
        "# 'present'라는 단어로 wordnet의 synsets 생성. \n",
        "synsets = wn.synsets(term)\n",
        "print('synsets() 반환 type :', type(synsets))\n",
        "print('synsets() 반환 값 갯수:', len(synsets))\n",
        "print('synsets() 반환 값 :', synsets)"
      ]
    },
    {
      "cell_type": "markdown",
      "metadata": {
        "id": "zIyVhbtKkRQZ"
      },
      "source": [
        "- synset의 구성"
      ]
    },
    {
      "cell_type": "code",
      "execution_count": null,
      "metadata": {
        "ExecuteTime": {
          "end_time": "2020-09-18T02:02:45.512001Z",
          "start_time": "2020-09-18T02:02:45.497056Z"
        },
        "id": "m4uq6aUjkRQe",
        "colab": {
          "base_uri": "https://localhost:8080/"
        },
        "outputId": "b9834e1d-dfe6-4e71-da35-cfa3e3aac03e"
      },
      "outputs": [
        {
          "output_type": "stream",
          "name": "stdout",
          "text": [
            "##### Synset name :  present.n.01 #####\n",
            "POS : noun.time\n",
            "Definition: the period of time that is happening now; any continuous stretch of time including the moment of speech\n",
            "Lemmas: ['present', 'nowadays']\n",
            "##### Synset name :  present.n.02 #####\n",
            "POS : noun.possession\n",
            "Definition: something presented as a gift\n",
            "Lemmas: ['present']\n",
            "##### Synset name :  present.n.03 #####\n",
            "POS : noun.communication\n",
            "Definition: a verb tense that expresses actions or states at the time of speaking\n",
            "Lemmas: ['present', 'present_tense']\n",
            "##### Synset name :  show.v.01 #####\n",
            "POS : verb.perception\n",
            "Definition: give an exhibition of to an interested audience\n",
            "Lemmas: ['show', 'demo', 'exhibit', 'present', 'demonstrate']\n",
            "##### Synset name :  present.v.02 #####\n",
            "POS : verb.communication\n",
            "Definition: bring forward and present to the mind\n",
            "Lemmas: ['present', 'represent', 'lay_out']\n"
          ]
        }
      ],
      "source": [
        "for synset in synsets[:5] :\n",
        "    print('##### Synset name : ', synset.name(),'#####')\n",
        "    print('POS :',synset.lexname())\n",
        "    print('Definition:',synset.definition())\n",
        "    print('Lemmas:',synset.lemma_names())"
      ]
    },
    {
      "cell_type": "markdown",
      "metadata": {
        "id": "7nJcqPLckRQf"
      },
      "source": [
        "- 단어 유사도 확인 방법<br>\n",
        "path_similarity()"
      ]
    },
    {
      "cell_type": "code",
      "execution_count": null,
      "metadata": {
        "ExecuteTime": {
          "end_time": "2020-09-18T02:09:39.675320Z",
          "start_time": "2020-09-18T02:09:39.532583Z"
        },
        "id": "In-o9_U4kRQf",
        "outputId": "a03e301a-b6fb-42fd-9dcf-69f55de3e05d"
      },
      "outputs": [
        {
          "data": {
            "text/html": [
              "<div>\n",
              "<style scoped>\n",
              "    .dataframe tbody tr th:only-of-type {\n",
              "        vertical-align: middle;\n",
              "    }\n",
              "\n",
              "    .dataframe tbody tr th {\n",
              "        vertical-align: top;\n",
              "    }\n",
              "\n",
              "    .dataframe thead th {\n",
              "        text-align: right;\n",
              "    }\n",
              "</style>\n",
              "<table border=\"1\" class=\"dataframe\">\n",
              "  <thead>\n",
              "    <tr style=\"text-align: right;\">\n",
              "      <th></th>\n",
              "      <th>tree</th>\n",
              "      <th>lion</th>\n",
              "      <th>tiger</th>\n",
              "      <th>cat</th>\n",
              "      <th>dog</th>\n",
              "    </tr>\n",
              "  </thead>\n",
              "  <tbody>\n",
              "    <tr>\n",
              "      <th>tree</th>\n",
              "      <td>1.00</td>\n",
              "      <td>0.07</td>\n",
              "      <td>0.07</td>\n",
              "      <td>0.08</td>\n",
              "      <td>0.12</td>\n",
              "    </tr>\n",
              "    <tr>\n",
              "      <th>lion</th>\n",
              "      <td>0.07</td>\n",
              "      <td>1.00</td>\n",
              "      <td>0.33</td>\n",
              "      <td>0.25</td>\n",
              "      <td>0.17</td>\n",
              "    </tr>\n",
              "    <tr>\n",
              "      <th>tiger</th>\n",
              "      <td>0.07</td>\n",
              "      <td>0.33</td>\n",
              "      <td>1.00</td>\n",
              "      <td>0.25</td>\n",
              "      <td>0.17</td>\n",
              "    </tr>\n",
              "    <tr>\n",
              "      <th>cat</th>\n",
              "      <td>0.08</td>\n",
              "      <td>0.25</td>\n",
              "      <td>0.25</td>\n",
              "      <td>1.00</td>\n",
              "      <td>0.20</td>\n",
              "    </tr>\n",
              "    <tr>\n",
              "      <th>dog</th>\n",
              "      <td>0.12</td>\n",
              "      <td>0.17</td>\n",
              "      <td>0.17</td>\n",
              "      <td>0.20</td>\n",
              "      <td>1.00</td>\n",
              "    </tr>\n",
              "  </tbody>\n",
              "</table>\n",
              "</div>"
            ],
            "text/plain": [
              "       tree  lion  tiger   cat   dog\n",
              "tree   1.00  0.07   0.07  0.08  0.12\n",
              "lion   0.07  1.00   0.33  0.25  0.17\n",
              "tiger  0.07  0.33   1.00  0.25  0.17\n",
              "cat    0.08  0.25   0.25  1.00  0.20\n",
              "dog    0.12  0.17   0.17  0.20  1.00"
            ]
          },
          "execution_count": 26,
          "metadata": {},
          "output_type": "execute_result"
        }
      ],
      "source": [
        "# synset 객체를 단어별로 생성합니다. \n",
        "tree = wn.synset('tree.n.01')\n",
        "lion = wn.synset('lion.n.01')\n",
        "tiger = wn.synset('tiger.n.02')\n",
        "cat = wn.synset('cat.n.01')\n",
        "dog = wn.synset('dog.n.01')\n",
        "\n",
        "entities = [tree , lion , tiger , cat , dog]\n",
        "similarities = []\n",
        "entity_names = [ entity.name().split('.')[0] for entity in entities]\n",
        "\n",
        "# 단어별 synset 들을 iteration 하면서 다른 단어들의 synset과 유사도를 측정합니다. \n",
        "# path_similarity: 1/두단어사이의distance (1일수록 유사)\n",
        "for entity in entities:\n",
        "    similarity = [ round(entity.path_similarity(compared_entity), 2)  for compared_entity in entities ]\n",
        "    similarities.append(similarity)\n",
        "    \n",
        "# 개별 단어별 synset과 다른 단어의 synset과의 유사도를 DataFrame형태로 저장합니다.\n",
        "similarity_df = pd.DataFrame(similarities , columns=entity_names,index=entity_names)\n",
        "similarity_df"
      ]
    },
    {
      "cell_type": "markdown",
      "metadata": {
        "id": "nwsDEMr9kRQg"
      },
      "source": [
        "### 참고: SentiWordNet : WordNet과 유사하게 Senti_Synset이 있음"
      ]
    },
    {
      "cell_type": "markdown",
      "metadata": {
        "ExecuteTime": {
          "end_time": "2020-09-18T04:17:36.551797Z",
          "start_time": "2020-09-18T04:17:36.545813Z"
        },
        "id": "yg13sN43kRQg"
      },
      "source": [
        "- synset : 단어 + 품사 단위"
      ]
    },
    {
      "cell_type": "code",
      "execution_count": null,
      "metadata": {
        "ExecuteTime": {
          "end_time": "2020-09-18T02:11:18.691081Z",
          "start_time": "2020-09-18T02:11:17.138322Z"
        },
        "id": "qnC4oB5JkRQh",
        "outputId": "6d791261-8b09-421d-e225-8bb18341c4b8"
      },
      "outputs": [
        {
          "name": "stdout",
          "output_type": "stream",
          "text": [
            "senti_synsets() 반환 type : <class 'list'>\n",
            "senti_synsets() 반환 값 갯수: 11\n",
            "senti_synsets() 반환 값 : [SentiSynset('decelerate.v.01'), SentiSynset('slow.v.02'), SentiSynset('slow.v.03'), SentiSynset('slow.a.01'), SentiSynset('slow.a.02'), SentiSynset('dense.s.04'), SentiSynset('slow.a.04'), SentiSynset('boring.s.01'), SentiSynset('dull.s.08'), SentiSynset('slowly.r.01'), SentiSynset('behind.r.03')]\n"
          ]
        }
      ],
      "source": [
        "import nltk\n",
        "from nltk.corpus import sentiwordnet as swn\n",
        "\n",
        "senti_synsets = list(swn.senti_synsets('slow'))\n",
        "print('senti_synsets() 반환 type :', type(senti_synsets))\n",
        "print('senti_synsets() 반환 값 갯수:', len(senti_synsets))\n",
        "print('senti_synsets() 반환 값 :', senti_synsets)"
      ]
    },
    {
      "cell_type": "code",
      "execution_count": null,
      "metadata": {
        "id": "_ZJEpg2akRQh"
      },
      "outputs": [],
      "source": [
        ""
      ]
    },
    {
      "cell_type": "markdown",
      "metadata": {
        "id": "x36kMtoFkRQi"
      },
      "source": [
        "- SentiSynset 객체는 단어의 감성을 나타내는 감성지수와 객관성을 나타내는 객관성 지수를 가지고 있음.\n",
        "- 감성지수에는 긍정 감성 지수와 부정 감성 지수가 있음\n",
        "- 0~1이고 1일수록 강한 것"
      ]
    },
    {
      "cell_type": "code",
      "execution_count": null,
      "metadata": {
        "ExecuteTime": {
          "end_time": "2020-09-18T02:11:24.390249Z",
          "start_time": "2020-09-18T02:11:24.377296Z"
        },
        "id": "FPq8kghAkRQl",
        "outputId": "59fc186c-594d-4a6d-a091-e2f9537a8ec9"
      },
      "outputs": [
        {
          "name": "stdout",
          "output_type": "stream",
          "text": [
            "father 긍정감성 지수:  0.0\n",
            "father 부정감성 지수:  0.0\n",
            "father 객관성 지수:  1.0\n",
            "\n",
            "\n",
            "fabulous 긍정감성 지수:  0.875\n",
            "fabulous 부정감성 지수:  0.125\n"
          ]
        }
      ],
      "source": [
        "import nltk\n",
        "from nltk.corpus import sentiwordnet as swn\n",
        "\n",
        "father = swn.senti_synset('father.n.01')\n",
        "print('father 긍정감성 지수: ', father.pos_score())\n",
        "print('father 부정감성 지수: ', father.neg_score())\n",
        "print('father 객관성 지수: ', father.obj_score())\n",
        "print('\\n')\n",
        "fabulous = swn.senti_synset('fabulous.a.01')\n",
        "print('fabulous 긍정감성 지수: ',fabulous .pos_score())\n",
        "print('fabulous 부정감성 지수: ',fabulous .neg_score())"
      ]
    },
    {
      "cell_type": "markdown",
      "metadata": {
        "id": "IiSWtNESkRQl"
      },
      "source": [
        "### SentiWordNet을 이용한 감성 분석\n",
        "**순서**\n",
        "1. 문서(Document)를 문장(Sentence) 단위로 분해\n",
        "2. 문장을 단어 단위로 토큰화하고 품사 태깅\n",
        "3. 품사 태깅 단어 기반으로 synset 객체와 senti_synset 객체 생성\n",
        "4. Senti_synset에서 긍/부정 지수를 구하고, 합산해 최종 긍/부정 결정"
      ]
    },
    {
      "cell_type": "markdown",
      "metadata": {
        "id": "FjCPlM5JkRQm"
      },
      "source": [
        "#### 품사 태깅 수행 함수 생성"
      ]
    },
    {
      "cell_type": "code",
      "execution_count": null,
      "metadata": {
        "ExecuteTime": {
          "end_time": "2020-09-18T02:23:57.307752Z",
          "start_time": "2020-09-18T02:23:57.302867Z"
        },
        "id": "Z0QjfeG0kRQm"
      },
      "outputs": [],
      "source": [
        "from nltk.corpus import wordnet as wn\n",
        "\n",
        "# 간단한 NTLK PennTreebank Tag를 기반으로 WordNet기반의 품사 Tag로 변환\n",
        "def penn_to_wn(tag):\n",
        "    if tag.startswith('J'):\n",
        "        return wn.ADJ\n",
        "    elif tag.startswith('N'):\n",
        "        return wn.NOUN\n",
        "    elif tag.startswith('R'):\n",
        "        return wn.ADV\n",
        "    elif tag.startswith('V'):\n",
        "        return wn.VERB\n",
        "    return "
      ]
    },
    {
      "cell_type": "markdown",
      "metadata": {
        "id": "krlHPD7fkRQm"
      },
      "source": [
        "#### 문서 --> 문장 --> 단어토큰 --> 품사 태깅 --> SentiSynet 클래스 생성 --> Polarity Score 합산 함수 생성\n",
        "- 결과가 0 이상일 경우 긍정, 그렇지 않을 경우 부정"
      ]
    },
    {
      "cell_type": "code",
      "execution_count": null,
      "metadata": {
        "ExecuteTime": {
          "end_time": "2020-09-18T02:23:53.217214Z",
          "start_time": "2020-09-18T02:23:53.205189Z"
        },
        "id": "bUfgZ8PzkRQn"
      },
      "outputs": [],
      "source": [
        "from nltk.stem import WordNetLemmatizer\n",
        "from nltk.corpus import sentiwordnet as swn\n",
        "from nltk import sent_tokenize, word_tokenize, pos_tag\n",
        "\n",
        "def swn_polarity(text):\n",
        "    # 감성 지수 초기화 \n",
        "    sentiment = 0.0\n",
        "    tokens_count = 0\n",
        "    \n",
        "    lemmatizer = WordNetLemmatizer()\n",
        "    raw_sentences = sent_tokenize(text)\n",
        "    # 분해된 문장별로 단어 토큰 -> 품사 태깅 후에 SentiSynset 생성 -> 감성 지수 합산 \n",
        "    for raw_sentence in raw_sentences:\n",
        "        # NTLK 기반의 품사 태깅 문장 추출  \n",
        "        tagged_sentence = pos_tag(word_tokenize(raw_sentence)) # 토크나이즈 후 단어마다 품사 붙임\n",
        "        for word , tag in tagged_sentence:\n",
        "            \n",
        "            # WordNet 기반 품사 태깅과 어근 추출\n",
        "            wn_tag = penn_to_wn(tag)\n",
        "            if wn_tag not in (wn.NOUN , wn.ADJ, wn.ADV):\n",
        "                continue                   \n",
        "            lemma = lemmatizer.lemmatize(word, pos=wn_tag)\n",
        "            if not lemma:\n",
        "                continue\n",
        "            # 어근을 추출한 단어와 WordNet 기반 품사 태깅을 입력해 Synset 객체를 생성. \n",
        "            synsets = wn.synsets(lemma , pos=wn_tag)\n",
        "            if not synsets:\n",
        "                continue\n",
        "            # sentiwordnet의 감성 단어 분석으로 감성 synset 추출\n",
        "            # 모든 단어에 대해 긍정 감성 지수는 +로 부정 감성 지수는 -로 합산해 감성 지수 계산. \n",
        "            synset = synsets[0]\n",
        "            swn_synset = swn.senti_synset(synset.name())\n",
        "            sentiment += (swn_synset.pos_score() - swn_synset.neg_score())           \n",
        "            tokens_count += 1\n",
        "    \n",
        "    if not tokens_count:\n",
        "        return 0\n",
        "    \n",
        "    # 총 score가 0 이상일 경우 긍정(Positive) 1, 그렇지 않을 경우 부정(Negative) 0 반환\n",
        "    if sentiment >= 0 :\n",
        "        return 1\n",
        "    \n",
        "    return 0\n"
      ]
    },
    {
      "cell_type": "markdown",
      "metadata": {
        "id": "YrxoevdjkRQo"
      },
      "source": [
        "#### 분석할 문서를 위 함수에 담아 돌리고, y_target과 preds를 추출"
      ]
    },
    {
      "cell_type": "code",
      "execution_count": null,
      "metadata": {
        "id": "-55lqi9vkRQo"
      },
      "outputs": [],
      "source": [
        "review_df['preds'] = review_df['review'].apply( lambda x : swn_polarity(x) )\n",
        "y_target = review_df['sentiment'].values\n",
        "preds = review_df['preds'].values"
      ]
    },
    {
      "cell_type": "markdown",
      "metadata": {
        "id": "b4meAVD7kRQp"
      },
      "source": [
        "- 이후에 정확도, 정밀도, 재현율, F1, AUC 확인하면 됨"
      ]
    },
    {
      "cell_type": "code",
      "execution_count": null,
      "metadata": {
        "id": "KT5vVXZgkRQq"
      },
      "outputs": [],
      "source": [
        "from sklearn.metrics import accuracy_score, confusion_matrix, precision_score \n",
        "from sklearn.metrics import recall_score, f1_score, roc_auc_score\n",
        "\n",
        "def get_clf_eval(y_test=None, pred=None):\n",
        "    confusion = confusion_matrix( y_test, pred)\n",
        "    accuracy = accuracy_score(y_test , pred)\n",
        "    precision = precision_score(y_test , pred)\n",
        "    recall = recall_score(y_test , pred)\n",
        "    f1 = f1_score(y_test,pred)\n",
        "    # ROC-AUC 추가 \n",
        "    roc_auc = roc_auc_score(y_test, pred)\n",
        "    print('오차 행렬')\n",
        "    print(confusion)\n",
        "    # ROC-AUC print 추가\n",
        "    print('정확도: {0:.4f}, 정밀도: {1:.4f}, 재현율: {2:.4f},\\\n",
        "    F1: {3:.4f}, AUC:{4:.4f}'.format(accuracy, precision, recall, f1, roc_auc))"
      ]
    },
    {
      "cell_type": "code",
      "execution_count": null,
      "metadata": {
        "id": "kSkip2rAkRQq"
      },
      "outputs": [],
      "source": [
        "print('#### SentiWordNet 예측 성능 평가 ####')\n",
        "get_clf_eval(y_target, preds)"
      ]
    },
    {
      "cell_type": "markdown",
      "metadata": {
        "id": "o0U25vJDkRQr"
      },
      "source": [
        "### VADER를 이용한 감성 분석\n",
        "- 주로 소셜 미디어 분석에 이용"
      ]
    },
    {
      "cell_type": "markdown",
      "metadata": {
        "ExecuteTime": {
          "end_time": "2020-09-18T04:35:28.525330Z",
          "start_time": "2020-09-18T04:35:28.519339Z"
        },
        "id": "sQD-bjlMkRQr"
      },
      "source": [
        "- compound score를 기준으로 보통 0.1 이상이면 긍정 감성, 이하면 부정 감성으로 판단한다\n",
        "- 상황에 따라 약간 조정 가능"
      ]
    },
    {
      "cell_type": "code",
      "execution_count": null,
      "metadata": {
        "ExecuteTime": {
          "end_time": "2020-09-18T04:33:37.840298Z",
          "start_time": "2020-09-18T04:33:37.769488Z"
        },
        "id": "lkUJkHjvkRQr",
        "outputId": "4e1b0884-2b10-454d-fcea-4b4b29dc3cd5"
      },
      "outputs": [
        {
          "name": "stdout",
          "output_type": "stream",
          "text": [
            "{'neg': 0.13, 'neu': 0.743, 'pos': 0.127, 'compound': -0.7943}\n"
          ]
        }
      ],
      "source": [
        "# vader 설명 출처 https://kopio.tistory.com/8\n",
        "from nltk.sentiment.vader import SentimentIntensityAnalyzer\n",
        "\n",
        "# nltk.download('vader_lexicon')\n",
        "senti_analyzer = SentimentIntensityAnalyzer()                         # Vader 사전 가져오기\n",
        "senti_scores = senti_analyzer.polarity_scores(review_df['review'][0]) # 문장의 감정 표현하기\n",
        "print(senti_scores)                                                   # 긍정, 중립, 부정, 복합 점수 dict로 출력"
      ]
    },
    {
      "cell_type": "code",
      "execution_count": null,
      "metadata": {
        "id": "8hdxikOGkRQs"
      },
      "outputs": [],
      "source": [
        "def vader_polarity(review,threshold=0.1):\n",
        "    analyzer = SentimentIntensityAnalyzer()\n",
        "    scores = analyzer.polarity_scores(review)\n",
        "    \n",
        "    # compound 값에 기반하여 threshold 입력값보다 크면 1, 그렇지 않으면 0을 반환 \n",
        "    agg_score = scores['compound']\n",
        "    final_sentiment = 1 if agg_score >= threshold else 0\n",
        "    return final_sentiment\n",
        "\n",
        "# apply lambda 식을 이용하여 레코드별로 vader_polarity( )를 수행하고 결과를 'vader_preds'에 저장\n",
        "review_df['vader_preds'] = review_df['review'].apply( lambda x : vader_polarity(x, 0.1) )\n",
        "y_target = review_df['sentiment'].values\n",
        "vader_preds = review_df['vader_preds'].values"
      ]
    },
    {
      "cell_type": "code",
      "execution_count": null,
      "metadata": {
        "id": "FjRkPPC7kRQt"
      },
      "outputs": [],
      "source": [
        "print('#### VADER 예측 성능 평가 ####')\n",
        "get_clf_eval(y_target, vader_preds)"
      ]
    },
    {
      "cell_type": "markdown",
      "metadata": {
        "ExecuteTime": {
          "end_time": "2020-09-18T06:31:54.517360Z",
          "start_time": "2020-09-18T06:31:54.460519Z"
        },
        "id": "iF5zRn3UkRQu"
      },
      "source": [
        "## 토픽 모델링 = 토픽 뽑아내기 (생성적 확률 모델)\n",
        "- 단어 > 토픽 > 문서 > 말뭉치 (3층 위계적 베이지안 모델)\n",
        "- 문서를 보고 토픽을 추론. 문서에 한 개 이상의 토픽이 포함될 수 있음\n",
        "- LSA(Latent Semantic Analysis)와 LDA(latent Dirichlet Allocation) 기법이 있음\n",
        "- 여기서는 LDA만 다룸\n",
        "- LDA\n",
        "  - 문서와 같은 데이터의 집합에 대한 Generative Probabilistic Model\n",
        "  - 주어진 문서에 잠재된 토픽과 토픽에 해당되는 단어들을 뽑아내는 방법\n",
        "  - 기능: 원하는 문서에서 원하는 토픽의 개수 k만큼 문서 분류 가능, 가중치 있는 토픽 단어 추출 가능\n",
        "  1. Choose N ~ Poisson($ξ$): N은 문서의 길이. 포아송 분포에서 추출\n",
        "  2. Choose $θ$ ~ Dir($α$) : 코푸스에서 공통적으로 쓰는 $α$(사용자가 지정)에서 Dirichlet 분포를 이용해서 주제분포 $θ$ 추출\n",
        "    - $α$: 50/k 또는 임의의 값. 값이 작을수록 소수의 토픽을 강하게 나타내고 클수록 토픽을 두리뭉실하게 나타냄\n",
        "  3. For each of the N words $w_n$:\n",
        "    - (a) Choose a topic $z_n$ ~ Multinomial($θ$). : 주제분포 $θ$에서 주제 선정\n",
        "      - $θ$: 해당 문서에서 각 주제의 가중치 (합하면 1)\n",
        "    - (b) Choose a word $w_n$ from $p(w_n|z_n, \\beta)$, a multinomial probablity conditioned on the topic $z_n$.\n",
        "      - : 확률 베타를 이용해 z를 조건으로 단어 생성하고 생성된 단어를 모아 문서 생성\n",
        "\n",
        "  - $z_k=∑^n_{i=1}β_{ik}*W_i$\n",
        "    - $β_{ik}$: 관측단어($W_i$)가 특정 주제($z_k$)를 반영할 확률\n",
        "    - $z_{ik}: i번째 문서에 해당하는 주제 k를 가리키는 원핫벡터\n",
        "      - 주제의 개수는 k로 고정되어 있고(k는 정해줘야 함), $θ$, $z_{ik}$는 길이가 k인 벡터\n",
        "    - $p(w_{ik}|z_{ik}, \\beta_{ik})*p(z_{ik}|θ)$: 어떤 문서에서 어떤 토픽 k가 어떤 단어 w로 나타날 확률"
      ]
    },
    {
      "cell_type": "markdown",
      "metadata": {
        "id": "6qJgJfxMkRQu"
      },
      "source": [
        "- 사이킷런은 LDA 토픽 모델링을 LatentDirichletAllocation 클래스로 제공함\n",
        "- LDA는 Count기반 벡터화만 사용함\n",
        "- max_features=1000으로 word 피처 수 제한\n",
        "- ngram_range=(1,2)"
      ]
    },
    {
      "cell_type": "markdown",
      "source": [
        "### 실습1"
      ],
      "metadata": {
        "id": "NyVnIjjGc_WT"
      }
    },
    {
      "cell_type": "code",
      "source": [
        "!git clone https://github.com/joyfulspace/ADP.git"
      ],
      "metadata": {
        "id": "kcu2o9akdioN",
        "outputId": "b47b0c3c-64f2-4b3b-fee7-e93988a35880",
        "colab": {
          "base_uri": "https://localhost:8080/"
        }
      },
      "execution_count": null,
      "outputs": [
        {
          "output_type": "stream",
          "name": "stdout",
          "text": [
            "Cloning into 'ADP'...\n",
            "remote: Enumerating objects: 2478, done.\u001b[K\n",
            "remote: Counting objects: 100% (2171/2171), done.\u001b[K\n",
            "remote: Compressing objects: 100% (2165/2165), done.\u001b[K\n",
            "remote: Total 2478 (delta 18), reused 2136 (delta 4), pack-reused 307\u001b[K\n",
            "Receiving objects: 100% (2478/2478), 55.93 MiB | 16.24 MiB/s, done.\n",
            "Resolving deltas: 100% (140/140), done.\n",
            "Checking out files: 100% (2397/2397), done.\n"
          ]
        }
      ]
    },
    {
      "cell_type": "code",
      "source": [
        "import pandas as pd\n",
        "from urllib.parse import quote_plus\n",
        "import nltk\n",
        "import re\n",
        "import glob\n",
        "\n",
        "articles_all = []\n",
        "cat_list = glob.glob('ADP/data/bbc/*') # 영자신문 카테고리별로 신문 읽어오기\n",
        "\n",
        "# 여러가지 주제의 뉴스기사 읽어오기\n",
        "for folder in cat_list:\n",
        "  print(folder)\n",
        "\n",
        "  file_list = glob.glob(folder + '/*.txt') # 카테고리마다 저장된 txt파일 읽어오기\n",
        "  for fn in file_list:\n",
        "    fn_contents = open(fn, 'r')\n",
        "    article = fn_contents.read()\n",
        "    fn_contents.close()\n",
        "    articles_all.append(article)"
      ],
      "metadata": {
        "id": "be8Ucn9cc-0C",
        "outputId": "f62cc8e2-50b1-4526-8be4-24e13431d256",
        "colab": {
          "base_uri": "https://localhost:8080/"
        }
      },
      "execution_count": null,
      "outputs": [
        {
          "output_type": "stream",
          "name": "stdout",
          "text": [
            "ADP/data/bbc/entertainment\n",
            "ADP/data/bbc/politics\n",
            "ADP/data/bbc/business\n",
            "ADP/data/bbc/tech\n",
            "ADP/data/bbc/sport\n"
          ]
        }
      ]
    },
    {
      "cell_type": "code",
      "source": [
        "len(articles_all)"
      ],
      "metadata": {
        "id": "JUogYpSBdbRc",
        "outputId": "96b2818f-f601-4316-8636-f1808945150b",
        "colab": {
          "base_uri": "https://localhost:8080/"
        }
      },
      "execution_count": null,
      "outputs": [
        {
          "output_type": "execute_result",
          "data": {
            "text/plain": [
              "2224"
            ]
          },
          "metadata": {},
          "execution_count": 5
        }
      ]
    },
    {
      "cell_type": "code",
      "source": [
        "from sklearn.feature_extraction.text import TfidfVectorizer, CountVectorizer\n",
        "from sklearn.datasets import fetch_20newsgroups\n",
        "from sklearn.decomposition import NMF, LatentDirichletAllocation\n",
        "\n",
        "def display_topics(model, feature_names, no_top_words):\n",
        "  for topic_idx, topic in enumerate(model.components_):\n",
        "    print('Topic %d:' % (topic_idx))\n",
        "    print(\" \".join([feature_names[i] for i in topic.argsort()[:-no_top_words - 1: -1]]))\n",
        "\n",
        "# 2글자 이상의 명사만 추출\n",
        "def get_noun(text):\n",
        "  text = re.sub('[^A-Za-z ]+', '', text)\n",
        "  texts = nltk.word_tokenize(text)\n",
        "  return ([x for (x,y) in (nltk.pos_tag(texts)) if (y=='NNP' or y=='NN') and len(x)>1])  # pos_tag: 형태소 분석\n",
        "\n",
        "documents = articles_all"
      ],
      "metadata": {
        "id": "B5YPklkDdc3s"
      },
      "execution_count": null,
      "outputs": []
    },
    {
      "cell_type": "code",
      "source": [
        "import nltk\n",
        "nltk.download('punkt')\n",
        "nltk.download('averaged_perceptron_tagger')\n",
        "\n",
        "no_features = 1000 # 피처 개수\n",
        "from sklearn.feature_extraction import text\n",
        "my_stop_words = text.ENGLISH_STOP_WORDS  # 어느 문서에나 있는 중요하지 않은 단어. a, abount 등\n",
        "\n",
        "# NMF is able to use tf-idf\n",
        "tfidf_vectorizer = TfidfVectorizer(tokenizer=get_noun, max_df=0.95, min_df=2, max_features=no_features, stop_words=my_stop_words)\n",
        "tfidf = tfidf_vectorizer.fit_transform(documents)\n",
        "tfidf_feature_names = tfidf_vectorizer.get_feature_names()"
      ],
      "metadata": {
        "id": "TZ-ZNGbBejjO",
        "outputId": "05929ea8-41b5-4b36-921c-3fe92d3d29ae",
        "colab": {
          "base_uri": "https://localhost:8080/"
        }
      },
      "execution_count": null,
      "outputs": [
        {
          "output_type": "stream",
          "name": "stderr",
          "text": [
            "[nltk_data] Downloading package punkt to /root/nltk_data...\n",
            "[nltk_data]   Package punkt is already up-to-date!\n",
            "[nltk_data] Downloading package averaged_perceptron_tagger to\n",
            "[nltk_data]     /root/nltk_data...\n",
            "[nltk_data]   Unzipping taggers/averaged_perceptron_tagger.zip.\n",
            "/usr/local/lib/python3.7/dist-packages/sklearn/utils/deprecation.py:87: FutureWarning: Function get_feature_names is deprecated; get_feature_names is deprecated in 1.0 and will be removed in 1.2. Please use get_feature_names_out instead.\n",
            "  warnings.warn(msg, category=FutureWarning)\n"
          ]
        }
      ]
    },
    {
      "cell_type": "code",
      "source": [
        "len(tfidf_feature_names)"
      ],
      "metadata": {
        "id": "I6d3zbBpgHmI",
        "outputId": "0ff66d73-e968-46bb-8daf-591c64b1b565",
        "colab": {
          "base_uri": "https://localhost:8080/"
        }
      },
      "execution_count": null,
      "outputs": [
        {
          "output_type": "execute_result",
          "data": {
            "text/plain": [
              "1000"
            ]
          },
          "metadata": {},
          "execution_count": 13
        }
      ]
    },
    {
      "cell_type": "code",
      "source": [
        "# LDA can only use raw term counts for LDA because it is a probabilistic graphical model\n",
        "# LDA에서는 CountVectorizer 써야함 (NMF에서는 tfidf 사용)\n",
        "tf_vectorizer = CountVectorizer(tokenizer=get_noun, min_df=2, max_df=0.95, max_features=no_features, stop_words=my_stop_words)\n",
        "tf = tf_vectorizer.fit_transform(documents)\n",
        "tf_feature_names = tf_vectorizer.get_feature_names()"
      ],
      "metadata": {
        "id": "78kEDi3RfZdy",
        "outputId": "f06ec0e7-a933-4224-b9d6-7e990473ea6c",
        "colab": {
          "base_uri": "https://localhost:8080/"
        }
      },
      "execution_count": null,
      "outputs": [
        {
          "output_type": "stream",
          "name": "stderr",
          "text": [
            "/usr/local/lib/python3.7/dist-packages/sklearn/utils/deprecation.py:87: FutureWarning: Function get_feature_names is deprecated; get_feature_names is deprecated in 1.0 and will be removed in 1.2. Please use get_feature_names_out instead.\n",
            "  warnings.warn(msg, category=FutureWarning)\n"
          ]
        }
      ]
    },
    {
      "cell_type": "code",
      "source": [
        "len(tf_feature_names)"
      ],
      "metadata": {
        "id": "a0JBaeJxgB0C",
        "outputId": "012515f0-8d4f-4589-ea59-d1a19140cb4d",
        "colab": {
          "base_uri": "https://localhost:8080/"
        }
      },
      "execution_count": null,
      "outputs": [
        {
          "output_type": "execute_result",
          "data": {
            "text/plain": [
              "1000"
            ]
          },
          "metadata": {},
          "execution_count": 12
        }
      ]
    },
    {
      "cell_type": "code",
      "source": [
        "LatentDirichletAllocation??"
      ],
      "metadata": {
        "id": "btPxY8M1hMb_"
      },
      "execution_count": null,
      "outputs": []
    },
    {
      "cell_type": "code",
      "source": [
        "no_topics = 5 # 주제 개수 관련 알고리즘은 아직 없음\n",
        "\n",
        "# Run NMF\n",
        "nmf = NMF(n_components=no_topics, random_state=1, alpha=.1, l1_ratio=.5, init='nndsvd').fit(tfidf)\n",
        "\n",
        "# Run LDA\n",
        "lda = LatentDirichletAllocation(n_components =no_topics, random_state=0, max_iter=5, learning_method='online', learning_offset=50).fit(tf)\n",
        "\n",
        "no_top_words = 30\n",
        "print('NMF', '----------------------------')  # 주제 5개에 대해 상위 30개 단어 나옴\n",
        "display_topics(nmf, tfidf_feature_names, no_top_words)\n",
        "print('LDA', '----------------------------')\n",
        "display_topics(lda, tf_feature_names, no_top_words)"
      ],
      "metadata": {
        "id": "gHWAqG8uehq6",
        "outputId": "bff84060-2f1f-43ef-e59e-4892c5909ae2",
        "colab": {
          "base_uri": "https://localhost:8080/"
        }
      },
      "execution_count": null,
      "outputs": [
        {
          "output_type": "stream",
          "name": "stderr",
          "text": [
            "/usr/local/lib/python3.7/dist-packages/sklearn/decomposition/_nmf.py:1425: FutureWarning: `alpha` was deprecated in version 1.0 and will be removed in 1.2. Use `alpha_W` and `alpha_H` instead\n",
            "  FutureWarning,\n"
          ]
        },
        {
          "output_type": "stream",
          "name": "stdout",
          "text": [
            "NMF ----------------------------\n",
            "Topic 0:\n",
            "blair election mr party government labour minister tax howard chancellor leader brown campaign secretary britain kennedy tory cabinet country lord immigration issue budget spokesman home council war education law lib\n",
            "Topic 1:\n",
            "game cup england world team match injury time season club coach ireland france victory win rugby player chelsea manager champion football title scotland yearold goal squad chance robinson ball year\n",
            "Topic 2:\n",
            "film award actor director actress oscar movie comedy festival aviator star role hollywood office drama story ceremony box cinema prize tv category life book academy dollar baby year number career\n",
            "Topic 3:\n",
            "growth bn economy year bank market oil company firm quarter rate government dollar demand rise stock business deal spending investment december trade month president consumer price profit debt group china\n",
            "Topic 4:\n",
            "music technology phone software tv service video broadband computer information access security industry number year content network internet research radio way band firm pc market apple home company time search\n",
            "LDA ----------------------------\n",
            "Topic 0:\n",
            "music film tv technology year number video time world game computer director industry way radio award star apple version content life home actor software movie pc song band service sony\n",
            "Topic 1:\n",
            "game world time club england team cup year match injury season victory player way ireland coach champion number rugby lot france football win chance race manager sport ball home yearold\n",
            "Topic 2:\n",
            "mr government election blair minister party security home law labour secretary leader spokesman campaign time howard way chancellor issue country court software case brown service information decision britain year police\n",
            "Topic 3:\n",
            "year market growth bn firm economy company phone tax mr bank business report research government rate broadband news world money time consumer spending rise month quarter industry group price share\n",
            "Topic 4:\n",
            "oil bn company firm yukos bid bankruptcy court deutsche lord deal offer sale gas mr takeover fraud auction week unit office bank russia boerse group protection giant case yugansk executive\n"
          ]
        }
      ]
    },
    {
      "cell_type": "markdown",
      "metadata": {
        "ExecuteTime": {
          "end_time": "2020-09-18T04:49:30.472395Z",
          "start_time": "2020-09-18T04:49:30.466437Z"
        },
        "id": "3MUVsr44kRQv"
      },
      "source": [
        "### 실습2\n",
        "- 데이터 가져오기\n",
        "- 주제를 8개만 가져옴"
      ]
    },
    {
      "cell_type": "code",
      "execution_count": null,
      "metadata": {
        "ExecuteTime": {
          "end_time": "2020-09-18T04:51:52.004212Z",
          "start_time": "2020-09-18T04:51:48.985338Z"
        },
        "id": "s4r8stUTkRQv"
      },
      "outputs": [],
      "source": [
        "from sklearn.datasets import fetch_20newsgroups\n",
        "# 모토사이클, 야구, 그래픽스, 윈도우즈, 중동, 기독교, 의학, 우주 주제를 추출. \n",
        "cats = ['rec.motorcycles', 'rec.sport.baseball', 'comp.graphics', 'comp.windows.x',\n",
        "        'talk.politics.mideast', 'soc.religion.christian', 'sci.electronics', 'sci.med'  ]\n",
        "\n",
        "# 위에서 cats 변수로 기재된 category만 추출. featch_20newsgroups( )의 categories에 cats 입력\n",
        "news_df= fetch_20newsgroups(subset='all',remove=('headers', 'footers', 'quotes'), \n",
        "                            categories=cats, random_state=0)"
      ]
    },
    {
      "cell_type": "markdown",
      "metadata": {
        "id": "wC_O0L3-kRQw"
      },
      "source": [
        "- Count Vectorizer"
      ]
    },
    {
      "cell_type": "code",
      "execution_count": null,
      "metadata": {
        "ExecuteTime": {
          "end_time": "2020-09-18T06:11:02.031130Z",
          "start_time": "2020-09-18T06:11:02.023185Z"
        },
        "id": "6ncb29NqkRQw",
        "outputId": "a2bafe92-5f8e-4f63-dc19-cd5e65c8a3fe"
      },
      "outputs": [
        {
          "name": "stdout",
          "output_type": "stream",
          "text": [
            "CountVectorizer Shape: (7862, 1000)\n"
          ]
        }
      ],
      "source": [
        "from sklearn.feature_extraction.text import CountVectorizer\n",
        "from sklearn.decomposition import LatentDirichletAllocation\n",
        "#LDA 는 Count기반의 Vectorizer만 적용합니다.  \n",
        "count_vect = CountVectorizer(max_df=0.95, max_features=1000, min_df=2, stop_words='english', ngram_range=(1,2))\n",
        "feat_vect = count_vect.fit_transform(news_df.data)\n",
        "print('CountVectorizer Shape:', feat_vect.shape) # 7862개의 문서가 1000개의 피처로 구성된 벡터화된 데이터셋"
      ]
    },
    {
      "cell_type": "markdown",
      "metadata": {
        "id": "YYklDBDxkRQx"
      },
      "source": [
        "- LDA 수행"
      ]
    },
    {
      "cell_type": "code",
      "execution_count": null,
      "metadata": {
        "ExecuteTime": {
          "end_time": "2020-09-18T06:12:49.620411Z",
          "start_time": "2020-09-18T06:12:49.612460Z"
        },
        "id": "TWwb-39bkRQx",
        "outputId": "4b4ca3e3-1a51-4852-e483-95229f4ca26b"
      },
      "outputs": [
        {
          "data": {
            "text/plain": [
              "LatentDirichletAllocation(batch_size=128, doc_topic_prior=None,\n",
              "                          evaluate_every=-1, learning_decay=0.7,\n",
              "                          learning_method='batch', learning_offset=10.0,\n",
              "                          max_doc_update_iter=100, max_iter=10,\n",
              "                          mean_change_tol=0.001, n_components=8, n_jobs=None,\n",
              "                          perp_tol=0.1, random_state=0, topic_word_prior=None,\n",
              "                          total_samples=1000000.0, verbose=0)"
            ]
          },
          "execution_count": 37,
          "metadata": {},
          "output_type": "execute_result"
        }
      ],
      "source": [
        "# LDA 수행 : n_components는 주제의 개수\n",
        "lda = LatentDirichletAllocation(n_components=8, random_state=0)\n",
        "lda.fit(feat_vect) # input은 count 벡터화 한 것"
      ]
    },
    {
      "cell_type": "code",
      "execution_count": null,
      "metadata": {
        "ExecuteTime": {
          "end_time": "2020-09-18T04:54:37.246407Z",
          "start_time": "2020-09-18T04:54:37.240423Z"
        },
        "id": "v4dBt_x0kRQy",
        "outputId": "5ac4c794-5d9f-4d7a-bc5a-3fd3c240e000"
      },
      "outputs": [
        {
          "name": "stdout",
          "output_type": "stream",
          "text": [
            "(8, 1000)\n"
          ]
        },
        {
          "data": {
            "text/plain": [
              "array([[3.60992018e+01, 1.35626798e+02, 2.15751867e+01, ...,\n",
              "        3.02911688e+01, 8.66830093e+01, 6.79285199e+01],\n",
              "       [1.25199920e-01, 1.44401815e+01, 1.25045596e-01, ...,\n",
              "        1.81506995e+02, 1.25097844e-01, 9.39593286e+01],\n",
              "       [3.34762663e+02, 1.25176265e-01, 1.46743299e+02, ...,\n",
              "        1.25105772e-01, 3.63689741e+01, 1.25025218e-01],\n",
              "       ...,\n",
              "       [3.60204965e+01, 2.08640688e+01, 4.29606813e+00, ...,\n",
              "        1.45056650e+01, 8.33854413e+00, 1.55690009e+01],\n",
              "       [1.25128711e-01, 1.25247756e-01, 1.25005143e-01, ...,\n",
              "        9.17278769e+01, 1.25177668e-01, 3.74575887e+01],\n",
              "       [5.49258690e+01, 4.47009532e+00, 9.88524814e+00, ...,\n",
              "        4.87048440e+01, 1.25034678e-01, 1.25074632e-01]])"
            ]
          },
          "execution_count": 38,
          "metadata": {},
          "output_type": "execute_result"
        }
      ],
      "source": [
        "print(lda.components_.shape)\n",
        "lda.components_ # 8개 토픽 별로 1000개의 word피처(위에서 Count벡터화 한 피처)별 연관도 값\n"
      ]
    },
    {
      "cell_type": "code",
      "execution_count": null,
      "metadata": {
        "ExecuteTime": {
          "end_time": "2020-09-18T05:18:05.420104Z",
          "start_time": "2020-09-18T05:18:05.407165Z"
        },
        "id": "QobueB1zkRQy",
        "outputId": "ed607477-55b7-4027-d0f8-bc92a7c6339c"
      },
      "outputs": [
        {
          "name": "stdout",
          "output_type": "stream",
          "text": [
            "Topic # 0\n",
            "year 10 game medical health team 12 20 disease cancer 1993 games years patients good\n",
            "Topic # 1\n",
            "don just like know people said think time ve didn right going say ll way\n",
            "Topic # 2\n",
            "image file jpeg program gif images output format files color entry 00 use bit 03\n",
            "Topic # 3\n",
            "like know don think use does just good time book read information people used post\n",
            "Topic # 4\n",
            "armenian israel armenians jews turkish people israeli jewish government war dos dos turkey arab armenia 000\n",
            "Topic # 5\n",
            "edu com available graphics ftp data pub motif mail widget software mit information version sun\n",
            "Topic # 6\n",
            "god people jesus church believe christ does christian say think christians bible faith sin life\n",
            "Topic # 7\n",
            "use dos thanks windows using window does display help like problem server need know run\n"
          ]
        }
      ],
      "source": [
        "def display_topics(model, feature_names, no_top_words):\n",
        "    for topic_index, topic in enumerate(model.components_):\n",
        "        print('Topic #',topic_index)\n",
        "\n",
        "        # components_ array에서 가장 값이 큰 순으로 정렬했을 때, 그 값의 array index를 반환. \n",
        "        topic_word_indexes = topic.argsort()[::-1]\n",
        "        top_indexes=topic_word_indexes[:no_top_words]\n",
        "        \n",
        "        # top_indexes대상인 index별로 feature_names에 해당하는 word feature 추출 후 join으로 concat\n",
        "        feature_concat = ' '.join([feature_names[i] for i in top_indexes])                \n",
        "        print(feature_concat)\n",
        "\n",
        "# CountVectorizer객체내의 전체 word들의 명칭을 get_features_names( )를 통해 추출\n",
        "feature_names = count_vect.get_feature_names()\n",
        "\n",
        "# Topic별 가장 연관도가 높은 word를 15개만 추출\n",
        "display_topics(lda, feature_names, 15)\n"
      ]
    },
    {
      "cell_type": "markdown",
      "metadata": {
        "id": "DR2EOU6JkRQy"
      },
      "source": [
        "# 문서 군집화 : 비슷한 텍스트 구성의 문서를 군집화하는 것\n",
        "- 텍스트 분류 기반의 문서 분류는 train data에 카테고리가 정해져 있는 지도학습인 반면, 문서 군집화는 비지도학습"
      ]
    },
    {
      "cell_type": "markdown",
      "metadata": {
        "id": "y4P4UYNokRQz"
      },
      "source": [
        "## 여러개의 파일(문서)을 하나의 Dataframe으로 만들기\n",
        "- filename과 txt로 구성된 df로 만들기"
      ]
    },
    {
      "cell_type": "code",
      "execution_count": null,
      "metadata": {
        "id": "hnw2yynkkRQz"
      },
      "outputs": [],
      "source": [
        "# 이건 참고용\n",
        "# filename과 txt 두 개 컬럼으로 구성된 dataframe을 만들면 됨\n",
        "\n",
        "import pandas as pd\n",
        "import glob ,os\n",
        "\n",
        "# 파일들이 있는 경로 \n",
        "path = r'C:\\Users\\chkwon\\Text\\OpinosisDataset1.0\\OpinosisDataset1.0\\topics'                     \n",
        "# path로 지정한 디렉토리 밑에 있는 모든 .data 파일들의 파일명을 리스트로 취합\n",
        "all_files = glob.glob(os.path.join(path, \"*.data\"))    \n",
        "filename_list = []\n",
        "opinion_text = []\n",
        "\n",
        "# 개별 파일들의 파일명은 filename_list 리스트로 취합, \n",
        "# 개별 파일들의 파일내용은 DataFrame로딩 후 다시 string으로 변환하여 opinion_text 리스트로 취합 \n",
        "for file_ in all_files:\n",
        "    # 개별 파일을 읽어서 DataFrame으로 생성 \n",
        "    df = pd.read_table(file_,index_col=None, header=0,encoding='latin1')\n",
        "    \n",
        "    # 절대경로로 주어진 file 명을 가공. 만일 Linux에서 수행시에는 아래 \\\\를 / 변경. 맨 마지막 .data 확장자도 제거\n",
        "    filename_ = file_.split('\\\\')[-1]\n",
        "    filename = filename_.split('.')[0]\n",
        "\n",
        "    #파일명 리스트와 파일내용 리스트에 파일명과 파일 내용을 추가. \n",
        "    filename_list.append(filename)\n",
        "    opinion_text.append(df.to_string())\n",
        "\n",
        "# 파일명 리스트와 파일내용 리스트를  DataFrame으로 생성\n",
        "document_df = pd.DataFrame({'filename':filename_list, 'opinion_text':opinion_text})\n",
        "document_df.head()"
      ]
    },
    {
      "cell_type": "markdown",
      "metadata": {
        "id": "OO1hwUWvkRQ0"
      },
      "source": [
        "## TF-IDF 벡터화\n",
        "- tokenizer = LemNormalize()\n",
        "- ngram_range=(1,2)\n",
        "- min_df, max_df로 피처 개수 설정"
      ]
    },
    {
      "cell_type": "code",
      "execution_count": null,
      "metadata": {
        "id": "HS44GLYMkRQ0"
      },
      "outputs": [],
      "source": [
        "from sklearn.feature_extraction.text import TfidfVectorizer\n",
        "from nltk.stem import WordNetLemmatizer\n",
        "import nltk\n",
        "import string\n",
        "\n",
        "remove_punct_dict = dict((ord(punct), None) for punct in string.punctuation)\n",
        "lemmar = WordNetLemmatizer()\n",
        "\n",
        "def LemTokens(tokens):\n",
        "    return [lemmar.lemmatize(token) for token in tokens]\n",
        "\n",
        "def LemNormalize(text):\n",
        "    return LemTokens(nltk.word_tokenize(text.lower().translate(remove_punct_dict)))\n",
        "\n",
        "tfidf_vect = TfidfVectorizer(tokenizer=LemNormalize, stop_words='english' , \\\n",
        "                             ngram_range=(1,2), min_df=0.05, max_df=0.85 )\n",
        "\n",
        "#opinion_text 컬럼값으로 feature vectorization 수행\n",
        "feature_vect = tfidf_vect.fit_transform(document_df['opinion_text'])\n"
      ]
    },
    {
      "cell_type": "markdown",
      "metadata": {
        "ExecuteTime": {
          "end_time": "2020-09-18T04:33:37.840298Z",
          "start_time": "2020-09-18T04:33:37.769488Z"
        },
        "id": "meXkrbAwkRQ1"
      },
      "source": [
        "## 군집화 시행(KMeans)"
      ]
    },
    {
      "cell_type": "code",
      "execution_count": null,
      "metadata": {
        "ExecuteTime": {
          "end_time": "2020-09-18T06:31:54.517360Z",
          "start_time": "2020-09-18T06:31:54.460519Z"
        },
        "id": "Pr7y3WpMkRQ1"
      },
      "outputs": [],
      "source": [
        "from sklearn.cluster import KMeans\n",
        "\n",
        "# 5개 집합으로 군집화 수행. 예제를 위해 동일한 클러스터링 결과 도출용 random_state=0 \n",
        "km_cluster = KMeans(n_clusters=5, max_iter=10000, random_state=0)\n",
        "km_cluster.fit(feature_vect)\n",
        "cluster_label = km_cluster.labels_\n",
        "cluster_centers = km_cluster.cluster_centers_"
      ]
    },
    {
      "cell_type": "markdown",
      "metadata": {
        "ExecuteTime": {
          "end_time": "2020-09-18T06:11:02.031130Z",
          "start_time": "2020-09-18T06:11:02.023185Z"
        },
        "id": "jrUk0fwykRQ2"
      },
      "source": [
        "- 결과 합치기"
      ]
    },
    {
      "cell_type": "code",
      "execution_count": null,
      "metadata": {
        "ExecuteTime": {
          "end_time": "2020-09-18T06:12:49.620411Z",
          "start_time": "2020-09-18T06:12:49.612460Z"
        },
        "id": "6MobTk7UkRRD"
      },
      "outputs": [],
      "source": [
        "document_df['cluster_label'] = cluster_label\n",
        "document_df.head()"
      ]
    },
    {
      "cell_type": "markdown",
      "metadata": {
        "id": "VUdABO2VkRRE"
      },
      "source": [
        "- cluster_label별로 어떤 filename이 있는지 보고 주제를 파악"
      ]
    },
    {
      "cell_type": "code",
      "execution_count": null,
      "metadata": {
        "ExecuteTime": {
          "end_time": "2020-09-18T04:54:37.246407Z",
          "start_time": "2020-09-18T04:54:37.240423Z"
        },
        "id": "Lhwq1boXkRRE"
      },
      "outputs": [],
      "source": [
        "document_df[document_df['cluster_label']==0].sort_values(by='filename')\n",
        "document_df[document_df['cluster_label']==1].sort_values(by='filename')\n",
        "document_df[document_df['cluster_label']==2].sort_values(by='filename')"
      ]
    },
    {
      "cell_type": "markdown",
      "metadata": {
        "id": "FfvKMySTkRRF"
      },
      "source": [
        "- 너무 세분화 되어있는 것 같으면 KMeans n_clusters를 3정도로 줄여서 다시 시행"
      ]
    },
    {
      "cell_type": "markdown",
      "metadata": {
        "ExecuteTime": {
          "end_time": "2020-09-18T05:18:05.420104Z",
          "start_time": "2020-09-18T05:18:05.407165Z"
        },
        "id": "fOlZ1jL-kRRF"
      },
      "source": [
        "## 군집별 핵심 단어 추출"
      ]
    },
    {
      "cell_type": "code",
      "execution_count": null,
      "metadata": {
        "id": "-4s0ypigkRRF"
      },
      "outputs": [],
      "source": [
        "# 군집별 top n 핵심단어, 그 단어의 중심 위치 상대값, 대상 파일명들을 반환함. \n",
        "def get_cluster_details(cluster_model, cluster_data, feature_names, clusters_num, top_n_features=10):\n",
        "    cluster_details = {}\n",
        "    \n",
        "    # cluster_centers array 의 값이 큰 순으로 정렬된 index 값을 반환\n",
        "    # 군집 중심점(centroid)별 할당된 word 피처들의 거리값이 큰 순으로 값을 구하기 위함.  \n",
        "    centroid_feature_ordered_ind = cluster_model.cluster_centers_.argsort()[:,::-1]\n",
        "    \n",
        "    #개별 군집별로 iteration하면서 핵심단어, 그 단어의 중심 위치 상대값, 대상 파일명 입력\n",
        "    for cluster_num in range(clusters_num):\n",
        "        # 개별 군집별 정보를 담을 데이터 초기화. \n",
        "        cluster_details[cluster_num] = {}\n",
        "        cluster_details[cluster_num]['cluster'] = cluster_num\n",
        "        \n",
        "        # cluster_centers_.argsort()[:,::-1] 로 구한 index 를 이용하여 top n 피처 단어를 구함. \n",
        "        top_feature_indexes = centroid_feature_ordered_ind[cluster_num, :top_n_features]\n",
        "        top_features = [ feature_names[ind] for ind in top_feature_indexes ]\n",
        "        \n",
        "        # top_feature_indexes를 이용해 해당 피처 단어의 중심 위치 상댓값 구함 \n",
        "        top_feature_values = cluster_model.cluster_centers_[cluster_num, top_feature_indexes].tolist()\n",
        "        \n",
        "        # cluster_details 딕셔너리 객체에 개별 군집별 핵심 단어와 중심위치 상대값, 그리고 해당 파일명 입력\n",
        "        cluster_details[cluster_num]['top_features'] = top_features\n",
        "        cluster_details[cluster_num]['top_features_value'] = top_feature_values\n",
        "        filenames = cluster_data[cluster_data['cluster_label'] == cluster_num]['filename']\n",
        "        filenames = filenames.values.tolist()\n",
        "        cluster_details[cluster_num]['filenames'] = filenames\n",
        "        \n",
        "    return cluster_details\n"
      ]
    },
    {
      "cell_type": "code",
      "execution_count": null,
      "metadata": {
        "id": "EzFj9-qrkRRG"
      },
      "outputs": [],
      "source": [
        "def print_cluster_details(cluster_details):\n",
        "    for cluster_num, cluster_detail in cluster_details.items():\n",
        "        print('####### Cluster {0}'.format(cluster_num))\n",
        "        print('Top features:', cluster_detail['top_features'])\n",
        "        print('Reviews 파일명 :',cluster_detail['filenames'][:7])\n",
        "        print('==================================================')\n"
      ]
    },
    {
      "cell_type": "code",
      "execution_count": null,
      "metadata": {
        "id": "gVSLhyYjkRRH"
      },
      "outputs": [],
      "source": [
        "feature_names = tfidf_vect.get_feature_names()\n",
        "\n",
        "cluster_details = get_cluster_details(cluster_model=km_cluster, cluster_data=document_df,\\\n",
        "                                  feature_names=feature_names, clusters_num=3, top_n_features=10 )\n",
        "print_cluster_details(cluster_details)"
      ]
    },
    {
      "cell_type": "markdown",
      "metadata": {
        "id": "2q3jf3tgkRRH"
      },
      "source": [
        "**해석** \n",
        "- cluster별 핵심 단어와 관련 파일 명이 나옴"
      ]
    },
    {
      "cell_type": "markdown",
      "metadata": {
        "id": "YvwpqWUJkRRI"
      },
      "source": [
        "## 문서 유사도 - 코사인 유사도"
      ]
    },
    {
      "cell_type": "markdown",
      "metadata": {
        "ExecuteTime": {
          "end_time": "2020-09-18T04:33:37.840298Z",
          "start_time": "2020-09-18T04:33:37.769488Z"
        },
        "id": "EfsBc0B1kRRI"
      },
      "source": [
        "### 문서 TF-IDF 벡터화"
      ]
    },
    {
      "cell_type": "code",
      "execution_count": null,
      "metadata": {
        "ExecuteTime": {
          "end_time": "2020-09-18T06:31:54.517360Z",
          "start_time": "2020-09-18T06:31:54.460519Z"
        },
        "id": "X2dGVuEakRRI",
        "outputId": "8b5d65b4-7591-48b1-f3ae-83e8a31d8e8b"
      },
      "outputs": [
        {
          "name": "stdout",
          "output_type": "stream",
          "text": [
            "(3, 18)\n"
          ]
        }
      ],
      "source": [
        "from sklearn.feature_extraction.text import TfidfVectorizer\n",
        "\n",
        "doc_list = ['if you take the blue pill, the story ends' ,\n",
        "            'if you take the red pill, you stay in Wonderland',\n",
        "            'if you take the red pill, I show you how deep the rabbit hole goes']\n",
        "\n",
        "tfidf_vect_simple = TfidfVectorizer()\n",
        "feature_vect_simple = tfidf_vect_simple.fit_transform(doc_list)\n",
        "print(feature_vect_simple.shape)"
      ]
    },
    {
      "cell_type": "markdown",
      "metadata": {
        "id": "udyCm65AkRRK"
      },
      "source": [
        "### 사이킷런의 cosine_similarity()로 유사도 측정\n",
        "- input : 첫 번째는 비교의 기준(A), 두 번째는 비교 대상(B) = A를 B와 비교했을 때의 유사도 측정\n",
        "- outpu : 첫 번째는 자신과의 비교, 두 번째부터는 B에 있는 각 문서와의 유사도"
      ]
    },
    {
      "cell_type": "code",
      "execution_count": null,
      "metadata": {
        "ExecuteTime": {
          "end_time": "2020-09-18T06:11:02.031130Z",
          "start_time": "2020-09-18T06:11:02.023185Z"
        },
        "id": "B-nLMA1zkRRL",
        "outputId": "9526615c-6ba6-4674-8390-9010c6ba7251"
      },
      "outputs": [
        {
          "name": "stdout",
          "output_type": "stream",
          "text": [
            "[[1.         0.40207758 0.40425045]]\n",
            "첫 번째는 자신과의 비교니까 1이고, 두 번째 문서와는 0.40, 세 번째 문서와도 0.40의 유사도를 가짐\n"
          ]
        }
      ],
      "source": [
        "from sklearn.metrics.pairwise import cosine_similarity\n",
        "\n",
        "similarity_simple_pair = cosine_similarity(feature_vect_simple[0] , feature_vect_simple)\n",
        "print(similarity_simple_pair)\n",
        "print(\"첫 번째는 자신과의 비교니까 1이고, 두 번째 문서와는 0.40, 세 번째 문서와도 0.40의 유사도를 가짐\")"
      ]
    },
    {
      "cell_type": "code",
      "execution_count": null,
      "metadata": {
        "ExecuteTime": {
          "end_time": "2020-09-18T06:12:49.620411Z",
          "start_time": "2020-09-18T06:12:49.612460Z"
        },
        "id": "x3ZtKoQ8kRRM",
        "outputId": "ede93d8c-675b-41b4-8edc-7e2b00221570"
      },
      "outputs": [
        {
          "name": "stdout",
          "output_type": "stream",
          "text": [
            "다수의 문서 : 다수의 문서를 넣으면 A의 각 문서에 대한 B의 각 문서와의 유사도가 모두 계산 됨\n",
            "[[1.         0.40207758 0.40425045]\n",
            " [0.40207758 1.         0.45647296]\n",
            " [0.40425045 0.45647296 1.        ]]\n",
            "shape: (3, 3)\n"
          ]
        }
      ],
      "source": [
        "# 다수의 문서 : 다수의 문서를 넣으면 A의 각 문서에 대한 B의 각 문서와의 유사도가 모두 계산 됨\n",
        "similarity_simple_pair = cosine_similarity(feature_vect_simple , feature_vect_simple)\n",
        "print(\"다수의 문서 : 다수의 문서를 넣으면 A의 각 문서에 대한 B의 각 문서와의 유사도가 모두 계산 됨\")\n",
        "print(similarity_simple_pair)\n",
        "print('shape:',similarity_simple_pair.shape)"
      ]
    },
    {
      "cell_type": "markdown",
      "metadata": {
        "ExecuteTime": {
          "end_time": "2020-09-18T04:54:37.246407Z",
          "start_time": "2020-09-18T04:54:37.240423Z"
        },
        "id": "7Uc9kDqPkRRM"
      },
      "source": [
        "## 예시 : 문서 군집화 및 문사 유사도 측정"
      ]
    },
    {
      "cell_type": "markdown",
      "metadata": {
        "id": "MZMA8AV0kRRQ"
      },
      "source": [
        "- 데이터 로딩"
      ]
    },
    {
      "cell_type": "code",
      "execution_count": null,
      "metadata": {
        "id": "1lDRVh03kRRR"
      },
      "outputs": [],
      "source": [
        "import pandas as pd\n",
        "import glob ,os\n",
        "from sklearn.feature_extraction.text import TfidfVectorizer\n",
        "from sklearn.cluster import KMeans\n",
        "\n",
        "path = r'C:\\Users\\chkwon\\Text\\OpinosisDataset1.0\\OpinosisDataset1.0\\topics'\n",
        "all_files = glob.glob(os.path.join(path, \"*.data\"))     \n",
        "filename_list = []\n",
        "opinion_text = []\n",
        "\n",
        "for file_ in all_files:\n",
        "    df = pd.read_table(file_,index_col=None, header=0,encoding='latin1')\n",
        "    filename_ = file_.split('\\\\')[-1]\n",
        "    filename = filename_.split('.')[0]\n",
        "    filename_list.append(filename)\n",
        "    opinion_text.append(df.to_string())"
      ]
    },
    {
      "cell_type": "markdown",
      "metadata": {
        "id": "f0Oa94jbkRRS"
      },
      "source": [
        "- 필요한 사용자함수 만들기"
      ]
    },
    {
      "cell_type": "code",
      "execution_count": null,
      "metadata": {
        "ExecuteTime": {
          "end_time": "2020-09-18T05:18:05.420104Z",
          "start_time": "2020-09-18T05:18:05.407165Z"
        },
        "id": "3uPXKddVkRRT"
      },
      "outputs": [],
      "source": [
        "from nltk.stem import WordNetLemmatizer\n",
        "import nltk\n",
        "import string\n",
        "\n",
        "remove_punct_dict = dict((ord(punct), None) for punct in string.punctuation)\n",
        "lemmar = WordNetLemmatizer()\n",
        "\n",
        "def LemTokens(tokens):\n",
        "    return [lemmar.lemmatize(token) for token in tokens]\n",
        "\n",
        "def LemNormalize(text):\n",
        "    return LemTokens(nltk.word_tokenize(text.lower().translate(remove_punct_dict)))"
      ]
    },
    {
      "cell_type": "markdown",
      "metadata": {
        "id": "RHTcV-UKkRRU"
      },
      "source": [
        "- TF-IDF , 군집화"
      ]
    },
    {
      "cell_type": "code",
      "execution_count": null,
      "metadata": {
        "id": "oz-maLdrkRRV"
      },
      "outputs": [],
      "source": [
        "document_df = pd.DataFrame({'filename':filename_list, 'opinion_text':opinion_text})\n",
        "\n",
        "tfidf_vect = TfidfVectorizer(tokenizer=LemNormalize, stop_words='english' , \\\n",
        "                             ngram_range=(1,2), min_df=0.05, max_df=0.85 )\n",
        "feature_vect = tfidf_vect.fit_transform(document_df['opinion_text'])\n",
        "\n",
        "km_cluster = KMeans(n_clusters=3, max_iter=10000, random_state=0)\n",
        "km_cluster.fit(feature_vect)\n",
        "cluster_label = km_cluster.labels_\n",
        "cluster_centers = km_cluster.cluster_centers_\n",
        "document_df['cluster_label'] = cluster_label"
      ]
    },
    {
      "cell_type": "code",
      "execution_count": null,
      "metadata": {
        "id": "iOMjq8y-kRRV"
      },
      "outputs": [],
      "source": [
        "from sklearn.metrics.pairwise import cosine_similarity\n",
        "\n",
        "# cluster_label=1인 데이터는 호텔로 클러스터링된 데이터임. DataFrame에서 해당 Index를 추출\n",
        "hotel_indexes = document_df[document_df['cluster_label']==1].index\n",
        "print('호텔로 클러스터링 된 문서들의 DataFrame Index:', hotel_indexes)\n",
        "\n",
        "# 호텔로 클러스터링된 데이터 중 첫번째 문서를 추출하여 파일명 표시.  \n",
        "comparison_docname = document_df.iloc[hotel_indexes[0]]['filename']\n",
        "print('##### 비교 기준 문서명 ',comparison_docname,' 와 타 문서 유사도######')\n",
        "\n",
        "''' document_df에서 추출한 Index 객체를 feature_vect로 입력하여 호텔 클러스터링된 feature_vect 추출 \n",
        "이를 이용하여 호텔로 클러스터링된 문서 중 첫번째 문서와 다른 문서간의 코사인 유사도 측정.'''\n",
        "similarity_pair = cosine_similarity(feature_vect[hotel_indexes[0]] , feature_vect[hotel_indexes])\n",
        "print(similarity_pair)\n"
      ]
    },
    {
      "cell_type": "markdown",
      "metadata": {
        "id": "qLete_GKkRRW"
      },
      "source": [
        "- 시각화"
      ]
    },
    {
      "cell_type": "code",
      "execution_count": null,
      "metadata": {
        "id": "wtiUiCnikRRW"
      },
      "outputs": [],
      "source": [
        "import seaborn as sns\n",
        "import numpy as np\n",
        "import matplotlib.pyplot as plt\n",
        "%matplotlib inline\n",
        "\n",
        "# argsort()를 이용하여 앞예제의 첫번째 문서와 타 문서간 유사도가 큰 순으로 정렬한 인덱스 반환하되 자기 자신은 제외. \n",
        "sorted_index = similarity_pair.argsort()[:,::-1]\n",
        "sorted_index = sorted_index[:, 1:]\n",
        "\n",
        "# 유사도가 큰 순으로 hotel_indexes를 추출하여 재 정렬. \n",
        "hotel_sorted_indexes = hotel_indexes[sorted_index.reshape(-1)]\n",
        "\n",
        "# 유사도가 큰 순으로 유사도 값을 재정렬하되 자기 자신은 제외\n",
        "hotel_1_sim_value = np.sort(similarity_pair.reshape(-1))[::-1]\n",
        "hotel_1_sim_value = hotel_1_sim_value[1:]\n",
        "\n",
        "# 유사도가 큰 순으로 정렬된 Index와 유사도값을 이용하여 파일명과 유사도값을 Seaborn 막대 그래프로 시각화\n",
        "hotel_1_sim_df = pd.DataFrame()\n",
        "hotel_1_sim_df['filename'] = document_df.iloc[hotel_sorted_indexes]['filename']\n",
        "hotel_1_sim_df['similarity'] = hotel_1_sim_value\n",
        "\n",
        "sns.barplot(x='similarity', y='filename',data=hotel_1_sim_df)\n",
        "plt.title(comparison_docname)"
      ]
    },
    {
      "cell_type": "code",
      "execution_count": null,
      "metadata": {
        "id": "X9Z-U7HokRRY"
      },
      "outputs": [],
      "source": [
        ""
      ]
    },
    {
      "cell_type": "markdown",
      "metadata": {
        "id": "-3nMPprvkRRY"
      },
      "source": [
        "# 한글 텍스트 마이닝"
      ]
    },
    {
      "cell_type": "markdown",
      "metadata": {
        "id": "wwi_TQVkkRRZ"
      },
      "source": [
        "- 데이터 로딩"
      ]
    },
    {
      "cell_type": "code",
      "execution_count": null,
      "metadata": {
        "ExecuteTime": {
          "end_time": "2020-09-18T04:33:37.840298Z",
          "start_time": "2020-09-18T04:33:37.769488Z"
        },
        "id": "P4hqrJEJkRRZ"
      },
      "outputs": [],
      "source": [
        "import pandas as pd\n",
        "\n",
        "train_df = pd.read_csv('ratings_train.txt', sep='\\t')\n",
        "test_df = pd.read_csv('ratings_test.txt', sep='\\t')\n",
        "train_df.head(3)"
      ]
    },
    {
      "cell_type": "markdown",
      "metadata": {
        "id": "KN9H39YgkRRa"
      },
      "source": [
        "- y값 비율 확인"
      ]
    },
    {
      "cell_type": "code",
      "execution_count": null,
      "metadata": {
        "ExecuteTime": {
          "end_time": "2020-09-18T06:31:54.517360Z",
          "start_time": "2020-09-18T06:31:54.460519Z"
        },
        "id": "MadpDZXYkRRa"
      },
      "outputs": [],
      "source": [
        "train_df['label'].value_counts( )"
      ]
    },
    {
      "cell_type": "markdown",
      "metadata": {
        "ExecuteTime": {
          "end_time": "2020-09-18T06:11:02.031130Z",
          "start_time": "2020-09-18T06:11:02.023185Z"
        },
        "id": "5kxGtBwUkRRb"
      },
      "source": [
        "- 클렌징"
      ]
    },
    {
      "cell_type": "code",
      "execution_count": null,
      "metadata": {
        "ExecuteTime": {
          "end_time": "2020-09-18T06:12:49.620411Z",
          "start_time": "2020-09-18T06:12:49.612460Z"
        },
        "id": "8fmKaPkMkRRb"
      },
      "outputs": [],
      "source": [
        "import re\n",
        "\n",
        "train_df = train_df.fillna(' ')\n",
        "# 정규 표현식을 이용하여 숫자를 공백으로 변경(정규 표현식으로 \\d 는 숫자를 의미함.) \n",
        "train_df['document'] = train_df['document'].apply( lambda x : re.sub(r\"\\d+\", \" \", x) )\n",
        "\n",
        "# 테스트 데이터 셋을 로딩하고 동일하게 Null 및 숫자를 공백으로 변환\n",
        "test_df = test_df.fillna(' ')\n",
        "test_df['document'] = test_df['document'].apply( lambda x : re.sub(r\"\\d+\", \" \", x) )"
      ]
    },
    {
      "cell_type": "code",
      "execution_count": null,
      "metadata": {
        "id": "EyRwWljjkRRc"
      },
      "outputs": [],
      "source": [
        "# 참고 : 특수문자 제거\n",
        "text = re.sub('[-=+,#/\\?:^$.@*\\\"※~&%ㆍ!』\\\\‘|\\(\\)\\[\\]\\<\\>`\\'…》]', '', readData)"
      ]
    },
    {
      "cell_type": "markdown",
      "metadata": {
        "id": "dyaCU_IrkRRc"
      },
      "source": [
        "- 형태소 단위로 토큰화 w/ Twitter"
      ]
    },
    {
      "cell_type": "code",
      "execution_count": null,
      "metadata": {
        "ExecuteTime": {
          "end_time": "2020-09-18T04:54:37.246407Z",
          "start_time": "2020-09-18T04:54:37.240423Z"
        },
        "id": "2xPI8lQskRRc"
      },
      "outputs": [],
      "source": [
        "from konlpy.tag import Twitter\n",
        "\n",
        "twitter = Twitter()\n",
        "def tw_tokenizer(text):\n",
        "    # 입력 인자로 들어온 text 를 형태소 단어로 토큰화 하여 list 객체 반환\n",
        "    tokens_ko = twitter.morphs(text)\n",
        "    return tokens_ko"
      ]
    },
    {
      "cell_type": "markdown",
      "metadata": {
        "id": "XZAE_fJrkRRd"
      },
      "source": [
        "- TF-IDF 벡터화"
      ]
    },
    {
      "cell_type": "code",
      "execution_count": null,
      "metadata": {
        "ExecuteTime": {
          "end_time": "2020-09-18T05:18:05.420104Z",
          "start_time": "2020-09-18T05:18:05.407165Z"
        },
        "id": "VvnD2VOpkRRe"
      },
      "outputs": [],
      "source": [
        "from sklearn.feature_extraction.text import TfidfVectorizer\n",
        "\n",
        "# Twitter 객체의 morphs( ) 객체를 이용한 tokenizer를 사용. ngram_range는 (1,2) \n",
        "tfidf_vect = TfidfVectorizer(tokenizer=tw_tokenizer, ngram_range=(1,2), min_df=3, max_df=0.9)\n",
        "tfidf_vect.fit(train_df['document'])\n",
        "tfidf_matrix_train = tfidf_vect.transform(train_df['document'])"
      ]
    },
    {
      "cell_type": "markdown",
      "metadata": {
        "id": "tS31wntakRRf"
      },
      "source": [
        "- GridSearch CV로 분류"
      ]
    },
    {
      "cell_type": "code",
      "execution_count": null,
      "metadata": {
        "id": "E0L5ndq8kRRf"
      },
      "outputs": [],
      "source": [
        "from sklearn.linear_model import LogisticRegression\n",
        "from sklearn.model_selection import GridSearchCV\n",
        "\n",
        "# Logistic Regression 을 이용하여 감성 분석 Classification 수행. \n",
        "lg_clf = LogisticRegression(random_state=0)\n",
        "\n",
        "# Parameter C 최적화를 위해 GridSearchCV 를 이용. \n",
        "params = { 'C': [1 ,3.5, 4.5, 5.5, 10 ] }\n",
        "grid_cv = GridSearchCV(lg_clf , param_grid=params , cv=3 ,scoring='accuracy', verbose=1 )\n",
        "grid_cv.fit(tfidf_matrix_train , train_df['label'] )\n",
        "print(grid_cv.best_params_ , round(grid_cv.best_score_,4))\n"
      ]
    },
    {
      "cell_type": "markdown",
      "metadata": {
        "id": "IeupvSwWkRRg"
      },
      "source": [
        "- Test"
      ]
    },
    {
      "cell_type": "code",
      "execution_count": null,
      "metadata": {
        "id": "q9jwNBwWkRRg"
      },
      "outputs": [],
      "source": [
        "from sklearn.metrics import accuracy_score\n",
        "\n",
        "# 학습 데이터를 적용한 TfidfVectorizer를 이용하여 테스트 데이터를 TF-IDF 값으로 Feature 변환함. \n",
        "tfidf_matrix_test = tfidf_vect.transform(test_df['document'])\n",
        "\n",
        "# classifier 는 GridSearchCV에서 최적 파라미터로 학습된 classifier를 그대로 이용\n",
        "best_estimator = grid_cv.best_estimator_\n",
        "preds = best_estimator.predict(tfidf_matrix_test)\n",
        "\n",
        "print('Logistic Regression 정확도: ',accuracy_score(test_df['label'],preds))"
      ]
    }
  ],
  "metadata": {
    "kernelspec": {
      "display_name": "Python 3",
      "language": "python",
      "name": "python3"
    },
    "language_info": {
      "codemirror_mode": {
        "name": "ipython",
        "version": 3
      },
      "file_extension": ".py",
      "mimetype": "text/x-python",
      "name": "python",
      "nbconvert_exporter": "python",
      "pygments_lexer": "ipython3",
      "version": "3.7.4"
    },
    "toc": {
      "base_numbering": 1,
      "nav_menu": {},
      "number_sections": true,
      "sideBar": true,
      "skip_h1_title": false,
      "title_cell": "Table of Contents",
      "title_sidebar": "Contents",
      "toc_cell": false,
      "toc_position": {
        "height": "calc(100% - 180px)",
        "left": "10px",
        "top": "150px",
        "width": "821px"
      },
      "toc_section_display": true,
      "toc_window_display": true
    },
    "varInspector": {
      "cols": {
        "lenName": 16,
        "lenType": 16,
        "lenVar": 40
      },
      "kernels_config": {
        "python": {
          "delete_cmd_postfix": "",
          "delete_cmd_prefix": "del ",
          "library": "var_list.py",
          "varRefreshCmd": "print(var_dic_list())"
        },
        "r": {
          "delete_cmd_postfix": ") ",
          "delete_cmd_prefix": "rm(",
          "library": "var_list.r",
          "varRefreshCmd": "cat(var_dic_list()) "
        }
      },
      "types_to_exclude": [
        "module",
        "function",
        "builtin_function_or_method",
        "instance",
        "_Feature"
      ],
      "window_display": false
    },
    "colab": {
      "name": "07_기계학습_3_텍스트마이닝.ipynb",
      "provenance": []
    }
  },
  "nbformat": 4,
  "nbformat_minor": 0
}