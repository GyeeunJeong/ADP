{
  "nbformat": 4,
  "nbformat_minor": 0,
  "metadata": {
    "colab": {
      "provenance": [],
      "authorship_tag": "ABX9TyPyyIwrHguJBOVTAxEW58qW",
      "include_colab_link": true
    },
    "kernelspec": {
      "name": "python3",
      "display_name": "Python 3"
    },
    "language_info": {
      "name": "python"
    }
  },
  "cells": [
    {
      "cell_type": "markdown",
      "metadata": {
        "id": "view-in-github",
        "colab_type": "text"
      },
      "source": [
        "<a href=\"https://colab.research.google.com/github/joyfulspace/ADP/blob/master/06_%ED%86%B5%EA%B3%84%EB%B6%84%EC%84%9D_5_%EC%A0%84%EC%B2%B4.ipynb\" target=\"_parent\"><img src=\"https://colab.research.google.com/assets/colab-badge.svg\" alt=\"Open In Colab\"/></a>"
      ]
    },
    {
      "cell_type": "markdown",
      "source": [
        "# 추정\n",
        "\n",
        "- 추정량 $\\hat{θ}$의 성질\n",
        "  1. 불편성(Unbiasedness) $E(\\hat{θ})=θ$\n",
        "  2. 일치성(Consistency) 표본크기 커지면 $\\hat{θ} → θ$\n",
        "  3. 충분성(Sufficiency) 모수에 대해 가능한 많은 정보 내포\n",
        "  4. 효율성(Efficiency) $V(\\hat{θ}) ≤ V(\\hat{θ_i}) $. $V(\\hat{θ})$가 최소분산\n",
        "\n",
        "### 1. 점추정\n",
        "- 모평균: $\\bar{X} → μ$\n",
        "- 모분산: $S^2 → σ^2$\n",
        "- 모비율 $\\hat{p} → p$\n",
        "- 방법: 적률법, 최대가능도추정법\n",
        "\n",
        "### 2. 평균제곱오차 MSE\n",
        "- $MSE=E(\\hat{θ}-θ)^2 = Var(\\hat{θ}) + [Bias(\\hat{θ})]^2$\n",
        "\n",
        "### 3. 구간추정\n",
        "1) 신뢰구간: 모수가 포함되었을 것이라고 제시한 구간.  \n",
        "  - 95% 신뢰구간은 모수를 포함할 확률이 95%\n",
        "\n",
        "2) 신뢰수준: 구간추정값이 모수에 대해 얼마나 잘 설명하는가를 표시\n",
        "  - 신뢰수준 95%는 똑같은 연구를 100번 반복할 때 적어도 95번은 그 구간에 모평균 포함. 모평균의 위치를 맞추지 못하는 실수는 5% 이상 되지 않는다.\n",
        "  - 모수 $μ$에 대한 $±σ$ 신뢰수준: 68.3%\n",
        "  - 모수 $μ$에 대한 $±2σ$ 신뢰수준: 95.4%\n",
        "  - 모수 $μ$에 대한 $±3σ$ 신뢰수준: 99.7%\n",
        "\n",
        "3) 신뢰계수: 추정량의 분포와 신뢰수준에 의해 결정\n",
        "- 추정량의 분포가 정규분포를 따를 때 $μ$에 대한 신뢰구간: $̄{X} ±$ 신뢰계수 X 표준오차\n",
        "  - 90% $̄{X} ± 1.645 \\frac{σ}{\\sqrt{n}}$\n",
        "  - 95% $̄{X} ± 1.96 \\frac{σ}{\\sqrt{n}}$\n",
        "  - 99% $̄{X} ± 2.575 \\frac{σ}{\\sqrt{n}}$\n",
        "\n",
        "4) 구간추정 종류  \n",
        "  - 대표본(30이상)에서 모분산 알 때 모평균에 대한 신뢰구간\n",
        "    - $Z=\\frac{\\bar{X}-μ}{σ/\\sqrt{n}} ∼ N(0,1)$\n",
        "    - $P(-z_{α/2}<z<z_{α/2})=1-α$\n",
        "    - $(\\bar{X}-z_{α/2}\\frac{σ}{\\sqrt{n}}, \\bar{X}+z_{α/2}\\frac{σ}{\\sqrt{n}})$\n",
        "  - 대표본(30이상)에서 모분산 모를 때 모평균에 대한 신뢰구간\n",
        "    - $(\\bar{X}-z_{α/2}\\frac{S}{\\sqrt{n}}, \\bar{X}+z_{α/2}\\frac{S}{\\sqrt{n}})$\n",
        "  - 소표본에서 모평균에 대한 신뢰구간\n",
        "    - $t=\\frac{\\bar{X}-μ}{S/\\sqrt{n}} ∼ t_{(n-1)}$\n",
        "    - $P(-t_{α/2,n-1}<t<t_{α/2, n-1})=1-α$\n",
        "    - $(\\bar{X}-t_{α/2, n-1}\\frac{S}{\\sqrt{n}}, \\bar{X}+t_{α/2, n-1}\\frac{S}{\\sqrt{n}})$\n",
        "  - 대표본에서 모비율에 대한 신뢰구간\n",
        "    - $Z=\\frac{\\hat{p}-p}{\\sqrt{p(1-p)/n}} ∼ N(0,1)$\n",
        "    - $(\\hat{p}-z_{α/2}\\sqrt{\\frac{\\hat{p}(1-\\hat{p})}{n}}, \\hat{p}+z_{α/2}\\sqrt{\\frac{\\hat{p}(1-\\hat{p})}{n}})$\n",
        "  - 독립표본 모평균의 차 $μ_1-μ_2$\n",
        "    - $Z=\\frac{\\bar{X_1}-\\bar{X_2}-(μ_1-μ_2)}{\\sqrt{\\frac{σ_1^2}{n_1}+\\frac{σ_2^2}{n_2}}} ∼ N(0,1)$\n",
        "  - 독립표본 모평균의 차 $μ_1-μ_2$ (소표본, 모분산 모르지만 같음)\n",
        "    - $Z=\\frac{\\bar{X_1}-\\bar{X_2}-(μ_1-μ_2)}{S_p \\sqrt{\\frac{1}{n_1}+\\frac{1}{n_2}}} ∼ N(0,1)$\n",
        "    - $S_p^2 = \\frac{(n_1-1S_1^2 + (n_2-1)S_2^2)}{n_1+n_2-2}$\n",
        "  - 대응표본 모평균의 차 $μ_1-μ_2$ \n",
        "    - $Z=\\frac{\\bar{D}-(μ_1-μ_2)}{S_D \\sqrt{n}} ∼ N(0,1)$\n",
        "    - $S_D^2 = \\frac{∑(D_i-\\bar{D})^2}{n-1}$\n",
        "  - 대표본 모비율의 차\n",
        "    - $Z=\\frac{\\hat{p_1}-\\hat{p_2}-(p_1-p_2)}{\\sqrt{\\frac{\\hat{p_1}(1-\\hat{p_1})}{n_1} + \\frac{\\hat{p_2}(1-\\hat{p_2})}{n_2}}} ∼ N(0,1)$\n",
        "  - 모분산 $σ^2$\n",
        "    - $𝒳^2 = \\frac{(n-1)S^2}{\\sigma^2} ∼ 𝒳^2_{n-1}$\n",
        "  - 모분산의 비 $σ^2_2/σ_1^2$\n",
        "    - $F = \\frac{S_1^2/σ^2_1}{S_2^2/σ^2_2} = \\frac{ \\frac{(m-1)S^2_1}{σ^2_1} / (m-1) }{ \\frac{(n-1)S^2_2}{σ^2_2} / (n-1) } ∼ F_{(m-1, n-1)}$\n",
        "    - $P( F_{1-\\frac{α}{2}, m-1, n-1} < F < F_{ \\frac{α}{2} , m-1, n-1}  ) = 1-α$"
      ],
      "metadata": {
        "id": "9wcR4mAC4QUM"
      }
    },
    {
      "cell_type": "markdown",
      "source": [
        "# 가설검정\n",
        "- 귀무가설, 대립가설, 기각치\n",
        "- 1종오류, 2종오류\n",
        "  - 1종오류: 귀무가설이 옳은데 기각. $α=P(제1종오류)=P(H_1채택|H_0사실)$\n",
        "  - 2종오류: 귀무가설이 틀렸는데 채택. $β=P(제2종오류)=P(H_0채택|H_1사실)$\n",
        "  - $α$를 범할 확률 = 유의수준\n",
        "  - $1-β$ = 검정력\n",
        "\n",
        "|| 실제 현상 | 사실 | 거짓 |\n",
        "| - | - | - | - |\n",
        "| 검정 결과 | 채택 |1-α|β|\n",
        "| | 기각 |α|1-β|\n",
        "\n",
        "  - 검정통계량: 대체로 추정에 사용한 값\n",
        "    - 다른 것\n",
        "      - 모비율차 $Z=\\frac{\\hat{p_1}-\\hat{p_2}}{\\sqrt{\\hat{p}(1-\\hat{p})(\\frac{1}{n_1}+\\frac{1}{n_2})} }$,  $\\hat{p}=\\frac{n_1\\hat{p_1}+n_2\\hat{p_2}}{n_1+n_2}$\n",
        "      - 모분산의 비 $F = \\frac{S^2_1/σ^2_1}{S^2_2/σ^2_2} = \\frac{S_1^2}{S_2^2}$"
      ],
      "metadata": {
        "id": "BwFOokjNZLkq"
      }
    },
    {
      "cell_type": "markdown",
      "source": [
        "# T-test\n",
        "- $t=\\frac{\\bar{X}-μ}{S/\\sqrt{n}} \\sim t_{n-1}$\n",
        "- $S=\\sqrt{\\frac{\\sum {(x_i-x)^2}}{n-1}}$\n",
        "\n",
        "### 1. 일표본 T-검정 (One Sample T-test)\n",
        "- 단일모집단에서 연속형 변수의 평균값을 특정 기준값과 비교  \n",
        "\n",
        "1) 가정: 모집단의 구성요소들이 정규분포  \n",
        "2) 가설  \n",
        "  - H0: 모평균 $μ=μ_0$\n",
        "  - H1: 양측검정) $μ!=μ_0$\n",
        "  - or  우측검정) $μ>μ_0$\n",
        "  - or  좌측검정) $μ<μ_0$  \n",
        "\n",
        "3) 유의수준 $α$ 설정  \n",
        "4) 검정통계량 $t=\\frac{\\bar{X}-μ}{S/\\sqrt{n}}$ 계산하고 유의확률 p-value 계산 \n",
        "\n",
        "5) 결과 해석\n",
        "- p-value < $α$: 귀무가설 기각\n",
        "- p-value > $α$: 귀무가설 채택"
      ],
      "metadata": {
        "id": "SOafJ4htBH_C"
      }
    },
    {
      "cell_type": "code",
      "source": [
        "from google.colab import drive\n",
        "drive.mount('/content/drive')"
      ],
      "metadata": {
        "colab": {
          "base_uri": "https://localhost:8080/"
        },
        "id": "SYXTmAIyJCs1",
        "outputId": "65fdc9ae-abda-40b4-868b-387b84194a46"
      },
      "execution_count": 1,
      "outputs": [
        {
          "output_type": "stream",
          "name": "stdout",
          "text": [
            "Mounted at /content/drive\n"
          ]
        }
      ]
    },
    {
      "cell_type": "code",
      "source": [
        "import pandas as pd\n",
        "df=pd.read_csv('/content/drive/MyDrive/creditcard.csv')\n",
        "df.head()"
      ],
      "metadata": {
        "colab": {
          "base_uri": "https://localhost:8080/",
          "height": 299
        },
        "id": "MwTLQMf4e4Zu",
        "outputId": "a3dc97f4-c337-469b-b757-64e3e29bafe9"
      },
      "execution_count": 3,
      "outputs": [
        {
          "output_type": "execute_result",
          "data": {
            "text/plain": [
              "   Time        V1        V2        V3        V4        V5        V6        V7  \\\n",
              "0   0.0 -1.359807 -0.072781  2.536347  1.378155 -0.338321  0.462388  0.239599   \n",
              "1   0.0  1.191857  0.266151  0.166480  0.448154  0.060018 -0.082361 -0.078803   \n",
              "2   1.0 -1.358354 -1.340163  1.773209  0.379780 -0.503198  1.800499  0.791461   \n",
              "3   1.0 -0.966272 -0.185226  1.792993 -0.863291 -0.010309  1.247203  0.237609   \n",
              "4   2.0 -1.158233  0.877737  1.548718  0.403034 -0.407193  0.095921  0.592941   \n",
              "\n",
              "         V8        V9  ...       V21       V22       V23       V24       V25  \\\n",
              "0  0.098698  0.363787  ... -0.018307  0.277838 -0.110474  0.066928  0.128539   \n",
              "1  0.085102 -0.255425  ... -0.225775 -0.638672  0.101288 -0.339846  0.167170   \n",
              "2  0.247676 -1.514654  ...  0.247998  0.771679  0.909412 -0.689281 -0.327642   \n",
              "3  0.377436 -1.387024  ... -0.108300  0.005274 -0.190321 -1.175575  0.647376   \n",
              "4 -0.270533  0.817739  ... -0.009431  0.798278 -0.137458  0.141267 -0.206010   \n",
              "\n",
              "        V26       V27       V28  Amount  Class  \n",
              "0 -0.189115  0.133558 -0.021053  149.62      0  \n",
              "1  0.125895 -0.008983  0.014724    2.69      0  \n",
              "2 -0.139097 -0.055353 -0.059752  378.66      0  \n",
              "3 -0.221929  0.062723  0.061458  123.50      0  \n",
              "4  0.502292  0.219422  0.215153   69.99      0  \n",
              "\n",
              "[5 rows x 31 columns]"
            ],
            "text/html": [
              "\n",
              "  <div id=\"df-1afe891b-bb70-4979-8dd5-680016f67873\">\n",
              "    <div class=\"colab-df-container\">\n",
              "      <div>\n",
              "<style scoped>\n",
              "    .dataframe tbody tr th:only-of-type {\n",
              "        vertical-align: middle;\n",
              "    }\n",
              "\n",
              "    .dataframe tbody tr th {\n",
              "        vertical-align: top;\n",
              "    }\n",
              "\n",
              "    .dataframe thead th {\n",
              "        text-align: right;\n",
              "    }\n",
              "</style>\n",
              "<table border=\"1\" class=\"dataframe\">\n",
              "  <thead>\n",
              "    <tr style=\"text-align: right;\">\n",
              "      <th></th>\n",
              "      <th>Time</th>\n",
              "      <th>V1</th>\n",
              "      <th>V2</th>\n",
              "      <th>V3</th>\n",
              "      <th>V4</th>\n",
              "      <th>V5</th>\n",
              "      <th>V6</th>\n",
              "      <th>V7</th>\n",
              "      <th>V8</th>\n",
              "      <th>V9</th>\n",
              "      <th>...</th>\n",
              "      <th>V21</th>\n",
              "      <th>V22</th>\n",
              "      <th>V23</th>\n",
              "      <th>V24</th>\n",
              "      <th>V25</th>\n",
              "      <th>V26</th>\n",
              "      <th>V27</th>\n",
              "      <th>V28</th>\n",
              "      <th>Amount</th>\n",
              "      <th>Class</th>\n",
              "    </tr>\n",
              "  </thead>\n",
              "  <tbody>\n",
              "    <tr>\n",
              "      <th>0</th>\n",
              "      <td>0.0</td>\n",
              "      <td>-1.359807</td>\n",
              "      <td>-0.072781</td>\n",
              "      <td>2.536347</td>\n",
              "      <td>1.378155</td>\n",
              "      <td>-0.338321</td>\n",
              "      <td>0.462388</td>\n",
              "      <td>0.239599</td>\n",
              "      <td>0.098698</td>\n",
              "      <td>0.363787</td>\n",
              "      <td>...</td>\n",
              "      <td>-0.018307</td>\n",
              "      <td>0.277838</td>\n",
              "      <td>-0.110474</td>\n",
              "      <td>0.066928</td>\n",
              "      <td>0.128539</td>\n",
              "      <td>-0.189115</td>\n",
              "      <td>0.133558</td>\n",
              "      <td>-0.021053</td>\n",
              "      <td>149.62</td>\n",
              "      <td>0</td>\n",
              "    </tr>\n",
              "    <tr>\n",
              "      <th>1</th>\n",
              "      <td>0.0</td>\n",
              "      <td>1.191857</td>\n",
              "      <td>0.266151</td>\n",
              "      <td>0.166480</td>\n",
              "      <td>0.448154</td>\n",
              "      <td>0.060018</td>\n",
              "      <td>-0.082361</td>\n",
              "      <td>-0.078803</td>\n",
              "      <td>0.085102</td>\n",
              "      <td>-0.255425</td>\n",
              "      <td>...</td>\n",
              "      <td>-0.225775</td>\n",
              "      <td>-0.638672</td>\n",
              "      <td>0.101288</td>\n",
              "      <td>-0.339846</td>\n",
              "      <td>0.167170</td>\n",
              "      <td>0.125895</td>\n",
              "      <td>-0.008983</td>\n",
              "      <td>0.014724</td>\n",
              "      <td>2.69</td>\n",
              "      <td>0</td>\n",
              "    </tr>\n",
              "    <tr>\n",
              "      <th>2</th>\n",
              "      <td>1.0</td>\n",
              "      <td>-1.358354</td>\n",
              "      <td>-1.340163</td>\n",
              "      <td>1.773209</td>\n",
              "      <td>0.379780</td>\n",
              "      <td>-0.503198</td>\n",
              "      <td>1.800499</td>\n",
              "      <td>0.791461</td>\n",
              "      <td>0.247676</td>\n",
              "      <td>-1.514654</td>\n",
              "      <td>...</td>\n",
              "      <td>0.247998</td>\n",
              "      <td>0.771679</td>\n",
              "      <td>0.909412</td>\n",
              "      <td>-0.689281</td>\n",
              "      <td>-0.327642</td>\n",
              "      <td>-0.139097</td>\n",
              "      <td>-0.055353</td>\n",
              "      <td>-0.059752</td>\n",
              "      <td>378.66</td>\n",
              "      <td>0</td>\n",
              "    </tr>\n",
              "    <tr>\n",
              "      <th>3</th>\n",
              "      <td>1.0</td>\n",
              "      <td>-0.966272</td>\n",
              "      <td>-0.185226</td>\n",
              "      <td>1.792993</td>\n",
              "      <td>-0.863291</td>\n",
              "      <td>-0.010309</td>\n",
              "      <td>1.247203</td>\n",
              "      <td>0.237609</td>\n",
              "      <td>0.377436</td>\n",
              "      <td>-1.387024</td>\n",
              "      <td>...</td>\n",
              "      <td>-0.108300</td>\n",
              "      <td>0.005274</td>\n",
              "      <td>-0.190321</td>\n",
              "      <td>-1.175575</td>\n",
              "      <td>0.647376</td>\n",
              "      <td>-0.221929</td>\n",
              "      <td>0.062723</td>\n",
              "      <td>0.061458</td>\n",
              "      <td>123.50</td>\n",
              "      <td>0</td>\n",
              "    </tr>\n",
              "    <tr>\n",
              "      <th>4</th>\n",
              "      <td>2.0</td>\n",
              "      <td>-1.158233</td>\n",
              "      <td>0.877737</td>\n",
              "      <td>1.548718</td>\n",
              "      <td>0.403034</td>\n",
              "      <td>-0.407193</td>\n",
              "      <td>0.095921</td>\n",
              "      <td>0.592941</td>\n",
              "      <td>-0.270533</td>\n",
              "      <td>0.817739</td>\n",
              "      <td>...</td>\n",
              "      <td>-0.009431</td>\n",
              "      <td>0.798278</td>\n",
              "      <td>-0.137458</td>\n",
              "      <td>0.141267</td>\n",
              "      <td>-0.206010</td>\n",
              "      <td>0.502292</td>\n",
              "      <td>0.219422</td>\n",
              "      <td>0.215153</td>\n",
              "      <td>69.99</td>\n",
              "      <td>0</td>\n",
              "    </tr>\n",
              "  </tbody>\n",
              "</table>\n",
              "<p>5 rows × 31 columns</p>\n",
              "</div>\n",
              "      <button class=\"colab-df-convert\" onclick=\"convertToInteractive('df-1afe891b-bb70-4979-8dd5-680016f67873')\"\n",
              "              title=\"Convert this dataframe to an interactive table.\"\n",
              "              style=\"display:none;\">\n",
              "        \n",
              "  <svg xmlns=\"http://www.w3.org/2000/svg\" height=\"24px\"viewBox=\"0 0 24 24\"\n",
              "       width=\"24px\">\n",
              "    <path d=\"M0 0h24v24H0V0z\" fill=\"none\"/>\n",
              "    <path d=\"M18.56 5.44l.94 2.06.94-2.06 2.06-.94-2.06-.94-.94-2.06-.94 2.06-2.06.94zm-11 1L8.5 8.5l.94-2.06 2.06-.94-2.06-.94L8.5 2.5l-.94 2.06-2.06.94zm10 10l.94 2.06.94-2.06 2.06-.94-2.06-.94-.94-2.06-.94 2.06-2.06.94z\"/><path d=\"M17.41 7.96l-1.37-1.37c-.4-.4-.92-.59-1.43-.59-.52 0-1.04.2-1.43.59L10.3 9.45l-7.72 7.72c-.78.78-.78 2.05 0 2.83L4 21.41c.39.39.9.59 1.41.59.51 0 1.02-.2 1.41-.59l7.78-7.78 2.81-2.81c.8-.78.8-2.07 0-2.86zM5.41 20L4 18.59l7.72-7.72 1.47 1.35L5.41 20z\"/>\n",
              "  </svg>\n",
              "      </button>\n",
              "      \n",
              "  <style>\n",
              "    .colab-df-container {\n",
              "      display:flex;\n",
              "      flex-wrap:wrap;\n",
              "      gap: 12px;\n",
              "    }\n",
              "\n",
              "    .colab-df-convert {\n",
              "      background-color: #E8F0FE;\n",
              "      border: none;\n",
              "      border-radius: 50%;\n",
              "      cursor: pointer;\n",
              "      display: none;\n",
              "      fill: #1967D2;\n",
              "      height: 32px;\n",
              "      padding: 0 0 0 0;\n",
              "      width: 32px;\n",
              "    }\n",
              "\n",
              "    .colab-df-convert:hover {\n",
              "      background-color: #E2EBFA;\n",
              "      box-shadow: 0px 1px 2px rgba(60, 64, 67, 0.3), 0px 1px 3px 1px rgba(60, 64, 67, 0.15);\n",
              "      fill: #174EA6;\n",
              "    }\n",
              "\n",
              "    [theme=dark] .colab-df-convert {\n",
              "      background-color: #3B4455;\n",
              "      fill: #D2E3FC;\n",
              "    }\n",
              "\n",
              "    [theme=dark] .colab-df-convert:hover {\n",
              "      background-color: #434B5C;\n",
              "      box-shadow: 0px 1px 3px 1px rgba(0, 0, 0, 0.15);\n",
              "      filter: drop-shadow(0px 1px 2px rgba(0, 0, 0, 0.3));\n",
              "      fill: #FFFFFF;\n",
              "    }\n",
              "  </style>\n",
              "\n",
              "      <script>\n",
              "        const buttonEl =\n",
              "          document.querySelector('#df-1afe891b-bb70-4979-8dd5-680016f67873 button.colab-df-convert');\n",
              "        buttonEl.style.display =\n",
              "          google.colab.kernel.accessAllowed ? 'block' : 'none';\n",
              "\n",
              "        async function convertToInteractive(key) {\n",
              "          const element = document.querySelector('#df-1afe891b-bb70-4979-8dd5-680016f67873');\n",
              "          const dataTable =\n",
              "            await google.colab.kernel.invokeFunction('convertToInteractive',\n",
              "                                                     [key], {});\n",
              "          if (!dataTable) return;\n",
              "\n",
              "          const docLinkHtml = 'Like what you see? Visit the ' +\n",
              "            '<a target=\"_blank\" href=https://colab.research.google.com/notebooks/data_table.ipynb>data table notebook</a>'\n",
              "            + ' to learn more about interactive tables.';\n",
              "          element.innerHTML = '';\n",
              "          dataTable['output_type'] = 'display_data';\n",
              "          await google.colab.output.renderOutput(dataTable, element);\n",
              "          const docLink = document.createElement('div');\n",
              "          docLink.innerHTML = docLinkHtml;\n",
              "          element.appendChild(docLink);\n",
              "        }\n",
              "      </script>\n",
              "    </div>\n",
              "  </div>\n",
              "  "
            ]
          },
          "metadata": {},
          "execution_count": 3
        }
      ]
    },
    {
      "cell_type": "code",
      "source": [
        "df.shape"
      ],
      "metadata": {
        "colab": {
          "base_uri": "https://localhost:8080/"
        },
        "id": "WXNFaNSsfTuH",
        "outputId": "1d923657-db0f-4844-a24f-495b0a3d2d5e"
      },
      "execution_count": 4,
      "outputs": [
        {
          "output_type": "execute_result",
          "data": {
            "text/plain": [
              "(284807, 31)"
            ]
          },
          "metadata": {},
          "execution_count": 4
        }
      ]
    },
    {
      "cell_type": "code",
      "source": [
        "df1 = df.loc[:140000]\n",
        "df2 = df.loc[140001:]"
      ],
      "metadata": {
        "id": "WD_FCdALfMfL"
      },
      "execution_count": 5,
      "outputs": []
    },
    {
      "cell_type": "code",
      "source": [
        "df1.to_csv('/content/drive/MyDrive/creditcard1.csv')"
      ],
      "metadata": {
        "id": "8IHLntSjfmTu"
      },
      "execution_count": 9,
      "outputs": []
    },
    {
      "cell_type": "code",
      "source": [
        "df2.to_csv('/content/drive/MyDrive/creditcard2.csv')"
      ],
      "metadata": {
        "id": "pPpQnMy7f4Zp"
      },
      "execution_count": 10,
      "outputs": []
    },
    {
      "cell_type": "markdown",
      "source": [
        "Q. 고양이들의 평균 몸무게가 2.6kg인지 아닌지 유의수준 0.05에서 통계적 검정을 수행"
      ],
      "metadata": {
        "id": "OJqjUaeCGww4"
      }
    },
    {
      "cell_type": "code",
      "source": [
        "import pandas as pd\n",
        "cats=pd.read_csv('/content/drive/MyDrive/Colab Notebooks/adp_class101/data/cats.csv')\n",
        "cats.head()"
      ],
      "metadata": {
        "colab": {
          "base_uri": "https://localhost:8080/",
          "height": 206
        },
        "id": "KtRwSVobGqw8",
        "outputId": "09a44fcd-54d7-4f65-ac39-ea883b894e65"
      },
      "execution_count": null,
      "outputs": [
        {
          "output_type": "execute_result",
          "data": {
            "text/plain": [
              "  Sex  Bwt  Hwt\n",
              "0   F  2.0  7.0\n",
              "1   F  2.0  7.4\n",
              "2   F  2.0  9.5\n",
              "3   F  2.1  7.2\n",
              "4   F  2.1  7.3"
            ],
            "text/html": [
              "\n",
              "  <div id=\"df-f4b622ff-8049-45f1-8f11-425f5e21956e\">\n",
              "    <div class=\"colab-df-container\">\n",
              "      <div>\n",
              "<style scoped>\n",
              "    .dataframe tbody tr th:only-of-type {\n",
              "        vertical-align: middle;\n",
              "    }\n",
              "\n",
              "    .dataframe tbody tr th {\n",
              "        vertical-align: top;\n",
              "    }\n",
              "\n",
              "    .dataframe thead th {\n",
              "        text-align: right;\n",
              "    }\n",
              "</style>\n",
              "<table border=\"1\" class=\"dataframe\">\n",
              "  <thead>\n",
              "    <tr style=\"text-align: right;\">\n",
              "      <th></th>\n",
              "      <th>Sex</th>\n",
              "      <th>Bwt</th>\n",
              "      <th>Hwt</th>\n",
              "    </tr>\n",
              "  </thead>\n",
              "  <tbody>\n",
              "    <tr>\n",
              "      <th>0</th>\n",
              "      <td>F</td>\n",
              "      <td>2.0</td>\n",
              "      <td>7.0</td>\n",
              "    </tr>\n",
              "    <tr>\n",
              "      <th>1</th>\n",
              "      <td>F</td>\n",
              "      <td>2.0</td>\n",
              "      <td>7.4</td>\n",
              "    </tr>\n",
              "    <tr>\n",
              "      <th>2</th>\n",
              "      <td>F</td>\n",
              "      <td>2.0</td>\n",
              "      <td>9.5</td>\n",
              "    </tr>\n",
              "    <tr>\n",
              "      <th>3</th>\n",
              "      <td>F</td>\n",
              "      <td>2.1</td>\n",
              "      <td>7.2</td>\n",
              "    </tr>\n",
              "    <tr>\n",
              "      <th>4</th>\n",
              "      <td>F</td>\n",
              "      <td>2.1</td>\n",
              "      <td>7.3</td>\n",
              "    </tr>\n",
              "  </tbody>\n",
              "</table>\n",
              "</div>\n",
              "      <button class=\"colab-df-convert\" onclick=\"convertToInteractive('df-f4b622ff-8049-45f1-8f11-425f5e21956e')\"\n",
              "              title=\"Convert this dataframe to an interactive table.\"\n",
              "              style=\"display:none;\">\n",
              "        \n",
              "  <svg xmlns=\"http://www.w3.org/2000/svg\" height=\"24px\"viewBox=\"0 0 24 24\"\n",
              "       width=\"24px\">\n",
              "    <path d=\"M0 0h24v24H0V0z\" fill=\"none\"/>\n",
              "    <path d=\"M18.56 5.44l.94 2.06.94-2.06 2.06-.94-2.06-.94-.94-2.06-.94 2.06-2.06.94zm-11 1L8.5 8.5l.94-2.06 2.06-.94-2.06-.94L8.5 2.5l-.94 2.06-2.06.94zm10 10l.94 2.06.94-2.06 2.06-.94-2.06-.94-.94-2.06-.94 2.06-2.06.94z\"/><path d=\"M17.41 7.96l-1.37-1.37c-.4-.4-.92-.59-1.43-.59-.52 0-1.04.2-1.43.59L10.3 9.45l-7.72 7.72c-.78.78-.78 2.05 0 2.83L4 21.41c.39.39.9.59 1.41.59.51 0 1.02-.2 1.41-.59l7.78-7.78 2.81-2.81c.8-.78.8-2.07 0-2.86zM5.41 20L4 18.59l7.72-7.72 1.47 1.35L5.41 20z\"/>\n",
              "  </svg>\n",
              "      </button>\n",
              "      \n",
              "  <style>\n",
              "    .colab-df-container {\n",
              "      display:flex;\n",
              "      flex-wrap:wrap;\n",
              "      gap: 12px;\n",
              "    }\n",
              "\n",
              "    .colab-df-convert {\n",
              "      background-color: #E8F0FE;\n",
              "      border: none;\n",
              "      border-radius: 50%;\n",
              "      cursor: pointer;\n",
              "      display: none;\n",
              "      fill: #1967D2;\n",
              "      height: 32px;\n",
              "      padding: 0 0 0 0;\n",
              "      width: 32px;\n",
              "    }\n",
              "\n",
              "    .colab-df-convert:hover {\n",
              "      background-color: #E2EBFA;\n",
              "      box-shadow: 0px 1px 2px rgba(60, 64, 67, 0.3), 0px 1px 3px 1px rgba(60, 64, 67, 0.15);\n",
              "      fill: #174EA6;\n",
              "    }\n",
              "\n",
              "    [theme=dark] .colab-df-convert {\n",
              "      background-color: #3B4455;\n",
              "      fill: #D2E3FC;\n",
              "    }\n",
              "\n",
              "    [theme=dark] .colab-df-convert:hover {\n",
              "      background-color: #434B5C;\n",
              "      box-shadow: 0px 1px 3px 1px rgba(0, 0, 0, 0.15);\n",
              "      filter: drop-shadow(0px 1px 2px rgba(0, 0, 0, 0.3));\n",
              "      fill: #FFFFFF;\n",
              "    }\n",
              "  </style>\n",
              "\n",
              "      <script>\n",
              "        const buttonEl =\n",
              "          document.querySelector('#df-f4b622ff-8049-45f1-8f11-425f5e21956e button.colab-df-convert');\n",
              "        buttonEl.style.display =\n",
              "          google.colab.kernel.accessAllowed ? 'block' : 'none';\n",
              "\n",
              "        async function convertToInteractive(key) {\n",
              "          const element = document.querySelector('#df-f4b622ff-8049-45f1-8f11-425f5e21956e');\n",
              "          const dataTable =\n",
              "            await google.colab.kernel.invokeFunction('convertToInteractive',\n",
              "                                                     [key], {});\n",
              "          if (!dataTable) return;\n",
              "\n",
              "          const docLinkHtml = 'Like what you see? Visit the ' +\n",
              "            '<a target=\"_blank\" href=https://colab.research.google.com/notebooks/data_table.ipynb>data table notebook</a>'\n",
              "            + ' to learn more about interactive tables.';\n",
              "          element.innerHTML = '';\n",
              "          dataTable['output_type'] = 'display_data';\n",
              "          await google.colab.output.renderOutput(dataTable, element);\n",
              "          const docLink = document.createElement('div');\n",
              "          docLink.innerHTML = docLinkHtml;\n",
              "          element.appendChild(docLink);\n",
              "        }\n",
              "      </script>\n",
              "    </div>\n",
              "  </div>\n",
              "  "
            ]
          },
          "metadata": {},
          "execution_count": 4
        }
      ]
    },
    {
      "cell_type": "code",
      "source": [
        "cats.info()"
      ],
      "metadata": {
        "colab": {
          "base_uri": "https://localhost:8080/"
        },
        "id": "5VBL4OTwJGem",
        "outputId": "93e5c4f9-d91e-4b5d-94b6-4fb2ca34a5d6"
      },
      "execution_count": null,
      "outputs": [
        {
          "output_type": "stream",
          "name": "stdout",
          "text": [
            "<class 'pandas.core.frame.DataFrame'>\n",
            "RangeIndex: 144 entries, 0 to 143\n",
            "Data columns (total 3 columns):\n",
            " #   Column  Non-Null Count  Dtype  \n",
            "---  ------  --------------  -----  \n",
            " 0   Sex     144 non-null    object \n",
            " 1   Bwt     144 non-null    float64\n",
            " 2   Hwt     144 non-null    float64\n",
            "dtypes: float64(2), object(1)\n",
            "memory usage: 3.5+ KB\n"
          ]
        }
      ]
    },
    {
      "cell_type": "code",
      "source": [
        "# 1) 가정 검증\n",
        "# cats의 Bwt의 정규성 검정 : Shapiro test\n",
        "#귀무가설 : 정규성을 가진다 \n",
        "#대립가설 : 정규성 x \n",
        "import scipy.stats as stats\n",
        "from scipy.stats import shapiro\n",
        "\n",
        "mu = 2.6 # 기준값\n",
        "shapiro(cats['Bwt'])"
      ],
      "metadata": {
        "colab": {
          "base_uri": "https://localhost:8080/"
        },
        "id": "y2JdpqaCJKzR",
        "outputId": "f890fa32-a7b1-4c67-a49a-30f5c1733931"
      },
      "execution_count": null,
      "outputs": [
        {
          "output_type": "execute_result",
          "data": {
            "text/plain": [
              "ShapiroResult(statistic=0.9518786668777466, pvalue=6.730228778906167e-05)"
            ]
          },
          "metadata": {},
          "execution_count": 6
        }
      ]
    },
    {
      "cell_type": "markdown",
      "source": [
        "pvalue가 유의수준 0.05보다 작으므로 귀무가설을 기각한다. 따라서 cats의 Bwt변수는 정규분포를 따르지 않는다.  \n",
        "정규분포를 따르지 않으므로 wilcox test로 T-검정을 진행한다."
      ],
      "metadata": {
        "id": "yGlJn9fdJiC6"
      }
    },
    {
      "cell_type": "code",
      "source": [
        "stats.wilcoxon(cats.Bwt - mu, alternative='two-sided')"
      ],
      "metadata": {
        "colab": {
          "base_uri": "https://localhost:8080/"
        },
        "id": "DCpGvbHqJhiF",
        "outputId": "06c19e16-170b-498b-de96-4544050338eb"
      },
      "execution_count": null,
      "outputs": [
        {
          "output_type": "execute_result",
          "data": {
            "text/plain": [
              "WilcoxonResult(statistic=3573.0, pvalue=0.02524520294814093)"
            ]
          },
          "metadata": {},
          "execution_count": 7
        }
      ]
    },
    {
      "cell_type": "markdown",
      "source": [
        "pvalue가 유의수준 0.05보다 작으므로 귀무가설을 기각한다. 따라서 cats의 Bwt 변수의 평균은 2.6과 다름을 알 수 있다. 즉 고양이들의 평균 몸무게는 2.6kg이 아니다. 실제로 표본의 평균을 2.7정도이며 데이터의 분포를 확인하면 고양이의 몸무게는 2.6kg보다 작은 쪽에 치우쳐져 있음을 알 수 있다."
      ],
      "metadata": {
        "id": "USx1aO59KIsm"
      }
    },
    {
      "cell_type": "code",
      "source": [
        "cats['Bwt'].mean()"
      ],
      "metadata": {
        "colab": {
          "base_uri": "https://localhost:8080/"
        },
        "id": "FUNVeIeSKuSQ",
        "outputId": "04552178-cddf-4525-d036-57b57f2801fb"
      },
      "execution_count": null,
      "outputs": [
        {
          "output_type": "execute_result",
          "data": {
            "text/plain": [
              "2.7236111111111114"
            ]
          },
          "metadata": {},
          "execution_count": 8
        }
      ]
    },
    {
      "cell_type": "code",
      "source": [
        "cats['Bwt'].hist()"
      ],
      "metadata": {
        "colab": {
          "base_uri": "https://localhost:8080/",
          "height": 449
        },
        "id": "nQcOTVW7KnX9",
        "outputId": "b4eaf6ea-d57a-4b7e-8013-32881f36a5bb"
      },
      "execution_count": null,
      "outputs": [
        {
          "output_type": "execute_result",
          "data": {
            "text/plain": [
              "<Axes: >"
            ]
          },
          "metadata": {},
          "execution_count": 9
        },
        {
          "output_type": "display_data",
          "data": {
            "text/plain": [
              "<Figure size 640x480 with 1 Axes>"
            ],
            "image/png": "[encoded data removed]"
          },
          "metadata": {}
        }
      ]
    },
    {
      "cell_type": "markdown",
      "source": [
        "### 2. 대응표본 T-검정 (Paired Sample T-test)\n",
        "- 단일모집단에서 두 번의 처리의 평균값을 서로 비교  \n",
        "\n",
        "1) 가정: 모집단의 관측값이 정규분포 만족  \n",
        "2) 가설  \n",
        "  - H0: 사전평균과 사후평균은 동일하다 $μ_x-μ_y=0$\n",
        "  - H1: 양측검정) $μ_x-μ_y!=0$\n",
        "  - or  우측검정) $μ_x-μ_y>0$\n",
        "  - or  좌측검정) $μ_x-μ_y<0$  \n",
        "\n",
        "3) 유의수준 $α$ 설정  \n",
        "4) 검정통계량 $t=\\frac{\\bar{X}-μ}{S/\\sqrt{n}}$ 계산하고 유의확률 p-value 계산 \n",
        "5) 결과 해석\n",
        "- p-value < $α$: 귀무가설 기각\n",
        "- p-value > $α$: 귀무가설 채택"
      ],
      "metadata": {
        "id": "nPfbcpS-KHht"
      }
    },
    {
      "cell_type": "markdown",
      "source": [
        "Q. 10명의 환자 대상 수면영양제 복용 전과 후의 수면시간 측정 (영양제가 효과가 있는지)"
      ],
      "metadata": {
        "id": "XyzZZS-2L8xN"
      }
    },
    {
      "cell_type": "code",
      "source": [
        "import pandas as pd\n",
        "data = {'before':[7,3,4,5,2,1,6,6,5,4],\n",
        "       'after':[8,4,5,6,2,3,6,8,6,5]}\n",
        "data = pd.DataFrame(data)\n",
        "data"
      ],
      "metadata": {
        "colab": {
          "base_uri": "https://localhost:8080/",
          "height": 363
        },
        "id": "GDJYokUYMIM8",
        "outputId": "89136f51-6002-4380-8dda-339758e0aa0b"
      },
      "execution_count": null,
      "outputs": [
        {
          "output_type": "execute_result",
          "data": {
            "text/plain": [
              "   before  after\n",
              "0       7      8\n",
              "1       3      4\n",
              "2       4      5\n",
              "3       5      6\n",
              "4       2      2\n",
              "5       1      3\n",
              "6       6      6\n",
              "7       6      8\n",
              "8       5      6\n",
              "9       4      5"
            ],
            "text/html": [
              "\n",
              "  <div id=\"df-61db020e-8468-4db2-af55-053e297c1863\">\n",
              "    <div class=\"colab-df-container\">\n",
              "      <div>\n",
              "<style scoped>\n",
              "    .dataframe tbody tr th:only-of-type {\n",
              "        vertical-align: middle;\n",
              "    }\n",
              "\n",
              "    .dataframe tbody tr th {\n",
              "        vertical-align: top;\n",
              "    }\n",
              "\n",
              "    .dataframe thead th {\n",
              "        text-align: right;\n",
              "    }\n",
              "</style>\n",
              "<table border=\"1\" class=\"dataframe\">\n",
              "  <thead>\n",
              "    <tr style=\"text-align: right;\">\n",
              "      <th></th>\n",
              "      <th>before</th>\n",
              "      <th>after</th>\n",
              "    </tr>\n",
              "  </thead>\n",
              "  <tbody>\n",
              "    <tr>\n",
              "      <th>0</th>\n",
              "      <td>7</td>\n",
              "      <td>8</td>\n",
              "    </tr>\n",
              "    <tr>\n",
              "      <th>1</th>\n",
              "      <td>3</td>\n",
              "      <td>4</td>\n",
              "    </tr>\n",
              "    <tr>\n",
              "      <th>2</th>\n",
              "      <td>4</td>\n",
              "      <td>5</td>\n",
              "    </tr>\n",
              "    <tr>\n",
              "      <th>3</th>\n",
              "      <td>5</td>\n",
              "      <td>6</td>\n",
              "    </tr>\n",
              "    <tr>\n",
              "      <th>4</th>\n",
              "      <td>2</td>\n",
              "      <td>2</td>\n",
              "    </tr>\n",
              "    <tr>\n",
              "      <th>5</th>\n",
              "      <td>1</td>\n",
              "      <td>3</td>\n",
              "    </tr>\n",
              "    <tr>\n",
              "      <th>6</th>\n",
              "      <td>6</td>\n",
              "      <td>6</td>\n",
              "    </tr>\n",
              "    <tr>\n",
              "      <th>7</th>\n",
              "      <td>6</td>\n",
              "      <td>8</td>\n",
              "    </tr>\n",
              "    <tr>\n",
              "      <th>8</th>\n",
              "      <td>5</td>\n",
              "      <td>6</td>\n",
              "    </tr>\n",
              "    <tr>\n",
              "      <th>9</th>\n",
              "      <td>4</td>\n",
              "      <td>5</td>\n",
              "    </tr>\n",
              "  </tbody>\n",
              "</table>\n",
              "</div>\n",
              "      <button class=\"colab-df-convert\" onclick=\"convertToInteractive('df-61db020e-8468-4db2-af55-053e297c1863')\"\n",
              "              title=\"Convert this dataframe to an interactive table.\"\n",
              "              style=\"display:none;\">\n",
              "        \n",
              "  <svg xmlns=\"http://www.w3.org/2000/svg\" height=\"24px\"viewBox=\"0 0 24 24\"\n",
              "       width=\"24px\">\n",
              "    <path d=\"M0 0h24v24H0V0z\" fill=\"none\"/>\n",
              "    <path d=\"M18.56 5.44l.94 2.06.94-2.06 2.06-.94-2.06-.94-.94-2.06-.94 2.06-2.06.94zm-11 1L8.5 8.5l.94-2.06 2.06-.94-2.06-.94L8.5 2.5l-.94 2.06-2.06.94zm10 10l.94 2.06.94-2.06 2.06-.94-2.06-.94-.94-2.06-.94 2.06-2.06.94z\"/><path d=\"M17.41 7.96l-1.37-1.37c-.4-.4-.92-.59-1.43-.59-.52 0-1.04.2-1.43.59L10.3 9.45l-7.72 7.72c-.78.78-.78 2.05 0 2.83L4 21.41c.39.39.9.59 1.41.59.51 0 1.02-.2 1.41-.59l7.78-7.78 2.81-2.81c.8-.78.8-2.07 0-2.86zM5.41 20L4 18.59l7.72-7.72 1.47 1.35L5.41 20z\"/>\n",
              "  </svg>\n",
              "      </button>\n",
              "      \n",
              "  <style>\n",
              "    .colab-df-container {\n",
              "      display:flex;\n",
              "      flex-wrap:wrap;\n",
              "      gap: 12px;\n",
              "    }\n",
              "\n",
              "    .colab-df-convert {\n",
              "      background-color: #E8F0FE;\n",
              "      border: none;\n",
              "      border-radius: 50%;\n",
              "      cursor: pointer;\n",
              "      display: none;\n",
              "      fill: #1967D2;\n",
              "      height: 32px;\n",
              "      padding: 0 0 0 0;\n",
              "      width: 32px;\n",
              "    }\n",
              "\n",
              "    .colab-df-convert:hover {\n",
              "      background-color: #E2EBFA;\n",
              "      box-shadow: 0px 1px 2px rgba(60, 64, 67, 0.3), 0px 1px 3px 1px rgba(60, 64, 67, 0.15);\n",
              "      fill: #174EA6;\n",
              "    }\n",
              "\n",
              "    [theme=dark] .colab-df-convert {\n",
              "      background-color: #3B4455;\n",
              "      fill: #D2E3FC;\n",
              "    }\n",
              "\n",
              "    [theme=dark] .colab-df-convert:hover {\n",
              "      background-color: #434B5C;\n",
              "      box-shadow: 0px 1px 3px 1px rgba(0, 0, 0, 0.15);\n",
              "      filter: drop-shadow(0px 1px 2px rgba(0, 0, 0, 0.3));\n",
              "      fill: #FFFFFF;\n",
              "    }\n",
              "  </style>\n",
              "\n",
              "      <script>\n",
              "        const buttonEl =\n",
              "          document.querySelector('#df-61db020e-8468-4db2-af55-053e297c1863 button.colab-df-convert');\n",
              "        buttonEl.style.display =\n",
              "          google.colab.kernel.accessAllowed ? 'block' : 'none';\n",
              "\n",
              "        async function convertToInteractive(key) {\n",
              "          const element = document.querySelector('#df-61db020e-8468-4db2-af55-053e297c1863');\n",
              "          const dataTable =\n",
              "            await google.colab.kernel.invokeFunction('convertToInteractive',\n",
              "                                                     [key], {});\n",
              "          if (!dataTable) return;\n",
              "\n",
              "          const docLinkHtml = 'Like what you see? Visit the ' +\n",
              "            '<a target=\"_blank\" href=https://colab.research.google.com/notebooks/data_table.ipynb>data table notebook</a>'\n",
              "            + ' to learn more about interactive tables.';\n",
              "          element.innerHTML = '';\n",
              "          dataTable['output_type'] = 'display_data';\n",
              "          await google.colab.output.renderOutput(dataTable, element);\n",
              "          const docLink = document.createElement('div');\n",
              "          docLink.innerHTML = docLinkHtml;\n",
              "          element.appendChild(docLink);\n",
              "        }\n",
              "      </script>\n",
              "    </div>\n",
              "  </div>\n",
              "  "
            ]
          },
          "metadata": {},
          "execution_count": 10
        }
      ]
    },
    {
      "cell_type": "code",
      "source": [
        "data.mean()"
      ],
      "metadata": {
        "colab": {
          "base_uri": "https://localhost:8080/"
        },
        "id": "N5pc54DUMM8u",
        "outputId": "6c109064-6ae7-47b5-ec30-f13409276d41"
      },
      "execution_count": null,
      "outputs": [
        {
          "output_type": "execute_result",
          "data": {
            "text/plain": [
              "before    4.3\n",
              "after     5.3\n",
              "dtype: float64"
            ]
          },
          "metadata": {},
          "execution_count": 11
        }
      ]
    },
    {
      "cell_type": "code",
      "source": [
        "# after가 before보다 크다\n",
        "# 앞에 값이 기준\n",
        "stats.ttest_rel(data['after'],data['before'],alternative='greater')"
      ],
      "metadata": {
        "colab": {
          "base_uri": "https://localhost:8080/"
        },
        "id": "CeOirleKMPqu",
        "outputId": "c0fb13ed-09e4-4164-c4e2-1c78f7d3b052"
      },
      "execution_count": null,
      "outputs": [
        {
          "output_type": "execute_result",
          "data": {
            "text/plain": [
              "TtestResult(statistic=4.743416490252569, pvalue=0.0005269356285082764, df=9)"
            ]
          },
          "metadata": {},
          "execution_count": 12
        }
      ]
    },
    {
      "cell_type": "markdown",
      "source": [
        "pvalue가 유의수준 0.05보다 작으므로 귀무가설을 기각한다. 따라서 사전확률보다 사후확률이 더 크다. 즉, 영양제를 먹기 전보다 먹은 후 수면시간이 증가하여 영양제에 효과가 있음을 알 수 있다."
      ],
      "metadata": {
        "id": "DmjR3NldMTNH"
      }
    },
    {
      "cell_type": "markdown",
      "source": [
        "### 3. 독립표본 T-검정 (Independent Sample T-test)\n",
        "- 두 개의 독립된 모집단의 평균값을 서로 비교  \n",
        "- 독립표본 t검정과 대응표본 t검정의 차이\n",
        "\n",
        "|독립표본|대응표본|\n",
        "|-|-|\n",
        "|1. 조사 대상 개체가 다름 | 조사 대상 개체가 같음\n",
        "2. 두 표본의 숫자 다를 수 있음 | 반드시 짝을 이룸\n",
        "3. 다른 집단을 비교 | 전후 개념이 있는 경우가 많음\n",
        "4. 두 표본이 서로 독립 | 두 표본이 독립이 아님\n",
        "\n",
        "<br>\n",
        "\n",
        "1) 가정\n",
        "  - 두 모집단은 정규분포를 만족(정규성)  \n",
        "  - 두 모집단의 분산이 서로 같음(등분산성)\n",
        "  - 독립변수는 범주형, 종속변수는 연속형\n",
        "\n",
        "2) 가설  \n",
        "  - H0: 두 모집단의 평균은 동일하다 $μ_1=μ_2$\n",
        "  - H1: 양측검정) $μ_1!=μ_2$\n",
        "  - or  우측검정) $μ_1>μ_2$\n",
        "  - or  좌측검정) $μ_1<μ_2$  \n",
        "\n",
        "3) 유의수준 $α$ 설정  \n",
        "4) 검정통계량 계산하고 유의확률 p-value 계산 \n",
        "\n",
        "5) 결과 해석\n",
        "- p-value < $α$: 귀무가설 기각\n",
        "- p-value > $α$: 귀무가설 채택"
      ],
      "metadata": {
        "id": "AvMgvPGAMk5L"
      }
    },
    {
      "cell_type": "markdown",
      "source": [
        "Q. 고양이 성별에 따른 몸무게 차이가 있는지 검정"
      ],
      "metadata": {
        "id": "16wnb6ypNgyZ"
      }
    },
    {
      "cell_type": "code",
      "source": [
        "male_bwt = cats.loc[cats.Sex=='M', 'Bwt']\n",
        "female_bwt = cats.loc[cats.Sex=='F', 'Bwt']"
      ],
      "metadata": {
        "id": "DxiCvTylOOFw"
      },
      "execution_count": null,
      "outputs": []
    },
    {
      "cell_type": "code",
      "source": [
        "# 정규성 검정\n",
        "import scipy.stats as stats\n",
        "from scipy.stats import shapiro\n",
        "\n",
        "print(stats.shapiro(cats.Bwt))"
      ],
      "metadata": {
        "colab": {
          "base_uri": "https://localhost:8080/"
        },
        "id": "YzPfLCjHNYm2",
        "outputId": "9c5714cf-e18f-41a6-aeba-d525dcb58f09"
      },
      "execution_count": null,
      "outputs": [
        {
          "output_type": "stream",
          "name": "stdout",
          "text": [
            "ShapiroResult(statistic=0.9518786668777466, pvalue=6.730228778906167e-05)\n"
          ]
        }
      ]
    },
    {
      "cell_type": "markdown",
      "source": [
        "pvalue가 유의수준 0.05보다 작으므로 귀무가설을 기각한다. 따라서 고양이의 몸무게 데이터는 정규분포를 따르지 않는다. 이 경우 wilcox test로 T-검정을 진행한다.\n",
        "\n",
        "\n",
        "하지만 실습을 위해 정규분포를 따른다고 가정하고 다음 단계를 진행해본다.  \n",
        "등분산성 검정의 가설은 '등분성을 만족한다'이고 대립가설을 '등분성을 만족하지 않는다'이다."
      ],
      "metadata": {
        "id": "QdWj1UODtGIe"
      }
    },
    {
      "cell_type": "code",
      "source": [
        "# 등분산성 검정\n",
        "stats.levene(male_bwt, female_bwt)"
      ],
      "metadata": {
        "colab": {
          "base_uri": "https://localhost:8080/"
        },
        "id": "I7G94X0Fs3Jp",
        "outputId": "c6c01928-cda7-49e7-fa1b-71a2aaa88113"
      },
      "execution_count": null,
      "outputs": [
        {
          "output_type": "execute_result",
          "data": {
            "text/plain": [
              "LeveneResult(statistic=19.43101190877999, pvalue=2.0435285255189404e-05)"
            ]
          },
          "metadata": {},
          "execution_count": 18
        }
      ]
    },
    {
      "cell_type": "markdown",
      "source": [
        "pvalue가 유의수준 0.05보다 작으므로 귀무가설을 기각하여 두 분포는 등분산성을 만족하지 않는다. 즉, 성별에 따른 몸무게가 등분산성을 만족하지 않는다. 따라서 T-test를 진행할 때 equal_var=False 조건을 추가해준다."
      ],
      "metadata": {
        "id": "9Pa83O3etxju"
      }
    },
    {
      "cell_type": "code",
      "source": [
        "stats.ttest_ind(female_bwt, male_bwt, equal_var=False)"
      ],
      "metadata": {
        "colab": {
          "base_uri": "https://localhost:8080/"
        },
        "id": "yTrReQkPtnvn",
        "outputId": "cb0f0ed1-6a79-4168-9051-b495775b5583"
      },
      "execution_count": null,
      "outputs": [
        {
          "output_type": "execute_result",
          "data": {
            "text/plain": [
              "Ttest_indResult(statistic=-8.70948849909559, pvalue=8.831034455859356e-15)"
            ]
          },
          "metadata": {},
          "execution_count": 20
        }
      ]
    },
    {
      "cell_type": "markdown",
      "source": [
        "pvalue가 유의수준 0.05보다 작으므로 고양이들은 성별에 따라 몸무게에 통계적으로 차이가 있다. 실제로 표본평균을 구해보면 암컷 고양이의 몸무게 평균은 2.36kg, 수컷 고양이의 몸무게 평균은 2.90kg이다."
      ],
      "metadata": {
        "id": "iFuxUj6suOoN"
      }
    },
    {
      "cell_type": "code",
      "source": [
        "print(female_bwt.mean())\n",
        "print(male_bwt.mean())"
      ],
      "metadata": {
        "colab": {
          "base_uri": "https://localhost:8080/"
        },
        "id": "HIuka9o1uDVh",
        "outputId": "371cce70-d0d5-41ed-8f41-5e5443166b1b"
      },
      "execution_count": null,
      "outputs": [
        {
          "output_type": "stream",
          "name": "stdout",
          "text": [
            "2.359574468085107\n",
            "2.8999999999999995\n"
          ]
        }
      ]
    },
    {
      "cell_type": "markdown",
      "source": [
        "# 범주형 자료분석\n",
        "- 척도 종류\n",
        "  - 명목척도(범주척도): 최빈수, 도수, 퍼센트 / 성별, 종교\n",
        "  - 순위척도(서열척도): 중위수, 백분위수, 켄달의 타우, 스피어만 순위상관계수 / 성적석차, 선호순위\n",
        "  - 구간척도(등간척도): 평균, 표준편차, 피어슨 상관계수 / 온도, 주가지수, 지능지수\n",
        "  - 비율척도(비례척도): 기하평균, 변동계수 / 무게, 소득, 나이, 투표율\n",
        "\n",
        "- 관계분석\n",
        "  - 연속형 변수 간의 선형 연관성: 상관계수\n",
        "  - 범주형 변수 간의 관계: 카이제곱(교차분석)\n",
        "    - 독립성 검정, 동일성 검정, 적합성 검정\n",
        "\n",
        "\n",
        "|결합빈도|사건발생|사건미발생|\n",
        "|-|-|-|\n",
        "|A|$n_1$|$n_2$|\n",
        "|B|$n_3$|$n_4$|\n",
        "\n",
        "|결합확률|사건발생|사건미발생|\n",
        "|-|-|-|\n",
        "|A|$p_1$|$1-p_1$|\n",
        "|B|$p_2$|$1-p_2$|\n",
        "\n",
        "- 오즈비와 상대비율\n",
        "  - 결합빈도\n",
        "    - 오즈비: $\\frac{n_1/n_2}{n_3/n_4} $  \n",
        "    - 상대비율: $ \\frac{n_1}{n_1+n_2}/\\frac{n_3}{n_3+n_4} $\n",
        "\n",
        "  - 결합확률\n",
        "      - 오즈비: $ \\frac{p_1}{1-p_1}/\\frac{p_2}{1-p_2} $\n",
        "      - 상대비율: $ \\frac{p_1}{p_2} $\n",
        "\n",
        "### 1. 독립성 검정\n",
        "- 두 범주형 변수 간에 연관 있는지(종속인지) 없는지 (독립인지) 검정\n",
        "- 예시\n",
        "  - 음주와 흡연 사이 연간성\n",
        "  - 성별과 흡연 사이 관련성\n",
        "  - 혈압(고혈압/정상/저혈압)과 몸무게(비만/정상/저체중)은 독립인지\n",
        "\n",
        "1) 교차표 작성  \n",
        "\n",
        "|A\\B|B1| B2| ..| Bc| 합계|\n",
        "|-|-|-|-|-|-|\n",
        "|A1|O11|O12|..|O1c|O1|\n",
        "|A2|O21|O22|..|O2c|O2|\n",
        "|:|:|||:|:|\n",
        "|Ar|Or1|Or2|..|Orc|Or|\n",
        "|합계|O1|O2|..|Oc|n|\n",
        "\n",
        "2) 가설 설정\n",
        "- H0: A와 B는 독립\n",
        "- H1: A와 B는 독립이 아니다\n",
        "\n",
        "3) 기대도수 $E_{ij}=\\frac{O_i * O_j}{n}$\n",
        "- 기대도수가 0을 포함하거나 5보다 작은 셀이 전체의 20%를 초과하면 안됨\n",
        "\n",
        "4) 카이제곱 검정통계량\n",
        "- $χ^2 = ∑^r_{i=1} ∑^c_{j=1} \\frac{(O_{ij}-E_{ij})^2}{E_ij} ∼ χ^2_{(r-1)(c-1)} $\n",
        "\n",
        "5) 결과해석\n",
        "- $χ^2 ≥ χ^2_{(r-1)(c-1)} $ 귀무가설 기각\n",
        "- $χ^2 < χ^2_{(r-1)(c-1)} $ 귀무가설 채택\n"
      ],
      "metadata": {
        "id": "1ycJH-e8elxQ"
      }
    },
    {
      "cell_type": "markdown",
      "source": [
        "Q. titanic데이터에서 좌석등급(class)과 생존 여부(survived)가 서로 독립인지 검정"
      ],
      "metadata": {
        "id": "ivKpoGt-K5Ik"
      }
    },
    {
      "cell_type": "code",
      "source": [
        "import pandas as pd\n",
        "df_titanic = pd.read_csv('/content/drive/MyDrive/Colab Notebooks/adp_class101/data/titanic.csv')\n",
        "df_titanic.head()"
      ],
      "metadata": {
        "colab": {
          "base_uri": "https://localhost:8080/",
          "height": 270
        },
        "id": "xkEOsfmlLVEk",
        "outputId": "0fa7a9ae-0945-42b1-843b-10ec3097a0c8"
      },
      "execution_count": null,
      "outputs": [
        {
          "output_type": "execute_result",
          "data": {
            "text/plain": [
              "   survived  pclass     sex   age  sibsp  parch     fare embarked  class  \\\n",
              "0         0       3    male  22.0      1      0   7.2500        S  Third   \n",
              "1         1       1  female  38.0      1      0  71.2833        C  First   \n",
              "2         1       3  female  26.0      0      0   7.9250        S  Third   \n",
              "3         1       1  female  35.0      1      0  53.1000        S  First   \n",
              "4         0       3    male  35.0      0      0   8.0500        S  Third   \n",
              "\n",
              "   adult_male  embark_town  \n",
              "0        True  Southampton  \n",
              "1       False    Cherbourg  \n",
              "2       False  Southampton  \n",
              "3       False  Southampton  \n",
              "4        True  Southampton  "
            ],
            "text/html": [
              "\n",
              "  <div id=\"df-d98ef73b-7f47-4259-a6c2-0ec6f6a70fb1\">\n",
              "    <div class=\"colab-df-container\">\n",
              "      <div>\n",
              "<style scoped>\n",
              "    .dataframe tbody tr th:only-of-type {\n",
              "        vertical-align: middle;\n",
              "    }\n",
              "\n",
              "    .dataframe tbody tr th {\n",
              "        vertical-align: top;\n",
              "    }\n",
              "\n",
              "    .dataframe thead th {\n",
              "        text-align: right;\n",
              "    }\n",
              "</style>\n",
              "<table border=\"1\" class=\"dataframe\">\n",
              "  <thead>\n",
              "    <tr style=\"text-align: right;\">\n",
              "      <th></th>\n",
              "      <th>survived</th>\n",
              "      <th>pclass</th>\n",
              "      <th>sex</th>\n",
              "      <th>age</th>\n",
              "      <th>sibsp</th>\n",
              "      <th>parch</th>\n",
              "      <th>fare</th>\n",
              "      <th>embarked</th>\n",
              "      <th>class</th>\n",
              "      <th>adult_male</th>\n",
              "      <th>embark_town</th>\n",
              "    </tr>\n",
              "  </thead>\n",
              "  <tbody>\n",
              "    <tr>\n",
              "      <th>0</th>\n",
              "      <td>0</td>\n",
              "      <td>3</td>\n",
              "      <td>male</td>\n",
              "      <td>22.0</td>\n",
              "      <td>1</td>\n",
              "      <td>0</td>\n",
              "      <td>7.2500</td>\n",
              "      <td>S</td>\n",
              "      <td>Third</td>\n",
              "      <td>True</td>\n",
              "      <td>Southampton</td>\n",
              "    </tr>\n",
              "    <tr>\n",
              "      <th>1</th>\n",
              "      <td>1</td>\n",
              "      <td>1</td>\n",
              "      <td>female</td>\n",
              "      <td>38.0</td>\n",
              "      <td>1</td>\n",
              "      <td>0</td>\n",
              "      <td>71.2833</td>\n",
              "      <td>C</td>\n",
              "      <td>First</td>\n",
              "      <td>False</td>\n",
              "      <td>Cherbourg</td>\n",
              "    </tr>\n",
              "    <tr>\n",
              "      <th>2</th>\n",
              "      <td>1</td>\n",
              "      <td>3</td>\n",
              "      <td>female</td>\n",
              "      <td>26.0</td>\n",
              "      <td>0</td>\n",
              "      <td>0</td>\n",
              "      <td>7.9250</td>\n",
              "      <td>S</td>\n",
              "      <td>Third</td>\n",
              "      <td>False</td>\n",
              "      <td>Southampton</td>\n",
              "    </tr>\n",
              "    <tr>\n",
              "      <th>3</th>\n",
              "      <td>1</td>\n",
              "      <td>1</td>\n",
              "      <td>female</td>\n",
              "      <td>35.0</td>\n",
              "      <td>1</td>\n",
              "      <td>0</td>\n",
              "      <td>53.1000</td>\n",
              "      <td>S</td>\n",
              "      <td>First</td>\n",
              "      <td>False</td>\n",
              "      <td>Southampton</td>\n",
              "    </tr>\n",
              "    <tr>\n",
              "      <th>4</th>\n",
              "      <td>0</td>\n",
              "      <td>3</td>\n",
              "      <td>male</td>\n",
              "      <td>35.0</td>\n",
              "      <td>0</td>\n",
              "      <td>0</td>\n",
              "      <td>8.0500</td>\n",
              "      <td>S</td>\n",
              "      <td>Third</td>\n",
              "      <td>True</td>\n",
              "      <td>Southampton</td>\n",
              "    </tr>\n",
              "  </tbody>\n",
              "</table>\n",
              "</div>\n",
              "      <button class=\"colab-df-convert\" onclick=\"convertToInteractive('df-d98ef73b-7f47-4259-a6c2-0ec6f6a70fb1')\"\n",
              "              title=\"Convert this dataframe to an interactive table.\"\n",
              "              style=\"display:none;\">\n",
              "        \n",
              "  <svg xmlns=\"http://www.w3.org/2000/svg\" height=\"24px\"viewBox=\"0 0 24 24\"\n",
              "       width=\"24px\">\n",
              "    <path d=\"M0 0h24v24H0V0z\" fill=\"none\"/>\n",
              "    <path d=\"M18.56 5.44l.94 2.06.94-2.06 2.06-.94-2.06-.94-.94-2.06-.94 2.06-2.06.94zm-11 1L8.5 8.5l.94-2.06 2.06-.94-2.06-.94L8.5 2.5l-.94 2.06-2.06.94zm10 10l.94 2.06.94-2.06 2.06-.94-2.06-.94-.94-2.06-.94 2.06-2.06.94z\"/><path d=\"M17.41 7.96l-1.37-1.37c-.4-.4-.92-.59-1.43-.59-.52 0-1.04.2-1.43.59L10.3 9.45l-7.72 7.72c-.78.78-.78 2.05 0 2.83L4 21.41c.39.39.9.59 1.41.59.51 0 1.02-.2 1.41-.59l7.78-7.78 2.81-2.81c.8-.78.8-2.07 0-2.86zM5.41 20L4 18.59l7.72-7.72 1.47 1.35L5.41 20z\"/>\n",
              "  </svg>\n",
              "      </button>\n",
              "      \n",
              "  <style>\n",
              "    .colab-df-container {\n",
              "      display:flex;\n",
              "      flex-wrap:wrap;\n",
              "      gap: 12px;\n",
              "    }\n",
              "\n",
              "    .colab-df-convert {\n",
              "      background-color: #E8F0FE;\n",
              "      border: none;\n",
              "      border-radius: 50%;\n",
              "      cursor: pointer;\n",
              "      display: none;\n",
              "      fill: #1967D2;\n",
              "      height: 32px;\n",
              "      padding: 0 0 0 0;\n",
              "      width: 32px;\n",
              "    }\n",
              "\n",
              "    .colab-df-convert:hover {\n",
              "      background-color: #E2EBFA;\n",
              "      box-shadow: 0px 1px 2px rgba(60, 64, 67, 0.3), 0px 1px 3px 1px rgba(60, 64, 67, 0.15);\n",
              "      fill: #174EA6;\n",
              "    }\n",
              "\n",
              "    [theme=dark] .colab-df-convert {\n",
              "      background-color: #3B4455;\n",
              "      fill: #D2E3FC;\n",
              "    }\n",
              "\n",
              "    [theme=dark] .colab-df-convert:hover {\n",
              "      background-color: #434B5C;\n",
              "      box-shadow: 0px 1px 3px 1px rgba(0, 0, 0, 0.15);\n",
              "      filter: drop-shadow(0px 1px 2px rgba(0, 0, 0, 0.3));\n",
              "      fill: #FFFFFF;\n",
              "    }\n",
              "  </style>\n",
              "\n",
              "      <script>\n",
              "        const buttonEl =\n",
              "          document.querySelector('#df-d98ef73b-7f47-4259-a6c2-0ec6f6a70fb1 button.colab-df-convert');\n",
              "        buttonEl.style.display =\n",
              "          google.colab.kernel.accessAllowed ? 'block' : 'none';\n",
              "\n",
              "        async function convertToInteractive(key) {\n",
              "          const element = document.querySelector('#df-d98ef73b-7f47-4259-a6c2-0ec6f6a70fb1');\n",
              "          const dataTable =\n",
              "            await google.colab.kernel.invokeFunction('convertToInteractive',\n",
              "                                                     [key], {});\n",
              "          if (!dataTable) return;\n",
              "\n",
              "          const docLinkHtml = 'Like what you see? Visit the ' +\n",
              "            '<a target=\"_blank\" href=https://colab.research.google.com/notebooks/data_table.ipynb>data table notebook</a>'\n",
              "            + ' to learn more about interactive tables.';\n",
              "          element.innerHTML = '';\n",
              "          dataTable['output_type'] = 'display_data';\n",
              "          await google.colab.output.renderOutput(dataTable, element);\n",
              "          const docLink = document.createElement('div');\n",
              "          docLink.innerHTML = docLinkHtml;\n",
              "          element.appendChild(docLink);\n",
              "        }\n",
              "      </script>\n",
              "    </div>\n",
              "  </div>\n",
              "  "
            ]
          },
          "metadata": {},
          "execution_count": 3
        }
      ]
    },
    {
      "cell_type": "code",
      "source": [
        "df_titanic.info()"
      ],
      "metadata": {
        "colab": {
          "base_uri": "https://localhost:8080/"
        },
        "id": "AtswQ1_2Lfh6",
        "outputId": "101ce2b6-e626-4701-c5bc-f65fb415d91d"
      },
      "execution_count": null,
      "outputs": [
        {
          "output_type": "stream",
          "name": "stdout",
          "text": [
            "<class 'pandas.core.frame.DataFrame'>\n",
            "RangeIndex: 891 entries, 0 to 890\n",
            "Data columns (total 11 columns):\n",
            " #   Column       Non-Null Count  Dtype  \n",
            "---  ------       --------------  -----  \n",
            " 0   survived     891 non-null    int64  \n",
            " 1   pclass       891 non-null    int64  \n",
            " 2   sex          891 non-null    object \n",
            " 3   age          714 non-null    float64\n",
            " 4   sibsp        891 non-null    int64  \n",
            " 5   parch        891 non-null    int64  \n",
            " 6   fare         891 non-null    float64\n",
            " 7   embarked     889 non-null    object \n",
            " 8   class        891 non-null    object \n",
            " 9   adult_male   891 non-null    bool   \n",
            " 10  embark_town  889 non-null    object \n",
            "dtypes: bool(1), float64(2), int64(4), object(4)\n",
            "memory usage: 70.6+ KB\n"
          ]
        }
      ]
    },
    {
      "cell_type": "code",
      "source": [
        "# 1) 교차표 작성\n",
        "table = pd.crosstab(df_titanic['class'], df_titanic['survived'])\n",
        "table"
      ],
      "metadata": {
        "id": "rCi2bIbiuly6",
        "colab": {
          "base_uri": "https://localhost:8080/",
          "height": 174
        },
        "outputId": "f8542b53-ccfd-4bfa-b725-433de4d337fd"
      },
      "execution_count": null,
      "outputs": [
        {
          "output_type": "execute_result",
          "data": {
            "text/plain": [
              "survived    0    1\n",
              "class             \n",
              "First      80  136\n",
              "Second     97   87\n",
              "Third     372  119"
            ],
            "text/html": [
              "\n",
              "  <div id=\"df-889bea82-7647-4f97-8cc1-4db29184d350\">\n",
              "    <div class=\"colab-df-container\">\n",
              "      <div>\n",
              "<style scoped>\n",
              "    .dataframe tbody tr th:only-of-type {\n",
              "        vertical-align: middle;\n",
              "    }\n",
              "\n",
              "    .dataframe tbody tr th {\n",
              "        vertical-align: top;\n",
              "    }\n",
              "\n",
              "    .dataframe thead th {\n",
              "        text-align: right;\n",
              "    }\n",
              "</style>\n",
              "<table border=\"1\" class=\"dataframe\">\n",
              "  <thead>\n",
              "    <tr style=\"text-align: right;\">\n",
              "      <th>survived</th>\n",
              "      <th>0</th>\n",
              "      <th>1</th>\n",
              "    </tr>\n",
              "    <tr>\n",
              "      <th>class</th>\n",
              "      <th></th>\n",
              "      <th></th>\n",
              "    </tr>\n",
              "  </thead>\n",
              "  <tbody>\n",
              "    <tr>\n",
              "      <th>First</th>\n",
              "      <td>80</td>\n",
              "      <td>136</td>\n",
              "    </tr>\n",
              "    <tr>\n",
              "      <th>Second</th>\n",
              "      <td>97</td>\n",
              "      <td>87</td>\n",
              "    </tr>\n",
              "    <tr>\n",
              "      <th>Third</th>\n",
              "      <td>372</td>\n",
              "      <td>119</td>\n",
              "    </tr>\n",
              "  </tbody>\n",
              "</table>\n",
              "</div>\n",
              "      <button class=\"colab-df-convert\" onclick=\"convertToInteractive('df-889bea82-7647-4f97-8cc1-4db29184d350')\"\n",
              "              title=\"Convert this dataframe to an interactive table.\"\n",
              "              style=\"display:none;\">\n",
              "        \n",
              "  <svg xmlns=\"http://www.w3.org/2000/svg\" height=\"24px\"viewBox=\"0 0 24 24\"\n",
              "       width=\"24px\">\n",
              "    <path d=\"M0 0h24v24H0V0z\" fill=\"none\"/>\n",
              "    <path d=\"M18.56 5.44l.94 2.06.94-2.06 2.06-.94-2.06-.94-.94-2.06-.94 2.06-2.06.94zm-11 1L8.5 8.5l.94-2.06 2.06-.94-2.06-.94L8.5 2.5l-.94 2.06-2.06.94zm10 10l.94 2.06.94-2.06 2.06-.94-2.06-.94-.94-2.06-.94 2.06-2.06.94z\"/><path d=\"M17.41 7.96l-1.37-1.37c-.4-.4-.92-.59-1.43-.59-.52 0-1.04.2-1.43.59L10.3 9.45l-7.72 7.72c-.78.78-.78 2.05 0 2.83L4 21.41c.39.39.9.59 1.41.59.51 0 1.02-.2 1.41-.59l7.78-7.78 2.81-2.81c.8-.78.8-2.07 0-2.86zM5.41 20L4 18.59l7.72-7.72 1.47 1.35L5.41 20z\"/>\n",
              "  </svg>\n",
              "      </button>\n",
              "      \n",
              "  <style>\n",
              "    .colab-df-container {\n",
              "      display:flex;\n",
              "      flex-wrap:wrap;\n",
              "      gap: 12px;\n",
              "    }\n",
              "\n",
              "    .colab-df-convert {\n",
              "      background-color: #E8F0FE;\n",
              "      border: none;\n",
              "      border-radius: 50%;\n",
              "      cursor: pointer;\n",
              "      display: none;\n",
              "      fill: #1967D2;\n",
              "      height: 32px;\n",
              "      padding: 0 0 0 0;\n",
              "      width: 32px;\n",
              "    }\n",
              "\n",
              "    .colab-df-convert:hover {\n",
              "      background-color: #E2EBFA;\n",
              "      box-shadow: 0px 1px 2px rgba(60, 64, 67, 0.3), 0px 1px 3px 1px rgba(60, 64, 67, 0.15);\n",
              "      fill: #174EA6;\n",
              "    }\n",
              "\n",
              "    [theme=dark] .colab-df-convert {\n",
              "      background-color: #3B4455;\n",
              "      fill: #D2E3FC;\n",
              "    }\n",
              "\n",
              "    [theme=dark] .colab-df-convert:hover {\n",
              "      background-color: #434B5C;\n",
              "      box-shadow: 0px 1px 3px 1px rgba(0, 0, 0, 0.15);\n",
              "      filter: drop-shadow(0px 1px 2px rgba(0, 0, 0, 0.3));\n",
              "      fill: #FFFFFF;\n",
              "    }\n",
              "  </style>\n",
              "\n",
              "      <script>\n",
              "        const buttonEl =\n",
              "          document.querySelector('#df-889bea82-7647-4f97-8cc1-4db29184d350 button.colab-df-convert');\n",
              "        buttonEl.style.display =\n",
              "          google.colab.kernel.accessAllowed ? 'block' : 'none';\n",
              "\n",
              "        async function convertToInteractive(key) {\n",
              "          const element = document.querySelector('#df-889bea82-7647-4f97-8cc1-4db29184d350');\n",
              "          const dataTable =\n",
              "            await google.colab.kernel.invokeFunction('convertToInteractive',\n",
              "                                                     [key], {});\n",
              "          if (!dataTable) return;\n",
              "\n",
              "          const docLinkHtml = 'Like what you see? Visit the ' +\n",
              "            '<a target=\"_blank\" href=https://colab.research.google.com/notebooks/data_table.ipynb>data table notebook</a>'\n",
              "            + ' to learn more about interactive tables.';\n",
              "          element.innerHTML = '';\n",
              "          dataTable['output_type'] = 'display_data';\n",
              "          await google.colab.output.renderOutput(dataTable, element);\n",
              "          const docLink = document.createElement('div');\n",
              "          docLink.innerHTML = docLinkHtml;\n",
              "          element.appendChild(docLink);\n",
              "        }\n",
              "      </script>\n",
              "    </div>\n",
              "  </div>\n",
              "  "
            ]
          },
          "metadata": {},
          "execution_count": 5
        }
      ]
    },
    {
      "cell_type": "code",
      "source": [
        "# 2) 가설설정\n",
        "# 귀무가설: 서로 독립이다\n",
        "# 대립가설: 독립이 아니다\n",
        "\n",
        "# 3) 기대도수 5이상인지\n",
        "table_sum = table.copy()\n",
        "table_sum.loc['sum'] = table_sum.sum()\n",
        "table_sum['sum'] = table_sum.sum(axis=1)\n",
        "table_sum"
      ],
      "metadata": {
        "colab": {
          "base_uri": "https://localhost:8080/",
          "height": 206
        },
        "id": "P0Xmbc7jLKhX",
        "outputId": "c820ef59-8825-456f-f48a-c0785e78502c"
      },
      "execution_count": null,
      "outputs": [
        {
          "output_type": "execute_result",
          "data": {
            "text/plain": [
              "survived    0    1  sum\n",
              "class                  \n",
              "First      80  136  216\n",
              "Second     97   87  184\n",
              "Third     372  119  491\n",
              "sum       549  342  891"
            ],
            "text/html": [
              "\n",
              "  <div id=\"df-3c0c1bf2-e7a7-45cc-8724-c767deaafd8e\">\n",
              "    <div class=\"colab-df-container\">\n",
              "      <div>\n",
              "<style scoped>\n",
              "    .dataframe tbody tr th:only-of-type {\n",
              "        vertical-align: middle;\n",
              "    }\n",
              "\n",
              "    .dataframe tbody tr th {\n",
              "        vertical-align: top;\n",
              "    }\n",
              "\n",
              "    .dataframe thead th {\n",
              "        text-align: right;\n",
              "    }\n",
              "</style>\n",
              "<table border=\"1\" class=\"dataframe\">\n",
              "  <thead>\n",
              "    <tr style=\"text-align: right;\">\n",
              "      <th>survived</th>\n",
              "      <th>0</th>\n",
              "      <th>1</th>\n",
              "      <th>sum</th>\n",
              "    </tr>\n",
              "    <tr>\n",
              "      <th>class</th>\n",
              "      <th></th>\n",
              "      <th></th>\n",
              "      <th></th>\n",
              "    </tr>\n",
              "  </thead>\n",
              "  <tbody>\n",
              "    <tr>\n",
              "      <th>First</th>\n",
              "      <td>80</td>\n",
              "      <td>136</td>\n",
              "      <td>216</td>\n",
              "    </tr>\n",
              "    <tr>\n",
              "      <th>Second</th>\n",
              "      <td>97</td>\n",
              "      <td>87</td>\n",
              "      <td>184</td>\n",
              "    </tr>\n",
              "    <tr>\n",
              "      <th>Third</th>\n",
              "      <td>372</td>\n",
              "      <td>119</td>\n",
              "      <td>491</td>\n",
              "    </tr>\n",
              "    <tr>\n",
              "      <th>sum</th>\n",
              "      <td>549</td>\n",
              "      <td>342</td>\n",
              "      <td>891</td>\n",
              "    </tr>\n",
              "  </tbody>\n",
              "</table>\n",
              "</div>\n",
              "      <button class=\"colab-df-convert\" onclick=\"convertToInteractive('df-3c0c1bf2-e7a7-45cc-8724-c767deaafd8e')\"\n",
              "              title=\"Convert this dataframe to an interactive table.\"\n",
              "              style=\"display:none;\">\n",
              "        \n",
              "  <svg xmlns=\"http://www.w3.org/2000/svg\" height=\"24px\"viewBox=\"0 0 24 24\"\n",
              "       width=\"24px\">\n",
              "    <path d=\"M0 0h24v24H0V0z\" fill=\"none\"/>\n",
              "    <path d=\"M18.56 5.44l.94 2.06.94-2.06 2.06-.94-2.06-.94-.94-2.06-.94 2.06-2.06.94zm-11 1L8.5 8.5l.94-2.06 2.06-.94-2.06-.94L8.5 2.5l-.94 2.06-2.06.94zm10 10l.94 2.06.94-2.06 2.06-.94-2.06-.94-.94-2.06-.94 2.06-2.06.94z\"/><path d=\"M17.41 7.96l-1.37-1.37c-.4-.4-.92-.59-1.43-.59-.52 0-1.04.2-1.43.59L10.3 9.45l-7.72 7.72c-.78.78-.78 2.05 0 2.83L4 21.41c.39.39.9.59 1.41.59.51 0 1.02-.2 1.41-.59l7.78-7.78 2.81-2.81c.8-.78.8-2.07 0-2.86zM5.41 20L4 18.59l7.72-7.72 1.47 1.35L5.41 20z\"/>\n",
              "  </svg>\n",
              "      </button>\n",
              "      \n",
              "  <style>\n",
              "    .colab-df-container {\n",
              "      display:flex;\n",
              "      flex-wrap:wrap;\n",
              "      gap: 12px;\n",
              "    }\n",
              "\n",
              "    .colab-df-convert {\n",
              "      background-color: #E8F0FE;\n",
              "      border: none;\n",
              "      border-radius: 50%;\n",
              "      cursor: pointer;\n",
              "      display: none;\n",
              "      fill: #1967D2;\n",
              "      height: 32px;\n",
              "      padding: 0 0 0 0;\n",
              "      width: 32px;\n",
              "    }\n",
              "\n",
              "    .colab-df-convert:hover {\n",
              "      background-color: #E2EBFA;\n",
              "      box-shadow: 0px 1px 2px rgba(60, 64, 67, 0.3), 0px 1px 3px 1px rgba(60, 64, 67, 0.15);\n",
              "      fill: #174EA6;\n",
              "    }\n",
              "\n",
              "    [theme=dark] .colab-df-convert {\n",
              "      background-color: #3B4455;\n",
              "      fill: #D2E3FC;\n",
              "    }\n",
              "\n",
              "    [theme=dark] .colab-df-convert:hover {\n",
              "      background-color: #434B5C;\n",
              "      box-shadow: 0px 1px 3px 1px rgba(0, 0, 0, 0.15);\n",
              "      filter: drop-shadow(0px 1px 2px rgba(0, 0, 0, 0.3));\n",
              "      fill: #FFFFFF;\n",
              "    }\n",
              "  </style>\n",
              "\n",
              "      <script>\n",
              "        const buttonEl =\n",
              "          document.querySelector('#df-3c0c1bf2-e7a7-45cc-8724-c767deaafd8e button.colab-df-convert');\n",
              "        buttonEl.style.display =\n",
              "          google.colab.kernel.accessAllowed ? 'block' : 'none';\n",
              "\n",
              "        async function convertToInteractive(key) {\n",
              "          const element = document.querySelector('#df-3c0c1bf2-e7a7-45cc-8724-c767deaafd8e');\n",
              "          const dataTable =\n",
              "            await google.colab.kernel.invokeFunction('convertToInteractive',\n",
              "                                                     [key], {});\n",
              "          if (!dataTable) return;\n",
              "\n",
              "          const docLinkHtml = 'Like what you see? Visit the ' +\n",
              "            '<a target=\"_blank\" href=https://colab.research.google.com/notebooks/data_table.ipynb>data table notebook</a>'\n",
              "            + ' to learn more about interactive tables.';\n",
              "          element.innerHTML = '';\n",
              "          dataTable['output_type'] = 'display_data';\n",
              "          await google.colab.output.renderOutput(dataTable, element);\n",
              "          const docLink = document.createElement('div');\n",
              "          docLink.innerHTML = docLinkHtml;\n",
              "          element.appendChild(docLink);\n",
              "        }\n",
              "      </script>\n",
              "    </div>\n",
              "  </div>\n",
              "  "
            ]
          },
          "metadata": {},
          "execution_count": 10
        }
      ]
    },
    {
      "cell_type": "code",
      "source": [
        "table.index"
      ],
      "metadata": {
        "colab": {
          "base_uri": "https://localhost:8080/"
        },
        "id": "8p_chRWqP_Fx",
        "outputId": "a43abbd5-16f8-40cd-f549-6d0b2bf3fe27"
      },
      "execution_count": null,
      "outputs": [
        {
          "output_type": "execute_result",
          "data": {
            "text/plain": [
              "Index(['First', 'Second', 'Third'], dtype='object', name='class')"
            ]
          },
          "metadata": {},
          "execution_count": 17
        }
      ]
    },
    {
      "cell_type": "code",
      "source": [
        "table_sum.loc['Third', 'sum']"
      ],
      "metadata": {
        "colab": {
          "base_uri": "https://localhost:8080/"
        },
        "id": "bPBCP1ikP0JP",
        "outputId": "9141c78d-d676-4c62-dd5d-54e2a4f1ced4"
      },
      "execution_count": null,
      "outputs": [
        {
          "output_type": "execute_result",
          "data": {
            "text/plain": [
              "491"
            ]
          },
          "metadata": {},
          "execution_count": 20
        }
      ]
    },
    {
      "cell_type": "code",
      "source": [
        "# 모두 5 이상\n",
        "for idx in table.index:\n",
        "  for col in table.columns:\n",
        "    print(idx, col, table_sum.loc[idx, 'sum'] * table_sum.loc['sum', col] / table_sum.loc['sum', 'sum'])"
      ],
      "metadata": {
        "colab": {
          "base_uri": "https://localhost:8080/"
        },
        "id": "KqBObBEqMf6W",
        "outputId": "2ad038f2-9889-408e-fdc2-784387b0f628"
      },
      "execution_count": null,
      "outputs": [
        {
          "output_type": "stream",
          "name": "stdout",
          "text": [
            "First 0 133.0909090909091\n",
            "First 1 82.9090909090909\n",
            "Second 0 113.37373737373737\n",
            "Second 1 70.62626262626263\n",
            "Third 0 302.5353535353535\n",
            "Third 1 188.46464646464648\n"
          ]
        }
      ]
    },
    {
      "cell_type": "code",
      "source": [
        "# 4) 카이제곱 검정\n",
        "from scipy.stats import chi2_contingency\n",
        "\n",
        "chi, p, df, expect = chi2_contingency(table)\n",
        "\n",
        "print('Statistic:', chi)\n",
        "print('p-value:', p)\n",
        "print('df:', df)\n",
        "print('expect:\\n', expect)"
      ],
      "metadata": {
        "colab": {
          "base_uri": "https://localhost:8080/"
        },
        "id": "5Sn57AkNPmZI",
        "outputId": "99da00ee-86c4-45e1-e1a7-1d7fddf2c106"
      },
      "execution_count": null,
      "outputs": [
        {
          "output_type": "stream",
          "name": "stdout",
          "text": [
            "Statistic: 102.88898875696056\n",
            "p-value: 4.549251711298793e-23\n",
            "df: 2\n",
            "expect:\n",
            " [[133.09090909  82.90909091]\n",
            " [113.37373737  70.62626263]\n",
            " [302.53535354 188.46464646]]\n"
          ]
        }
      ]
    },
    {
      "cell_type": "markdown",
      "source": [
        "5) 결과 해석  \n",
        "p-value가 유의수준 0.05보다 작으므로 귀무가설을 기각한다. 따라서 좌석등급과 생존은 독립이 아니다."
      ],
      "metadata": {
        "id": "dL1XwwQPUfgT"
      }
    },
    {
      "cell_type": "markdown",
      "source": [
        "### 2. 동질성 검정\n",
        "- 여러 모집단이 서로 동일한 분포를 하는지 검정\n",
        "- 예시\n",
        "  - 직종에 따라 회사 만족도(만족/보통/불만)에 차이가 있는지\n",
        "  - 지역에 따라 정당 선호도에 차이가 있는지\n",
        "  - 인종에 따라 눈색깔에 차이가 있는지\n",
        "- 독립성 검정과 동일하게 검정"
      ],
      "metadata": {
        "id": "MNFjbFKJVCCy"
      }
    },
    {
      "cell_type": "markdown",
      "source": [
        "Q. class의 분포는 survived에 따라 차이가 있는지 검정\n",
        "\n",
        "귀무가설: class의 분포는 survived에 관계없이 동일하다.  \n",
        "대립가설: class의 분포는 survived에 따라 차이가 있다."
      ],
      "metadata": {
        "id": "DF8cgwFUV198"
      }
    },
    {
      "cell_type": "code",
      "source": [
        "chi, p, df, expect = chi2_contingency(table)"
      ],
      "metadata": {
        "id": "k_FDa6GNU-k6"
      },
      "execution_count": null,
      "outputs": []
    },
    {
      "cell_type": "code",
      "source": [
        "print('chi2: {}, p-value: {}, df: {}'.format(chi, p, df))"
      ],
      "metadata": {
        "colab": {
          "base_uri": "https://localhost:8080/"
        },
        "id": "0ox5MuC5WJVY",
        "outputId": "7ba4f42d-da35-4a46-e128-088793fe0a03"
      },
      "execution_count": null,
      "outputs": [
        {
          "output_type": "stream",
          "name": "stdout",
          "text": [
            "chi2: 102.88898875696056, p-value: 4.549251711298793e-23, df: 2\n"
          ]
        }
      ]
    },
    {
      "cell_type": "markdown",
      "source": [
        "p-value가 유의수준 0.05보다 작으므로 귀무가설을 기각할 수 있다. 따라서 class의 분포는 survived에 따라 차이가 있다."
      ],
      "metadata": {
        "id": "Q1HRyeOwWP08"
      }
    },
    {
      "cell_type": "markdown",
      "source": [
        "### 3. 적합성검정\n",
        "- 셋 이상의 모비율에 대한 검정\n",
        "- 단일표본에서 기대빈도와 관측빈도 간에 차이가 있는지\n",
        "- 예시\n",
        "  - 멘델의 법칙의 적합성 여부 검정\n",
        "  - 세 개의 문이 있을 때 쥐들이 문을 통과하는 확률이 1/3으로 동일한지 검정\n",
        "  - 주사위를 던지는 실험에서 나온는 눈의 수가 공정한지 검정 (1/6인지)\n",
        "\n",
        "1) 자료구조\n",
        "\n",
        "||1|2|..|k|합계|\n",
        "|-|-|-|-|-|-|\n",
        "|관측도수($O_i$)|O1|O2|..|Ok|n|\n",
        "|범주에 속할 확률($p_i$)|p1|p2|..|pk|1|\n",
        "\n",
        "2) 가설 설정\n",
        "- H0: p1=π1, p2=π2, .., pk=πk (π1, .., πk: 미리 설정된 값)\n",
        "- H1: H0가 아니다\n",
        "\n",
        "3) 기대도수 $E_i=nπ_i$\n",
        "\n",
        "4) 카이제곱 검정통계량\n",
        "- $χ^2 = ∑^k_{i=1} \\frac{(O_i-E_i)^2}{E_i} ∼ χ^2_{k-1}$\n",
        "\n",
        "5) 결과 해석\n",
        "- $χ^2 ≥ χ^2_{α,(k-1)} $ 귀무가설 기각\n",
        "- $χ^2 < χ^2_{α,(k-1)} $ 귀무가설 채택"
      ],
      "metadata": {
        "id": "8IpySkIsW7Jf"
      }
    },
    {
      "cell_type": "markdown",
      "source": [
        "Q. 전체 응답자 중 남자의 비율이 50%, 여자의 비율이 50%인지 검정"
      ],
      "metadata": {
        "id": "AUzRUxHxWe8o"
      }
    },
    {
      "cell_type": "code",
      "source": [
        "# 1) 자료구조\n",
        "table = df_titanic['sex'].value_counts()\n",
        "\n",
        "table_sum = pd.DataFrame(table).T\n",
        "table_sum.loc['p'] = table_sum.loc['sex']/table_sum.loc['sex'].sum()"
      ],
      "metadata": {
        "id": "US9T9obEZVD0"
      },
      "execution_count": null,
      "outputs": []
    },
    {
      "cell_type": "code",
      "source": [
        "table_sum"
      ],
      "metadata": {
        "colab": {
          "base_uri": "https://localhost:8080/",
          "height": 112
        },
        "id": "ovZVuOVrZ2WV",
        "outputId": "b0229a3d-6a11-4464-a427-6be29f031db6"
      },
      "execution_count": null,
      "outputs": [
        {
          "output_type": "execute_result",
          "data": {
            "text/plain": [
              "           male      female\n",
              "sex  577.000000  314.000000\n",
              "p      0.647587    0.352413"
            ],
            "text/html": [
              "\n",
              "  <div id=\"df-adacebf5-0e9f-43cc-8002-f1b0cbbbce7c\">\n",
              "    <div class=\"colab-df-container\">\n",
              "      <div>\n",
              "<style scoped>\n",
              "    .dataframe tbody tr th:only-of-type {\n",
              "        vertical-align: middle;\n",
              "    }\n",
              "\n",
              "    .dataframe tbody tr th {\n",
              "        vertical-align: top;\n",
              "    }\n",
              "\n",
              "    .dataframe thead th {\n",
              "        text-align: right;\n",
              "    }\n",
              "</style>\n",
              "<table border=\"1\" class=\"dataframe\">\n",
              "  <thead>\n",
              "    <tr style=\"text-align: right;\">\n",
              "      <th></th>\n",
              "      <th>male</th>\n",
              "      <th>female</th>\n",
              "    </tr>\n",
              "  </thead>\n",
              "  <tbody>\n",
              "    <tr>\n",
              "      <th>sex</th>\n",
              "      <td>577.000000</td>\n",
              "      <td>314.000000</td>\n",
              "    </tr>\n",
              "    <tr>\n",
              "      <th>p</th>\n",
              "      <td>0.647587</td>\n",
              "      <td>0.352413</td>\n",
              "    </tr>\n",
              "  </tbody>\n",
              "</table>\n",
              "</div>\n",
              "      <button class=\"colab-df-convert\" onclick=\"convertToInteractive('df-adacebf5-0e9f-43cc-8002-f1b0cbbbce7c')\"\n",
              "              title=\"Convert this dataframe to an interactive table.\"\n",
              "              style=\"display:none;\">\n",
              "        \n",
              "  <svg xmlns=\"http://www.w3.org/2000/svg\" height=\"24px\"viewBox=\"0 0 24 24\"\n",
              "       width=\"24px\">\n",
              "    <path d=\"M0 0h24v24H0V0z\" fill=\"none\"/>\n",
              "    <path d=\"M18.56 5.44l.94 2.06.94-2.06 2.06-.94-2.06-.94-.94-2.06-.94 2.06-2.06.94zm-11 1L8.5 8.5l.94-2.06 2.06-.94-2.06-.94L8.5 2.5l-.94 2.06-2.06.94zm10 10l.94 2.06.94-2.06 2.06-.94-2.06-.94-.94-2.06-.94 2.06-2.06.94z\"/><path d=\"M17.41 7.96l-1.37-1.37c-.4-.4-.92-.59-1.43-.59-.52 0-1.04.2-1.43.59L10.3 9.45l-7.72 7.72c-.78.78-.78 2.05 0 2.83L4 21.41c.39.39.9.59 1.41.59.51 0 1.02-.2 1.41-.59l7.78-7.78 2.81-2.81c.8-.78.8-2.07 0-2.86zM5.41 20L4 18.59l7.72-7.72 1.47 1.35L5.41 20z\"/>\n",
              "  </svg>\n",
              "      </button>\n",
              "      \n",
              "  <style>\n",
              "    .colab-df-container {\n",
              "      display:flex;\n",
              "      flex-wrap:wrap;\n",
              "      gap: 12px;\n",
              "    }\n",
              "\n",
              "    .colab-df-convert {\n",
              "      background-color: #E8F0FE;\n",
              "      border: none;\n",
              "      border-radius: 50%;\n",
              "      cursor: pointer;\n",
              "      display: none;\n",
              "      fill: #1967D2;\n",
              "      height: 32px;\n",
              "      padding: 0 0 0 0;\n",
              "      width: 32px;\n",
              "    }\n",
              "\n",
              "    .colab-df-convert:hover {\n",
              "      background-color: #E2EBFA;\n",
              "      box-shadow: 0px 1px 2px rgba(60, 64, 67, 0.3), 0px 1px 3px 1px rgba(60, 64, 67, 0.15);\n",
              "      fill: #174EA6;\n",
              "    }\n",
              "\n",
              "    [theme=dark] .colab-df-convert {\n",
              "      background-color: #3B4455;\n",
              "      fill: #D2E3FC;\n",
              "    }\n",
              "\n",
              "    [theme=dark] .colab-df-convert:hover {\n",
              "      background-color: #434B5C;\n",
              "      box-shadow: 0px 1px 3px 1px rgba(0, 0, 0, 0.15);\n",
              "      filter: drop-shadow(0px 1px 2px rgba(0, 0, 0, 0.3));\n",
              "      fill: #FFFFFF;\n",
              "    }\n",
              "  </style>\n",
              "\n",
              "      <script>\n",
              "        const buttonEl =\n",
              "          document.querySelector('#df-adacebf5-0e9f-43cc-8002-f1b0cbbbce7c button.colab-df-convert');\n",
              "        buttonEl.style.display =\n",
              "          google.colab.kernel.accessAllowed ? 'block' : 'none';\n",
              "\n",
              "        async function convertToInteractive(key) {\n",
              "          const element = document.querySelector('#df-adacebf5-0e9f-43cc-8002-f1b0cbbbce7c');\n",
              "          const dataTable =\n",
              "            await google.colab.kernel.invokeFunction('convertToInteractive',\n",
              "                                                     [key], {});\n",
              "          if (!dataTable) return;\n",
              "\n",
              "          const docLinkHtml = 'Like what you see? Visit the ' +\n",
              "            '<a target=\"_blank\" href=https://colab.research.google.com/notebooks/data_table.ipynb>data table notebook</a>'\n",
              "            + ' to learn more about interactive tables.';\n",
              "          element.innerHTML = '';\n",
              "          dataTable['output_type'] = 'display_data';\n",
              "          await google.colab.output.renderOutput(dataTable, element);\n",
              "          const docLink = document.createElement('div');\n",
              "          docLink.innerHTML = docLinkHtml;\n",
              "          element.appendChild(docLink);\n",
              "        }\n",
              "      </script>\n",
              "    </div>\n",
              "  </div>\n",
              "  "
            ]
          },
          "metadata": {},
          "execution_count": 32
        }
      ]
    },
    {
      "cell_type": "code",
      "source": [
        "# 2) 가설 설정\n",
        "# 귀무가설: 전체 응답자의 남여 비율은 각각 50%이다.\n",
        "# 대립가설: 남자와 여자의 비율은 50%가 아니다.\n",
        "\n",
        "# 3) 기대도수\n",
        "table.sum() * 0.5"
      ],
      "metadata": {
        "colab": {
          "base_uri": "https://localhost:8080/"
        },
        "id": "vhFk_zf5ZjZi",
        "outputId": "46766ad9-84d2-4c08-fe42-c4eeaf5e565c"
      },
      "execution_count": null,
      "outputs": [
        {
          "output_type": "execute_result",
          "data": {
            "text/plain": [
              "445.5"
            ]
          },
          "metadata": {},
          "execution_count": 33
        }
      ]
    },
    {
      "cell_type": "code",
      "source": [
        "# 4) 카이제곱 검정 \n",
        "from scipy.stats import chisquare\n",
        "chi = chisquare(table, f_exp=[445.5, 445.5])\n",
        "print(chi)"
      ],
      "metadata": {
        "colab": {
          "base_uri": "https://localhost:8080/"
        },
        "id": "HFDPxr-wamd1",
        "outputId": "75027fea-7d13-4efb-aa8e-92f536c8d948"
      },
      "execution_count": null,
      "outputs": [
        {
          "output_type": "stream",
          "name": "stdout",
          "text": [
            "Power_divergenceResult(statistic=77.63075196408529, pvalue=1.2422095313910336e-18)\n"
          ]
        }
      ]
    },
    {
      "cell_type": "markdown",
      "source": [
        "5) 결과 해석  \n",
        "p-value가 유의수준 0.05보다 작으므로 귀무가설을 기각한다. 남여의 비율은 각각 50%가 아님을 알 수 있다."
      ],
      "metadata": {
        "id": "eqgEaIo0aznZ"
      }
    },
    {
      "cell_type": "markdown",
      "source": [
        "# 분산분석 (ANOVA)\n",
        "- 집단의 수가 3개 이상인 경우 모평균 비교\n",
        "- F분포\n",
        "- 가정\n",
        "  1. 독립성: 임의의 오차 $e_{ij}$와 $e_{ \\hat{i} \\hat{j}}$는 서로 독립\n",
        "  2. 정규성: 오차 $e_{ij}$는 정규분포를 따름 (카이제곱검정 이용해서 확인)\n",
        "  3. 등분산성: 오차 $e_{ij}$의 분산은 $σ^2_E$으로 어떤 $i, j$에 대해서도 같다. (Hartley 검정 이용)\n",
        "\n",
        "### 1. 일원배치 분산분석(One-way ANOVA)\n",
        "- 하나의 특정한 변수가 종속변수에 영향 미치는지\n",
        "\n",
        "|구분|실험(범주형)|표본크기|합계|평균|\n",
        "|-|-|-|-|-|\n",
        "|$A_1$ | $x_{11}$ $x_{12}$ ...  $x_{1n_1}$| $n_1$ | $T_1$ | $\\bar{x_1}$|\n",
        "|$A_2$ | $x_{21}$ $x_{32}$ ...  $x_{2n_2}$| $n_2$ | $T_2$ | $\\bar{x_2}$|\n",
        "|:|:|:|:|:|\n",
        "|$A_k$ | $x_{k1}$ $x_{k2}$ ...  $x_{kn_k}$| $n_k$ | $T_k$ | $\\bar{x_k}$|\n",
        "|합계|||$T$|$\\bar{\\bar{x}}$|\n",
        "\n",
        "1) 가설설정\n",
        "- H0: $μ_1=μ_2=..=μ_k$\n",
        "      k개의 집단 간 모평균에 차이가 없다.\n",
        "- H1: 모든 $μ_i$가 같은 것은 아니다.\n",
        "\n",
        "2) 분산분석표\n",
        "\n",
        "||&emsp;&emsp;&emsp;&emsp;&emsp; 제곱합 &emsp;&emsp;&emsp;&emsp;&emsp; |자유도|&emsp;&emsp;평균제곱&emsp;&emsp;|&emsp;&emsp;&ensp;F&emsp;&emsp;&ensp;|\n",
        "|-|-|-|-|-|\n",
        "|표본간(처리)| $SSA=∑_i∑_j(\\bar{x_i}-\\bar{\\bar{x}})^2 $ | $k-1$ | $MSA=\\frac{SSA}{k-1}$ | $F=\\frac{MSA}{MSE}$ |\n",
        "|표본내(잔차)| $SSE=∑_i∑_j(x_{ij}-\\bar{x_i})^2 $ | $n-k$ | $MSE=\\frac{SSE}{n-k}$ ||\n",
        "|합계| $SST=∑_i∑_j(x_{ij}-\\bar{\\bar{x}})^2 $ | $n-1$ |||\n",
        "\n",
        "3) 결과\n",
        "- $F>F_{α,k-1,n-k}$면 H0 기각\n",
        "\n",
        "4) 사후 검정\n",
        "- 귀무가설이 기각되어 적어도 한 집단에서 평균의 차이가 있음이 통계적으로 증명되었을 때, 어떤 집단들에 대해 평균의 차이가 존재하는지 알아보는 방법\n",
        "- 종류: 던칸의 MRT, 피셔의 LSD, 튜키의 HSD\n",
        "- 두 집단씩 짝 지어 다중비교 수행\n",
        "- 귀무가설: 집단들 사이의 평균은 같다  \n",
        "  대립가설: 집단들 사이의 평균은 같지 않다.\n",
        "\n"
      ],
      "metadata": {
        "id": "aX__x7ndbVLO"
      }
    },
    {
      "cell_type": "markdown",
      "source": [
        "Q. iris의 종(Species)별로 꽃받침의 폭(Sepal.Width)의 평균이 같은지 다른지 검정"
      ],
      "metadata": {
        "id": "shuPe5sgrdgE"
      }
    },
    {
      "cell_type": "code",
      "source": [
        "import scipy.stats as stats\n",
        "import pandas as pd\n",
        "\n",
        "iris_data = pd.read_csv(\"/content/drive/MyDrive/Colab Notebooks/adp_class101/data/iris.csv\")\n",
        "iris_data.head(3)"
      ],
      "metadata": {
        "colab": {
          "base_uri": "https://localhost:8080/",
          "height": 143
        },
        "id": "tv7LHIO7sQ8b",
        "outputId": "c3293a95-7a38-449e-e2d7-cf9a198b6021"
      },
      "execution_count": null,
      "outputs": [
        {
          "output_type": "execute_result",
          "data": {
            "text/plain": [
              "   sepal length  sepal width  petal length  petal width       target\n",
              "0           5.1          3.5           1.4          0.2  Iris-setosa\n",
              "1           4.9          3.0           1.4          0.2  Iris-setosa\n",
              "2           4.7          3.2           1.3          0.2  Iris-setosa"
            ],
            "text/html": [
              "\n",
              "  <div id=\"df-d47bef0d-0c28-48c7-8b0c-0ee0893e400b\">\n",
              "    <div class=\"colab-df-container\">\n",
              "      <div>\n",
              "<style scoped>\n",
              "    .dataframe tbody tr th:only-of-type {\n",
              "        vertical-align: middle;\n",
              "    }\n",
              "\n",
              "    .dataframe tbody tr th {\n",
              "        vertical-align: top;\n",
              "    }\n",
              "\n",
              "    .dataframe thead th {\n",
              "        text-align: right;\n",
              "    }\n",
              "</style>\n",
              "<table border=\"1\" class=\"dataframe\">\n",
              "  <thead>\n",
              "    <tr style=\"text-align: right;\">\n",
              "      <th></th>\n",
              "      <th>sepal length</th>\n",
              "      <th>sepal width</th>\n",
              "      <th>petal length</th>\n",
              "      <th>petal width</th>\n",
              "      <th>target</th>\n",
              "    </tr>\n",
              "  </thead>\n",
              "  <tbody>\n",
              "    <tr>\n",
              "      <th>0</th>\n",
              "      <td>5.1</td>\n",
              "      <td>3.5</td>\n",
              "      <td>1.4</td>\n",
              "      <td>0.2</td>\n",
              "      <td>Iris-setosa</td>\n",
              "    </tr>\n",
              "    <tr>\n",
              "      <th>1</th>\n",
              "      <td>4.9</td>\n",
              "      <td>3.0</td>\n",
              "      <td>1.4</td>\n",
              "      <td>0.2</td>\n",
              "      <td>Iris-setosa</td>\n",
              "    </tr>\n",
              "    <tr>\n",
              "      <th>2</th>\n",
              "      <td>4.7</td>\n",
              "      <td>3.2</td>\n",
              "      <td>1.3</td>\n",
              "      <td>0.2</td>\n",
              "      <td>Iris-setosa</td>\n",
              "    </tr>\n",
              "  </tbody>\n",
              "</table>\n",
              "</div>\n",
              "      <button class=\"colab-df-convert\" onclick=\"convertToInteractive('df-d47bef0d-0c28-48c7-8b0c-0ee0893e400b')\"\n",
              "              title=\"Convert this dataframe to an interactive table.\"\n",
              "              style=\"display:none;\">\n",
              "        \n",
              "  <svg xmlns=\"http://www.w3.org/2000/svg\" height=\"24px\"viewBox=\"0 0 24 24\"\n",
              "       width=\"24px\">\n",
              "    <path d=\"M0 0h24v24H0V0z\" fill=\"none\"/>\n",
              "    <path d=\"M18.56 5.44l.94 2.06.94-2.06 2.06-.94-2.06-.94-.94-2.06-.94 2.06-2.06.94zm-11 1L8.5 8.5l.94-2.06 2.06-.94-2.06-.94L8.5 2.5l-.94 2.06-2.06.94zm10 10l.94 2.06.94-2.06 2.06-.94-2.06-.94-.94-2.06-.94 2.06-2.06.94z\"/><path d=\"M17.41 7.96l-1.37-1.37c-.4-.4-.92-.59-1.43-.59-.52 0-1.04.2-1.43.59L10.3 9.45l-7.72 7.72c-.78.78-.78 2.05 0 2.83L4 21.41c.39.39.9.59 1.41.59.51 0 1.02-.2 1.41-.59l7.78-7.78 2.81-2.81c.8-.78.8-2.07 0-2.86zM5.41 20L4 18.59l7.72-7.72 1.47 1.35L5.41 20z\"/>\n",
              "  </svg>\n",
              "      </button>\n",
              "      \n",
              "  <style>\n",
              "    .colab-df-container {\n",
              "      display:flex;\n",
              "      flex-wrap:wrap;\n",
              "      gap: 12px;\n",
              "    }\n",
              "\n",
              "    .colab-df-convert {\n",
              "      background-color: #E8F0FE;\n",
              "      border: none;\n",
              "      border-radius: 50%;\n",
              "      cursor: pointer;\n",
              "      display: none;\n",
              "      fill: #1967D2;\n",
              "      height: 32px;\n",
              "      padding: 0 0 0 0;\n",
              "      width: 32px;\n",
              "    }\n",
              "\n",
              "    .colab-df-convert:hover {\n",
              "      background-color: #E2EBFA;\n",
              "      box-shadow: 0px 1px 2px rgba(60, 64, 67, 0.3), 0px 1px 3px 1px rgba(60, 64, 67, 0.15);\n",
              "      fill: #174EA6;\n",
              "    }\n",
              "\n",
              "    [theme=dark] .colab-df-convert {\n",
              "      background-color: #3B4455;\n",
              "      fill: #D2E3FC;\n",
              "    }\n",
              "\n",
              "    [theme=dark] .colab-df-convert:hover {\n",
              "      background-color: #434B5C;\n",
              "      box-shadow: 0px 1px 3px 1px rgba(0, 0, 0, 0.15);\n",
              "      filter: drop-shadow(0px 1px 2px rgba(0, 0, 0, 0.3));\n",
              "      fill: #FFFFFF;\n",
              "    }\n",
              "  </style>\n",
              "\n",
              "      <script>\n",
              "        const buttonEl =\n",
              "          document.querySelector('#df-d47bef0d-0c28-48c7-8b0c-0ee0893e400b button.colab-df-convert');\n",
              "        buttonEl.style.display =\n",
              "          google.colab.kernel.accessAllowed ? 'block' : 'none';\n",
              "\n",
              "        async function convertToInteractive(key) {\n",
              "          const element = document.querySelector('#df-d47bef0d-0c28-48c7-8b0c-0ee0893e400b');\n",
              "          const dataTable =\n",
              "            await google.colab.kernel.invokeFunction('convertToInteractive',\n",
              "                                                     [key], {});\n",
              "          if (!dataTable) return;\n",
              "\n",
              "          const docLinkHtml = 'Like what you see? Visit the ' +\n",
              "            '<a target=\"_blank\" href=https://colab.research.google.com/notebooks/data_table.ipynb>data table notebook</a>'\n",
              "            + ' to learn more about interactive tables.';\n",
              "          element.innerHTML = '';\n",
              "          dataTable['output_type'] = 'display_data';\n",
              "          await google.colab.output.renderOutput(dataTable, element);\n",
              "          const docLink = document.createElement('div');\n",
              "          docLink.innerHTML = docLinkHtml;\n",
              "          element.appendChild(docLink);\n",
              "        }\n",
              "      </script>\n",
              "    </div>\n",
              "  </div>\n",
              "  "
            ]
          },
          "metadata": {},
          "execution_count": 3
        }
      ]
    },
    {
      "cell_type": "code",
      "source": [
        "iris_data.target.value_counts()"
      ],
      "metadata": {
        "colab": {
          "base_uri": "https://localhost:8080/"
        },
        "id": "o4jPXf_hs26P",
        "outputId": "17417da8-b425-4a1a-ad48-8ee3e88458e5"
      },
      "execution_count": null,
      "outputs": [
        {
          "output_type": "execute_result",
          "data": {
            "text/plain": [
              "Iris-setosa        50\n",
              "Iris-versicolor    50\n",
              "Iris-virginica     50\n",
              "Name: target, dtype: int64"
            ]
          },
          "metadata": {},
          "execution_count": 4
        }
      ]
    },
    {
      "cell_type": "code",
      "source": [
        "import seaborn as sns\n",
        "import matplotlib.pyplot as plt\n",
        "\n",
        "# Scatter plot by Groups\n",
        "sns.scatterplot(x='target', \n",
        "                y='sepal width', \n",
        "                hue='target', # different colors by group\n",
        "                style='target', # different shapes by group\n",
        "                s=100, # marker size\n",
        "                data=iris_data)\n",
        "\n",
        "plt.show()"
      ],
      "metadata": {
        "colab": {
          "base_uri": "https://localhost:8080/",
          "height": 452
        },
        "id": "ozbLRYD8dCYl",
        "outputId": "c818e34a-4d0d-47a6-b0ba-448ccee973ba"
      },
      "execution_count": null,
      "outputs": [
        {
          "output_type": "display_data",
          "data": {
            "text/plain": [
              "<Figure size 640x480 with 1 Axes>"
            ],
            "image/png": "[encoded data removed]"
          },
          "metadata": {}
        }
      ]
    },
    {
      "cell_type": "code",
      "source": [
        "setosa = iris_data.loc[iris_data.target=='Iris-setosa', 'sepal width']\n",
        "versicolor = iris_data.loc[iris_data.target=='Iris-versicolor', 'sepal width']\n",
        "virginica = iris_data.loc[iris_data.target=='Iris-virginica', 'sepal width']"
      ],
      "metadata": {
        "id": "2O84Ioqps_-i"
      },
      "execution_count": null,
      "outputs": []
    },
    {
      "cell_type": "code",
      "source": [
        "# 1) 가설설정\n",
        "# - H0: 종별로 꽃받침 폭의 평균은 같다.\n",
        "# - H1: 적어도 하나의 종에 대한 꽃받침 폭의 평균은 차이가 있다.\n",
        "\n",
        "# 2) 가정 검정\n",
        "# 정규성 검정\n",
        "# 귀무가설: 표본이 정규분포를 따른다.\n",
        "print(stats.shapiro(setosa))\n",
        "print(stats.shapiro(versicolor))\n",
        "print(stats.shapiro(virginica))"
      ],
      "metadata": {
        "id": "TWwOaAnvbYLJ",
        "colab": {
          "base_uri": "https://localhost:8080/"
        },
        "outputId": "27bf7007-043f-4cbc-8ffa-7f817c77a04b"
      },
      "execution_count": null,
      "outputs": [
        {
          "output_type": "stream",
          "name": "stdout",
          "text": [
            "ShapiroResult(statistic=0.9686915278434753, pvalue=0.20464898645877838)\n",
            "ShapiroResult(statistic=0.9741329550743103, pvalue=0.3379843533039093)\n",
            "ShapiroResult(statistic=0.9673907160758972, pvalue=0.18089871108531952)\n"
          ]
        }
      ]
    },
    {
      "cell_type": "markdown",
      "source": [
        "p-value가 유의수준 0.05보다 더 크므로 귀무가설을 채택한다. 즉 모두 정규성을 만족한다."
      ],
      "metadata": {
        "id": "uY--quO3uGIJ"
      }
    },
    {
      "cell_type": "code",
      "source": [
        "# 등분산성 검정\n",
        "# 귀무가설: 집단간 분산이 같다\n",
        "stats.levene(setosa, versicolor, virginica)"
      ],
      "metadata": {
        "colab": {
          "base_uri": "https://localhost:8080/"
        },
        "id": "8z8BTHp0dbzb",
        "outputId": "d9ae2e07-f567-4122-86b2-8a170c66254c"
      },
      "execution_count": null,
      "outputs": [
        {
          "output_type": "execute_result",
          "data": {
            "text/plain": [
              "LeveneResult(statistic=0.6475222363405327, pvalue=0.5248269975064537)"
            ]
          },
          "metadata": {},
          "execution_count": 7
        }
      ]
    },
    {
      "cell_type": "markdown",
      "source": [
        "p-value가 유의수준 0.05보다 크므로 귀무가설을 채택한다. 집단 간에 분산이 같아 등분산성을 만족함을 알 수 있다."
      ],
      "metadata": {
        "id": "ImegfHIAdtTx"
      }
    },
    {
      "cell_type": "code",
      "source": [
        "# 3) ANOVA분석 시행\n",
        "# 귀무가설: 세 가지 종의 Sepal.Width의 평균은 모두 같다.\n",
        "stats.f_oneway(setosa, versicolor, virginica)"
      ],
      "metadata": {
        "colab": {
          "base_uri": "https://localhost:8080/"
        },
        "id": "jUEdmKTdds2P",
        "outputId": "1d382280-e019-4361-d903-0b0fa6ff45ee"
      },
      "execution_count": null,
      "outputs": [
        {
          "output_type": "execute_result",
          "data": {
            "text/plain": [
              "F_onewayResult(statistic=47.36446140299382, pvalue=1.3279165184572242e-16)"
            ]
          },
          "metadata": {},
          "execution_count": 8
        }
      ]
    },
    {
      "cell_type": "markdown",
      "source": [
        "4) 결과해석\n",
        "\n",
        "p-value가 유의수준 0.05보다 작으므로 귀무가설을 기각하여 세 가지 종 중 적어도 하나의 Sepal.Width의 평균이 다르다고 볼 수 있다."
      ],
      "metadata": {
        "id": "HfGdKYpOeG6w"
      }
    },
    {
      "cell_type": "code",
      "source": [
        "# 5) 사후검정\n",
        "# 그렇다면 어떤 종의 Sepal.Width에 차이가 있는지 알아보자\n",
        "# 귀무가설: 집단들 사이의 평균은 같다\n",
        "# 대립가설: 집단들 사이의 평균은 같지 않다.\n",
        "from statsmodels.stats.multicomp import pairwise_tukeyhsd\n",
        "from statsmodels.stats.multicomp import MultiComparison\n",
        "\n",
        "mc = MultiComparison(data=iris_data['sepal width'], groups=iris_data['target'])"
      ],
      "metadata": {
        "id": "xfvIEXfQeGmn"
      },
      "execution_count": null,
      "outputs": []
    },
    {
      "cell_type": "code",
      "source": [
        "tuekeyhsd = mc.tukeyhsd(alpha=0.05)"
      ],
      "metadata": {
        "id": "nIebs8dhexCu"
      },
      "execution_count": null,
      "outputs": []
    },
    {
      "cell_type": "code",
      "source": [
        "tuekeyhsd.summary()"
      ],
      "metadata": {
        "colab": {
          "base_uri": "https://localhost:8080/",
          "height": 122
        },
        "id": "ZCf-gOtSe28v",
        "outputId": "4201300e-a50a-4c0b-9c19-40a798801556"
      },
      "execution_count": null,
      "outputs": [
        {
          "output_type": "execute_result",
          "data": {
            "text/plain": [
              "<class 'statsmodels.iolib.table.SimpleTable'>"
            ],
            "text/html": [
              "<table class=\"simpletable\">\n",
              "<caption>Multiple Comparison of Means - Tukey HSD, FWER=0.05</caption>\n",
              "<tr>\n",
              "      <th>group1</th>          <th>group2</th>      <th>meandiff</th> <th>p-adj</th>  <th>lower</th>   <th>upper</th>  <th>reject</th>\n",
              "</tr>\n",
              "<tr>\n",
              "    <td>Iris-setosa</td>   <td>Iris-versicolor</td>  <td>-0.648</td>   <td>0.0</td>  <td>-0.8092</td> <td>-0.4868</td>  <td>True</td> \n",
              "</tr>\n",
              "<tr>\n",
              "    <td>Iris-setosa</td>   <td>Iris-virginica</td>   <td>-0.444</td>   <td>0.0</td>  <td>-0.6052</td> <td>-0.2828</td>  <td>True</td> \n",
              "</tr>\n",
              "<tr>\n",
              "  <td>Iris-versicolor</td> <td>Iris-virginica</td>    <td>0.204</td>  <td>0.009</td> <td>0.0428</td>  <td>0.3652</td>   <td>True</td> \n",
              "</tr>\n",
              "</table>"
            ]
          },
          "metadata": {},
          "execution_count": 11
        }
      ]
    },
    {
      "cell_type": "code",
      "source": [
        "fig = tuekeyhsd.plot_simultaneous()"
      ],
      "metadata": {
        "colab": {
          "base_uri": "https://localhost:8080/",
          "height": 387
        },
        "id": "PajiWVQ_e5ho",
        "outputId": "40a8443e-f1d4-44ff-ff9f-2e13fff746b8"
      },
      "execution_count": null,
      "outputs": [
        {
          "output_type": "display_data",
          "data": {
            "text/plain": [
              "<Figure size 1000x600 with 1 Axes>"
            ],
            "image/png": "[encoded data removed]"
          },
          "metadata": {}
        }
      ]
    },
    {
      "cell_type": "markdown",
      "source": [
        "6) 사후검정 결과해석\n",
        "\n",
        "두 집단씩 묶어 비교를 수행했을 때, 모든 비교에서 p-vale(p adj)가 유의수준 0.05보다 작으므로, 모든 집단의 평균이 서로 다름을 알 수 있다. 즉, 모든 종들에 대해서 꽃받침 폭의 평균값은 통계적으로 유의한 차이가 있다.  \n",
        "diff는 차이값을 나타내는데 setosa와 versicolor는 음수인 것으로 보아 setosa와 versicolor 중 setosa의 평균이 더 크다는 것을 알 수 있다. 마찬가지로, setosa와 virginica는 diff가 음수이기 때문에 setosa의 평균이 더 크고 versicolor와 virginica는 양수이기 때문에 virginica의 평균이 더 크다. 이를 통해, 꽃받침 폭의 평균은 setosa, virginica, versicolor 순으로 크다는 것을 알 수 있다.\n"
      ],
      "metadata": {
        "id": "Xrp-1nAmfEpO"
      }
    },
    {
      "cell_type": "markdown",
      "source": [
        "### 추가 예시"
      ],
      "metadata": {
        "id": "pvZ58soTiNMV"
      }
    },
    {
      "cell_type": "code",
      "source": [
        "# 1. 정규성을 만족하지 않을 때\n",
        "stats.kruskal(setosa, versicolor, virginica)"
      ],
      "metadata": {
        "colab": {
          "base_uri": "https://localhost:8080/"
        },
        "id": "Zq88XP6yiIJt",
        "outputId": "400e3584-292d-48f5-cef0-1f555a802556"
      },
      "execution_count": null,
      "outputs": [
        {
          "output_type": "execute_result",
          "data": {
            "text/plain": [
              "KruskalResult(statistic=62.49463010053111, pvalue=2.6882119006774528e-14)"
            ]
          },
          "metadata": {},
          "execution_count": 13
        }
      ]
    },
    {
      "cell_type": "code",
      "source": [
        "# 2. 등분산성을 만족하지 않을 때\n",
        "!pip install pingouin\n",
        "import pingouin as pg"
      ],
      "metadata": {
        "id": "FBn0Tj5miVoj"
      },
      "execution_count": null,
      "outputs": []
    },
    {
      "cell_type": "code",
      "source": [
        "pg.welch_anova(data=iris_data, dv='sepal width', between='target')"
      ],
      "metadata": {
        "colab": {
          "base_uri": "https://localhost:8080/",
          "height": 80
        },
        "id": "YPQ9zKduicwK",
        "outputId": "08fe3102-a1d2-41e4-af91-cffad740c1fb"
      },
      "execution_count": null,
      "outputs": [
        {
          "output_type": "execute_result",
          "data": {
            "text/plain": [
              "   Source  ddof1      ddof2          F         p-unc       np2\n",
              "0  target      2  97.369597  43.303381  3.519723e-14  0.391881"
            ],
            "text/html": [
              "\n",
              "  <div id=\"df-6f2b9e70-a6c8-45e2-a96e-18076212cf41\">\n",
              "    <div class=\"colab-df-container\">\n",
              "      <div>\n",
              "<style scoped>\n",
              "    .dataframe tbody tr th:only-of-type {\n",
              "        vertical-align: middle;\n",
              "    }\n",
              "\n",
              "    .dataframe tbody tr th {\n",
              "        vertical-align: top;\n",
              "    }\n",
              "\n",
              "    .dataframe thead th {\n",
              "        text-align: right;\n",
              "    }\n",
              "</style>\n",
              "<table border=\"1\" class=\"dataframe\">\n",
              "  <thead>\n",
              "    <tr style=\"text-align: right;\">\n",
              "      <th></th>\n",
              "      <th>Source</th>\n",
              "      <th>ddof1</th>\n",
              "      <th>ddof2</th>\n",
              "      <th>F</th>\n",
              "      <th>p-unc</th>\n",
              "      <th>np2</th>\n",
              "    </tr>\n",
              "  </thead>\n",
              "  <tbody>\n",
              "    <tr>\n",
              "      <th>0</th>\n",
              "      <td>target</td>\n",
              "      <td>2</td>\n",
              "      <td>97.369597</td>\n",
              "      <td>43.303381</td>\n",
              "      <td>3.519723e-14</td>\n",
              "      <td>0.391881</td>\n",
              "    </tr>\n",
              "  </tbody>\n",
              "</table>\n",
              "</div>\n",
              "      <button class=\"colab-df-convert\" onclick=\"convertToInteractive('df-6f2b9e70-a6c8-45e2-a96e-18076212cf41')\"\n",
              "              title=\"Convert this dataframe to an interactive table.\"\n",
              "              style=\"display:none;\">\n",
              "        \n",
              "  <svg xmlns=\"http://www.w3.org/2000/svg\" height=\"24px\"viewBox=\"0 0 24 24\"\n",
              "       width=\"24px\">\n",
              "    <path d=\"M0 0h24v24H0V0z\" fill=\"none\"/>\n",
              "    <path d=\"M18.56 5.44l.94 2.06.94-2.06 2.06-.94-2.06-.94-.94-2.06-.94 2.06-2.06.94zm-11 1L8.5 8.5l.94-2.06 2.06-.94-2.06-.94L8.5 2.5l-.94 2.06-2.06.94zm10 10l.94 2.06.94-2.06 2.06-.94-2.06-.94-.94-2.06-.94 2.06-2.06.94z\"/><path d=\"M17.41 7.96l-1.37-1.37c-.4-.4-.92-.59-1.43-.59-.52 0-1.04.2-1.43.59L10.3 9.45l-7.72 7.72c-.78.78-.78 2.05 0 2.83L4 21.41c.39.39.9.59 1.41.59.51 0 1.02-.2 1.41-.59l7.78-7.78 2.81-2.81c.8-.78.8-2.07 0-2.86zM5.41 20L4 18.59l7.72-7.72 1.47 1.35L5.41 20z\"/>\n",
              "  </svg>\n",
              "      </button>\n",
              "      \n",
              "  <style>\n",
              "    .colab-df-container {\n",
              "      display:flex;\n",
              "      flex-wrap:wrap;\n",
              "      gap: 12px;\n",
              "    }\n",
              "\n",
              "    .colab-df-convert {\n",
              "      background-color: #E8F0FE;\n",
              "      border: none;\n",
              "      border-radius: 50%;\n",
              "      cursor: pointer;\n",
              "      display: none;\n",
              "      fill: #1967D2;\n",
              "      height: 32px;\n",
              "      padding: 0 0 0 0;\n",
              "      width: 32px;\n",
              "    }\n",
              "\n",
              "    .colab-df-convert:hover {\n",
              "      background-color: #E2EBFA;\n",
              "      box-shadow: 0px 1px 2px rgba(60, 64, 67, 0.3), 0px 1px 3px 1px rgba(60, 64, 67, 0.15);\n",
              "      fill: #174EA6;\n",
              "    }\n",
              "\n",
              "    [theme=dark] .colab-df-convert {\n",
              "      background-color: #3B4455;\n",
              "      fill: #D2E3FC;\n",
              "    }\n",
              "\n",
              "    [theme=dark] .colab-df-convert:hover {\n",
              "      background-color: #434B5C;\n",
              "      box-shadow: 0px 1px 3px 1px rgba(0, 0, 0, 0.15);\n",
              "      filter: drop-shadow(0px 1px 2px rgba(0, 0, 0, 0.3));\n",
              "      fill: #FFFFFF;\n",
              "    }\n",
              "  </style>\n",
              "\n",
              "      <script>\n",
              "        const buttonEl =\n",
              "          document.querySelector('#df-6f2b9e70-a6c8-45e2-a96e-18076212cf41 button.colab-df-convert');\n",
              "        buttonEl.style.display =\n",
              "          google.colab.kernel.accessAllowed ? 'block' : 'none';\n",
              "\n",
              "        async function convertToInteractive(key) {\n",
              "          const element = document.querySelector('#df-6f2b9e70-a6c8-45e2-a96e-18076212cf41');\n",
              "          const dataTable =\n",
              "            await google.colab.kernel.invokeFunction('convertToInteractive',\n",
              "                                                     [key], {});\n",
              "          if (!dataTable) return;\n",
              "\n",
              "          const docLinkHtml = 'Like what you see? Visit the ' +\n",
              "            '<a target=\"_blank\" href=https://colab.research.google.com/notebooks/data_table.ipynb>data table notebook</a>'\n",
              "            + ' to learn more about interactive tables.';\n",
              "          element.innerHTML = '';\n",
              "          dataTable['output_type'] = 'display_data';\n",
              "          await google.colab.output.renderOutput(dataTable, element);\n",
              "          const docLink = document.createElement('div');\n",
              "          docLink.innerHTML = docLinkHtml;\n",
              "          element.appendChild(docLink);\n",
              "        }\n",
              "      </script>\n",
              "    </div>\n",
              "  </div>\n",
              "  "
            ]
          },
          "metadata": {},
          "execution_count": 16
        }
      ]
    },
    {
      "cell_type": "markdown",
      "source": [
        "### 2. 이원배치 분산분석(Two-way ANOVA)\n",
        "- 두개의 범주형 변수가 종속변수에 영향 미치는지\n",
        "- 예시) 성별과 학년에 따른 시험점수의 차이에 대해 통계적으로 검정\n",
        "- 두 독립변수 사이에 상관관계가 있는지 확인보는 교호작용 검증 필요\n",
        "- 교호작용: 여러 독립변수들의 조합이 종속변수에 주는 영향. 한 독립변수가 종속변수에 미치는 영향이 다른 독립변수의 수준에 따라 달라지는 지 분석\n",
        "- 교호작용이 있으면 주효과 분석이 무의미\n",
        "- 반복이 없는 경우 교호작용이 없고 반복이 있는 경우 교호작용이 있다. (여기서는 반복이 있는 경우만 적음)\n",
        "\n",
        "||$A_1$ |$A_2$ | ... |$A_l$ |평균\n",
        "|-|-|-|-|-|-|\n",
        "|$B_1$ | $x_{111}$ <br> $x_{112}$ <br> : <br> $x_{11r}$ |$x_{211}$ <br> $x_{212}$ <br> : <br> $x_{21r}$ |...| $x_{l11}$ <br> $x_{l12}$ <br> : <br> $x_{l1r}$ |$\\bar{x}_{.1.}$|\n",
        "|$B_2$ | $x_{121}$ <br> $x_{122}$ <br> : <br> $x_{12r}$ | $x_{221}$ <br> $x_{222}$ <br> : <br> $x_{22r}$ |...|  $x_{l21}$ <br> $x_{l22}$ <br> : <br> $x_{l2r}$ |$\\bar{x}_{.2.}$|\n",
        "|:|||||:|\n",
        "|$B_m$ |$x_{1m1}$ <br> $x_{1m2}$ <br> : <br> $x_{1mr}$ | $x_{2m1}$ <br> $x_{2m2}$ <br> : <br> $x_{2mr}$ |...| $x_{lm1}$ <br> $x_{lm2}$ <br> : <br> $x_{lmr}$ |$\\bar{x}_{.m.}$|\n",
        "|평균|$\\bar{x}_{1..}$ | $\\bar{x}_{2..}$| … | $\\bar{x}_{l} $ |$\\bar{\\bar{x}}$|\n",
        "\n",
        "\n",
        "1) 가설설정\n",
        "- H0  \n",
        "  A변수에 따른 l개의 모평균에 차이가 없다.\n",
        "  B변수에 따른 m개의 모평균에 차이가 없다.\n",
        "  A와 B변수의 상호작용 효과(교호작용)이 없다.\n",
        "- H1  \n",
        "  A변수에 따른 종속변수의 값에 차이가 있다.\n",
        "  B변수에 따른 종속변수의 값에 차이가 있다.\n",
        "  A와 B변수의 상호작용 효과(교호작용)이 있다.\n",
        "\n",
        "2) 분산분석표\n",
        "\n",
        "|요인|&emsp;&emsp;&emsp;&emsp;&emsp;제곱합 &emsp;&emsp;&emsp;&emsp;&emsp;&emsp; |&ensp;&emsp;&emsp;자유도&emsp;&ensp;&emsp;|&emsp;&ensp;&ensp;평균제곱&ensp;&emsp;&emsp;|&emsp;&emsp;&ensp;F&emsp;&emsp;&ensp;|$F_{α}$|\n",
        "|-|-|-|-|-|-|\n",
        "|A| $S_A=∑_i∑_j(\\bar{x_i}-\\bar{\\bar{x}})^2 $ | $l-1$ | $V_A=\\frac{S_A}{l-1}$ | $F=\\frac{V_A}{V_E}$ | $F_{α,ϕ_A,ϕ_E}$|\n",
        "|B| $S_B=∑_i∑_j(\\bar{x_j}-\\bar{\\bar{x}})^2 $ | $m-1$ | $V_B=\\frac{S_B}{m-1}$ | $F=\\frac{V_B}{V_E}$ | $F_{α,ϕ_B,ϕ_E}$|\n",
        "|AXB| $S_{A × B} $ | $(l-1)(m-1)$ | $V_{A×B}=\\frac{S_{A×B}}{(l-1)(m-1)}$ | $F=\\frac{V_{A×B}}{V_E}$ | $F_{α,ϕ_{A×B},ϕ_E}$ |\n",
        "|E| $S_E=$ <br> $∑_i∑_j(x_{ij}-\\bar{x_i}-\\bar{x_j}-\\bar{\\bar{x}})^2 $ | $lm(r-1)$ | $V_E=\\frac{S_E}{lm(r-1)}$ ||\n",
        "|합계| $S_T=∑_i∑_j(x_{ij}-\\bar{\\bar{x}})^2 $ | $lmr-1$ |||\n",
        "\n",
        "3) 결과\n",
        "- $F>F_{α,ϕ_A,ϕ_E}$면 H0 기각. A변수에 따른 종속변수의 값에 차이가 있다.\n",
        "- $F>F_{α,ϕ_B,ϕ_E}$면 H0 기각. B변수에 따른 종속변수의 값에 차이가 있다.\n",
        "- $F>F_{α,ϕ_{A×B},ϕ_E}$면 H0 기각. A, B변수의 교호작용이 있다.\n",
        "\n"
      ],
      "metadata": {
        "id": "NnRflZgfi-ml"
      }
    },
    {
      "cell_type": "markdown",
      "source": [
        "Q. 변속기 종류(am)와 실린더 개수(cyl)에 따라 주행거리(mpg) 평균에 유의미한 차이가 존재하는지"
      ],
      "metadata": {
        "id": "PYaaspyUn-YS"
      }
    },
    {
      "cell_type": "code",
      "source": [
        "import pandas as pd\n",
        "import numpy as np"
      ],
      "metadata": {
        "id": "XsmAuhqJislB"
      },
      "execution_count": null,
      "outputs": []
    },
    {
      "cell_type": "code",
      "source": [
        "import pandas as pd\n",
        "mtcars=pd.read_csv('/content/drive/MyDrive/Colab Notebooks/adp_class101/data/mtcars.csv')\n",
        "mtcars.head()"
      ],
      "metadata": {
        "colab": {
          "base_uri": "https://localhost:8080/",
          "height": 250
        },
        "id": "xuyLbQAMt7Y7",
        "outputId": "97ebd979-7b5b-42fc-c68f-207a900a586b"
      },
      "execution_count": null,
      "outputs": [
        {
          "output_type": "execute_result",
          "data": {
            "text/plain": [
              "          Unnamed: 0   mpg  cyl   disp   hp  drat     wt   qsec  vs  am  gear  \\\n",
              "0          Mazda RX4  21.0    6  160.0  110  3.90  2.620  16.46   0   1     4   \n",
              "1      Mazda RX4 Wag  21.0    6  160.0  110  3.90  2.875  17.02   0   1     4   \n",
              "2         Datsun 710  22.8    4  108.0   93  3.85  2.320  18.61   1   1     4   \n",
              "3     Hornet 4 Drive  21.4    6  258.0  110  3.08  3.215  19.44   1   0     3   \n",
              "4  Hornet Sportabout  18.7    8  360.0  175  3.15  3.440  17.02   0   0     3   \n",
              "\n",
              "   carb  \n",
              "0     4  \n",
              "1     4  \n",
              "2     1  \n",
              "3     1  \n",
              "4     2  "
            ],
            "text/html": [
              "\n",
              "  <div id=\"df-20ea72a4-b891-48f3-8518-7bd686cfa991\">\n",
              "    <div class=\"colab-df-container\">\n",
              "      <div>\n",
              "<style scoped>\n",
              "    .dataframe tbody tr th:only-of-type {\n",
              "        vertical-align: middle;\n",
              "    }\n",
              "\n",
              "    .dataframe tbody tr th {\n",
              "        vertical-align: top;\n",
              "    }\n",
              "\n",
              "    .dataframe thead th {\n",
              "        text-align: right;\n",
              "    }\n",
              "</style>\n",
              "<table border=\"1\" class=\"dataframe\">\n",
              "  <thead>\n",
              "    <tr style=\"text-align: right;\">\n",
              "      <th></th>\n",
              "      <th>Unnamed: 0</th>\n",
              "      <th>mpg</th>\n",
              "      <th>cyl</th>\n",
              "      <th>disp</th>\n",
              "      <th>hp</th>\n",
              "      <th>drat</th>\n",
              "      <th>wt</th>\n",
              "      <th>qsec</th>\n",
              "      <th>vs</th>\n",
              "      <th>am</th>\n",
              "      <th>gear</th>\n",
              "      <th>carb</th>\n",
              "    </tr>\n",
              "  </thead>\n",
              "  <tbody>\n",
              "    <tr>\n",
              "      <th>0</th>\n",
              "      <td>Mazda RX4</td>\n",
              "      <td>21.0</td>\n",
              "      <td>6</td>\n",
              "      <td>160.0</td>\n",
              "      <td>110</td>\n",
              "      <td>3.90</td>\n",
              "      <td>2.620</td>\n",
              "      <td>16.46</td>\n",
              "      <td>0</td>\n",
              "      <td>1</td>\n",
              "      <td>4</td>\n",
              "      <td>4</td>\n",
              "    </tr>\n",
              "    <tr>\n",
              "      <th>1</th>\n",
              "      <td>Mazda RX4 Wag</td>\n",
              "      <td>21.0</td>\n",
              "      <td>6</td>\n",
              "      <td>160.0</td>\n",
              "      <td>110</td>\n",
              "      <td>3.90</td>\n",
              "      <td>2.875</td>\n",
              "      <td>17.02</td>\n",
              "      <td>0</td>\n",
              "      <td>1</td>\n",
              "      <td>4</td>\n",
              "      <td>4</td>\n",
              "    </tr>\n",
              "    <tr>\n",
              "      <th>2</th>\n",
              "      <td>Datsun 710</td>\n",
              "      <td>22.8</td>\n",
              "      <td>4</td>\n",
              "      <td>108.0</td>\n",
              "      <td>93</td>\n",
              "      <td>3.85</td>\n",
              "      <td>2.320</td>\n",
              "      <td>18.61</td>\n",
              "      <td>1</td>\n",
              "      <td>1</td>\n",
              "      <td>4</td>\n",
              "      <td>1</td>\n",
              "    </tr>\n",
              "    <tr>\n",
              "      <th>3</th>\n",
              "      <td>Hornet 4 Drive</td>\n",
              "      <td>21.4</td>\n",
              "      <td>6</td>\n",
              "      <td>258.0</td>\n",
              "      <td>110</td>\n",
              "      <td>3.08</td>\n",
              "      <td>3.215</td>\n",
              "      <td>19.44</td>\n",
              "      <td>1</td>\n",
              "      <td>0</td>\n",
              "      <td>3</td>\n",
              "      <td>1</td>\n",
              "    </tr>\n",
              "    <tr>\n",
              "      <th>4</th>\n",
              "      <td>Hornet Sportabout</td>\n",
              "      <td>18.7</td>\n",
              "      <td>8</td>\n",
              "      <td>360.0</td>\n",
              "      <td>175</td>\n",
              "      <td>3.15</td>\n",
              "      <td>3.440</td>\n",
              "      <td>17.02</td>\n",
              "      <td>0</td>\n",
              "      <td>0</td>\n",
              "      <td>3</td>\n",
              "      <td>2</td>\n",
              "    </tr>\n",
              "  </tbody>\n",
              "</table>\n",
              "</div>\n",
              "      <button class=\"colab-df-convert\" onclick=\"convertToInteractive('df-20ea72a4-b891-48f3-8518-7bd686cfa991')\"\n",
              "              title=\"Convert this dataframe to an interactive table.\"\n",
              "              style=\"display:none;\">\n",
              "        \n",
              "  <svg xmlns=\"http://www.w3.org/2000/svg\" height=\"24px\"viewBox=\"0 0 24 24\"\n",
              "       width=\"24px\">\n",
              "    <path d=\"M0 0h24v24H0V0z\" fill=\"none\"/>\n",
              "    <path d=\"M18.56 5.44l.94 2.06.94-2.06 2.06-.94-2.06-.94-.94-2.06-.94 2.06-2.06.94zm-11 1L8.5 8.5l.94-2.06 2.06-.94-2.06-.94L8.5 2.5l-.94 2.06-2.06.94zm10 10l.94 2.06.94-2.06 2.06-.94-2.06-.94-.94-2.06-.94 2.06-2.06.94z\"/><path d=\"M17.41 7.96l-1.37-1.37c-.4-.4-.92-.59-1.43-.59-.52 0-1.04.2-1.43.59L10.3 9.45l-7.72 7.72c-.78.78-.78 2.05 0 2.83L4 21.41c.39.39.9.59 1.41.59.51 0 1.02-.2 1.41-.59l7.78-7.78 2.81-2.81c.8-.78.8-2.07 0-2.86zM5.41 20L4 18.59l7.72-7.72 1.47 1.35L5.41 20z\"/>\n",
              "  </svg>\n",
              "      </button>\n",
              "      \n",
              "  <style>\n",
              "    .colab-df-container {\n",
              "      display:flex;\n",
              "      flex-wrap:wrap;\n",
              "      gap: 12px;\n",
              "    }\n",
              "\n",
              "    .colab-df-convert {\n",
              "      background-color: #E8F0FE;\n",
              "      border: none;\n",
              "      border-radius: 50%;\n",
              "      cursor: pointer;\n",
              "      display: none;\n",
              "      fill: #1967D2;\n",
              "      height: 32px;\n",
              "      padding: 0 0 0 0;\n",
              "      width: 32px;\n",
              "    }\n",
              "\n",
              "    .colab-df-convert:hover {\n",
              "      background-color: #E2EBFA;\n",
              "      box-shadow: 0px 1px 2px rgba(60, 64, 67, 0.3), 0px 1px 3px 1px rgba(60, 64, 67, 0.15);\n",
              "      fill: #174EA6;\n",
              "    }\n",
              "\n",
              "    [theme=dark] .colab-df-convert {\n",
              "      background-color: #3B4455;\n",
              "      fill: #D2E3FC;\n",
              "    }\n",
              "\n",
              "    [theme=dark] .colab-df-convert:hover {\n",
              "      background-color: #434B5C;\n",
              "      box-shadow: 0px 1px 3px 1px rgba(0, 0, 0, 0.15);\n",
              "      filter: drop-shadow(0px 1px 2px rgba(0, 0, 0, 0.3));\n",
              "      fill: #FFFFFF;\n",
              "    }\n",
              "  </style>\n",
              "\n",
              "      <script>\n",
              "        const buttonEl =\n",
              "          document.querySelector('#df-20ea72a4-b891-48f3-8518-7bd686cfa991 button.colab-df-convert');\n",
              "        buttonEl.style.display =\n",
              "          google.colab.kernel.accessAllowed ? 'block' : 'none';\n",
              "\n",
              "        async function convertToInteractive(key) {\n",
              "          const element = document.querySelector('#df-20ea72a4-b891-48f3-8518-7bd686cfa991');\n",
              "          const dataTable =\n",
              "            await google.colab.kernel.invokeFunction('convertToInteractive',\n",
              "                                                     [key], {});\n",
              "          if (!dataTable) return;\n",
              "\n",
              "          const docLinkHtml = 'Like what you see? Visit the ' +\n",
              "            '<a target=\"_blank\" href=https://colab.research.google.com/notebooks/data_table.ipynb>data table notebook</a>'\n",
              "            + ' to learn more about interactive tables.';\n",
              "          element.innerHTML = '';\n",
              "          dataTable['output_type'] = 'display_data';\n",
              "          await google.colab.output.renderOutput(dataTable, element);\n",
              "          const docLink = document.createElement('div');\n",
              "          docLink.innerHTML = docLinkHtml;\n",
              "          element.appendChild(docLink);\n",
              "        }\n",
              "      </script>\n",
              "    </div>\n",
              "  </div>\n",
              "  "
            ]
          },
          "metadata": {},
          "execution_count": 3
        }
      ]
    },
    {
      "cell_type": "code",
      "source": [
        "mtcars.info()"
      ],
      "metadata": {
        "colab": {
          "base_uri": "https://localhost:8080/"
        },
        "id": "KCW8171HuFO6",
        "outputId": "8c04683b-9814-4020-fc81-c928673ba1fa"
      },
      "execution_count": null,
      "outputs": [
        {
          "output_type": "stream",
          "name": "stdout",
          "text": [
            "<class 'pandas.core.frame.DataFrame'>\n",
            "RangeIndex: 32 entries, 0 to 31\n",
            "Data columns (total 12 columns):\n",
            " #   Column      Non-Null Count  Dtype  \n",
            "---  ------      --------------  -----  \n",
            " 0   Unnamed: 0  32 non-null     object \n",
            " 1   mpg         32 non-null     float64\n",
            " 2   cyl         32 non-null     int64  \n",
            " 3   disp        32 non-null     float64\n",
            " 4   hp          32 non-null     int64  \n",
            " 5   drat        32 non-null     float64\n",
            " 6   wt          32 non-null     float64\n",
            " 7   qsec        32 non-null     float64\n",
            " 8   vs          32 non-null     int64  \n",
            " 9   am          32 non-null     int64  \n",
            " 10  gear        32 non-null     int64  \n",
            " 11  carb        32 non-null     int64  \n",
            "dtypes: float64(5), int64(6), object(1)\n",
            "memory usage: 3.1+ KB\n"
          ]
        }
      ]
    },
    {
      "cell_type": "code",
      "source": [
        "mtcars.cyl.value_counts()"
      ],
      "metadata": {
        "colab": {
          "base_uri": "https://localhost:8080/"
        },
        "id": "OdqeVvp2uNE-",
        "outputId": "d307f8f1-59fa-4aa7-f98b-c98b5b4badb7"
      },
      "execution_count": null,
      "outputs": [
        {
          "output_type": "execute_result",
          "data": {
            "text/plain": [
              "8    14\n",
              "4    11\n",
              "6     7\n",
              "Name: cyl, dtype: int64"
            ]
          },
          "metadata": {},
          "execution_count": 5
        }
      ]
    },
    {
      "cell_type": "code",
      "source": [
        "mtcars.am.value_counts()"
      ],
      "metadata": {
        "colab": {
          "base_uri": "https://localhost:8080/"
        },
        "id": "O1iIU3Fn1ipG",
        "outputId": "d93e8275-bb6c-46c0-80cc-f6ea37e39d3c"
      },
      "execution_count": null,
      "outputs": [
        {
          "output_type": "execute_result",
          "data": {
            "text/plain": [
              "0    19\n",
              "1    13\n",
              "Name: am, dtype: int64"
            ]
          },
          "metadata": {},
          "execution_count": 6
        }
      ]
    },
    {
      "cell_type": "code",
      "source": [
        "# 1) 가설 설정\n",
        "# 귀무가설\n",
        "# - 변속기 종류와 실린더 개수 간에는 상호작용 효과가 없다.\n",
        "# - 변속기 종류에 따라 주행거리 차이는 존재하지 않는다.\n",
        "# - 실린더 개수에 따라 주행거리 차이는 존재하지 않는다.\n",
        "# 대립가설\n",
        "# - 변속기 종류와 실린더 개수 간에는 상호작용 효과가 있다.\n",
        "# - 변속기 종류에 따라 주행거리 차이는 존재한다.\n",
        "# - 실린더 개수에 따라 주행거리 차이는 존재한다.\n",
        "\n",
        "# 2) 분산분석 수행\n",
        "from statsmodels.formula.api import ols\n",
        "from statsmodels.stats.anova import anova_lm\n",
        "\n",
        "formula = 'mpg ~ C(cyl)*C(am)'\n",
        "# mpg ~ C(cyl) + C(am) + C(cyl):C(am)과 동일한 의미\n",
        "model = ols(formula, mtcars).fit()\n",
        "anova_table = anova_lm(model, typ=2)"
      ],
      "metadata": {
        "id": "yox5D3Ah1kM8"
      },
      "execution_count": null,
      "outputs": []
    },
    {
      "cell_type": "code",
      "source": [
        "anova_table"
      ],
      "metadata": {
        "colab": {
          "base_uri": "https://localhost:8080/",
          "height": 174
        },
        "id": "V0C3bKAo4WVO",
        "outputId": "137924ce-96ed-4bd7-d5b9-150f95f18477"
      },
      "execution_count": null,
      "outputs": [
        {
          "output_type": "execute_result",
          "data": {
            "text/plain": [
              "                  sum_sq    df          F        PR(>F)\n",
              "C(cyl)        456.400921   2.0  24.819011  9.354735e-07\n",
              "C(am)          36.766919   1.0   3.998759  5.608373e-02\n",
              "C(cyl):C(am)   25.436511   2.0   1.383233  2.686140e-01\n",
              "Residual      239.059167  26.0        NaN           NaN"
            ],
            "text/html": [
              "\n",
              "  <div id=\"df-d6373ba9-3288-42e9-92d2-50bb2b9ff7a3\">\n",
              "    <div class=\"colab-df-container\">\n",
              "      <div>\n",
              "<style scoped>\n",
              "    .dataframe tbody tr th:only-of-type {\n",
              "        vertical-align: middle;\n",
              "    }\n",
              "\n",
              "    .dataframe tbody tr th {\n",
              "        vertical-align: top;\n",
              "    }\n",
              "\n",
              "    .dataframe thead th {\n",
              "        text-align: right;\n",
              "    }\n",
              "</style>\n",
              "<table border=\"1\" class=\"dataframe\">\n",
              "  <thead>\n",
              "    <tr style=\"text-align: right;\">\n",
              "      <th></th>\n",
              "      <th>sum_sq</th>\n",
              "      <th>df</th>\n",
              "      <th>F</th>\n",
              "      <th>PR(&gt;F)</th>\n",
              "    </tr>\n",
              "  </thead>\n",
              "  <tbody>\n",
              "    <tr>\n",
              "      <th>C(cyl)</th>\n",
              "      <td>456.400921</td>\n",
              "      <td>2.0</td>\n",
              "      <td>24.819011</td>\n",
              "      <td>9.354735e-07</td>\n",
              "    </tr>\n",
              "    <tr>\n",
              "      <th>C(am)</th>\n",
              "      <td>36.766919</td>\n",
              "      <td>1.0</td>\n",
              "      <td>3.998759</td>\n",
              "      <td>5.608373e-02</td>\n",
              "    </tr>\n",
              "    <tr>\n",
              "      <th>C(cyl):C(am)</th>\n",
              "      <td>25.436511</td>\n",
              "      <td>2.0</td>\n",
              "      <td>1.383233</td>\n",
              "      <td>2.686140e-01</td>\n",
              "    </tr>\n",
              "    <tr>\n",
              "      <th>Residual</th>\n",
              "      <td>239.059167</td>\n",
              "      <td>26.0</td>\n",
              "      <td>NaN</td>\n",
              "      <td>NaN</td>\n",
              "    </tr>\n",
              "  </tbody>\n",
              "</table>\n",
              "</div>\n",
              "      <button class=\"colab-df-convert\" onclick=\"convertToInteractive('df-d6373ba9-3288-42e9-92d2-50bb2b9ff7a3')\"\n",
              "              title=\"Convert this dataframe to an interactive table.\"\n",
              "              style=\"display:none;\">\n",
              "        \n",
              "  <svg xmlns=\"http://www.w3.org/2000/svg\" height=\"24px\"viewBox=\"0 0 24 24\"\n",
              "       width=\"24px\">\n",
              "    <path d=\"M0 0h24v24H0V0z\" fill=\"none\"/>\n",
              "    <path d=\"M18.56 5.44l.94 2.06.94-2.06 2.06-.94-2.06-.94-.94-2.06-.94 2.06-2.06.94zm-11 1L8.5 8.5l.94-2.06 2.06-.94-2.06-.94L8.5 2.5l-.94 2.06-2.06.94zm10 10l.94 2.06.94-2.06 2.06-.94-2.06-.94-.94-2.06-.94 2.06-2.06.94z\"/><path d=\"M17.41 7.96l-1.37-1.37c-.4-.4-.92-.59-1.43-.59-.52 0-1.04.2-1.43.59L10.3 9.45l-7.72 7.72c-.78.78-.78 2.05 0 2.83L4 21.41c.39.39.9.59 1.41.59.51 0 1.02-.2 1.41-.59l7.78-7.78 2.81-2.81c.8-.78.8-2.07 0-2.86zM5.41 20L4 18.59l7.72-7.72 1.47 1.35L5.41 20z\"/>\n",
              "  </svg>\n",
              "      </button>\n",
              "      \n",
              "  <style>\n",
              "    .colab-df-container {\n",
              "      display:flex;\n",
              "      flex-wrap:wrap;\n",
              "      gap: 12px;\n",
              "    }\n",
              "\n",
              "    .colab-df-convert {\n",
              "      background-color: #E8F0FE;\n",
              "      border: none;\n",
              "      border-radius: 50%;\n",
              "      cursor: pointer;\n",
              "      display: none;\n",
              "      fill: #1967D2;\n",
              "      height: 32px;\n",
              "      padding: 0 0 0 0;\n",
              "      width: 32px;\n",
              "    }\n",
              "\n",
              "    .colab-df-convert:hover {\n",
              "      background-color: #E2EBFA;\n",
              "      box-shadow: 0px 1px 2px rgba(60, 64, 67, 0.3), 0px 1px 3px 1px rgba(60, 64, 67, 0.15);\n",
              "      fill: #174EA6;\n",
              "    }\n",
              "\n",
              "    [theme=dark] .colab-df-convert {\n",
              "      background-color: #3B4455;\n",
              "      fill: #D2E3FC;\n",
              "    }\n",
              "\n",
              "    [theme=dark] .colab-df-convert:hover {\n",
              "      background-color: #434B5C;\n",
              "      box-shadow: 0px 1px 3px 1px rgba(0, 0, 0, 0.15);\n",
              "      filter: drop-shadow(0px 1px 2px rgba(0, 0, 0, 0.3));\n",
              "      fill: #FFFFFF;\n",
              "    }\n",
              "  </style>\n",
              "\n",
              "      <script>\n",
              "        const buttonEl =\n",
              "          document.querySelector('#df-d6373ba9-3288-42e9-92d2-50bb2b9ff7a3 button.colab-df-convert');\n",
              "        buttonEl.style.display =\n",
              "          google.colab.kernel.accessAllowed ? 'block' : 'none';\n",
              "\n",
              "        async function convertToInteractive(key) {\n",
              "          const element = document.querySelector('#df-d6373ba9-3288-42e9-92d2-50bb2b9ff7a3');\n",
              "          const dataTable =\n",
              "            await google.colab.kernel.invokeFunction('convertToInteractive',\n",
              "                                                     [key], {});\n",
              "          if (!dataTable) return;\n",
              "\n",
              "          const docLinkHtml = 'Like what you see? Visit the ' +\n",
              "            '<a target=\"_blank\" href=https://colab.research.google.com/notebooks/data_table.ipynb>data table notebook</a>'\n",
              "            + ' to learn more about interactive tables.';\n",
              "          element.innerHTML = '';\n",
              "          dataTable['output_type'] = 'display_data';\n",
              "          await google.colab.output.renderOutput(dataTable, element);\n",
              "          const docLink = document.createElement('div');\n",
              "          docLink.innerHTML = docLinkHtml;\n",
              "          element.appendChild(docLink);\n",
              "        }\n",
              "      </script>\n",
              "    </div>\n",
              "  </div>\n",
              "  "
            ]
          },
          "metadata": {},
          "execution_count": 8
        }
      ]
    },
    {
      "cell_type": "markdown",
      "source": [
        "3) 결과 해석\n",
        "\n",
        "C(cyl):C(am)의 p-value는 0.05보다 크므로 귀무가설을 채택하여 cyl과 am 변수 간의 교호작용은 없다고 볼 수 있다. 이에 따라 cyl과 am이 주행거리에 미치는 영향을 살펴보면 cyl은 p-value가 유의수준 0.05보다 작아 귀무가설을 기각할 수 있고 am은 p-value가 유의수준 0.05보다 커서 귀무가설을 채택할 수 있다. 즉, cyl에 따라 주행거리 평균에 차이가 있지만 am은 영향이 없는 것으로 보인다."
      ],
      "metadata": {
        "id": "D3eVHGML4b-6"
      }
    },
    {
      "cell_type": "code",
      "source": [
        "# 4) 실린더 개수와 변속기 종류 사이에 상호작용 효과가 있는지 없는지를 시각화 작용 그래프로 표현\n",
        "from statsmodels.graphics.factorplots import interaction_plot\n",
        "import matplotlib.pyplot as plt\n",
        "\n",
        "fig, ax = plt.subplots(figsize=(6,6))\n",
        "fig = interaction_plot(mtcars['cyl'], mtcars['am'], mtcars['mpg'],\n",
        "                       colors=['red', 'blue'], markers=['D', '^'],\n",
        "                       ms=10, ax=ax)"
      ],
      "metadata": {
        "colab": {
          "base_uri": "https://localhost:8080/",
          "height": 542
        },
        "id": "WVcKbcRm4aBH",
        "outputId": "4c0e330d-d868-4116-8dfc-82c1ac11d978"
      },
      "execution_count": null,
      "outputs": [
        {
          "output_type": "display_data",
          "data": {
            "text/plain": [
              "<Figure size 600x600 with 1 Axes>"
            ],
            "image/png": "[encoded data removed]"
          },
          "metadata": {}
        }
      ]
    },
    {
      "cell_type": "markdown",
      "source": [
        "일반적으로 상호작용 그래프에서 두 선이 서로 교차하고 있으면 x축에 있는 독립변수와 시각화된 독립변수 간에는 상호작용이 존재한다고 해석할 수 있다."
      ],
      "metadata": {
        "id": "qdEWFRuw5l4l"
      }
    },
    {
      "cell_type": "markdown",
      "source": [
        "# 회귀분석\n",
        "- 독립변수가 종속변수에 미치는 영향력의 크기를 측정\n",
        "- 독립변수가 하나면 단순회귀분석, 2개 이상이면 다중회귀분석\n",
        "- $Y_i=α+βX_i+ϵ_i$\n",
        "- $α, β$: 모집단의 회귀계수, $ϵ_i$: 오차항\n",
        "- 오차항에 대한 기본 가정\n",
        "  - 선형회귀분석 > 독립변수와 종속변수의 관계가 선형이다\n",
        "  - 독립성: 임의의 오차 $ϵ_i$와 $ϵ_j$는 서로 독립\n",
        "    - 시계열이면 더반왓슨통계(H0: p=0, H1: p>0, 결과가 2면 독립, 0이면 양의 상관관계, 4면 음의 상관관계)\n",
        "  - 정규성: 오차 $ϵ_i$의 분포는 정규분포를 따른다. \n",
        "    - $ϵ_i \\sim N(0, σ^2_e)$\n",
        "    - Q-Q plot, Shapiro-Wilk 검정\n",
        "  - 등분산성: 오차 $ϵ_i$의 분산은 모든 i에 대해서 같다\n",
        "- 잔차가 최소가 되는 최소제곱법을 이용해 회귀식 도출\n",
        "\n",
        "1) 가정 적합한지 확인\n",
        "\n",
        "2) 가설 설정\n",
        "- H0: 회귀모형이 유의하지 않다 ($β_i=0$)\n",
        "- H1: 회귀모형은 유의하다 (적어도 하나의 $β_i$는 0이 아니다)\n",
        "\n",
        "3) 회귀모형 검정\n",
        "- F-통계량의 p-value가 유의수준보다 작으면 회귀식이 통계적으로 유의하다\n",
        "\n",
        "4) 모형의 적합성 확인\n",
        "- 결정계수 확인 (종속변수의 변동을 독립변수가 얼마나 설명해주는가)\n",
        "  - 총 변동 중 내가 선택한 회귀모형에 의해 설명되는 부분\n",
        "  - $R^2=\\frac{SSR}{SST}=1-\\frac{SSE}{SST}$\n",
        "  - 1에 가까울수록 의미 있음\n",
        "  - 단순선형회귀에서는 \n",
        "  - 다변량 회귀분석에서 독립변수의 유의성과 관계없이 독립변수 수가 많아지면 결정계수 높아짐\n",
        "  - 보완방법: 수정결정계수 사용 $R^2=1-\\frac{SSE/(n-k-1)}{SST/(n-1)}$\n",
        "- 표준오차 확인(추정값의 표준오차가 작을수록 관측값들이 추정된 회귀선 주위에 밀집)\n",
        "  - 자료의 크기에 따라 표준오차가 변화하므로 좋은 측도가 아님\n",
        "\n",
        "5) 회귀계수 유의성검정\n",
        "- 회귀계수에 대한 t통계량의 p-value 확인"
      ],
      "metadata": {
        "id": "nYLF_ohg5jrb"
      }
    },
    {
      "cell_type": "markdown",
      "source": [
        "#### 단순회귀모형\n",
        "Q. sqft_living(주거공간의 평방 피트)가 price에 영향을 주는지 검정"
      ],
      "metadata": {
        "id": "d5r5pS2ebSIq"
      }
    },
    {
      "cell_type": "code",
      "source": [
        "import pandas as pd\n",
        "import numpy as np\n",
        "house = pd.read_csv('/content/drive/MyDrive/Colab Notebooks/adp_class101/data/kc_house_data.csv')\n",
        "house.head()"
      ],
      "metadata": {
        "colab": {
          "base_uri": "https://localhost:8080/",
          "height": 270
        },
        "id": "0j2eVD02bnt1",
        "outputId": "aa493539-8cd4-4633-9f26-d9f57d3d49dc"
      },
      "execution_count": null,
      "outputs": [
        {
          "output_type": "execute_result",
          "data": {
            "text/plain": [
              "           id             date     price  bedrooms  bathrooms  sqft_living  \\\n",
              "0  7129300520  20141013T000000  221900.0         3       1.00         1180   \n",
              "1  6414100192  20141209T000000  538000.0         3       2.25         2570   \n",
              "2  5631500400  20150225T000000  180000.0         2       1.00          770   \n",
              "3  2487200875  20141209T000000  604000.0         4       3.00         1960   \n",
              "4  1954400510  20150218T000000  510000.0         3       2.00         1680   \n",
              "\n",
              "   sqft_lot  floors waterfront  view  condition  grade  sqft_above  \\\n",
              "0      5650     1.0   standard     0          3      7        1180   \n",
              "1      7242     2.0   standard     0          3      7        2170   \n",
              "2     10000     1.0   standard     0          3      6         770   \n",
              "3      5000     1.0   standard     0          5      7        1050   \n",
              "4      8080     1.0   standard     0          3      8        1680   \n",
              "\n",
              "   sqft_basement  yr_built  yr_renovated  sqft_living15  sqft_lot15  \n",
              "0              0      1955             0           1340        5650  \n",
              "1            400      1951          1991           1690        7639  \n",
              "2              0      1933             0           2720        8062  \n",
              "3            910      1965             0           1360        5000  \n",
              "4              0      1987             0           1800        7503  "
            ],
            "text/html": [
              "\n",
              "  <div id=\"df-1772748f-7e27-487e-a27d-604a93137798\">\n",
              "    <div class=\"colab-df-container\">\n",
              "      <div>\n",
              "<style scoped>\n",
              "    .dataframe tbody tr th:only-of-type {\n",
              "        vertical-align: middle;\n",
              "    }\n",
              "\n",
              "    .dataframe tbody tr th {\n",
              "        vertical-align: top;\n",
              "    }\n",
              "\n",
              "    .dataframe thead th {\n",
              "        text-align: right;\n",
              "    }\n",
              "</style>\n",
              "<table border=\"1\" class=\"dataframe\">\n",
              "  <thead>\n",
              "    <tr style=\"text-align: right;\">\n",
              "      <th></th>\n",
              "      <th>id</th>\n",
              "      <th>date</th>\n",
              "      <th>price</th>\n",
              "      <th>bedrooms</th>\n",
              "      <th>bathrooms</th>\n",
              "      <th>sqft_living</th>\n",
              "      <th>sqft_lot</th>\n",
              "      <th>floors</th>\n",
              "      <th>waterfront</th>\n",
              "      <th>view</th>\n",
              "      <th>condition</th>\n",
              "      <th>grade</th>\n",
              "      <th>sqft_above</th>\n",
              "      <th>sqft_basement</th>\n",
              "      <th>yr_built</th>\n",
              "      <th>yr_renovated</th>\n",
              "      <th>sqft_living15</th>\n",
              "      <th>sqft_lot15</th>\n",
              "    </tr>\n",
              "  </thead>\n",
              "  <tbody>\n",
              "    <tr>\n",
              "      <th>0</th>\n",
              "      <td>7129300520</td>\n",
              "      <td>20141013T000000</td>\n",
              "      <td>221900.0</td>\n",
              "      <td>3</td>\n",
              "      <td>1.00</td>\n",
              "      <td>1180</td>\n",
              "      <td>5650</td>\n",
              "      <td>1.0</td>\n",
              "      <td>standard</td>\n",
              "      <td>0</td>\n",
              "      <td>3</td>\n",
              "      <td>7</td>\n",
              "      <td>1180</td>\n",
              "      <td>0</td>\n",
              "      <td>1955</td>\n",
              "      <td>0</td>\n",
              "      <td>1340</td>\n",
              "      <td>5650</td>\n",
              "    </tr>\n",
              "    <tr>\n",
              "      <th>1</th>\n",
              "      <td>6414100192</td>\n",
              "      <td>20141209T000000</td>\n",
              "      <td>538000.0</td>\n",
              "      <td>3</td>\n",
              "      <td>2.25</td>\n",
              "      <td>2570</td>\n",
              "      <td>7242</td>\n",
              "      <td>2.0</td>\n",
              "      <td>standard</td>\n",
              "      <td>0</td>\n",
              "      <td>3</td>\n",
              "      <td>7</td>\n",
              "      <td>2170</td>\n",
              "      <td>400</td>\n",
              "      <td>1951</td>\n",
              "      <td>1991</td>\n",
              "      <td>1690</td>\n",
              "      <td>7639</td>\n",
              "    </tr>\n",
              "    <tr>\n",
              "      <th>2</th>\n",
              "      <td>5631500400</td>\n",
              "      <td>20150225T000000</td>\n",
              "      <td>180000.0</td>\n",
              "      <td>2</td>\n",
              "      <td>1.00</td>\n",
              "      <td>770</td>\n",
              "      <td>10000</td>\n",
              "      <td>1.0</td>\n",
              "      <td>standard</td>\n",
              "      <td>0</td>\n",
              "      <td>3</td>\n",
              "      <td>6</td>\n",
              "      <td>770</td>\n",
              "      <td>0</td>\n",
              "      <td>1933</td>\n",
              "      <td>0</td>\n",
              "      <td>2720</td>\n",
              "      <td>8062</td>\n",
              "    </tr>\n",
              "    <tr>\n",
              "      <th>3</th>\n",
              "      <td>2487200875</td>\n",
              "      <td>20141209T000000</td>\n",
              "      <td>604000.0</td>\n",
              "      <td>4</td>\n",
              "      <td>3.00</td>\n",
              "      <td>1960</td>\n",
              "      <td>5000</td>\n",
              "      <td>1.0</td>\n",
              "      <td>standard</td>\n",
              "      <td>0</td>\n",
              "      <td>5</td>\n",
              "      <td>7</td>\n",
              "      <td>1050</td>\n",
              "      <td>910</td>\n",
              "      <td>1965</td>\n",
              "      <td>0</td>\n",
              "      <td>1360</td>\n",
              "      <td>5000</td>\n",
              "    </tr>\n",
              "    <tr>\n",
              "      <th>4</th>\n",
              "      <td>1954400510</td>\n",
              "      <td>20150218T000000</td>\n",
              "      <td>510000.0</td>\n",
              "      <td>3</td>\n",
              "      <td>2.00</td>\n",
              "      <td>1680</td>\n",
              "      <td>8080</td>\n",
              "      <td>1.0</td>\n",
              "      <td>standard</td>\n",
              "      <td>0</td>\n",
              "      <td>3</td>\n",
              "      <td>8</td>\n",
              "      <td>1680</td>\n",
              "      <td>0</td>\n",
              "      <td>1987</td>\n",
              "      <td>0</td>\n",
              "      <td>1800</td>\n",
              "      <td>7503</td>\n",
              "    </tr>\n",
              "  </tbody>\n",
              "</table>\n",
              "</div>\n",
              "      <button class=\"colab-df-convert\" onclick=\"convertToInteractive('df-1772748f-7e27-487e-a27d-604a93137798')\"\n",
              "              title=\"Convert this dataframe to an interactive table.\"\n",
              "              style=\"display:none;\">\n",
              "        \n",
              "  <svg xmlns=\"http://www.w3.org/2000/svg\" height=\"24px\"viewBox=\"0 0 24 24\"\n",
              "       width=\"24px\">\n",
              "    <path d=\"M0 0h24v24H0V0z\" fill=\"none\"/>\n",
              "    <path d=\"M18.56 5.44l.94 2.06.94-2.06 2.06-.94-2.06-.94-.94-2.06-.94 2.06-2.06.94zm-11 1L8.5 8.5l.94-2.06 2.06-.94-2.06-.94L8.5 2.5l-.94 2.06-2.06.94zm10 10l.94 2.06.94-2.06 2.06-.94-2.06-.94-.94-2.06-.94 2.06-2.06.94z\"/><path d=\"M17.41 7.96l-1.37-1.37c-.4-.4-.92-.59-1.43-.59-.52 0-1.04.2-1.43.59L10.3 9.45l-7.72 7.72c-.78.78-.78 2.05 0 2.83L4 21.41c.39.39.9.59 1.41.59.51 0 1.02-.2 1.41-.59l7.78-7.78 2.81-2.81c.8-.78.8-2.07 0-2.86zM5.41 20L4 18.59l7.72-7.72 1.47 1.35L5.41 20z\"/>\n",
              "  </svg>\n",
              "      </button>\n",
              "      \n",
              "  <style>\n",
              "    .colab-df-container {\n",
              "      display:flex;\n",
              "      flex-wrap:wrap;\n",
              "      gap: 12px;\n",
              "    }\n",
              "\n",
              "    .colab-df-convert {\n",
              "      background-color: #E8F0FE;\n",
              "      border: none;\n",
              "      border-radius: 50%;\n",
              "      cursor: pointer;\n",
              "      display: none;\n",
              "      fill: #1967D2;\n",
              "      height: 32px;\n",
              "      padding: 0 0 0 0;\n",
              "      width: 32px;\n",
              "    }\n",
              "\n",
              "    .colab-df-convert:hover {\n",
              "      background-color: #E2EBFA;\n",
              "      box-shadow: 0px 1px 2px rgba(60, 64, 67, 0.3), 0px 1px 3px 1px rgba(60, 64, 67, 0.15);\n",
              "      fill: #174EA6;\n",
              "    }\n",
              "\n",
              "    [theme=dark] .colab-df-convert {\n",
              "      background-color: #3B4455;\n",
              "      fill: #D2E3FC;\n",
              "    }\n",
              "\n",
              "    [theme=dark] .colab-df-convert:hover {\n",
              "      background-color: #434B5C;\n",
              "      box-shadow: 0px 1px 3px 1px rgba(0, 0, 0, 0.15);\n",
              "      filter: drop-shadow(0px 1px 2px rgba(0, 0, 0, 0.3));\n",
              "      fill: #FFFFFF;\n",
              "    }\n",
              "  </style>\n",
              "\n",
              "      <script>\n",
              "        const buttonEl =\n",
              "          document.querySelector('#df-1772748f-7e27-487e-a27d-604a93137798 button.colab-df-convert');\n",
              "        buttonEl.style.display =\n",
              "          google.colab.kernel.accessAllowed ? 'block' : 'none';\n",
              "\n",
              "        async function convertToInteractive(key) {\n",
              "          const element = document.querySelector('#df-1772748f-7e27-487e-a27d-604a93137798');\n",
              "          const dataTable =\n",
              "            await google.colab.kernel.invokeFunction('convertToInteractive',\n",
              "                                                     [key], {});\n",
              "          if (!dataTable) return;\n",
              "\n",
              "          const docLinkHtml = 'Like what you see? Visit the ' +\n",
              "            '<a target=\"_blank\" href=https://colab.research.google.com/notebooks/data_table.ipynb>data table notebook</a>'\n",
              "            + ' to learn more about interactive tables.';\n",
              "          element.innerHTML = '';\n",
              "          dataTable['output_type'] = 'display_data';\n",
              "          await google.colab.output.renderOutput(dataTable, element);\n",
              "          const docLink = document.createElement('div');\n",
              "          docLink.innerHTML = docLinkHtml;\n",
              "          element.appendChild(docLink);\n",
              "        }\n",
              "      </script>\n",
              "    </div>\n",
              "  </div>\n",
              "  "
            ]
          },
          "metadata": {},
          "execution_count": 2
        }
      ]
    },
    {
      "cell_type": "code",
      "source": [
        "# 독립변수와 종속변수의 선형 가정\n",
        "# 두 변수 사이의 강한 상관관계를 가지므로 선형성을 가진다.\n",
        "house[['sqft_living', 'price']].corr()"
      ],
      "metadata": {
        "colab": {
          "base_uri": "https://localhost:8080/",
          "height": 112
        },
        "id": "9uEPXLhob3Zy",
        "outputId": "bbc65870-e1b5-4e82-9020-fcb274a85d28"
      },
      "execution_count": null,
      "outputs": [
        {
          "output_type": "execute_result",
          "data": {
            "text/plain": [
              "             sqft_living     price\n",
              "sqft_living     1.000000  0.702035\n",
              "price           0.702035  1.000000"
            ],
            "text/html": [
              "\n",
              "  <div id=\"df-cdbc533a-afbf-41ed-bfee-b1c172ab44e7\">\n",
              "    <div class=\"colab-df-container\">\n",
              "      <div>\n",
              "<style scoped>\n",
              "    .dataframe tbody tr th:only-of-type {\n",
              "        vertical-align: middle;\n",
              "    }\n",
              "\n",
              "    .dataframe tbody tr th {\n",
              "        vertical-align: top;\n",
              "    }\n",
              "\n",
              "    .dataframe thead th {\n",
              "        text-align: right;\n",
              "    }\n",
              "</style>\n",
              "<table border=\"1\" class=\"dataframe\">\n",
              "  <thead>\n",
              "    <tr style=\"text-align: right;\">\n",
              "      <th></th>\n",
              "      <th>sqft_living</th>\n",
              "      <th>price</th>\n",
              "    </tr>\n",
              "  </thead>\n",
              "  <tbody>\n",
              "    <tr>\n",
              "      <th>sqft_living</th>\n",
              "      <td>1.000000</td>\n",
              "      <td>0.702035</td>\n",
              "    </tr>\n",
              "    <tr>\n",
              "      <th>price</th>\n",
              "      <td>0.702035</td>\n",
              "      <td>1.000000</td>\n",
              "    </tr>\n",
              "  </tbody>\n",
              "</table>\n",
              "</div>\n",
              "      <button class=\"colab-df-convert\" onclick=\"convertToInteractive('df-cdbc533a-afbf-41ed-bfee-b1c172ab44e7')\"\n",
              "              title=\"Convert this dataframe to an interactive table.\"\n",
              "              style=\"display:none;\">\n",
              "        \n",
              "  <svg xmlns=\"http://www.w3.org/2000/svg\" height=\"24px\"viewBox=\"0 0 24 24\"\n",
              "       width=\"24px\">\n",
              "    <path d=\"M0 0h24v24H0V0z\" fill=\"none\"/>\n",
              "    <path d=\"M18.56 5.44l.94 2.06.94-2.06 2.06-.94-2.06-.94-.94-2.06-.94 2.06-2.06.94zm-11 1L8.5 8.5l.94-2.06 2.06-.94-2.06-.94L8.5 2.5l-.94 2.06-2.06.94zm10 10l.94 2.06.94-2.06 2.06-.94-2.06-.94-.94-2.06-.94 2.06-2.06.94z\"/><path d=\"M17.41 7.96l-1.37-1.37c-.4-.4-.92-.59-1.43-.59-.52 0-1.04.2-1.43.59L10.3 9.45l-7.72 7.72c-.78.78-.78 2.05 0 2.83L4 21.41c.39.39.9.59 1.41.59.51 0 1.02-.2 1.41-.59l7.78-7.78 2.81-2.81c.8-.78.8-2.07 0-2.86zM5.41 20L4 18.59l7.72-7.72 1.47 1.35L5.41 20z\"/>\n",
              "  </svg>\n",
              "      </button>\n",
              "      \n",
              "  <style>\n",
              "    .colab-df-container {\n",
              "      display:flex;\n",
              "      flex-wrap:wrap;\n",
              "      gap: 12px;\n",
              "    }\n",
              "\n",
              "    .colab-df-convert {\n",
              "      background-color: #E8F0FE;\n",
              "      border: none;\n",
              "      border-radius: 50%;\n",
              "      cursor: pointer;\n",
              "      display: none;\n",
              "      fill: #1967D2;\n",
              "      height: 32px;\n",
              "      padding: 0 0 0 0;\n",
              "      width: 32px;\n",
              "    }\n",
              "\n",
              "    .colab-df-convert:hover {\n",
              "      background-color: #E2EBFA;\n",
              "      box-shadow: 0px 1px 2px rgba(60, 64, 67, 0.3), 0px 1px 3px 1px rgba(60, 64, 67, 0.15);\n",
              "      fill: #174EA6;\n",
              "    }\n",
              "\n",
              "    [theme=dark] .colab-df-convert {\n",
              "      background-color: #3B4455;\n",
              "      fill: #D2E3FC;\n",
              "    }\n",
              "\n",
              "    [theme=dark] .colab-df-convert:hover {\n",
              "      background-color: #434B5C;\n",
              "      box-shadow: 0px 1px 3px 1px rgba(0, 0, 0, 0.15);\n",
              "      filter: drop-shadow(0px 1px 2px rgba(0, 0, 0, 0.3));\n",
              "      fill: #FFFFFF;\n",
              "    }\n",
              "  </style>\n",
              "\n",
              "      <script>\n",
              "        const buttonEl =\n",
              "          document.querySelector('#df-cdbc533a-afbf-41ed-bfee-b1c172ab44e7 button.colab-df-convert');\n",
              "        buttonEl.style.display =\n",
              "          google.colab.kernel.accessAllowed ? 'block' : 'none';\n",
              "\n",
              "        async function convertToInteractive(key) {\n",
              "          const element = document.querySelector('#df-cdbc533a-afbf-41ed-bfee-b1c172ab44e7');\n",
              "          const dataTable =\n",
              "            await google.colab.kernel.invokeFunction('convertToInteractive',\n",
              "                                                     [key], {});\n",
              "          if (!dataTable) return;\n",
              "\n",
              "          const docLinkHtml = 'Like what you see? Visit the ' +\n",
              "            '<a target=\"_blank\" href=https://colab.research.google.com/notebooks/data_table.ipynb>data table notebook</a>'\n",
              "            + ' to learn more about interactive tables.';\n",
              "          element.innerHTML = '';\n",
              "          dataTable['output_type'] = 'display_data';\n",
              "          await google.colab.output.renderOutput(dataTable, element);\n",
              "          const docLink = document.createElement('div');\n",
              "          docLink.innerHTML = docLinkHtml;\n",
              "          element.appendChild(docLink);\n",
              "        }\n",
              "      </script>\n",
              "    </div>\n",
              "  </div>\n",
              "  "
            ]
          },
          "metadata": {},
          "execution_count": 3
        }
      ]
    },
    {
      "cell_type": "code",
      "source": [
        "y = house['price']\n",
        "X = house[['sqft_living']]\n",
        "\n",
        "from statsmodels.formula.api import ols\n",
        "\n",
        "# 단순선형회귀모형 적합\n",
        "lr = ols('price ~ sqft_living', data=house).fit()"
      ],
      "metadata": {
        "id": "4WVc5dUrb_nw"
      },
      "execution_count": null,
      "outputs": []
    },
    {
      "cell_type": "code",
      "source": [
        "# 회귀계수\n",
        "lr.params"
      ],
      "metadata": {
        "colab": {
          "base_uri": "https://localhost:8080/"
        },
        "id": "n6GqPETFcbcx",
        "outputId": "3dd0142f-92db-4f77-9b5a-4d97c65a9334"
      },
      "execution_count": null,
      "outputs": [
        {
          "output_type": "execute_result",
          "data": {
            "text/plain": [
              "Intercept     -43580.743094\n",
              "sqft_living      280.623568\n",
              "dtype: float64"
            ]
          },
          "metadata": {},
          "execution_count": 5
        }
      ]
    },
    {
      "cell_type": "code",
      "source": [
        "y_pred = lr.predict(X) # 회귀결과\n",
        "y_pred"
      ],
      "metadata": {
        "colab": {
          "base_uri": "https://localhost:8080/"
        },
        "id": "YNdKsZikckV9",
        "outputId": "c9d3639f-c8a8-47c9-9517-63a35c91d085"
      },
      "execution_count": null,
      "outputs": [
        {
          "output_type": "execute_result",
          "data": {
            "text/plain": [
              "0        287555.067025\n",
              "1        677621.826402\n",
              "2        172499.404187\n",
              "3        506441.449985\n",
              "4        427866.850973\n",
              "             ...      \n",
              "21608    385773.315789\n",
              "21609    604659.698749\n",
              "21610    242655.296161\n",
              "21611    405416.965541\n",
              "21612    242655.296161\n",
              "Length: 21613, dtype: float64"
            ]
          },
          "metadata": {},
          "execution_count": 6
        }
      ]
    },
    {
      "cell_type": "code",
      "source": [
        "resid = y - y_pred # 잔차"
      ],
      "metadata": {
        "id": "nCUKs7pVcotz"
      },
      "execution_count": null,
      "outputs": []
    },
    {
      "cell_type": "code",
      "source": [
        "# mse\n",
        "(resid**2).sum()/len(y)"
      ],
      "metadata": {
        "colab": {
          "base_uri": "https://localhost:8080/"
        },
        "id": "ET_RIdmhc9fu",
        "outputId": "ba8e4a21-af80-46ca-95ce-fca58789f534"
      },
      "execution_count": null,
      "outputs": [
        {
          "output_type": "execute_result",
          "data": {
            "text/plain": [
              "68351286833.039825"
            ]
          },
          "metadata": {},
          "execution_count": 10
        }
      ]
    },
    {
      "cell_type": "code",
      "source": [
        "# rmse\n",
        "np.sqrt((resid**2).sum()/len(y)) # 추정치인 y_hat과 얼마나 떨어져 있는지"
      ],
      "metadata": {
        "colab": {
          "base_uri": "https://localhost:8080/"
        },
        "id": "iq15P_wActrD",
        "outputId": "683458b3-2620-40ac-bb0b-0bc17680fafd"
      },
      "execution_count": null,
      "outputs": [
        {
          "output_type": "execute_result",
          "data": {
            "text/plain": [
              "261440.79030067177"
            ]
          },
          "metadata": {},
          "execution_count": 11
        }
      ]
    },
    {
      "cell_type": "code",
      "source": [
        "lr.summary()"
      ],
      "metadata": {
        "colab": {
          "base_uri": "https://localhost:8080/",
          "height": 486
        },
        "id": "QjXYYnuhcxY-",
        "outputId": "85a31100-8161-43c7-fdc2-e94877b8f0e0"
      },
      "execution_count": null,
      "outputs": [
        {
          "output_type": "execute_result",
          "data": {
            "text/plain": [
              "<class 'statsmodels.iolib.summary.Summary'>\n",
              "\"\"\"\n",
              "                            OLS Regression Results                            \n",
              "==============================================================================\n",
              "Dep. Variable:                  price   R-squared:                       0.493\n",
              "Model:                            OLS   Adj. R-squared:                  0.493\n",
              "Method:                 Least Squares   F-statistic:                 2.100e+04\n",
              "Date:                Sat, 29 Apr 2023   Prob (F-statistic):               0.00\n",
              "Time:                        23:57:23   Log-Likelihood:            -3.0027e+05\n",
              "No. Observations:               21613   AIC:                         6.005e+05\n",
              "Df Residuals:                   21611   BIC:                         6.006e+05\n",
              "Df Model:                           1                                         \n",
              "Covariance Type:            nonrobust                                         \n",
              "===============================================================================\n",
              "                  coef    std err          t      P>|t|      [0.025      0.975]\n",
              "-------------------------------------------------------------------------------\n",
              "Intercept   -4.358e+04   4402.690     -9.899      0.000   -5.22e+04    -3.5e+04\n",
              "sqft_living   280.6236      1.936    144.920      0.000     276.828     284.419\n",
              "==============================================================================\n",
              "Omnibus:                    14832.490   Durbin-Watson:                   1.983\n",
              "Prob(Omnibus):                  0.000   Jarque-Bera (JB):           546444.713\n",
              "Skew:                           2.824   Prob(JB):                         0.00\n",
              "Kurtosis:                      26.977   Cond. No.                     5.63e+03\n",
              "==============================================================================\n",
              "\n",
              "Notes:\n",
              "[1] Standard Errors assume that the covariance matrix of the errors is correctly specified.\n",
              "[2] The condition number is large, 5.63e+03. This might indicate that there are\n",
              "strong multicollinearity or other numerical problems.\n",
              "\"\"\""
            ],
            "text/html": [
              "<table class=\"simpletable\">\n",
              "<caption>OLS Regression Results</caption>\n",
              "<tr>\n",
              "  <th>Dep. Variable:</th>          <td>price</td>      <th>  R-squared:         </th>  <td>   0.493</td>  \n",
              "</tr>\n",
              "<tr>\n",
              "  <th>Model:</th>                   <td>OLS</td>       <th>  Adj. R-squared:    </th>  <td>   0.493</td>  \n",
              "</tr>\n",
              "<tr>\n",
              "  <th>Method:</th>             <td>Least Squares</td>  <th>  F-statistic:       </th>  <td>2.100e+04</td> \n",
              "</tr>\n",
              "<tr>\n",
              "  <th>Date:</th>             <td>Sat, 29 Apr 2023</td> <th>  Prob (F-statistic):</th>   <td>  0.00</td>   \n",
              "</tr>\n",
              "<tr>\n",
              "  <th>Time:</th>                 <td>23:57:23</td>     <th>  Log-Likelihood:    </th> <td>-3.0027e+05</td>\n",
              "</tr>\n",
              "<tr>\n",
              "  <th>No. Observations:</th>      <td> 21613</td>      <th>  AIC:               </th>  <td>6.005e+05</td> \n",
              "</tr>\n",
              "<tr>\n",
              "  <th>Df Residuals:</th>          <td> 21611</td>      <th>  BIC:               </th>  <td>6.006e+05</td> \n",
              "</tr>\n",
              "<tr>\n",
              "  <th>Df Model:</th>              <td>     1</td>      <th>                     </th>      <td> </td>     \n",
              "</tr>\n",
              "<tr>\n",
              "  <th>Covariance Type:</th>      <td>nonrobust</td>    <th>                     </th>      <td> </td>     \n",
              "</tr>\n",
              "</table>\n",
              "<table class=\"simpletable\">\n",
              "<tr>\n",
              "       <td></td>          <th>coef</th>     <th>std err</th>      <th>t</th>      <th>P>|t|</th>  <th>[0.025</th>    <th>0.975]</th>  \n",
              "</tr>\n",
              "<tr>\n",
              "  <th>Intercept</th>   <td>-4.358e+04</td> <td> 4402.690</td> <td>   -9.899</td> <td> 0.000</td> <td>-5.22e+04</td> <td> -3.5e+04</td>\n",
              "</tr>\n",
              "<tr>\n",
              "  <th>sqft_living</th> <td>  280.6236</td> <td>    1.936</td> <td>  144.920</td> <td> 0.000</td> <td>  276.828</td> <td>  284.419</td>\n",
              "</tr>\n",
              "</table>\n",
              "<table class=\"simpletable\">\n",
              "<tr>\n",
              "  <th>Omnibus:</th>       <td>14832.490</td> <th>  Durbin-Watson:     </th>  <td>   1.983</td> \n",
              "</tr>\n",
              "<tr>\n",
              "  <th>Prob(Omnibus):</th>  <td> 0.000</td>   <th>  Jarque-Bera (JB):  </th> <td>546444.713</td>\n",
              "</tr>\n",
              "<tr>\n",
              "  <th>Skew:</th>           <td> 2.824</td>   <th>  Prob(JB):          </th>  <td>    0.00</td> \n",
              "</tr>\n",
              "<tr>\n",
              "  <th>Kurtosis:</th>       <td>26.977</td>   <th>  Cond. No.          </th>  <td>5.63e+03</td> \n",
              "</tr>\n",
              "</table><br/><br/>Notes:<br/>[1] Standard Errors assume that the covariance matrix of the errors is correctly specified.<br/>[2] The condition number is large, 5.63e+03. This might indicate that there are<br/>strong multicollinearity or other numerical problems."
            ]
          },
          "metadata": {},
          "execution_count": 9
        }
      ]
    },
    {
      "cell_type": "code",
      "source": [
        "# 회귀모형의 시각화\n",
        "import matplotlib.pyplot as plt\n",
        "plt.scatter(X, y) # 원 데이터 산포도\n",
        "plt.plot(X, y_pred, color='red') # 회귀직선\n",
        "\n",
        "plt.xlabel('sqft_living', fontsize=10)\n",
        "plt.ylabel('price', fontsize=10)\n",
        "plt.title('Linear Regression Result')\n",
        "plt.show()"
      ],
      "metadata": {
        "colab": {
          "base_uri": "https://localhost:8080/",
          "height": 472
        },
        "id": "T7h6m5A8cyZ-",
        "outputId": "de2aed32-f27b-4f67-f574-973f1c6e1193"
      },
      "execution_count": null,
      "outputs": [
        {
          "output_type": "display_data",
          "data": {
            "text/plain": [
              "<Figure size 640x480 with 1 Axes>"
            ],
            "image/png": "[encoded data removed]"
          },
          "metadata": {}
        }
      ]
    },
    {
      "cell_type": "code",
      "source": [
        "# 잔차가 정규분포를 따르는지 확인\n",
        "import statsmodels.api as sm\n",
        "\n",
        "sm.qqplot(resid, line='r', alpha=0.4)\n",
        "# line은 참조선을 그리는 것\n",
        "# '45': 45도선, 's': 표준화된 라인, 'r': 회귀선, 'q': 사분위수를 통과하는 선\n",
        "# 직선에 가까울수록 정규성을 띔\n",
        "plt.show()"
      ],
      "metadata": {
        "colab": {
          "base_uri": "https://localhost:8080/",
          "height": 465
        },
        "id": "J2qysJZkeKUH",
        "outputId": "10e14b95-3b9c-4117-eab5-eac34722bcaa"
      },
      "execution_count": null,
      "outputs": [
        {
          "output_type": "display_data",
          "data": {
            "text/plain": [
              "<Figure size 640x480 with 1 Axes>"
            ],
            "image/png": "[encoded data removed]"
          },
          "metadata": {}
        }
      ]
    },
    {
      "cell_type": "markdown",
      "source": [
        "##### 결과해석\n",
        "F-통계량의 p-value는 0에 가까우므로 유의수준 0.05보다 작아 회귀모형은 유의하다. 회귀계수들의 t통계량을 살펴보면 t통계량의 p-value가 모두 유의수준 0.05보다 작으므로 모든 회귀계수가 유의함을 알 수 있다. 따라서 회귀식은 Price = sqft_living * 280.6236 - 43580.743094\n",
        "하지만 결정계수는 0.493으로 회귀모형의 데이터에 대한 설명력은 49.3%로 높지 않다.\n",
        "\n",
        "오차항의 가정을 살펴보면  \n",
        "Durbin-Watson 통계량이 1.983으로 2에 가까우므로 오차항이 독립성을 만족한다.  \n",
        "하지만 qq plot을 통해 정규성을 만족하지 않음을 확인할 수 있다."
      ],
      "metadata": {
        "id": "5m5RnVNWes2C"
      }
    },
    {
      "cell_type": "markdown",
      "source": [
        "#### 다중회귀모형\n",
        "Q. kc_house_data 데이터에서 price를 종속변수로 설정하고 date와 id를 제외한 나머지 칼럼을 독립변수로 설정하여 회귀분석 실시"
      ],
      "metadata": {
        "id": "9ifkvsa7iB7E"
      }
    },
    {
      "cell_type": "code",
      "source": [
        "import pandas as pd\n",
        "import numpy as np\n",
        "house = pd.read_csv('/content/drive/MyDrive/Colab Notebooks/adp_class101/data/kc_house_data.csv')\n",
        "house.head()"
      ],
      "metadata": {
        "colab": {
          "base_uri": "https://localhost:8080/",
          "height": 270
        },
        "id": "Jh1IEqQwg2lF",
        "outputId": "2ed59bd2-9895-4632-db58-ba8675fa4801"
      },
      "execution_count": null,
      "outputs": [
        {
          "output_type": "execute_result",
          "data": {
            "text/plain": [
              "           id             date     price  bedrooms  bathrooms  sqft_living  \\\n",
              "0  7129300520  20141013T000000  221900.0         3       1.00         1180   \n",
              "1  6414100192  20141209T000000  538000.0         3       2.25         2570   \n",
              "2  5631500400  20150225T000000  180000.0         2       1.00          770   \n",
              "3  2487200875  20141209T000000  604000.0         4       3.00         1960   \n",
              "4  1954400510  20150218T000000  510000.0         3       2.00         1680   \n",
              "\n",
              "   sqft_lot  floors waterfront  view  condition  grade  sqft_above  \\\n",
              "0      5650     1.0   standard     0          3      7        1180   \n",
              "1      7242     2.0   standard     0          3      7        2170   \n",
              "2     10000     1.0   standard     0          3      6         770   \n",
              "3      5000     1.0   standard     0          5      7        1050   \n",
              "4      8080     1.0   standard     0          3      8        1680   \n",
              "\n",
              "   sqft_basement  yr_built  yr_renovated  sqft_living15  sqft_lot15  \n",
              "0              0      1955             0           1340        5650  \n",
              "1            400      1951          1991           1690        7639  \n",
              "2              0      1933             0           2720        8062  \n",
              "3            910      1965             0           1360        5000  \n",
              "4              0      1987             0           1800        7503  "
            ],
            "text/html": [
              "\n",
              "  <div id=\"df-de0c3069-32ed-483b-aedc-1c4df7467ccb\">\n",
              "    <div class=\"colab-df-container\">\n",
              "      <div>\n",
              "<style scoped>\n",
              "    .dataframe tbody tr th:only-of-type {\n",
              "        vertical-align: middle;\n",
              "    }\n",
              "\n",
              "    .dataframe tbody tr th {\n",
              "        vertical-align: top;\n",
              "    }\n",
              "\n",
              "    .dataframe thead th {\n",
              "        text-align: right;\n",
              "    }\n",
              "</style>\n",
              "<table border=\"1\" class=\"dataframe\">\n",
              "  <thead>\n",
              "    <tr style=\"text-align: right;\">\n",
              "      <th></th>\n",
              "      <th>id</th>\n",
              "      <th>date</th>\n",
              "      <th>price</th>\n",
              "      <th>bedrooms</th>\n",
              "      <th>bathrooms</th>\n",
              "      <th>sqft_living</th>\n",
              "      <th>sqft_lot</th>\n",
              "      <th>floors</th>\n",
              "      <th>waterfront</th>\n",
              "      <th>view</th>\n",
              "      <th>condition</th>\n",
              "      <th>grade</th>\n",
              "      <th>sqft_above</th>\n",
              "      <th>sqft_basement</th>\n",
              "      <th>yr_built</th>\n",
              "      <th>yr_renovated</th>\n",
              "      <th>sqft_living15</th>\n",
              "      <th>sqft_lot15</th>\n",
              "    </tr>\n",
              "  </thead>\n",
              "  <tbody>\n",
              "    <tr>\n",
              "      <th>0</th>\n",
              "      <td>7129300520</td>\n",
              "      <td>20141013T000000</td>\n",
              "      <td>221900.0</td>\n",
              "      <td>3</td>\n",
              "      <td>1.00</td>\n",
              "      <td>1180</td>\n",
              "      <td>5650</td>\n",
              "      <td>1.0</td>\n",
              "      <td>standard</td>\n",
              "      <td>0</td>\n",
              "      <td>3</td>\n",
              "      <td>7</td>\n",
              "      <td>1180</td>\n",
              "      <td>0</td>\n",
              "      <td>1955</td>\n",
              "      <td>0</td>\n",
              "      <td>1340</td>\n",
              "      <td>5650</td>\n",
              "    </tr>\n",
              "    <tr>\n",
              "      <th>1</th>\n",
              "      <td>6414100192</td>\n",
              "      <td>20141209T000000</td>\n",
              "      <td>538000.0</td>\n",
              "      <td>3</td>\n",
              "      <td>2.25</td>\n",
              "      <td>2570</td>\n",
              "      <td>7242</td>\n",
              "      <td>2.0</td>\n",
              "      <td>standard</td>\n",
              "      <td>0</td>\n",
              "      <td>3</td>\n",
              "      <td>7</td>\n",
              "      <td>2170</td>\n",
              "      <td>400</td>\n",
              "      <td>1951</td>\n",
              "      <td>1991</td>\n",
              "      <td>1690</td>\n",
              "      <td>7639</td>\n",
              "    </tr>\n",
              "    <tr>\n",
              "      <th>2</th>\n",
              "      <td>5631500400</td>\n",
              "      <td>20150225T000000</td>\n",
              "      <td>180000.0</td>\n",
              "      <td>2</td>\n",
              "      <td>1.00</td>\n",
              "      <td>770</td>\n",
              "      <td>10000</td>\n",
              "      <td>1.0</td>\n",
              "      <td>standard</td>\n",
              "      <td>0</td>\n",
              "      <td>3</td>\n",
              "      <td>6</td>\n",
              "      <td>770</td>\n",
              "      <td>0</td>\n",
              "      <td>1933</td>\n",
              "      <td>0</td>\n",
              "      <td>2720</td>\n",
              "      <td>8062</td>\n",
              "    </tr>\n",
              "    <tr>\n",
              "      <th>3</th>\n",
              "      <td>2487200875</td>\n",
              "      <td>20141209T000000</td>\n",
              "      <td>604000.0</td>\n",
              "      <td>4</td>\n",
              "      <td>3.00</td>\n",
              "      <td>1960</td>\n",
              "      <td>5000</td>\n",
              "      <td>1.0</td>\n",
              "      <td>standard</td>\n",
              "      <td>0</td>\n",
              "      <td>5</td>\n",
              "      <td>7</td>\n",
              "      <td>1050</td>\n",
              "      <td>910</td>\n",
              "      <td>1965</td>\n",
              "      <td>0</td>\n",
              "      <td>1360</td>\n",
              "      <td>5000</td>\n",
              "    </tr>\n",
              "    <tr>\n",
              "      <th>4</th>\n",
              "      <td>1954400510</td>\n",
              "      <td>20150218T000000</td>\n",
              "      <td>510000.0</td>\n",
              "      <td>3</td>\n",
              "      <td>2.00</td>\n",
              "      <td>1680</td>\n",
              "      <td>8080</td>\n",
              "      <td>1.0</td>\n",
              "      <td>standard</td>\n",
              "      <td>0</td>\n",
              "      <td>3</td>\n",
              "      <td>8</td>\n",
              "      <td>1680</td>\n",
              "      <td>0</td>\n",
              "      <td>1987</td>\n",
              "      <td>0</td>\n",
              "      <td>1800</td>\n",
              "      <td>7503</td>\n",
              "    </tr>\n",
              "  </tbody>\n",
              "</table>\n",
              "</div>\n",
              "      <button class=\"colab-df-convert\" onclick=\"convertToInteractive('df-de0c3069-32ed-483b-aedc-1c4df7467ccb')\"\n",
              "              title=\"Convert this dataframe to an interactive table.\"\n",
              "              style=\"display:none;\">\n",
              "        \n",
              "  <svg xmlns=\"http://www.w3.org/2000/svg\" height=\"24px\"viewBox=\"0 0 24 24\"\n",
              "       width=\"24px\">\n",
              "    <path d=\"M0 0h24v24H0V0z\" fill=\"none\"/>\n",
              "    <path d=\"M18.56 5.44l.94 2.06.94-2.06 2.06-.94-2.06-.94-.94-2.06-.94 2.06-2.06.94zm-11 1L8.5 8.5l.94-2.06 2.06-.94-2.06-.94L8.5 2.5l-.94 2.06-2.06.94zm10 10l.94 2.06.94-2.06 2.06-.94-2.06-.94-.94-2.06-.94 2.06-2.06.94z\"/><path d=\"M17.41 7.96l-1.37-1.37c-.4-.4-.92-.59-1.43-.59-.52 0-1.04.2-1.43.59L10.3 9.45l-7.72 7.72c-.78.78-.78 2.05 0 2.83L4 21.41c.39.39.9.59 1.41.59.51 0 1.02-.2 1.41-.59l7.78-7.78 2.81-2.81c.8-.78.8-2.07 0-2.86zM5.41 20L4 18.59l7.72-7.72 1.47 1.35L5.41 20z\"/>\n",
              "  </svg>\n",
              "      </button>\n",
              "      \n",
              "  <style>\n",
              "    .colab-df-container {\n",
              "      display:flex;\n",
              "      flex-wrap:wrap;\n",
              "      gap: 12px;\n",
              "    }\n",
              "\n",
              "    .colab-df-convert {\n",
              "      background-color: #E8F0FE;\n",
              "      border: none;\n",
              "      border-radius: 50%;\n",
              "      cursor: pointer;\n",
              "      display: none;\n",
              "      fill: #1967D2;\n",
              "      height: 32px;\n",
              "      padding: 0 0 0 0;\n",
              "      width: 32px;\n",
              "    }\n",
              "\n",
              "    .colab-df-convert:hover {\n",
              "      background-color: #E2EBFA;\n",
              "      box-shadow: 0px 1px 2px rgba(60, 64, 67, 0.3), 0px 1px 3px 1px rgba(60, 64, 67, 0.15);\n",
              "      fill: #174EA6;\n",
              "    }\n",
              "\n",
              "    [theme=dark] .colab-df-convert {\n",
              "      background-color: #3B4455;\n",
              "      fill: #D2E3FC;\n",
              "    }\n",
              "\n",
              "    [theme=dark] .colab-df-convert:hover {\n",
              "      background-color: #434B5C;\n",
              "      box-shadow: 0px 1px 3px 1px rgba(0, 0, 0, 0.15);\n",
              "      filter: drop-shadow(0px 1px 2px rgba(0, 0, 0, 0.3));\n",
              "      fill: #FFFFFF;\n",
              "    }\n",
              "  </style>\n",
              "\n",
              "      <script>\n",
              "        const buttonEl =\n",
              "          document.querySelector('#df-de0c3069-32ed-483b-aedc-1c4df7467ccb button.colab-df-convert');\n",
              "        buttonEl.style.display =\n",
              "          google.colab.kernel.accessAllowed ? 'block' : 'none';\n",
              "\n",
              "        async function convertToInteractive(key) {\n",
              "          const element = document.querySelector('#df-de0c3069-32ed-483b-aedc-1c4df7467ccb');\n",
              "          const dataTable =\n",
              "            await google.colab.kernel.invokeFunction('convertToInteractive',\n",
              "                                                     [key], {});\n",
              "          if (!dataTable) return;\n",
              "\n",
              "          const docLinkHtml = 'Like what you see? Visit the ' +\n",
              "            '<a target=\"_blank\" href=https://colab.research.google.com/notebooks/data_table.ipynb>data table notebook</a>'\n",
              "            + ' to learn more about interactive tables.';\n",
              "          element.innerHTML = '';\n",
              "          dataTable['output_type'] = 'display_data';\n",
              "          await google.colab.output.renderOutput(dataTable, element);\n",
              "          const docLink = document.createElement('div');\n",
              "          docLink.innerHTML = docLinkHtml;\n",
              "          element.appendChild(docLink);\n",
              "        }\n",
              "      </script>\n",
              "    </div>\n",
              "  </div>\n",
              "  "
            ]
          },
          "metadata": {},
          "execution_count": 14
        }
      ]
    },
    {
      "cell_type": "code",
      "source": [
        "house.info()"
      ],
      "metadata": {
        "colab": {
          "base_uri": "https://localhost:8080/"
        },
        "id": "f1aS6fuEiVLO",
        "outputId": "a0960d3d-aa8f-41e0-fa68-4e7335d0f699"
      },
      "execution_count": null,
      "outputs": [
        {
          "output_type": "stream",
          "name": "stdout",
          "text": [
            "<class 'pandas.core.frame.DataFrame'>\n",
            "RangeIndex: 21613 entries, 0 to 21612\n",
            "Data columns (total 18 columns):\n",
            " #   Column         Non-Null Count  Dtype  \n",
            "---  ------         --------------  -----  \n",
            " 0   id             21613 non-null  int64  \n",
            " 1   date           21613 non-null  object \n",
            " 2   price          21613 non-null  float64\n",
            " 3   bedrooms       21613 non-null  int64  \n",
            " 4   bathrooms      21613 non-null  float64\n",
            " 5   sqft_living    21613 non-null  int64  \n",
            " 6   sqft_lot       21613 non-null  int64  \n",
            " 7   floors         21613 non-null  float64\n",
            " 8   waterfront     21613 non-null  object \n",
            " 9   view           21613 non-null  int64  \n",
            " 10  condition      21613 non-null  int64  \n",
            " 11  grade          21613 non-null  int64  \n",
            " 12  sqft_above     21613 non-null  int64  \n",
            " 13  sqft_basement  21613 non-null  int64  \n",
            " 14  yr_built       21613 non-null  int64  \n",
            " 15  yr_renovated   21613 non-null  int64  \n",
            " 16  sqft_living15  21613 non-null  int64  \n",
            " 17  sqft_lot15     21613 non-null  int64  \n",
            "dtypes: float64(3), int64(13), object(2)\n",
            "memory usage: 3.0+ MB\n"
          ]
        }
      ]
    },
    {
      "cell_type": "code",
      "source": [
        "# id와 date변수 제외\n",
        "house = house.drop(['id', 'date'], axis=1)"
      ],
      "metadata": {
        "id": "B0HnOrnNiWLj"
      },
      "execution_count": null,
      "outputs": []
    },
    {
      "cell_type": "code",
      "source": [
        "# 범주형 변수를 연속형 변수로 변경\n",
        "house = pd.get_dummies(house, columns=['waterfront'])"
      ],
      "metadata": {
        "id": "pNi2AfbkileW"
      },
      "execution_count": null,
      "outputs": []
    },
    {
      "cell_type": "code",
      "source": [
        "ols_str = 'price ~ '\n",
        "for i in house.columns.drop('price'):\n",
        "  ols_str = ols_str + i + ' + '\n",
        "\n",
        "ols_str"
      ],
      "metadata": {
        "colab": {
          "base_uri": "https://localhost:8080/",
          "height": 73
        },
        "id": "gg6yG-Bsixfk",
        "outputId": "a2b287b6-6a78-464a-e024-f44e44cbadcd"
      },
      "execution_count": null,
      "outputs": [
        {
          "output_type": "execute_result",
          "data": {
            "text/plain": [
              "'price ~ bedrooms + bathrooms + sqft_living + sqft_lot + floors + view + condition + grade + sqft_above + sqft_basement + yr_built + yr_renovated + sqft_living15 + sqft_lot15 + waterfront_river_view + waterfront_standard + '"
            ],
            "application/vnd.google.colaboratory.intrinsic+json": {
              "type": "string"
            }
          },
          "metadata": {},
          "execution_count": 18
        }
      ]
    },
    {
      "cell_type": "code",
      "source": [
        "ols_str = ols_str[:-3]"
      ],
      "metadata": {
        "id": "lzDoIXg1i_NZ"
      },
      "execution_count": null,
      "outputs": []
    },
    {
      "cell_type": "code",
      "source": [
        "import statsmodels.api as sm\n",
        "import statsmodels.formula.api as smf\n",
        "\n",
        "model = smf.ols(formula=ols_str, data=house)\n",
        "result = model.fit()\n",
        "result.summary()"
      ],
      "metadata": {
        "colab": {
          "base_uri": "https://localhost:8080/",
          "height": 806
        },
        "id": "zfjSldEMjFd3",
        "outputId": "f38033ac-8ff4-45fc-c7cc-76b27680326b"
      },
      "execution_count": null,
      "outputs": [
        {
          "output_type": "execute_result",
          "data": {
            "text/plain": [
              "<class 'statsmodels.iolib.summary.Summary'>\n",
              "\"\"\"\n",
              "                            OLS Regression Results                            \n",
              "==============================================================================\n",
              "Dep. Variable:                  price   R-squared:                       0.654\n",
              "Model:                            OLS   Adj. R-squared:                  0.654\n",
              "Method:                 Least Squares   F-statistic:                     2913.\n",
              "Date:                Sun, 30 Apr 2023   Prob (F-statistic):               0.00\n",
              "Time:                        00:25:37   Log-Likelihood:            -2.9614e+05\n",
              "No. Observations:               21613   AIC:                         5.923e+05\n",
              "Df Residuals:                   21598   BIC:                         5.924e+05\n",
              "Df Model:                          14                                         \n",
              "Covariance Type:            nonrobust                                         \n",
              "=========================================================================================\n",
              "                            coef    std err          t      P>|t|      [0.025      0.975]\n",
              "-----------------------------------------------------------------------------------------\n",
              "Intercept              4.323e+06   9.26e+04     46.706      0.000    4.14e+06     4.5e+06\n",
              "bedrooms              -3.931e+04   2026.602    -19.395      0.000   -4.33e+04   -3.53e+04\n",
              "bathrooms              4.575e+04   3492.347     13.099      0.000    3.89e+04    5.26e+04\n",
              "sqft_living             109.2685      2.435     44.877      0.000     104.496     114.041\n",
              "sqft_lot                 -0.0016      0.051     -0.031      0.975      -0.102       0.099\n",
              "floors                 2.688e+04   3783.810      7.104      0.000    1.95e+04    3.43e+04\n",
              "view                   4.324e+04   2273.166     19.020      0.000    3.88e+04    4.77e+04\n",
              "condition              1.951e+04   2496.774      7.814      0.000    1.46e+04    2.44e+04\n",
              "grade                  1.197e+05   2249.149     53.230      0.000    1.15e+05    1.24e+05\n",
              "sqft_above               51.5165      2.356     21.866      0.000      46.899      56.134\n",
              "sqft_basement            57.7520      2.782     20.759      0.000      52.299      63.205\n",
              "yr_built              -3570.1592     70.988    -50.292      0.000   -3709.302   -3431.017\n",
              "yr_renovated             10.1596      3.914      2.596      0.009       2.488      17.831\n",
              "sqft_living15            24.8733      3.600      6.909      0.000      17.816      31.930\n",
              "sqft_lot15               -0.5505      0.078     -7.025      0.000      -0.704      -0.397\n",
              "waterfront_river_view  2.451e+06   4.79e+04     51.154      0.000    2.36e+06    2.55e+06\n",
              "waterfront_standard    1.872e+06   4.65e+04     40.266      0.000    1.78e+06    1.96e+06\n",
              "==============================================================================\n",
              "Omnibus:                    16329.452   Durbin-Watson:                   1.979\n",
              "Prob(Omnibus):                  0.000   Jarque-Bera (JB):          1194601.451\n",
              "Skew:                           3.030   Prob(JB):                         0.00\n",
              "Kurtosis:                      38.914   Cond. No.                     4.82e+19\n",
              "==============================================================================\n",
              "\n",
              "Notes:\n",
              "[1] Standard Errors assume that the covariance matrix of the errors is correctly specified.\n",
              "[2] The smallest eigenvalue is 2.38e-26. This might indicate that there are\n",
              "strong multicollinearity problems or that the design matrix is singular.\n",
              "\"\"\""
            ],
            "text/html": [
              "<table class=\"simpletable\">\n",
              "<caption>OLS Regression Results</caption>\n",
              "<tr>\n",
              "  <th>Dep. Variable:</th>          <td>price</td>      <th>  R-squared:         </th>  <td>   0.654</td>  \n",
              "</tr>\n",
              "<tr>\n",
              "  <th>Model:</th>                   <td>OLS</td>       <th>  Adj. R-squared:    </th>  <td>   0.654</td>  \n",
              "</tr>\n",
              "<tr>\n",
              "  <th>Method:</th>             <td>Least Squares</td>  <th>  F-statistic:       </th>  <td>   2913.</td>  \n",
              "</tr>\n",
              "<tr>\n",
              "  <th>Date:</th>             <td>Sun, 30 Apr 2023</td> <th>  Prob (F-statistic):</th>   <td>  0.00</td>   \n",
              "</tr>\n",
              "<tr>\n",
              "  <th>Time:</th>                 <td>00:25:37</td>     <th>  Log-Likelihood:    </th> <td>-2.9614e+05</td>\n",
              "</tr>\n",
              "<tr>\n",
              "  <th>No. Observations:</th>      <td> 21613</td>      <th>  AIC:               </th>  <td>5.923e+05</td> \n",
              "</tr>\n",
              "<tr>\n",
              "  <th>Df Residuals:</th>          <td> 21598</td>      <th>  BIC:               </th>  <td>5.924e+05</td> \n",
              "</tr>\n",
              "<tr>\n",
              "  <th>Df Model:</th>              <td>    14</td>      <th>                     </th>      <td> </td>     \n",
              "</tr>\n",
              "<tr>\n",
              "  <th>Covariance Type:</th>      <td>nonrobust</td>    <th>                     </th>      <td> </td>     \n",
              "</tr>\n",
              "</table>\n",
              "<table class=\"simpletable\">\n",
              "<tr>\n",
              "            <td></td>               <th>coef</th>     <th>std err</th>      <th>t</th>      <th>P>|t|</th>  <th>[0.025</th>    <th>0.975]</th>  \n",
              "</tr>\n",
              "<tr>\n",
              "  <th>Intercept</th>             <td> 4.323e+06</td> <td> 9.26e+04</td> <td>   46.706</td> <td> 0.000</td> <td> 4.14e+06</td> <td>  4.5e+06</td>\n",
              "</tr>\n",
              "<tr>\n",
              "  <th>bedrooms</th>              <td>-3.931e+04</td> <td> 2026.602</td> <td>  -19.395</td> <td> 0.000</td> <td>-4.33e+04</td> <td>-3.53e+04</td>\n",
              "</tr>\n",
              "<tr>\n",
              "  <th>bathrooms</th>             <td> 4.575e+04</td> <td> 3492.347</td> <td>   13.099</td> <td> 0.000</td> <td> 3.89e+04</td> <td> 5.26e+04</td>\n",
              "</tr>\n",
              "<tr>\n",
              "  <th>sqft_living</th>           <td>  109.2685</td> <td>    2.435</td> <td>   44.877</td> <td> 0.000</td> <td>  104.496</td> <td>  114.041</td>\n",
              "</tr>\n",
              "<tr>\n",
              "  <th>sqft_lot</th>              <td>   -0.0016</td> <td>    0.051</td> <td>   -0.031</td> <td> 0.975</td> <td>   -0.102</td> <td>    0.099</td>\n",
              "</tr>\n",
              "<tr>\n",
              "  <th>floors</th>                <td> 2.688e+04</td> <td> 3783.810</td> <td>    7.104</td> <td> 0.000</td> <td> 1.95e+04</td> <td> 3.43e+04</td>\n",
              "</tr>\n",
              "<tr>\n",
              "  <th>view</th>                  <td> 4.324e+04</td> <td> 2273.166</td> <td>   19.020</td> <td> 0.000</td> <td> 3.88e+04</td> <td> 4.77e+04</td>\n",
              "</tr>\n",
              "<tr>\n",
              "  <th>condition</th>             <td> 1.951e+04</td> <td> 2496.774</td> <td>    7.814</td> <td> 0.000</td> <td> 1.46e+04</td> <td> 2.44e+04</td>\n",
              "</tr>\n",
              "<tr>\n",
              "  <th>grade</th>                 <td> 1.197e+05</td> <td> 2249.149</td> <td>   53.230</td> <td> 0.000</td> <td> 1.15e+05</td> <td> 1.24e+05</td>\n",
              "</tr>\n",
              "<tr>\n",
              "  <th>sqft_above</th>            <td>   51.5165</td> <td>    2.356</td> <td>   21.866</td> <td> 0.000</td> <td>   46.899</td> <td>   56.134</td>\n",
              "</tr>\n",
              "<tr>\n",
              "  <th>sqft_basement</th>         <td>   57.7520</td> <td>    2.782</td> <td>   20.759</td> <td> 0.000</td> <td>   52.299</td> <td>   63.205</td>\n",
              "</tr>\n",
              "<tr>\n",
              "  <th>yr_built</th>              <td>-3570.1592</td> <td>   70.988</td> <td>  -50.292</td> <td> 0.000</td> <td>-3709.302</td> <td>-3431.017</td>\n",
              "</tr>\n",
              "<tr>\n",
              "  <th>yr_renovated</th>          <td>   10.1596</td> <td>    3.914</td> <td>    2.596</td> <td> 0.009</td> <td>    2.488</td> <td>   17.831</td>\n",
              "</tr>\n",
              "<tr>\n",
              "  <th>sqft_living15</th>         <td>   24.8733</td> <td>    3.600</td> <td>    6.909</td> <td> 0.000</td> <td>   17.816</td> <td>   31.930</td>\n",
              "</tr>\n",
              "<tr>\n",
              "  <th>sqft_lot15</th>            <td>   -0.5505</td> <td>    0.078</td> <td>   -7.025</td> <td> 0.000</td> <td>   -0.704</td> <td>   -0.397</td>\n",
              "</tr>\n",
              "<tr>\n",
              "  <th>waterfront_river_view</th> <td> 2.451e+06</td> <td> 4.79e+04</td> <td>   51.154</td> <td> 0.000</td> <td> 2.36e+06</td> <td> 2.55e+06</td>\n",
              "</tr>\n",
              "<tr>\n",
              "  <th>waterfront_standard</th>   <td> 1.872e+06</td> <td> 4.65e+04</td> <td>   40.266</td> <td> 0.000</td> <td> 1.78e+06</td> <td> 1.96e+06</td>\n",
              "</tr>\n",
              "</table>\n",
              "<table class=\"simpletable\">\n",
              "<tr>\n",
              "  <th>Omnibus:</th>       <td>16329.452</td> <th>  Durbin-Watson:     </th>  <td>   1.979</td>  \n",
              "</tr>\n",
              "<tr>\n",
              "  <th>Prob(Omnibus):</th>  <td> 0.000</td>   <th>  Jarque-Bera (JB):  </th> <td>1194601.451</td>\n",
              "</tr>\n",
              "<tr>\n",
              "  <th>Skew:</th>           <td> 3.030</td>   <th>  Prob(JB):          </th>  <td>    0.00</td>  \n",
              "</tr>\n",
              "<tr>\n",
              "  <th>Kurtosis:</th>       <td>38.914</td>   <th>  Cond. No.          </th>  <td>4.82e+19</td>  \n",
              "</tr>\n",
              "</table><br/><br/>Notes:<br/>[1] Standard Errors assume that the covariance matrix of the errors is correctly specified.<br/>[2] The smallest eigenvalue is 2.38e-26. This might indicate that there are<br/>strong multicollinearity problems or that the design matrix is singular."
            ]
          },
          "metadata": {},
          "execution_count": 20
        }
      ]
    },
    {
      "cell_type": "markdown",
      "source": [
        "#### 다중회귀분석이라면\n",
        "다중공선성 확인\n",
        "  - 다중공선성: 독립변수들 간에 강한 상관관계가 나타나는 문제. 정확한 회귀계수 추정이 어려움\n",
        "  - 변수제거, 주성분, Ridge회귀 등으로 문제 해결 가능\n",
        "  - 검사방법\n",
        "    - 상관계수가 0.9 이상인지\n",
        "    - 허용오차가 0.1 이하인지(1-Ri^2)\n",
        "    - 분산팽창요인(VIF) 값이 10이상인지(허용오차의 역수로 값이 클수록 상관성 높음)"
      ],
      "metadata": {
        "id": "REvtZXV7mtIJ"
      }
    },
    {
      "cell_type": "markdown",
      "source": [
        "Q. 'EngineSize','RPM' , 'Weight','Length' 사이의 다중공선성 확인하고 Price에 영향을 주는지 회귀 검정하기"
      ],
      "metadata": {
        "id": "0wIGn6zYnY4-"
      }
    },
    {
      "cell_type": "code",
      "source": [
        "import pandas as pd\n",
        "import numpy as np\n",
        "cars = pd.read_csv('/content/drive/MyDrive/Colab Notebooks/adp_class101/data/Cars93.csv')\n",
        "cars.head()"
      ],
      "metadata": {
        "colab": {
          "base_uri": "https://localhost:8080/",
          "height": 386
        },
        "id": "5Vrv3NzPjPyd",
        "outputId": "6b3e35a3-3735-4219-af57-e6e7430e4a23"
      },
      "execution_count": null,
      "outputs": [
        {
          "output_type": "execute_result",
          "data": {
            "text/plain": [
              "  Manufacturer    Model     Type  Min.Price  Price  Max.Price  MPG.city  \\\n",
              "0        Acura  Integra    Small       12.9   15.9       18.8        25   \n",
              "1        Acura   Legend  Midsize       29.2   33.9       38.7        18   \n",
              "2         Audi       90  Compact       25.9   29.1       32.3        20   \n",
              "3         Audi      100  Midsize       30.8   37.7       44.6        19   \n",
              "4          BMW     535i  Midsize       23.7   30.0       36.2        22   \n",
              "\n",
              "   MPG.highway             AirBags DriveTrain  ... Passengers  Length  \\\n",
              "0           31                None      Front  ...          5     177   \n",
              "1           25  Driver & Passenger      Front  ...          5     195   \n",
              "2           26         Driver only      Front  ...          5     180   \n",
              "3           26  Driver & Passenger      Front  ...          6     193   \n",
              "4           30         Driver only       Rear  ...          4     186   \n",
              "\n",
              "   Wheelbase  Width  Turn.circle Rear.seat.room  Luggage.room  Weight  \\\n",
              "0        102     68           37           26.5            11    2705   \n",
              "1        115     71           38           30.0            15    3560   \n",
              "2        102     67           37           28.0            14    3375   \n",
              "3        106     70           37           31.0            17    3405   \n",
              "4        109     69           39           27.0            13    3640   \n",
              "\n",
              "    Origin           Make  \n",
              "0  non-USA  Acura Integra  \n",
              "1  non-USA   Acura Legend  \n",
              "2  non-USA        Audi 90  \n",
              "3  non-USA       Audi 100  \n",
              "4  non-USA       BMW 535i  \n",
              "\n",
              "[5 rows x 27 columns]"
            ],
            "text/html": [
              "\n",
              "  <div id=\"df-561406de-b27d-4174-902a-2c194f93cd0f\">\n",
              "    <div class=\"colab-df-container\">\n",
              "      <div>\n",
              "<style scoped>\n",
              "    .dataframe tbody tr th:only-of-type {\n",
              "        vertical-align: middle;\n",
              "    }\n",
              "\n",
              "    .dataframe tbody tr th {\n",
              "        vertical-align: top;\n",
              "    }\n",
              "\n",
              "    .dataframe thead th {\n",
              "        text-align: right;\n",
              "    }\n",
              "</style>\n",
              "<table border=\"1\" class=\"dataframe\">\n",
              "  <thead>\n",
              "    <tr style=\"text-align: right;\">\n",
              "      <th></th>\n",
              "      <th>Manufacturer</th>\n",
              "      <th>Model</th>\n",
              "      <th>Type</th>\n",
              "      <th>Min.Price</th>\n",
              "      <th>Price</th>\n",
              "      <th>Max.Price</th>\n",
              "      <th>MPG.city</th>\n",
              "      <th>MPG.highway</th>\n",
              "      <th>AirBags</th>\n",
              "      <th>DriveTrain</th>\n",
              "      <th>...</th>\n",
              "      <th>Passengers</th>\n",
              "      <th>Length</th>\n",
              "      <th>Wheelbase</th>\n",
              "      <th>Width</th>\n",
              "      <th>Turn.circle</th>\n",
              "      <th>Rear.seat.room</th>\n",
              "      <th>Luggage.room</th>\n",
              "      <th>Weight</th>\n",
              "      <th>Origin</th>\n",
              "      <th>Make</th>\n",
              "    </tr>\n",
              "  </thead>\n",
              "  <tbody>\n",
              "    <tr>\n",
              "      <th>0</th>\n",
              "      <td>Acura</td>\n",
              "      <td>Integra</td>\n",
              "      <td>Small</td>\n",
              "      <td>12.9</td>\n",
              "      <td>15.9</td>\n",
              "      <td>18.8</td>\n",
              "      <td>25</td>\n",
              "      <td>31</td>\n",
              "      <td>None</td>\n",
              "      <td>Front</td>\n",
              "      <td>...</td>\n",
              "      <td>5</td>\n",
              "      <td>177</td>\n",
              "      <td>102</td>\n",
              "      <td>68</td>\n",
              "      <td>37</td>\n",
              "      <td>26.5</td>\n",
              "      <td>11</td>\n",
              "      <td>2705</td>\n",
              "      <td>non-USA</td>\n",
              "      <td>Acura Integra</td>\n",
              "    </tr>\n",
              "    <tr>\n",
              "      <th>1</th>\n",
              "      <td>Acura</td>\n",
              "      <td>Legend</td>\n",
              "      <td>Midsize</td>\n",
              "      <td>29.2</td>\n",
              "      <td>33.9</td>\n",
              "      <td>38.7</td>\n",
              "      <td>18</td>\n",
              "      <td>25</td>\n",
              "      <td>Driver &amp; Passenger</td>\n",
              "      <td>Front</td>\n",
              "      <td>...</td>\n",
              "      <td>5</td>\n",
              "      <td>195</td>\n",
              "      <td>115</td>\n",
              "      <td>71</td>\n",
              "      <td>38</td>\n",
              "      <td>30.0</td>\n",
              "      <td>15</td>\n",
              "      <td>3560</td>\n",
              "      <td>non-USA</td>\n",
              "      <td>Acura Legend</td>\n",
              "    </tr>\n",
              "    <tr>\n",
              "      <th>2</th>\n",
              "      <td>Audi</td>\n",
              "      <td>90</td>\n",
              "      <td>Compact</td>\n",
              "      <td>25.9</td>\n",
              "      <td>29.1</td>\n",
              "      <td>32.3</td>\n",
              "      <td>20</td>\n",
              "      <td>26</td>\n",
              "      <td>Driver only</td>\n",
              "      <td>Front</td>\n",
              "      <td>...</td>\n",
              "      <td>5</td>\n",
              "      <td>180</td>\n",
              "      <td>102</td>\n",
              "      <td>67</td>\n",
              "      <td>37</td>\n",
              "      <td>28.0</td>\n",
              "      <td>14</td>\n",
              "      <td>3375</td>\n",
              "      <td>non-USA</td>\n",
              "      <td>Audi 90</td>\n",
              "    </tr>\n",
              "    <tr>\n",
              "      <th>3</th>\n",
              "      <td>Audi</td>\n",
              "      <td>100</td>\n",
              "      <td>Midsize</td>\n",
              "      <td>30.8</td>\n",
              "      <td>37.7</td>\n",
              "      <td>44.6</td>\n",
              "      <td>19</td>\n",
              "      <td>26</td>\n",
              "      <td>Driver &amp; Passenger</td>\n",
              "      <td>Front</td>\n",
              "      <td>...</td>\n",
              "      <td>6</td>\n",
              "      <td>193</td>\n",
              "      <td>106</td>\n",
              "      <td>70</td>\n",
              "      <td>37</td>\n",
              "      <td>31.0</td>\n",
              "      <td>17</td>\n",
              "      <td>3405</td>\n",
              "      <td>non-USA</td>\n",
              "      <td>Audi 100</td>\n",
              "    </tr>\n",
              "    <tr>\n",
              "      <th>4</th>\n",
              "      <td>BMW</td>\n",
              "      <td>535i</td>\n",
              "      <td>Midsize</td>\n",
              "      <td>23.7</td>\n",
              "      <td>30.0</td>\n",
              "      <td>36.2</td>\n",
              "      <td>22</td>\n",
              "      <td>30</td>\n",
              "      <td>Driver only</td>\n",
              "      <td>Rear</td>\n",
              "      <td>...</td>\n",
              "      <td>4</td>\n",
              "      <td>186</td>\n",
              "      <td>109</td>\n",
              "      <td>69</td>\n",
              "      <td>39</td>\n",
              "      <td>27.0</td>\n",
              "      <td>13</td>\n",
              "      <td>3640</td>\n",
              "      <td>non-USA</td>\n",
              "      <td>BMW 535i</td>\n",
              "    </tr>\n",
              "  </tbody>\n",
              "</table>\n",
              "<p>5 rows × 27 columns</p>\n",
              "</div>\n",
              "      <button class=\"colab-df-convert\" onclick=\"convertToInteractive('df-561406de-b27d-4174-902a-2c194f93cd0f')\"\n",
              "              title=\"Convert this dataframe to an interactive table.\"\n",
              "              style=\"display:none;\">\n",
              "        \n",
              "  <svg xmlns=\"http://www.w3.org/2000/svg\" height=\"24px\"viewBox=\"0 0 24 24\"\n",
              "       width=\"24px\">\n",
              "    <path d=\"M0 0h24v24H0V0z\" fill=\"none\"/>\n",
              "    <path d=\"M18.56 5.44l.94 2.06.94-2.06 2.06-.94-2.06-.94-.94-2.06-.94 2.06-2.06.94zm-11 1L8.5 8.5l.94-2.06 2.06-.94-2.06-.94L8.5 2.5l-.94 2.06-2.06.94zm10 10l.94 2.06.94-2.06 2.06-.94-2.06-.94-.94-2.06-.94 2.06-2.06.94z\"/><path d=\"M17.41 7.96l-1.37-1.37c-.4-.4-.92-.59-1.43-.59-.52 0-1.04.2-1.43.59L10.3 9.45l-7.72 7.72c-.78.78-.78 2.05 0 2.83L4 21.41c.39.39.9.59 1.41.59.51 0 1.02-.2 1.41-.59l7.78-7.78 2.81-2.81c.8-.78.8-2.07 0-2.86zM5.41 20L4 18.59l7.72-7.72 1.47 1.35L5.41 20z\"/>\n",
              "  </svg>\n",
              "      </button>\n",
              "      \n",
              "  <style>\n",
              "    .colab-df-container {\n",
              "      display:flex;\n",
              "      flex-wrap:wrap;\n",
              "      gap: 12px;\n",
              "    }\n",
              "\n",
              "    .colab-df-convert {\n",
              "      background-color: #E8F0FE;\n",
              "      border: none;\n",
              "      border-radius: 50%;\n",
              "      cursor: pointer;\n",
              "      display: none;\n",
              "      fill: #1967D2;\n",
              "      height: 32px;\n",
              "      padding: 0 0 0 0;\n",
              "      width: 32px;\n",
              "    }\n",
              "\n",
              "    .colab-df-convert:hover {\n",
              "      background-color: #E2EBFA;\n",
              "      box-shadow: 0px 1px 2px rgba(60, 64, 67, 0.3), 0px 1px 3px 1px rgba(60, 64, 67, 0.15);\n",
              "      fill: #174EA6;\n",
              "    }\n",
              "\n",
              "    [theme=dark] .colab-df-convert {\n",
              "      background-color: #3B4455;\n",
              "      fill: #D2E3FC;\n",
              "    }\n",
              "\n",
              "    [theme=dark] .colab-df-convert:hover {\n",
              "      background-color: #434B5C;\n",
              "      box-shadow: 0px 1px 3px 1px rgba(0, 0, 0, 0.15);\n",
              "      filter: drop-shadow(0px 1px 2px rgba(0, 0, 0, 0.3));\n",
              "      fill: #FFFFFF;\n",
              "    }\n",
              "  </style>\n",
              "\n",
              "      <script>\n",
              "        const buttonEl =\n",
              "          document.querySelector('#df-561406de-b27d-4174-902a-2c194f93cd0f button.colab-df-convert');\n",
              "        buttonEl.style.display =\n",
              "          google.colab.kernel.accessAllowed ? 'block' : 'none';\n",
              "\n",
              "        async function convertToInteractive(key) {\n",
              "          const element = document.querySelector('#df-561406de-b27d-4174-902a-2c194f93cd0f');\n",
              "          const dataTable =\n",
              "            await google.colab.kernel.invokeFunction('convertToInteractive',\n",
              "                                                     [key], {});\n",
              "          if (!dataTable) return;\n",
              "\n",
              "          const docLinkHtml = 'Like what you see? Visit the ' +\n",
              "            '<a target=\"_blank\" href=https://colab.research.google.com/notebooks/data_table.ipynb>data table notebook</a>'\n",
              "            + ' to learn more about interactive tables.';\n",
              "          element.innerHTML = '';\n",
              "          dataTable['output_type'] = 'display_data';\n",
              "          await google.colab.output.renderOutput(dataTable, element);\n",
              "          const docLink = document.createElement('div');\n",
              "          docLink.innerHTML = docLinkHtml;\n",
              "          element.appendChild(docLink);\n",
              "        }\n",
              "      </script>\n",
              "    </div>\n",
              "  </div>\n",
              "  "
            ]
          },
          "metadata": {},
          "execution_count": 22
        }
      ]
    },
    {
      "cell_type": "code",
      "source": [
        "cars.info()"
      ],
      "metadata": {
        "colab": {
          "base_uri": "https://localhost:8080/"
        },
        "id": "j9g8lDrLnL5a",
        "outputId": "23ea6cc5-9863-411d-d126-4e319b4409bf"
      },
      "execution_count": null,
      "outputs": [
        {
          "output_type": "stream",
          "name": "stdout",
          "text": [
            "<class 'pandas.core.frame.DataFrame'>\n",
            "RangeIndex: 93 entries, 0 to 92\n",
            "Data columns (total 27 columns):\n",
            " #   Column              Non-Null Count  Dtype  \n",
            "---  ------              --------------  -----  \n",
            " 0   Manufacturer        93 non-null     object \n",
            " 1   Model               93 non-null     object \n",
            " 2   Type                93 non-null     object \n",
            " 3   Min.Price           93 non-null     float64\n",
            " 4   Price               93 non-null     float64\n",
            " 5   Max.Price           93 non-null     float64\n",
            " 6   MPG.city            93 non-null     int64  \n",
            " 7   MPG.highway         93 non-null     int64  \n",
            " 8   AirBags             93 non-null     object \n",
            " 9   DriveTrain          93 non-null     object \n",
            " 10  Cylinders           93 non-null     object \n",
            " 11  EngineSize          93 non-null     float64\n",
            " 12  Horsepower          93 non-null     int64  \n",
            " 13  RPM                 93 non-null     int64  \n",
            " 14  Rev.per.mile        93 non-null     int64  \n",
            " 15  Man.trans.avail     93 non-null     object \n",
            " 16  Fuel.tank.capacity  93 non-null     float64\n",
            " 17  Passengers          93 non-null     int64  \n",
            " 18  Length              93 non-null     int64  \n",
            " 19  Wheelbase           93 non-null     int64  \n",
            " 20  Width               93 non-null     int64  \n",
            " 21  Turn.circle         93 non-null     int64  \n",
            " 22  Rear.seat.room      91 non-null     float64\n",
            " 23  Luggage.room        93 non-null     int64  \n",
            " 24  Weight              93 non-null     int64  \n",
            " 25  Origin              93 non-null     object \n",
            " 26  Make                93 non-null     object \n",
            "dtypes: float64(6), int64(12), object(9)\n",
            "memory usage: 19.7+ KB\n"
          ]
        }
      ]
    },
    {
      "cell_type": "code",
      "source": [
        "# 1. 상관계수 분석\n",
        "cars[['EngineSize','RPM' , 'Weight','Length']].corr()\n",
        "# weight와 EngineSize 간의 상관계수가 높아 다중공선성이 의심됨"
      ],
      "metadata": {
        "colab": {
          "base_uri": "https://localhost:8080/",
          "height": 174
        },
        "id": "p8Ctz2RwnPLH",
        "outputId": "7ddcbf12-05b3-4129-b100-38e832cbecef"
      },
      "execution_count": null,
      "outputs": [
        {
          "output_type": "execute_result",
          "data": {
            "text/plain": [
              "            EngineSize       RPM    Weight    Length\n",
              "EngineSize    1.000000 -0.547898  0.845075  0.780283\n",
              "RPM          -0.547898  1.000000 -0.427931 -0.441249\n",
              "Weight        0.845075 -0.427931  1.000000  0.806274\n",
              "Length        0.780283 -0.441249  0.806274  1.000000"
            ],
            "text/html": [
              "\n",
              "  <div id=\"df-320f56ba-864e-4850-a712-6c7c2f908b14\">\n",
              "    <div class=\"colab-df-container\">\n",
              "      <div>\n",
              "<style scoped>\n",
              "    .dataframe tbody tr th:only-of-type {\n",
              "        vertical-align: middle;\n",
              "    }\n",
              "\n",
              "    .dataframe tbody tr th {\n",
              "        vertical-align: top;\n",
              "    }\n",
              "\n",
              "    .dataframe thead th {\n",
              "        text-align: right;\n",
              "    }\n",
              "</style>\n",
              "<table border=\"1\" class=\"dataframe\">\n",
              "  <thead>\n",
              "    <tr style=\"text-align: right;\">\n",
              "      <th></th>\n",
              "      <th>EngineSize</th>\n",
              "      <th>RPM</th>\n",
              "      <th>Weight</th>\n",
              "      <th>Length</th>\n",
              "    </tr>\n",
              "  </thead>\n",
              "  <tbody>\n",
              "    <tr>\n",
              "      <th>EngineSize</th>\n",
              "      <td>1.000000</td>\n",
              "      <td>-0.547898</td>\n",
              "      <td>0.845075</td>\n",
              "      <td>0.780283</td>\n",
              "    </tr>\n",
              "    <tr>\n",
              "      <th>RPM</th>\n",
              "      <td>-0.547898</td>\n",
              "      <td>1.000000</td>\n",
              "      <td>-0.427931</td>\n",
              "      <td>-0.441249</td>\n",
              "    </tr>\n",
              "    <tr>\n",
              "      <th>Weight</th>\n",
              "      <td>0.845075</td>\n",
              "      <td>-0.427931</td>\n",
              "      <td>1.000000</td>\n",
              "      <td>0.806274</td>\n",
              "    </tr>\n",
              "    <tr>\n",
              "      <th>Length</th>\n",
              "      <td>0.780283</td>\n",
              "      <td>-0.441249</td>\n",
              "      <td>0.806274</td>\n",
              "      <td>1.000000</td>\n",
              "    </tr>\n",
              "  </tbody>\n",
              "</table>\n",
              "</div>\n",
              "      <button class=\"colab-df-convert\" onclick=\"convertToInteractive('df-320f56ba-864e-4850-a712-6c7c2f908b14')\"\n",
              "              title=\"Convert this dataframe to an interactive table.\"\n",
              "              style=\"display:none;\">\n",
              "        \n",
              "  <svg xmlns=\"http://www.w3.org/2000/svg\" height=\"24px\"viewBox=\"0 0 24 24\"\n",
              "       width=\"24px\">\n",
              "    <path d=\"M0 0h24v24H0V0z\" fill=\"none\"/>\n",
              "    <path d=\"M18.56 5.44l.94 2.06.94-2.06 2.06-.94-2.06-.94-.94-2.06-.94 2.06-2.06.94zm-11 1L8.5 8.5l.94-2.06 2.06-.94-2.06-.94L8.5 2.5l-.94 2.06-2.06.94zm10 10l.94 2.06.94-2.06 2.06-.94-2.06-.94-.94-2.06-.94 2.06-2.06.94z\"/><path d=\"M17.41 7.96l-1.37-1.37c-.4-.4-.92-.59-1.43-.59-.52 0-1.04.2-1.43.59L10.3 9.45l-7.72 7.72c-.78.78-.78 2.05 0 2.83L4 21.41c.39.39.9.59 1.41.59.51 0 1.02-.2 1.41-.59l7.78-7.78 2.81-2.81c.8-.78.8-2.07 0-2.86zM5.41 20L4 18.59l7.72-7.72 1.47 1.35L5.41 20z\"/>\n",
              "  </svg>\n",
              "      </button>\n",
              "      \n",
              "  <style>\n",
              "    .colab-df-container {\n",
              "      display:flex;\n",
              "      flex-wrap:wrap;\n",
              "      gap: 12px;\n",
              "    }\n",
              "\n",
              "    .colab-df-convert {\n",
              "      background-color: #E8F0FE;\n",
              "      border: none;\n",
              "      border-radius: 50%;\n",
              "      cursor: pointer;\n",
              "      display: none;\n",
              "      fill: #1967D2;\n",
              "      height: 32px;\n",
              "      padding: 0 0 0 0;\n",
              "      width: 32px;\n",
              "    }\n",
              "\n",
              "    .colab-df-convert:hover {\n",
              "      background-color: #E2EBFA;\n",
              "      box-shadow: 0px 1px 2px rgba(60, 64, 67, 0.3), 0px 1px 3px 1px rgba(60, 64, 67, 0.15);\n",
              "      fill: #174EA6;\n",
              "    }\n",
              "\n",
              "    [theme=dark] .colab-df-convert {\n",
              "      background-color: #3B4455;\n",
              "      fill: #D2E3FC;\n",
              "    }\n",
              "\n",
              "    [theme=dark] .colab-df-convert:hover {\n",
              "      background-color: #434B5C;\n",
              "      box-shadow: 0px 1px 3px 1px rgba(0, 0, 0, 0.15);\n",
              "      filter: drop-shadow(0px 1px 2px rgba(0, 0, 0, 0.3));\n",
              "      fill: #FFFFFF;\n",
              "    }\n",
              "  </style>\n",
              "\n",
              "      <script>\n",
              "        const buttonEl =\n",
              "          document.querySelector('#df-320f56ba-864e-4850-a712-6c7c2f908b14 button.colab-df-convert');\n",
              "        buttonEl.style.display =\n",
              "          google.colab.kernel.accessAllowed ? 'block' : 'none';\n",
              "\n",
              "        async function convertToInteractive(key) {\n",
              "          const element = document.querySelector('#df-320f56ba-864e-4850-a712-6c7c2f908b14');\n",
              "          const dataTable =\n",
              "            await google.colab.kernel.invokeFunction('convertToInteractive',\n",
              "                                                     [key], {});\n",
              "          if (!dataTable) return;\n",
              "\n",
              "          const docLinkHtml = 'Like what you see? Visit the ' +\n",
              "            '<a target=\"_blank\" href=https://colab.research.google.com/notebooks/data_table.ipynb>data table notebook</a>'\n",
              "            + ' to learn more about interactive tables.';\n",
              "          element.innerHTML = '';\n",
              "          dataTable['output_type'] = 'display_data';\n",
              "          await google.colab.output.renderOutput(dataTable, element);\n",
              "          const docLink = document.createElement('div');\n",
              "          docLink.innerHTML = docLinkHtml;\n",
              "          element.appendChild(docLink);\n",
              "        }\n",
              "      </script>\n",
              "    </div>\n",
              "  </div>\n",
              "  "
            ]
          },
          "metadata": {},
          "execution_count": 24
        }
      ]
    },
    {
      "cell_type": "code",
      "source": [
        "import statsmodels.api as sm\n",
        "import statsmodels.formula.api as smf\n",
        "\n",
        "model = smf.ols(formula='Price ~ EngineSize + RPM + Weight + Length', data=cars)\n",
        "result = model.fit()\n",
        "result.summary()"
      ],
      "metadata": {
        "colab": {
          "base_uri": "https://localhost:8080/",
          "height": 550
        },
        "id": "zHczUe9KnixR",
        "outputId": "2beccea8-e2c6-4632-f44f-dd197e42d747"
      },
      "execution_count": null,
      "outputs": [
        {
          "output_type": "execute_result",
          "data": {
            "text/plain": [
              "<class 'statsmodels.iolib.summary.Summary'>\n",
              "\"\"\"\n",
              "                            OLS Regression Results                            \n",
              "==============================================================================\n",
              "Dep. Variable:                  Price   R-squared:                       0.563\n",
              "Model:                            OLS   Adj. R-squared:                  0.543\n",
              "Method:                 Least Squares   F-statistic:                     28.34\n",
              "Date:                Sun, 30 Apr 2023   Prob (F-statistic):           3.93e-15\n",
              "Time:                        00:46:23   Log-Likelihood:                -303.89\n",
              "No. Observations:                  93   AIC:                             617.8\n",
              "Df Residuals:                      88   BIC:                             630.4\n",
              "Df Model:                           4                                         \n",
              "Covariance Type:            nonrobust                                         \n",
              "==============================================================================\n",
              "                 coef    std err          t      P>|t|      [0.025      0.975]\n",
              "------------------------------------------------------------------------------\n",
              "Intercept    -45.4934     14.654     -3.104      0.003     -74.616     -16.371\n",
              "EngineSize     4.5091      1.381      3.266      0.002       1.765       7.253\n",
              "RPM            0.0070      0.001      5.139      0.000       0.004       0.010\n",
              "Weight         0.0079      0.002      3.255      0.002       0.003       0.013\n",
              "Length        -0.0457      0.083     -0.550      0.584      -0.211       0.120\n",
              "==============================================================================\n",
              "Omnibus:                       62.028   Durbin-Watson:                   1.405\n",
              "Prob(Omnibus):                  0.000   Jarque-Bera (JB):              353.003\n",
              "Skew:                           2.067   Prob(JB):                     2.22e-77\n",
              "Kurtosis:                      11.602   Cond. No.                     1.33e+05\n",
              "==============================================================================\n",
              "\n",
              "Notes:\n",
              "[1] Standard Errors assume that the covariance matrix of the errors is correctly specified.\n",
              "[2] The condition number is large, 1.33e+05. This might indicate that there are\n",
              "strong multicollinearity or other numerical problems.\n",
              "\"\"\""
            ],
            "text/html": [
              "<table class=\"simpletable\">\n",
              "<caption>OLS Regression Results</caption>\n",
              "<tr>\n",
              "  <th>Dep. Variable:</th>          <td>Price</td>      <th>  R-squared:         </th> <td>   0.563</td>\n",
              "</tr>\n",
              "<tr>\n",
              "  <th>Model:</th>                   <td>OLS</td>       <th>  Adj. R-squared:    </th> <td>   0.543</td>\n",
              "</tr>\n",
              "<tr>\n",
              "  <th>Method:</th>             <td>Least Squares</td>  <th>  F-statistic:       </th> <td>   28.34</td>\n",
              "</tr>\n",
              "<tr>\n",
              "  <th>Date:</th>             <td>Sun, 30 Apr 2023</td> <th>  Prob (F-statistic):</th> <td>3.93e-15</td>\n",
              "</tr>\n",
              "<tr>\n",
              "  <th>Time:</th>                 <td>00:46:23</td>     <th>  Log-Likelihood:    </th> <td> -303.89</td>\n",
              "</tr>\n",
              "<tr>\n",
              "  <th>No. Observations:</th>      <td>    93</td>      <th>  AIC:               </th> <td>   617.8</td>\n",
              "</tr>\n",
              "<tr>\n",
              "  <th>Df Residuals:</th>          <td>    88</td>      <th>  BIC:               </th> <td>   630.4</td>\n",
              "</tr>\n",
              "<tr>\n",
              "  <th>Df Model:</th>              <td>     4</td>      <th>                     </th>     <td> </td>   \n",
              "</tr>\n",
              "<tr>\n",
              "  <th>Covariance Type:</th>      <td>nonrobust</td>    <th>                     </th>     <td> </td>   \n",
              "</tr>\n",
              "</table>\n",
              "<table class=\"simpletable\">\n",
              "<tr>\n",
              "       <td></td>         <th>coef</th>     <th>std err</th>      <th>t</th>      <th>P>|t|</th>  <th>[0.025</th>    <th>0.975]</th>  \n",
              "</tr>\n",
              "<tr>\n",
              "  <th>Intercept</th>  <td>  -45.4934</td> <td>   14.654</td> <td>   -3.104</td> <td> 0.003</td> <td>  -74.616</td> <td>  -16.371</td>\n",
              "</tr>\n",
              "<tr>\n",
              "  <th>EngineSize</th> <td>    4.5091</td> <td>    1.381</td> <td>    3.266</td> <td> 0.002</td> <td>    1.765</td> <td>    7.253</td>\n",
              "</tr>\n",
              "<tr>\n",
              "  <th>RPM</th>        <td>    0.0070</td> <td>    0.001</td> <td>    5.139</td> <td> 0.000</td> <td>    0.004</td> <td>    0.010</td>\n",
              "</tr>\n",
              "<tr>\n",
              "  <th>Weight</th>     <td>    0.0079</td> <td>    0.002</td> <td>    3.255</td> <td> 0.002</td> <td>    0.003</td> <td>    0.013</td>\n",
              "</tr>\n",
              "<tr>\n",
              "  <th>Length</th>     <td>   -0.0457</td> <td>    0.083</td> <td>   -0.550</td> <td> 0.584</td> <td>   -0.211</td> <td>    0.120</td>\n",
              "</tr>\n",
              "</table>\n",
              "<table class=\"simpletable\">\n",
              "<tr>\n",
              "  <th>Omnibus:</th>       <td>62.028</td> <th>  Durbin-Watson:     </th> <td>   1.405</td>\n",
              "</tr>\n",
              "<tr>\n",
              "  <th>Prob(Omnibus):</th> <td> 0.000</td> <th>  Jarque-Bera (JB):  </th> <td> 353.003</td>\n",
              "</tr>\n",
              "<tr>\n",
              "  <th>Skew:</th>          <td> 2.067</td> <th>  Prob(JB):          </th> <td>2.22e-77</td>\n",
              "</tr>\n",
              "<tr>\n",
              "  <th>Kurtosis:</th>      <td>11.602</td> <th>  Cond. No.          </th> <td>1.33e+05</td>\n",
              "</tr>\n",
              "</table><br/><br/>Notes:<br/>[1] Standard Errors assume that the covariance matrix of the errors is correctly specified.<br/>[2] The condition number is large, 1.33e+05. This might indicate that there are<br/>strong multicollinearity or other numerical problems."
            ]
          },
          "metadata": {},
          "execution_count": 25
        }
      ]
    },
    {
      "cell_type": "markdown",
      "source": [
        "회귀모형은 유의하지만 회귀계수 중 Length 변수는 유의하지 않다"
      ],
      "metadata": {
        "id": "_PPerz3IoN0h"
      }
    },
    {
      "cell_type": "code",
      "source": [
        "# 다중공선성 확인을 위해 vif 계산\n",
        "from patsy import dmatrices\n",
        "from statsmodels.stats.outliers_influence import variance_inflation_factor\n",
        "\n",
        "# 회귀값 Y와 독립변수 X 추출\n",
        "Y, X = dmatrices('Price ~ EngineSize + RPM + Weight + Length',\n",
        "                 data=cars, return_type='dataframe')"
      ],
      "metadata": {
        "id": "HfbYWiVmoAT7"
      },
      "execution_count": null,
      "outputs": []
    },
    {
      "cell_type": "code",
      "source": [
        "Y.head()"
      ],
      "metadata": {
        "colab": {
          "base_uri": "https://localhost:8080/",
          "height": 206
        },
        "id": "qw9hR-jJop33",
        "outputId": "dbea1684-a4f5-434d-a87f-338202325833"
      },
      "execution_count": null,
      "outputs": [
        {
          "output_type": "execute_result",
          "data": {
            "text/plain": [
              "   Price\n",
              "0   15.9\n",
              "1   33.9\n",
              "2   29.1\n",
              "3   37.7\n",
              "4   30.0"
            ],
            "text/html": [
              "\n",
              "  <div id=\"df-1a06d858-9581-4dc1-a928-36deae43c8a2\">\n",
              "    <div class=\"colab-df-container\">\n",
              "      <div>\n",
              "<style scoped>\n",
              "    .dataframe tbody tr th:only-of-type {\n",
              "        vertical-align: middle;\n",
              "    }\n",
              "\n",
              "    .dataframe tbody tr th {\n",
              "        vertical-align: top;\n",
              "    }\n",
              "\n",
              "    .dataframe thead th {\n",
              "        text-align: right;\n",
              "    }\n",
              "</style>\n",
              "<table border=\"1\" class=\"dataframe\">\n",
              "  <thead>\n",
              "    <tr style=\"text-align: right;\">\n",
              "      <th></th>\n",
              "      <th>Price</th>\n",
              "    </tr>\n",
              "  </thead>\n",
              "  <tbody>\n",
              "    <tr>\n",
              "      <th>0</th>\n",
              "      <td>15.9</td>\n",
              "    </tr>\n",
              "    <tr>\n",
              "      <th>1</th>\n",
              "      <td>33.9</td>\n",
              "    </tr>\n",
              "    <tr>\n",
              "      <th>2</th>\n",
              "      <td>29.1</td>\n",
              "    </tr>\n",
              "    <tr>\n",
              "      <th>3</th>\n",
              "      <td>37.7</td>\n",
              "    </tr>\n",
              "    <tr>\n",
              "      <th>4</th>\n",
              "      <td>30.0</td>\n",
              "    </tr>\n",
              "  </tbody>\n",
              "</table>\n",
              "</div>\n",
              "      <button class=\"colab-df-convert\" onclick=\"convertToInteractive('df-1a06d858-9581-4dc1-a928-36deae43c8a2')\"\n",
              "              title=\"Convert this dataframe to an interactive table.\"\n",
              "              style=\"display:none;\">\n",
              "        \n",
              "  <svg xmlns=\"http://www.w3.org/2000/svg\" height=\"24px\"viewBox=\"0 0 24 24\"\n",
              "       width=\"24px\">\n",
              "    <path d=\"M0 0h24v24H0V0z\" fill=\"none\"/>\n",
              "    <path d=\"M18.56 5.44l.94 2.06.94-2.06 2.06-.94-2.06-.94-.94-2.06-.94 2.06-2.06.94zm-11 1L8.5 8.5l.94-2.06 2.06-.94-2.06-.94L8.5 2.5l-.94 2.06-2.06.94zm10 10l.94 2.06.94-2.06 2.06-.94-2.06-.94-.94-2.06-.94 2.06-2.06.94z\"/><path d=\"M17.41 7.96l-1.37-1.37c-.4-.4-.92-.59-1.43-.59-.52 0-1.04.2-1.43.59L10.3 9.45l-7.72 7.72c-.78.78-.78 2.05 0 2.83L4 21.41c.39.39.9.59 1.41.59.51 0 1.02-.2 1.41-.59l7.78-7.78 2.81-2.81c.8-.78.8-2.07 0-2.86zM5.41 20L4 18.59l7.72-7.72 1.47 1.35L5.41 20z\"/>\n",
              "  </svg>\n",
              "      </button>\n",
              "      \n",
              "  <style>\n",
              "    .colab-df-container {\n",
              "      display:flex;\n",
              "      flex-wrap:wrap;\n",
              "      gap: 12px;\n",
              "    }\n",
              "\n",
              "    .colab-df-convert {\n",
              "      background-color: #E8F0FE;\n",
              "      border: none;\n",
              "      border-radius: 50%;\n",
              "      cursor: pointer;\n",
              "      display: none;\n",
              "      fill: #1967D2;\n",
              "      height: 32px;\n",
              "      padding: 0 0 0 0;\n",
              "      width: 32px;\n",
              "    }\n",
              "\n",
              "    .colab-df-convert:hover {\n",
              "      background-color: #E2EBFA;\n",
              "      box-shadow: 0px 1px 2px rgba(60, 64, 67, 0.3), 0px 1px 3px 1px rgba(60, 64, 67, 0.15);\n",
              "      fill: #174EA6;\n",
              "    }\n",
              "\n",
              "    [theme=dark] .colab-df-convert {\n",
              "      background-color: #3B4455;\n",
              "      fill: #D2E3FC;\n",
              "    }\n",
              "\n",
              "    [theme=dark] .colab-df-convert:hover {\n",
              "      background-color: #434B5C;\n",
              "      box-shadow: 0px 1px 3px 1px rgba(0, 0, 0, 0.15);\n",
              "      filter: drop-shadow(0px 1px 2px rgba(0, 0, 0, 0.3));\n",
              "      fill: #FFFFFF;\n",
              "    }\n",
              "  </style>\n",
              "\n",
              "      <script>\n",
              "        const buttonEl =\n",
              "          document.querySelector('#df-1a06d858-9581-4dc1-a928-36deae43c8a2 button.colab-df-convert');\n",
              "        buttonEl.style.display =\n",
              "          google.colab.kernel.accessAllowed ? 'block' : 'none';\n",
              "\n",
              "        async function convertToInteractive(key) {\n",
              "          const element = document.querySelector('#df-1a06d858-9581-4dc1-a928-36deae43c8a2');\n",
              "          const dataTable =\n",
              "            await google.colab.kernel.invokeFunction('convertToInteractive',\n",
              "                                                     [key], {});\n",
              "          if (!dataTable) return;\n",
              "\n",
              "          const docLinkHtml = 'Like what you see? Visit the ' +\n",
              "            '<a target=\"_blank\" href=https://colab.research.google.com/notebooks/data_table.ipynb>data table notebook</a>'\n",
              "            + ' to learn more about interactive tables.';\n",
              "          element.innerHTML = '';\n",
              "          dataTable['output_type'] = 'display_data';\n",
              "          await google.colab.output.renderOutput(dataTable, element);\n",
              "          const docLink = document.createElement('div');\n",
              "          docLink.innerHTML = docLinkHtml;\n",
              "          element.appendChild(docLink);\n",
              "        }\n",
              "      </script>\n",
              "    </div>\n",
              "  </div>\n",
              "  "
            ]
          },
          "metadata": {},
          "execution_count": 34
        }
      ]
    },
    {
      "cell_type": "code",
      "source": [
        "X.head()"
      ],
      "metadata": {
        "colab": {
          "base_uri": "https://localhost:8080/",
          "height": 206
        },
        "id": "MXX_2k0AoqRg",
        "outputId": "6417931b-41fd-46cf-9500-2cdb49e3a2f4"
      },
      "execution_count": null,
      "outputs": [
        {
          "output_type": "execute_result",
          "data": {
            "text/plain": [
              "   Intercept  EngineSize     RPM  Weight  Length\n",
              "0        1.0         1.8  6300.0  2705.0   177.0\n",
              "1        1.0         3.2  5500.0  3560.0   195.0\n",
              "2        1.0         2.8  5500.0  3375.0   180.0\n",
              "3        1.0         2.8  5500.0  3405.0   193.0\n",
              "4        1.0         3.5  5700.0  3640.0   186.0"
            ],
            "text/html": [
              "\n",
              "  <div id=\"df-421783c9-ecbf-4af8-9f27-31199c87c3a0\">\n",
              "    <div class=\"colab-df-container\">\n",
              "      <div>\n",
              "<style scoped>\n",
              "    .dataframe tbody tr th:only-of-type {\n",
              "        vertical-align: middle;\n",
              "    }\n",
              "\n",
              "    .dataframe tbody tr th {\n",
              "        vertical-align: top;\n",
              "    }\n",
              "\n",
              "    .dataframe thead th {\n",
              "        text-align: right;\n",
              "    }\n",
              "</style>\n",
              "<table border=\"1\" class=\"dataframe\">\n",
              "  <thead>\n",
              "    <tr style=\"text-align: right;\">\n",
              "      <th></th>\n",
              "      <th>Intercept</th>\n",
              "      <th>EngineSize</th>\n",
              "      <th>RPM</th>\n",
              "      <th>Weight</th>\n",
              "      <th>Length</th>\n",
              "    </tr>\n",
              "  </thead>\n",
              "  <tbody>\n",
              "    <tr>\n",
              "      <th>0</th>\n",
              "      <td>1.0</td>\n",
              "      <td>1.8</td>\n",
              "      <td>6300.0</td>\n",
              "      <td>2705.0</td>\n",
              "      <td>177.0</td>\n",
              "    </tr>\n",
              "    <tr>\n",
              "      <th>1</th>\n",
              "      <td>1.0</td>\n",
              "      <td>3.2</td>\n",
              "      <td>5500.0</td>\n",
              "      <td>3560.0</td>\n",
              "      <td>195.0</td>\n",
              "    </tr>\n",
              "    <tr>\n",
              "      <th>2</th>\n",
              "      <td>1.0</td>\n",
              "      <td>2.8</td>\n",
              "      <td>5500.0</td>\n",
              "      <td>3375.0</td>\n",
              "      <td>180.0</td>\n",
              "    </tr>\n",
              "    <tr>\n",
              "      <th>3</th>\n",
              "      <td>1.0</td>\n",
              "      <td>2.8</td>\n",
              "      <td>5500.0</td>\n",
              "      <td>3405.0</td>\n",
              "      <td>193.0</td>\n",
              "    </tr>\n",
              "    <tr>\n",
              "      <th>4</th>\n",
              "      <td>1.0</td>\n",
              "      <td>3.5</td>\n",
              "      <td>5700.0</td>\n",
              "      <td>3640.0</td>\n",
              "      <td>186.0</td>\n",
              "    </tr>\n",
              "  </tbody>\n",
              "</table>\n",
              "</div>\n",
              "      <button class=\"colab-df-convert\" onclick=\"convertToInteractive('df-421783c9-ecbf-4af8-9f27-31199c87c3a0')\"\n",
              "              title=\"Convert this dataframe to an interactive table.\"\n",
              "              style=\"display:none;\">\n",
              "        \n",
              "  <svg xmlns=\"http://www.w3.org/2000/svg\" height=\"24px\"viewBox=\"0 0 24 24\"\n",
              "       width=\"24px\">\n",
              "    <path d=\"M0 0h24v24H0V0z\" fill=\"none\"/>\n",
              "    <path d=\"M18.56 5.44l.94 2.06.94-2.06 2.06-.94-2.06-.94-.94-2.06-.94 2.06-2.06.94zm-11 1L8.5 8.5l.94-2.06 2.06-.94-2.06-.94L8.5 2.5l-.94 2.06-2.06.94zm10 10l.94 2.06.94-2.06 2.06-.94-2.06-.94-.94-2.06-.94 2.06-2.06.94z\"/><path d=\"M17.41 7.96l-1.37-1.37c-.4-.4-.92-.59-1.43-.59-.52 0-1.04.2-1.43.59L10.3 9.45l-7.72 7.72c-.78.78-.78 2.05 0 2.83L4 21.41c.39.39.9.59 1.41.59.51 0 1.02-.2 1.41-.59l7.78-7.78 2.81-2.81c.8-.78.8-2.07 0-2.86zM5.41 20L4 18.59l7.72-7.72 1.47 1.35L5.41 20z\"/>\n",
              "  </svg>\n",
              "      </button>\n",
              "      \n",
              "  <style>\n",
              "    .colab-df-container {\n",
              "      display:flex;\n",
              "      flex-wrap:wrap;\n",
              "      gap: 12px;\n",
              "    }\n",
              "\n",
              "    .colab-df-convert {\n",
              "      background-color: #E8F0FE;\n",
              "      border: none;\n",
              "      border-radius: 50%;\n",
              "      cursor: pointer;\n",
              "      display: none;\n",
              "      fill: #1967D2;\n",
              "      height: 32px;\n",
              "      padding: 0 0 0 0;\n",
              "      width: 32px;\n",
              "    }\n",
              "\n",
              "    .colab-df-convert:hover {\n",
              "      background-color: #E2EBFA;\n",
              "      box-shadow: 0px 1px 2px rgba(60, 64, 67, 0.3), 0px 1px 3px 1px rgba(60, 64, 67, 0.15);\n",
              "      fill: #174EA6;\n",
              "    }\n",
              "\n",
              "    [theme=dark] .colab-df-convert {\n",
              "      background-color: #3B4455;\n",
              "      fill: #D2E3FC;\n",
              "    }\n",
              "\n",
              "    [theme=dark] .colab-df-convert:hover {\n",
              "      background-color: #434B5C;\n",
              "      box-shadow: 0px 1px 3px 1px rgba(0, 0, 0, 0.15);\n",
              "      filter: drop-shadow(0px 1px 2px rgba(0, 0, 0, 0.3));\n",
              "      fill: #FFFFFF;\n",
              "    }\n",
              "  </style>\n",
              "\n",
              "      <script>\n",
              "        const buttonEl =\n",
              "          document.querySelector('#df-421783c9-ecbf-4af8-9f27-31199c87c3a0 button.colab-df-convert');\n",
              "        buttonEl.style.display =\n",
              "          google.colab.kernel.accessAllowed ? 'block' : 'none';\n",
              "\n",
              "        async function convertToInteractive(key) {\n",
              "          const element = document.querySelector('#df-421783c9-ecbf-4af8-9f27-31199c87c3a0');\n",
              "          const dataTable =\n",
              "            await google.colab.kernel.invokeFunction('convertToInteractive',\n",
              "                                                     [key], {});\n",
              "          if (!dataTable) return;\n",
              "\n",
              "          const docLinkHtml = 'Like what you see? Visit the ' +\n",
              "            '<a target=\"_blank\" href=https://colab.research.google.com/notebooks/data_table.ipynb>data table notebook</a>'\n",
              "            + ' to learn more about interactive tables.';\n",
              "          element.innerHTML = '';\n",
              "          dataTable['output_type'] = 'display_data';\n",
              "          await google.colab.output.renderOutput(dataTable, element);\n",
              "          const docLink = document.createElement('div');\n",
              "          docLink.innerHTML = docLinkHtml;\n",
              "          element.appendChild(docLink);\n",
              "        }\n",
              "      </script>\n",
              "    </div>\n",
              "  </div>\n",
              "  "
            ]
          },
          "metadata": {},
          "execution_count": 35
        }
      ]
    },
    {
      "cell_type": "code",
      "source": [
        "# vif 계산\n",
        "vif_list = []\n",
        "for i in range(1, len(X.columns)):\n",
        "  vif_list.append([variance_inflation_factor(X.values, i), X.columns[i]])\n",
        "\n",
        "pd.DataFrame(vif_list, columns=['vif', 'variable'])"
      ],
      "metadata": {
        "colab": {
          "base_uri": "https://localhost:8080/",
          "height": 174
        },
        "id": "m6YCJoF2o8mD",
        "outputId": "519c4cd3-1429-43d1-f9f0-d004b431be71"
      },
      "execution_count": null,
      "outputs": [
        {
          "output_type": "execute_result",
          "data": {
            "text/plain": [
              "        vif    variable\n",
              "0  4.427252  EngineSize\n",
              "1  1.444447         RPM\n",
              "2  4.378638      Weight\n",
              "3  3.182293      Length"
            ],
            "text/html": [
              "\n",
              "  <div id=\"df-2f722265-d2e6-4912-8d36-41c5235fdcab\">\n",
              "    <div class=\"colab-df-container\">\n",
              "      <div>\n",
              "<style scoped>\n",
              "    .dataframe tbody tr th:only-of-type {\n",
              "        vertical-align: middle;\n",
              "    }\n",
              "\n",
              "    .dataframe tbody tr th {\n",
              "        vertical-align: top;\n",
              "    }\n",
              "\n",
              "    .dataframe thead th {\n",
              "        text-align: right;\n",
              "    }\n",
              "</style>\n",
              "<table border=\"1\" class=\"dataframe\">\n",
              "  <thead>\n",
              "    <tr style=\"text-align: right;\">\n",
              "      <th></th>\n",
              "      <th>vif</th>\n",
              "      <th>variable</th>\n",
              "    </tr>\n",
              "  </thead>\n",
              "  <tbody>\n",
              "    <tr>\n",
              "      <th>0</th>\n",
              "      <td>4.427252</td>\n",
              "      <td>EngineSize</td>\n",
              "    </tr>\n",
              "    <tr>\n",
              "      <th>1</th>\n",
              "      <td>1.444447</td>\n",
              "      <td>RPM</td>\n",
              "    </tr>\n",
              "    <tr>\n",
              "      <th>2</th>\n",
              "      <td>4.378638</td>\n",
              "      <td>Weight</td>\n",
              "    </tr>\n",
              "    <tr>\n",
              "      <th>3</th>\n",
              "      <td>3.182293</td>\n",
              "      <td>Length</td>\n",
              "    </tr>\n",
              "  </tbody>\n",
              "</table>\n",
              "</div>\n",
              "      <button class=\"colab-df-convert\" onclick=\"convertToInteractive('df-2f722265-d2e6-4912-8d36-41c5235fdcab')\"\n",
              "              title=\"Convert this dataframe to an interactive table.\"\n",
              "              style=\"display:none;\">\n",
              "        \n",
              "  <svg xmlns=\"http://www.w3.org/2000/svg\" height=\"24px\"viewBox=\"0 0 24 24\"\n",
              "       width=\"24px\">\n",
              "    <path d=\"M0 0h24v24H0V0z\" fill=\"none\"/>\n",
              "    <path d=\"M18.56 5.44l.94 2.06.94-2.06 2.06-.94-2.06-.94-.94-2.06-.94 2.06-2.06.94zm-11 1L8.5 8.5l.94-2.06 2.06-.94-2.06-.94L8.5 2.5l-.94 2.06-2.06.94zm10 10l.94 2.06.94-2.06 2.06-.94-2.06-.94-.94-2.06-.94 2.06-2.06.94z\"/><path d=\"M17.41 7.96l-1.37-1.37c-.4-.4-.92-.59-1.43-.59-.52 0-1.04.2-1.43.59L10.3 9.45l-7.72 7.72c-.78.78-.78 2.05 0 2.83L4 21.41c.39.39.9.59 1.41.59.51 0 1.02-.2 1.41-.59l7.78-7.78 2.81-2.81c.8-.78.8-2.07 0-2.86zM5.41 20L4 18.59l7.72-7.72 1.47 1.35L5.41 20z\"/>\n",
              "  </svg>\n",
              "      </button>\n",
              "      \n",
              "  <style>\n",
              "    .colab-df-container {\n",
              "      display:flex;\n",
              "      flex-wrap:wrap;\n",
              "      gap: 12px;\n",
              "    }\n",
              "\n",
              "    .colab-df-convert {\n",
              "      background-color: #E8F0FE;\n",
              "      border: none;\n",
              "      border-radius: 50%;\n",
              "      cursor: pointer;\n",
              "      display: none;\n",
              "      fill: #1967D2;\n",
              "      height: 32px;\n",
              "      padding: 0 0 0 0;\n",
              "      width: 32px;\n",
              "    }\n",
              "\n",
              "    .colab-df-convert:hover {\n",
              "      background-color: #E2EBFA;\n",
              "      box-shadow: 0px 1px 2px rgba(60, 64, 67, 0.3), 0px 1px 3px 1px rgba(60, 64, 67, 0.15);\n",
              "      fill: #174EA6;\n",
              "    }\n",
              "\n",
              "    [theme=dark] .colab-df-convert {\n",
              "      background-color: #3B4455;\n",
              "      fill: #D2E3FC;\n",
              "    }\n",
              "\n",
              "    [theme=dark] .colab-df-convert:hover {\n",
              "      background-color: #434B5C;\n",
              "      box-shadow: 0px 1px 3px 1px rgba(0, 0, 0, 0.15);\n",
              "      filter: drop-shadow(0px 1px 2px rgba(0, 0, 0, 0.3));\n",
              "      fill: #FFFFFF;\n",
              "    }\n",
              "  </style>\n",
              "\n",
              "      <script>\n",
              "        const buttonEl =\n",
              "          document.querySelector('#df-2f722265-d2e6-4912-8d36-41c5235fdcab button.colab-df-convert');\n",
              "        buttonEl.style.display =\n",
              "          google.colab.kernel.accessAllowed ? 'block' : 'none';\n",
              "\n",
              "        async function convertToInteractive(key) {\n",
              "          const element = document.querySelector('#df-2f722265-d2e6-4912-8d36-41c5235fdcab');\n",
              "          const dataTable =\n",
              "            await google.colab.kernel.invokeFunction('convertToInteractive',\n",
              "                                                     [key], {});\n",
              "          if (!dataTable) return;\n",
              "\n",
              "          const docLinkHtml = 'Like what you see? Visit the ' +\n",
              "            '<a target=\"_blank\" href=https://colab.research.google.com/notebooks/data_table.ipynb>data table notebook</a>'\n",
              "            + ' to learn more about interactive tables.';\n",
              "          element.innerHTML = '';\n",
              "          dataTable['output_type'] = 'display_data';\n",
              "          await google.colab.output.renderOutput(dataTable, element);\n",
              "          const docLink = document.createElement('div');\n",
              "          docLink.innerHTML = docLinkHtml;\n",
              "          element.appendChild(docLink);\n",
              "        }\n",
              "      </script>\n",
              "    </div>\n",
              "  </div>\n",
              "  "
            ]
          },
          "metadata": {},
          "execution_count": 33
        }
      ]
    },
    {
      "cell_type": "markdown",
      "source": [
        "#### 변수선택법\n",
        "최적회귀방정식의 선택\n",
        "- F-통계량이나 AIC 기준으로 변수를 제거하거나 선택\n",
        "  - 회귀계수의 t통계량의 유의확률이 유의수준보다 크면 유의하지 않으므로 제거\n",
        "  - AIC 같은 벌점화 기준을 가장 낮게 만드는 변수 조합 선택\n",
        "  - $AIC=-2ln(L)+2k$: $ln(L)$은 모형의 적합도, L은 Likelihood 함수, k는 모형의 파라미터 개수 의미\n",
        "  - 모형의 적합도가 높으면 AIC값이 낮아짐"
      ],
      "metadata": {
        "id": "N_YQrPQTBGEa"
      }
    },
    {
      "cell_type": "code",
      "source": [
        "import pandas as pd\n",
        "import numpy as np\n",
        "cars = pd.read_csv('/content/drive/MyDrive/Colab Notebooks/adp_class101/data/Cars93.csv')\n",
        "cars.head()"
      ],
      "metadata": {
        "colab": {
          "base_uri": "https://localhost:8080/",
          "height": 386
        },
        "id": "Gbu0J7lkpUOw",
        "outputId": "76033d85-0e89-4d1e-cb54-417a81564fc4"
      },
      "execution_count": null,
      "outputs": [
        {
          "output_type": "execute_result",
          "data": {
            "text/plain": [
              "  Manufacturer    Model     Type  Min.Price  Price  Max.Price  MPG.city  \\\n",
              "0        Acura  Integra    Small       12.9   15.9       18.8        25   \n",
              "1        Acura   Legend  Midsize       29.2   33.9       38.7        18   \n",
              "2         Audi       90  Compact       25.9   29.1       32.3        20   \n",
              "3         Audi      100  Midsize       30.8   37.7       44.6        19   \n",
              "4          BMW     535i  Midsize       23.7   30.0       36.2        22   \n",
              "\n",
              "   MPG.highway             AirBags DriveTrain  ... Passengers  Length  \\\n",
              "0           31                None      Front  ...          5     177   \n",
              "1           25  Driver & Passenger      Front  ...          5     195   \n",
              "2           26         Driver only      Front  ...          5     180   \n",
              "3           26  Driver & Passenger      Front  ...          6     193   \n",
              "4           30         Driver only       Rear  ...          4     186   \n",
              "\n",
              "   Wheelbase  Width  Turn.circle Rear.seat.room  Luggage.room  Weight  \\\n",
              "0        102     68           37           26.5            11    2705   \n",
              "1        115     71           38           30.0            15    3560   \n",
              "2        102     67           37           28.0            14    3375   \n",
              "3        106     70           37           31.0            17    3405   \n",
              "4        109     69           39           27.0            13    3640   \n",
              "\n",
              "    Origin           Make  \n",
              "0  non-USA  Acura Integra  \n",
              "1  non-USA   Acura Legend  \n",
              "2  non-USA        Audi 90  \n",
              "3  non-USA       Audi 100  \n",
              "4  non-USA       BMW 535i  \n",
              "\n",
              "[5 rows x 27 columns]"
            ],
            "text/html": [
              "\n",
              "  <div id=\"df-befbb4d8-957f-4219-ad72-2a4ee1e9c821\">\n",
              "    <div class=\"colab-df-container\">\n",
              "      <div>\n",
              "<style scoped>\n",
              "    .dataframe tbody tr th:only-of-type {\n",
              "        vertical-align: middle;\n",
              "    }\n",
              "\n",
              "    .dataframe tbody tr th {\n",
              "        vertical-align: top;\n",
              "    }\n",
              "\n",
              "    .dataframe thead th {\n",
              "        text-align: right;\n",
              "    }\n",
              "</style>\n",
              "<table border=\"1\" class=\"dataframe\">\n",
              "  <thead>\n",
              "    <tr style=\"text-align: right;\">\n",
              "      <th></th>\n",
              "      <th>Manufacturer</th>\n",
              "      <th>Model</th>\n",
              "      <th>Type</th>\n",
              "      <th>Min.Price</th>\n",
              "      <th>Price</th>\n",
              "      <th>Max.Price</th>\n",
              "      <th>MPG.city</th>\n",
              "      <th>MPG.highway</th>\n",
              "      <th>AirBags</th>\n",
              "      <th>DriveTrain</th>\n",
              "      <th>...</th>\n",
              "      <th>Passengers</th>\n",
              "      <th>Length</th>\n",
              "      <th>Wheelbase</th>\n",
              "      <th>Width</th>\n",
              "      <th>Turn.circle</th>\n",
              "      <th>Rear.seat.room</th>\n",
              "      <th>Luggage.room</th>\n",
              "      <th>Weight</th>\n",
              "      <th>Origin</th>\n",
              "      <th>Make</th>\n",
              "    </tr>\n",
              "  </thead>\n",
              "  <tbody>\n",
              "    <tr>\n",
              "      <th>0</th>\n",
              "      <td>Acura</td>\n",
              "      <td>Integra</td>\n",
              "      <td>Small</td>\n",
              "      <td>12.9</td>\n",
              "      <td>15.9</td>\n",
              "      <td>18.8</td>\n",
              "      <td>25</td>\n",
              "      <td>31</td>\n",
              "      <td>None</td>\n",
              "      <td>Front</td>\n",
              "      <td>...</td>\n",
              "      <td>5</td>\n",
              "      <td>177</td>\n",
              "      <td>102</td>\n",
              "      <td>68</td>\n",
              "      <td>37</td>\n",
              "      <td>26.5</td>\n",
              "      <td>11</td>\n",
              "      <td>2705</td>\n",
              "      <td>non-USA</td>\n",
              "      <td>Acura Integra</td>\n",
              "    </tr>\n",
              "    <tr>\n",
              "      <th>1</th>\n",
              "      <td>Acura</td>\n",
              "      <td>Legend</td>\n",
              "      <td>Midsize</td>\n",
              "      <td>29.2</td>\n",
              "      <td>33.9</td>\n",
              "      <td>38.7</td>\n",
              "      <td>18</td>\n",
              "      <td>25</td>\n",
              "      <td>Driver &amp; Passenger</td>\n",
              "      <td>Front</td>\n",
              "      <td>...</td>\n",
              "      <td>5</td>\n",
              "      <td>195</td>\n",
              "      <td>115</td>\n",
              "      <td>71</td>\n",
              "      <td>38</td>\n",
              "      <td>30.0</td>\n",
              "      <td>15</td>\n",
              "      <td>3560</td>\n",
              "      <td>non-USA</td>\n",
              "      <td>Acura Legend</td>\n",
              "    </tr>\n",
              "    <tr>\n",
              "      <th>2</th>\n",
              "      <td>Audi</td>\n",
              "      <td>90</td>\n",
              "      <td>Compact</td>\n",
              "      <td>25.9</td>\n",
              "      <td>29.1</td>\n",
              "      <td>32.3</td>\n",
              "      <td>20</td>\n",
              "      <td>26</td>\n",
              "      <td>Driver only</td>\n",
              "      <td>Front</td>\n",
              "      <td>...</td>\n",
              "      <td>5</td>\n",
              "      <td>180</td>\n",
              "      <td>102</td>\n",
              "      <td>67</td>\n",
              "      <td>37</td>\n",
              "      <td>28.0</td>\n",
              "      <td>14</td>\n",
              "      <td>3375</td>\n",
              "      <td>non-USA</td>\n",
              "      <td>Audi 90</td>\n",
              "    </tr>\n",
              "    <tr>\n",
              "      <th>3</th>\n",
              "      <td>Audi</td>\n",
              "      <td>100</td>\n",
              "      <td>Midsize</td>\n",
              "      <td>30.8</td>\n",
              "      <td>37.7</td>\n",
              "      <td>44.6</td>\n",
              "      <td>19</td>\n",
              "      <td>26</td>\n",
              "      <td>Driver &amp; Passenger</td>\n",
              "      <td>Front</td>\n",
              "      <td>...</td>\n",
              "      <td>6</td>\n",
              "      <td>193</td>\n",
              "      <td>106</td>\n",
              "      <td>70</td>\n",
              "      <td>37</td>\n",
              "      <td>31.0</td>\n",
              "      <td>17</td>\n",
              "      <td>3405</td>\n",
              "      <td>non-USA</td>\n",
              "      <td>Audi 100</td>\n",
              "    </tr>\n",
              "    <tr>\n",
              "      <th>4</th>\n",
              "      <td>BMW</td>\n",
              "      <td>535i</td>\n",
              "      <td>Midsize</td>\n",
              "      <td>23.7</td>\n",
              "      <td>30.0</td>\n",
              "      <td>36.2</td>\n",
              "      <td>22</td>\n",
              "      <td>30</td>\n",
              "      <td>Driver only</td>\n",
              "      <td>Rear</td>\n",
              "      <td>...</td>\n",
              "      <td>4</td>\n",
              "      <td>186</td>\n",
              "      <td>109</td>\n",
              "      <td>69</td>\n",
              "      <td>39</td>\n",
              "      <td>27.0</td>\n",
              "      <td>13</td>\n",
              "      <td>3640</td>\n",
              "      <td>non-USA</td>\n",
              "      <td>BMW 535i</td>\n",
              "    </tr>\n",
              "  </tbody>\n",
              "</table>\n",
              "<p>5 rows × 27 columns</p>\n",
              "</div>\n",
              "      <button class=\"colab-df-convert\" onclick=\"convertToInteractive('df-befbb4d8-957f-4219-ad72-2a4ee1e9c821')\"\n",
              "              title=\"Convert this dataframe to an interactive table.\"\n",
              "              style=\"display:none;\">\n",
              "        \n",
              "  <svg xmlns=\"http://www.w3.org/2000/svg\" height=\"24px\"viewBox=\"0 0 24 24\"\n",
              "       width=\"24px\">\n",
              "    <path d=\"M0 0h24v24H0V0z\" fill=\"none\"/>\n",
              "    <path d=\"M18.56 5.44l.94 2.06.94-2.06 2.06-.94-2.06-.94-.94-2.06-.94 2.06-2.06.94zm-11 1L8.5 8.5l.94-2.06 2.06-.94-2.06-.94L8.5 2.5l-.94 2.06-2.06.94zm10 10l.94 2.06.94-2.06 2.06-.94-2.06-.94-.94-2.06-.94 2.06-2.06.94z\"/><path d=\"M17.41 7.96l-1.37-1.37c-.4-.4-.92-.59-1.43-.59-.52 0-1.04.2-1.43.59L10.3 9.45l-7.72 7.72c-.78.78-.78 2.05 0 2.83L4 21.41c.39.39.9.59 1.41.59.51 0 1.02-.2 1.41-.59l7.78-7.78 2.81-2.81c.8-.78.8-2.07 0-2.86zM5.41 20L4 18.59l7.72-7.72 1.47 1.35L5.41 20z\"/>\n",
              "  </svg>\n",
              "      </button>\n",
              "      \n",
              "  <style>\n",
              "    .colab-df-container {\n",
              "      display:flex;\n",
              "      flex-wrap:wrap;\n",
              "      gap: 12px;\n",
              "    }\n",
              "\n",
              "    .colab-df-convert {\n",
              "      background-color: #E8F0FE;\n",
              "      border: none;\n",
              "      border-radius: 50%;\n",
              "      cursor: pointer;\n",
              "      display: none;\n",
              "      fill: #1967D2;\n",
              "      height: 32px;\n",
              "      padding: 0 0 0 0;\n",
              "      width: 32px;\n",
              "    }\n",
              "\n",
              "    .colab-df-convert:hover {\n",
              "      background-color: #E2EBFA;\n",
              "      box-shadow: 0px 1px 2px rgba(60, 64, 67, 0.3), 0px 1px 3px 1px rgba(60, 64, 67, 0.15);\n",
              "      fill: #174EA6;\n",
              "    }\n",
              "\n",
              "    [theme=dark] .colab-df-convert {\n",
              "      background-color: #3B4455;\n",
              "      fill: #D2E3FC;\n",
              "    }\n",
              "\n",
              "    [theme=dark] .colab-df-convert:hover {\n",
              "      background-color: #434B5C;\n",
              "      box-shadow: 0px 1px 3px 1px rgba(0, 0, 0, 0.15);\n",
              "      filter: drop-shadow(0px 1px 2px rgba(0, 0, 0, 0.3));\n",
              "      fill: #FFFFFF;\n",
              "    }\n",
              "  </style>\n",
              "\n",
              "      <script>\n",
              "        const buttonEl =\n",
              "          document.querySelector('#df-befbb4d8-957f-4219-ad72-2a4ee1e9c821 button.colab-df-convert');\n",
              "        buttonEl.style.display =\n",
              "          google.colab.kernel.accessAllowed ? 'block' : 'none';\n",
              "\n",
              "        async function convertToInteractive(key) {\n",
              "          const element = document.querySelector('#df-befbb4d8-957f-4219-ad72-2a4ee1e9c821');\n",
              "          const dataTable =\n",
              "            await google.colab.kernel.invokeFunction('convertToInteractive',\n",
              "                                                     [key], {});\n",
              "          if (!dataTable) return;\n",
              "\n",
              "          const docLinkHtml = 'Like what you see? Visit the ' +\n",
              "            '<a target=\"_blank\" href=https://colab.research.google.com/notebooks/data_table.ipynb>data table notebook</a>'\n",
              "            + ' to learn more about interactive tables.';\n",
              "          element.innerHTML = '';\n",
              "          dataTable['output_type'] = 'display_data';\n",
              "          await google.colab.output.renderOutput(dataTable, element);\n",
              "          const docLink = document.createElement('div');\n",
              "          docLink.innerHTML = docLinkHtml;\n",
              "          element.appendChild(docLink);\n",
              "        }\n",
              "      </script>\n",
              "    </div>\n",
              "  </div>\n",
              "  "
            ]
          },
          "metadata": {},
          "execution_count": 2
        }
      ]
    },
    {
      "cell_type": "code",
      "source": [
        "import statsmodels.api as sm\n",
        "import statsmodels.formula.api as smf\n",
        "\n",
        "model = smf.ols(formula=\"Price ~ EngineSize + RPM + Weight + Length\", data=cars)\n",
        "result = model.fit()\n",
        "result.summary()"
      ],
      "metadata": {
        "colab": {
          "base_uri": "https://localhost:8080/",
          "height": 550
        },
        "id": "iNwZRSUsC8TW",
        "outputId": "e286f909-0a3d-4f0a-f3b2-4db991258077"
      },
      "execution_count": null,
      "outputs": [
        {
          "output_type": "execute_result",
          "data": {
            "text/plain": [
              "<class 'statsmodels.iolib.summary.Summary'>\n",
              "\"\"\"\n",
              "                            OLS Regression Results                            \n",
              "==============================================================================\n",
              "Dep. Variable:                  Price   R-squared:                       0.563\n",
              "Model:                            OLS   Adj. R-squared:                  0.543\n",
              "Method:                 Least Squares   F-statistic:                     28.34\n",
              "Date:                Sun, 30 Apr 2023   Prob (F-statistic):           3.93e-15\n",
              "Time:                        12:07:47   Log-Likelihood:                -303.89\n",
              "No. Observations:                  93   AIC:                             617.8\n",
              "Df Residuals:                      88   BIC:                             630.4\n",
              "Df Model:                           4                                         \n",
              "Covariance Type:            nonrobust                                         \n",
              "==============================================================================\n",
              "                 coef    std err          t      P>|t|      [0.025      0.975]\n",
              "------------------------------------------------------------------------------\n",
              "Intercept    -45.4934     14.654     -3.104      0.003     -74.616     -16.371\n",
              "EngineSize     4.5091      1.381      3.266      0.002       1.765       7.253\n",
              "RPM            0.0070      0.001      5.139      0.000       0.004       0.010\n",
              "Weight         0.0079      0.002      3.255      0.002       0.003       0.013\n",
              "Length        -0.0457      0.083     -0.550      0.584      -0.211       0.120\n",
              "==============================================================================\n",
              "Omnibus:                       62.028   Durbin-Watson:                   1.405\n",
              "Prob(Omnibus):                  0.000   Jarque-Bera (JB):              353.003\n",
              "Skew:                           2.067   Prob(JB):                     2.22e-77\n",
              "Kurtosis:                      11.602   Cond. No.                     1.33e+05\n",
              "==============================================================================\n",
              "\n",
              "Notes:\n",
              "[1] Standard Errors assume that the covariance matrix of the errors is correctly specified.\n",
              "[2] The condition number is large, 1.33e+05. This might indicate that there are\n",
              "strong multicollinearity or other numerical problems.\n",
              "\"\"\""
            ],
            "text/html": [
              "<table class=\"simpletable\">\n",
              "<caption>OLS Regression Results</caption>\n",
              "<tr>\n",
              "  <th>Dep. Variable:</th>          <td>Price</td>      <th>  R-squared:         </th> <td>   0.563</td>\n",
              "</tr>\n",
              "<tr>\n",
              "  <th>Model:</th>                   <td>OLS</td>       <th>  Adj. R-squared:    </th> <td>   0.543</td>\n",
              "</tr>\n",
              "<tr>\n",
              "  <th>Method:</th>             <td>Least Squares</td>  <th>  F-statistic:       </th> <td>   28.34</td>\n",
              "</tr>\n",
              "<tr>\n",
              "  <th>Date:</th>             <td>Sun, 30 Apr 2023</td> <th>  Prob (F-statistic):</th> <td>3.93e-15</td>\n",
              "</tr>\n",
              "<tr>\n",
              "  <th>Time:</th>                 <td>12:07:47</td>     <th>  Log-Likelihood:    </th> <td> -303.89</td>\n",
              "</tr>\n",
              "<tr>\n",
              "  <th>No. Observations:</th>      <td>    93</td>      <th>  AIC:               </th> <td>   617.8</td>\n",
              "</tr>\n",
              "<tr>\n",
              "  <th>Df Residuals:</th>          <td>    88</td>      <th>  BIC:               </th> <td>   630.4</td>\n",
              "</tr>\n",
              "<tr>\n",
              "  <th>Df Model:</th>              <td>     4</td>      <th>                     </th>     <td> </td>   \n",
              "</tr>\n",
              "<tr>\n",
              "  <th>Covariance Type:</th>      <td>nonrobust</td>    <th>                     </th>     <td> </td>   \n",
              "</tr>\n",
              "</table>\n",
              "<table class=\"simpletable\">\n",
              "<tr>\n",
              "       <td></td>         <th>coef</th>     <th>std err</th>      <th>t</th>      <th>P>|t|</th>  <th>[0.025</th>    <th>0.975]</th>  \n",
              "</tr>\n",
              "<tr>\n",
              "  <th>Intercept</th>  <td>  -45.4934</td> <td>   14.654</td> <td>   -3.104</td> <td> 0.003</td> <td>  -74.616</td> <td>  -16.371</td>\n",
              "</tr>\n",
              "<tr>\n",
              "  <th>EngineSize</th> <td>    4.5091</td> <td>    1.381</td> <td>    3.266</td> <td> 0.002</td> <td>    1.765</td> <td>    7.253</td>\n",
              "</tr>\n",
              "<tr>\n",
              "  <th>RPM</th>        <td>    0.0070</td> <td>    0.001</td> <td>    5.139</td> <td> 0.000</td> <td>    0.004</td> <td>    0.010</td>\n",
              "</tr>\n",
              "<tr>\n",
              "  <th>Weight</th>     <td>    0.0079</td> <td>    0.002</td> <td>    3.255</td> <td> 0.002</td> <td>    0.003</td> <td>    0.013</td>\n",
              "</tr>\n",
              "<tr>\n",
              "  <th>Length</th>     <td>   -0.0457</td> <td>    0.083</td> <td>   -0.550</td> <td> 0.584</td> <td>   -0.211</td> <td>    0.120</td>\n",
              "</tr>\n",
              "</table>\n",
              "<table class=\"simpletable\">\n",
              "<tr>\n",
              "  <th>Omnibus:</th>       <td>62.028</td> <th>  Durbin-Watson:     </th> <td>   1.405</td>\n",
              "</tr>\n",
              "<tr>\n",
              "  <th>Prob(Omnibus):</th> <td> 0.000</td> <th>  Jarque-Bera (JB):  </th> <td> 353.003</td>\n",
              "</tr>\n",
              "<tr>\n",
              "  <th>Skew:</th>          <td> 2.067</td> <th>  Prob(JB):          </th> <td>2.22e-77</td>\n",
              "</tr>\n",
              "<tr>\n",
              "  <th>Kurtosis:</th>      <td>11.602</td> <th>  Cond. No.          </th> <td>1.33e+05</td>\n",
              "</tr>\n",
              "</table><br/><br/>Notes:<br/>[1] Standard Errors assume that the covariance matrix of the errors is correctly specified.<br/>[2] The condition number is large, 1.33e+05. This might indicate that there are<br/>strong multicollinearity or other numerical problems."
            ]
          },
          "metadata": {},
          "execution_count": 3
        }
      ]
    },
    {
      "cell_type": "code",
      "source": [
        "# t통계량을 통해 유의하지 않은 회귀계수 제거\n",
        "model = smf.ols(formula=\"Price ~ EngineSize + RPM + Weight\", data=cars)\n",
        "result = model.fit()\n",
        "result.summary()"
      ],
      "metadata": {
        "colab": {
          "base_uri": "https://localhost:8080/",
          "height": 529
        },
        "id": "143hw5mRD9p7",
        "outputId": "02eb4b67-0244-4201-b2a5-05c84695875e"
      },
      "execution_count": null,
      "outputs": [
        {
          "output_type": "execute_result",
          "data": {
            "text/plain": [
              "<class 'statsmodels.iolib.summary.Summary'>\n",
              "\"\"\"\n",
              "                            OLS Regression Results                            \n",
              "==============================================================================\n",
              "Dep. Variable:                  Price   R-squared:                       0.561\n",
              "Model:                            OLS   Adj. R-squared:                  0.547\n",
              "Method:                 Least Squares   F-statistic:                     37.98\n",
              "Date:                Sun, 30 Apr 2023   Prob (F-statistic):           6.75e-16\n",
              "Time:                        12:09:06   Log-Likelihood:                -304.05\n",
              "No. Observations:                  93   AIC:                             616.1\n",
              "Df Residuals:                      89   BIC:                             626.2\n",
              "Df Model:                           3                                         \n",
              "Covariance Type:            nonrobust                                         \n",
              "==============================================================================\n",
              "                 coef    std err          t      P>|t|      [0.025      0.975]\n",
              "------------------------------------------------------------------------------\n",
              "Intercept    -51.7933      9.106     -5.688      0.000     -69.887     -33.699\n",
              "EngineSize     4.3054      1.325      3.249      0.002       1.673       6.938\n",
              "RPM            0.0071      0.001      5.208      0.000       0.004       0.010\n",
              "Weight         0.0073      0.002      3.372      0.001       0.003       0.012\n",
              "==============================================================================\n",
              "Omnibus:                       62.441   Durbin-Watson:                   1.406\n",
              "Prob(Omnibus):                  0.000   Jarque-Bera (JB):              361.880\n",
              "Skew:                           2.076   Prob(JB):                     2.62e-79\n",
              "Kurtosis:                      11.726   Cond. No.                     8.27e+04\n",
              "==============================================================================\n",
              "\n",
              "Notes:\n",
              "[1] Standard Errors assume that the covariance matrix of the errors is correctly specified.\n",
              "[2] The condition number is large, 8.27e+04. This might indicate that there are\n",
              "strong multicollinearity or other numerical problems.\n",
              "\"\"\""
            ],
            "text/html": [
              "<table class=\"simpletable\">\n",
              "<caption>OLS Regression Results</caption>\n",
              "<tr>\n",
              "  <th>Dep. Variable:</th>          <td>Price</td>      <th>  R-squared:         </th> <td>   0.561</td>\n",
              "</tr>\n",
              "<tr>\n",
              "  <th>Model:</th>                   <td>OLS</td>       <th>  Adj. R-squared:    </th> <td>   0.547</td>\n",
              "</tr>\n",
              "<tr>\n",
              "  <th>Method:</th>             <td>Least Squares</td>  <th>  F-statistic:       </th> <td>   37.98</td>\n",
              "</tr>\n",
              "<tr>\n",
              "  <th>Date:</th>             <td>Sun, 30 Apr 2023</td> <th>  Prob (F-statistic):</th> <td>6.75e-16</td>\n",
              "</tr>\n",
              "<tr>\n",
              "  <th>Time:</th>                 <td>12:09:06</td>     <th>  Log-Likelihood:    </th> <td> -304.05</td>\n",
              "</tr>\n",
              "<tr>\n",
              "  <th>No. Observations:</th>      <td>    93</td>      <th>  AIC:               </th> <td>   616.1</td>\n",
              "</tr>\n",
              "<tr>\n",
              "  <th>Df Residuals:</th>          <td>    89</td>      <th>  BIC:               </th> <td>   626.2</td>\n",
              "</tr>\n",
              "<tr>\n",
              "  <th>Df Model:</th>              <td>     3</td>      <th>                     </th>     <td> </td>   \n",
              "</tr>\n",
              "<tr>\n",
              "  <th>Covariance Type:</th>      <td>nonrobust</td>    <th>                     </th>     <td> </td>   \n",
              "</tr>\n",
              "</table>\n",
              "<table class=\"simpletable\">\n",
              "<tr>\n",
              "       <td></td>         <th>coef</th>     <th>std err</th>      <th>t</th>      <th>P>|t|</th>  <th>[0.025</th>    <th>0.975]</th>  \n",
              "</tr>\n",
              "<tr>\n",
              "  <th>Intercept</th>  <td>  -51.7933</td> <td>    9.106</td> <td>   -5.688</td> <td> 0.000</td> <td>  -69.887</td> <td>  -33.699</td>\n",
              "</tr>\n",
              "<tr>\n",
              "  <th>EngineSize</th> <td>    4.3054</td> <td>    1.325</td> <td>    3.249</td> <td> 0.002</td> <td>    1.673</td> <td>    6.938</td>\n",
              "</tr>\n",
              "<tr>\n",
              "  <th>RPM</th>        <td>    0.0071</td> <td>    0.001</td> <td>    5.208</td> <td> 0.000</td> <td>    0.004</td> <td>    0.010</td>\n",
              "</tr>\n",
              "<tr>\n",
              "  <th>Weight</th>     <td>    0.0073</td> <td>    0.002</td> <td>    3.372</td> <td> 0.001</td> <td>    0.003</td> <td>    0.012</td>\n",
              "</tr>\n",
              "</table>\n",
              "<table class=\"simpletable\">\n",
              "<tr>\n",
              "  <th>Omnibus:</th>       <td>62.441</td> <th>  Durbin-Watson:     </th> <td>   1.406</td>\n",
              "</tr>\n",
              "<tr>\n",
              "  <th>Prob(Omnibus):</th> <td> 0.000</td> <th>  Jarque-Bera (JB):  </th> <td> 361.880</td>\n",
              "</tr>\n",
              "<tr>\n",
              "  <th>Skew:</th>          <td> 2.076</td> <th>  Prob(JB):          </th> <td>2.62e-79</td>\n",
              "</tr>\n",
              "<tr>\n",
              "  <th>Kurtosis:</th>      <td>11.726</td> <th>  Cond. No.          </th> <td>8.27e+04</td>\n",
              "</tr>\n",
              "</table><br/><br/>Notes:<br/>[1] Standard Errors assume that the covariance matrix of the errors is correctly specified.<br/>[2] The condition number is large, 8.27e+04. This might indicate that there are<br/>strong multicollinearity or other numerical problems."
            ]
          },
          "metadata": {},
          "execution_count": 4
        }
      ]
    },
    {
      "cell_type": "markdown",
      "source": [
        "# 로지스틱 회귀분석\n",
        "- 확률 모델로서 종속변수와 독립변수의 선형 결합을 이용하여 사건의 발생 가능성을 예측하는 통계기법\n",
        "- 종속변수가 범주형 데이터\n",
        "- 수식\n",
        "  1. 오즈 계산: odds=p(1-p)\n",
        "    - 참일 확률/거짓일 확률: 참일 확률이 거짓일 확률보다 얼마나 큰가\n",
        "  2. 로짓 변환: logit(p)=ln(p/(1-p))\n",
        "  3. 로지스틱: logit(p)=a+bX\n",
        "    - p=f(x)=e^(a+bX)/(1+e^(a+bX))\n",
        "- 해석\n",
        "  - 회귀계수에 exp 취한것을 오즈비로 해석하면 된다.\n",
        "  - b1 = ln(odds1)\n",
        "  - exp(b1)=오즈비: 효과없음\n",
        "  - exp(b1)=1.5>1: X1이 1만큼 커지면 종속변수 True일 확률이 1.5배(50%) 증가\n",
        "  - exp(b1)=0.5<1: X1이 1만큼 작아지면 종속변수 True일 확률이 0.5배(50%) 감소\n",
        "  - exp(회귀계수): Input(X1)값이 1단위 증가했을 때 성공확률의 증가량"
      ],
      "metadata": {
        "id": "xhzSIX2bERWq"
      }
    },
    {
      "cell_type": "markdown",
      "source": [
        "Q. 생존자를 분류하는 로지스틱 회귀분석 실시"
      ],
      "metadata": {
        "id": "_rIoCFd488JU"
      }
    },
    {
      "cell_type": "code",
      "source": [
        "import pandas as pd\n",
        "import numpy as np\n",
        "df_t = pd.read_csv('/content/drive/MyDrive/Colab Notebooks/adp_class101/data/titanic.csv')\n",
        "df_t.head()"
      ],
      "metadata": {
        "colab": {
          "base_uri": "https://localhost:8080/",
          "height": 270
        },
        "id": "oSzcK3icbNXO",
        "outputId": "c88f772c-5643-44f1-db97-829923afacc3"
      },
      "execution_count": null,
      "outputs": [
        {
          "output_type": "execute_result",
          "data": {
            "text/plain": [
              "   survived  pclass     sex   age  sibsp  parch     fare embarked  class  \\\n",
              "0         0       3    male  22.0      1      0   7.2500        S  Third   \n",
              "1         1       1  female  38.0      1      0  71.2833        C  First   \n",
              "2         1       3  female  26.0      0      0   7.9250        S  Third   \n",
              "3         1       1  female  35.0      1      0  53.1000        S  First   \n",
              "4         0       3    male  35.0      0      0   8.0500        S  Third   \n",
              "\n",
              "   adult_male  embark_town  \n",
              "0        True  Southampton  \n",
              "1       False    Cherbourg  \n",
              "2       False  Southampton  \n",
              "3       False  Southampton  \n",
              "4        True  Southampton  "
            ],
            "text/html": [
              "\n",
              "  <div id=\"df-f3ea519f-e1c3-4373-bc10-b86c357d1481\">\n",
              "    <div class=\"colab-df-container\">\n",
              "      <div>\n",
              "<style scoped>\n",
              "    .dataframe tbody tr th:only-of-type {\n",
              "        vertical-align: middle;\n",
              "    }\n",
              "\n",
              "    .dataframe tbody tr th {\n",
              "        vertical-align: top;\n",
              "    }\n",
              "\n",
              "    .dataframe thead th {\n",
              "        text-align: right;\n",
              "    }\n",
              "</style>\n",
              "<table border=\"1\" class=\"dataframe\">\n",
              "  <thead>\n",
              "    <tr style=\"text-align: right;\">\n",
              "      <th></th>\n",
              "      <th>survived</th>\n",
              "      <th>pclass</th>\n",
              "      <th>sex</th>\n",
              "      <th>age</th>\n",
              "      <th>sibsp</th>\n",
              "      <th>parch</th>\n",
              "      <th>fare</th>\n",
              "      <th>embarked</th>\n",
              "      <th>class</th>\n",
              "      <th>adult_male</th>\n",
              "      <th>embark_town</th>\n",
              "    </tr>\n",
              "  </thead>\n",
              "  <tbody>\n",
              "    <tr>\n",
              "      <th>0</th>\n",
              "      <td>0</td>\n",
              "      <td>3</td>\n",
              "      <td>male</td>\n",
              "      <td>22.0</td>\n",
              "      <td>1</td>\n",
              "      <td>0</td>\n",
              "      <td>7.2500</td>\n",
              "      <td>S</td>\n",
              "      <td>Third</td>\n",
              "      <td>True</td>\n",
              "      <td>Southampton</td>\n",
              "    </tr>\n",
              "    <tr>\n",
              "      <th>1</th>\n",
              "      <td>1</td>\n",
              "      <td>1</td>\n",
              "      <td>female</td>\n",
              "      <td>38.0</td>\n",
              "      <td>1</td>\n",
              "      <td>0</td>\n",
              "      <td>71.2833</td>\n",
              "      <td>C</td>\n",
              "      <td>First</td>\n",
              "      <td>False</td>\n",
              "      <td>Cherbourg</td>\n",
              "    </tr>\n",
              "    <tr>\n",
              "      <th>2</th>\n",
              "      <td>1</td>\n",
              "      <td>3</td>\n",
              "      <td>female</td>\n",
              "      <td>26.0</td>\n",
              "      <td>0</td>\n",
              "      <td>0</td>\n",
              "      <td>7.9250</td>\n",
              "      <td>S</td>\n",
              "      <td>Third</td>\n",
              "      <td>False</td>\n",
              "      <td>Southampton</td>\n",
              "    </tr>\n",
              "    <tr>\n",
              "      <th>3</th>\n",
              "      <td>1</td>\n",
              "      <td>1</td>\n",
              "      <td>female</td>\n",
              "      <td>35.0</td>\n",
              "      <td>1</td>\n",
              "      <td>0</td>\n",
              "      <td>53.1000</td>\n",
              "      <td>S</td>\n",
              "      <td>First</td>\n",
              "      <td>False</td>\n",
              "      <td>Southampton</td>\n",
              "    </tr>\n",
              "    <tr>\n",
              "      <th>4</th>\n",
              "      <td>0</td>\n",
              "      <td>3</td>\n",
              "      <td>male</td>\n",
              "      <td>35.0</td>\n",
              "      <td>0</td>\n",
              "      <td>0</td>\n",
              "      <td>8.0500</td>\n",
              "      <td>S</td>\n",
              "      <td>Third</td>\n",
              "      <td>True</td>\n",
              "      <td>Southampton</td>\n",
              "    </tr>\n",
              "  </tbody>\n",
              "</table>\n",
              "</div>\n",
              "      <button class=\"colab-df-convert\" onclick=\"convertToInteractive('df-f3ea519f-e1c3-4373-bc10-b86c357d1481')\"\n",
              "              title=\"Convert this dataframe to an interactive table.\"\n",
              "              style=\"display:none;\">\n",
              "        \n",
              "  <svg xmlns=\"http://www.w3.org/2000/svg\" height=\"24px\"viewBox=\"0 0 24 24\"\n",
              "       width=\"24px\">\n",
              "    <path d=\"M0 0h24v24H0V0z\" fill=\"none\"/>\n",
              "    <path d=\"M18.56 5.44l.94 2.06.94-2.06 2.06-.94-2.06-.94-.94-2.06-.94 2.06-2.06.94zm-11 1L8.5 8.5l.94-2.06 2.06-.94-2.06-.94L8.5 2.5l-.94 2.06-2.06.94zm10 10l.94 2.06.94-2.06 2.06-.94-2.06-.94-.94-2.06-.94 2.06-2.06.94z\"/><path d=\"M17.41 7.96l-1.37-1.37c-.4-.4-.92-.59-1.43-.59-.52 0-1.04.2-1.43.59L10.3 9.45l-7.72 7.72c-.78.78-.78 2.05 0 2.83L4 21.41c.39.39.9.59 1.41.59.51 0 1.02-.2 1.41-.59l7.78-7.78 2.81-2.81c.8-.78.8-2.07 0-2.86zM5.41 20L4 18.59l7.72-7.72 1.47 1.35L5.41 20z\"/>\n",
              "  </svg>\n",
              "      </button>\n",
              "      \n",
              "  <style>\n",
              "    .colab-df-container {\n",
              "      display:flex;\n",
              "      flex-wrap:wrap;\n",
              "      gap: 12px;\n",
              "    }\n",
              "\n",
              "    .colab-df-convert {\n",
              "      background-color: #E8F0FE;\n",
              "      border: none;\n",
              "      border-radius: 50%;\n",
              "      cursor: pointer;\n",
              "      display: none;\n",
              "      fill: #1967D2;\n",
              "      height: 32px;\n",
              "      padding: 0 0 0 0;\n",
              "      width: 32px;\n",
              "    }\n",
              "\n",
              "    .colab-df-convert:hover {\n",
              "      background-color: #E2EBFA;\n",
              "      box-shadow: 0px 1px 2px rgba(60, 64, 67, 0.3), 0px 1px 3px 1px rgba(60, 64, 67, 0.15);\n",
              "      fill: #174EA6;\n",
              "    }\n",
              "\n",
              "    [theme=dark] .colab-df-convert {\n",
              "      background-color: #3B4455;\n",
              "      fill: #D2E3FC;\n",
              "    }\n",
              "\n",
              "    [theme=dark] .colab-df-convert:hover {\n",
              "      background-color: #434B5C;\n",
              "      box-shadow: 0px 1px 3px 1px rgba(0, 0, 0, 0.15);\n",
              "      filter: drop-shadow(0px 1px 2px rgba(0, 0, 0, 0.3));\n",
              "      fill: #FFFFFF;\n",
              "    }\n",
              "  </style>\n",
              "\n",
              "      <script>\n",
              "        const buttonEl =\n",
              "          document.querySelector('#df-f3ea519f-e1c3-4373-bc10-b86c357d1481 button.colab-df-convert');\n",
              "        buttonEl.style.display =\n",
              "          google.colab.kernel.accessAllowed ? 'block' : 'none';\n",
              "\n",
              "        async function convertToInteractive(key) {\n",
              "          const element = document.querySelector('#df-f3ea519f-e1c3-4373-bc10-b86c357d1481');\n",
              "          const dataTable =\n",
              "            await google.colab.kernel.invokeFunction('convertToInteractive',\n",
              "                                                     [key], {});\n",
              "          if (!dataTable) return;\n",
              "\n",
              "          const docLinkHtml = 'Like what you see? Visit the ' +\n",
              "            '<a target=\"_blank\" href=https://colab.research.google.com/notebooks/data_table.ipynb>data table notebook</a>'\n",
              "            + ' to learn more about interactive tables.';\n",
              "          element.innerHTML = '';\n",
              "          dataTable['output_type'] = 'display_data';\n",
              "          await google.colab.output.renderOutput(dataTable, element);\n",
              "          const docLink = document.createElement('div');\n",
              "          docLink.innerHTML = docLinkHtml;\n",
              "          element.appendChild(docLink);\n",
              "        }\n",
              "      </script>\n",
              "    </div>\n",
              "  </div>\n",
              "  "
            ]
          },
          "metadata": {},
          "execution_count": 2
        }
      ]
    },
    {
      "cell_type": "code",
      "source": [
        "df_t.info()"
      ],
      "metadata": {
        "colab": {
          "base_uri": "https://localhost:8080/"
        },
        "id": "7RsM22nZ6bzg",
        "outputId": "85548ec4-7942-45a5-a11b-8841a7419eef"
      },
      "execution_count": null,
      "outputs": [
        {
          "output_type": "stream",
          "name": "stdout",
          "text": [
            "<class 'pandas.core.frame.DataFrame'>\n",
            "RangeIndex: 891 entries, 0 to 890\n",
            "Data columns (total 11 columns):\n",
            " #   Column       Non-Null Count  Dtype  \n",
            "---  ------       --------------  -----  \n",
            " 0   survived     891 non-null    int64  \n",
            " 1   pclass       891 non-null    int64  \n",
            " 2   sex          891 non-null    object \n",
            " 3   age          714 non-null    float64\n",
            " 4   sibsp        891 non-null    int64  \n",
            " 5   parch        891 non-null    int64  \n",
            " 6   fare         891 non-null    float64\n",
            " 7   embarked     889 non-null    object \n",
            " 8   class        891 non-null    object \n",
            " 9   adult_male   891 non-null    bool   \n",
            " 10  embark_town  889 non-null    object \n",
            "dtypes: bool(1), float64(2), int64(4), object(4)\n",
            "memory usage: 70.6+ KB\n"
          ]
        }
      ]
    },
    {
      "cell_type": "code",
      "source": [
        "# 전처리\n",
        "# 결측치 제거\n",
        "df_t['age'] = df_t['age'].fillna(df_t['age'].median())\n",
        "df_t['embark_town'] = df_t['embark_town'].fillna(df_t['embark_town'].value_counts().index[0]) # 최빈값"
      ],
      "metadata": {
        "id": "obXNLVM-6ef2"
      },
      "execution_count": null,
      "outputs": []
    },
    {
      "cell_type": "code",
      "source": [
        "df_t.count()"
      ],
      "metadata": {
        "colab": {
          "base_uri": "https://localhost:8080/"
        },
        "id": "5ogYr8eG6-zt",
        "outputId": "ae811c0f-7d39-4d9e-9b18-2e7a7f4f4931"
      },
      "execution_count": null,
      "outputs": [
        {
          "output_type": "execute_result",
          "data": {
            "text/plain": [
              "survived       891\n",
              "pclass         891\n",
              "sex            891\n",
              "age            891\n",
              "sibsp          891\n",
              "parch          891\n",
              "fare           891\n",
              "embarked       889\n",
              "class          891\n",
              "adult_male     891\n",
              "embark_town    891\n",
              "dtype: int64"
            ]
          },
          "metadata": {},
          "execution_count": 6
        }
      ]
    },
    {
      "cell_type": "code",
      "source": [
        "# 더미변수화 및 중복 컬럼 제거\n",
        "df_t = df_t.drop(['pclass', 'embarked'], axis=1)\n",
        "df_t = pd.get_dummies(df_t, columns=['sex', 'class', 'embark_town'])"
      ],
      "metadata": {
        "id": "XDAddWX67DFl"
      },
      "execution_count": null,
      "outputs": []
    },
    {
      "cell_type": "code",
      "source": [
        "df_t.columns"
      ],
      "metadata": {
        "colab": {
          "base_uri": "https://localhost:8080/"
        },
        "id": "0dlNV00T7Tay",
        "outputId": "96e95209-b9fc-4f3e-fa9e-9ef4c6830d61"
      },
      "execution_count": null,
      "outputs": [
        {
          "output_type": "execute_result",
          "data": {
            "text/plain": [
              "Index(['survived', 'age', 'sibsp', 'parch', 'fare', 'adult_male', 'sex_female',\n",
              "       'sex_male', 'class_First', 'class_Second', 'class_Third',\n",
              "       'embark_town_Cherbourg', 'embark_town_Queenstown',\n",
              "       'embark_town_Southampton'],\n",
              "      dtype='object')"
            ]
          },
          "metadata": {},
          "execution_count": 8
        }
      ]
    },
    {
      "cell_type": "code",
      "source": [
        "# statsmodels.api의 특성 상 float으로 변환\n",
        "df_t = df_t.astype(float)"
      ],
      "metadata": {
        "id": "VZGWsPIs7UYT"
      },
      "execution_count": null,
      "outputs": []
    },
    {
      "cell_type": "code",
      "source": [
        "# 설명변수(X), 타겟변수(y) 분리\n",
        "X = df_t.drop(['survived'], axis=1)\n",
        "y = df_t['survived']"
      ],
      "metadata": {
        "id": "lvVi_cmA7ePJ"
      },
      "execution_count": null,
      "outputs": []
    },
    {
      "cell_type": "code",
      "source": [
        "y.value_counts()"
      ],
      "metadata": {
        "colab": {
          "base_uri": "https://localhost:8080/"
        },
        "id": "DPURWj567nmc",
        "outputId": "76882029-5220-47b8-9a9c-00aa4d7a83ca"
      },
      "execution_count": null,
      "outputs": [
        {
          "output_type": "execute_result",
          "data": {
            "text/plain": [
              "0.0    549\n",
              "1.0    342\n",
              "Name: survived, dtype: int64"
            ]
          },
          "metadata": {},
          "execution_count": 11
        }
      ]
    },
    {
      "cell_type": "code",
      "source": [
        "# 홀드아웃 기법. train, test 데이터 분리할 때 층화추출\n",
        "# stratify=y: y_train과 y_test의 분포가 원래 데이터 y의 분포와 비슷\n",
        "# random_state로 고정해줘야 일정한 데이터 나옴\n",
        "from sklearn.model_selection import train_test_split\n",
        "X_train, X_test, y_train, y_test = train_test_split(X, y, stratify=y, \n",
        "                                                    test_size=0.2, \n",
        "                                                    random_state=2020)"
      ],
      "metadata": {
        "id": "MUMVKxw07pX_"
      },
      "execution_count": null,
      "outputs": []
    },
    {
      "cell_type": "code",
      "source": [
        "y.value_counts()"
      ],
      "metadata": {
        "colab": {
          "base_uri": "https://localhost:8080/"
        },
        "id": "s9-UKd698bTh",
        "outputId": "9ba1bef8-bdfe-4e14-dc9e-e058cdcc3ab6"
      },
      "execution_count": null,
      "outputs": [
        {
          "output_type": "execute_result",
          "data": {
            "text/plain": [
              "0.0    549\n",
              "1.0    342\n",
              "Name: survived, dtype: int64"
            ]
          },
          "metadata": {},
          "execution_count": 15
        }
      ]
    },
    {
      "cell_type": "code",
      "source": [
        "y_train.value_counts()"
      ],
      "metadata": {
        "colab": {
          "base_uri": "https://localhost:8080/"
        },
        "id": "Mo72547F8AkZ",
        "outputId": "41fe0442-77c2-40dd-ad41-4c2cdcec7f2b"
      },
      "execution_count": null,
      "outputs": [
        {
          "output_type": "execute_result",
          "data": {
            "text/plain": [
              "0.0    439\n",
              "1.0    273\n",
              "Name: survived, dtype: int64"
            ]
          },
          "metadata": {},
          "execution_count": 13
        }
      ]
    },
    {
      "cell_type": "code",
      "source": [
        "y_test.value_counts()"
      ],
      "metadata": {
        "colab": {
          "base_uri": "https://localhost:8080/"
        },
        "id": "BgZytOsO8PzN",
        "outputId": "6019d1fd-32dd-46d6-db64-5d7e402f6033"
      },
      "execution_count": null,
      "outputs": [
        {
          "output_type": "execute_result",
          "data": {
            "text/plain": [
              "0.0    110\n",
              "1.0     69\n",
              "Name: survived, dtype: int64"
            ]
          },
          "metadata": {},
          "execution_count": 14
        }
      ]
    },
    {
      "cell_type": "code",
      "source": [
        "# 로지스틱 회귀모형 모델링\n",
        "import statsmodels.api as sm\n",
        "model = sm.Logit(y_train, X_train)\n",
        "result = model.fit()"
      ],
      "metadata": {
        "colab": {
          "base_uri": "https://localhost:8080/"
        },
        "id": "HELaUYwR8QxF",
        "outputId": "de6ad8a2-c385-40fc-f1d8-5eb9b997cbc6"
      },
      "execution_count": null,
      "outputs": [
        {
          "output_type": "stream",
          "name": "stdout",
          "text": [
            "Optimization terminated successfully.\n",
            "         Current function value: 0.409459\n",
            "         Iterations 11\n"
          ]
        }
      ]
    },
    {
      "cell_type": "code",
      "source": [
        "result.summary()"
      ],
      "metadata": {
        "colab": {
          "base_uri": "https://localhost:8080/",
          "height": 487
        },
        "id": "OZYoiYNs8yx_",
        "outputId": "40f289ab-10ed-4a86-f0a5-caf2f25a11cd"
      },
      "execution_count": null,
      "outputs": [
        {
          "output_type": "execute_result",
          "data": {
            "text/plain": [
              "<class 'statsmodels.iolib.summary.Summary'>\n",
              "\"\"\"\n",
              "                           Logit Regression Results                           \n",
              "==============================================================================\n",
              "Dep. Variable:               survived   No. Observations:                  712\n",
              "Model:                          Logit   Df Residuals:                      701\n",
              "Method:                           MLE   Df Model:                           10\n",
              "Date:                Tue, 02 May 2023   Pseudo R-squ.:                  0.3849\n",
              "Time:                        10:12:46   Log-Likelihood:                -291.53\n",
              "converged:                       True   LL-Null:                       -473.99\n",
              "Covariance Type:            nonrobust   LLR p-value:                 2.720e-72\n",
              "===========================================================================================\n",
              "                              coef    std err          z      P>|z|      [0.025      0.975]\n",
              "-------------------------------------------------------------------------------------------\n",
              "age                        -0.0184      0.009     -1.960      0.050      -0.037   -3.62e-06\n",
              "sibsp                      -0.5172      0.133     -3.875      0.000      -0.779      -0.256\n",
              "parch                      -0.3479      0.146     -2.386      0.017      -0.634      -0.062\n",
              "fare                        0.0049      0.003      1.606      0.108      -0.001       0.011\n",
              "adult_male                 -3.3484      0.575     -5.828      0.000      -4.474      -2.222\n",
              "sex_female                  1.0537   5.98e+06   1.76e-07      1.000   -1.17e+07    1.17e+07\n",
              "sex_male                    1.1034   5.98e+06   1.85e-07      1.000   -1.17e+07    1.17e+07\n",
              "class_First                 1.5521   6.08e+06   2.55e-07      1.000   -1.19e+07    1.19e+07\n",
              "class_Second                0.8715   6.08e+06   1.43e-07      1.000   -1.19e+07    1.19e+07\n",
              "class_Third                -0.2666   6.08e+06  -4.38e-08      1.000   -1.19e+07    1.19e+07\n",
              "embark_town_Cherbourg       1.0016   7.11e+06   1.41e-07      1.000   -1.39e+07    1.39e+07\n",
              "embark_town_Queenstown      0.6284   7.11e+06   8.83e-08      1.000   -1.39e+07    1.39e+07\n",
              "embark_town_Southampton     0.5270   7.11e+06   7.41e-08      1.000   -1.39e+07    1.39e+07\n",
              "===========================================================================================\n",
              "\"\"\""
            ],
            "text/html": [
              "<table class=\"simpletable\">\n",
              "<caption>Logit Regression Results</caption>\n",
              "<tr>\n",
              "  <th>Dep. Variable:</th>       <td>survived</td>     <th>  No. Observations:  </th>  <td>   712</td>  \n",
              "</tr>\n",
              "<tr>\n",
              "  <th>Model:</th>                 <td>Logit</td>      <th>  Df Residuals:      </th>  <td>   701</td>  \n",
              "</tr>\n",
              "<tr>\n",
              "  <th>Method:</th>                 <td>MLE</td>       <th>  Df Model:          </th>  <td>    10</td>  \n",
              "</tr>\n",
              "<tr>\n",
              "  <th>Date:</th>            <td>Tue, 02 May 2023</td> <th>  Pseudo R-squ.:     </th>  <td>0.3849</td>  \n",
              "</tr>\n",
              "<tr>\n",
              "  <th>Time:</th>                <td>10:12:46</td>     <th>  Log-Likelihood:    </th> <td> -291.53</td> \n",
              "</tr>\n",
              "<tr>\n",
              "  <th>converged:</th>             <td>True</td>       <th>  LL-Null:           </th> <td> -473.99</td> \n",
              "</tr>\n",
              "<tr>\n",
              "  <th>Covariance Type:</th>     <td>nonrobust</td>    <th>  LLR p-value:       </th> <td>2.720e-72</td>\n",
              "</tr>\n",
              "</table>\n",
              "<table class=\"simpletable\">\n",
              "<tr>\n",
              "             <td></td>                <th>coef</th>     <th>std err</th>      <th>z</th>      <th>P>|z|</th>  <th>[0.025</th>    <th>0.975]</th>  \n",
              "</tr>\n",
              "<tr>\n",
              "  <th>age</th>                     <td>   -0.0184</td> <td>    0.009</td> <td>   -1.960</td> <td> 0.050</td> <td>   -0.037</td> <td>-3.62e-06</td>\n",
              "</tr>\n",
              "<tr>\n",
              "  <th>sibsp</th>                   <td>   -0.5172</td> <td>    0.133</td> <td>   -3.875</td> <td> 0.000</td> <td>   -0.779</td> <td>   -0.256</td>\n",
              "</tr>\n",
              "<tr>\n",
              "  <th>parch</th>                   <td>   -0.3479</td> <td>    0.146</td> <td>   -2.386</td> <td> 0.017</td> <td>   -0.634</td> <td>   -0.062</td>\n",
              "</tr>\n",
              "<tr>\n",
              "  <th>fare</th>                    <td>    0.0049</td> <td>    0.003</td> <td>    1.606</td> <td> 0.108</td> <td>   -0.001</td> <td>    0.011</td>\n",
              "</tr>\n",
              "<tr>\n",
              "  <th>adult_male</th>              <td>   -3.3484</td> <td>    0.575</td> <td>   -5.828</td> <td> 0.000</td> <td>   -4.474</td> <td>   -2.222</td>\n",
              "</tr>\n",
              "<tr>\n",
              "  <th>sex_female</th>              <td>    1.0537</td> <td> 5.98e+06</td> <td> 1.76e-07</td> <td> 1.000</td> <td>-1.17e+07</td> <td> 1.17e+07</td>\n",
              "</tr>\n",
              "<tr>\n",
              "  <th>sex_male</th>                <td>    1.1034</td> <td> 5.98e+06</td> <td> 1.85e-07</td> <td> 1.000</td> <td>-1.17e+07</td> <td> 1.17e+07</td>\n",
              "</tr>\n",
              "<tr>\n",
              "  <th>class_First</th>             <td>    1.5521</td> <td> 6.08e+06</td> <td> 2.55e-07</td> <td> 1.000</td> <td>-1.19e+07</td> <td> 1.19e+07</td>\n",
              "</tr>\n",
              "<tr>\n",
              "  <th>class_Second</th>            <td>    0.8715</td> <td> 6.08e+06</td> <td> 1.43e-07</td> <td> 1.000</td> <td>-1.19e+07</td> <td> 1.19e+07</td>\n",
              "</tr>\n",
              "<tr>\n",
              "  <th>class_Third</th>             <td>   -0.2666</td> <td> 6.08e+06</td> <td>-4.38e-08</td> <td> 1.000</td> <td>-1.19e+07</td> <td> 1.19e+07</td>\n",
              "</tr>\n",
              "<tr>\n",
              "  <th>embark_town_Cherbourg</th>   <td>    1.0016</td> <td> 7.11e+06</td> <td> 1.41e-07</td> <td> 1.000</td> <td>-1.39e+07</td> <td> 1.39e+07</td>\n",
              "</tr>\n",
              "<tr>\n",
              "  <th>embark_town_Queenstown</th>  <td>    0.6284</td> <td> 7.11e+06</td> <td> 8.83e-08</td> <td> 1.000</td> <td>-1.39e+07</td> <td> 1.39e+07</td>\n",
              "</tr>\n",
              "<tr>\n",
              "  <th>embark_town_Southampton</th> <td>    0.5270</td> <td> 7.11e+06</td> <td> 7.41e-08</td> <td> 1.000</td> <td>-1.39e+07</td> <td> 1.39e+07</td>\n",
              "</tr>\n",
              "</table>"
            ]
          },
          "metadata": {},
          "execution_count": 17
        }
      ]
    },
    {
      "cell_type": "markdown",
      "source": [
        "회귀계수의 p-value가 유의수준 0.05보다 높은 변수가 많으므로 단계적 선택법을 이용하여 로지스틱 회귀분석 다시 실시"
      ],
      "metadata": {
        "id": "B0GC7R5281lo"
      }
    },
    {
      "cell_type": "code",
      "source": [
        "# Stepwise_model 코드는 통계분벅_4_회귀변수선택 파일 참고\n",
        "Stepwise_best_model = Stepwise_model(X_train, y_train)"
      ],
      "metadata": {
        "colab": {
          "base_uri": "https://localhost:8080/"
        },
        "id": "KDNPPhB-_wj_",
        "outputId": "f2f2ff13-4c05-4e7c-a9d9-b9162d5eacbf"
      },
      "execution_count": null,
      "outputs": [
        {
          "output_type": "stream",
          "name": "stdout",
          "text": [
            "Optimization terminated successfully.\n",
            "         Current function value: 0.664126\n",
            "         Iterations 4\n",
            "Optimization terminated successfully.\n",
            "         Current function value: 0.661913\n",
            "         Iterations 5\n",
            "Optimization terminated successfully.\n",
            "         Current function value: 0.662992\n",
            "         Iterations 4\n",
            "Optimization terminated successfully.\n",
            "         Current function value: 0.621623\n",
            "         Iterations 6\n",
            "Optimization terminated successfully.\n",
            "         Current function value: 0.502203\n",
            "         Iterations 6\n",
            "Optimization terminated successfully.\n",
            "         Current function value: 0.529373\n",
            "         Iterations 6\n",
            "Optimization terminated successfully.\n",
            "         Current function value: 0.530107\n",
            "         Iterations 5\n",
            "Optimization terminated successfully.\n",
            "         Current function value: 0.613957\n",
            "         Iterations 5\n",
            "Optimization terminated successfully.\n",
            "         Current function value: 0.658206\n",
            "         Iterations 4\n",
            "Optimization terminated successfully.\n",
            "         Current function value: 0.611853\n",
            "         Iterations 5\n",
            "Optimization terminated successfully.\n",
            "         Current function value: 0.650740\n",
            "         Iterations 5\n",
            "Optimization terminated successfully.\n",
            "         Current function value: 0.664020\n",
            "         Iterations 4\n",
            "Optimization terminated successfully.\n",
            "         Current function value: 0.654252\n",
            "         Iterations 4\n",
            "Processed  12 models on 2 predictors in\n",
            "Selected predictors: ['age', 'adult_male']  AIC: <statsmodels.discrete.discrete_model.BinaryResultsWrapper object at 0x7f15298eac80>\n",
            "forward\n",
            "Optimization terminated successfully.\n",
            "         Current function value: 0.664126\n",
            "         Iterations 4\n",
            "Optimization terminated successfully.\n",
            "         Current function value: 0.540385\n",
            "         Iterations 6\n",
            "Processed  2 models on 1 predictors in 0.023481369018554688\n",
            "Selected predictors: ['adult_male']  AIC: <statsmodels.discrete.discrete_model.BinaryResultsWrapper object at 0x7f15298eb4f0>\n",
            "Optimization terminated successfully.\n",
            "         Current function value: 0.492836\n",
            "         Iterations 6\n",
            "Optimization terminated successfully.\n",
            "         Current function value: 0.497844\n",
            "         Iterations 6\n",
            "Optimization terminated successfully.\n",
            "         Current function value: 0.481062\n",
            "         Iterations 6\n",
            "Optimization terminated successfully.\n",
            "         Current function value: 0.494280\n",
            "         Iterations 6\n",
            "Optimization terminated successfully.\n",
            "         Current function value: 0.502128\n",
            "         Iterations 6\n",
            "Optimization terminated successfully.\n",
            "         Current function value: 0.464742\n",
            "         Iterations 6\n",
            "Optimization terminated successfully.\n",
            "         Current function value: 0.497193\n",
            "         Iterations 6\n",
            "Optimization terminated successfully.\n",
            "         Current function value: 0.484240\n",
            "         Iterations 6\n",
            "Optimization terminated successfully.\n",
            "         Current function value: 0.486385\n",
            "         Iterations 6\n",
            "Optimization terminated successfully.\n",
            "         Current function value: 0.501440\n",
            "         Iterations 6\n",
            "Optimization terminated successfully.\n",
            "         Current function value: 0.501782\n",
            "         Iterations 6\n",
            "Processed  11 models on 3 predictors in\n",
            "Selected predictors: ['age', 'adult_male', 'class_First']  AIC: <statsmodels.discrete.discrete_model.BinaryResultsWrapper object at 0x7f15220fd390>\n",
            "forward\n",
            "Optimization terminated successfully.\n",
            "         Current function value: 0.502203\n",
            "         Iterations 6\n",
            "Optimization terminated successfully.\n",
            "         Current function value: 0.613957\n",
            "         Iterations 5\n",
            "Optimization terminated successfully.\n",
            "         Current function value: 0.471446\n",
            "         Iterations 6\n",
            "Processed  3 models on 2 predictors in 0.10187292098999023\n",
            "Selected predictors: ['adult_male', 'class_First']  AIC: <statsmodels.discrete.discrete_model.BinaryResultsWrapper object at 0x7f15220fd300>\n",
            "Optimization terminated successfully.\n",
            "         Current function value: 0.456171\n",
            "         Iterations 6\n",
            "Optimization terminated successfully.\n",
            "         Current function value: 0.461374\n",
            "         Iterations 6\n",
            "Optimization terminated successfully.\n",
            "         Current function value: 0.462525\n",
            "         Iterations 6\n",
            "Optimization terminated successfully.\n",
            "         Current function value: 0.454258\n",
            "         Iterations 6\n",
            "Optimization terminated successfully.\n",
            "         Current function value: 0.464678\n",
            "         Iterations 6\n",
            "Optimization terminated successfully.\n",
            "         Current function value: 0.441605\n",
            "         Iterations 6\n",
            "Optimization terminated successfully.\n",
            "         Current function value: 0.462562\n",
            "         Iterations 6\n",
            "Optimization terminated successfully.\n",
            "         Current function value: 0.458628\n",
            "         Iterations 6\n",
            "Optimization terminated successfully.\n",
            "         Current function value: 0.464657\n",
            "         Iterations 6\n",
            "Optimization terminated successfully.\n",
            "         Current function value: 0.464704\n",
            "         Iterations 6\n",
            "Processed  10 models on 4 predictors in\n",
            "Selected predictors: ['age', 'adult_male', 'class_First', 'class_Second']  AIC: <statsmodels.discrete.discrete_model.BinaryResultsWrapper object at 0x7f15220fdd50>\n",
            "forward\n",
            "Optimization terminated successfully.\n",
            "         Current function value: 0.464742\n",
            "         Iterations 6\n",
            "Optimization terminated successfully.\n",
            "         Current function value: 0.497193\n",
            "         Iterations 6\n",
            "Optimization terminated successfully.\n",
            "         Current function value: 0.586109\n",
            "         Iterations 5\n",
            "Optimization terminated successfully.\n",
            "         Current function value: 0.441606\n",
            "         Iterations 6\n",
            "Processed  4 models on 3 predictors in 0.06735992431640625\n",
            "Selected predictors: ['adult_male', 'class_First', 'class_Second']  AIC: <statsmodels.discrete.discrete_model.BinaryResultsWrapper object at 0x7f15220fc0d0>\n",
            "backward\n",
            "Optimization terminated successfully.\n",
            "         Current function value: 0.441605\n",
            "         Iterations 6\n",
            "Optimization terminated successfully.\n",
            "         Current function value: 0.433426\n",
            "         Iterations 6\n",
            "Optimization terminated successfully.\n",
            "         Current function value: 0.438104\n",
            "         Iterations 6\n",
            "Optimization terminated successfully.\n",
            "         Current function value: 0.440854\n",
            "         Iterations 6\n",
            "Optimization terminated successfully.\n",
            "         Current function value: 0.439329\n",
            "         Iterations 6\n",
            "Optimization terminated successfully.\n",
            "         Current function value: 0.441070\n",
            "         Iterations 6\n",
            "Optimization terminated successfully.\n",
            "         Current function value: 0.440481\n",
            "         Iterations 6\n",
            "Optimization terminated successfully.\n",
            "         Current function value: 0.436091\n",
            "         Iterations 6\n",
            "Optimization terminated successfully.\n",
            "         Current function value: 0.440393\n",
            "         Iterations 6\n",
            "Optimization terminated successfully.\n",
            "         Current function value: 0.440613\n",
            "         Iterations 6\n",
            "Processed  10 models on 4 predictors in\n",
            "Selected predictors: ['adult_male', 'class_First', 'class_Second', 'sibsp']  AIC: <statsmodels.discrete.discrete_model.BinaryResultsWrapper object at 0x7f15220fed10>\n",
            "forward\n",
            "Optimization terminated successfully.\n",
            "         Current function value: 0.441606\n",
            "         Iterations 6\n",
            "Optimization terminated successfully.\n",
            "         Current function value: 0.467493\n",
            "         Iterations 6\n",
            "Optimization terminated successfully.\n",
            "         Current function value: 0.521342\n",
            "         Iterations 6\n",
            "Optimization terminated successfully.\n",
            "         Current function value: 0.672551\n",
            "         Iterations 5\n",
            "Processed  4 models on 3 predictors in 0.07244324684143066\n",
            "Selected predictors: ['adult_male', 'class_First', 'class_Second']  AIC: <statsmodels.discrete.discrete_model.BinaryResultsWrapper object at 0x7f15298ead40>\n",
            "Optimization terminated successfully.\n",
            "         Current function value: 0.432768\n",
            "         Iterations 6\n",
            "Optimization terminated successfully.\n",
            "         Current function value: 0.433210\n",
            "         Iterations 6\n",
            "Optimization terminated successfully.\n",
            "         Current function value: 0.429832\n",
            "         Iterations 6\n",
            "Optimization terminated successfully.\n",
            "         Current function value: 0.425677\n",
            "         Iterations 6\n",
            "Optimization terminated successfully.\n",
            "         Current function value: 0.432652\n",
            "         Iterations 6\n",
            "Optimization terminated successfully.\n",
            "         Current function value: 0.422666\n",
            "         Iterations 6\n",
            "Optimization terminated successfully.\n",
            "         Current function value: 0.426818\n",
            "         Iterations 6\n",
            "Optimization terminated successfully.\n",
            "         Current function value: 0.431104\n",
            "         Iterations 6\n",
            "Optimization terminated successfully.\n",
            "         Current function value: 0.433279\n",
            "         Iterations 6\n",
            "Processed  9 models on 5 predictors in\n",
            "Selected predictors: ['adult_male', 'class_First', 'class_Second', 'sibsp', 'class_Third']  AIC: <statsmodels.discrete.discrete_model.BinaryResultsWrapper object at 0x7f15220feb00>\n",
            "forward\n",
            "Optimization terminated successfully.\n",
            "         Current function value: 0.433426\n",
            "         Iterations 6\n",
            "Optimization terminated successfully.\n",
            "         Current function value: 0.440481\n",
            "         Iterations 6\n",
            "Optimization terminated successfully.\n",
            "         Current function value: 0.465606\n",
            "         Iterations 6\n",
            "Optimization terminated successfully.\n",
            "         Current function value: 0.520889\n",
            "         Iterations 6\n",
            "Optimization terminated successfully.\n",
            "         Current function value: 0.605238\n",
            "         Iterations 5\n",
            "Processed  5 models on 4 predictors in 0.16460251808166504\n",
            "Selected predictors: ['adult_male', 'class_First', 'class_Second', 'sibsp']  AIC: <statsmodels.discrete.discrete_model.BinaryResultsWrapper object at 0x7f15220fd990>\n",
            "Optimization terminated successfully.\n",
            "         Current function value: 0.417917\n",
            "         Iterations 6\n",
            "Optimization terminated successfully.\n",
            "         Current function value: 0.418963\n",
            "         Iterations 6\n",
            "Optimization terminated successfully.\n",
            "         Current function value: 0.420630\n",
            "         Iterations 6\n",
            "Optimization terminated successfully.\n",
            "         Current function value: 0.422440\n",
            "         Iterations 6\n",
            "Optimization terminated successfully.\n",
            "         Current function value: 0.422440\n",
            "         Iterations 6\n",
            "Optimization terminated successfully.\n",
            "         Current function value: 0.419083\n",
            "         Iterations 6\n",
            "Optimization terminated successfully.\n",
            "         Current function value: 0.422626\n",
            "         Iterations 6\n",
            "Optimization terminated successfully.\n",
            "         Current function value: 0.419522\n",
            "         Iterations 6\n",
            "Processed  8 models on 6 predictors in\n",
            "Selected predictors: ['adult_male', 'class_First', 'class_Second', 'sibsp', 'class_Third', 'age']  AIC: <statsmodels.discrete.discrete_model.BinaryResultsWrapper object at 0x7f152baa24d0>\n",
            "forward\n",
            "Optimization terminated successfully.\n",
            "         Current function value: 0.422666\n",
            "         Iterations 6\n",
            "Optimization terminated successfully.\n",
            "         Current function value: 0.432768\n",
            "         Iterations 6\n",
            "Optimization terminated successfully.\n",
            "         Current function value: 0.439211\n",
            "         Iterations 6\n",
            "Optimization terminated successfully.\n",
            "         Current function value: 0.456130\n",
            "         Iterations 6\n",
            "Optimization terminated successfully.\n",
            "         Current function value: 0.480204\n",
            "         Iterations 6\n",
            "Optimization terminated successfully.\n",
            "         Current function value: 0.583446\n",
            "         Iterations 5\n",
            "Processed  6 models on 5 predictors in 0.2206120491027832\n",
            "Selected predictors: ['adult_male', 'class_First', 'class_Second', 'sibsp', 'class_Third']  AIC: <statsmodels.discrete.discrete_model.BinaryResultsWrapper object at 0x7f15220fd690>\n",
            "Optimization terminated successfully.\n",
            "         Current function value: 0.414596\n",
            "         Iterations 6\n",
            "Optimization terminated successfully.\n",
            "         Current function value: 0.416159\n",
            "         Iterations 6\n",
            "Optimization terminated successfully.\n",
            "         Current function value: 0.417876\n",
            "         Iterations 6\n",
            "Optimization terminated successfully.\n",
            "         Current function value: 0.417876\n",
            "         Iterations 6\n",
            "Optimization terminated successfully.\n",
            "         Current function value: 0.415286\n",
            "         Iterations 6\n",
            "Optimization terminated successfully.\n",
            "         Current function value: 0.417800\n",
            "         Iterations 6\n",
            "Optimization terminated successfully.\n",
            "         Current function value: 0.415314\n",
            "         Iterations 6\n",
            "Processed  7 models on 7 predictors in\n",
            "Selected predictors: ['adult_male', 'class_First', 'class_Second', 'sibsp', 'class_Third', 'age', 'parch']  AIC: <statsmodels.discrete.discrete_model.BinaryResultsWrapper object at 0x7f15220ff010>\n",
            "forward\n",
            "Optimization terminated successfully.\n",
            "         Current function value: 0.417917\n",
            "         Iterations 6\n",
            "Optimization terminated successfully.\n",
            "         Current function value: 0.418963\n",
            "         Iterations 6\n",
            "Optimization terminated successfully.\n",
            "         Current function value: 0.432224\n",
            "         Iterations 6\n",
            "Optimization terminated successfully.\n",
            "         Current function value: 0.429528\n",
            "         Iterations 6\n",
            "Optimization terminated successfully.\n",
            "         Current function value: 0.455854\n",
            "         Iterations 6\n",
            "Optimization terminated successfully.\n",
            "         Current function value: 0.480109\n",
            "         Iterations 6\n",
            "Optimization terminated successfully.\n",
            "         Current function value: 0.579299\n",
            "         Iterations 5\n",
            "Processed  7 models on 6 predictors in 0.13798308372497559\n",
            "Selected predictors: ['adult_male', 'class_First', 'class_Second', 'sibsp', 'class_Third', 'age']  AIC: <statsmodels.discrete.discrete_model.BinaryResultsWrapper object at 0x7f15220fdc90>\n",
            "Optimization terminated successfully.\n",
            "         Current function value: 0.411433\n",
            "         Iterations 6\n",
            "Optimization terminated successfully.\n",
            "         Current function value: 0.414585\n",
            "         Iterations 6\n",
            "Optimization terminated successfully.\n",
            "         Current function value: 0.414585\n",
            "         Iterations 6\n",
            "Optimization terminated successfully.\n",
            "         Current function value: 0.411811\n",
            "         Iterations 6\n",
            "Optimization terminated successfully.\n",
            "         Current function value: 0.414592\n",
            "         Iterations 6\n",
            "Optimization terminated successfully.\n",
            "         Current function value: 0.412382\n",
            "         Iterations 6\n",
            "Processed  6 models on 8 predictors in\n",
            "Selected predictors: ['adult_male', 'class_First', 'class_Second', 'sibsp', 'class_Third', 'age', 'parch', 'fare']  AIC: <statsmodels.discrete.discrete_model.BinaryResultsWrapper object at 0x7f15220ff160>\n",
            "forward\n",
            "Optimization terminated successfully.\n",
            "         Current function value: 0.414596\n",
            "         Iterations 6\n",
            "Optimization terminated successfully.\n",
            "         Current function value: 0.416159\n",
            "         Iterations 6\n",
            "Optimization terminated successfully.\n",
            "         Current function value: 0.415297\n",
            "         Iterations 6\n",
            "Optimization terminated successfully.\n",
            "         Current function value: 0.427744\n",
            "         Iterations 6\n",
            "Optimization terminated successfully.\n",
            "         Current function value: 0.427787\n",
            "         Iterations 6\n",
            "Optimization terminated successfully.\n",
            "         Current function value: 0.447756\n",
            "         Iterations 7\n",
            "Optimization terminated successfully.\n",
            "         Current function value: 0.446236\n",
            "         Iterations 7\n",
            "Optimization terminated successfully.\n",
            "         Current function value: 0.573339\n",
            "         Iterations 6\n",
            "Processed  8 models on 7 predictors in 0.21545767784118652\n",
            "Selected predictors: ['adult_male', 'class_First', 'class_Second', 'sibsp', 'class_Third', 'age', 'parch']  AIC: <statsmodels.discrete.discrete_model.BinaryResultsWrapper object at 0x7f15220fe4d0>\n",
            "Optimization terminated successfully.\n",
            "         Current function value: 0.411432\n",
            "         Iterations 6\n",
            "Optimization terminated successfully.\n",
            "         Current function value: 0.411432\n",
            "         Iterations 6\n",
            "Optimization terminated successfully.\n",
            "         Current function value: 0.409513\n",
            "         Iterations 6\n",
            "Optimization terminated successfully.\n",
            "         Current function value: 0.411431\n",
            "         Iterations 6\n",
            "Optimization terminated successfully.\n",
            "         Current function value: 0.409942\n",
            "         Iterations 6\n",
            "Processed  5 models on 9 predictors in\n",
            "Selected predictors: ['adult_male', 'class_First', 'class_Second', 'sibsp', 'class_Third', 'age', 'parch', 'fare', 'embark_town_Cherbourg']  AIC: <statsmodels.discrete.discrete_model.BinaryResultsWrapper object at 0x7f15220fd3c0>\n",
            "forward\n",
            "Optimization terminated successfully.\n",
            "         Current function value: 0.411433\n",
            "         Iterations 6\n",
            "Optimization terminated successfully.\n",
            "         Current function value: 0.411811\n",
            "         Iterations 6\n",
            "Optimization terminated successfully.\n",
            "         Current function value: 0.414163\n",
            "         Iterations 6\n",
            "Optimization terminated successfully.\n",
            "         Current function value: 0.412679\n",
            "         Iterations 6\n",
            "Optimization terminated successfully.\n",
            "         Current function value: 0.422588\n",
            "         Iterations 6\n",
            "Optimization terminated successfully.\n",
            "         Current function value: 0.424292\n",
            "         Iterations 6\n",
            "Optimization terminated successfully.\n",
            "         Current function value: 0.442523\n",
            "         Iterations 6\n",
            "Optimization terminated successfully.\n",
            "         Current function value: 0.438837\n",
            "         Iterations 6\n",
            "Optimization terminated successfully.\n",
            "         Current function value: 0.570478\n",
            "         Iterations 6\n",
            "Processed  9 models on 8 predictors in 0.2803044319152832\n",
            "Selected predictors: ['adult_male', 'class_First', 'class_Second', 'sibsp', 'class_Third', 'age', 'parch', 'fare']  AIC: <statsmodels.discrete.discrete_model.BinaryResultsWrapper object at 0x7f15220ffe50>\n",
            "Optimization terminated successfully.\n",
            "         Current function value: 0.409506\n",
            "         Iterations 6\n",
            "Optimization terminated successfully.\n",
            "         Current function value: 0.409506\n",
            "         Iterations 6\n",
            "Optimization terminated successfully.\n",
            "         Current function value: 0.409465\n",
            "         Iterations 6\n",
            "Optimization terminated successfully.\n",
            "         Current function value: 0.409465\n",
            "         Iterations 6\n",
            "Processed  4 models on 10 predictors in\n",
            "Selected predictors: ['adult_male', 'class_First', 'class_Second', 'sibsp', 'class_Third', 'age', 'parch', 'fare', 'embark_town_Cherbourg', 'embark_town_Queenstown']  AIC: <statsmodels.discrete.discrete_model.BinaryResultsWrapper object at 0x7f15220ffd00>\n",
            "forward\n",
            "Optimization terminated successfully.\n",
            "         Current function value: 0.409513\n",
            "         Iterations 6\n",
            "Optimization terminated successfully.\n",
            "         Current function value: 0.411431\n",
            "         Iterations 6\n",
            "Optimization terminated successfully.\n",
            "         Current function value: 0.411736\n",
            "         Iterations 6\n",
            "Optimization terminated successfully.\n",
            "         Current function value: 0.413863\n",
            "         Iterations 6\n",
            "Optimization terminated successfully.\n",
            "         Current function value: 0.412668\n",
            "         Iterations 6\n",
            "Optimization terminated successfully.\n",
            "         Current function value: 0.420851\n",
            "         Iterations 6\n",
            "Optimization terminated successfully.\n",
            "         Current function value: 0.424097\n",
            "         Iterations 6\n",
            "Optimization terminated successfully.\n",
            "         Current function value: 0.442120\n",
            "         Iterations 6\n",
            "Optimization terminated successfully.\n",
            "         Current function value: 0.438576\n",
            "         Iterations 6\n",
            "Optimization terminated successfully.\n",
            "         Current function value: 0.564014\n",
            "         Iterations 6\n",
            "Processed  10 models on 9 predictors in 0.2236940860748291\n",
            "Selected predictors: ['adult_male', 'class_First', 'class_Second', 'sibsp', 'class_Third', 'age', 'parch', 'fare', 'embark_town_Cherbourg']  AIC: <statsmodels.discrete.discrete_model.BinaryResultsWrapper object at 0x7f15220fd990>\n",
            "backward\n",
            "Optimization terminated successfully.\n",
            "         Current function value: 0.409506\n",
            "         Iterations 6\n",
            "Optimization terminated successfully.\n",
            "         Current function value: 0.409506\n",
            "         Iterations 6\n",
            "Optimization terminated successfully.\n",
            "         Current function value: 0.409465\n",
            "         Iterations 6\n",
            "Optimization terminated successfully.\n",
            "         Current function value: 0.409465\n",
            "         Iterations 6\n",
            "Processed  4 models on 10 predictors in\n",
            "Selected predictors: ['adult_male', 'class_First', 'class_Second', 'sibsp', 'class_Third', 'age', 'parch', 'fare', 'embark_town_Cherbourg', 'embark_town_Queenstown']  AIC: <statsmodels.discrete.discrete_model.BinaryResultsWrapper object at 0x7f15220fd570>\n",
            "forward\n",
            "Optimization terminated successfully.\n",
            "         Current function value: 0.409513\n",
            "         Iterations 6\n",
            "Optimization terminated successfully.\n",
            "         Current function value: 0.411431\n",
            "         Iterations 6\n",
            "Optimization terminated successfully.\n",
            "         Current function value: 0.411736\n",
            "         Iterations 6\n",
            "Optimization terminated successfully.\n",
            "         Current function value: 0.413863\n",
            "         Iterations 6\n",
            "Optimization terminated successfully.\n",
            "         Current function value: 0.412668\n",
            "         Iterations 6\n",
            "Optimization terminated successfully.\n",
            "         Current function value: 0.420851\n",
            "         Iterations 6\n",
            "Optimization terminated successfully.\n",
            "         Current function value: 0.424097\n",
            "         Iterations 6\n",
            "Optimization terminated successfully.\n",
            "         Current function value: 0.442120\n",
            "         Iterations 6\n",
            "Optimization terminated successfully.\n",
            "         Current function value: 0.438576\n",
            "         Iterations 6\n",
            "Optimization terminated successfully.\n",
            "         Current function value: 0.564014\n",
            "         Iterations 6\n",
            "Processed  10 models on 9 predictors in 0.22252535820007324\n",
            "Selected predictors: ['adult_male', 'class_First', 'class_Second', 'sibsp', 'class_Third', 'age', 'parch', 'fare', 'embark_town_Cherbourg']  AIC: <statsmodels.discrete.discrete_model.BinaryResultsWrapper object at 0x7f15220fdde0>\n",
            "backward\n",
            "Optimization terminated successfully.\n",
            "         Current function value: 0.409506\n",
            "         Iterations 6\n",
            "Optimization terminated successfully.\n",
            "         Current function value: 0.409506\n",
            "         Iterations 6\n",
            "Optimization terminated successfully.\n",
            "         Current function value: 0.409465\n",
            "         Iterations 6\n",
            "Optimization terminated successfully.\n",
            "         Current function value: 0.409465\n",
            "         Iterations 6\n",
            "Processed  4 models on 10 predictors in\n",
            "Selected predictors: ['adult_male', 'class_First', 'class_Second', 'sibsp', 'class_Third', 'age', 'parch', 'fare', 'embark_town_Cherbourg', 'embark_town_Queenstown']  AIC: <statsmodels.discrete.discrete_model.BinaryResultsWrapper object at 0x7f15220fdd50>\n",
            "forward\n",
            "Optimization terminated successfully.\n",
            "         Current function value: 0.409513\n",
            "         Iterations 6\n",
            "Optimization terminated successfully.\n",
            "         Current function value: 0.411431\n",
            "         Iterations 6\n",
            "Optimization terminated successfully.\n",
            "         Current function value: 0.411736\n",
            "         Iterations 6\n",
            "Optimization terminated successfully.\n",
            "         Current function value: 0.413863\n",
            "         Iterations 6\n",
            "Optimization terminated successfully.\n",
            "         Current function value: 0.412668\n",
            "         Iterations 6\n",
            "Optimization terminated successfully.\n",
            "         Current function value: 0.420851\n",
            "         Iterations 6\n",
            "Optimization terminated successfully.\n",
            "         Current function value: 0.424097\n",
            "         Iterations 6\n",
            "Optimization terminated successfully.\n",
            "         Current function value: 0.442120\n",
            "         Iterations 6\n",
            "Optimization terminated successfully.\n",
            "         Current function value: 0.438576\n",
            "         Iterations 6\n",
            "Optimization terminated successfully.\n",
            "         Current function value: 0.564014\n",
            "         Iterations 6\n",
            "Processed  10 models on 9 predictors in 0.0799112319946289\n",
            "Selected predictors: ['adult_male', 'class_First', 'class_Second', 'sibsp', 'class_Third', 'age', 'parch', 'fare', 'embark_town_Cherbourg']  AIC: <statsmodels.discrete.discrete_model.BinaryResultsWrapper object at 0x7f15220fff10>\n",
            "backward\n",
            "Optimization terminated successfully.\n",
            "         Current function value: 0.409506\n",
            "         Iterations 6\n",
            "Optimization terminated successfully.\n",
            "         Current function value: 0.409506\n",
            "         Iterations 6\n",
            "Optimization terminated successfully.\n",
            "         Current function value: 0.409465\n",
            "         Iterations 6\n",
            "Optimization terminated successfully.\n",
            "         Current function value: 0.409465\n",
            "         Iterations 6\n",
            "Processed  4 models on 10 predictors in\n",
            "Selected predictors: ['adult_male', 'class_First', 'class_Second', 'sibsp', 'class_Third', 'age', 'parch', 'fare', 'embark_town_Cherbourg', 'embark_town_Queenstown']  AIC: <statsmodels.discrete.discrete_model.BinaryResultsWrapper object at 0x7f15220fe290>\n",
            "forward\n",
            "Optimization terminated successfully.\n",
            "         Current function value: 0.409513\n",
            "         Iterations 6\n",
            "Optimization terminated successfully.\n",
            "         Current function value: 0.411431\n",
            "         Iterations 6\n",
            "Optimization terminated successfully.\n",
            "         Current function value: 0.411736\n",
            "         Iterations 6\n",
            "Optimization terminated successfully.\n",
            "         Current function value: 0.413863\n",
            "         Iterations 6\n",
            "Optimization terminated successfully.\n",
            "         Current function value: 0.412668\n",
            "         Iterations 6\n",
            "Optimization terminated successfully.\n",
            "         Current function value: 0.420851\n",
            "         Iterations 6\n",
            "Optimization terminated successfully.\n",
            "         Current function value: 0.424097\n",
            "         Iterations 6\n",
            "Optimization terminated successfully.\n",
            "         Current function value: 0.442120\n",
            "         Iterations 6\n",
            "Optimization terminated successfully.\n",
            "         Current function value: 0.438576\n",
            "         Iterations 6\n",
            "Optimization terminated successfully.\n",
            "         Current function value: 0.564014\n",
            "         Iterations 6\n",
            "Processed  10 models on 9 predictors in 0.1244516372680664\n",
            "Selected predictors: ['adult_male', 'class_First', 'class_Second', 'sibsp', 'class_Third', 'age', 'parch', 'fare', 'embark_town_Cherbourg']  AIC: <statsmodels.discrete.discrete_model.BinaryResultsWrapper object at 0x7f15220fc460>\n",
            "backward\n",
            "Total elapsed time: 4.921538591384888 seconds.\n"
          ]
        }
      ]
    },
    {
      "cell_type": "code",
      "source": [
        "Stepwise_best_model.summary()"
      ],
      "metadata": {
        "colab": {
          "base_uri": "https://localhost:8080/",
          "height": 401
        },
        "id": "FNshEVb0_0jK",
        "outputId": "69a94ab9-f4f0-450c-af81-e841ec5d3783"
      },
      "execution_count": null,
      "outputs": [
        {
          "output_type": "execute_result",
          "data": {
            "text/plain": [
              "<class 'statsmodels.iolib.summary.Summary'>\n",
              "\"\"\"\n",
              "                           Logit Regression Results                           \n",
              "==============================================================================\n",
              "Dep. Variable:               survived   No. Observations:                  712\n",
              "Model:                          Logit   Df Residuals:                      703\n",
              "Method:                           MLE   Df Model:                            8\n",
              "Date:                Tue, 02 May 2023   Pseudo R-squ.:                  0.3849\n",
              "Time:                        10:27:37   Log-Likelihood:                -291.57\n",
              "converged:                       True   LL-Null:                       -473.99\n",
              "Covariance Type:            nonrobust   LLR p-value:                 6.159e-74\n",
              "=========================================================================================\n",
              "                            coef    std err          z      P>|z|      [0.025      0.975]\n",
              "-----------------------------------------------------------------------------------------\n",
              "adult_male               -3.3122      0.256    -12.929      0.000      -3.814      -2.810\n",
              "class_First               3.1538      0.501      6.296      0.000       2.172       4.136\n",
              "class_Second              2.4695      0.391      6.324      0.000       1.704       3.235\n",
              "sibsp                    -0.5143      0.124     -4.136      0.000      -0.758      -0.271\n",
              "class_Third               1.3493      0.326      4.134      0.000       0.710       1.989\n",
              "age                      -0.0186      0.009     -2.090      0.037      -0.036      -0.001\n",
              "parch                    -0.3526      0.144     -2.451      0.014      -0.635      -0.071\n",
              "fare                      0.0049      0.003      1.615      0.106      -0.001       0.011\n",
              "embark_town_Cherbourg     0.4644      0.280      1.659      0.097      -0.084       1.013\n",
              "=========================================================================================\n",
              "\"\"\""
            ],
            "text/html": [
              "<table class=\"simpletable\">\n",
              "<caption>Logit Regression Results</caption>\n",
              "<tr>\n",
              "  <th>Dep. Variable:</th>       <td>survived</td>     <th>  No. Observations:  </th>  <td>   712</td>  \n",
              "</tr>\n",
              "<tr>\n",
              "  <th>Model:</th>                 <td>Logit</td>      <th>  Df Residuals:      </th>  <td>   703</td>  \n",
              "</tr>\n",
              "<tr>\n",
              "  <th>Method:</th>                 <td>MLE</td>       <th>  Df Model:          </th>  <td>     8</td>  \n",
              "</tr>\n",
              "<tr>\n",
              "  <th>Date:</th>            <td>Tue, 02 May 2023</td> <th>  Pseudo R-squ.:     </th>  <td>0.3849</td>  \n",
              "</tr>\n",
              "<tr>\n",
              "  <th>Time:</th>                <td>10:27:37</td>     <th>  Log-Likelihood:    </th> <td> -291.57</td> \n",
              "</tr>\n",
              "<tr>\n",
              "  <th>converged:</th>             <td>True</td>       <th>  LL-Null:           </th> <td> -473.99</td> \n",
              "</tr>\n",
              "<tr>\n",
              "  <th>Covariance Type:</th>     <td>nonrobust</td>    <th>  LLR p-value:       </th> <td>6.159e-74</td>\n",
              "</tr>\n",
              "</table>\n",
              "<table class=\"simpletable\">\n",
              "<tr>\n",
              "            <td></td>               <th>coef</th>     <th>std err</th>      <th>z</th>      <th>P>|z|</th>  <th>[0.025</th>    <th>0.975]</th>  \n",
              "</tr>\n",
              "<tr>\n",
              "  <th>adult_male</th>            <td>   -3.3122</td> <td>    0.256</td> <td>  -12.929</td> <td> 0.000</td> <td>   -3.814</td> <td>   -2.810</td>\n",
              "</tr>\n",
              "<tr>\n",
              "  <th>class_First</th>           <td>    3.1538</td> <td>    0.501</td> <td>    6.296</td> <td> 0.000</td> <td>    2.172</td> <td>    4.136</td>\n",
              "</tr>\n",
              "<tr>\n",
              "  <th>class_Second</th>          <td>    2.4695</td> <td>    0.391</td> <td>    6.324</td> <td> 0.000</td> <td>    1.704</td> <td>    3.235</td>\n",
              "</tr>\n",
              "<tr>\n",
              "  <th>sibsp</th>                 <td>   -0.5143</td> <td>    0.124</td> <td>   -4.136</td> <td> 0.000</td> <td>   -0.758</td> <td>   -0.271</td>\n",
              "</tr>\n",
              "<tr>\n",
              "  <th>class_Third</th>           <td>    1.3493</td> <td>    0.326</td> <td>    4.134</td> <td> 0.000</td> <td>    0.710</td> <td>    1.989</td>\n",
              "</tr>\n",
              "<tr>\n",
              "  <th>age</th>                   <td>   -0.0186</td> <td>    0.009</td> <td>   -2.090</td> <td> 0.037</td> <td>   -0.036</td> <td>   -0.001</td>\n",
              "</tr>\n",
              "<tr>\n",
              "  <th>parch</th>                 <td>   -0.3526</td> <td>    0.144</td> <td>   -2.451</td> <td> 0.014</td> <td>   -0.635</td> <td>   -0.071</td>\n",
              "</tr>\n",
              "<tr>\n",
              "  <th>fare</th>                  <td>    0.0049</td> <td>    0.003</td> <td>    1.615</td> <td> 0.106</td> <td>   -0.001</td> <td>    0.011</td>\n",
              "</tr>\n",
              "<tr>\n",
              "  <th>embark_town_Cherbourg</th> <td>    0.4644</td> <td>    0.280</td> <td>    1.659</td> <td> 0.097</td> <td>   -0.084</td> <td>    1.013</td>\n",
              "</tr>\n",
              "</table>"
            ]
          },
          "metadata": {},
          "execution_count": 20
        }
      ]
    },
    {
      "cell_type": "code",
      "source": [
        "# 회귀계수 오즈비 확인\n",
        "np.exp(Stepwise_best_model.params)\n",
        "\n",
        "# adult_male일 때, 아닐 때보다 생존확률이 99% 감소한다\n",
        "# class_First일 때, 아닐 때보다 생존확률이 23배 증가한다\n",
        "# class_First일 때, class_Second일 때보다 2배, class_Third일 때보다 7배 증가한다\n",
        "# sibsp가 1단위 증가할 때, 생존확률 40% 감소\n",
        "# fare가 1단위 증가할 때, 생존확률 0.004% 증가"
      ],
      "metadata": {
        "colab": {
          "base_uri": "https://localhost:8080/"
        },
        "id": "NGKwNll7KXkF",
        "outputId": "3cdddb56-bb77-4730-c17b-71979375ef38"
      },
      "execution_count": null,
      "outputs": [
        {
          "output_type": "execute_result",
          "data": {
            "text/plain": [
              "adult_male                0.036437\n",
              "class_First              23.425090\n",
              "class_Second             11.816675\n",
              "sibsp                     0.597923\n",
              "class_Third               3.854864\n",
              "age                       0.981578\n",
              "parch                     0.702876\n",
              "fare                      1.004943\n",
              "embark_town_Cherbourg     1.591095\n",
              "dtype: float64"
            ]
          },
          "metadata": {},
          "execution_count": 23
        }
      ]
    },
    {
      "cell_type": "code",
      "source": [
        "# 단계적 선택법 결과 유의한 변수들\n",
        "Stepwise_best_model.params.index"
      ],
      "metadata": {
        "colab": {
          "base_uri": "https://localhost:8080/"
        },
        "id": "eSSOHJ1gMIxW",
        "outputId": "d14d2be8-650c-4a90-924e-204a18b32456"
      },
      "execution_count": null,
      "outputs": [
        {
          "output_type": "execute_result",
          "data": {
            "text/plain": [
              "Index(['adult_male', 'class_First', 'class_Second', 'sibsp', 'class_Third',\n",
              "       'age', 'parch', 'fare', 'embark_town_Cherbourg'],\n",
              "      dtype='object')"
            ]
          },
          "metadata": {},
          "execution_count": 24
        }
      ]
    },
    {
      "cell_type": "code",
      "source": [
        "# 분류분석\n",
        "X_test = X_test[Stepwise_best_model.params.index]\n",
        "\n",
        "# 예측하기\n",
        "y_pred = Stepwise_best_model.predict(X_test)"
      ],
      "metadata": {
        "id": "xCzas6lZKk1n"
      },
      "execution_count": null,
      "outputs": []
    },
    {
      "cell_type": "code",
      "source": [
        "# 임계값을 설정해서 예측값을 이진분류로 반환\n",
        "def cut_off(y, threshold):\n",
        "  Y = y.copy()\n",
        "  Y[Y>threshold] = 1\n",
        "  Y[Y<=threshold] = 0\n",
        "  return Y.astype(int)\n",
        "\n",
        "y_pred = cut_off(y_pred, 0.5)"
      ],
      "metadata": {
        "id": "aB1QyA69Ma2I"
      },
      "execution_count": null,
      "outputs": []
    },
    {
      "cell_type": "code",
      "source": [
        "from sklearn.metrics import confusion_matrix, accuracy_score, recall_score, precision_score, f1_score\n",
        "\n",
        "# 혼동행렬\n",
        "cm = confusion_matrix(y_test, y_pred) # 순서 중요\n",
        "cm"
      ],
      "metadata": {
        "colab": {
          "base_uri": "https://localhost:8080/"
        },
        "id": "weC59XTcMydy",
        "outputId": "a33b3cc2-cf41-407d-9b64-0837789eab44"
      },
      "execution_count": null,
      "outputs": [
        {
          "output_type": "execute_result",
          "data": {
            "text/plain": [
              "array([[92, 18],\n",
              "       [21, 48]])"
            ]
          },
          "metadata": {},
          "execution_count": 29
        }
      ]
    },
    {
      "cell_type": "code",
      "source": [
        "print('Accuracy:', accuracy_score(y_test, y_pred))\n",
        "print('Sensitivity(recall):', recall_score(y_test, y_pred))\n",
        "print('Precision:', precision_score(y_test, y_pred))\n",
        "print('f1_score:', f1_score(y_test, y_pred))"
      ],
      "metadata": {
        "colab": {
          "base_uri": "https://localhost:8080/"
        },
        "id": "STcpYCS7NA2n",
        "outputId": "98f21c8b-8c9e-4bc3-d7cc-b8b95e50a491"
      },
      "execution_count": null,
      "outputs": [
        {
          "output_type": "stream",
          "name": "stdout",
          "text": [
            "Accuracy: 0.7821229050279329\n",
            "Sensitivity(recall): 0.6956521739130435\n",
            "Precision: 0.7272727272727273\n",
            "f1_score: 0.711111111111111\n"
          ]
        }
      ]
    },
    {
      "cell_type": "code",
      "source": [
        "# ROC커브 시각화 및 roc_auc 산출\n",
        "# bianry 분류: roc_auc_score(y, clf.predict_proba(X)[:,1])\n",
        "# 다중클래스 분류: roc_auc_score(y, clf.predict_proba(X), multi_class='ovr')\n",
        "# 여러 개의 라벨 분류: roc_auc_score(y, y_pred, average=None)\n",
        "\n",
        "# 확률로 예측\n",
        "y_pred_proba = Stepwise_best_model.predict(X_test)"
      ],
      "metadata": {
        "id": "T2raMqCYAPKg"
      },
      "execution_count": null,
      "outputs": []
    },
    {
      "cell_type": "code",
      "source": [
        "y_pred_proba.head()"
      ],
      "metadata": {
        "colab": {
          "base_uri": "https://localhost:8080/"
        },
        "id": "n9w9FeeWVCdl",
        "outputId": "ed16a2ad-bcca-4be4-d29c-4d9d4a2ef529"
      },
      "execution_count": null,
      "outputs": [
        {
          "output_type": "execute_result",
          "data": {
            "text/plain": [
              "560    0.079787\n",
              "130    0.111742\n",
              "551    0.228554\n",
              "587    0.216542\n",
              "2      0.711970\n",
              "dtype: float64"
            ]
          },
          "metadata": {},
          "execution_count": 32
        }
      ]
    },
    {
      "cell_type": "code",
      "source": [
        "from sklearn.metrics import roc_curve, auc\n",
        "import matplotlib.pyplot as plt\n",
        "\n",
        "def draw_roc(test_y, pred_y, model_name):\n",
        "  fpr, tpr, thr = roc_curve(test_y, pred_y)\n",
        "  roc_auc = auc(fpr, tpr) # fpr = 1-특이도, tpr = 정밀도\n",
        "\n",
        "  plt.figure()\n",
        "  lw = 2\n",
        "  plt.plot(fpr, tpr, color='darkorange',\n",
        "           lw=lw, label='ROC curve(area=%0.2f)' % roc_auc)\n",
        "  plt.plot([0,1], [0,1], color='navy', lw=lw, linestyle='--')\n",
        "  plt.xlim([0.0, 1.0])\n",
        "  plt.ylim([0.0, 1.05])\n",
        "  plt.xlabel('False Positive Rate')\n",
        "  plt.title('Receiver operating characteristic {}'.format(model_name))\n",
        "  plt.legend(loc='lower right')\n",
        "  plt.ion()\n",
        "  plt.tight_layout()\n",
        "  plt.show()\n",
        "\n",
        "draw_roc(y_test, y_pred_proba, 'LogisticRegression')"
      ],
      "metadata": {
        "colab": {
          "base_uri": "https://localhost:8080/",
          "height": 486
        },
        "id": "bg85jojGU9TP",
        "outputId": "e656bf45-8879-4b94-8afb-5c89064eeb15"
      },
      "execution_count": null,
      "outputs": [
        {
          "output_type": "display_data",
          "data": {
            "text/plain": [
              "<Figure size 640x480 with 1 Axes>"
            ],
            "image/png": "[encoded data removed]"
          },
          "metadata": {}
        }
      ]
    },
    {
      "cell_type": "code",
      "source": [
        "from sklearn.metrics import roc_auc_score\n",
        "roc_auc_score(y_test, y_pred_proba)"
      ],
      "metadata": {
        "colab": {
          "base_uri": "https://localhost:8080/"
        },
        "id": "PQl5VDNvV1rB",
        "outputId": "1e4ace30-c030-4d61-e0b0-764b9dcc112c"
      },
      "execution_count": null,
      "outputs": [
        {
          "output_type": "execute_result",
          "data": {
            "text/plain": [
              "0.8469038208168642"
            ]
          },
          "metadata": {},
          "execution_count": 34
        }
      ]
    },
    {
      "cell_type": "markdown",
      "source": [
        "AUC가 0.8 이상인 0.85의 값을 가지므로 모델이 유의하다고 볼 수 있다."
      ],
      "metadata": {
        "id": "gXzt7kouWGcB"
      }
    },
    {
      "cell_type": "markdown",
      "source": [
        "#### 다항 로지스틱 회귀모형 실습"
      ],
      "metadata": {
        "id": "ut_v4wDIXN_j"
      }
    },
    {
      "cell_type": "markdown",
      "source": [
        "Q. 데이터의 Species를 분류하는 다항 로지스틱 회귀분석 실시"
      ],
      "metadata": {
        "id": "frXSwXbEXUrK"
      }
    },
    {
      "cell_type": "code",
      "source": [
        "import pandas as pd\n",
        "\n",
        "iris_data = pd.read_csv(\"/content/drive/MyDrive/Colab Notebooks/adp_class101/data/iris.csv\")\n",
        "\n",
        "X = iris_data.drop(['target'], axis=1)\n",
        "y = iris_data['target']"
      ],
      "metadata": {
        "id": "jm-Rpj6WXRTL"
      },
      "execution_count": null,
      "outputs": []
    },
    {
      "cell_type": "code",
      "source": [
        "# 데이터 분리\n",
        "from sklearn.model_selection import train_test_split\n",
        "\n",
        "X_train, X_test, y_train, y_test = train_test_split(X, y, stratify=y, train_size=0.7,\n",
        "                                                    test_size=0.3, random_state=123)\n",
        "X_train.shape, X_test.shape, y_train.shape, y_test.shape"
      ],
      "metadata": {
        "colab": {
          "base_uri": "https://localhost:8080/"
        },
        "id": "CoNk0lUnXkOV",
        "outputId": "81a086a8-8b26-43b1-9d08-a26ef8a0fc45"
      },
      "execution_count": null,
      "outputs": [
        {
          "output_type": "execute_result",
          "data": {
            "text/plain": [
              "((105, 4), (45, 4), (105,), (45,))"
            ]
          },
          "metadata": {},
          "execution_count": 37
        }
      ]
    },
    {
      "cell_type": "code",
      "source": [
        "y_test.value_counts()"
      ],
      "metadata": {
        "colab": {
          "base_uri": "https://localhost:8080/"
        },
        "id": "bDOTasJIYC76",
        "outputId": "c62b79d8-5b1b-4dc1-db4a-9303269295a2"
      },
      "execution_count": null,
      "outputs": [
        {
          "output_type": "execute_result",
          "data": {
            "text/plain": [
              "Iris-versicolor    15\n",
              "Iris-virginica     15\n",
              "Iris-setosa        15\n",
              "Name: target, dtype: int64"
            ]
          },
          "metadata": {},
          "execution_count": 38
        }
      ]
    },
    {
      "cell_type": "code",
      "source": [
        "# 모델 적합하기\n",
        "from sklearn.linear_model import LogisticRegression\n",
        "# sklearn은 l2 패널티를 이용해 다중공선성의 문제 해결\n",
        "# 독립변수 간의 상관성이 높은 변수라면 lr패널티를 0에 가깝게 하여 변수 삭제의 효과 줌\n",
        "\n",
        "model = LogisticRegression()\n",
        "model.fit(X_train, y_train)"
      ],
      "metadata": {
        "colab": {
          "base_uri": "https://localhost:8080/",
          "height": 74
        },
        "id": "T2Fl_LBZYD89",
        "outputId": "9efa19b1-8b2d-40fd-9a42-64704f1f9948"
      },
      "execution_count": null,
      "outputs": [
        {
          "output_type": "execute_result",
          "data": {
            "text/plain": [
              "LogisticRegression()"
            ],
            "text/html": [
              "<style>#sk-container-id-1 {color: black;background-color: white;}#sk-container-id-1 pre{padding: 0;}#sk-container-id-1 div.sk-toggleable {background-color: white;}#sk-container-id-1 label.sk-toggleable__label {cursor: pointer;display: block;width: 100%;margin-bottom: 0;padding: 0.3em;box-sizing: border-box;text-align: center;}#sk-container-id-1 label.sk-toggleable__label-arrow:before {content: \"▸\";float: left;margin-right: 0.25em;color: #696969;}#sk-container-id-1 label.sk-toggleable__label-arrow:hover:before {color: black;}#sk-container-id-1 div.sk-estimator:hover label.sk-toggleable__label-arrow:before {color: black;}#sk-container-id-1 div.sk-toggleable__content {max-height: 0;max-width: 0;overflow: hidden;text-align: left;background-color: #f0f8ff;}#sk-container-id-1 div.sk-toggleable__content pre {margin: 0.2em;color: black;border-radius: 0.25em;background-color: #f0f8ff;}#sk-container-id-1 input.sk-toggleable__control:checked~div.sk-toggleable__content {max-height: 200px;max-width: 100%;overflow: auto;}#sk-container-id-1 input.sk-toggleable__control:checked~label.sk-toggleable__label-arrow:before {content: \"▾\";}#sk-container-id-1 div.sk-estimator input.sk-toggleable__control:checked~label.sk-toggleable__label {background-color: #d4ebff;}#sk-container-id-1 div.sk-label input.sk-toggleable__control:checked~label.sk-toggleable__label {background-color: #d4ebff;}#sk-container-id-1 input.sk-hidden--visually {border: 0;clip: rect(1px 1px 1px 1px);clip: rect(1px, 1px, 1px, 1px);height: 1px;margin: -1px;overflow: hidden;padding: 0;position: absolute;width: 1px;}#sk-container-id-1 div.sk-estimator {font-family: monospace;background-color: #f0f8ff;border: 1px dotted black;border-radius: 0.25em;box-sizing: border-box;margin-bottom: 0.5em;}#sk-container-id-1 div.sk-estimator:hover {background-color: #d4ebff;}#sk-container-id-1 div.sk-parallel-item::after {content: \"\";width: 100%;border-bottom: 1px solid gray;flex-grow: 1;}#sk-container-id-1 div.sk-label:hover label.sk-toggleable__label {background-color: #d4ebff;}#sk-container-id-1 div.sk-serial::before {content: \"\";position: absolute;border-left: 1px solid gray;box-sizing: border-box;top: 0;bottom: 0;left: 50%;z-index: 0;}#sk-container-id-1 div.sk-serial {display: flex;flex-direction: column;align-items: center;background-color: white;padding-right: 0.2em;padding-left: 0.2em;position: relative;}#sk-container-id-1 div.sk-item {position: relative;z-index: 1;}#sk-container-id-1 div.sk-parallel {display: flex;align-items: stretch;justify-content: center;background-color: white;position: relative;}#sk-container-id-1 div.sk-item::before, #sk-container-id-1 div.sk-parallel-item::before {content: \"\";position: absolute;border-left: 1px solid gray;box-sizing: border-box;top: 0;bottom: 0;left: 50%;z-index: -1;}#sk-container-id-1 div.sk-parallel-item {display: flex;flex-direction: column;z-index: 1;position: relative;background-color: white;}#sk-container-id-1 div.sk-parallel-item:first-child::after {align-self: flex-end;width: 50%;}#sk-container-id-1 div.sk-parallel-item:last-child::after {align-self: flex-start;width: 50%;}#sk-container-id-1 div.sk-parallel-item:only-child::after {width: 0;}#sk-container-id-1 div.sk-dashed-wrapped {border: 1px dashed gray;margin: 0 0.4em 0.5em 0.4em;box-sizing: border-box;padding-bottom: 0.4em;background-color: white;}#sk-container-id-1 div.sk-label label {font-family: monospace;font-weight: bold;display: inline-block;line-height: 1.2em;}#sk-container-id-1 div.sk-label-container {text-align: center;}#sk-container-id-1 div.sk-container {/* jupyter's `normalize.less` sets `[hidden] { display: none; }` but bootstrap.min.css set `[hidden] { display: none !important; }` so we also need the `!important` here to be able to override the default hidden behavior on the sphinx rendered scikit-learn.org. See: https://github.com/scikit-learn/scikit-learn/issues/21755 */display: inline-block !important;position: relative;}#sk-container-id-1 div.sk-text-repr-fallback {display: none;}</style><div id=\"sk-container-id-1\" class=\"sk-top-container\"><div class=\"sk-text-repr-fallback\"><pre>LogisticRegression()</pre><b>In a Jupyter environment, please rerun this cell to show the HTML representation or trust the notebook. <br />On GitHub, the HTML representation is unable to render, please try loading this page with nbviewer.org.</b></div><div class=\"sk-container\" hidden><div class=\"sk-item\"><div class=\"sk-estimator sk-toggleable\"><input class=\"sk-toggleable__control sk-hidden--visually\" id=\"sk-estimator-id-1\" type=\"checkbox\" checked><label for=\"sk-estimator-id-1\" class=\"sk-toggleable__label sk-toggleable__label-arrow\">LogisticRegression</label><div class=\"sk-toggleable__content\"><pre>LogisticRegression()</pre></div></div></div></div></div>"
            ]
          },
          "metadata": {},
          "execution_count": 39
        }
      ]
    },
    {
      "cell_type": "code",
      "source": [
        "# 모델 평가\n",
        "from sklearn.metrics import classification_report, confusion_matrix, accuracy_score, roc_auc_score\n",
        "\n",
        "# 테스트셋 예측\n",
        "predicted = model.predict(X_test)\n",
        "\n",
        "# 오분류표 생성\n",
        "cm = confusion_matrix(y_test, predicted)\n",
        "cmtb = pd.DataFrame(cm, columns=['predicted_setosa', 'predicted_versicolor', 'predicted_virginica'],\n",
        "                    index=['setosa', 'versicolor', 'virginica'])\n",
        "cmtb"
      ],
      "metadata": {
        "colab": {
          "base_uri": "https://localhost:8080/",
          "height": 143
        },
        "id": "o1WbFCIYYbVX",
        "outputId": "1b84ed85-65e8-4be7-e56a-11e5d6a243dc"
      },
      "execution_count": null,
      "outputs": [
        {
          "output_type": "execute_result",
          "data": {
            "text/plain": [
              "            predicted_setosa  predicted_versicolor  predicted_virginica\n",
              "setosa                    15                     0                    0\n",
              "versicolor                 0                    14                    1\n",
              "virginica                  0                     0                   15"
            ],
            "text/html": [
              "\n",
              "  <div id=\"df-8b609ba6-4592-48e6-b231-3dac6fc484f4\">\n",
              "    <div class=\"colab-df-container\">\n",
              "      <div>\n",
              "<style scoped>\n",
              "    .dataframe tbody tr th:only-of-type {\n",
              "        vertical-align: middle;\n",
              "    }\n",
              "\n",
              "    .dataframe tbody tr th {\n",
              "        vertical-align: top;\n",
              "    }\n",
              "\n",
              "    .dataframe thead th {\n",
              "        text-align: right;\n",
              "    }\n",
              "</style>\n",
              "<table border=\"1\" class=\"dataframe\">\n",
              "  <thead>\n",
              "    <tr style=\"text-align: right;\">\n",
              "      <th></th>\n",
              "      <th>predicted_setosa</th>\n",
              "      <th>predicted_versicolor</th>\n",
              "      <th>predicted_virginica</th>\n",
              "    </tr>\n",
              "  </thead>\n",
              "  <tbody>\n",
              "    <tr>\n",
              "      <th>setosa</th>\n",
              "      <td>15</td>\n",
              "      <td>0</td>\n",
              "      <td>0</td>\n",
              "    </tr>\n",
              "    <tr>\n",
              "      <th>versicolor</th>\n",
              "      <td>0</td>\n",
              "      <td>14</td>\n",
              "      <td>1</td>\n",
              "    </tr>\n",
              "    <tr>\n",
              "      <th>virginica</th>\n",
              "      <td>0</td>\n",
              "      <td>0</td>\n",
              "      <td>15</td>\n",
              "    </tr>\n",
              "  </tbody>\n",
              "</table>\n",
              "</div>\n",
              "      <button class=\"colab-df-convert\" onclick=\"convertToInteractive('df-8b609ba6-4592-48e6-b231-3dac6fc484f4')\"\n",
              "              title=\"Convert this dataframe to an interactive table.\"\n",
              "              style=\"display:none;\">\n",
              "        \n",
              "  <svg xmlns=\"http://www.w3.org/2000/svg\" height=\"24px\"viewBox=\"0 0 24 24\"\n",
              "       width=\"24px\">\n",
              "    <path d=\"M0 0h24v24H0V0z\" fill=\"none\"/>\n",
              "    <path d=\"M18.56 5.44l.94 2.06.94-2.06 2.06-.94-2.06-.94-.94-2.06-.94 2.06-2.06.94zm-11 1L8.5 8.5l.94-2.06 2.06-.94-2.06-.94L8.5 2.5l-.94 2.06-2.06.94zm10 10l.94 2.06.94-2.06 2.06-.94-2.06-.94-.94-2.06-.94 2.06-2.06.94z\"/><path d=\"M17.41 7.96l-1.37-1.37c-.4-.4-.92-.59-1.43-.59-.52 0-1.04.2-1.43.59L10.3 9.45l-7.72 7.72c-.78.78-.78 2.05 0 2.83L4 21.41c.39.39.9.59 1.41.59.51 0 1.02-.2 1.41-.59l7.78-7.78 2.81-2.81c.8-.78.8-2.07 0-2.86zM5.41 20L4 18.59l7.72-7.72 1.47 1.35L5.41 20z\"/>\n",
              "  </svg>\n",
              "      </button>\n",
              "      \n",
              "  <style>\n",
              "    .colab-df-container {\n",
              "      display:flex;\n",
              "      flex-wrap:wrap;\n",
              "      gap: 12px;\n",
              "    }\n",
              "\n",
              "    .colab-df-convert {\n",
              "      background-color: #E8F0FE;\n",
              "      border: none;\n",
              "      border-radius: 50%;\n",
              "      cursor: pointer;\n",
              "      display: none;\n",
              "      fill: #1967D2;\n",
              "      height: 32px;\n",
              "      padding: 0 0 0 0;\n",
              "      width: 32px;\n",
              "    }\n",
              "\n",
              "    .colab-df-convert:hover {\n",
              "      background-color: #E2EBFA;\n",
              "      box-shadow: 0px 1px 2px rgba(60, 64, 67, 0.3), 0px 1px 3px 1px rgba(60, 64, 67, 0.15);\n",
              "      fill: #174EA6;\n",
              "    }\n",
              "\n",
              "    [theme=dark] .colab-df-convert {\n",
              "      background-color: #3B4455;\n",
              "      fill: #D2E3FC;\n",
              "    }\n",
              "\n",
              "    [theme=dark] .colab-df-convert:hover {\n",
              "      background-color: #434B5C;\n",
              "      box-shadow: 0px 1px 3px 1px rgba(0, 0, 0, 0.15);\n",
              "      filter: drop-shadow(0px 1px 2px rgba(0, 0, 0, 0.3));\n",
              "      fill: #FFFFFF;\n",
              "    }\n",
              "  </style>\n",
              "\n",
              "      <script>\n",
              "        const buttonEl =\n",
              "          document.querySelector('#df-8b609ba6-4592-48e6-b231-3dac6fc484f4 button.colab-df-convert');\n",
              "        buttonEl.style.display =\n",
              "          google.colab.kernel.accessAllowed ? 'block' : 'none';\n",
              "\n",
              "        async function convertToInteractive(key) {\n",
              "          const element = document.querySelector('#df-8b609ba6-4592-48e6-b231-3dac6fc484f4');\n",
              "          const dataTable =\n",
              "            await google.colab.kernel.invokeFunction('convertToInteractive',\n",
              "                                                     [key], {});\n",
              "          if (!dataTable) return;\n",
              "\n",
              "          const docLinkHtml = 'Like what you see? Visit the ' +\n",
              "            '<a target=\"_blank\" href=https://colab.research.google.com/notebooks/data_table.ipynb>data table notebook</a>'\n",
              "            + ' to learn more about interactive tables.';\n",
              "          element.innerHTML = '';\n",
              "          dataTable['output_type'] = 'display_data';\n",
              "          await google.colab.output.renderOutput(dataTable, element);\n",
              "          const docLink = document.createElement('div');\n",
              "          docLink.innerHTML = docLinkHtml;\n",
              "          element.appendChild(docLink);\n",
              "        }\n",
              "      </script>\n",
              "    </div>\n",
              "  </div>\n",
              "  "
            ]
          },
          "metadata": {},
          "execution_count": 40
        }
      ]
    },
    {
      "cell_type": "code",
      "source": [
        "y_test.head(), predicted"
      ],
      "metadata": {
        "colab": {
          "base_uri": "https://localhost:8080/"
        },
        "id": "h_jc102HZn4p",
        "outputId": "55f8e207-3d1a-4420-f718-bbf66f87ca87"
      },
      "execution_count": null,
      "outputs": [
        {
          "output_type": "execute_result",
          "data": {
            "text/plain": [
              "(72     Iris-versicolor\n",
              " 125     Iris-virginica\n",
              " 80     Iris-versicolor\n",
              " 86     Iris-versicolor\n",
              " 117     Iris-virginica\n",
              " Name: target, dtype: object,\n",
              " array(['Iris-versicolor', 'Iris-virginica', 'Iris-versicolor',\n",
              "        'Iris-versicolor', 'Iris-virginica', 'Iris-setosa', 'Iris-setosa',\n",
              "        'Iris-versicolor', 'Iris-setosa', 'Iris-setosa', 'Iris-virginica',\n",
              "        'Iris-setosa', 'Iris-virginica', 'Iris-setosa', 'Iris-versicolor',\n",
              "        'Iris-setosa', 'Iris-virginica', 'Iris-virginica', 'Iris-setosa',\n",
              "        'Iris-setosa', 'Iris-setosa', 'Iris-setosa', 'Iris-setosa',\n",
              "        'Iris-versicolor', 'Iris-setosa', 'Iris-versicolor',\n",
              "        'Iris-virginica', 'Iris-setosa', 'Iris-versicolor',\n",
              "        'Iris-virginica', 'Iris-virginica', 'Iris-virginica',\n",
              "        'Iris-virginica', 'Iris-versicolor', 'Iris-versicolor',\n",
              "        'Iris-versicolor', 'Iris-virginica', 'Iris-virginica',\n",
              "        'Iris-virginica', 'Iris-setosa', 'Iris-virginica',\n",
              "        'Iris-versicolor', 'Iris-versicolor', 'Iris-virginica',\n",
              "        'Iris-versicolor'], dtype=object))"
            ]
          },
          "metadata": {},
          "execution_count": 43
        }
      ]
    },
    {
      "cell_type": "code",
      "source": [
        "print('Accuracy Score:', accuracy_score(y_test, predicted))\n",
        "\n",
        "class_report = classification_report(y_test, predicted)\n",
        "print(class_report)"
      ],
      "metadata": {
        "colab": {
          "base_uri": "https://localhost:8080/"
        },
        "id": "e74lsDAUZvDd",
        "outputId": "e22a2fc4-46be-470c-b003-80d7c9a35f0e"
      },
      "execution_count": null,
      "outputs": [
        {
          "output_type": "stream",
          "name": "stdout",
          "text": [
            "Accuracy Score: 0.9777777777777777\n",
            "                 precision    recall  f1-score   support\n",
            "\n",
            "    Iris-setosa       1.00      1.00      1.00        15\n",
            "Iris-versicolor       1.00      0.93      0.97        15\n",
            " Iris-virginica       0.94      1.00      0.97        15\n",
            "\n",
            "       accuracy                           0.98        45\n",
            "      macro avg       0.98      0.98      0.98        45\n",
            "   weighted avg       0.98      0.98      0.98        45\n",
            "\n"
          ]
        }
      ]
    },
    {
      "cell_type": "code",
      "source": [
        "roc_auc_score(y_test, model.predict_proba(X_test), multi_class='ovr')"
      ],
      "metadata": {
        "colab": {
          "base_uri": "https://localhost:8080/"
        },
        "id": "or_e9Yr-aA1z",
        "outputId": "a5047da9-116a-47ad-8722-0eca8d3088aa"
      },
      "execution_count": null,
      "outputs": [
        {
          "output_type": "execute_result",
          "data": {
            "text/plain": [
              "0.9985185185185186"
            ]
          },
          "metadata": {},
          "execution_count": 45
        }
      ]
    },
    {
      "cell_type": "code",
      "source": [
        "# 다항 로지스틱 회귀계수 해석\n",
        "print('Intercept: ', model.intercept_)\n",
        "print('Coefficient: \\n', model.coef_)"
      ],
      "metadata": {
        "colab": {
          "base_uri": "https://localhost:8080/"
        },
        "id": "tXdlWvreaK6n",
        "outputId": "a8ff4413-00a0-4ab6-dcf3-bc075fb07420"
      },
      "execution_count": null,
      "outputs": [
        {
          "output_type": "stream",
          "name": "stdout",
          "text": [
            "Intercept:  [  9.42959538   2.10075758 -11.53035297]\n",
            "Coefficient: \n",
            " [[-0.45745606  0.87251478 -2.30846366 -0.96024806]\n",
            " [ 0.37567444 -0.19453299 -0.16286957 -0.75311899]\n",
            " [ 0.08178162 -0.67798179  2.47133323  1.71336705]]\n"
          ]
        }
      ]
    },
    {
      "cell_type": "code",
      "source": [
        "# 오즈비 계산하기\n",
        "pd.DataFrame(np.exp(model.coef_), columns=X_train.columns, \n",
        "             index=model.classes_)"
      ],
      "metadata": {
        "colab": {
          "base_uri": "https://localhost:8080/",
          "height": 143
        },
        "id": "9ZDLoza-agzP",
        "outputId": "15d64510-9694-494b-ff0d-49fb9a2fd974"
      },
      "execution_count": null,
      "outputs": [
        {
          "output_type": "execute_result",
          "data": {
            "text/plain": [
              "                 sepal length  sepal width  petal length  petal width\n",
              "Iris-setosa          0.632892     2.392921      0.099414     0.382798\n",
              "Iris-versicolor      1.455973     0.823219      0.849702     0.470896\n",
              "Iris-virginica       1.085219     0.507640     11.838219     5.547609"
            ],
            "text/html": [
              "\n",
              "  <div id=\"df-110d9863-21b9-4665-aafb-69efa03ba50b\">\n",
              "    <div class=\"colab-df-container\">\n",
              "      <div>\n",
              "<style scoped>\n",
              "    .dataframe tbody tr th:only-of-type {\n",
              "        vertical-align: middle;\n",
              "    }\n",
              "\n",
              "    .dataframe tbody tr th {\n",
              "        vertical-align: top;\n",
              "    }\n",
              "\n",
              "    .dataframe thead th {\n",
              "        text-align: right;\n",
              "    }\n",
              "</style>\n",
              "<table border=\"1\" class=\"dataframe\">\n",
              "  <thead>\n",
              "    <tr style=\"text-align: right;\">\n",
              "      <th></th>\n",
              "      <th>sepal length</th>\n",
              "      <th>sepal width</th>\n",
              "      <th>petal length</th>\n",
              "      <th>petal width</th>\n",
              "    </tr>\n",
              "  </thead>\n",
              "  <tbody>\n",
              "    <tr>\n",
              "      <th>Iris-setosa</th>\n",
              "      <td>0.632892</td>\n",
              "      <td>2.392921</td>\n",
              "      <td>0.099414</td>\n",
              "      <td>0.382798</td>\n",
              "    </tr>\n",
              "    <tr>\n",
              "      <th>Iris-versicolor</th>\n",
              "      <td>1.455973</td>\n",
              "      <td>0.823219</td>\n",
              "      <td>0.849702</td>\n",
              "      <td>0.470896</td>\n",
              "    </tr>\n",
              "    <tr>\n",
              "      <th>Iris-virginica</th>\n",
              "      <td>1.085219</td>\n",
              "      <td>0.507640</td>\n",
              "      <td>11.838219</td>\n",
              "      <td>5.547609</td>\n",
              "    </tr>\n",
              "  </tbody>\n",
              "</table>\n",
              "</div>\n",
              "      <button class=\"colab-df-convert\" onclick=\"convertToInteractive('df-110d9863-21b9-4665-aafb-69efa03ba50b')\"\n",
              "              title=\"Convert this dataframe to an interactive table.\"\n",
              "              style=\"display:none;\">\n",
              "        \n",
              "  <svg xmlns=\"http://www.w3.org/2000/svg\" height=\"24px\"viewBox=\"0 0 24 24\"\n",
              "       width=\"24px\">\n",
              "    <path d=\"M0 0h24v24H0V0z\" fill=\"none\"/>\n",
              "    <path d=\"M18.56 5.44l.94 2.06.94-2.06 2.06-.94-2.06-.94-.94-2.06-.94 2.06-2.06.94zm-11 1L8.5 8.5l.94-2.06 2.06-.94-2.06-.94L8.5 2.5l-.94 2.06-2.06.94zm10 10l.94 2.06.94-2.06 2.06-.94-2.06-.94-.94-2.06-.94 2.06-2.06.94z\"/><path d=\"M17.41 7.96l-1.37-1.37c-.4-.4-.92-.59-1.43-.59-.52 0-1.04.2-1.43.59L10.3 9.45l-7.72 7.72c-.78.78-.78 2.05 0 2.83L4 21.41c.39.39.9.59 1.41.59.51 0 1.02-.2 1.41-.59l7.78-7.78 2.81-2.81c.8-.78.8-2.07 0-2.86zM5.41 20L4 18.59l7.72-7.72 1.47 1.35L5.41 20z\"/>\n",
              "  </svg>\n",
              "      </button>\n",
              "      \n",
              "  <style>\n",
              "    .colab-df-container {\n",
              "      display:flex;\n",
              "      flex-wrap:wrap;\n",
              "      gap: 12px;\n",
              "    }\n",
              "\n",
              "    .colab-df-convert {\n",
              "      background-color: #E8F0FE;\n",
              "      border: none;\n",
              "      border-radius: 50%;\n",
              "      cursor: pointer;\n",
              "      display: none;\n",
              "      fill: #1967D2;\n",
              "      height: 32px;\n",
              "      padding: 0 0 0 0;\n",
              "      width: 32px;\n",
              "    }\n",
              "\n",
              "    .colab-df-convert:hover {\n",
              "      background-color: #E2EBFA;\n",
              "      box-shadow: 0px 1px 2px rgba(60, 64, 67, 0.3), 0px 1px 3px 1px rgba(60, 64, 67, 0.15);\n",
              "      fill: #174EA6;\n",
              "    }\n",
              "\n",
              "    [theme=dark] .colab-df-convert {\n",
              "      background-color: #3B4455;\n",
              "      fill: #D2E3FC;\n",
              "    }\n",
              "\n",
              "    [theme=dark] .colab-df-convert:hover {\n",
              "      background-color: #434B5C;\n",
              "      box-shadow: 0px 1px 3px 1px rgba(0, 0, 0, 0.15);\n",
              "      filter: drop-shadow(0px 1px 2px rgba(0, 0, 0, 0.3));\n",
              "      fill: #FFFFFF;\n",
              "    }\n",
              "  </style>\n",
              "\n",
              "      <script>\n",
              "        const buttonEl =\n",
              "          document.querySelector('#df-110d9863-21b9-4665-aafb-69efa03ba50b button.colab-df-convert');\n",
              "        buttonEl.style.display =\n",
              "          google.colab.kernel.accessAllowed ? 'block' : 'none';\n",
              "\n",
              "        async function convertToInteractive(key) {\n",
              "          const element = document.querySelector('#df-110d9863-21b9-4665-aafb-69efa03ba50b');\n",
              "          const dataTable =\n",
              "            await google.colab.kernel.invokeFunction('convertToInteractive',\n",
              "                                                     [key], {});\n",
              "          if (!dataTable) return;\n",
              "\n",
              "          const docLinkHtml = 'Like what you see? Visit the ' +\n",
              "            '<a target=\"_blank\" href=https://colab.research.google.com/notebooks/data_table.ipynb>data table notebook</a>'\n",
              "            + ' to learn more about interactive tables.';\n",
              "          element.innerHTML = '';\n",
              "          dataTable['output_type'] = 'display_data';\n",
              "          await google.colab.output.renderOutput(dataTable, element);\n",
              "          const docLink = document.createElement('div');\n",
              "          docLink.innerHTML = docLinkHtml;\n",
              "          element.appendChild(docLink);\n",
              "        }\n",
              "      </script>\n",
              "    </div>\n",
              "  </div>\n",
              "  "
            ]
          },
          "metadata": {},
          "execution_count": 49
        }
      ]
    },
    {
      "cell_type": "markdown",
      "source": [
        "#### 다른 변수가 일정할 때 sepal_width가 1단위 증가하면 Iris-setosa로 분류될 확률이 2.39배 증가한다"
      ],
      "metadata": {
        "id": "GQCKAdM7aoa2"
      }
    },
    {
      "cell_type": "code",
      "source": [
        "from statsmodels.tsa.stattools import adfuller"
      ],
      "metadata": {
        "id": "KqGe9uSGbJ9L"
      },
      "execution_count": null,
      "outputs": []
    },
    {
      "cell_type": "code",
      "source": [
        "adfuller??"
      ],
      "metadata": {
        "id": "kmRhpBRCZ6oU"
      },
      "execution_count": null,
      "outputs": []
    }
  ]
}