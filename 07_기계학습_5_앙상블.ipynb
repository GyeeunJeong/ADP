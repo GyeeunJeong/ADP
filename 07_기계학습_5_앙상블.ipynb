{
  "nbformat": 4,
  "nbformat_minor": 0,
  "metadata": {
    "colab": {
      "name": "09_앙상블.ipynb",
      "provenance": [],
      "authorship_tag": "ABX9TyOvYK0tMCtPHsRlo2atyAo+",
      "include_colab_link": true
    },
    "kernelspec": {
      "name": "python3",
      "display_name": "Python 3"
    },
    "language_info": {
      "name": "python"
    }
  },
  "cells": [
    {
      "cell_type": "markdown",
      "metadata": {
        "id": "view-in-github",
        "colab_type": "text"
      },
      "source": [
        "<a href=\"https://colab.research.google.com/github/joyfulspace/ADP/blob/master/07_%EA%B8%B0%EA%B3%84%ED%95%99%EC%8A%B5_5_%EC%95%99%EC%83%81%EB%B8%94.ipynb\" target=\"_parent\"><img src=\"https://colab.research.google.com/assets/colab-badge.svg\" alt=\"Open In Colab\"/></a>"
      ]
    },
    {
      "cell_type": "markdown",
      "source": [
        "# 랜덤 포레스트와 에이다부스트\n",
        "### 앙상블 학습\n",
        "- 노이즈에 강하지만 오버피팅 가능성 높음  \n",
        "\n",
        "* 배깅: 같은 알고리즘을 사용하되 훈련 세트의 서브셋을 무작위로 구성하여 다르게 학습을 시키는 것 (일반 투표)\n",
        "  - 랜덤 포레스트: 배깅+결정트리\n",
        "    - 분류기에 인기. 회귀/군집분석에 응용 가능\n",
        "* 부스팅: 정확도가 떨어지는 모델에 가중치를 주어 오류데이터에 대해 더 세심하게 분류한 모델 (가중치 투표)\n",
        "  - 배깅보다 강력한 모델\n",
        "  - 에이다부스트\n",
        "    - 약한 모델에서 더 많은 표본을 가져옴\n",
        "    - 강한 모델의 결과를 구할 때에도 모델에 따른 가중치에 따라서 취합을 하게 됨\n"
      ],
      "metadata": {
        "id": "ONPYm5xnrN1H"
      }
    },
    {
      "cell_type": "markdown",
      "source": [
        "## 분류 실습"
      ],
      "metadata": {
        "id": "4cycSN97Lnhl"
      }
    },
    {
      "cell_type": "code",
      "source": [
        "import pandas as pd\n",
        "%matplotlib inline\n",
        "import matplotlib.pyplot as plt\n",
        "import numpy as np\n",
        "\n",
        "from sklearn import tree, ensemble\n",
        "from sklearn.metrics import accuracy_score, confusion_matrix\n",
        "from sklearn.metrics import precision_score, recall_score, f1_score"
      ],
      "metadata": {
        "id": "2bcmyNlQtQiC"
      },
      "execution_count": null,
      "outputs": []
    },
    {
      "cell_type": "code",
      "source": [
        "!git clone https://github.com/joyfulspace/ADP.git"
      ],
      "metadata": {
        "colab": {
          "base_uri": "https://localhost:8080/"
        },
        "id": "UlVJptyevClw",
        "outputId": "8f9cf5e1-46e5-418e-8dda-55436accd14c"
      },
      "execution_count": null,
      "outputs": [
        {
          "output_type": "stream",
          "name": "stdout",
          "text": [
            "Cloning into 'ADP'...\n",
            "remote: Enumerating objects: 2485, done.\u001b[K\n",
            "remote: Counting objects: 100% (2178/2178), done.\u001b[K\n",
            "remote: Compressing objects: 100% (2172/2172), done.\u001b[K\n",
            "remote: Total 2485 (delta 22), reused 2135 (delta 4), pack-reused 307\u001b[K\n",
            "Receiving objects: 100% (2485/2485), 55.94 MiB | 24.80 MiB/s, done.\n",
            "Resolving deltas: 100% (144/144), done.\n",
            "Checking out files: 100% (2398/2398), done.\n"
          ]
        }
      ]
    },
    {
      "cell_type": "code",
      "source": [
        "# 중산층 소비지출 데이터 가져오기\n",
        "middle = pd.read_csv('ADP/data/middle.csv')\n",
        "middle.head()"
      ],
      "metadata": {
        "colab": {
          "base_uri": "https://localhost:8080/",
          "height": 206
        },
        "id": "6wPgqn2NupBZ",
        "outputId": "715d6f7f-34af-4bf5-ec61-0b121e520169"
      },
      "execution_count": null,
      "outputs": [
        {
          "output_type": "execute_result",
          "data": {
            "text/plain": [
              "       food      book       cul     cloth    travel  status\n",
              "0  0.263017  0.759435  0.472159  0.365709  0.331119       1\n",
              "1  0.192398  0.514150  0.222987  0.388257  0.307846       1\n",
              "2  0.513997  0.448345  0.554666  0.394886  0.363455       0\n",
              "3  0.387733  0.582956  0.425999  0.349615  0.197456       1\n",
              "4  0.421674  0.560781  0.430536  0.734413  0.352037       0"
            ],
            "text/html": [
              "\n",
              "  <div id=\"df-94fbefb7-49c9-46c9-ba61-ce4f911130c6\">\n",
              "    <div class=\"colab-df-container\">\n",
              "      <div>\n",
              "<style scoped>\n",
              "    .dataframe tbody tr th:only-of-type {\n",
              "        vertical-align: middle;\n",
              "    }\n",
              "\n",
              "    .dataframe tbody tr th {\n",
              "        vertical-align: top;\n",
              "    }\n",
              "\n",
              "    .dataframe thead th {\n",
              "        text-align: right;\n",
              "    }\n",
              "</style>\n",
              "<table border=\"1\" class=\"dataframe\">\n",
              "  <thead>\n",
              "    <tr style=\"text-align: right;\">\n",
              "      <th></th>\n",
              "      <th>food</th>\n",
              "      <th>book</th>\n",
              "      <th>cul</th>\n",
              "      <th>cloth</th>\n",
              "      <th>travel</th>\n",
              "      <th>status</th>\n",
              "    </tr>\n",
              "  </thead>\n",
              "  <tbody>\n",
              "    <tr>\n",
              "      <th>0</th>\n",
              "      <td>0.263017</td>\n",
              "      <td>0.759435</td>\n",
              "      <td>0.472159</td>\n",
              "      <td>0.365709</td>\n",
              "      <td>0.331119</td>\n",
              "      <td>1</td>\n",
              "    </tr>\n",
              "    <tr>\n",
              "      <th>1</th>\n",
              "      <td>0.192398</td>\n",
              "      <td>0.514150</td>\n",
              "      <td>0.222987</td>\n",
              "      <td>0.388257</td>\n",
              "      <td>0.307846</td>\n",
              "      <td>1</td>\n",
              "    </tr>\n",
              "    <tr>\n",
              "      <th>2</th>\n",
              "      <td>0.513997</td>\n",
              "      <td>0.448345</td>\n",
              "      <td>0.554666</td>\n",
              "      <td>0.394886</td>\n",
              "      <td>0.363455</td>\n",
              "      <td>0</td>\n",
              "    </tr>\n",
              "    <tr>\n",
              "      <th>3</th>\n",
              "      <td>0.387733</td>\n",
              "      <td>0.582956</td>\n",
              "      <td>0.425999</td>\n",
              "      <td>0.349615</td>\n",
              "      <td>0.197456</td>\n",
              "      <td>1</td>\n",
              "    </tr>\n",
              "    <tr>\n",
              "      <th>4</th>\n",
              "      <td>0.421674</td>\n",
              "      <td>0.560781</td>\n",
              "      <td>0.430536</td>\n",
              "      <td>0.734413</td>\n",
              "      <td>0.352037</td>\n",
              "      <td>0</td>\n",
              "    </tr>\n",
              "  </tbody>\n",
              "</table>\n",
              "</div>\n",
              "      <button class=\"colab-df-convert\" onclick=\"convertToInteractive('df-94fbefb7-49c9-46c9-ba61-ce4f911130c6')\"\n",
              "              title=\"Convert this dataframe to an interactive table.\"\n",
              "              style=\"display:none;\">\n",
              "        \n",
              "  <svg xmlns=\"http://www.w3.org/2000/svg\" height=\"24px\"viewBox=\"0 0 24 24\"\n",
              "       width=\"24px\">\n",
              "    <path d=\"M0 0h24v24H0V0z\" fill=\"none\"/>\n",
              "    <path d=\"M18.56 5.44l.94 2.06.94-2.06 2.06-.94-2.06-.94-.94-2.06-.94 2.06-2.06.94zm-11 1L8.5 8.5l.94-2.06 2.06-.94-2.06-.94L8.5 2.5l-.94 2.06-2.06.94zm10 10l.94 2.06.94-2.06 2.06-.94-2.06-.94-.94-2.06-.94 2.06-2.06.94z\"/><path d=\"M17.41 7.96l-1.37-1.37c-.4-.4-.92-.59-1.43-.59-.52 0-1.04.2-1.43.59L10.3 9.45l-7.72 7.72c-.78.78-.78 2.05 0 2.83L4 21.41c.39.39.9.59 1.41.59.51 0 1.02-.2 1.41-.59l7.78-7.78 2.81-2.81c.8-.78.8-2.07 0-2.86zM5.41 20L4 18.59l7.72-7.72 1.47 1.35L5.41 20z\"/>\n",
              "  </svg>\n",
              "      </button>\n",
              "      \n",
              "  <style>\n",
              "    .colab-df-container {\n",
              "      display:flex;\n",
              "      flex-wrap:wrap;\n",
              "      gap: 12px;\n",
              "    }\n",
              "\n",
              "    .colab-df-convert {\n",
              "      background-color: #E8F0FE;\n",
              "      border: none;\n",
              "      border-radius: 50%;\n",
              "      cursor: pointer;\n",
              "      display: none;\n",
              "      fill: #1967D2;\n",
              "      height: 32px;\n",
              "      padding: 0 0 0 0;\n",
              "      width: 32px;\n",
              "    }\n",
              "\n",
              "    .colab-df-convert:hover {\n",
              "      background-color: #E2EBFA;\n",
              "      box-shadow: 0px 1px 2px rgba(60, 64, 67, 0.3), 0px 1px 3px 1px rgba(60, 64, 67, 0.15);\n",
              "      fill: #174EA6;\n",
              "    }\n",
              "\n",
              "    [theme=dark] .colab-df-convert {\n",
              "      background-color: #3B4455;\n",
              "      fill: #D2E3FC;\n",
              "    }\n",
              "\n",
              "    [theme=dark] .colab-df-convert:hover {\n",
              "      background-color: #434B5C;\n",
              "      box-shadow: 0px 1px 3px 1px rgba(0, 0, 0, 0.15);\n",
              "      filter: drop-shadow(0px 1px 2px rgba(0, 0, 0, 0.3));\n",
              "      fill: #FFFFFF;\n",
              "    }\n",
              "  </style>\n",
              "\n",
              "      <script>\n",
              "        const buttonEl =\n",
              "          document.querySelector('#df-94fbefb7-49c9-46c9-ba61-ce4f911130c6 button.colab-df-convert');\n",
              "        buttonEl.style.display =\n",
              "          google.colab.kernel.accessAllowed ? 'block' : 'none';\n",
              "\n",
              "        async function convertToInteractive(key) {\n",
              "          const element = document.querySelector('#df-94fbefb7-49c9-46c9-ba61-ce4f911130c6');\n",
              "          const dataTable =\n",
              "            await google.colab.kernel.invokeFunction('convertToInteractive',\n",
              "                                                     [key], {});\n",
              "          if (!dataTable) return;\n",
              "\n",
              "          const docLinkHtml = 'Like what you see? Visit the ' +\n",
              "            '<a target=\"_blank\" href=https://colab.research.google.com/notebooks/data_table.ipynb>data table notebook</a>'\n",
              "            + ' to learn more about interactive tables.';\n",
              "          element.innerHTML = '';\n",
              "          dataTable['output_type'] = 'display_data';\n",
              "          await google.colab.output.renderOutput(dataTable, element);\n",
              "          const docLink = document.createElement('div');\n",
              "          docLink.innerHTML = docLinkHtml;\n",
              "          element.appendChild(docLink);\n",
              "        }\n",
              "      </script>\n",
              "    </div>\n",
              "  </div>\n",
              "  "
            ]
          },
          "metadata": {},
          "execution_count": 4
        }
      ]
    },
    {
      "cell_type": "code",
      "source": [
        "X = middle.iloc[:, [0,1,2,3,4]].values\n",
        "y = middle.iloc[:, 5].values"
      ],
      "metadata": {
        "id": "JCmjxTPkHSGF"
      },
      "execution_count": null,
      "outputs": []
    },
    {
      "cell_type": "code",
      "source": [
        "X.shape, y.shape"
      ],
      "metadata": {
        "colab": {
          "base_uri": "https://localhost:8080/"
        },
        "id": "dfJHAmkfJmzM",
        "outputId": "3541fbbc-96cd-4135-e75c-072ead52563e"
      },
      "execution_count": null,
      "outputs": [
        {
          "output_type": "execute_result",
          "data": {
            "text/plain": [
              "((100, 5), (100,))"
            ]
          },
          "metadata": {},
          "execution_count": 6
        }
      ]
    },
    {
      "cell_type": "code",
      "source": [
        "# 데이터 정규화\n",
        "from sklearn.preprocessing import StandardScaler\n",
        "scaler = StandardScaler()\n",
        "scaler.fit(X)\n",
        "\n",
        "X_regu = scaler.transform(X)"
      ],
      "metadata": {
        "id": "_WMF556PJoYk"
      },
      "execution_count": null,
      "outputs": []
    },
    {
      "cell_type": "code",
      "source": [
        "X_regu.shape, type(X_regu)"
      ],
      "metadata": {
        "colab": {
          "base_uri": "https://localhost:8080/"
        },
        "id": "9Eg463FcJ1y7",
        "outputId": "46c5364b-913a-4049-9137-2557990e8c49"
      },
      "execution_count": null,
      "outputs": [
        {
          "output_type": "execute_result",
          "data": {
            "text/plain": [
              "((100, 5), numpy.ndarray)"
            ]
          },
          "metadata": {},
          "execution_count": 9
        }
      ]
    },
    {
      "cell_type": "code",
      "source": [
        "# 랜덤포레스트 분류기\n",
        "classifier = ensemble.RandomForestClassifier(n_estimators=20, max_depth=3, criterion='gini') #트리 20개, 트리의 depth 3, \n",
        "classifier.fit(X_regu, y)"
      ],
      "metadata": {
        "colab": {
          "base_uri": "https://localhost:8080/"
        },
        "id": "pCZ9Rq9_J6aQ",
        "outputId": "a888c7df-5382-448b-8bdc-2a19a1251d63"
      },
      "execution_count": null,
      "outputs": [
        {
          "output_type": "execute_result",
          "data": {
            "text/plain": [
              "RandomForestClassifier(max_depth=3, n_estimators=20)"
            ]
          },
          "metadata": {},
          "execution_count": 10
        }
      ]
    },
    {
      "cell_type": "code",
      "source": [
        "expected = y\n",
        "predicted = classifier.predict(X_regu)"
      ],
      "metadata": {
        "id": "egr4sPetKO7C"
      },
      "execution_count": null,
      "outputs": []
    },
    {
      "cell_type": "code",
      "source": [
        "predicted"
      ],
      "metadata": {
        "colab": {
          "base_uri": "https://localhost:8080/"
        },
        "id": "RqMHs5yaKXc9",
        "outputId": "99a22b46-9380-4230-f9cc-74e9e0323177"
      },
      "execution_count": null,
      "outputs": [
        {
          "output_type": "execute_result",
          "data": {
            "text/plain": [
              "array([1, 1, 0, 1, 0, 1, 1, 1, 1, 1, 1, 1, 1, 1, 0, 1, 1, 1, 1, 1, 1, 1,\n",
              "       1, 0, 1, 1, 1, 1, 1, 1, 1, 1, 1, 1, 0, 1, 1, 1, 1, 1, 1, 0, 1, 1,\n",
              "       1, 0, 1, 0, 1, 1, 1, 1, 1, 1, 0, 1, 1, 1, 0, 1, 0, 1, 0, 1, 1, 1,\n",
              "       1, 1, 1, 1, 1, 1, 1, 0, 1, 1, 1, 1, 1, 1, 1, 1, 0, 1, 1, 1, 1, 1,\n",
              "       0, 1, 1, 1, 1, 0, 1, 1, 1, 1, 1, 1])"
            ]
          },
          "metadata": {},
          "execution_count": 12
        }
      ]
    },
    {
      "cell_type": "code",
      "source": [
        "print('Accuracy:', accuracy_score(expected, predicted))\n",
        "print('Confusion matrix:\\n', confusion_matrix(expected, predicted))"
      ],
      "metadata": {
        "colab": {
          "base_uri": "https://localhost:8080/"
        },
        "id": "PhaQ4WEgKYJq",
        "outputId": "6eec7119-2b7b-4288-8193-de2b8e7b61c9"
      },
      "execution_count": null,
      "outputs": [
        {
          "output_type": "stream",
          "name": "stdout",
          "text": [
            "Accuracy: 0.85\n",
            "Confusion matrix:\n",
            " [[16 15]\n",
            " [ 0 69]]\n"
          ]
        }
      ]
    },
    {
      "cell_type": "code",
      "source": [
        "# 에이다부스트 모델\n",
        "classifier2 = ensemble.AdaBoostClassifier(base_estimator=tree.DecisionTreeClassifier(max_depth=3), n_estimators=20) # base모델은 결정트리\n",
        "classifier2.fit(X_regu, y)"
      ],
      "metadata": {
        "colab": {
          "base_uri": "https://localhost:8080/"
        },
        "id": "7wsHAcP3KiUd",
        "outputId": "8b042a4b-432e-464a-fc2d-fd0ee9e113a0"
      },
      "execution_count": null,
      "outputs": [
        {
          "output_type": "execute_result",
          "data": {
            "text/plain": [
              "AdaBoostClassifier(base_estimator=DecisionTreeClassifier(max_depth=3),\n",
              "                   n_estimators=20)"
            ]
          },
          "metadata": {},
          "execution_count": 14
        }
      ]
    },
    {
      "cell_type": "code",
      "source": [
        "predicted2 = classifier2.predict(X_regu)\n",
        "\n",
        "print('Accuracy:', accuracy_score(expected, predicted2))\n",
        "print('Confusion matrix:\\n', confusion_matrix(expected, predicted2))"
      ],
      "metadata": {
        "colab": {
          "base_uri": "https://localhost:8080/"
        },
        "id": "98DrGpCBKzzf",
        "outputId": "bcdc4fb8-fbf6-4463-d197-4034f160c4cf"
      },
      "execution_count": null,
      "outputs": [
        {
          "output_type": "stream",
          "name": "stdout",
          "text": [
            "Accuracy: 1.0\n",
            "Confusion matrix:\n",
            " [[31  0]\n",
            " [ 0 69]]\n"
          ]
        }
      ]
    },
    {
      "cell_type": "markdown",
      "source": [
        "## 예측 실습\n",
        "* 당뇨병 환자 예측"
      ],
      "metadata": {
        "id": "Vep4sL_qK_ps"
      }
    },
    {
      "cell_type": "code",
      "source": [
        "from sklearn import datasets\n",
        "\n",
        "diabetes = datasets.load_diabetes()"
      ],
      "metadata": {
        "id": "dR3LHOHNLO9Y"
      },
      "execution_count": null,
      "outputs": []
    },
    {
      "cell_type": "code",
      "source": [
        "# 독립변수와 반응변수로 구분\n",
        "diabetes_X = diabetes.data\n",
        "diabetes_y = diabetes.target\n",
        "diabetes_feature = diabetes.feature_names"
      ],
      "metadata": {
        "id": "yFoH-fUgLVXp"
      },
      "execution_count": null,
      "outputs": []
    },
    {
      "cell_type": "code",
      "source": [
        "diabetes_X.shape, diabetes_y.shape"
      ],
      "metadata": {
        "colab": {
          "base_uri": "https://localhost:8080/"
        },
        "id": "gc6f_VhZLt-3",
        "outputId": "2119188d-ffd6-4826-aa90-f2547ccb2b12"
      },
      "execution_count": null,
      "outputs": [
        {
          "output_type": "execute_result",
          "data": {
            "text/plain": [
              "((442, 10), (442,))"
            ]
          },
          "metadata": {},
          "execution_count": 18
        }
      ]
    },
    {
      "cell_type": "code",
      "source": [
        "diabetes_feature"
      ],
      "metadata": {
        "colab": {
          "base_uri": "https://localhost:8080/"
        },
        "id": "He5E6DsuLx7Z",
        "outputId": "6babf113-3c08-44db-de7c-ab139c3e8f11"
      },
      "execution_count": null,
      "outputs": [
        {
          "output_type": "execute_result",
          "data": {
            "text/plain": [
              "['age', 'sex', 'bmi', 'bp', 's1', 's2', 's3', 's4', 's5', 's6']"
            ]
          },
          "metadata": {},
          "execution_count": 19
        }
      ]
    },
    {
      "cell_type": "code",
      "source": [
        "# 랜덤포레스트 회귀모델\n",
        "model = ensemble.RandomForestRegressor()\n",
        "model.fit(diabetes_X, diabetes_y)"
      ],
      "metadata": {
        "colab": {
          "base_uri": "https://localhost:8080/"
        },
        "id": "QXAVikrzLzlk",
        "outputId": "81f7b3d6-23a5-4450-8303-11d396c75c50"
      },
      "execution_count": null,
      "outputs": [
        {
          "output_type": "execute_result",
          "data": {
            "text/plain": [
              "RandomForestRegressor()"
            ]
          },
          "metadata": {},
          "execution_count": 20
        }
      ]
    },
    {
      "cell_type": "code",
      "source": [
        "# 결정계수 표시\n",
        "r2 = model.score(diabetes_X, diabetes_y)\n",
        "print('결정계수', r2)"
      ],
      "metadata": {
        "colab": {
          "base_uri": "https://localhost:8080/"
        },
        "id": "ry0X1wMPMLwY",
        "outputId": "0c381fbf-12a7-4717-cd6d-38f1f4da25ec"
      },
      "execution_count": null,
      "outputs": [
        {
          "output_type": "stream",
          "name": "stdout",
          "text": [
            "결정계수 0.9184476430061543\n"
          ]
        }
      ]
    },
    {
      "cell_type": "code",
      "source": [
        "# 그래프 표시 - age\n",
        "plt.scatter(diabetes_X[:, 0], diabetes_y, marker='+', c='blue')\n",
        "plt.scatter(diabetes_X[:, 0], model.predict(diabetes_X), marker='o', c='red')\n",
        "plt.show()"
      ],
      "metadata": {
        "colab": {
          "base_uri": "https://localhost:8080/",
          "height": 265
        },
        "id": "pLpQkSYcMR_H",
        "outputId": "7057872b-8340-4e80-bf4e-b8424e47133e"
      },
      "execution_count": null,
      "outputs": [
        {
          "output_type": "display_data",
          "data": {
            "text/plain": [
              "<Figure size 432x288 with 1 Axes>"
            ],
            "image/png": "[encoded data removed]"
          },
          "metadata": {
            "needs_background": "light"
          }
        }
      ]
    },
    {
      "cell_type": "code",
      "source": [
        "# 그래프 표시 - sex\n",
        "plt.scatter(diabetes_X[:, 1], diabetes_y, marker='+', c='blue')\n",
        "plt.scatter(diabetes_X[:, 1], model.predict(diabetes_X), marker='o', c='red')\n",
        "plt.show()"
      ],
      "metadata": {
        "colab": {
          "base_uri": "https://localhost:8080/",
          "height": 265
        },
        "id": "FmMjq7vbMvZj",
        "outputId": "3e807a5b-c055-42ab-e61e-233546539809"
      },
      "execution_count": null,
      "outputs": [
        {
          "output_type": "display_data",
          "data": {
            "text/plain": [
              "<Figure size 432x288 with 1 Axes>"
            ],
            "image/png": "[encoded data removed]"
          },
          "metadata": {
            "needs_background": "light"
          }
        }
      ]
    },
    {
      "cell_type": "code",
      "source": [
        "# 그래프 표시 - bmi\n",
        "plt.scatter(diabetes_X[:, 2], diabetes_y, marker='+', c='blue')\n",
        "plt.scatter(diabetes_X[:, 2], model.predict(diabetes_X), marker='o', c='red')\n",
        "plt.show()"
      ],
      "metadata": {
        "colab": {
          "base_uri": "https://localhost:8080/",
          "height": 265
        },
        "id": "gyLbcH8oM2U5",
        "outputId": "b04c913c-7a16-4e9e-9310-7e1bbfa4f2c1"
      },
      "execution_count": null,
      "outputs": [
        {
          "output_type": "display_data",
          "data": {
            "text/plain": [
              "<Figure size 432x288 with 1 Axes>"
            ],
            "image/png": "[encoded data removed]"
          },
          "metadata": {
            "needs_background": "light"
          }
        }
      ]
    },
    {
      "cell_type": "code",
      "source": [
        ""
      ],
      "metadata": {
        "id": "6FJtI-vhM8SY"
      },
      "execution_count": null,
      "outputs": []
    }
  ]
}