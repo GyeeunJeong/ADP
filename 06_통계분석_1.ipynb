{
  "cells": [
    {
      "cell_type": "markdown",
      "metadata": {
        "id": "4xb1zm0YzLX0"
      },
      "source": [
        "# 통계분석_1"
      ]
    },
    {
      "cell_type": "code",
      "execution_count": null,
      "metadata": {
        "ExecuteTime": {
          "end_time": "2020-12-12T04:29:35.719805Z",
          "start_time": "2020-12-12T04:29:35.172725Z"
        },
        "id": "EG8ON87RzLX6"
      },
      "outputs": [],
      "source": [
        "import pandas as pd\n",
        "import numpy as np"
      ]
    },
    {
      "cell_type": "markdown",
      "metadata": {
        "id": "j04JWya6zLX8"
      },
      "source": [
        "# 빈도분석, 분포분석 (기초통계량 Set)"
      ]
    },
    {
      "cell_type": "code",
      "execution_count": null,
      "metadata": {
        "ExecuteTime": {
          "end_time": "2020-12-12T04:29:36.494984Z",
          "start_time": "2020-12-12T04:29:36.482320Z"
        },
        "id": "GOhcWQPDzLX8"
      },
      "outputs": [],
      "source": [
        "df = pd.read_csv('data/titanic_simple.csv')"
      ]
    },
    {
      "cell_type": "code",
      "execution_count": null,
      "metadata": {
        "ExecuteTime": {
          "end_time": "2020-12-12T04:29:37.207422Z",
          "start_time": "2020-12-12T04:29:37.196438Z"
        },
        "id": "-jsE8tu8zLX9",
        "outputId": "8508d7eb-b143-4beb-ed54-74576979ddd4"
      },
      "outputs": [
        {
          "data": {
            "text/plain": [
              "(891, 8)"
            ]
          },
          "execution_count": 4,
          "metadata": {},
          "output_type": "execute_result"
        }
      ],
      "source": [
        "df.shape"
      ]
    },
    {
      "cell_type": "code",
      "execution_count": null,
      "metadata": {
        "ExecuteTime": {
          "end_time": "2020-12-12T04:29:38.313106Z",
          "start_time": "2020-12-12T04:29:38.308950Z"
        },
        "id": "m25U1RaWzLX-"
      },
      "outputs": [],
      "source": [
        "# type별로 컬럼 분류\n",
        "col_id = ['PassengerId', 'Name']\n",
        "col_cat = ['Survived', 'Pclass', 'Sex', 'Embarked']\n",
        "col_num = ['Age', 'Fare']"
      ]
    },
    {
      "cell_type": "code",
      "execution_count": null,
      "metadata": {
        "ExecuteTime": {
          "end_time": "2020-12-12T04:29:38.891005Z",
          "start_time": "2020-12-12T04:29:38.875514Z"
        },
        "hide_input": false,
        "id": "3IygX3X4zLYA"
      },
      "outputs": [],
      "source": [
        "# dtypes 맞춰주는 중\n",
        "\n",
        "#연속형\n",
        "df[col_num] = df[col_num].astype('int', errors = 'ignore')\n",
        "\n",
        "# 고윳값\n",
        "df[col_id] = df[col_id].astype('str')\n",
        "\n",
        "#범주형\n",
        "for i in col_cat:\n",
        "    df[i] = pd.Categorical(df[i])"
      ]
    },
    {
      "cell_type": "code",
      "execution_count": null,
      "metadata": {
        "ExecuteTime": {
          "end_time": "2020-12-12T04:29:39.613662Z",
          "start_time": "2020-12-12T04:29:39.606684Z"
        },
        "id": "Ygb38mlpzLYA",
        "outputId": "f03559f2-8ae4-418e-a51c-c144f0604cfa"
      },
      "outputs": [
        {
          "data": {
            "text/plain": [
              "PassengerId      object\n",
              "Survived       category\n",
              "Pclass         category\n",
              "Name             object\n",
              "Sex            category\n",
              "Age             float64\n",
              "Fare            float64\n",
              "Embarked       category\n",
              "dtype: object"
            ]
          },
          "execution_count": 7,
          "metadata": {},
          "output_type": "execute_result"
        }
      ],
      "source": [
        "df.dtypes"
      ]
    },
    {
      "cell_type": "code",
      "execution_count": null,
      "metadata": {
        "ExecuteTime": {
          "end_time": "2020-12-12T04:29:40.390839Z",
          "start_time": "2020-12-12T04:29:40.372394Z"
        },
        "id": "OIeTft3YzLYB",
        "outputId": "117c0f96-0baa-4a16-df22-3f363ebe5483"
      },
      "outputs": [
        {
          "data": {
            "text/html": [
              "<div>\n",
              "<style scoped>\n",
              "    .dataframe tbody tr th:only-of-type {\n",
              "        vertical-align: middle;\n",
              "    }\n",
              "\n",
              "    .dataframe tbody tr th {\n",
              "        vertical-align: top;\n",
              "    }\n",
              "\n",
              "    .dataframe thead th {\n",
              "        text-align: right;\n",
              "    }\n",
              "</style>\n",
              "<table border=\"1\" class=\"dataframe\">\n",
              "  <thead>\n",
              "    <tr style=\"text-align: right;\">\n",
              "      <th></th>\n",
              "      <th>PassengerId</th>\n",
              "      <th>Survived</th>\n",
              "      <th>Pclass</th>\n",
              "      <th>Name</th>\n",
              "      <th>Sex</th>\n",
              "      <th>Age</th>\n",
              "      <th>Fare</th>\n",
              "      <th>Embarked</th>\n",
              "    </tr>\n",
              "  </thead>\n",
              "  <tbody>\n",
              "    <tr>\n",
              "      <th>0</th>\n",
              "      <td>1</td>\n",
              "      <td>0</td>\n",
              "      <td>3</td>\n",
              "      <td>Braund, Mr. Owen Harris</td>\n",
              "      <td>male</td>\n",
              "      <td>22.0</td>\n",
              "      <td>7.2500</td>\n",
              "      <td>Southhampton</td>\n",
              "    </tr>\n",
              "    <tr>\n",
              "      <th>1</th>\n",
              "      <td>2</td>\n",
              "      <td>1</td>\n",
              "      <td>1</td>\n",
              "      <td>Cumings, Mrs. John Bradley (Florence Briggs Th...</td>\n",
              "      <td>female</td>\n",
              "      <td>38.0</td>\n",
              "      <td>71.2833</td>\n",
              "      <td>Cherbourg</td>\n",
              "    </tr>\n",
              "    <tr>\n",
              "      <th>2</th>\n",
              "      <td>3</td>\n",
              "      <td>1</td>\n",
              "      <td>3</td>\n",
              "      <td>Heikkinen, Miss. Laina</td>\n",
              "      <td>female</td>\n",
              "      <td>26.0</td>\n",
              "      <td>7.9250</td>\n",
              "      <td>Southhampton</td>\n",
              "    </tr>\n",
              "    <tr>\n",
              "      <th>3</th>\n",
              "      <td>4</td>\n",
              "      <td>1</td>\n",
              "      <td>1</td>\n",
              "      <td>Futrelle, Mrs. Jacques Heath (Lily May Peel)</td>\n",
              "      <td>female</td>\n",
              "      <td>35.0</td>\n",
              "      <td>53.1000</td>\n",
              "      <td>Southhampton</td>\n",
              "    </tr>\n",
              "    <tr>\n",
              "      <th>4</th>\n",
              "      <td>5</td>\n",
              "      <td>0</td>\n",
              "      <td>3</td>\n",
              "      <td>Allen, Mr. William Henry</td>\n",
              "      <td>male</td>\n",
              "      <td>35.0</td>\n",
              "      <td>8.0500</td>\n",
              "      <td>Southhampton</td>\n",
              "    </tr>\n",
              "  </tbody>\n",
              "</table>\n",
              "</div>"
            ],
            "text/plain": [
              "  PassengerId Survived Pclass  \\\n",
              "0           1        0      3   \n",
              "1           2        1      1   \n",
              "2           3        1      3   \n",
              "3           4        1      1   \n",
              "4           5        0      3   \n",
              "\n",
              "                                                Name     Sex   Age     Fare  \\\n",
              "0                            Braund, Mr. Owen Harris    male  22.0   7.2500   \n",
              "1  Cumings, Mrs. John Bradley (Florence Briggs Th...  female  38.0  71.2833   \n",
              "2                             Heikkinen, Miss. Laina  female  26.0   7.9250   \n",
              "3       Futrelle, Mrs. Jacques Heath (Lily May Peel)  female  35.0  53.1000   \n",
              "4                           Allen, Mr. William Henry    male  35.0   8.0500   \n",
              "\n",
              "       Embarked  \n",
              "0  Southhampton  \n",
              "1     Cherbourg  \n",
              "2  Southhampton  \n",
              "3  Southhampton  \n",
              "4  Southhampton  "
            ]
          },
          "execution_count": 8,
          "metadata": {},
          "output_type": "execute_result"
        }
      ],
      "source": [
        "df.head()"
      ]
    },
    {
      "cell_type": "markdown",
      "metadata": {
        "id": "uDTyK549zLYC"
      },
      "source": [
        "## 기초통계량 Set"
      ]
    },
    {
      "cell_type": "code",
      "execution_count": null,
      "metadata": {
        "ExecuteTime": {
          "end_time": "2020-12-12T04:29:42.812019Z",
          "start_time": "2020-12-12T04:29:42.740961Z"
        },
        "id": "_zG1jM-mzLYC",
        "outputId": "ccf76224-7cf5-415e-a75e-98c9ecee75f4"
      },
      "outputs": [
        {
          "name": "stdout",
          "output_type": "stream",
          "text": [
            "결측치 90% 이상 또는 데이터 발생이 90%부터인 데이터는 버리고\n"
          ]
        },
        {
          "data": {
            "text/html": [
              "<div>\n",
              "<style scoped>\n",
              "    .dataframe tbody tr th:only-of-type {\n",
              "        vertical-align: middle;\n",
              "    }\n",
              "\n",
              "    .dataframe tbody tr th {\n",
              "        vertical-align: top;\n",
              "    }\n",
              "\n",
              "    .dataframe thead th {\n",
              "        text-align: right;\n",
              "    }\n",
              "</style>\n",
              "<table border=\"1\" class=\"dataframe\">\n",
              "  <thead>\n",
              "    <tr style=\"text-align: right;\">\n",
              "      <th></th>\n",
              "      <th>count</th>\n",
              "      <th>missing</th>\n",
              "      <th>total</th>\n",
              "      <th>mean</th>\n",
              "      <th>median</th>\n",
              "      <th>std</th>\n",
              "      <th>variance</th>\n",
              "      <th>skewness</th>\n",
              "      <th>kurtosis</th>\n",
              "      <th>min</th>\n",
              "      <th>1%</th>\n",
              "      <th>5%</th>\n",
              "      <th>10%</th>\n",
              "      <th>25%</th>\n",
              "      <th>50%</th>\n",
              "      <th>75%</th>\n",
              "      <th>90%</th>\n",
              "      <th>95%</th>\n",
              "      <th>99%</th>\n",
              "      <th>max</th>\n",
              "    </tr>\n",
              "  </thead>\n",
              "  <tbody>\n",
              "    <tr>\n",
              "      <th>Age</th>\n",
              "      <td>714.0</td>\n",
              "      <td>177</td>\n",
              "      <td>891.0</td>\n",
              "      <td>29.7</td>\n",
              "      <td>28.00</td>\n",
              "      <td>14.53</td>\n",
              "      <td>210.72</td>\n",
              "      <td>0.39</td>\n",
              "      <td>0.18</td>\n",
              "      <td>0.42</td>\n",
              "      <td>1.0</td>\n",
              "      <td>4.00</td>\n",
              "      <td>14.00</td>\n",
              "      <td>20.12</td>\n",
              "      <td>28.00</td>\n",
              "      <td>38.0</td>\n",
              "      <td>50.00</td>\n",
              "      <td>56.00</td>\n",
              "      <td>65.87</td>\n",
              "      <td>80.00</td>\n",
              "    </tr>\n",
              "    <tr>\n",
              "      <th>Fare</th>\n",
              "      <td>891.0</td>\n",
              "      <td>0</td>\n",
              "      <td>891.0</td>\n",
              "      <td>32.2</td>\n",
              "      <td>14.45</td>\n",
              "      <td>49.69</td>\n",
              "      <td>2466.67</td>\n",
              "      <td>4.79</td>\n",
              "      <td>33.40</td>\n",
              "      <td>0.00</td>\n",
              "      <td>0.0</td>\n",
              "      <td>7.22</td>\n",
              "      <td>7.55</td>\n",
              "      <td>7.91</td>\n",
              "      <td>14.45</td>\n",
              "      <td>31.0</td>\n",
              "      <td>77.96</td>\n",
              "      <td>112.08</td>\n",
              "      <td>249.01</td>\n",
              "      <td>512.33</td>\n",
              "    </tr>\n",
              "  </tbody>\n",
              "</table>\n",
              "</div>"
            ],
            "text/plain": [
              "      count  missing  total  mean  median    std  variance  skewness  \\\n",
              "Age   714.0      177  891.0  29.7   28.00  14.53    210.72      0.39   \n",
              "Fare  891.0        0  891.0  32.2   14.45  49.69   2466.67      4.79   \n",
              "\n",
              "      kurtosis   min   1%    5%    10%    25%    50%   75%    90%     95%  \\\n",
              "Age       0.18  0.42  1.0  4.00  14.00  20.12  28.00  38.0  50.00   56.00   \n",
              "Fare     33.40  0.00  0.0  7.22   7.55   7.91  14.45  31.0  77.96  112.08   \n",
              "\n",
              "         99%     max  \n",
              "Age    65.87   80.00  \n",
              "Fare  249.01  512.33  "
            ]
          },
          "execution_count": 9,
          "metadata": {},
          "output_type": "execute_result"
        }
      ],
      "source": [
        "# data에는 df[col_num]으로 연속형 변수만 선택된 데이터프레임이 들어가야 함\n",
        "def DA(data):\n",
        "    da = data.describe(percentiles=[0.01, 0.05, 0.1, 0.25, 0.5, 0.75, 0.9, 0.95, 0.99])\n",
        "    da = da.T\n",
        "    df1 = data.isna().sum() # 결측값\n",
        "    df1.name = 'missing'\n",
        "\n",
        "    df2 = data.median() # 중앙값\n",
        "    df2.name = 'median'\n",
        "\n",
        "    df3 = np.var(data) # 분산\n",
        "    df3.name = 'variance'\n",
        "\n",
        "    df4 = data.skew() # 왜도 : 양수면 왼쪽으로 치우침\n",
        "    df4.name = 'skewness'\n",
        "\n",
        "    df5 = data.kurtosis() # 첨도 : 0보다 클수록 뾰족함\n",
        "    df5.name = 'kurtosis'\n",
        "\n",
        "    da = pd.concat([da,df1,df2,df3,df4,df5], axis=1) # 모두 합침\n",
        "\n",
        "    da['total'] = da['count'] + da['missing'] # 전체 데이터 수\n",
        "\n",
        "    # 컬럼 순서 보기 좋게 정렬\n",
        "    col_nm = da.columns.tolist()\n",
        "    order = [0, 14, 19, 1, 15, 2, 16, 17, 18]\n",
        "    col_nm_new=[]\n",
        "    for i in order:\n",
        "        col_nm_new.append(col_nm[i])\n",
        "    col_nm_new.extend(col_nm[3:14])\n",
        "    da = da[col_nm_new]\n",
        "    \n",
        "    # 소수점 둘째자리 반올림\n",
        "    da = da.round(2) \n",
        "    return da\n",
        "\n",
        "DA1 = DA(df[col_num])\n",
        "print('결측치 90% 이상 또는 데이터 발생이 90%부터인 데이터는 버리고')\n",
        "DA1"
      ]
    },
    {
      "cell_type": "markdown",
      "metadata": {
        "id": "mYlqS_SLzLYD"
      },
      "source": [
        "## 상관성 분석까지"
      ]
    },
    {
      "cell_type": "code",
      "execution_count": null,
      "metadata": {
        "ExecuteTime": {
          "end_time": "2020-12-12T04:31:52.932368Z",
          "start_time": "2020-12-12T04:31:52.916972Z"
        },
        "id": "IpqLrtK7zLYD",
        "outputId": "fe2ed214-68a6-49e9-9552-776906f21b76"
      },
      "outputs": [
        {
          "name": "stdout",
          "output_type": "stream",
          "text": [
            "[]\n",
            "이 컬럼들은 drop하시오.\n"
          ]
        }
      ],
      "source": [
        "cor = df[col_num].corr()\n",
        "cor2 = ((cor<1)&(cor>=0.7))|(cor<=-0.7)\n",
        "\n",
        "sq = cor2.shape[0]\n",
        "bu = []\n",
        "for i in range(sq):\n",
        "    for j in range(sq):\n",
        "        if cor2.iloc[i,j] == True:\n",
        "            bu.append(set([cor2.columns[i],cor2.index[j]]))\n",
        "\n",
        "nb = []\n",
        "for v in bu:\n",
        "    if v not in nb:\n",
        "        nb.append(v)\n",
        "\n",
        "col_del = []\n",
        "for w in nb:\n",
        "    a = list(w)[0]\n",
        "    b = list(w)[1]\n",
        "    a_sup = DA1.loc[a,'count']\n",
        "    b_sup = DA1.loc[b,'count']\n",
        "    a_skew = DA1.loc[a,'skewness']\n",
        "    b_skew = DA1.loc[b,'skewness']\n",
        "    if a_sup>b_sup:\n",
        "        col_del.appent(b)\n",
        "    elif a_sup<b_sup:\n",
        "        col_del.append(a)\n",
        "    else:\n",
        "        if a_skew>b_skew:\n",
        "            col_del.append(a)\n",
        "        else:\n",
        "            col_del.append(b)\n",
        "print(col_del)\n",
        "print('이 컬럼들은 drop하시오.')\n"
      ]
    },
    {
      "cell_type": "markdown",
      "metadata": {
        "id": "0LwrllalzLYE"
      },
      "source": [
        "# 분할표의 검정"
      ]
    },
    {
      "cell_type": "markdown",
      "metadata": {
        "id": "TkiOuuB0zLYF"
      },
      "source": [
        "## Fisher의 직접확률 검정\n",
        "- 2 x 2 교차표에서 전체 데이터 숫자의 20%를 초과하는 Cell에서의 빈도가 5 미만이면 카이제곱테스트보다는 피셔의 정확성 검정을 하는 것이 좋다\n",
        "- 5이상이어도 계산 가능하다"
      ]
    },
    {
      "cell_type": "markdown",
      "metadata": {
        "id": "JU4z-5HnzLYF"
      },
      "source": [
        "**예시**\n",
        "- 대서양과 인도양에서 고래와 상어를 세는 데 며칠을 보낸다고 가정 해 보겠습니다. 대서양에서는 고래 8 마리와 상어 1 마리, 인도양에서는 고래 2 마리와 상어 5 마리가 있습니다. 그러면 우리의 분할 표는 다음과 같습니다."
      ]
    },
    {
      "cell_type": "code",
      "execution_count": null,
      "metadata": {
        "ExecuteTime": {
          "end_time": "2020-09-14T14:52:36.695784Z",
          "start_time": "2020-09-14T14:52:36.685164Z"
        },
        "id": "P3d3_RhgzLYF",
        "outputId": "1eb22e7e-8a1b-4430-d168-15f64c62fdab"
      },
      "outputs": [
        {
          "data": {
            "text/html": [
              "<div>\n",
              "<style scoped>\n",
              "    .dataframe tbody tr th:only-of-type {\n",
              "        vertical-align: middle;\n",
              "    }\n",
              "\n",
              "    .dataframe tbody tr th {\n",
              "        vertical-align: top;\n",
              "    }\n",
              "\n",
              "    .dataframe thead th {\n",
              "        text-align: right;\n",
              "    }\n",
              "</style>\n",
              "<table border=\"1\" class=\"dataframe\">\n",
              "  <thead>\n",
              "    <tr style=\"text-align: right;\">\n",
              "      <th></th>\n",
              "      <th>Atlantic</th>\n",
              "      <th>Indian</th>\n",
              "    </tr>\n",
              "  </thead>\n",
              "  <tbody>\n",
              "    <tr>\n",
              "      <td>whales</td>\n",
              "      <td>8</td>\n",
              "      <td>2</td>\n",
              "    </tr>\n",
              "    <tr>\n",
              "      <td>sharks</td>\n",
              "      <td>1</td>\n",
              "      <td>5</td>\n",
              "    </tr>\n",
              "  </tbody>\n",
              "</table>\n",
              "</div>"
            ],
            "text/plain": [
              "        Atlantic  Indian\n",
              "whales         8       2\n",
              "sharks         1       5"
            ]
          },
          "execution_count": 145,
          "metadata": {},
          "output_type": "execute_result"
        }
      ],
      "source": [
        "data = np.array([[8,2],[1,5]])\n",
        "data = pd.DataFrame(data, columns=['Atlantic', 'Indian'])\n",
        "data.index = ['whales','sharks']\n",
        "data"
      ]
    },
    {
      "cell_type": "code",
      "execution_count": null,
      "metadata": {
        "ExecuteTime": {
          "end_time": "2020-09-14T14:50:54.468624Z",
          "start_time": "2020-09-14T14:50:54.459353Z"
        },
        "id": "p_tFZC7UzLYG",
        "outputId": "446d90da-1f8f-4051-d1dd-85d10ae67872"
      },
      "outputs": [
        {
          "data": {
            "text/plain": [
              "0.03496503496503495"
            ]
          },
          "execution_count": 141,
          "metadata": {},
          "output_type": "execute_result"
        }
      ],
      "source": [
        "import scipy.stats as stats\n",
        "oddsratio, pvalue = stats.fisher_exact(data) # 교차표는 리스트, 배열, 데이터프레임 형식 모두 됨\n",
        "pvalue"
      ]
    },
    {
      "cell_type": "markdown",
      "metadata": {
        "id": "XK1GjwbZzLYG"
      },
      "source": [
        "**해석**\n",
        "- 우연히 이것을 관찰하거나 훨씬 더 불균형 한 비율을 관찰 할 확률은 약 3.5 %입니다. 일반적으로 사용되는 유의 수준은 5 %입니다.이를 채택하면 관측 된 불균형이 통계적으로 유의하다는 결론을 내릴 수 있습니다. 고래는 대서양을 선호하고 상어는 인도양을 선호합니다."
      ]
    },
    {
      "cell_type": "markdown",
      "metadata": {
        "id": "Fryzfq4rzLYH"
      },
      "source": [
        "## 맥네마의 검정\n",
        "- **같은 샘플(paired)** 의 전후 상태를 교차표로 만들어 검정하는 것\n",
        "- 상태는 1, 0 또는 good, bad처럼 명목형임"
      ]
    },
    {
      "cell_type": "code",
      "execution_count": null,
      "metadata": {
        "ExecuteTime": {
          "end_time": "2020-09-14T15:55:00.793467Z",
          "start_time": "2020-09-14T15:55:00.782442Z"
        },
        "id": "0LCmzfAEzLYH",
        "outputId": "21b4371e-f872-4b6e-b327-58949244f6a3"
      },
      "outputs": [
        {
          "name": "stdout",
          "output_type": "stream",
          "text": [
            "이런 데이터인데 실제 사용할 때는 데이터프레임은 사용 불가. 배열로 입력해야함\n"
          ]
        },
        {
          "data": {
            "text/html": [
              "<div>\n",
              "<style scoped>\n",
              "    .dataframe tbody tr th:only-of-type {\n",
              "        vertical-align: middle;\n",
              "    }\n",
              "\n",
              "    .dataframe tbody tr th {\n",
              "        vertical-align: top;\n",
              "    }\n",
              "\n",
              "    .dataframe thead th {\n",
              "        text-align: right;\n",
              "    }\n",
              "</style>\n",
              "<table border=\"1\" class=\"dataframe\">\n",
              "  <thead>\n",
              "    <tr style=\"text-align: right;\">\n",
              "      <th></th>\n",
              "      <th>After:Good</th>\n",
              "      <th>After:Bad</th>\n",
              "    </tr>\n",
              "  </thead>\n",
              "  <tbody>\n",
              "    <tr>\n",
              "      <td>Before:Good</td>\n",
              "      <td>40</td>\n",
              "      <td>6</td>\n",
              "    </tr>\n",
              "    <tr>\n",
              "      <td>Before:Bad</td>\n",
              "      <td>2</td>\n",
              "      <td>11</td>\n",
              "    </tr>\n",
              "  </tbody>\n",
              "</table>\n",
              "</div>"
            ],
            "text/plain": [
              "             After:Good  After:Bad\n",
              "Before:Good          40          6\n",
              "Before:Bad            2         11"
            ]
          },
          "execution_count": 185,
          "metadata": {},
          "output_type": "execute_result"
        }
      ],
      "source": [
        "data = pd.DataFrame([[40, 6],[2, 11]], columns=['After:Good', 'After:Bad'])\n",
        "data.index = ['Before:Good','Before:Bad']\n",
        "print('이런 데이터인데 실제 사용할 때는 데이터프레임은 사용 불가. 배열로 입력해야함')\n",
        "data"
      ]
    },
    {
      "cell_type": "code",
      "execution_count": null,
      "metadata": {
        "ExecuteTime": {
          "end_time": "2020-09-14T15:56:00.206380Z",
          "start_time": "2020-09-14T15:56:00.201501Z"
        },
        "id": "GNw_TKu-zLYH"
      },
      "outputs": [],
      "source": [
        "data = np.array(data)\n",
        "from statsmodels.stats.contingency_tables import mcnemar\n",
        "# Cell 2 + Cell 3 샘플 사이즈가 25개 미만일 때\n",
        "result = mcnemar(data, exact=True)\n",
        "\n",
        "# Cell 2 + Cell 3 샘플 사이즈가 25개 이상일 때\n",
        "# result = mcnemar([[8, 10],[17, 3]], exact=False, correction=True)"
      ]
    },
    {
      "cell_type": "code",
      "execution_count": null,
      "metadata": {
        "ExecuteTime": {
          "end_time": "2020-09-14T15:56:01.309404Z",
          "start_time": "2020-09-14T15:56:01.305413Z"
        },
        "id": "F535YNiazLYI",
        "outputId": "b7f30940-31e1-41e0-b804-7397656df3a1"
      },
      "outputs": [
        {
          "name": "stdout",
          "output_type": "stream",
          "text": [
            "pvalue      0.2890624999999999\n",
            "statistic   2.0\n"
          ]
        }
      ],
      "source": [
        "print(result)"
      ]
    },
    {
      "cell_type": "markdown",
      "metadata": {
        "id": "5704EP1mzLYI"
      },
      "source": [
        "**해석**\n",
        "- p-value가 0.05보다 크므로 귀무가설을 기각하지 않아, 전후 차이가 있다고 보기 어렵다."
      ]
    },
    {
      "cell_type": "markdown",
      "metadata": {
        "id": "l3qEMjcyzLYI"
      },
      "source": [
        "# 상관분석\n",
        "- 상관분석(Correlation Analysis)은 확률론과 통계학에서 두 변수간에 어떤 선형적 관계를 갖고 있는 지를 분석하는 방법입니다. 두변수는 서로 독립적인 관계로부터 서로 상관된 관계일 수 있으며 이때 두 변수간의 관계의 강도를 상관관계(Correlation, Correlation coefficient)라 합니다. 상관분석에서는 상관관계의 정도를 나타내는 단위로 모상관계수 ρ를 사용합니다.\n",
        "- r 값은 x 와 y 가 완전히 동일하면 +1, 전혀 다르면 0, 반대방향으로 완전히 동일하면 -1 의 값을 갖습니다. 일반적으로 다음과 같이 해석합니다.\n",
        "- 0.1 ~ 0.3:약한 상관관계 / 0.3 ~ 0.7: 뚜렷한 상관관계 / 0.7 ~ 1.0: 강한 상관관계"
      ]
    },
    {
      "cell_type": "code",
      "execution_count": null,
      "metadata": {
        "ExecuteTime": {
          "end_time": "2020-09-14T16:08:54.420879Z",
          "start_time": "2020-09-14T16:08:54.398911Z"
        },
        "id": "hXgZuhyjzLYI"
      },
      "outputs": [],
      "source": [
        "data = pd.read_csv('data/kobe.csv')"
      ]
    },
    {
      "cell_type": "markdown",
      "metadata": {
        "id": "6JisXB9IzLYI"
      },
      "source": [
        "## 상관계수"
      ]
    },
    {
      "cell_type": "code",
      "execution_count": null,
      "metadata": {
        "ExecuteTime": {
          "end_time": "2020-09-14T16:09:07.892818Z",
          "start_time": "2020-09-14T16:09:07.866039Z"
        },
        "id": "N6fRpTiczLYJ",
        "outputId": "579d77b4-3698-4ec2-d8cf-a52a0df6ca66"
      },
      "outputs": [
        {
          "data": {
            "text/html": [
              "<div>\n",
              "<style scoped>\n",
              "    .dataframe tbody tr th:only-of-type {\n",
              "        vertical-align: middle;\n",
              "    }\n",
              "\n",
              "    .dataframe tbody tr th {\n",
              "        vertical-align: top;\n",
              "    }\n",
              "\n",
              "    .dataframe thead th {\n",
              "        text-align: right;\n",
              "    }\n",
              "</style>\n",
              "<table border=\"1\" class=\"dataframe\">\n",
              "  <thead>\n",
              "    <tr style=\"text-align: right;\">\n",
              "      <th></th>\n",
              "      <th>game_event_id</th>\n",
              "      <th>game_id</th>\n",
              "      <th>lat</th>\n",
              "      <th>loc_x</th>\n",
              "      <th>loc_y</th>\n",
              "      <th>lon</th>\n",
              "      <th>minutes_remaining</th>\n",
              "      <th>period</th>\n",
              "      <th>playoffs</th>\n",
              "      <th>seconds_remaining</th>\n",
              "      <th>shot_distance</th>\n",
              "      <th>shot_made_flag</th>\n",
              "      <th>team_id</th>\n",
              "      <th>shot_id</th>\n",
              "    </tr>\n",
              "  </thead>\n",
              "  <tbody>\n",
              "    <tr>\n",
              "      <td>game_event_id</td>\n",
              "      <td>1.000000</td>\n",
              "      <td>0.009158</td>\n",
              "      <td>-0.010046</td>\n",
              "      <td>-0.036144</td>\n",
              "      <td>0.010046</td>\n",
              "      <td>-0.036144</td>\n",
              "      <td>-0.256954</td>\n",
              "      <td>0.960449</td>\n",
              "      <td>NaN</td>\n",
              "      <td>-0.038402</td>\n",
              "      <td>0.017654</td>\n",
              "      <td>-0.036044</td>\n",
              "      <td>NaN</td>\n",
              "      <td>0.033857</td>\n",
              "    </tr>\n",
              "    <tr>\n",
              "      <td>game_id</td>\n",
              "      <td>0.009158</td>\n",
              "      <td>1.000000</td>\n",
              "      <td>0.027316</td>\n",
              "      <td>0.013283</td>\n",
              "      <td>-0.027316</td>\n",
              "      <td>0.013283</td>\n",
              "      <td>-0.012726</td>\n",
              "      <td>-0.010312</td>\n",
              "      <td>NaN</td>\n",
              "      <td>0.013478</td>\n",
              "      <td>-0.037993</td>\n",
              "      <td>0.010778</td>\n",
              "      <td>NaN</td>\n",
              "      <td>0.850040</td>\n",
              "    </tr>\n",
              "    <tr>\n",
              "      <td>lat</td>\n",
              "      <td>-0.010046</td>\n",
              "      <td>0.027316</td>\n",
              "      <td>1.000000</td>\n",
              "      <td>-0.027813</td>\n",
              "      <td>-1.000000</td>\n",
              "      <td>-0.027813</td>\n",
              "      <td>0.056295</td>\n",
              "      <td>0.008438</td>\n",
              "      <td>NaN</td>\n",
              "      <td>0.068704</td>\n",
              "      <td>-0.805006</td>\n",
              "      <td>0.149569</td>\n",
              "      <td>NaN</td>\n",
              "      <td>0.059099</td>\n",
              "    </tr>\n",
              "    <tr>\n",
              "      <td>loc_x</td>\n",
              "      <td>-0.036144</td>\n",
              "      <td>0.013283</td>\n",
              "      <td>-0.027813</td>\n",
              "      <td>1.000000</td>\n",
              "      <td>0.027813</td>\n",
              "      <td>1.000000</td>\n",
              "      <td>0.032197</td>\n",
              "      <td>-0.028128</td>\n",
              "      <td>NaN</td>\n",
              "      <td>-0.038191</td>\n",
              "      <td>0.073700</td>\n",
              "      <td>0.019830</td>\n",
              "      <td>NaN</td>\n",
              "      <td>0.024730</td>\n",
              "    </tr>\n",
              "    <tr>\n",
              "      <td>loc_y</td>\n",
              "      <td>0.010046</td>\n",
              "      <td>-0.027316</td>\n",
              "      <td>-1.000000</td>\n",
              "      <td>0.027813</td>\n",
              "      <td>1.000000</td>\n",
              "      <td>0.027813</td>\n",
              "      <td>-0.056295</td>\n",
              "      <td>-0.008438</td>\n",
              "      <td>NaN</td>\n",
              "      <td>-0.068704</td>\n",
              "      <td>0.805006</td>\n",
              "      <td>-0.149569</td>\n",
              "      <td>NaN</td>\n",
              "      <td>-0.059099</td>\n",
              "    </tr>\n",
              "    <tr>\n",
              "      <td>lon</td>\n",
              "      <td>-0.036144</td>\n",
              "      <td>0.013283</td>\n",
              "      <td>-0.027813</td>\n",
              "      <td>1.000000</td>\n",
              "      <td>0.027813</td>\n",
              "      <td>1.000000</td>\n",
              "      <td>0.032197</td>\n",
              "      <td>-0.028128</td>\n",
              "      <td>NaN</td>\n",
              "      <td>-0.038191</td>\n",
              "      <td>0.073700</td>\n",
              "      <td>0.019830</td>\n",
              "      <td>NaN</td>\n",
              "      <td>0.024730</td>\n",
              "    </tr>\n",
              "    <tr>\n",
              "      <td>minutes_remaining</td>\n",
              "      <td>-0.256954</td>\n",
              "      <td>-0.012726</td>\n",
              "      <td>0.056295</td>\n",
              "      <td>0.032197</td>\n",
              "      <td>-0.056295</td>\n",
              "      <td>0.032197</td>\n",
              "      <td>1.000000</td>\n",
              "      <td>-0.019160</td>\n",
              "      <td>NaN</td>\n",
              "      <td>0.030857</td>\n",
              "      <td>-0.049937</td>\n",
              "      <td>0.025117</td>\n",
              "      <td>NaN</td>\n",
              "      <td>-0.028193</td>\n",
              "    </tr>\n",
              "    <tr>\n",
              "      <td>period</td>\n",
              "      <td>0.960449</td>\n",
              "      <td>-0.010312</td>\n",
              "      <td>0.008438</td>\n",
              "      <td>-0.028128</td>\n",
              "      <td>-0.008438</td>\n",
              "      <td>-0.028128</td>\n",
              "      <td>-0.019160</td>\n",
              "      <td>1.000000</td>\n",
              "      <td>NaN</td>\n",
              "      <td>-0.012597</td>\n",
              "      <td>0.004314</td>\n",
              "      <td>-0.029318</td>\n",
              "      <td>NaN</td>\n",
              "      <td>0.015836</td>\n",
              "    </tr>\n",
              "    <tr>\n",
              "      <td>playoffs</td>\n",
              "      <td>NaN</td>\n",
              "      <td>NaN</td>\n",
              "      <td>NaN</td>\n",
              "      <td>NaN</td>\n",
              "      <td>NaN</td>\n",
              "      <td>NaN</td>\n",
              "      <td>NaN</td>\n",
              "      <td>NaN</td>\n",
              "      <td>NaN</td>\n",
              "      <td>NaN</td>\n",
              "      <td>NaN</td>\n",
              "      <td>NaN</td>\n",
              "      <td>NaN</td>\n",
              "      <td>NaN</td>\n",
              "    </tr>\n",
              "    <tr>\n",
              "      <td>seconds_remaining</td>\n",
              "      <td>-0.038402</td>\n",
              "      <td>0.013478</td>\n",
              "      <td>0.068704</td>\n",
              "      <td>-0.038191</td>\n",
              "      <td>-0.068704</td>\n",
              "      <td>-0.038191</td>\n",
              "      <td>0.030857</td>\n",
              "      <td>-0.012597</td>\n",
              "      <td>NaN</td>\n",
              "      <td>1.000000</td>\n",
              "      <td>-0.050019</td>\n",
              "      <td>0.045542</td>\n",
              "      <td>NaN</td>\n",
              "      <td>0.003988</td>\n",
              "    </tr>\n",
              "    <tr>\n",
              "      <td>shot_distance</td>\n",
              "      <td>0.017654</td>\n",
              "      <td>-0.037993</td>\n",
              "      <td>-0.805006</td>\n",
              "      <td>0.073700</td>\n",
              "      <td>0.805006</td>\n",
              "      <td>0.073700</td>\n",
              "      <td>-0.049937</td>\n",
              "      <td>0.004314</td>\n",
              "      <td>NaN</td>\n",
              "      <td>-0.050019</td>\n",
              "      <td>1.000000</td>\n",
              "      <td>-0.195982</td>\n",
              "      <td>NaN</td>\n",
              "      <td>-0.056344</td>\n",
              "    </tr>\n",
              "    <tr>\n",
              "      <td>shot_made_flag</td>\n",
              "      <td>-0.036044</td>\n",
              "      <td>0.010778</td>\n",
              "      <td>0.149569</td>\n",
              "      <td>0.019830</td>\n",
              "      <td>-0.149569</td>\n",
              "      <td>0.019830</td>\n",
              "      <td>0.025117</td>\n",
              "      <td>-0.029318</td>\n",
              "      <td>NaN</td>\n",
              "      <td>0.045542</td>\n",
              "      <td>-0.195982</td>\n",
              "      <td>1.000000</td>\n",
              "      <td>NaN</td>\n",
              "      <td>-0.013651</td>\n",
              "    </tr>\n",
              "    <tr>\n",
              "      <td>team_id</td>\n",
              "      <td>NaN</td>\n",
              "      <td>NaN</td>\n",
              "      <td>NaN</td>\n",
              "      <td>NaN</td>\n",
              "      <td>NaN</td>\n",
              "      <td>NaN</td>\n",
              "      <td>NaN</td>\n",
              "      <td>NaN</td>\n",
              "      <td>NaN</td>\n",
              "      <td>NaN</td>\n",
              "      <td>NaN</td>\n",
              "      <td>NaN</td>\n",
              "      <td>NaN</td>\n",
              "      <td>NaN</td>\n",
              "    </tr>\n",
              "    <tr>\n",
              "      <td>shot_id</td>\n",
              "      <td>0.033857</td>\n",
              "      <td>0.850040</td>\n",
              "      <td>0.059099</td>\n",
              "      <td>0.024730</td>\n",
              "      <td>-0.059099</td>\n",
              "      <td>0.024730</td>\n",
              "      <td>-0.028193</td>\n",
              "      <td>0.015836</td>\n",
              "      <td>NaN</td>\n",
              "      <td>0.003988</td>\n",
              "      <td>-0.056344</td>\n",
              "      <td>-0.013651</td>\n",
              "      <td>NaN</td>\n",
              "      <td>1.000000</td>\n",
              "    </tr>\n",
              "  </tbody>\n",
              "</table>\n",
              "</div>"
            ],
            "text/plain": [
              "                   game_event_id   game_id       lat     loc_x     loc_y  \\\n",
              "game_event_id           1.000000  0.009158 -0.010046 -0.036144  0.010046   \n",
              "game_id                 0.009158  1.000000  0.027316  0.013283 -0.027316   \n",
              "lat                    -0.010046  0.027316  1.000000 -0.027813 -1.000000   \n",
              "loc_x                  -0.036144  0.013283 -0.027813  1.000000  0.027813   \n",
              "loc_y                   0.010046 -0.027316 -1.000000  0.027813  1.000000   \n",
              "lon                    -0.036144  0.013283 -0.027813  1.000000  0.027813   \n",
              "minutes_remaining      -0.256954 -0.012726  0.056295  0.032197 -0.056295   \n",
              "period                  0.960449 -0.010312  0.008438 -0.028128 -0.008438   \n",
              "playoffs                     NaN       NaN       NaN       NaN       NaN   \n",
              "seconds_remaining      -0.038402  0.013478  0.068704 -0.038191 -0.068704   \n",
              "shot_distance           0.017654 -0.037993 -0.805006  0.073700  0.805006   \n",
              "shot_made_flag         -0.036044  0.010778  0.149569  0.019830 -0.149569   \n",
              "team_id                      NaN       NaN       NaN       NaN       NaN   \n",
              "shot_id                 0.033857  0.850040  0.059099  0.024730 -0.059099   \n",
              "\n",
              "                        lon  minutes_remaining    period  playoffs  \\\n",
              "game_event_id     -0.036144          -0.256954  0.960449       NaN   \n",
              "game_id            0.013283          -0.012726 -0.010312       NaN   \n",
              "lat               -0.027813           0.056295  0.008438       NaN   \n",
              "loc_x              1.000000           0.032197 -0.028128       NaN   \n",
              "loc_y              0.027813          -0.056295 -0.008438       NaN   \n",
              "lon                1.000000           0.032197 -0.028128       NaN   \n",
              "minutes_remaining  0.032197           1.000000 -0.019160       NaN   \n",
              "period            -0.028128          -0.019160  1.000000       NaN   \n",
              "playoffs                NaN                NaN       NaN       NaN   \n",
              "seconds_remaining -0.038191           0.030857 -0.012597       NaN   \n",
              "shot_distance      0.073700          -0.049937  0.004314       NaN   \n",
              "shot_made_flag     0.019830           0.025117 -0.029318       NaN   \n",
              "team_id                 NaN                NaN       NaN       NaN   \n",
              "shot_id            0.024730          -0.028193  0.015836       NaN   \n",
              "\n",
              "                   seconds_remaining  shot_distance  shot_made_flag  team_id  \\\n",
              "game_event_id              -0.038402       0.017654       -0.036044      NaN   \n",
              "game_id                     0.013478      -0.037993        0.010778      NaN   \n",
              "lat                         0.068704      -0.805006        0.149569      NaN   \n",
              "loc_x                      -0.038191       0.073700        0.019830      NaN   \n",
              "loc_y                      -0.068704       0.805006       -0.149569      NaN   \n",
              "lon                        -0.038191       0.073700        0.019830      NaN   \n",
              "minutes_remaining           0.030857      -0.049937        0.025117      NaN   \n",
              "period                     -0.012597       0.004314       -0.029318      NaN   \n",
              "playoffs                         NaN            NaN             NaN      NaN   \n",
              "seconds_remaining           1.000000      -0.050019        0.045542      NaN   \n",
              "shot_distance              -0.050019       1.000000       -0.195982      NaN   \n",
              "shot_made_flag              0.045542      -0.195982        1.000000      NaN   \n",
              "team_id                          NaN            NaN             NaN      NaN   \n",
              "shot_id                     0.003988      -0.056344       -0.013651      NaN   \n",
              "\n",
              "                    shot_id  \n",
              "game_event_id      0.033857  \n",
              "game_id            0.850040  \n",
              "lat                0.059099  \n",
              "loc_x              0.024730  \n",
              "loc_y             -0.059099  \n",
              "lon                0.024730  \n",
              "minutes_remaining -0.028193  \n",
              "period             0.015836  \n",
              "playoffs                NaN  \n",
              "seconds_remaining  0.003988  \n",
              "shot_distance     -0.056344  \n",
              "shot_made_flag    -0.013651  \n",
              "team_id                 NaN  \n",
              "shot_id            1.000000  "
            ]
          },
          "execution_count": 190,
          "metadata": {},
          "output_type": "execute_result"
        }
      ],
      "source": [
        "data.corr()"
      ]
    },
    {
      "cell_type": "markdown",
      "metadata": {
        "id": "YTHi0xi5zLYJ"
      },
      "source": [
        "## 시각화 Heatmap"
      ]
    },
    {
      "cell_type": "code",
      "execution_count": null,
      "metadata": {
        "ExecuteTime": {
          "end_time": "2020-09-14T16:18:55.111536Z",
          "start_time": "2020-09-14T16:18:54.247514Z"
        },
        "id": "iam43LoazLYJ",
        "outputId": "051f3efc-cfb8-43cd-f27b-6aa1f2037445"
      },
      "outputs": [
        {
          "name": "stdout",
          "output_type": "stream",
          "text": [
            "13.5 0.5\n"
          ]
        },
        {
          "data": {
            "image/png": "[encoded data removed]",
            "text/plain": [
              "<Figure size 576x576 with 2 Axes>"
            ]
          },
          "metadata": {
            "needs_background": "light"
          },
          "output_type": "display_data"
        }
      ],
      "source": [
        "%matplotlib inline\n",
        "import matplotlib.pyplot as plt \n",
        "import seaborn as sns\n",
        "\n",
        "fig, ax = plt.subplots(figsize=(8,8))\n",
        "sns.heatmap(data = data.corr(), annot=True, fmt = '.2f', linewidths=.5, cmap='Blues')\n",
        "\n",
        "# heatmap이 잘릴 대 아래 작성\n",
        "buttom, top = ax.get_ylim()\n",
        "print(buttom,top)\n",
        "ax.set_ylim(buttom+0.5,top-0.5)\n",
        "\n",
        "plt.show()"
      ]
    },
    {
      "cell_type": "markdown",
      "metadata": {
        "id": "bZzqqzELzLYJ"
      },
      "source": [
        "# 회귀분석"
      ]
    },
    {
      "cell_type": "markdown",
      "metadata": {
        "id": "I_yVqAZIzLYK"
      },
      "source": [
        "## 단순회귀분석\n",
        "- 종속변수를 하나의 독립변수로 설명하는 것\n",
        "- y ~ X1"
      ]
    },
    {
      "cell_type": "code",
      "execution_count": null,
      "metadata": {
        "ExecuteTime": {
          "end_time": "2020-09-15T11:52:25.842487Z",
          "start_time": "2020-09-15T11:52:25.815556Z"
        },
        "id": "0YbnrM-TzLYK",
        "outputId": "ed674dd9-f447-4f12-add5-ea017d601089"
      },
      "outputs": [
        {
          "data": {
            "text/html": [
              "<div>\n",
              "<style scoped>\n",
              "    .dataframe tbody tr th:only-of-type {\n",
              "        vertical-align: middle;\n",
              "    }\n",
              "\n",
              "    .dataframe tbody tr th {\n",
              "        vertical-align: top;\n",
              "    }\n",
              "\n",
              "    .dataframe thead th {\n",
              "        text-align: right;\n",
              "    }\n",
              "</style>\n",
              "<table border=\"1\" class=\"dataframe\">\n",
              "  <thead>\n",
              "    <tr style=\"text-align: right;\">\n",
              "      <th></th>\n",
              "      <th>height</th>\n",
              "      <th>weight</th>\n",
              "    </tr>\n",
              "  </thead>\n",
              "  <tbody>\n",
              "    <tr>\n",
              "      <td>0</td>\n",
              "      <td>170</td>\n",
              "      <td>70</td>\n",
              "    </tr>\n",
              "    <tr>\n",
              "      <td>1</td>\n",
              "      <td>168</td>\n",
              "      <td>66</td>\n",
              "    </tr>\n",
              "    <tr>\n",
              "      <td>2</td>\n",
              "      <td>177</td>\n",
              "      <td>73</td>\n",
              "    </tr>\n",
              "  </tbody>\n",
              "</table>\n",
              "</div>"
            ],
            "text/plain": [
              "   height  weight\n",
              "0     170      70\n",
              "1     168      66\n",
              "2     177      73"
            ]
          },
          "execution_count": 2,
          "metadata": {},
          "output_type": "execute_result"
        }
      ],
      "source": [
        "height = [170, 168, 177, 181 ,172, 171, 169, 175, 174, 178, 170, 167, 177, 182 ,173, 171, 170, 179, 175, 177, 186, 166, 183, 168]\n",
        "weight = [70, 66, 73, 77, 74, 73, 69, 79, 77, 80, 74, 68, 71, 76, 78, 72, 68, 79, 77, 81, 84, 73, 78, 69]\n",
        "\n",
        "body = pd.DataFrame(\n",
        "    {'height': height,\n",
        "    'weight': weight\n",
        "    }\n",
        ")\n",
        "body.head(3)"
      ]
    },
    {
      "cell_type": "code",
      "execution_count": null,
      "metadata": {
        "ExecuteTime": {
          "end_time": "2020-09-15T11:53:17.836468Z",
          "start_time": "2020-09-15T11:53:17.785557Z"
        },
        "id": "LoWYdKykzLYK",
        "outputId": "987b9770-f0e4-4cf9-b65f-292ac75b6034"
      },
      "outputs": [
        {
          "name": "stdout",
          "output_type": "stream",
          "text": [
            "R2 :  0.5893075473608536\n",
            "회귀계수 : [0.89042657]\n",
            "절편 :  107.86242266362746\n"
          ]
        }
      ],
      "source": [
        "import numpy as np\n",
        "from sklearn.linear_model import LinearRegression\n",
        "\n",
        "X = body['weight'].values.reshape(-1,1) #단순회귀일 때는 reshape 필수\n",
        "y = body['height']\n",
        "model = LinearRegression()\n",
        "model.fit(X, y)\n",
        "print('R2 : ', model.score(X, y))\n",
        "\n",
        "print('회귀계수 :',model.coef_)\n",
        "\n",
        "print('절편 : ', model.intercept_)"
      ]
    },
    {
      "cell_type": "code",
      "execution_count": null,
      "metadata": {
        "ExecuteTime": {
          "end_time": "2020-09-14T16:43:26.502265Z",
          "start_time": "2020-09-14T16:43:26.496268Z"
        },
        "id": "QcGsU8UlzLYK",
        "outputId": "a6e143a4-f768-4b09-dcea-fe281d907cad"
      },
      "outputs": [
        {
          "data": {
            "text/plain": [
              "array([179.09654836, 170.19228264, 196.90507978])"
            ]
          },
          "execution_count": 224,
          "metadata": {},
          "output_type": "execute_result"
        }
      ],
      "source": [
        "new = np.array([80, 70, 100]).reshape(-1,1) # predict할 때도 reshape 필수\n",
        "model.predict(new)"
      ]
    },
    {
      "cell_type": "markdown",
      "metadata": {
        "id": "YRmRJQcuzLYL"
      },
      "source": [
        "## 다중회귀분석\n",
        "- X가 두 개 이상"
      ]
    },
    {
      "cell_type": "markdown",
      "metadata": {
        "id": "VJGaipQ5zLYL"
      },
      "source": [
        "### 교호작용을 고려하지 않을 때"
      ]
    },
    {
      "cell_type": "code",
      "execution_count": null,
      "metadata": {
        "ExecuteTime": {
          "end_time": "2020-09-14T16:50:32.159771Z",
          "start_time": "2020-09-14T16:50:32.154767Z"
        },
        "id": "Xpxs3qjPzLYL"
      },
      "outputs": [],
      "source": [
        "import numpy as np\n",
        "from sklearn.linear_model import LinearRegression\n",
        "X = np.array([[1, 1], [1, 2], [2, 2], [2, 3]])\n",
        "# y = 1 * x_0 + 2 * x_1 + 3\n",
        "y = np.dot(X, np.array([1, 2])) + 3"
      ]
    },
    {
      "cell_type": "code",
      "execution_count": null,
      "metadata": {
        "ExecuteTime": {
          "end_time": "2020-09-14T16:50:06.958678Z",
          "start_time": "2020-09-14T16:50:06.952795Z"
        },
        "id": "Mbc56GjpzLYL",
        "outputId": "c2d39e61-2958-4cc1-802f-e755454da296"
      },
      "outputs": [
        {
          "data": {
            "text/plain": [
              "array([[1, 1],\n",
              "       [1, 2],\n",
              "       [2, 2],\n",
              "       [2, 3]])"
            ]
          },
          "execution_count": 233,
          "metadata": {},
          "output_type": "execute_result"
        }
      ],
      "source": [
        "X"
      ]
    },
    {
      "cell_type": "code",
      "execution_count": null,
      "metadata": {
        "ExecuteTime": {
          "end_time": "2020-09-14T16:50:07.175532Z",
          "start_time": "2020-09-14T16:50:07.170961Z"
        },
        "id": "sMNZ9oDozLYU",
        "outputId": "c5960867-5e7d-4a9d-c79e-0f8343893c27"
      },
      "outputs": [
        {
          "data": {
            "text/plain": [
              "array([ 6,  8,  9, 11])"
            ]
          },
          "execution_count": 234,
          "metadata": {},
          "output_type": "execute_result"
        }
      ],
      "source": [
        "y"
      ]
    },
    {
      "cell_type": "code",
      "execution_count": null,
      "metadata": {
        "ExecuteTime": {
          "end_time": "2020-09-14T16:50:40.881727Z",
          "start_time": "2020-09-14T16:50:40.872724Z"
        },
        "id": "Vp1EteD2zLYV",
        "outputId": "bf217f5e-bd77-431f-8060-77ecfb2f9052"
      },
      "outputs": [
        {
          "name": "stdout",
          "output_type": "stream",
          "text": [
            "R2 :  1.0\n",
            "회귀계수 : [1. 2.]\n",
            "절편 :  3.0000000000000018\n",
            "[16.]\n"
          ]
        }
      ],
      "source": [
        "model = LinearRegression().fit(X, y)\n",
        "print('R2 : ', model.score(X, y))\n",
        "\n",
        "print('회귀계수 :',model.coef_)\n",
        "\n",
        "print('절편 : ', model.intercept_)\n",
        "\n",
        "print(model.predict(np.array([[3, 5]])))"
      ]
    },
    {
      "cell_type": "markdown",
      "metadata": {
        "id": "Ua6QtjUvzLYV"
      },
      "source": [
        "### 교호작용을 고려할 때\n",
        "- 교호작용이란 A의 효과가 B의 서로 다른 수준 B1과 B2에서 일관성 있게 나타난다면 두 인자 A, B 간에는 교호작용이 없다고 하고, 만일 B가 ‘B1수준에 있을 때 A의 효과’와 ‘B2수준에 있을 때 A의 효과’간에 차이가 있을 때, A, B 간에 교호작용이 존재한다고 합니다.\n",
        "- X1, X2, X3가 있을 때 2차 교호작용 변수는 두 개 변수까지 곱하는 것, 3차는 세 개까지의 조합이겠지\n",
        "- 제곱을 하는 것은 교호가 아니라 다항의 개념"
      ]
    },
    {
      "cell_type": "code",
      "execution_count": null,
      "metadata": {
        "ExecuteTime": {
          "end_time": "2020-09-15T12:12:39.825817Z",
          "start_time": "2020-09-15T12:12:39.819832Z"
        },
        "id": "RA1gwoqJzLYV"
      },
      "outputs": [],
      "source": [
        "import numpy as np\n",
        "from sklearn.linear_model import LinearRegression\n",
        "X = np.array([[1, 1], [1, 2], [2, 2], [2, 3]])\n",
        "# y =   1 * x_0     +     2 * x_1     + 3\n",
        "y = np.dot(X, np.array([1, 2])) + 3"
      ]
    },
    {
      "cell_type": "code",
      "execution_count": null,
      "metadata": {
        "ExecuteTime": {
          "end_time": "2020-09-15T12:12:39.966439Z",
          "start_time": "2020-09-15T12:12:39.960455Z"
        },
        "id": "j_4G1fcZzLYW",
        "outputId": "cc9b05bb-cb51-4964-b6b9-878291143384"
      },
      "outputs": [
        {
          "data": {
            "text/plain": [
              "array([ 6,  8,  9, 11])"
            ]
          },
          "execution_count": 15,
          "metadata": {},
          "output_type": "execute_result"
        }
      ],
      "source": [
        "y"
      ]
    },
    {
      "cell_type": "code",
      "execution_count": null,
      "metadata": {
        "ExecuteTime": {
          "end_time": "2020-09-15T12:12:40.255665Z",
          "start_time": "2020-09-15T12:12:40.250681Z"
        },
        "id": "nuOaF9olzLYW",
        "outputId": "fa33c1d1-a08d-4419-bd8e-23cfcb431266"
      },
      "outputs": [
        {
          "data": {
            "text/plain": [
              "array([[1, 1],\n",
              "       [1, 2],\n",
              "       [2, 2],\n",
              "       [2, 3]])"
            ]
          },
          "execution_count": 16,
          "metadata": {},
          "output_type": "execute_result"
        }
      ],
      "source": [
        "X"
      ]
    },
    {
      "cell_type": "code",
      "execution_count": null,
      "metadata": {
        "ExecuteTime": {
          "end_time": "2020-09-15T12:14:38.761539Z",
          "start_time": "2020-09-15T12:14:38.753585Z"
        },
        "id": "wkL2e3RAzLYW",
        "outputId": "2f639114-28b4-4a70-8ad9-fc5174be5c7f"
      },
      "outputs": [
        {
          "data": {
            "text/plain": [
              "array([[1., 1., 1., 1.],\n",
              "       [1., 1., 2., 2.],\n",
              "       [1., 2., 2., 4.],\n",
              "       [1., 2., 3., 6.]])"
            ]
          },
          "execution_count": 22,
          "metadata": {},
          "output_type": "execute_result"
        }
      ],
      "source": [
        "from sklearn.preprocessing import PolynomialFeatures\n",
        "\n",
        "poly_d2 = PolynomialFeatures(degree=2, interaction_only=True)\n",
        "# degree = 2 는 2차까지 만든다는 뜻, X3까지 있으면 degree=3도 가능할 듯\n",
        "# interaction = True는 교호작용 변수만 만들고, 다항(제곱) 변수는 만들지 않겠다는 것\n",
        "X_poly = poly_d2.fit_transform(X)\n",
        "# 아래는 1, X1, X2, X1*X2 순\n",
        "X_poly"
      ]
    },
    {
      "cell_type": "code",
      "execution_count": null,
      "metadata": {
        "ExecuteTime": {
          "end_time": "2020-09-14T17:44:45.453023Z",
          "start_time": "2020-09-14T17:44:45.447153Z"
        },
        "id": "vCiRZXg9zLYW",
        "outputId": "db35b05f-1479-4d91-8c61-493599b321d3"
      },
      "outputs": [
        {
          "data": {
            "text/plain": [
              "array([ 6,  8,  9, 11])"
            ]
          },
          "execution_count": 295,
          "metadata": {},
          "output_type": "execute_result"
        }
      ],
      "source": [
        "y"
      ]
    },
    {
      "cell_type": "code",
      "execution_count": null,
      "metadata": {
        "ExecuteTime": {
          "end_time": "2020-09-15T12:15:23.324288Z",
          "start_time": "2020-09-15T12:15:23.316303Z"
        },
        "scrolled": true,
        "id": "ZaEsivZHzLYX",
        "outputId": "4d09ab97-dae2-408b-f156-3916fa98f178"
      },
      "outputs": [
        {
          "name": "stdout",
          "output_type": "stream",
          "text": [
            "R2 :  1.0\n",
            "회귀계수 : [ 0.00000000e+00  1.00000000e+00  2.00000000e+00 -1.55360188e-15]\n",
            "절편 :  2.9999999999999956\n",
            "[16.]\n"
          ]
        }
      ],
      "source": [
        "model = LinearRegression().fit(X_poly, y)\n",
        "print('R2 : ', model.score(X_poly, y))\n",
        "\n",
        "print('회귀계수 :',model.coef_)\n",
        "\n",
        "print('절편 : ', model.intercept_)\n",
        "\n",
        "print(model.predict(np.array([[1, 3, 5, 15]])))"
      ]
    },
    {
      "cell_type": "markdown",
      "metadata": {
        "id": "nvXxLfP1zLYX"
      },
      "source": [
        "### 다중회귀분석 예시 : 집값 예측"
      ]
    },
    {
      "cell_type": "code",
      "execution_count": 12,
      "metadata": {
        "ExecuteTime": {
          "end_time": "2020-09-15T11:53:30.841652Z",
          "start_time": "2020-09-15T11:53:29.847305Z"
        },
        "id": "FL-4qSXlzLYX",
        "outputId": "a4335a29-b66a-4ab7-9286-6ebab7df8afb",
        "colab": {
          "base_uri": "https://localhost:8080/",
          "height": 224
        }
      },
      "outputs": [
        {
          "output_type": "stream",
          "name": "stdout",
          "text": [
            "Boston 데이타셋 크기 : (506, 14)\n"
          ]
        },
        {
          "output_type": "execute_result",
          "data": {
            "text/plain": [
              "      CRIM    ZN  INDUS  CHAS    NOX     RM   AGE     DIS  RAD    TAX  \\\n",
              "0  0.00632  18.0   2.31   0.0  0.538  6.575  65.2  4.0900  1.0  296.0   \n",
              "1  0.02731   0.0   7.07   0.0  0.469  6.421  78.9  4.9671  2.0  242.0   \n",
              "2  0.02729   0.0   7.07   0.0  0.469  7.185  61.1  4.9671  2.0  242.0   \n",
              "3  0.03237   0.0   2.18   0.0  0.458  6.998  45.8  6.0622  3.0  222.0   \n",
              "4  0.06905   0.0   2.18   0.0  0.458  7.147  54.2  6.0622  3.0  222.0   \n",
              "\n",
              "   PTRATIO       B  LSTAT  PRICE  \n",
              "0     15.3  396.90   4.98   24.0  \n",
              "1     17.8  396.90   9.14   21.6  \n",
              "2     17.8  392.83   4.03   34.7  \n",
              "3     18.7  394.63   2.94   33.4  \n",
              "4     18.7  396.90   5.33   36.2  "
            ],
            "text/html": [
              "\n",
              "  <div id=\"df-6cd4cf25-e4cb-45cf-bf3b-4eeb0a98a376\">\n",
              "    <div class=\"colab-df-container\">\n",
              "      <div>\n",
              "<style scoped>\n",
              "    .dataframe tbody tr th:only-of-type {\n",
              "        vertical-align: middle;\n",
              "    }\n",
              "\n",
              "    .dataframe tbody tr th {\n",
              "        vertical-align: top;\n",
              "    }\n",
              "\n",
              "    .dataframe thead th {\n",
              "        text-align: right;\n",
              "    }\n",
              "</style>\n",
              "<table border=\"1\" class=\"dataframe\">\n",
              "  <thead>\n",
              "    <tr style=\"text-align: right;\">\n",
              "      <th></th>\n",
              "      <th>CRIM</th>\n",
              "      <th>ZN</th>\n",
              "      <th>INDUS</th>\n",
              "      <th>CHAS</th>\n",
              "      <th>NOX</th>\n",
              "      <th>RM</th>\n",
              "      <th>AGE</th>\n",
              "      <th>DIS</th>\n",
              "      <th>RAD</th>\n",
              "      <th>TAX</th>\n",
              "      <th>PTRATIO</th>\n",
              "      <th>B</th>\n",
              "      <th>LSTAT</th>\n",
              "      <th>PRICE</th>\n",
              "    </tr>\n",
              "  </thead>\n",
              "  <tbody>\n",
              "    <tr>\n",
              "      <th>0</th>\n",
              "      <td>0.00632</td>\n",
              "      <td>18.0</td>\n",
              "      <td>2.31</td>\n",
              "      <td>0.0</td>\n",
              "      <td>0.538</td>\n",
              "      <td>6.575</td>\n",
              "      <td>65.2</td>\n",
              "      <td>4.0900</td>\n",
              "      <td>1.0</td>\n",
              "      <td>296.0</td>\n",
              "      <td>15.3</td>\n",
              "      <td>396.90</td>\n",
              "      <td>4.98</td>\n",
              "      <td>24.0</td>\n",
              "    </tr>\n",
              "    <tr>\n",
              "      <th>1</th>\n",
              "      <td>0.02731</td>\n",
              "      <td>0.0</td>\n",
              "      <td>7.07</td>\n",
              "      <td>0.0</td>\n",
              "      <td>0.469</td>\n",
              "      <td>6.421</td>\n",
              "      <td>78.9</td>\n",
              "      <td>4.9671</td>\n",
              "      <td>2.0</td>\n",
              "      <td>242.0</td>\n",
              "      <td>17.8</td>\n",
              "      <td>396.90</td>\n",
              "      <td>9.14</td>\n",
              "      <td>21.6</td>\n",
              "    </tr>\n",
              "    <tr>\n",
              "      <th>2</th>\n",
              "      <td>0.02729</td>\n",
              "      <td>0.0</td>\n",
              "      <td>7.07</td>\n",
              "      <td>0.0</td>\n",
              "      <td>0.469</td>\n",
              "      <td>7.185</td>\n",
              "      <td>61.1</td>\n",
              "      <td>4.9671</td>\n",
              "      <td>2.0</td>\n",
              "      <td>242.0</td>\n",
              "      <td>17.8</td>\n",
              "      <td>392.83</td>\n",
              "      <td>4.03</td>\n",
              "      <td>34.7</td>\n",
              "    </tr>\n",
              "    <tr>\n",
              "      <th>3</th>\n",
              "      <td>0.03237</td>\n",
              "      <td>0.0</td>\n",
              "      <td>2.18</td>\n",
              "      <td>0.0</td>\n",
              "      <td>0.458</td>\n",
              "      <td>6.998</td>\n",
              "      <td>45.8</td>\n",
              "      <td>6.0622</td>\n",
              "      <td>3.0</td>\n",
              "      <td>222.0</td>\n",
              "      <td>18.7</td>\n",
              "      <td>394.63</td>\n",
              "      <td>2.94</td>\n",
              "      <td>33.4</td>\n",
              "    </tr>\n",
              "    <tr>\n",
              "      <th>4</th>\n",
              "      <td>0.06905</td>\n",
              "      <td>0.0</td>\n",
              "      <td>2.18</td>\n",
              "      <td>0.0</td>\n",
              "      <td>0.458</td>\n",
              "      <td>7.147</td>\n",
              "      <td>54.2</td>\n",
              "      <td>6.0622</td>\n",
              "      <td>3.0</td>\n",
              "      <td>222.0</td>\n",
              "      <td>18.7</td>\n",
              "      <td>396.90</td>\n",
              "      <td>5.33</td>\n",
              "      <td>36.2</td>\n",
              "    </tr>\n",
              "  </tbody>\n",
              "</table>\n",
              "</div>\n",
              "      <button class=\"colab-df-convert\" onclick=\"convertToInteractive('df-6cd4cf25-e4cb-45cf-bf3b-4eeb0a98a376')\"\n",
              "              title=\"Convert this dataframe to an interactive table.\"\n",
              "              style=\"display:none;\">\n",
              "        \n",
              "  <svg xmlns=\"http://www.w3.org/2000/svg\" height=\"24px\"viewBox=\"0 0 24 24\"\n",
              "       width=\"24px\">\n",
              "    <path d=\"M0 0h24v24H0V0z\" fill=\"none\"/>\n",
              "    <path d=\"M18.56 5.44l.94 2.06.94-2.06 2.06-.94-2.06-.94-.94-2.06-.94 2.06-2.06.94zm-11 1L8.5 8.5l.94-2.06 2.06-.94-2.06-.94L8.5 2.5l-.94 2.06-2.06.94zm10 10l.94 2.06.94-2.06 2.06-.94-2.06-.94-.94-2.06-.94 2.06-2.06.94z\"/><path d=\"M17.41 7.96l-1.37-1.37c-.4-.4-.92-.59-1.43-.59-.52 0-1.04.2-1.43.59L10.3 9.45l-7.72 7.72c-.78.78-.78 2.05 0 2.83L4 21.41c.39.39.9.59 1.41.59.51 0 1.02-.2 1.41-.59l7.78-7.78 2.81-2.81c.8-.78.8-2.07 0-2.86zM5.41 20L4 18.59l7.72-7.72 1.47 1.35L5.41 20z\"/>\n",
              "  </svg>\n",
              "      </button>\n",
              "      \n",
              "  <style>\n",
              "    .colab-df-container {\n",
              "      display:flex;\n",
              "      flex-wrap:wrap;\n",
              "      gap: 12px;\n",
              "    }\n",
              "\n",
              "    .colab-df-convert {\n",
              "      background-color: #E8F0FE;\n",
              "      border: none;\n",
              "      border-radius: 50%;\n",
              "      cursor: pointer;\n",
              "      display: none;\n",
              "      fill: #1967D2;\n",
              "      height: 32px;\n",
              "      padding: 0 0 0 0;\n",
              "      width: 32px;\n",
              "    }\n",
              "\n",
              "    .colab-df-convert:hover {\n",
              "      background-color: #E2EBFA;\n",
              "      box-shadow: 0px 1px 2px rgba(60, 64, 67, 0.3), 0px 1px 3px 1px rgba(60, 64, 67, 0.15);\n",
              "      fill: #174EA6;\n",
              "    }\n",
              "\n",
              "    [theme=dark] .colab-df-convert {\n",
              "      background-color: #3B4455;\n",
              "      fill: #D2E3FC;\n",
              "    }\n",
              "\n",
              "    [theme=dark] .colab-df-convert:hover {\n",
              "      background-color: #434B5C;\n",
              "      box-shadow: 0px 1px 3px 1px rgba(0, 0, 0, 0.15);\n",
              "      filter: drop-shadow(0px 1px 2px rgba(0, 0, 0, 0.3));\n",
              "      fill: #FFFFFF;\n",
              "    }\n",
              "  </style>\n",
              "\n",
              "      <script>\n",
              "        const buttonEl =\n",
              "          document.querySelector('#df-6cd4cf25-e4cb-45cf-bf3b-4eeb0a98a376 button.colab-df-convert');\n",
              "        buttonEl.style.display =\n",
              "          google.colab.kernel.accessAllowed ? 'block' : 'none';\n",
              "\n",
              "        async function convertToInteractive(key) {\n",
              "          const element = document.querySelector('#df-6cd4cf25-e4cb-45cf-bf3b-4eeb0a98a376');\n",
              "          const dataTable =\n",
              "            await google.colab.kernel.invokeFunction('convertToInteractive',\n",
              "                                                     [key], {});\n",
              "          if (!dataTable) return;\n",
              "\n",
              "          const docLinkHtml = 'Like what you see? Visit the ' +\n",
              "            '<a target=\"_blank\" href=https://colab.research.google.com/notebooks/data_table.ipynb>data table notebook</a>'\n",
              "            + ' to learn more about interactive tables.';\n",
              "          element.innerHTML = '';\n",
              "          dataTable['output_type'] = 'display_data';\n",
              "          await google.colab.output.renderOutput(dataTable, element);\n",
              "          const docLink = document.createElement('div');\n",
              "          docLink.innerHTML = docLinkHtml;\n",
              "          element.appendChild(docLink);\n",
              "        }\n",
              "      </script>\n",
              "    </div>\n",
              "  </div>\n",
              "  "
            ]
          },
          "metadata": {},
          "execution_count": 12
        }
      ],
      "source": [
        "import numpy as np\n",
        "import matplotlib.pyplot as plt\n",
        "import pandas as pd\n",
        "import seaborn as sns\n",
        "from scipy import stats\n",
        "#from sklearn.datasets import load_boston\n",
        "%matplotlib inline\n",
        "\n",
        "# boston 데이타셋 로드\n",
        "# boston = load_boston()\n",
        "data_url = \"http://lib.stat.cmu.edu/datasets/boston\"\n",
        "raw_df = pd.read_csv(data_url, sep=\"\\s+\", skiprows=22, header=None)\n",
        "bostonDF = pd.DataFrame(np.hstack([raw_df.values[::2, :], raw_df.values[1::2, :2]]),\n",
        "                        columns=['CRIM', 'ZN', 'INDUS', 'CHAS', 'NOX', 'RM', 'AGE',\n",
        "                                 'DIS', 'RAD', 'TAX', 'PTRATIO', 'B', 'LSTAT'])\n",
        "bostonDF['PRICE'] = raw_df.values[1::2, 2]\n",
        "\n",
        "# boston 데이타셋 DataFrame 변환 \n",
        "#bostonDF = pd.DataFrame(boston.data , columns = boston.feature_names)\n",
        "\n",
        "# boston dataset의 target array는 주택 가격임. 이를 PRICE 컬럼으로 DataFrame에 추가함. \n",
        "#bostonDF['PRICE'] = boston.target\n",
        "print('Boston 데이타셋 크기 :',bostonDF.shape)\n",
        "bostonDF.head()"
      ]
    },
    {
      "cell_type": "code",
      "source": [
        "fig, axs = plt.subplots(figsize=(16,8), ncols=4, nrows=2)\n",
        "lm_features = ['RM', 'ZN', 'INDUS', 'NOX', 'AGE', 'PTRATIO', 'LSTAT', 'RAD']\n",
        "for i, feature in enumerate(lm_features):\n",
        "  row = int(i/4)\n",
        "  col = i%4\n",
        "  sns.regplot(x=feature, y='PRICE', data=bostonDF, ax=axs[row][col])"
      ],
      "metadata": {
        "id": "rZy9_aMEzZCf",
        "outputId": "85ce9f8b-5ac9-4e77-85ff-266965a34997",
        "colab": {
          "base_uri": "https://localhost:8080/",
          "height": 616
        }
      },
      "execution_count": 10,
      "outputs": [
        {
          "output_type": "display_data",
          "data": {
            "text/plain": [
              "<Figure size 1600x800 with 8 Axes>"
            ],
            "image/png": "[encoded data removed]"
          },
          "metadata": {}
        }
      ]
    },
    {
      "cell_type": "code",
      "execution_count": 13,
      "metadata": {
        "ExecuteTime": {
          "end_time": "2020-09-15T11:55:04.847266Z",
          "start_time": "2020-09-15T11:55:04.790419Z"
        },
        "id": "n1pQWS2azLYY",
        "outputId": "93836894-63cc-4cda-f5ef-ac9045c9045b",
        "colab": {
          "base_uri": "https://localhost:8080/"
        }
      },
      "outputs": [
        {
          "output_type": "stream",
          "name": "stdout",
          "text": [
            "MSE : 17.297 , RMSE : 4.159\n",
            "Variance score : 0.757\n"
          ]
        }
      ],
      "source": [
        "from sklearn.model_selection import train_test_split\n",
        "from sklearn.linear_model import LinearRegression\n",
        "from sklearn.metrics import mean_squared_error , r2_score\n",
        "\n",
        "y_target = bostonDF['PRICE']\n",
        "X_data = bostonDF.drop(['PRICE'],axis=1,inplace=False)\n",
        "\n",
        "X_train , X_test , y_train , y_test = train_test_split(X_data , y_target ,test_size=0.3, random_state=156)\n",
        "\n",
        "# Linear Regression OLS로 학습/예측/평가 수행. \n",
        "lr = LinearRegression()\n",
        "lr.fit(X_train ,y_train )\n",
        "y_preds = lr.predict(X_test)\n",
        "mse = mean_squared_error(y_test, y_preds)\n",
        "rmse = np.sqrt(mse)\n",
        "\n",
        "print('MSE : {0:.3f} , RMSE : {1:.3F}'.format(mse , rmse))\n",
        "print('Variance score : {0:.3f}'.format(r2_score(y_test, y_preds)))"
      ]
    },
    {
      "cell_type": "code",
      "execution_count": 12,
      "metadata": {
        "ExecuteTime": {
          "end_time": "2020-09-15T12:18:04.328486Z",
          "start_time": "2020-09-15T12:18:04.322502Z"
        },
        "id": "JwBggmH1zLYY",
        "outputId": "3691735d-34b4-4bbf-b5ff-b1f3633ceb9b",
        "colab": {
          "base_uri": "https://localhost:8080/"
        }
      },
      "outputs": [
        {
          "output_type": "stream",
          "name": "stdout",
          "text": [
            "절편 값: 40.995595172164826\n",
            "회귀 계수값: [ -0.1   0.1   0.    3.  -19.8   3.4   0.   -1.7   0.4  -0.   -0.9   0.\n",
            "  -0.6]\n"
          ]
        }
      ],
      "source": [
        "print('절편 값:',lr.intercept_)\n",
        "print('회귀 계수값:', np.round(lr.coef_, 1))"
      ]
    },
    {
      "cell_type": "code",
      "execution_count": null,
      "metadata": {
        "ExecuteTime": {
          "end_time": "2020-09-15T12:18:19.529815Z",
          "start_time": "2020-09-15T12:18:19.520840Z"
        },
        "scrolled": true,
        "id": "iRFbbR3SzLYY",
        "outputId": "132d492c-8a9d-418d-ffcf-86c96e983244"
      },
      "outputs": [
        {
          "data": {
            "text/plain": [
              "RM          3.4\n",
              "CHAS        3.0\n",
              "RAD         0.4\n",
              "ZN          0.1\n",
              "B           0.0\n",
              "TAX        -0.0\n",
              "AGE         0.0\n",
              "INDUS       0.0\n",
              "CRIM       -0.1\n",
              "LSTAT      -0.6\n",
              "PTRATIO    -0.9\n",
              "DIS        -1.7\n",
              "NOX       -19.8\n",
              "dtype: float64"
            ]
          },
          "execution_count": 34,
          "metadata": {},
          "output_type": "execute_result"
        }
      ],
      "source": [
        "# 회귀 계수를 큰 값 순으로 정렬하기 위해 Series로 생성. index가 컬럼명에 유의\n",
        "coeff = pd.Series(data=np.round(lr.coef_, 1), index=X_data.columns )\n",
        "coeff.sort_values(ascending=False)"
      ]
    },
    {
      "cell_type": "markdown",
      "metadata": {
        "id": "NU8PmPBBzLYY"
      },
      "source": [
        "#### Cross Validation 해보기\n",
        "- 사이킷런 cross_val_score는 평가지표가 클수록 좋은 모델로 판단\n",
        "- 회귀는 mse가 작을수록 좋은 모델이므로 평가지표를 neg_mean_squared_error로 사용"
      ]
    },
    {
      "cell_type": "code",
      "execution_count": null,
      "metadata": {
        "ExecuteTime": {
          "end_time": "2020-09-15T12:42:38.673968Z",
          "start_time": "2020-09-15T12:42:38.637067Z"
        },
        "id": "Is4LTVIPzLYZ",
        "outputId": "14de4b06-7317-4364-fb02-ef5dce765051"
      },
      "outputs": [
        {
          "name": "stdout",
          "output_type": "stream",
          "text": [
            " 5 folds 의 개별 Negative MSE scores:  [-12.46 -26.05 -33.07 -80.76 -33.31]\n",
            " 5 folds 의 개별 RMSE scores :  [3.53 5.1  5.75 8.99 5.77]\n",
            " 5 folds 의 평균 RMSE : 5.829 \n"
          ]
        }
      ],
      "source": [
        "from sklearn.model_selection import cross_val_score\n",
        "\n",
        "y_target = bostonDF['PRICE']\n",
        "X_data = bostonDF.drop(['PRICE'],axis=1,inplace=False)\n",
        "lr = LinearRegression()\n",
        "\n",
        "# cross_val_score( )로 5 Fold 셋으로 MSE 를 구한 뒤 이를 기반으로 다시  RMSE 구함. \n",
        "neg_mse_scores = cross_val_score(lr, X_data, y_target, scoring=\"neg_mean_squared_error\", cv = 5)\n",
        "rmse_scores  = np.sqrt(-1 * neg_mse_scores)\n",
        "avg_rmse = np.mean(rmse_scores)\n",
        "\n",
        "# cross_val_score(scoring=\"neg_mean_squared_error\")로 반환된 값은 모두 음수 \n",
        "print(' 5 folds 의 개별 Negative MSE scores: ', np.round(neg_mse_scores, 2))\n",
        "print(' 5 folds 의 개별 RMSE scores : ', np.round(rmse_scores, 2))\n",
        "print(' 5 folds 의 평균 RMSE : {0:.3f} '.format(avg_rmse))"
      ]
    },
    {
      "cell_type": "markdown",
      "metadata": {
        "id": "mY_t3NrfzLYZ"
      },
      "source": [
        "## 다항회귀분석\n",
        "- 종속변수와 독립변수의 관계가 선형이 아닐 때\n",
        "- 차수가 높을수록 과적합"
      ]
    },
    {
      "cell_type": "code",
      "source": [
        "from sklearn.preprocessing import PolynomialFeatures\n",
        "from sklearn.linear_model import LinearRegression\n",
        "import numpy as np\n",
        "\n",
        "def polynomial_func(X):\n",
        "  y = 1 + 2*X[:,0] + 3*X[:,0]**2 + 4*X[:,1]**3\n",
        "  return y\n",
        "\n",
        "X = np.arange(4).reshape(2,2)\n",
        "print('일차 단항식 계수 피처:\\n', X)\n",
        "y = polynomial_func(X)\n",
        "print('삼차 다항식 결정값: \\n', y)\n",
        "\n",
        "poly = PolynomialFeatures(degree=3) # degree는 몇 제곱까지할지 정하는 것\n",
        "poly_ftr = poly.fit_transform(X)\n",
        "print('3차 다항식 계수 피처:\\n', poly_ftr)"
      ],
      "metadata": {
        "id": "6ZEoiiFcKe8q",
        "outputId": "deeb2ca2-d99b-4d91-f284-5c98c7fec4fb",
        "colab": {
          "base_uri": "https://localhost:8080/"
        }
      },
      "execution_count": 2,
      "outputs": [
        {
          "output_type": "stream",
          "name": "stdout",
          "text": [
            "일차 단항식 계수 피처:\n",
            " [[0 1]\n",
            " [2 3]]\n",
            "삼차 다항식 결정값: \n",
            " [  5 125]\n",
            "3차 다항식 계수 피처:\n",
            " [[ 1.  0.  1.  0.  0.  1.  0.  0.  0.  1.]\n",
            " [ 1.  2.  3.  4.  6.  9.  8. 12. 18. 27.]]\n"
          ]
        }
      ]
    },
    {
      "cell_type": "code",
      "execution_count": 3,
      "metadata": {
        "ExecuteTime": {
          "end_time": "2020-09-15T12:27:49.138040Z",
          "start_time": "2020-09-15T12:27:49.129050Z"
        },
        "id": "yKcDeF0XzLYa",
        "outputId": "76850655-27e4-4ada-9d10-ed89810ef036",
        "colab": {
          "base_uri": "https://localhost:8080/"
        }
      },
      "outputs": [
        {
          "output_type": "stream",
          "name": "stdout",
          "text": [
            "회귀계수 : [0.58 0.15 0.73 0.3  0.45 1.18 0.6  0.89 1.34 2.51]  저차항부터 시작, 오른쪽 끝이 X^3\n",
            "R2 :  1.0\n"
          ]
        }
      ],
      "source": [
        "model = LinearRegression(fit_intercept=False)\n",
        "model.fit(poly_ftr, y)\n",
        "print('회귀계수 :', np.round(model.coef_, 2), ' 저차항부터 시작, 오른쪽 끝이 X^3')\n",
        "print('R2 : ', model.score(poly_ftr, y))"
      ]
    },
    {
      "cell_type": "code",
      "source": [
        "from sklearn.pipeline import Pipeline\n",
        "\n",
        "model = Pipeline([('poly', PolynomialFeatures(degree=3)),\n",
        "                  ('linear', LinearRegression())])\n",
        "model = model.fit(X, y)\n",
        "\n",
        "print('Polynomial 회귀 계수\\n', np.round(model.named_steps['linear'].coef_, 2))"
      ],
      "metadata": {
        "id": "BeOpawuUJlVd",
        "outputId": "b88eaaed-88c9-4286-f4f6-07781f5b907b",
        "colab": {
          "base_uri": "https://localhost:8080/"
        }
      },
      "execution_count": 7,
      "outputs": [
        {
          "output_type": "stream",
          "name": "stdout",
          "text": [
            "Polynomial 회귀 계수\n",
            " [0.   0.18 0.18 0.36 0.54 0.72 0.72 1.08 1.62 2.34]\n"
          ]
        }
      ]
    },
    {
      "cell_type": "code",
      "source": [
        "import numpy as np\n",
        "import matplotlib.pyplot as plt\n",
        "from sklearn.pipeline import Pipeline\n",
        "from sklearn.preprocessing import PolynomialFeatures\n",
        "from sklearn.linear_model import LinearRegression\n",
        "from sklearn.model_selection import cross_val_score\n",
        "%matplotlib inline\n",
        "\n",
        "# 임의의 값으로 구성된 X값에 대해 코사인 변환 값을 반환\n",
        "def true_fun(X):\n",
        "  return np.cos(1.5 * np.pi * X)\n",
        "\n",
        "np.random.seed(0)\n",
        "n_samples = 30\n",
        "X = np.sort(np.random.rand(n_samples))\n",
        "y = true_fun(X) + np.random.randn(n_samples) * 0.1\n",
        "\n",
        "plt.figure(figsize=(14,5))\n",
        "degrees = [1, 4, 15]\n",
        "for i in range(len(degrees)):\n",
        "  ax = plt.subplot(1, len(degrees), i+1)\n",
        "  plt.setp(ax, xticks=(), yticks=())\n",
        "\n",
        "  # 개별 degree별로 Polynomial 변환\n",
        "  polynomial_features = PolynomialFeatures(degree=degrees[i], include_bias=False)\n",
        "  linear_regression = LinearRegression()\n",
        "  pipeline = Pipeline([('Polynomial_fetures', polynomial_features),\n",
        "                       ('linear_regression', linear_regression)])\n",
        "  pipeline.fit(X.reshape(-1, 1), y)\n",
        "\n",
        "  # 교차검증으로 다항회귀 평가\n",
        "  scores = cross_val_score(pipeline, X.reshape(-1, 1), y, \n",
        "                           scoring='neg_mean_squared_error', cv=10)\n",
        "  coefficients = pipeline.named_steps['linear_regression'].coef_\n",
        "  print('\\nDegress {0} 회귀 계수는 {1}입니다.'.format(degrees[i], np.round(coefficients,2)))\n",
        "  print('\\nDegress {0} MSE는 {1}입니다.'.format(degrees[i], -1*np.mean(scores)))\n",
        "\n",
        "  X_test = np.linspace(0, 1, 100)\n",
        "  plt.plot(X_test, pipeline.predict(X_test[:, np.newaxis]), label='Model')\n",
        "  plt.plot(X_test, true_fun(X_test), '--', label='True function')\n",
        "  plt.scatter(X, y, edgecolor='b', s=20, label='Samples')\n",
        "\n",
        "  plt.xlabel('x');  plt.ylabel('y')\n",
        "  plt.xlim((0,1));  plt.ylim((-2,2))\n",
        "  plt.legend(loc='best')\n",
        "  plt.title('Degree {}\\nMSE={:.2e}(+/- {:.2e})'.format(degrees[i], -scores.mean(), scores.std()))\n",
        "\n",
        "plt.show()"
      ],
      "metadata": {
        "id": "ceOBGoVCOTfH",
        "outputId": "9a2ad607-08d7-49ea-c5c7-870a18b32757",
        "colab": {
          "base_uri": "https://localhost:8080/",
          "height": 764
        }
      },
      "execution_count": 9,
      "outputs": [
        {
          "output_type": "stream",
          "name": "stdout",
          "text": [
            "\n",
            "Degress 1 회귀 계수는 [-1.61]입니다.\n",
            "\n",
            "Degress 1 MSE는 0.4077289625098685입니다.\n",
            "\n",
            "Degress 4 회귀 계수는 [  0.47 -17.79  23.59  -7.26]입니다.\n",
            "\n",
            "Degress 4 MSE는 0.04320874987232064입니다.\n",
            "\n",
            "Degress 15 회귀 계수는 [-2.98293000e+03  1.03899390e+05 -1.87416123e+06  2.03716219e+07\n",
            " -1.44873283e+08  7.09315363e+08 -2.47065792e+09  6.24561050e+09\n",
            " -1.15676510e+10  1.56894936e+10 -1.54006023e+10  1.06457264e+10\n",
            " -4.91377530e+09  1.35919645e+09 -1.70380786e+08]입니다.\n",
            "\n",
            "Degress 15 MSE는 181238256.56423894입니다.\n"
          ]
        },
        {
          "output_type": "display_data",
          "data": {
            "text/plain": [
              "<Figure size 1400x500 with 3 Axes>"
            ],
            "image/png": "[encoded data removed]"
          },
          "metadata": {}
        }
      ]
    },
    {
      "cell_type": "markdown",
      "source": [
        "degree가 너무 작으면 과소적합, 크면 과적합되기 쉽다.  \n",
        "degree 1은 고편향, degree 15는 고분산 특징을 가짐. 저편향, 저분산이 좋은 성능을 보여준다고 할 수 있다.  \n",
        "편향과 분산은 서로 트레이드오프 관계이다."
      ],
      "metadata": {
        "id": "Ud-zGWERT1es"
      }
    },
    {
      "cell_type": "markdown",
      "metadata": {
        "id": "xZB6qgDezLYb"
      },
      "source": [
        "### 규제를 통한 과적합 개선\n",
        "- 비용함수에 규제 추가\n",
        "- $min(RSS(w) + alpha ||w||^2_2)$\n",
        "- alpha가 클수록 w가 작아지게 학습됨"
      ]
    },
    {
      "cell_type": "markdown",
      "metadata": {
        "id": "2LbUpzc6zLYb"
      },
      "source": [
        "#### Ridge - L2\n",
        "- 회귀계수 W의 제곱에 페널티를 부과하는 것\n",
        "- L2 규제"
      ]
    },
    {
      "cell_type": "code",
      "execution_count": null,
      "metadata": {
        "ExecuteTime": {
          "end_time": "2020-09-15T12:43:00.345015Z",
          "start_time": "2020-09-15T12:43:00.306118Z"
        },
        "id": "bsJxiCIVzLYb",
        "outputId": "0e37362d-9db5-4983-fa02-37bb5626f8bf"
      },
      "outputs": [
        {
          "name": "stdout",
          "output_type": "stream",
          "text": [
            " 5 folds 의 개별 Negative MSE scores:  [-11.422 -24.294 -28.144 -74.599 -28.517]\n",
            " 5 folds 의 개별 RMSE scores :  [3.38  4.929 5.305 8.637 5.34 ]\n",
            " 5 folds 의 평균 RMSE : 5.518 \n"
          ]
        }
      ],
      "source": [
        "# 앞의 LinearRegression예제에서 분할한 feature 데이터 셋인 X_data과 Target 데이터 셋인 Y_target 데이터셋을 그대로 이용 \n",
        "from sklearn.linear_model import Ridge\n",
        "from sklearn.model_selection import cross_val_score\n",
        "\n",
        "ridge = Ridge(alpha = 10)\n",
        "neg_mse_scores = cross_val_score(ridge, X_data, y_target, scoring=\"neg_mean_squared_error\", cv = 5)\n",
        "rmse_scores  = np.sqrt(-1 * neg_mse_scores)\n",
        "avg_rmse = np.mean(rmse_scores)\n",
        "print(' 5 folds 의 개별 Negative MSE scores: ', np.round(neg_mse_scores, 3))\n",
        "print(' 5 folds 의 개별 RMSE scores : ', np.round(rmse_scores,3))\n",
        "print(' 5 folds 의 평균 RMSE : {0:.3f} '.format(avg_rmse))"
      ]
    },
    {
      "cell_type": "markdown",
      "metadata": {
        "id": "l2CZdMJVzLYb"
      },
      "source": [
        "- 기본 선형회귀보다 결과가 개선된 것을 알 수 있다. "
      ]
    },
    {
      "cell_type": "code",
      "execution_count": null,
      "metadata": {
        "ExecuteTime": {
          "end_time": "2020-09-15T12:44:26.972349Z",
          "start_time": "2020-09-15T12:44:26.807790Z"
        },
        "id": "Bx3ela36zLYb",
        "outputId": "27e51ce1-2942-4c81-d4ad-5cb35675c264"
      },
      "outputs": [
        {
          "name": "stdout",
          "output_type": "stream",
          "text": [
            "alpha 0 일 때 5 folds 의 평균 RMSE : 5.829 \n",
            "alpha 0.1 일 때 5 folds 의 평균 RMSE : 5.788 \n",
            "alpha 1 일 때 5 folds 의 평균 RMSE : 5.653 \n",
            "alpha 10 일 때 5 folds 의 평균 RMSE : 5.518 \n",
            "alpha 100 일 때 5 folds 의 평균 RMSE : 5.330 \n"
          ]
        }
      ],
      "source": [
        "# Ridge에 사용될 alpha 파라미터의 값들을 정의\n",
        "alphas = [0 , 0.1 , 1 , 10 , 100]\n",
        "\n",
        "# alphas list 값을 iteration하면서 alpha에 따른 평균 rmse 구함.\n",
        "for alpha in alphas :\n",
        "    ridge = Ridge(alpha = alpha)\n",
        "    \n",
        "    #cross_val_score를 이용하여 5 fold의 평균 RMSE 계산\n",
        "    neg_mse_scores = cross_val_score(ridge, X_data, y_target, scoring=\"neg_mean_squared_error\", cv = 5)\n",
        "    avg_rmse = np.mean(np.sqrt(-1 * neg_mse_scores))\n",
        "    print('alpha {0} 일 때 5 folds 의 평균 RMSE : {1:.3f} '.format(alpha,avg_rmse))"
      ]
    },
    {
      "cell_type": "code",
      "execution_count": null,
      "metadata": {
        "ExecuteTime": {
          "end_time": "2020-09-15T12:45:02.876332Z",
          "start_time": "2020-09-15T12:45:01.905928Z"
        },
        "id": "5Uol6hzazLYc",
        "outputId": "80eaecf5-35e9-468e-e4df-6e064c796796"
      },
      "outputs": [
        {
          "data": {
            "image/png": "[encoded data removed]",
            "text/plain": [
              "<Figure size 1296x432 with 5 Axes>"
            ]
          },
          "metadata": {
            "needs_background": "light"
          },
          "output_type": "display_data"
        }
      ],
      "source": [
        "# 각 alpha에 따른 회귀 계수 값을 시각화하기 위해 5개의 열로 된 맷플롯립 축 생성  \n",
        "fig , axs = plt.subplots(figsize=(18,6) , nrows=1 , ncols=5)\n",
        "# 각 alpha에 따른 회귀 계수 값을 데이터로 저장하기 위한 DataFrame 생성  \n",
        "coeff_df = pd.DataFrame()\n",
        "\n",
        "# alphas 리스트 값을 차례로 입력해 회귀 계수 값 시각화 및 데이터 저장. pos는 axis의 위치 지정\n",
        "for pos , alpha in enumerate(alphas) :\n",
        "    ridge = Ridge(alpha = alpha)\n",
        "    ridge.fit(X_data , y_target)\n",
        "    # alpha에 따른 피처별 회귀 계수를 Series로 변환하고 이를 DataFrame의 컬럼으로 추가.  \n",
        "    coeff = pd.Series(data=ridge.coef_ , index=X_data.columns )\n",
        "    colname='alpha:'+str(alpha)\n",
        "    coeff_df[colname] = coeff\n",
        "    # 막대 그래프로 각 alpha 값에서의 회귀 계수를 시각화. 회귀 계수값이 높은 순으로 표현\n",
        "    coeff = coeff.sort_values(ascending=False)\n",
        "    axs[pos].set_title(colname)\n",
        "    axs[pos].set_xlim(-3,6)\n",
        "    sns.barplot(x=coeff.values , y=coeff.index, ax=axs[pos])\n",
        "\n",
        "# for 문 바깥에서 맷플롯립의 show 호출 및 alpha에 따른 피처별 회귀 계수를 DataFrame으로 표시\n",
        "plt.show()\n"
      ]
    },
    {
      "cell_type": "markdown",
      "source": [
        "alpha가 클수록 회귀계수가 작아지지만 회귀 계수가 0이 되지는 않는다."
      ],
      "metadata": {
        "id": "y3y6uXfkjqXu"
      }
    },
    {
      "cell_type": "code",
      "execution_count": null,
      "metadata": {
        "ExecuteTime": {
          "end_time": "2020-09-15T12:45:39.102462Z",
          "start_time": "2020-09-15T12:45:39.087493Z"
        },
        "id": "e8IE9dR7zLYc",
        "outputId": "2fecb269-ccad-4e75-de57-7fb81b5caf8f"
      },
      "outputs": [
        {
          "data": {
            "text/html": [
              "<div>\n",
              "<style scoped>\n",
              "    .dataframe tbody tr th:only-of-type {\n",
              "        vertical-align: middle;\n",
              "    }\n",
              "\n",
              "    .dataframe tbody tr th {\n",
              "        vertical-align: top;\n",
              "    }\n",
              "\n",
              "    .dataframe thead th {\n",
              "        text-align: right;\n",
              "    }\n",
              "</style>\n",
              "<table border=\"1\" class=\"dataframe\">\n",
              "  <thead>\n",
              "    <tr style=\"text-align: right;\">\n",
              "      <th></th>\n",
              "      <th>alpha:0</th>\n",
              "      <th>alpha:0.1</th>\n",
              "      <th>alpha:1</th>\n",
              "      <th>alpha:10</th>\n",
              "      <th>alpha:100</th>\n",
              "    </tr>\n",
              "  </thead>\n",
              "  <tbody>\n",
              "    <tr>\n",
              "      <td>RM</td>\n",
              "      <td>3.809865</td>\n",
              "      <td>3.818233</td>\n",
              "      <td>3.854000</td>\n",
              "      <td>3.702272</td>\n",
              "      <td>2.334536</td>\n",
              "    </tr>\n",
              "    <tr>\n",
              "      <td>CHAS</td>\n",
              "      <td>2.686734</td>\n",
              "      <td>2.670019</td>\n",
              "      <td>2.552393</td>\n",
              "      <td>1.952021</td>\n",
              "      <td>0.638335</td>\n",
              "    </tr>\n",
              "    <tr>\n",
              "      <td>RAD</td>\n",
              "      <td>0.306049</td>\n",
              "      <td>0.303515</td>\n",
              "      <td>0.290142</td>\n",
              "      <td>0.279596</td>\n",
              "      <td>0.315358</td>\n",
              "    </tr>\n",
              "    <tr>\n",
              "      <td>ZN</td>\n",
              "      <td>0.046420</td>\n",
              "      <td>0.046572</td>\n",
              "      <td>0.047443</td>\n",
              "      <td>0.049579</td>\n",
              "      <td>0.054496</td>\n",
              "    </tr>\n",
              "    <tr>\n",
              "      <td>INDUS</td>\n",
              "      <td>0.020559</td>\n",
              "      <td>0.015999</td>\n",
              "      <td>-0.008805</td>\n",
              "      <td>-0.042962</td>\n",
              "      <td>-0.052826</td>\n",
              "    </tr>\n",
              "    <tr>\n",
              "      <td>B</td>\n",
              "      <td>0.009312</td>\n",
              "      <td>0.009368</td>\n",
              "      <td>0.009673</td>\n",
              "      <td>0.010037</td>\n",
              "      <td>0.009393</td>\n",
              "    </tr>\n",
              "    <tr>\n",
              "      <td>AGE</td>\n",
              "      <td>0.000692</td>\n",
              "      <td>-0.000269</td>\n",
              "      <td>-0.005415</td>\n",
              "      <td>-0.010707</td>\n",
              "      <td>0.001212</td>\n",
              "    </tr>\n",
              "    <tr>\n",
              "      <td>TAX</td>\n",
              "      <td>-0.012335</td>\n",
              "      <td>-0.012421</td>\n",
              "      <td>-0.012912</td>\n",
              "      <td>-0.013993</td>\n",
              "      <td>-0.015856</td>\n",
              "    </tr>\n",
              "    <tr>\n",
              "      <td>CRIM</td>\n",
              "      <td>-0.108011</td>\n",
              "      <td>-0.107474</td>\n",
              "      <td>-0.104595</td>\n",
              "      <td>-0.101435</td>\n",
              "      <td>-0.102202</td>\n",
              "    </tr>\n",
              "    <tr>\n",
              "      <td>LSTAT</td>\n",
              "      <td>-0.524758</td>\n",
              "      <td>-0.525966</td>\n",
              "      <td>-0.533343</td>\n",
              "      <td>-0.559366</td>\n",
              "      <td>-0.660764</td>\n",
              "    </tr>\n",
              "    <tr>\n",
              "      <td>PTRATIO</td>\n",
              "      <td>-0.952747</td>\n",
              "      <td>-0.940759</td>\n",
              "      <td>-0.876074</td>\n",
              "      <td>-0.797945</td>\n",
              "      <td>-0.829218</td>\n",
              "    </tr>\n",
              "    <tr>\n",
              "      <td>DIS</td>\n",
              "      <td>-1.475567</td>\n",
              "      <td>-1.459626</td>\n",
              "      <td>-1.372654</td>\n",
              "      <td>-1.248808</td>\n",
              "      <td>-1.153390</td>\n",
              "    </tr>\n",
              "    <tr>\n",
              "      <td>NOX</td>\n",
              "      <td>-17.766611</td>\n",
              "      <td>-16.684645</td>\n",
              "      <td>-10.777015</td>\n",
              "      <td>-2.371619</td>\n",
              "      <td>-0.262847</td>\n",
              "    </tr>\n",
              "  </tbody>\n",
              "</table>\n",
              "</div>"
            ],
            "text/plain": [
              "           alpha:0  alpha:0.1    alpha:1  alpha:10  alpha:100\n",
              "RM        3.809865   3.818233   3.854000  3.702272   2.334536\n",
              "CHAS      2.686734   2.670019   2.552393  1.952021   0.638335\n",
              "RAD       0.306049   0.303515   0.290142  0.279596   0.315358\n",
              "ZN        0.046420   0.046572   0.047443  0.049579   0.054496\n",
              "INDUS     0.020559   0.015999  -0.008805 -0.042962  -0.052826\n",
              "B         0.009312   0.009368   0.009673  0.010037   0.009393\n",
              "AGE       0.000692  -0.000269  -0.005415 -0.010707   0.001212\n",
              "TAX      -0.012335  -0.012421  -0.012912 -0.013993  -0.015856\n",
              "CRIM     -0.108011  -0.107474  -0.104595 -0.101435  -0.102202\n",
              "LSTAT    -0.524758  -0.525966  -0.533343 -0.559366  -0.660764\n",
              "PTRATIO  -0.952747  -0.940759  -0.876074 -0.797945  -0.829218\n",
              "DIS      -1.475567  -1.459626  -1.372654 -1.248808  -1.153390\n",
              "NOX     -17.766611 -16.684645 -10.777015 -2.371619  -0.262847"
            ]
          },
          "execution_count": 43,
          "metadata": {},
          "output_type": "execute_result"
        }
      ],
      "source": [
        "ridge_alphas = [0 , 0.1 , 1 , 10 , 100]\n",
        "sort_column = 'alpha:'+str(ridge_alphas[0])\n",
        "coeff_df.sort_values(by=sort_column, ascending=False)"
      ]
    },
    {
      "cell_type": "markdown",
      "metadata": {
        "id": "LuZm4hvKzLYc"
      },
      "source": [
        "#### Lasso - L1\n",
        "- 회귀계수 W의 절댓값에 페널티를 부과하는 것\n",
        "- 영향력이 크지 않은 회귀계수를 0으로 변환하여 변수 선택 효과가 있음"
      ]
    },
    {
      "cell_type": "code",
      "execution_count": 10,
      "metadata": {
        "ExecuteTime": {
          "end_time": "2020-09-15T12:46:16.913337Z",
          "start_time": "2020-09-15T12:46:16.903364Z"
        },
        "id": "cehrj_QhzLYd"
      },
      "outputs": [],
      "source": [
        "from sklearn.linear_model import Lasso, ElasticNet\n",
        "\n",
        "# alpha값에 따른 회귀 모델의 폴드 평균 RMSE를 출력하고 회귀 계수값들을 DataFrame으로 반환 \n",
        "def get_linear_reg_eval(model_name, params=None, X_data_n=None, y_target_n=None, verbose=True):\n",
        "    coeff_df = pd.DataFrame()\n",
        "    if verbose : print('####### ', model_name , '#######')\n",
        "    for param in params:\n",
        "        if model_name =='Ridge': model = Ridge(alpha=param)\n",
        "        elif model_name =='Lasso': model = Lasso(alpha=param)\n",
        "        elif model_name =='ElasticNet': model = ElasticNet(alpha=param, l1_ratio=0.7)\n",
        "        neg_mse_scores = cross_val_score(model, X_data_n, \n",
        "                                             y_target_n, scoring=\"neg_mean_squared_error\", cv = 5)\n",
        "        avg_rmse = np.mean(np.sqrt(-1 * neg_mse_scores))\n",
        "        print('alpha {0}일 때 5 폴드 세트의 평균 RMSE: {1:.3f} '.format(param, avg_rmse))\n",
        "        # cross_val_score는 evaluation metric만 반환하므로 모델을 다시 학습하여 회귀 계수 추출\n",
        "        model.fit(X_data_n , y_target_n)\n",
        "        # alpha에 따른 피처별 회귀 계수를 Series로 변환하고 이를 DataFrame의 컬럼으로 추가. \n",
        "        coeff = pd.Series(data=model.coef_ , index=X_data_n.columns )\n",
        "        colname='alpha:'+str(param)\n",
        "        coeff_df[colname] = coeff\n",
        "    return coeff_df\n",
        "# end of get_linear_regre_eval"
      ]
    },
    {
      "cell_type": "code",
      "execution_count": 14,
      "metadata": {
        "ExecuteTime": {
          "end_time": "2020-09-15T12:46:25.599124Z",
          "start_time": "2020-09-15T12:46:25.465472Z"
        },
        "id": "6K30zpeqzLYd",
        "outputId": "4369068e-91eb-423f-cc88-1c9366868cda",
        "colab": {
          "base_uri": "https://localhost:8080/"
        }
      },
      "outputs": [
        {
          "output_type": "stream",
          "name": "stdout",
          "text": [
            "#######  Lasso #######\n",
            "alpha 0.07일 때 5 폴드 세트의 평균 RMSE: 5.612 \n",
            "alpha 0.1일 때 5 폴드 세트의 평균 RMSE: 5.615 \n",
            "alpha 0.5일 때 5 폴드 세트의 평균 RMSE: 5.669 \n",
            "alpha 1일 때 5 폴드 세트의 평균 RMSE: 5.776 \n",
            "alpha 3일 때 5 폴드 세트의 평균 RMSE: 6.189 \n"
          ]
        }
      ],
      "source": [
        "# 라쏘에 사용될 alpha 파라미터의 값들을 정의하고 get_linear_reg_eval() 함수 호출\n",
        "lasso_alphas = [ 0.07, 0.1, 0.5, 1, 3]\n",
        "coeff_lasso_df =get_linear_reg_eval('Lasso', params=lasso_alphas, X_data_n=X_data, y_target_n=y_target)"
      ]
    },
    {
      "cell_type": "code",
      "execution_count": null,
      "metadata": {
        "ExecuteTime": {
          "end_time": "2020-09-15T12:46:37.854339Z",
          "start_time": "2020-09-15T12:46:37.840374Z"
        },
        "scrolled": false,
        "id": "l2zAH_ebzLYd",
        "outputId": "daae3793-f941-4f8c-e0c9-f80c780db888"
      },
      "outputs": [
        {
          "data": {
            "text/html": [
              "<div>\n",
              "<style scoped>\n",
              "    .dataframe tbody tr th:only-of-type {\n",
              "        vertical-align: middle;\n",
              "    }\n",
              "\n",
              "    .dataframe tbody tr th {\n",
              "        vertical-align: top;\n",
              "    }\n",
              "\n",
              "    .dataframe thead th {\n",
              "        text-align: right;\n",
              "    }\n",
              "</style>\n",
              "<table border=\"1\" class=\"dataframe\">\n",
              "  <thead>\n",
              "    <tr style=\"text-align: right;\">\n",
              "      <th></th>\n",
              "      <th>alpha:0.07</th>\n",
              "      <th>alpha:0.1</th>\n",
              "      <th>alpha:0.5</th>\n",
              "      <th>alpha:1</th>\n",
              "      <th>alpha:3</th>\n",
              "    </tr>\n",
              "  </thead>\n",
              "  <tbody>\n",
              "    <tr>\n",
              "      <td>RM</td>\n",
              "      <td>3.789725</td>\n",
              "      <td>3.703202</td>\n",
              "      <td>2.498212</td>\n",
              "      <td>0.949811</td>\n",
              "      <td>0.000000</td>\n",
              "    </tr>\n",
              "    <tr>\n",
              "      <td>CHAS</td>\n",
              "      <td>1.434343</td>\n",
              "      <td>0.955190</td>\n",
              "      <td>0.000000</td>\n",
              "      <td>0.000000</td>\n",
              "      <td>0.000000</td>\n",
              "    </tr>\n",
              "    <tr>\n",
              "      <td>RAD</td>\n",
              "      <td>0.270936</td>\n",
              "      <td>0.274707</td>\n",
              "      <td>0.277451</td>\n",
              "      <td>0.264206</td>\n",
              "      <td>0.061864</td>\n",
              "    </tr>\n",
              "    <tr>\n",
              "      <td>ZN</td>\n",
              "      <td>0.049059</td>\n",
              "      <td>0.049211</td>\n",
              "      <td>0.049544</td>\n",
              "      <td>0.049165</td>\n",
              "      <td>0.037231</td>\n",
              "    </tr>\n",
              "    <tr>\n",
              "      <td>B</td>\n",
              "      <td>0.010248</td>\n",
              "      <td>0.010249</td>\n",
              "      <td>0.009469</td>\n",
              "      <td>0.008247</td>\n",
              "      <td>0.006510</td>\n",
              "    </tr>\n",
              "    <tr>\n",
              "      <td>NOX</td>\n",
              "      <td>-0.000000</td>\n",
              "      <td>-0.000000</td>\n",
              "      <td>-0.000000</td>\n",
              "      <td>-0.000000</td>\n",
              "      <td>0.000000</td>\n",
              "    </tr>\n",
              "    <tr>\n",
              "      <td>AGE</td>\n",
              "      <td>-0.011706</td>\n",
              "      <td>-0.010037</td>\n",
              "      <td>0.003604</td>\n",
              "      <td>0.020910</td>\n",
              "      <td>0.042495</td>\n",
              "    </tr>\n",
              "    <tr>\n",
              "      <td>TAX</td>\n",
              "      <td>-0.014290</td>\n",
              "      <td>-0.014570</td>\n",
              "      <td>-0.015442</td>\n",
              "      <td>-0.015212</td>\n",
              "      <td>-0.008602</td>\n",
              "    </tr>\n",
              "    <tr>\n",
              "      <td>INDUS</td>\n",
              "      <td>-0.042120</td>\n",
              "      <td>-0.036619</td>\n",
              "      <td>-0.005253</td>\n",
              "      <td>-0.000000</td>\n",
              "      <td>-0.000000</td>\n",
              "    </tr>\n",
              "    <tr>\n",
              "      <td>CRIM</td>\n",
              "      <td>-0.098193</td>\n",
              "      <td>-0.097894</td>\n",
              "      <td>-0.083289</td>\n",
              "      <td>-0.063437</td>\n",
              "      <td>-0.000000</td>\n",
              "    </tr>\n",
              "    <tr>\n",
              "      <td>LSTAT</td>\n",
              "      <td>-0.560431</td>\n",
              "      <td>-0.568769</td>\n",
              "      <td>-0.656290</td>\n",
              "      <td>-0.761115</td>\n",
              "      <td>-0.807679</td>\n",
              "    </tr>\n",
              "    <tr>\n",
              "      <td>PTRATIO</td>\n",
              "      <td>-0.765107</td>\n",
              "      <td>-0.770654</td>\n",
              "      <td>-0.758752</td>\n",
              "      <td>-0.722966</td>\n",
              "      <td>-0.265072</td>\n",
              "    </tr>\n",
              "    <tr>\n",
              "      <td>DIS</td>\n",
              "      <td>-1.176583</td>\n",
              "      <td>-1.160538</td>\n",
              "      <td>-0.936605</td>\n",
              "      <td>-0.668790</td>\n",
              "      <td>-0.000000</td>\n",
              "    </tr>\n",
              "  </tbody>\n",
              "</table>\n",
              "</div>"
            ],
            "text/plain": [
              "         alpha:0.07  alpha:0.1  alpha:0.5   alpha:1   alpha:3\n",
              "RM         3.789725   3.703202   2.498212  0.949811  0.000000\n",
              "CHAS       1.434343   0.955190   0.000000  0.000000  0.000000\n",
              "RAD        0.270936   0.274707   0.277451  0.264206  0.061864\n",
              "ZN         0.049059   0.049211   0.049544  0.049165  0.037231\n",
              "B          0.010248   0.010249   0.009469  0.008247  0.006510\n",
              "NOX       -0.000000  -0.000000  -0.000000 -0.000000  0.000000\n",
              "AGE       -0.011706  -0.010037   0.003604  0.020910  0.042495\n",
              "TAX       -0.014290  -0.014570  -0.015442 -0.015212 -0.008602\n",
              "INDUS     -0.042120  -0.036619  -0.005253 -0.000000 -0.000000\n",
              "CRIM      -0.098193  -0.097894  -0.083289 -0.063437 -0.000000\n",
              "LSTAT     -0.560431  -0.568769  -0.656290 -0.761115 -0.807679\n",
              "PTRATIO   -0.765107  -0.770654  -0.758752 -0.722966 -0.265072\n",
              "DIS       -1.176583  -1.160538  -0.936605 -0.668790 -0.000000"
            ]
          },
          "execution_count": 46,
          "metadata": {},
          "output_type": "execute_result"
        }
      ],
      "source": [
        "# 반환된 coeff_lasso_df를 첫번째 컬럼순으로 내림차순 정렬하여 회귀계수 DataFrame출력\n",
        "sort_column = 'alpha:'+str(lasso_alphas[0])\n",
        "coeff_lasso_df.sort_values(by=sort_column, ascending=False)"
      ]
    },
    {
      "cell_type": "markdown",
      "metadata": {
        "id": "nxLZZHXZzLYd"
      },
      "source": [
        "#### Elastic Net\n",
        "- 릿지 라쏘의 규제를 결합한 회귀\n",
        "- alpha값에 따라 회귀 계수의 값이 급격히 변동할 수 있는데 이를 완화하기 위해 L2 규제를 라쏘에 추가"
      ]
    },
    {
      "cell_type": "code",
      "execution_count": null,
      "metadata": {
        "ExecuteTime": {
          "end_time": "2020-09-15T12:48:50.486655Z",
          "start_time": "2020-09-15T12:48:50.343039Z"
        },
        "id": "CDhSrSpGzLYe",
        "outputId": "77e8417e-436c-4c72-f40c-37f9429b206a"
      },
      "outputs": [
        {
          "name": "stdout",
          "output_type": "stream",
          "text": [
            "#######  ElasticNet #######\n",
            "alpha 0.07일 때 5 폴드 세트의 평균 RMSE: 5.542 \n",
            "alpha 0.1일 때 5 폴드 세트의 평균 RMSE: 5.526 \n",
            "alpha 0.5일 때 5 폴드 세트의 평균 RMSE: 5.467 \n",
            "alpha 1일 때 5 폴드 세트의 평균 RMSE: 5.597 \n",
            "alpha 3일 때 5 폴드 세트의 평균 RMSE: 6.068 \n"
          ]
        }
      ],
      "source": [
        "# 엘라스틱넷에 사용될 alpha 파라미터의 값들을 정의하고 get_linear_reg_eval() 함수 호출\n",
        "# l1_ratio는 0.7로 고정\n",
        "elastic_alphas = [ 0.07, 0.1, 0.5, 1, 3]\n",
        "coeff_elastic_df =get_linear_reg_eval('ElasticNet', params=elastic_alphas,\n",
        "                                      X_data_n=X_data, y_target_n=y_target)"
      ]
    },
    {
      "cell_type": "code",
      "execution_count": null,
      "metadata": {
        "ExecuteTime": {
          "end_time": "2020-09-15T12:49:24.805886Z",
          "start_time": "2020-09-15T12:49:24.792923Z"
        },
        "id": "eOvY9ui7zLYe",
        "outputId": "837a31be-6b2f-43d5-a74a-e52bd925cd54"
      },
      "outputs": [
        {
          "data": {
            "text/html": [
              "<div>\n",
              "<style scoped>\n",
              "    .dataframe tbody tr th:only-of-type {\n",
              "        vertical-align: middle;\n",
              "    }\n",
              "\n",
              "    .dataframe tbody tr th {\n",
              "        vertical-align: top;\n",
              "    }\n",
              "\n",
              "    .dataframe thead th {\n",
              "        text-align: right;\n",
              "    }\n",
              "</style>\n",
              "<table border=\"1\" class=\"dataframe\">\n",
              "  <thead>\n",
              "    <tr style=\"text-align: right;\">\n",
              "      <th></th>\n",
              "      <th>alpha:0.07</th>\n",
              "      <th>alpha:0.1</th>\n",
              "      <th>alpha:0.5</th>\n",
              "      <th>alpha:1</th>\n",
              "      <th>alpha:3</th>\n",
              "    </tr>\n",
              "  </thead>\n",
              "  <tbody>\n",
              "    <tr>\n",
              "      <td>RM</td>\n",
              "      <td>3.574162</td>\n",
              "      <td>3.414154</td>\n",
              "      <td>1.918419</td>\n",
              "      <td>0.938789</td>\n",
              "      <td>0.000000</td>\n",
              "    </tr>\n",
              "    <tr>\n",
              "      <td>CHAS</td>\n",
              "      <td>1.330724</td>\n",
              "      <td>0.979706</td>\n",
              "      <td>0.000000</td>\n",
              "      <td>0.000000</td>\n",
              "      <td>0.000000</td>\n",
              "    </tr>\n",
              "    <tr>\n",
              "      <td>RAD</td>\n",
              "      <td>0.278880</td>\n",
              "      <td>0.283443</td>\n",
              "      <td>0.300761</td>\n",
              "      <td>0.289299</td>\n",
              "      <td>0.146846</td>\n",
              "    </tr>\n",
              "    <tr>\n",
              "      <td>ZN</td>\n",
              "      <td>0.050107</td>\n",
              "      <td>0.050617</td>\n",
              "      <td>0.052878</td>\n",
              "      <td>0.052136</td>\n",
              "      <td>0.038268</td>\n",
              "    </tr>\n",
              "    <tr>\n",
              "      <td>B</td>\n",
              "      <td>0.010122</td>\n",
              "      <td>0.010067</td>\n",
              "      <td>0.009114</td>\n",
              "      <td>0.008320</td>\n",
              "      <td>0.007020</td>\n",
              "    </tr>\n",
              "    <tr>\n",
              "      <td>AGE</td>\n",
              "      <td>-0.010116</td>\n",
              "      <td>-0.008276</td>\n",
              "      <td>0.007760</td>\n",
              "      <td>0.020348</td>\n",
              "      <td>0.043446</td>\n",
              "    </tr>\n",
              "    <tr>\n",
              "      <td>TAX</td>\n",
              "      <td>-0.014522</td>\n",
              "      <td>-0.014814</td>\n",
              "      <td>-0.016046</td>\n",
              "      <td>-0.016218</td>\n",
              "      <td>-0.011417</td>\n",
              "    </tr>\n",
              "    <tr>\n",
              "      <td>INDUS</td>\n",
              "      <td>-0.044855</td>\n",
              "      <td>-0.042719</td>\n",
              "      <td>-0.023252</td>\n",
              "      <td>-0.000000</td>\n",
              "      <td>-0.000000</td>\n",
              "    </tr>\n",
              "    <tr>\n",
              "      <td>CRIM</td>\n",
              "      <td>-0.099468</td>\n",
              "      <td>-0.099213</td>\n",
              "      <td>-0.089070</td>\n",
              "      <td>-0.073577</td>\n",
              "      <td>-0.019058</td>\n",
              "    </tr>\n",
              "    <tr>\n",
              "      <td>NOX</td>\n",
              "      <td>-0.175072</td>\n",
              "      <td>-0.000000</td>\n",
              "      <td>-0.000000</td>\n",
              "      <td>-0.000000</td>\n",
              "      <td>-0.000000</td>\n",
              "    </tr>\n",
              "    <tr>\n",
              "      <td>LSTAT</td>\n",
              "      <td>-0.574822</td>\n",
              "      <td>-0.587702</td>\n",
              "      <td>-0.693861</td>\n",
              "      <td>-0.760457</td>\n",
              "      <td>-0.800368</td>\n",
              "    </tr>\n",
              "    <tr>\n",
              "      <td>PTRATIO</td>\n",
              "      <td>-0.779498</td>\n",
              "      <td>-0.784725</td>\n",
              "      <td>-0.790969</td>\n",
              "      <td>-0.738672</td>\n",
              "      <td>-0.423065</td>\n",
              "    </tr>\n",
              "    <tr>\n",
              "      <td>DIS</td>\n",
              "      <td>-1.189438</td>\n",
              "      <td>-1.173647</td>\n",
              "      <td>-0.975902</td>\n",
              "      <td>-0.725174</td>\n",
              "      <td>-0.031208</td>\n",
              "    </tr>\n",
              "  </tbody>\n",
              "</table>\n",
              "</div>"
            ],
            "text/plain": [
              "         alpha:0.07  alpha:0.1  alpha:0.5   alpha:1   alpha:3\n",
              "RM         3.574162   3.414154   1.918419  0.938789  0.000000\n",
              "CHAS       1.330724   0.979706   0.000000  0.000000  0.000000\n",
              "RAD        0.278880   0.283443   0.300761  0.289299  0.146846\n",
              "ZN         0.050107   0.050617   0.052878  0.052136  0.038268\n",
              "B          0.010122   0.010067   0.009114  0.008320  0.007020\n",
              "AGE       -0.010116  -0.008276   0.007760  0.020348  0.043446\n",
              "TAX       -0.014522  -0.014814  -0.016046 -0.016218 -0.011417\n",
              "INDUS     -0.044855  -0.042719  -0.023252 -0.000000 -0.000000\n",
              "CRIM      -0.099468  -0.099213  -0.089070 -0.073577 -0.019058\n",
              "NOX       -0.175072  -0.000000  -0.000000 -0.000000 -0.000000\n",
              "LSTAT     -0.574822  -0.587702  -0.693861 -0.760457 -0.800368\n",
              "PTRATIO   -0.779498  -0.784725  -0.790969 -0.738672 -0.423065\n",
              "DIS       -1.189438  -1.173647  -0.975902 -0.725174 -0.031208"
            ]
          },
          "execution_count": 48,
          "metadata": {},
          "output_type": "execute_result"
        }
      ],
      "source": [
        "# 반환된 coeff_elastic_df를 첫번째 컬럼순으로 내림차순 정렬하여 회귀계수 DataFrame출력\n",
        "sort_column = 'alpha:'+str(elastic_alphas[0])\n",
        "coeff_elastic_df.sort_values(by=sort_column, ascending=False)"
      ]
    },
    {
      "cell_type": "markdown",
      "metadata": {
        "id": "LOq9T80izLYe"
      },
      "source": [
        "## 트리 계열 회귀\n",
        "- 비선형 회귀\n",
        "- 분류 트리가 특정 클래스 레이블을 결정하는 것과 달리 회귀 트리는 리프 노드에 소한 데이터 값의 평균값으로 회귀 예측값 계산\n",
        "### Random Forest Regressor"
      ]
    },
    {
      "cell_type": "code",
      "execution_count": 15,
      "metadata": {
        "ExecuteTime": {
          "end_time": "2020-09-15T15:32:52.998356Z",
          "start_time": "2020-09-15T15:32:52.676218Z"
        },
        "id": "ZN_dd6xAzLYf"
      },
      "outputs": [],
      "source": [
        "#from sklearn.datasets import load_boston\n",
        "from sklearn.model_selection import cross_val_score\n",
        "from sklearn.ensemble import RandomForestRegressor\n",
        "import pandas as pd\n",
        "import numpy as np\n",
        "\n",
        "# 보스턴 데이터 세트 로드\n",
        "# boston = load_boston()\n",
        "data_url = \"http://lib.stat.cmu.edu/datasets/boston\"\n",
        "raw_df = pd.read_csv(data_url, sep=\"\\s+\", skiprows=22, header=None)\n",
        "bostonDF = pd.DataFrame(np.hstack([raw_df.values[::2, :], raw_df.values[1::2, :2]]),\n",
        "                        columns=['CRIM', 'ZN', 'INDUS', 'CHAS', 'NOX', 'RM', 'AGE',\n",
        "                                 'DIS', 'RAD', 'TAX', 'PTRATIO', 'B', 'LSTAT'])\n",
        "bostonDF['PRICE'] = raw_df.values[1::2, 2]\n",
        "\n",
        "y_target = bostonDF['PRICE']\n",
        "X_data = bostonDF.drop(['PRICE'], axis=1,inplace=False)"
      ]
    },
    {
      "cell_type": "code",
      "execution_count": 16,
      "metadata": {
        "ExecuteTime": {
          "end_time": "2020-09-15T15:33:06.339492Z",
          "start_time": "2020-09-15T15:32:53.512970Z"
        },
        "id": "pGsCGTnlzLYf",
        "outputId": "357bb7b3-11a1-4b7b-8b23-425de522202c",
        "colab": {
          "base_uri": "https://localhost:8080/"
        }
      },
      "outputs": [
        {
          "output_type": "stream",
          "name": "stdout",
          "text": [
            " 5 교차 검증의 개별 Negative MSE scores:  [ -7.88 -13.14 -20.57 -46.23 -18.88]\n",
            " 5 교차 검증의 개별 RMSE scores :  [2.81 3.63 4.54 6.8  4.34]\n",
            " 5 교차 검증의 평균 RMSE : 4.423 \n"
          ]
        }
      ],
      "source": [
        "# 모델링\n",
        "rf = RandomForestRegressor(random_state=0, n_estimators=1000)\n",
        "neg_mse_scores = cross_val_score(rf, X_data, y_target, scoring=\"neg_mean_squared_error\", cv = 5)\n",
        "rmse_scores  = np.sqrt(-1 * neg_mse_scores)\n",
        "avg_rmse = np.mean(rmse_scores)\n",
        "\n",
        "print(' 5 교차 검증의 개별 Negative MSE scores: ', np.round(neg_mse_scores, 2))\n",
        "print(' 5 교차 검증의 개별 RMSE scores : ', np.round(rmse_scores, 2))\n",
        "print(' 5 교차 검증의 평균 RMSE : {0:.3f} '.format(avg_rmse))"
      ]
    },
    {
      "cell_type": "markdown",
      "metadata": {
        "id": "RjyOJ5RjzLYg"
      },
      "source": [
        "### Decision Tree, Gradient Boosting, XGB, LGB"
      ]
    },
    {
      "cell_type": "markdown",
      "metadata": {
        "ExecuteTime": {
          "end_time": "2020-09-15T15:44:59.446204Z",
          "start_time": "2020-09-15T15:44:59.443185Z"
        },
        "id": "yKnze4RqzLYg"
      },
      "source": [
        "#### 여러 알고리즘 성능 한 번에 비교(아래에 하나씩 돌리는 거 따로 정리)"
      ]
    },
    {
      "cell_type": "code",
      "execution_count": 18,
      "metadata": {
        "ExecuteTime": {
          "end_time": "2020-09-15T15:42:50.972865Z",
          "start_time": "2020-09-15T15:42:50.965884Z"
        },
        "id": "HFP_M0L0zLYg"
      },
      "outputs": [],
      "source": [
        "# 모델, X, y를 넣고 5 CV 평균 RMSE 계산하는 함수\n",
        "def get_model_cv_prediction(model, X_data, y_target):\n",
        "    neg_mse_scores = cross_val_score(model, X_data, y_target, scoring=\"neg_mean_squared_error\", cv = 5)\n",
        "    rmse_scores  = np.sqrt(-1 * neg_mse_scores)\n",
        "    avg_rmse = np.mean(rmse_scores)\n",
        "    print('##### ',model.__class__.__name__ , ' #####')\n",
        "    print(' 5 교차 검증의 평균 RMSE : {0:.3f} '.format(avg_rmse))"
      ]
    },
    {
      "cell_type": "code",
      "execution_count": 19,
      "metadata": {
        "ExecuteTime": {
          "end_time": "2020-09-15T15:43:16.910438Z",
          "start_time": "2020-09-15T15:42:56.281610Z"
        },
        "id": "amtAEyX2zLYg",
        "outputId": "f70d7172-c31b-4869-98bb-7047a90d1530",
        "colab": {
          "base_uri": "https://localhost:8080/"
        }
      },
      "outputs": [
        {
          "output_type": "stream",
          "name": "stdout",
          "text": [
            "#####  DecisionTreeRegressor  #####\n",
            " 5 교차 검증의 평균 RMSE : 5.978 \n",
            "#####  RandomForestRegressor  #####\n",
            " 5 교차 검증의 평균 RMSE : 4.423 \n",
            "#####  GradientBoostingRegressor  #####\n",
            " 5 교차 검증의 평균 RMSE : 4.269 \n",
            "#####  XGBRegressor  #####\n",
            " 5 교차 검증의 평균 RMSE : 4.251 \n",
            "#####  LGBMRegressor  #####\n",
            " 5 교차 검증의 평균 RMSE : 4.646 \n"
          ]
        }
      ],
      "source": [
        "from sklearn.tree import DecisionTreeRegressor\n",
        "from sklearn.ensemble import GradientBoostingRegressor\n",
        "from xgboost import XGBRegressor\n",
        "from lightgbm import LGBMRegressor\n",
        "\n",
        "dt_reg = DecisionTreeRegressor(random_state=0, max_depth=4)\n",
        "rf_reg = RandomForestRegressor(random_state=0, n_estimators=1000)\n",
        "gb_reg = GradientBoostingRegressor(random_state=0, n_estimators=1000)\n",
        "xgb_reg = XGBRegressor(n_estimators=1000)\n",
        "lgb_reg = LGBMRegressor(n_estimators=1000)\n",
        "\n",
        "# 트리 기반의 회귀 모델을 반복하면서 평가 수행 \n",
        "models = [dt_reg, rf_reg, gb_reg, xgb_reg, lgb_reg]\n",
        "for model in models:  \n",
        "    get_model_cv_prediction(model, X_data, y_target)"
      ]
    },
    {
      "cell_type": "markdown",
      "metadata": {
        "id": "q5Y7sS4pzLYh"
      },
      "source": [
        "#### Random Forest의 Feature Importance 시각화\n",
        "- 회귀 계수 coef_ 함수가 없으므로 feature_importances_를 이용"
      ]
    },
    {
      "cell_type": "code",
      "execution_count": null,
      "metadata": {
        "ExecuteTime": {
          "end_time": "2020-09-15T16:02:25.255253Z",
          "start_time": "2020-09-15T16:02:21.108146Z"
        },
        "id": "a6j1-YrgzLYh",
        "outputId": "120db6ff-57b2-4310-a639-6f0e178d4603"
      },
      "outputs": [
        {
          "data": {
            "text/plain": [
              "<matplotlib.axes._subplots.AxesSubplot at 0x1a48a330b48>"
            ]
          },
          "execution_count": 76,
          "metadata": {},
          "output_type": "execute_result"
        },
        {
          "data": {
            "image/png": "[encoded data removed]",
            "text/plain": [
              "<Figure size 432x288 with 1 Axes>"
            ]
          },
          "metadata": {
            "needs_background": "light"
          },
          "output_type": "display_data"
        }
      ],
      "source": [
        "import seaborn as sns\n",
        "%matplotlib inline\n",
        "\n",
        "rf_reg = RandomForestRegressor(n_estimators=1000)\n",
        "\n",
        "# 앞 예제에서 만들어진 X_data, y_target 데이터 셋을 적용하여 학습합니다.   \n",
        "rf_reg.fit(X_data, y_target)\n",
        "\n",
        "feature_series = pd.Series(data=rf_reg.feature_importances_, index=X_data.columns )\n",
        "feature_series = feature_series.sort_values(ascending=False)\n",
        "sns.barplot(x= feature_series, y=feature_series.index)"
      ]
    },
    {
      "cell_type": "markdown",
      "metadata": {
        "id": "PXfvmCuOzLYi"
      },
      "source": [
        "## 혼합모델(결과 더하는 거)\n",
        "- 모델별 가중치는 기준이 있는 것은 아님\n",
        "- 개별 모델 중에 성능 좋은 쪽에 약간 더 가중치를 주는 정도"
      ]
    },
    {
      "cell_type": "code",
      "execution_count": null,
      "metadata": {
        "id": "ZHTFmqbazLYi"
      },
      "outputs": [],
      "source": [
        "# 개별 모델 예측\n",
        "# 릿지와 라쏘 섞어보기\n",
        "ridge_pred = ridge_reg.predict(X_test)\n",
        "lasso_pred = lasso_reg.predict(X_test)\n",
        "\n",
        "# 개별 모델 예측값 혼합으로 최종 예측값 도출\n",
        "pred = 0.4 * ridge_pred + 0.6 * lasso_pred\n",
        "\n",
        "# XGB랑 LGB 섞어보기\n",
        "xgb_pred = xgb_reg.predict(X_test)\n",
        "lgbm_pred = lgbm_reg.predict(X_test)\n",
        "\n",
        "pred = 0.5 * xgb_pred + 0.5 * lgbm_pred"
      ]
    },
    {
      "cell_type": "markdown",
      "metadata": {
        "id": "sxk78tVgzLYi"
      },
      "source": [
        "# Feature selection\n"
      ]
    },
    {
      "cell_type": "markdown",
      "metadata": {
        "id": "TDxKOX3AzLYi"
      },
      "source": [
        "- 데이터 로딩"
      ]
    },
    {
      "cell_type": "code",
      "execution_count": null,
      "metadata": {
        "id": "qxxo-dQCzLYj"
      },
      "outputs": [],
      "source": [
        "X = data.drop(['Outcome'], axis=1)\n",
        "Y = data['Outcome']"
      ]
    },
    {
      "cell_type": "markdown",
      "metadata": {
        "ExecuteTime": {
          "end_time": "2020-09-17T10:04:05.112951Z",
          "start_time": "2020-09-17T10:04:05.109945Z"
        },
        "id": "RlICMzDhzLYj"
      },
      "source": [
        "## VarianceThreshold\n",
        "- 분산은 각 변수의 스케일에 따라 값이 작거나 커질 수 있으니 주의.\n",
        "- threshold=0으로 하면, 모든 값이 같은 변수가 제거될 것임"
      ]
    },
    {
      "cell_type": "code",
      "execution_count": null,
      "metadata": {
        "id": "zEca8wOZzLYj"
      },
      "outputs": [],
      "source": [
        "from sklearn.feature_selection import VarianceThreshold\n",
        "\n",
        "selector = VarianceThreshold(threshold=0.2)\n",
        "X_reduced = selector.fit_transform(X)"
      ]
    },
    {
      "cell_type": "code",
      "execution_count": null,
      "metadata": {
        "id": "0GZzvsKnzLYj"
      },
      "outputs": [],
      "source": [
        "print(X.shape)\n",
        "print(X_reduced.shape)"
      ]
    },
    {
      "cell_type": "code",
      "execution_count": null,
      "metadata": {
        "id": "9aM-kLn1zLYj"
      },
      "outputs": [],
      "source": [
        "# 어떤 변수가 없어졌는지는 몇줄 비교해보면 알 수 있음\n",
        "print(X.head(2))\n",
        "print(60 * '=')\n",
        "print(X_reduced[0:2, :])"
      ]
    },
    {
      "cell_type": "markdown",
      "metadata": {
        "id": "UCKI5CtEzLYk"
      },
      "source": [
        "## Chi-squared based feature selection"
      ]
    },
    {
      "cell_type": "code",
      "execution_count": null,
      "metadata": {
        "id": "LSZRdSujzLYk"
      },
      "outputs": [],
      "source": [
        "from sklearn.feature_selection import SelectKBest, chi2\n",
        "\n",
        "selector = SelectKBest(chi2, k='all')\n",
        "#selector = SelectKBest(chi2, k=5)로 하면 5개만 뽑힘\n",
        "X_reduced = selector.fit_transform(X, Y)"
      ]
    },
    {
      "cell_type": "code",
      "execution_count": null,
      "metadata": {
        "id": "89S2QA1-zLYk"
      },
      "outputs": [],
      "source": [
        "print(X.shape)\n",
        "print(X_reduced.shape)"
      ]
    },
    {
      "cell_type": "code",
      "execution_count": null,
      "metadata": {
        "id": "f-h9KvDUzLYk"
      },
      "outputs": [],
      "source": [
        "print(X.head(2))\n",
        "print(60 * '=')\n",
        "print(X_reduced[0:2, :])"
      ]
    },
    {
      "cell_type": "code",
      "execution_count": null,
      "metadata": {
        "id": "lWBwXhfTzLYk"
      },
      "outputs": [],
      "source": [
        "print(selector.scores_)\n",
        "print(selector.pvalues_)"
      ]
    },
    {
      "cell_type": "markdown",
      "metadata": {
        "id": "jber68w7zLYl"
      },
      "source": [
        "## Recursive feature elimination (RFE)\n",
        "- scikit-learn에서 제공하는 wrapper 방식의 feature selection\n",
        "- 일종의 Backward elimination과 유사함(feature를 줄여나가는 것)"
      ]
    },
    {
      "cell_type": "code",
      "execution_count": null,
      "metadata": {
        "id": "CI2faaYuzLYl"
      },
      "outputs": [],
      "source": [
        "from sklearn.feature_selection import RFECV\n",
        "from sklearn.svm import SVC\n",
        "from sklearn.model_selection import StratifiedKFold"
      ]
    },
    {
      "cell_type": "code",
      "execution_count": null,
      "metadata": {
        "id": "B_HtXH9zzLYl"
      },
      "outputs": [],
      "source": [
        "svc = SVC(kernel='linear')\n",
        "rfecv = RFECV(estimator=svc, step=1, cv=StratifiedKFold(n_splits=2), scoring='accuracy', verbose=1)\n",
        "rfecv.fit(X, Y)"
      ]
    },
    {
      "cell_type": "code",
      "execution_count": null,
      "metadata": {
        "id": "OlbDRK6YzLYl"
      },
      "outputs": [],
      "source": [
        "print(rfecv.n_features_)\n",
        "print(rfecv.support_)"
      ]
    },
    {
      "cell_type": "code",
      "execution_count": null,
      "metadata": {
        "id": "I8QDNBL-zLYl"
      },
      "outputs": [],
      "source": [
        "X.columns"
      ]
    },
    {
      "cell_type": "markdown",
      "metadata": {
        "id": "6ktcboxWzLYm"
      },
      "source": [
        "## Selecting features by model\n",
        "- Attribute에 **coef_** 또는 **feature_importances**가 있는 estimator만 사용 가능함: Lasso, LogisticRegression, LinearSVC, Tree계열 모델들"
      ]
    },
    {
      "cell_type": "markdown",
      "metadata": {
        "id": "4vkxl6anzLYm"
      },
      "source": [
        "### L1-regularized model"
      ]
    },
    {
      "cell_type": "code",
      "execution_count": null,
      "metadata": {
        "id": "QWUilXC2zLYm"
      },
      "outputs": [],
      "source": [
        "from sklearn.feature_selection import SelectFromModel\n",
        "from sklearn.linear_model import LogisticRegression\n",
        "\n",
        "lr = LogisticRegression(penalty='l1', C=0.05)\n",
        "lr.fit(X, Y)"
      ]
    },
    {
      "cell_type": "code",
      "execution_count": null,
      "metadata": {
        "id": "7Y91_WVqzLYm"
      },
      "outputs": [],
      "source": [
        "lr.coef_"
      ]
    },
    {
      "cell_type": "code",
      "execution_count": null,
      "metadata": {
        "id": "HrXvbjVDzLYm"
      },
      "outputs": [],
      "source": [
        "selector = SelectFromModel(estimator=lr, threshold=0.000001, prefit=True)\n",
        "# 위에서 select 되지 않은 것들은 쳐냄. threshold를 아주 작게 줘서 이거보다 작으면 제거\n",
        "X_reduced = selector.transform(X)"
      ]
    },
    {
      "cell_type": "code",
      "execution_count": null,
      "metadata": {
        "id": "hBDmUpsOzLYn"
      },
      "outputs": [],
      "source": [
        "print(X.shape)\n",
        "print(X_reduced.shape)"
      ]
    },
    {
      "cell_type": "code",
      "execution_count": null,
      "metadata": {
        "id": "vGwWIJ67zLYn"
      },
      "outputs": [],
      "source": [
        "print(X.head(2))\n",
        "print(60 * '=')\n",
        "print(X_reduced[0:2, :])"
      ]
    },
    {
      "cell_type": "markdown",
      "metadata": {
        "id": "wEgQ6_lYzLYn"
      },
      "source": [
        "### Tree model"
      ]
    },
    {
      "cell_type": "code",
      "execution_count": null,
      "metadata": {
        "id": "UuPSfxMkzLYo"
      },
      "outputs": [],
      "source": [
        "from sklearn.feature_selection import SelectFromModel\n",
        "from sklearn.ensemble import RandomForestClassifier\n",
        "\n",
        "rf = RandomForestClassifier(n_estimators=20, max_features='auto')\n",
        "rf.fit(X, Y)"
      ]
    },
    {
      "cell_type": "code",
      "execution_count": null,
      "metadata": {
        "id": "cPJAky_ZzLYo"
      },
      "outputs": [],
      "source": [
        "rf.feature_importances_"
      ]
    },
    {
      "cell_type": "code",
      "execution_count": null,
      "metadata": {
        "id": "G2nczKx1zLYo"
      },
      "outputs": [],
      "source": [
        "selector = SelectFromModel(estimator=rf, threshold=0.1, prefit=True)\n",
        "X_reduced = selector.transform(X)"
      ]
    },
    {
      "cell_type": "code",
      "execution_count": null,
      "metadata": {
        "id": "Iwf2SOpWzLYo"
      },
      "outputs": [],
      "source": [
        "print(X.shape)\n",
        "print(X_reduced.shape)"
      ]
    },
    {
      "cell_type": "code",
      "execution_count": null,
      "metadata": {
        "id": "qyYvoXqIzLYo"
      },
      "outputs": [],
      "source": [
        "print(X.head(2))\n",
        "print(60 * '=')\n",
        "print(X_reduced[0:2, :])"
      ]
    }
  ],
  "metadata": {
    "kernelspec": {
      "display_name": "Python 3",
      "language": "python",
      "name": "python3"
    },
    "language_info": {
      "codemirror_mode": {
        "name": "ipython",
        "version": 3
      },
      "file_extension": ".py",
      "mimetype": "text/x-python",
      "name": "python",
      "nbconvert_exporter": "python",
      "pygments_lexer": "ipython3",
      "version": "3.7.4"
    },
    "toc": {
      "base_numbering": 1,
      "nav_menu": {},
      "number_sections": true,
      "sideBar": true,
      "skip_h1_title": false,
      "title_cell": "Table of Contents",
      "title_sidebar": "Contents",
      "toc_cell": false,
      "toc_position": {
        "height": "700px",
        "left": "40px",
        "top": "110px",
        "width": "488px"
      },
      "toc_section_display": true,
      "toc_window_display": true
    },
    "varInspector": {
      "cols": {
        "lenName": 16,
        "lenType": 16,
        "lenVar": 40
      },
      "kernels_config": {
        "python": {
          "delete_cmd_postfix": "",
          "delete_cmd_prefix": "del ",
          "library": "var_list.py",
          "varRefreshCmd": "print(var_dic_list())"
        },
        "r": {
          "delete_cmd_postfix": ") ",
          "delete_cmd_prefix": "rm(",
          "library": "var_list.r",
          "varRefreshCmd": "cat(var_dic_list()) "
        }
      },
      "types_to_exclude": [
        "module",
        "function",
        "builtin_function_or_method",
        "instance",
        "_Feature"
      ],
      "window_display": false
    },
    "colab": {
      "provenance": []
    }
  },
  "nbformat": 4,
  "nbformat_minor": 0
}