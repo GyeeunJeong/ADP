{
 "cells": [
  {
   "cell_type": "markdown",
   "metadata": {},
   "source": [
    "# 03_Python_기초정리.ipynb"
   ]
  },
  {
   "cell_type": "markdown",
   "metadata": {},
   "source": [
    "##  to_csv 에러 없애는 방법 : errors"
   ]
  },
  {
   "cell_type": "code",
   "execution_count": 3,
   "metadata": {
    "ExecuteTime": {
     "end_time": "2020-12-01T09:43:36.963397Z",
     "start_time": "2020-12-01T09:43:36.949477Z"
    }
   },
   "outputs": [],
   "source": [
    "df.to_csv('test.csv', encoding='cp949', errors='replace')   # 'replace', 'ignore'"
   ]
  },
  {
   "cell_type": "markdown",
   "metadata": {},
   "source": [
    "## DataFrame 행 추가"
   ]
  },
  {
   "cell_type": "code",
   "execution_count": null,
   "metadata": {},
   "outputs": [],
   "source": [
    "new_data = {'성별코드': '3', '연령대코드(5세단위)' : 10, '허리둘레':100, '흡연상태': 1}\n",
    "df.append(new_data, ignore_index=True)"
   ]
  },
  {
   "cell_type": "markdown",
   "metadata": {},
   "source": [
    "## statsmodels 패키지 사용법"
   ]
  },
  {
   "cell_type": "markdown",
   "metadata": {},
   "source": [
    "### Dummy화 쉽게 하는 법"
   ]
  },
  {
   "cell_type": "code",
   "execution_count": 44,
   "metadata": {
    "ExecuteTime": {
     "end_time": "2020-12-04T13:00:22.947221Z",
     "start_time": "2020-12-04T13:00:20.615805Z"
    }
   },
   "outputs": [
    {
     "data": {
      "text/html": [
       "<div>\n",
       "<style scoped>\n",
       "    .dataframe tbody tr th:only-of-type {\n",
       "        vertical-align: middle;\n",
       "    }\n",
       "\n",
       "    .dataframe tbody tr th {\n",
       "        vertical-align: top;\n",
       "    }\n",
       "\n",
       "    .dataframe thead th {\n",
       "        text-align: right;\n",
       "    }\n",
       "</style>\n",
       "<table border=\"1\" class=\"dataframe\">\n",
       "  <thead>\n",
       "    <tr style=\"text-align: right;\">\n",
       "      <th></th>\n",
       "      <th>Department</th>\n",
       "      <th>Lottery</th>\n",
       "      <th>Literacy</th>\n",
       "      <th>Wealth</th>\n",
       "      <th>Region</th>\n",
       "    </tr>\n",
       "  </thead>\n",
       "  <tbody>\n",
       "    <tr>\n",
       "      <th>0</th>\n",
       "      <td>Ain</td>\n",
       "      <td>41</td>\n",
       "      <td>37</td>\n",
       "      <td>73</td>\n",
       "      <td>E</td>\n",
       "    </tr>\n",
       "    <tr>\n",
       "      <th>1</th>\n",
       "      <td>Aisne</td>\n",
       "      <td>38</td>\n",
       "      <td>51</td>\n",
       "      <td>22</td>\n",
       "      <td>N</td>\n",
       "    </tr>\n",
       "    <tr>\n",
       "      <th>2</th>\n",
       "      <td>Allier</td>\n",
       "      <td>66</td>\n",
       "      <td>13</td>\n",
       "      <td>61</td>\n",
       "      <td>C</td>\n",
       "    </tr>\n",
       "    <tr>\n",
       "      <th>3</th>\n",
       "      <td>Basses-Alpes</td>\n",
       "      <td>80</td>\n",
       "      <td>46</td>\n",
       "      <td>76</td>\n",
       "      <td>E</td>\n",
       "    </tr>\n",
       "    <tr>\n",
       "      <th>4</th>\n",
       "      <td>Hautes-Alpes</td>\n",
       "      <td>79</td>\n",
       "      <td>69</td>\n",
       "      <td>83</td>\n",
       "      <td>E</td>\n",
       "    </tr>\n",
       "  </tbody>\n",
       "</table>\n",
       "</div>"
      ],
      "text/plain": [
       "     Department  Lottery  Literacy  Wealth Region\n",
       "0           Ain       41        37      73      E\n",
       "1         Aisne       38        51      22      N\n",
       "2        Allier       66        13      61      C\n",
       "3  Basses-Alpes       80        46      76      E\n",
       "4  Hautes-Alpes       79        69      83      E"
      ]
     },
     "execution_count": 44,
     "metadata": {},
     "output_type": "execute_result"
    }
   ],
   "source": [
    "import statsmodels.api as sm\n",
    "import pandas\n",
    "from patsy import dmatrices\n",
    "\n",
    "df = sm.datasets.get_rdataset(\"Guerry\", \"HistData\").data\n",
    "vars = ['Department', 'Lottery', 'Literacy', 'Wealth', 'Region']\n",
    "df = df[vars]\n",
    "df = df.dropna()\n",
    "df.head()"
   ]
  },
  {
   "cell_type": "code",
   "execution_count": 45,
   "metadata": {
    "ExecuteTime": {
     "end_time": "2020-12-04T13:00:23.012296Z",
     "start_time": "2020-12-04T13:00:22.997814Z"
    }
   },
   "outputs": [],
   "source": [
    "y, X = dmatrices('Lottery ~ Literacy + Wealth + Region', data=df, return_type='dataframe')"
   ]
  },
  {
   "cell_type": "code",
   "execution_count": 48,
   "metadata": {
    "ExecuteTime": {
     "end_time": "2020-12-04T13:00:28.659781Z",
     "start_time": "2020-12-04T13:00:28.645047Z"
    }
   },
   "outputs": [
    {
     "data": {
      "text/html": [
       "<div>\n",
       "<style scoped>\n",
       "    .dataframe tbody tr th:only-of-type {\n",
       "        vertical-align: middle;\n",
       "    }\n",
       "\n",
       "    .dataframe tbody tr th {\n",
       "        vertical-align: top;\n",
       "    }\n",
       "\n",
       "    .dataframe thead th {\n",
       "        text-align: right;\n",
       "    }\n",
       "</style>\n",
       "<table border=\"1\" class=\"dataframe\">\n",
       "  <thead>\n",
       "    <tr style=\"text-align: right;\">\n",
       "      <th></th>\n",
       "      <th>Intercept</th>\n",
       "      <th>Region[T.E]</th>\n",
       "      <th>Region[T.N]</th>\n",
       "      <th>Region[T.S]</th>\n",
       "      <th>Region[T.W]</th>\n",
       "      <th>Literacy</th>\n",
       "      <th>Wealth</th>\n",
       "    </tr>\n",
       "  </thead>\n",
       "  <tbody>\n",
       "    <tr>\n",
       "      <th>0</th>\n",
       "      <td>1.0</td>\n",
       "      <td>1.0</td>\n",
       "      <td>0.0</td>\n",
       "      <td>0.0</td>\n",
       "      <td>0.0</td>\n",
       "      <td>37.0</td>\n",
       "      <td>73.0</td>\n",
       "    </tr>\n",
       "    <tr>\n",
       "      <th>1</th>\n",
       "      <td>1.0</td>\n",
       "      <td>0.0</td>\n",
       "      <td>1.0</td>\n",
       "      <td>0.0</td>\n",
       "      <td>0.0</td>\n",
       "      <td>51.0</td>\n",
       "      <td>22.0</td>\n",
       "    </tr>\n",
       "    <tr>\n",
       "      <th>2</th>\n",
       "      <td>1.0</td>\n",
       "      <td>0.0</td>\n",
       "      <td>0.0</td>\n",
       "      <td>0.0</td>\n",
       "      <td>0.0</td>\n",
       "      <td>13.0</td>\n",
       "      <td>61.0</td>\n",
       "    </tr>\n",
       "    <tr>\n",
       "      <th>3</th>\n",
       "      <td>1.0</td>\n",
       "      <td>1.0</td>\n",
       "      <td>0.0</td>\n",
       "      <td>0.0</td>\n",
       "      <td>0.0</td>\n",
       "      <td>46.0</td>\n",
       "      <td>76.0</td>\n",
       "    </tr>\n",
       "    <tr>\n",
       "      <th>4</th>\n",
       "      <td>1.0</td>\n",
       "      <td>1.0</td>\n",
       "      <td>0.0</td>\n",
       "      <td>0.0</td>\n",
       "      <td>0.0</td>\n",
       "      <td>69.0</td>\n",
       "      <td>83.0</td>\n",
       "    </tr>\n",
       "  </tbody>\n",
       "</table>\n",
       "</div>"
      ],
      "text/plain": [
       "   Intercept  Region[T.E]  Region[T.N]  Region[T.S]  Region[T.W]  Literacy  \\\n",
       "0        1.0          1.0          0.0          0.0          0.0      37.0   \n",
       "1        1.0          0.0          1.0          0.0          0.0      51.0   \n",
       "2        1.0          0.0          0.0          0.0          0.0      13.0   \n",
       "3        1.0          1.0          0.0          0.0          0.0      46.0   \n",
       "4        1.0          1.0          0.0          0.0          0.0      69.0   \n",
       "\n",
       "   Wealth  \n",
       "0    73.0  \n",
       "1    22.0  \n",
       "2    61.0  \n",
       "3    76.0  \n",
       "4    83.0  "
      ]
     },
     "execution_count": 48,
     "metadata": {},
     "output_type": "execute_result"
    }
   ],
   "source": [
    "X.head()   ## 범주형 변수(Region)에서 NaN 값은 drop해주고, class 중 하나(여기서는 C)를 drop하고 나머지는 더미화"
   ]
  },
  {
   "cell_type": "markdown",
   "metadata": {},
   "source": [
    "### Fit & Summary\n",
    "- 1단계: 알고리즘 선택\n",
    "- 2단계: Fit\n",
    "- 3단계: Summarize"
   ]
  },
  {
   "cell_type": "code",
   "execution_count": 49,
   "metadata": {
    "ExecuteTime": {
     "end_time": "2020-12-04T13:00:34.025845Z",
     "start_time": "2020-12-04T13:00:34.008969Z"
    }
   },
   "outputs": [
    {
     "name": "stdout",
     "output_type": "stream",
     "text": [
      "                            OLS Regression Results                            \n",
      "==============================================================================\n",
      "Dep. Variable:                Lottery   R-squared:                       0.338\n",
      "Model:                            OLS   Adj. R-squared:                  0.287\n",
      "Method:                 Least Squares   F-statistic:                     6.636\n",
      "Date:                Fri, 04 Dec 2020   Prob (F-statistic):           1.07e-05\n",
      "Time:                        22:00:34   Log-Likelihood:                -375.30\n",
      "No. Observations:                  85   AIC:                             764.6\n",
      "Df Residuals:                      78   BIC:                             781.7\n",
      "Df Model:                           6                                         \n",
      "Covariance Type:            nonrobust                                         \n",
      "===============================================================================\n",
      "                  coef    std err          t      P>|t|      [0.025      0.975]\n",
      "-------------------------------------------------------------------------------\n",
      "Intercept      38.6517      9.456      4.087      0.000      19.826      57.478\n",
      "Region[T.E]   -15.4278      9.727     -1.586      0.117     -34.793       3.938\n",
      "Region[T.N]   -10.0170      9.260     -1.082      0.283     -28.453       8.419\n",
      "Region[T.S]    -4.5483      7.279     -0.625      0.534     -19.039       9.943\n",
      "Region[T.W]   -10.0913      7.196     -1.402      0.165     -24.418       4.235\n",
      "Literacy       -0.1858      0.210     -0.886      0.378      -0.603       0.232\n",
      "Wealth          0.4515      0.103      4.390      0.000       0.247       0.656\n",
      "==============================================================================\n",
      "Omnibus:                        3.049   Durbin-Watson:                   1.785\n",
      "Prob(Omnibus):                  0.218   Jarque-Bera (JB):                2.694\n",
      "Skew:                          -0.340   Prob(JB):                        0.260\n",
      "Kurtosis:                       2.454   Cond. No.                         371.\n",
      "==============================================================================\n",
      "\n",
      "Warnings:\n",
      "[1] Standard Errors assume that the covariance matrix of the errors is correctly specified.\n"
     ]
    }
   ],
   "source": [
    "# OLS(최소자승법) 회귀분석을 예시로 함\n",
    "\n",
    "mod = sm.OLS(y, X) # 알고리즘 선택\n",
    "res = mod.fit() # Fit\n",
    "print(res.summary()) # Summarize model"
   ]
  },
  {
   "cell_type": "code",
   "execution_count": 50,
   "metadata": {
    "ExecuteTime": {
     "end_time": "2020-12-04T13:00:35.520791Z",
     "start_time": "2020-12-04T13:00:35.513016Z"
    }
   },
   "outputs": [
    {
     "data": {
      "text/plain": [
       "Intercept      38.651655\n",
       "Region[T.E]   -15.427785\n",
       "Region[T.N]   -10.016961\n",
       "Region[T.S]    -4.548257\n",
       "Region[T.W]   -10.091276\n",
       "Literacy       -0.185819\n",
       "Wealth          0.451475\n",
       "dtype: float64"
      ]
     },
     "execution_count": 50,
     "metadata": {},
     "output_type": "execute_result"
    }
   ],
   "source": [
    "# 변수별 계수 추출\n",
    "res.params"
   ]
  },
  {
   "cell_type": "code",
   "execution_count": 51,
   "metadata": {
    "ExecuteTime": {
     "end_time": "2020-12-04T13:00:36.210941Z",
     "start_time": "2020-12-04T13:00:36.204967Z"
    }
   },
   "outputs": [
    {
     "data": {
      "text/plain": [
       "0.3379508691928822"
      ]
     },
     "execution_count": 51,
     "metadata": {},
     "output_type": "execute_result"
    }
   ],
   "source": [
    "# r-squared \n",
    "res.rsquared"
   ]
  },
  {
   "cell_type": "code",
   "execution_count": 52,
   "metadata": {
    "ExecuteTime": {
     "end_time": "2020-12-04T13:00:36.692015Z",
     "start_time": "2020-12-04T13:00:36.684801Z"
    },
    "collapsed": true
   },
   "outputs": [
    {
     "data": {
      "text/plain": [
       "['HC0_se',\n",
       " 'HC1_se',\n",
       " 'HC2_se',\n",
       " 'HC3_se',\n",
       " '_HCCM',\n",
       " '__class__',\n",
       " '__delattr__',\n",
       " '__dict__',\n",
       " '__dir__',\n",
       " '__doc__',\n",
       " '__eq__',\n",
       " '__format__',\n",
       " '__ge__',\n",
       " '__getattribute__',\n",
       " '__gt__',\n",
       " '__hash__',\n",
       " '__init__',\n",
       " '__init_subclass__',\n",
       " '__le__',\n",
       " '__lt__',\n",
       " '__module__',\n",
       " '__ne__',\n",
       " '__new__',\n",
       " '__reduce__',\n",
       " '__reduce_ex__',\n",
       " '__repr__',\n",
       " '__setattr__',\n",
       " '__sizeof__',\n",
       " '__str__',\n",
       " '__subclasshook__',\n",
       " '__weakref__',\n",
       " '_cache',\n",
       " '_data_attr',\n",
       " '_get_robustcov_results',\n",
       " '_is_nested',\n",
       " '_use_t',\n",
       " '_wexog_singular_values',\n",
       " 'aic',\n",
       " 'bic',\n",
       " 'bse',\n",
       " 'centered_tss',\n",
       " 'compare_f_test',\n",
       " 'compare_lm_test',\n",
       " 'compare_lr_test',\n",
       " 'condition_number',\n",
       " 'conf_int',\n",
       " 'conf_int_el',\n",
       " 'cov_HC0',\n",
       " 'cov_HC1',\n",
       " 'cov_HC2',\n",
       " 'cov_HC3',\n",
       " 'cov_kwds',\n",
       " 'cov_params',\n",
       " 'cov_type',\n",
       " 'df_model',\n",
       " 'df_resid',\n",
       " 'diagn',\n",
       " 'eigenvals',\n",
       " 'el_test',\n",
       " 'ess',\n",
       " 'f_pvalue',\n",
       " 'f_test',\n",
       " 'fittedvalues',\n",
       " 'fvalue',\n",
       " 'get_influence',\n",
       " 'get_prediction',\n",
       " 'get_robustcov_results',\n",
       " 'initialize',\n",
       " 'k_constant',\n",
       " 'llf',\n",
       " 'load',\n",
       " 'model',\n",
       " 'mse_model',\n",
       " 'mse_resid',\n",
       " 'mse_total',\n",
       " 'nobs',\n",
       " 'normalized_cov_params',\n",
       " 'outlier_test',\n",
       " 'params',\n",
       " 'predict',\n",
       " 'pvalues',\n",
       " 'remove_data',\n",
       " 'resid',\n",
       " 'resid_pearson',\n",
       " 'rsquared',\n",
       " 'rsquared_adj',\n",
       " 'save',\n",
       " 'scale',\n",
       " 'ssr',\n",
       " 'summary',\n",
       " 'summary2',\n",
       " 't_test',\n",
       " 't_test_pairwise',\n",
       " 'tvalues',\n",
       " 'uncentered_tss',\n",
       " 'use_t',\n",
       " 'wald_test',\n",
       " 'wald_test_terms',\n",
       " 'wresid']"
      ]
     },
     "execution_count": 52,
     "metadata": {},
     "output_type": "execute_result"
    }
   ],
   "source": [
    "# 사용 가능한 attriibutes 확인\n",
    "dir(res)"
   ]
  },
  {
   "cell_type": "markdown",
   "metadata": {},
   "source": [
    "### Diagnostics and specification tests"
   ]
  },
  {
   "cell_type": "code",
   "execution_count": 57,
   "metadata": {
    "ExecuteTime": {
     "end_time": "2020-12-04T13:03:21.054641Z",
     "start_time": "2020-12-04T13:03:21.047668Z"
    }
   },
   "outputs": [
    {
     "data": {
      "text/plain": [
       "(0.847233997615691, 0.6997965543621644)"
      ]
     },
     "execution_count": 57,
     "metadata": {},
     "output_type": "execute_result"
    }
   ],
   "source": [
    "sm.stats.linear_rainbow(res)"
   ]
  },
  {
   "cell_type": "code",
   "execution_count": 56,
   "metadata": {
    "ExecuteTime": {
     "end_time": "2020-12-04T13:02:47.089888Z",
     "start_time": "2020-12-04T13:02:46.912933Z"
    },
    "scrolled": true
   },
   "outputs": [
    {
     "data": {
      "image/png": "[encoded data removed]",
      "text/plain": [
       "<Figure size 432x288 with 1 Axes>"
      ]
     },
     "metadata": {
      "needs_background": "light"
     },
     "output_type": "display_data"
    }
   ],
   "source": [
    "%matplotlib inline\n",
    "sm.graphics.plot_partregress('Lottery', 'Wealth', ['Region', 'Literacy'], data=df.dropna(), obs_labels=False)\n",
    "plt.show()"
   ]
  },
  {
   "cell_type": "code",
   "execution_count": null,
   "metadata": {},
   "outputs": [],
   "source": []
  },
  {
   "cell_type": "code",
   "execution_count": null,
   "metadata": {
    "ExecuteTime": {
     "end_time": "2020-12-04T13:10:38.369649Z",
     "start_time": "2020-12-04T13:10:38.358679Z"
    }
   },
   "outputs": [],
   "source": [
    "import statsmodels.api as sm\n",
    "\n",
    "data = sm.datasets.scotland.load(as_pandas=False)\n",
    "data.exog = sm.add_constant(data.exog)"
   ]
  },
  {
   "cell_type": "code",
   "execution_count": 63,
   "metadata": {
    "ExecuteTime": {
     "end_time": "2020-12-04T13:12:28.366486Z",
     "start_time": "2020-12-04T13:12:28.360502Z"
    }
   },
   "outputs": [
    {
     "data": {
      "text/plain": [
       "array([60.3, 52.3, 53.4, 57. , 68.7, 48.8, 65.5, 70.5, 59.1, 62.7, 51.6,\n",
       "       62. , 68.4, 69.2, 64.7, 75. , 62.1, 67.2, 67.7, 52.7, 65.7, 72.2,\n",
       "       47.4, 51.3, 63.6, 50.7, 51.6, 56.2, 67.6, 58.9, 74.7, 67.3])"
      ]
     },
     "execution_count": 63,
     "metadata": {},
     "output_type": "execute_result"
    }
   ],
   "source": [
    "# y 값 형태\n",
    "data.endog"
   ]
  },
  {
   "cell_type": "code",
   "execution_count": 64,
   "metadata": {
    "ExecuteTime": {
     "end_time": "2020-12-04T13:12:32.440565Z",
     "start_time": "2020-12-04T13:12:32.433526Z"
    },
    "scrolled": true
   },
   "outputs": [
    {
     "data": {
      "text/plain": [
       "array([[1.00000e+00, 7.12000e+02, 2.10000e+01, 1.05000e+02, 8.24000e+01,\n",
       "        1.35660e+04, 1.23000e+01, 1.49520e+04],\n",
       "       [1.00000e+00, 6.43000e+02, 2.65000e+01, 9.70000e+01, 8.02000e+01,\n",
       "        1.35660e+04, 1.53000e+01, 1.70395e+04],\n",
       "       [1.00000e+00, 6.79000e+02, 2.83000e+01, 1.13000e+02, 8.63000e+01,\n",
       "        9.61100e+03, 1.39000e+01, 1.92157e+04],\n",
       "       [1.00000e+00, 8.01000e+02, 2.71000e+01, 1.09000e+02, 8.04000e+01,\n",
       "        9.48300e+03, 1.36000e+01, 2.17071e+04],\n",
       "       [1.00000e+00, 7.53000e+02, 2.20000e+01, 1.15000e+02, 6.47000e+01,\n",
       "        9.26500e+03, 1.46000e+01, 1.65660e+04],\n",
       "       [1.00000e+00, 7.14000e+02, 2.43000e+01, 1.07000e+02, 7.90000e+01,\n",
       "        9.55500e+03, 1.38000e+01, 1.73502e+04],\n",
       "       [1.00000e+00, 9.20000e+02, 2.12000e+01, 1.18000e+02, 7.22000e+01,\n",
       "        9.61100e+03, 1.33000e+01, 1.95040e+04],\n",
       "       [1.00000e+00, 7.79000e+02, 2.05000e+01, 1.14000e+02, 7.52000e+01,\n",
       "        9.48300e+03, 1.45000e+01, 1.59695e+04],\n",
       "       [1.00000e+00, 7.71000e+02, 2.32000e+01, 1.02000e+02, 8.11000e+01,\n",
       "        9.48300e+03, 1.42000e+01, 1.78872e+04],\n",
       "       [1.00000e+00, 7.24000e+02, 2.05000e+01, 1.12000e+02, 8.03000e+01,\n",
       "        1.26560e+04, 1.37000e+01, 1.48420e+04],\n",
       "       [1.00000e+00, 6.82000e+02, 2.38000e+01, 9.60000e+01, 8.30000e+01,\n",
       "        9.48300e+03, 1.46000e+01, 1.62316e+04],\n",
       "       [1.00000e+00, 8.37000e+02, 2.21000e+01, 1.11000e+02, 7.45000e+01,\n",
       "        1.26560e+04, 1.16000e+01, 1.84977e+04],\n",
       "       [1.00000e+00, 5.99000e+02, 1.99000e+01, 1.17000e+02, 8.38000e+01,\n",
       "        8.29800e+03, 1.51000e+01, 1.19201e+04],\n",
       "       [1.00000e+00, 6.80000e+02, 2.15000e+01, 1.21000e+02, 7.76000e+01,\n",
       "        9.26500e+03, 1.37000e+01, 1.46200e+04],\n",
       "       [1.00000e+00, 7.47000e+02, 2.25000e+01, 1.09000e+02, 7.79000e+01,\n",
       "        8.31400e+03, 1.44000e+01, 1.68075e+04],\n",
       "       [1.00000e+00, 9.82000e+02, 1.94000e+01, 1.37000e+02, 6.53000e+01,\n",
       "        9.48300e+03, 1.33000e+01, 1.90508e+04],\n",
       "       [1.00000e+00, 7.19000e+02, 2.59000e+01, 1.09000e+02, 8.09000e+01,\n",
       "        8.29800e+03, 1.49000e+01, 1.86221e+04],\n",
       "       [1.00000e+00, 8.31000e+02, 1.85000e+01, 1.38000e+02, 8.02000e+01,\n",
       "        9.48300e+03, 1.46000e+01, 1.53735e+04],\n",
       "       [1.00000e+00, 8.58000e+02, 1.94000e+01, 1.19000e+02, 8.48000e+01,\n",
       "        1.26560e+04, 1.43000e+01, 1.66452e+04],\n",
       "       [1.00000e+00, 6.52000e+02, 2.72000e+01, 1.08000e+02, 8.64000e+01,\n",
       "        1.35660e+04, 1.46000e+01, 1.77344e+04],\n",
       "       [1.00000e+00, 7.18000e+02, 2.37000e+01, 1.15000e+02, 7.35000e+01,\n",
       "        9.48300e+03, 1.50000e+01, 1.70166e+04],\n",
       "       [1.00000e+00, 7.87000e+02, 2.08000e+01, 1.26000e+02, 7.47000e+01,\n",
       "        9.48300e+03, 1.49000e+01, 1.63696e+04],\n",
       "       [1.00000e+00, 5.15000e+02, 2.68000e+01, 1.06000e+02, 8.78000e+01,\n",
       "        8.29800e+03, 1.53000e+01, 1.38020e+04],\n",
       "       [1.00000e+00, 7.32000e+02, 2.30000e+01, 1.03000e+02, 8.66000e+01,\n",
       "        9.61100e+03, 1.38000e+01, 1.68360e+04],\n",
       "       [1.00000e+00, 7.83000e+02, 2.05000e+01, 1.25000e+02, 7.85000e+01,\n",
       "        9.48300e+03, 1.41000e+01, 1.60515e+04],\n",
       "       [1.00000e+00, 6.12000e+02, 2.37000e+01, 1.00000e+02, 8.06000e+01,\n",
       "        9.03300e+03, 1.33000e+01, 1.45044e+04],\n",
       "       [1.00000e+00, 4.86000e+02, 2.32000e+01, 1.17000e+02, 8.48000e+01,\n",
       "        8.29800e+03, 1.59000e+01, 1.12752e+04],\n",
       "       [1.00000e+00, 7.65000e+02, 2.36000e+01, 1.05000e+02, 7.92000e+01,\n",
       "        9.48300e+03, 1.37000e+01, 1.80540e+04],\n",
       "       [1.00000e+00, 7.93000e+02, 2.17000e+01, 1.25000e+02, 7.84000e+01,\n",
       "        9.48300e+03, 1.45000e+01, 1.72081e+04],\n",
       "       [1.00000e+00, 7.76000e+02, 2.30000e+01, 1.10000e+02, 7.72000e+01,\n",
       "        9.26500e+03, 1.36000e+01, 1.78480e+04],\n",
       "       [1.00000e+00, 9.78000e+02, 1.93000e+01, 1.30000e+02, 7.15000e+01,\n",
       "        9.48300e+03, 1.53000e+01, 1.88754e+04],\n",
       "       [1.00000e+00, 7.92000e+02, 2.12000e+01, 1.26000e+02, 8.22000e+01,\n",
       "        1.26560e+04, 1.51000e+01, 1.67904e+04]])"
      ]
     },
     "execution_count": 64,
     "metadata": {},
     "output_type": "execute_result"
    }
   ],
   "source": [
    "# X 값 형태\n",
    "data.exog"
   ]
  },
  {
   "cell_type": "code",
   "execution_count": 67,
   "metadata": {
    "ExecuteTime": {
     "end_time": "2020-12-04T13:13:57.312599Z",
     "start_time": "2020-12-04T13:13:57.294647Z"
    },
    "collapsed": true
   },
   "outputs": [
    {
     "name": "stdout",
     "output_type": "stream",
     "text": [
      "                            OLS Regression Results                            \n",
      "==============================================================================\n",
      "Dep. Variable:                      y   R-squared:                       0.842\n",
      "Model:                            OLS   Adj. R-squared:                  0.795\n",
      "Method:                 Least Squares   F-statistic:                     18.21\n",
      "Date:                Fri, 04 Dec 2020   Prob (F-statistic):           3.54e-08\n",
      "Time:                        22:13:57   Log-Likelihood:                -81.844\n",
      "No. Observations:                  32   AIC:                             179.7\n",
      "Df Residuals:                      24   BIC:                             191.4\n",
      "Df Model:                           7                                         \n",
      "Covariance Type:            nonrobust                                         \n",
      "==============================================================================\n",
      "                 coef    std err          t      P>|t|      [0.025      0.975]\n",
      "------------------------------------------------------------------------------\n",
      "const        137.4141     40.922      3.358      0.003      52.956     221.872\n",
      "x1            -0.1165      0.058     -2.009      0.056      -0.236       0.003\n",
      "x2            -5.1860      1.849     -2.805      0.010      -9.002      -1.370\n",
      "x3             0.2846      0.098      2.896      0.008       0.082       0.487\n",
      "x4            -0.4204      0.158     -2.659      0.014      -0.747      -0.094\n",
      "x5             0.0005      0.000      1.041      0.308      -0.000       0.001\n",
      "x6             1.8404      0.891      2.065      0.050       0.001       3.680\n",
      "x7             0.0059      0.003      2.259      0.033       0.001       0.011\n",
      "==============================================================================\n",
      "Omnibus:                        2.108   Durbin-Watson:                   1.654\n",
      "Prob(Omnibus):                  0.348   Jarque-Bera (JB):                1.281\n",
      "Skew:                          -0.483   Prob(JB):                        0.527\n",
      "Kurtosis:                       3.170   Cond. No.                     1.26e+06\n",
      "==============================================================================\n",
      "\n",
      "Warnings:\n",
      "[1] Standard Errors assume that the covariance matrix of the errors is correctly specified.\n",
      "[2] The condition number is large, 1.26e+06. This might indicate that there are\n",
      "strong multicollinearity or other numerical problems.\n"
     ]
    }
   ],
   "source": [
    "# linear Regression\n",
    "OLS(endog[, exog, missing, hasconst]) # Ordinary Least Squares\n",
    "GLS(endog, exog[, sigma, missing, hasconst]) # Generalized Least Squares\n",
    "\n",
    "# Logistic Regression\n",
    "gamma_model = sm.GLM(data.endog, data.exog, family=sm.families.Gamma())\n",
    "gamma_results = gamma_model.fit()\n",
    "print(gamma_results.summary())"
   ]
  },
  {
   "cell_type": "code",
   "execution_count": null,
   "metadata": {},
   "outputs": [],
   "source": []
  },
  {
   "cell_type": "code",
   "execution_count": null,
   "metadata": {},
   "outputs": [],
   "source": []
  },
  {
   "cell_type": "markdown",
   "metadata": {},
   "source": [
    "# 06_통계분석_1"
   ]
  },
  {
   "cell_type": "markdown",
   "metadata": {},
   "source": [
    "## 범주형 변수 빈도분석"
   ]
  },
  {
   "cell_type": "code",
   "execution_count": null,
   "metadata": {},
   "outputs": [],
   "source": [
    "# 범주형 변수 빈도분석\n",
    "\n",
    "da_cat = pd.DataFrame()\n",
    "for i in  col_cat:\n",
    "    a = df[i].value_counts(dropna =False).to_frame().sort_index().rename(columns={i:'count'}).reset_index()\n",
    "    a['col_nm'] = i\n",
    "    a = a.rename(columns = {'index':'class'})\n",
    "    a = a[['col_nm','class','count']]\n",
    "    b = df[i].value_counts(dropna =False, normalize = True).to_frame().sort_index().rename(columns={i:'ratio'}).reset_index()\n",
    "    b = b['ratio'].to_frame()\n",
    "    a = pd.concat([a,b],axis=1)\n",
    "    da_cat = pd.concat([da_cat,a], axis = 0)\n",
    "da_cat = da_cat.reset_index(drop=True)\n",
    "da_cat"
   ]
  },
  {
   "cell_type": "markdown",
   "metadata": {},
   "source": [
    "## 교호작용 확인\n",
    "- 한 변수에 의해 다른 변수의 효과가 변하는 것을 말합니다."
   ]
  },
  {
   "cell_type": "markdown",
   "metadata": {},
   "source": [
    "## 다중공선성 제거\n",
    "- 다중공선성은 예측변수 사이에 높은 상관관계가 있을 때 발생하며, 회귀계수 추정치의 신뢰성과 안정성에 문제를 발생시킨다. \n",
    "- 다중공선성을 진단하는데 널리 사용되는 분산팽창계수(variance inflation factor, VIF)\n",
    "- VIF가 1.8이라는 것은 특정 회귀계수의 분산(표준오차의 제곱)이 만약 해당 예측변수가 나머지 예측변수와 완전히 상관관계가 없다면 가졌을 분산보다 80% 크다는 의미이다. VIF는 하한선이 1이지만 상한선이 없다.\n",
    "- VIF가 10이 넘어가면 다중공선성이 있다고 판단하여 제거한다(변수를 하나씩 선택 제거해가며 VIF 계속 확인)\n",
    "- 분석상 논리적으로 필요하다고 판단되면 유지해본다"
   ]
  },
  {
   "cell_type": "code",
   "execution_count": null,
   "metadata": {},
   "outputs": [],
   "source": [
    "import statsmodels.api as sm\n",
    "import pandas\n",
    "from patsy import dmatrices\n",
    "\n",
    "y, X = dmatrices('y2 ~ season + holiday', data=df, return_type='dataframe')\n",
    "\n",
    "from statsmodels.stats.outliers_influence import variance_inflation_factor\n",
    "vif = pd.DataFrame()\n",
    "vif[\"VIF Factor\"] = [variance_inflation_factor(X.values, i) for i in range(X.shape[1])]\n",
    "vif[\"features\"] = X.columns \n",
    "vif"
   ]
  },
  {
   "cell_type": "markdown",
   "metadata": {},
   "source": [
    "## 회귀분석 - SVM\n",
    "- LinearSVR(C=1.0, dual=True, epsilon=1.5, fit_intercept=True,<br>\n",
    "     intercept_scaling=1.0, loss='epsilon_insensitive', max_iter=1000,<br>\n",
    "     random_state=42, tol=0.0001, verbose=0)"
   ]
  },
  {
   "cell_type": "code",
   "execution_count": 12,
   "metadata": {
    "ExecuteTime": {
     "end_time": "2020-12-03T13:33:23.840610Z",
     "start_time": "2020-12-03T13:33:23.835385Z"
    }
   },
   "outputs": [],
   "source": [
    "np.random.seed(42)\n",
    "m = 50\n",
    "X = 2 * np.random.rand(m,1)\n",
    "y = (4+3*X+np.random.randn(m,1)).ravel()"
   ]
  },
  {
   "cell_type": "code",
   "execution_count": 13,
   "metadata": {
    "ExecuteTime": {
     "end_time": "2020-12-03T13:33:25.006516Z",
     "start_time": "2020-12-03T13:33:24.996493Z"
    }
   },
   "outputs": [
    {
     "data": {
      "text/plain": [
       "LinearSVR(epsilon=0.5, random_state=42)"
      ]
     },
     "execution_count": 13,
     "metadata": {},
     "output_type": "execute_result"
    }
   ],
   "source": [
    "from sklearn.svm import LinearSVR\n",
    "\n",
    "svm_reg =LinearSVR(epsilon=1.5, random_state=42) # svm_reg = 기본 모형\n",
    "svm_reg1 = LinearSVR(epsilon=1.5, random_state=42) # svm_reg1 = 마진이 큰 모형(epsilon=1.5)\n",
    "svm_reg2 = LinearSVR(epsilon=0.5, random_state=42) # svm_reg2 = 마진이 작은 모형(epsilon=0.5)\n",
    "\n",
    "svm_reg.fit(X,y)\n",
    "svm_reg1.fit(X,y)\n",
    "svm_reg2.fit(X,y)"
   ]
  },
  {
   "cell_type": "code",
   "execution_count": 14,
   "metadata": {
    "ExecuteTime": {
     "end_time": "2020-12-03T13:33:25.227609Z",
     "start_time": "2020-12-03T13:33:25.220541Z"
    }
   },
   "outputs": [],
   "source": [
    "# 서포트 벡터 정하기\n",
    "#svm_reg 모델을 받고, X로 예측한 값 = y_pred\n",
    "#off_margin = 실제 y값과 예측값 사이의 오차를 절대값으로 표현하되, 해당 모형의 epsilon보다 크거나 같은 값\n",
    "#np.argwhere는 행렬에서 True에 해당하는 값 위치를 반환합니다.\n",
    "#따라서, 오차가 epsilon보다 큰 값들의 위치 반환하며 이 것들이 곧 서포트 벡터로 활용\n",
    "def find_support_vectors(svm_reg, X, y):\n",
    "    y_pred = svm_reg.predict(X)\n",
    "    off_margin = (np.abs(y - y_pred) >= svm_reg.epsilon)\n",
    "    return np.argwhere(off_margin)\n",
    "\n",
    "svm_reg1.support_ = find_support_vectors(svm_reg1, X, y)\n",
    "svm_reg2.support_ = find_support_vectors(svm_reg2, X, y)\n",
    "\n",
    "eps_x1 = 1\n",
    "eps_y_pred = svm_reg1.predict([[eps_x1]])"
   ]
  },
  {
   "cell_type": "code",
   "execution_count": 15,
   "metadata": {
    "ExecuteTime": {
     "end_time": "2020-12-03T13:33:26.851582Z",
     "start_time": "2020-12-03T13:33:26.843537Z"
    }
   },
   "outputs": [],
   "source": [
    "#plot찍기\n",
    "#np.linspace로 axes의 첫 번째 값과 두 번째 값 사이를 100개로 쪼갠 일정한 값 생성 후 100행 1열로 reshape\n",
    "#위 값(x1s)으로 예측한 y = y_pred\n",
    "#x, y를 plot하고, y_pred에서 epsilon을 빼고 더한 값도 plot\n",
    "#아까 구했던 서포트 벡터(지지도 벡터)를 scatter 찍기\n",
    "def plot_svm_regression(svm_reg, X, y, axes) :\n",
    "    x1s = np.linspace(axes[0], axes[1], 100).reshape(100,1)\n",
    "    y_pred = svm_reg.predict(x1s)\n",
    "    plt.plot(x1s, y_pred, 'k-', linewidth=2, label = r'y^')\n",
    "    plt.plot(x1s, y_pred + svm_reg.epsilon, 'k--')\n",
    "    plt.plot(x1s, y_pred - svm_reg.epsilon, 'k--')\n",
    "    plt.scatter(X[svm_reg.support_], y[svm_reg.support_], s=180, facecolors='#FFAAAA')\n",
    "    plt.plot(X, y, 'bo')\n",
    "    plt.xlabel(r'x1', fontsize=18)\n",
    "    plt.legend(loc='upper left', fontsize=18)\n",
    "    plt.axis(axes)"
   ]
  },
  {
   "cell_type": "code",
   "execution_count": 16,
   "metadata": {
    "ExecuteTime": {
     "end_time": "2020-12-03T13:33:28.796544Z",
     "start_time": "2020-12-03T13:33:28.458616Z"
    }
   },
   "outputs": [
    {
     "data": {
      "image/png": "[encoded data removed]",
      "text/plain": [
       "<Figure size 648x288 with 2 Axes>"
      ]
     },
     "metadata": {
      "needs_background": "light"
     },
     "output_type": "display_data"
    }
   ],
   "source": [
    "plt.figure(figsize=(9, 4))\n",
    "plt.subplot(121)\n",
    "plot_svm_regression(svm_reg1, X, y, [0,2,3,11])\n",
    "plt.title(r'ϵ={}'.format(svm_reg1.epsilon), fontsize=18)\n",
    "plt.ylabel(r'y', fontsize=18, rotation=0)\n",
    "#plt.plot([eps_x1, eps_x1], [eps_y_pred ,eps_y_pred - svm_reg1.epsilon], 'k-', linewidth=2)\n",
    "\n",
    "#위에서 eps_x1 = 1 로 두고, 예측한 값 = eps_y_pred\n",
    "#화살표와 함께 text를 넘기는 annotate\n",
    "#따라서 도로의 폭을 나타냅니다. (epsilon)\n",
    "#xy 는 주석을 달 위치입니다. ( eps_x1, eps_y_pred )\n",
    "#xytext 는 xy위치에 넣을 text\n",
    "#textcoords 는 지금 넣은 'data'가 default값이며, 주석을 달 객체의 좌표값 사용을 뜻합니다.\n",
    "#arrowprops는 화살표설정\n",
    "\n",
    "plt.annotate(\n",
    "    ' ', xy = (eps_x1, eps_y_pred), xycoords='data', \n",
    "    xytext = (eps_x1, eps_y_pred-svm_reg1.epsilon),\n",
    "    textcoords='data', arrowprops={'arrowstyle': '<->', 'linewidth' : 1.5}\n",
    "    )\n",
    "\n",
    "plt.text(0.91, 5.6, r'ϵ', fontsize=20)\n",
    "plt.subplot(122)\n",
    "plot_svm_regression(svm_reg2, X, y, [0,2,3,11])\n",
    "plt.title(r'ϵ={}'.format(svm_reg2.epsilon), fontsize=18)\n",
    "\n",
    "plt.show()"
   ]
  },
  {
   "cell_type": "markdown",
   "metadata": {},
   "source": [
    "## 회귀분석 - SVM - 비선형"
   ]
  },
  {
   "cell_type": "code",
   "execution_count": 9,
   "metadata": {
    "ExecuteTime": {
     "end_time": "2020-12-03T13:32:59.336557Z",
     "start_time": "2020-12-03T13:32:59.330547Z"
    }
   },
   "outputs": [],
   "source": [
    "np.random.seed(42)\n",
    "m = 100\n",
    "X = 2* np.random.rand(m,1) -1\n",
    "y = (0.2 + 0.1 * X + 0.5 * X**2 + np.random.randn(m,1) / 10).ravel()"
   ]
  },
  {
   "cell_type": "code",
   "execution_count": 10,
   "metadata": {
    "ExecuteTime": {
     "end_time": "2020-12-03T13:33:00.449559Z",
     "start_time": "2020-12-03T13:33:00.437273Z"
    }
   },
   "outputs": [
    {
     "data": {
      "text/plain": [
       "SVR(C=0.01, degree=2, gamma='auto', kernel='poly')"
      ]
     },
     "execution_count": 10,
     "metadata": {},
     "output_type": "execute_result"
    }
   ],
   "source": [
    "from sklearn.svm import SVR\n",
    "\n",
    "svm_poly_reg = SVR(kernel='poly', gamma='auto', degree=2, C=10, epsilon=0.1)\n",
    "svm_poly_reg.fit(X,y)\n",
    "\n",
    "svm_poly_reg1 = SVR(kernel='poly', gamma='auto', degree=2, C=100, epsilon=0.1)\n",
    "svm_poly_reg2 = SVR(kernel='poly', gamma='auto', degree=2, C=0.01, epsilon=0.1)\n",
    "svm_poly_reg1.fit(X,y)\n",
    "svm_poly_reg2.fit(X,y)"
   ]
  },
  {
   "cell_type": "code",
   "execution_count": 11,
   "metadata": {
    "ExecuteTime": {
     "end_time": "2020-12-03T13:33:02.205500Z",
     "start_time": "2020-12-03T13:33:01.912935Z"
    }
   },
   "outputs": [
    {
     "data": {
      "image/png": "[encoded data removed]",
      "text/plain": [
       "<Figure size 648x288 with 2 Axes>"
      ]
     },
     "metadata": {
      "needs_background": "light"
     },
     "output_type": "display_data"
    }
   ],
   "source": [
    "import matplotlib.pyplot as plt\n",
    "plt.figure(figsize=(9,4))\n",
    "\n",
    "plt.subplot(121)\n",
    "plot_svm_regression(svm_poly_reg1, X, y, [-1, 1, 0, 1])\n",
    "plt.title(r'degree={},C={},ϵ={}'.format(svm_poly_reg1.degree, svm_poly_reg1.C, svm_poly_reg1.epsilon), fontsize=18)\n",
    "\n",
    "plt.ylabel(r'y', fontsize=18, rotation=0)\n",
    "\n",
    "plt.subplot(122)\n",
    "plot_svm_regression(svm_poly_reg2, X, y, [-1, 1, 0, 1])\n",
    "plt.title(r'degree={},C={},ϵ={}'.format(svm_poly_reg2.degree, svm_poly_reg2.C, svm_poly_reg2.epsilon), fontsize=18)\n",
    "\n",
    "plt.show()"
   ]
  },
  {
   "cell_type": "code",
   "execution_count": null,
   "metadata": {},
   "outputs": [],
   "source": []
  },
  {
   "cell_type": "markdown",
   "metadata": {},
   "source": [
    "# 06_통계분석_2"
   ]
  },
  {
   "cell_type": "markdown",
   "metadata": {},
   "source": [
    "## 시계열 분석\n",
    "- https://www.youtube.com/watch?v=rdR2fNDq6v0&ab_channel=%E2%80%8D%EA%B9%80%EC%84%B1%EB%B2%94%5B%EB%8B%A8%EC%9E%A5%2F4%EB%8B%A8%EA%B3%84BK21%EC%82%B0%EC%97%85%EA%B2%BD%EC%98%81%EA%B3%B5%ED%95%99%EA%B5%90%EC%9C%A1%EC%97%B0%EA%B5%AC%EB%8B%A8%5D\n"
   ]
  },
  {
   "cell_type": "code",
   "execution_count": null,
   "metadata": {},
   "outputs": [],
   "source": [
    "# 정상성 확인 방법\n",
    "# 그래프로 확인 방법(추세가 있거나, 계절성이 있거나, 분산이 변하면 안 됨)\n",
    "# 평균과 분산이 시점에 관계없이 일정해야하고, 공분산도 시차에만 의존해야함"
   ]
  },
  {
   "cell_type": "markdown",
   "metadata": {},
   "source": [
    "### 모듈 불러오기"
   ]
  },
  {
   "cell_type": "code",
   "execution_count": 2,
   "metadata": {
    "ExecuteTime": {
     "end_time": "2020-12-09T13:11:11.147303Z",
     "start_time": "2020-12-09T13:11:11.136716Z"
    }
   },
   "outputs": [],
   "source": [
    "import os\n",
    "\n",
    "import pandas as pd\n",
    "\n",
    "from sklearn.model_selection import train_test_split\n",
    "from sklearn.metrics import r2_score\n",
    "\n",
    "import matplotlib.pyplot as plt\n",
    "import matplotlib\n",
    "plt.style.use('seaborn-whitegrid')\n",
    "\n",
    "import statsmodels.api as sm\n",
    "from statsmodels.graphics.tsaplots import plot_acf, plot_pacf\n",
    "from statsmodels.tsa.arima_model import ARIMA\n",
    "from statsmodels.tsa.statespace.sarimax import SARIMAX\n",
    "from pmdarima.arima import auto_arima  ## ADP 볼 때는 없을 패키지\n",
    "\n",
    "import seaborn as sns\n",
    "\n",
    "%matplotlib inline\n",
    "\n",
    "import itertools # 내장 패키지"
   ]
  },
  {
   "cell_type": "markdown",
   "metadata": {},
   "source": [
    "### 데이터 불러오기"
   ]
  },
  {
   "cell_type": "markdown",
   "metadata": {},
   "source": [
    "- 활용 데이터 : 공공 데이터(AirPassengers.csv)\n",
    "- 1949~1960년 매달 비행기 탑승객 수에 대한 시계열 데이터\n",
    "- 데이터 구조 : [144 x 1]"
   ]
  },
  {
   "cell_type": "code",
   "execution_count": 3,
   "metadata": {
    "ExecuteTime": {
     "end_time": "2020-12-09T13:11:12.929394Z",
     "start_time": "2020-12-09T13:11:12.903374Z"
    }
   },
   "outputs": [
    {
     "data": {
      "text/html": [
       "<div>\n",
       "<style scoped>\n",
       "    .dataframe tbody tr th:only-of-type {\n",
       "        vertical-align: middle;\n",
       "    }\n",
       "\n",
       "    .dataframe tbody tr th {\n",
       "        vertical-align: top;\n",
       "    }\n",
       "\n",
       "    .dataframe thead th {\n",
       "        text-align: right;\n",
       "    }\n",
       "</style>\n",
       "<table border=\"1\" class=\"dataframe\">\n",
       "  <thead>\n",
       "    <tr style=\"text-align: right;\">\n",
       "      <th></th>\n",
       "      <th>passengers</th>\n",
       "    </tr>\n",
       "    <tr>\n",
       "      <th>month</th>\n",
       "      <th></th>\n",
       "    </tr>\n",
       "  </thead>\n",
       "  <tbody>\n",
       "    <tr>\n",
       "      <th>1949-01-01</th>\n",
       "      <td>112</td>\n",
       "    </tr>\n",
       "    <tr>\n",
       "      <th>1949-02-01</th>\n",
       "      <td>118</td>\n",
       "    </tr>\n",
       "    <tr>\n",
       "      <th>1949-03-01</th>\n",
       "      <td>132</td>\n",
       "    </tr>\n",
       "    <tr>\n",
       "      <th>1949-04-01</th>\n",
       "      <td>129</td>\n",
       "    </tr>\n",
       "    <tr>\n",
       "      <th>1949-05-01</th>\n",
       "      <td>121</td>\n",
       "    </tr>\n",
       "  </tbody>\n",
       "</table>\n",
       "</div>"
      ],
      "text/plain": [
       "            passengers\n",
       "month                 \n",
       "1949-01-01         112\n",
       "1949-02-01         118\n",
       "1949-03-01         132\n",
       "1949-04-01         129\n",
       "1949-05-01         121"
      ]
     },
     "execution_count": 3,
     "metadata": {},
     "output_type": "execute_result"
    }
   ],
   "source": [
    "data = pd.read_csv('./data/AirPassengers.csv')\n",
    "data = data.rename(columns = {'Month':'month', '#Passengers':'passengers'})\n",
    "data['month'] = pd.to_datetime(data['month'])\n",
    "data = data.set_index('month')   ### 시간 컬럼을 인덱스로 만들어줌\n",
    "data.head()"
   ]
  },
  {
   "cell_type": "markdown",
   "metadata": {},
   "source": [
    "### Box-Jenjins ARIMA Procedure\n",
    "1) Data Preprocessing<br>\n",
    "2) Identify Model to be Tentatively Entertainted<br>\n",
    "3) Estimate Parameters<br>\n",
    "4) Diagnosis Check<br>\n",
    "5) Use Model to Forecast"
   ]
  },
  {
   "cell_type": "code",
   "execution_count": 3,
   "metadata": {
    "ExecuteTime": {
     "end_time": "2020-12-02T13:15:55.026696Z",
     "start_time": "2020-12-02T13:15:54.723539Z"
    }
   },
   "outputs": [
    {
     "data": {
      "image/png": "[encoded data removed]",
      "text/plain": [
       "<Figure size 432x288 with 1 Axes>"
      ]
     },
     "metadata": {
      "needs_background": "light"
     },
     "output_type": "display_data"
    }
   ],
   "source": [
    "fig = data.plot()"
   ]
  },
  {
   "cell_type": "code",
   "execution_count": 5,
   "metadata": {
    "ExecuteTime": {
     "end_time": "2020-12-09T13:21:10.563991Z",
     "start_time": "2020-12-09T13:21:09.911922Z"
    }
   },
   "outputs": [
    {
     "data": {
      "image/png": "[encoded data removed]",
      "text/plain": [
       "<Figure size 720x720 with 4 Axes>"
      ]
     },
     "metadata": {
      "needs_background": "light"
     },
     "output_type": "display_data"
    }
   ],
   "source": [
    "# Seasonal decomposition plot : Seasonal decomposition using moving averages.\n",
    "\n",
    "# Observed : observed data\n",
    "# Trend : The estimated trend component\n",
    "# Seasonal : The estimated seasonal component\n",
    "# resid : The estimated residuals\n",
    "decomposition = sm.tsa.seasonal_decompose(data['passengers'], model = 'additive', period=1)\n",
    "fig = decomposition.plot()\n",
    "fig.set_size_inches(10,10)\n",
    "plt.show()"
   ]
  },
  {
   "cell_type": "markdown",
   "metadata": {},
   "source": [
    "### Identify Model to be Tentatively Entertainted"
   ]
  },
  {
   "cell_type": "code",
   "execution_count": 9,
   "metadata": {
    "ExecuteTime": {
     "end_time": "2020-12-09T13:26:10.192615Z",
     "start_time": "2020-12-09T13:26:10.187141Z"
    }
   },
   "outputs": [],
   "source": [
    "# Tr, Te = 8:2\n",
    "train_data, test_data = train_test_split(data, test_size=0.2, shuffle=False)"
   ]
  },
  {
   "cell_type": "code",
   "execution_count": 10,
   "metadata": {
    "ExecuteTime": {
     "end_time": "2020-12-09T13:26:10.208630Z",
     "start_time": "2020-12-09T13:26:10.195606Z"
    }
   },
   "outputs": [
    {
     "data": {
      "text/plain": [
       "array([112, 118, 132, 129, 121, 135, 148, 148, 136, 119, 104, 118, 115,\n",
       "       126, 141, 135, 125, 149, 170, 170, 158, 133, 114, 140, 145, 150,\n",
       "       178, 163, 172, 178, 199, 199, 184, 162, 146, 166, 171, 180, 193,\n",
       "       181, 183, 218, 230, 242, 209, 191, 172, 194, 196, 196, 236, 235,\n",
       "       229, 243, 264, 272, 237, 211, 180, 201, 204, 188, 235, 227, 234,\n",
       "       264, 302, 293, 259, 229, 203, 229, 242, 233, 267, 269, 270, 315,\n",
       "       364, 347, 312, 274, 237, 278, 284, 277, 317, 313, 318, 374, 413,\n",
       "       405, 355, 306, 271, 306, 315, 301, 356, 348, 355, 422, 465, 467,\n",
       "       404, 347, 305, 336, 340, 318, 362, 348, 363, 435, 491], dtype=int64)"
      ]
     },
     "execution_count": 10,
     "metadata": {},
     "output_type": "execute_result"
    }
   ],
   "source": [
    "# 참고 #\n",
    "train_data.values.squeeze()"
   ]
  },
  {
   "cell_type": "code",
   "execution_count": 11,
   "metadata": {
    "ExecuteTime": {
     "end_time": "2020-12-09T13:26:10.547663Z",
     "start_time": "2020-12-09T13:26:10.211564Z"
    }
   },
   "outputs": [
    {
     "data": {
      "image/png": "[encoded data removed]",
      "text/plain": [
       "<Figure size 720x360 with 2 Axes>"
      ]
     },
     "metadata": {
      "needs_background": "light"
     },
     "output_type": "display_data"
    }
   ],
   "source": [
    "# ACF, PACF plot\n",
    "\n",
    "fig, ax = plt.subplots(1,2, figsize = (10, 5))\n",
    "fig.suptitle('Raw Data')\n",
    "sm.graphics.tsa.plot_acf(train_data.values.squeeze(), lags = 30, ax = ax[0])\n",
    "sm.graphics.tsa.plot_pacf(train_data.values.squeeze(), lags = 30, ax = ax[1])\n",
    "plt.show()\n",
    "### ACF 그래프가 점진적으로 감소하는 것은 전형적인 Non-stationary 데이터이다 = 정상정이 없음"
   ]
  },
  {
   "cell_type": "code",
   "execution_count": 12,
   "metadata": {
    "ExecuteTime": {
     "end_time": "2020-12-09T13:26:10.562176Z",
     "start_time": "2020-12-09T13:26:10.550579Z"
    }
   },
   "outputs": [
    {
     "name": "stdout",
     "output_type": "stream",
     "text": [
      "##### Raw Data #####\n",
      "            passengers\n",
      "month                 \n",
      "1949-01-01         112\n",
      "1949-02-01         118\n",
      "1949-03-01         132\n",
      "1949-04-01         129\n",
      "1949-05-01         121\n",
      "...                ...\n",
      "1958-03-01         362\n",
      "1958-04-01         348\n",
      "1958-05-01         363\n",
      "1958-06-01         435\n",
      "1958-07-01         491\n",
      "\n",
      "[115 rows x 1 columns]\n",
      "### Differenced Data ###\n",
      "month\n",
      "1949-02-01     6.0\n",
      "1949-03-01    14.0\n",
      "1949-04-01    -3.0\n",
      "1949-05-01    -8.0\n",
      "1949-06-01    14.0\n",
      "              ... \n",
      "1958-03-01    44.0\n",
      "1958-04-01   -14.0\n",
      "1958-05-01    15.0\n",
      "1958-06-01    72.0\n",
      "1958-07-01    56.0\n",
      "Name: passengers, Length: 114, dtype: float64\n"
     ]
    }
   ],
   "source": [
    "# Differencing\n",
    "\n",
    "diff_train_data = train_data.copy()\n",
    "diff_train_data = diff_train_data['passengers'].diff()\n",
    "diff_train_data = diff_train_data.dropna()\n",
    "print('##### Raw Data #####')\n",
    "print(train_data)\n",
    "print('### Differenced Data ###')\n",
    "print(diff_train_data)"
   ]
  },
  {
   "cell_type": "code",
   "execution_count": 13,
   "metadata": {
    "ExecuteTime": {
     "end_time": "2020-12-09T13:26:10.989840Z",
     "start_time": "2020-12-09T13:26:10.564163Z"
    }
   },
   "outputs": [
    {
     "data": {
      "image/png": "[encoded data removed]",
      "text/plain": [
       "<Figure size 864x576 with 2 Axes>"
      ]
     },
     "metadata": {
      "needs_background": "light"
     },
     "output_type": "display_data"
    }
   ],
   "source": [
    "# differenced data plot\n",
    "\n",
    "plt.figure(figsize = (12,8))\n",
    "plt.subplot(211)\n",
    "plt.plot(train_data['passengers'])\n",
    "plt.subplot(212)\n",
    "plt.plot(diff_train_data, 'orange') # first difference (t - (t-1))\n",
    "plt.legend(['Differenced Data (Stationary)'])\n",
    "plt.show()"
   ]
  },
  {
   "cell_type": "code",
   "execution_count": 14,
   "metadata": {
    "ExecuteTime": {
     "end_time": "2020-12-09T13:26:11.368472Z",
     "start_time": "2020-12-09T13:26:11.038632Z"
    },
    "scrolled": false
   },
   "outputs": [
    {
     "name": "stderr",
     "output_type": "stream",
     "text": [
      "C:\\Users\\50008313\\AppData\\Local\\Continuum\\anaconda3\\lib\\site-packages\\statsmodels\\regression\\linear_model.py:1406: RuntimeWarning: invalid value encountered in sqrt\n",
      "  return rho, np.sqrt(sigmasq)\n"
     ]
    },
    {
     "data": {
      "image/png": "[encoded data removed]",
      "text/plain": [
       "<Figure size 720x360 with 2 Axes>"
      ]
     },
     "metadata": {
      "needs_background": "light"
     },
     "output_type": "display_data"
    }
   ],
   "source": [
    "# ACF, PACF plot\n",
    "\n",
    "fig, ax = plt.subplots(1,2, figsize = (10, 5))\n",
    "fig.suptitle('Differenced Data')\n",
    "sm.graphics.tsa.plot_acf(diff_train_data.values.squeeze(), lags = 30, ax = ax[0])\n",
    "sm.graphics.tsa.plot_pacf(diff_train_data.values.squeeze(), lags = 30, ax = ax[1])\n",
    "plt.show()"
   ]
  },
  {
   "cell_type": "markdown",
   "metadata": {},
   "source": [
    "<img src=\"P02_ARMA_pq_선정기준.png\">"
   ]
  },
  {
   "cell_type": "markdown",
   "metadata": {},
   "source": [
    "- ACF는 싸인 곡선의 형태로 점차 감소한다고 보이고, PACF는 애매하지만 Lag 1 이후 절단면을 가지는 것으로 판단하여 AR(1) 모델을 선택함"
   ]
  },
  {
   "cell_type": "markdown",
   "metadata": {},
   "source": [
    "### Estimate Parameters"
   ]
  },
  {
   "cell_type": "code",
   "execution_count": 15,
   "metadata": {
    "ExecuteTime": {
     "end_time": "2020-12-09T13:26:11.379443Z",
     "start_time": "2020-12-09T13:26:11.371464Z"
    },
    "scrolled": true
   },
   "outputs": [
    {
     "data": {
      "text/plain": [
       "array([[112],\n",
       "       [118],\n",
       "       [132],\n",
       "       [129],\n",
       "       [121],\n",
       "       [135],\n",
       "       [148],\n",
       "       [148],\n",
       "       [136],\n",
       "       [119],\n",
       "       [104],\n",
       "       [118],\n",
       "       [115],\n",
       "       [126],\n",
       "       [141],\n",
       "       [135],\n",
       "       [125],\n",
       "       [149],\n",
       "       [170],\n",
       "       [170],\n",
       "       [158],\n",
       "       [133],\n",
       "       [114],\n",
       "       [140],\n",
       "       [145],\n",
       "       [150],\n",
       "       [178],\n",
       "       [163],\n",
       "       [172],\n",
       "       [178],\n",
       "       [199],\n",
       "       [199],\n",
       "       [184],\n",
       "       [162],\n",
       "       [146],\n",
       "       [166],\n",
       "       [171],\n",
       "       [180],\n",
       "       [193],\n",
       "       [181],\n",
       "       [183],\n",
       "       [218],\n",
       "       [230],\n",
       "       [242],\n",
       "       [209],\n",
       "       [191],\n",
       "       [172],\n",
       "       [194],\n",
       "       [196],\n",
       "       [196],\n",
       "       [236],\n",
       "       [235],\n",
       "       [229],\n",
       "       [243],\n",
       "       [264],\n",
       "       [272],\n",
       "       [237],\n",
       "       [211],\n",
       "       [180],\n",
       "       [201],\n",
       "       [204],\n",
       "       [188],\n",
       "       [235],\n",
       "       [227],\n",
       "       [234],\n",
       "       [264],\n",
       "       [302],\n",
       "       [293],\n",
       "       [259],\n",
       "       [229],\n",
       "       [203],\n",
       "       [229],\n",
       "       [242],\n",
       "       [233],\n",
       "       [267],\n",
       "       [269],\n",
       "       [270],\n",
       "       [315],\n",
       "       [364],\n",
       "       [347],\n",
       "       [312],\n",
       "       [274],\n",
       "       [237],\n",
       "       [278],\n",
       "       [284],\n",
       "       [277],\n",
       "       [317],\n",
       "       [313],\n",
       "       [318],\n",
       "       [374],\n",
       "       [413],\n",
       "       [405],\n",
       "       [355],\n",
       "       [306],\n",
       "       [271],\n",
       "       [306],\n",
       "       [315],\n",
       "       [301],\n",
       "       [356],\n",
       "       [348],\n",
       "       [355],\n",
       "       [422],\n",
       "       [465],\n",
       "       [467],\n",
       "       [404],\n",
       "       [347],\n",
       "       [305],\n",
       "       [336],\n",
       "       [340],\n",
       "       [318],\n",
       "       [362],\n",
       "       [348],\n",
       "       [363],\n",
       "       [435],\n",
       "       [491]], dtype=int64)"
      ]
     },
     "execution_count": 15,
     "metadata": {},
     "output_type": "execute_result"
    }
   ],
   "source": [
    "# 참고 #\n",
    "train_data.values"
   ]
  },
  {
   "cell_type": "code",
   "execution_count": 16,
   "metadata": {
    "ExecuteTime": {
     "end_time": "2020-12-09T13:26:11.563300Z",
     "start_time": "2020-12-09T13:26:11.382435Z"
    }
   },
   "outputs": [
    {
     "data": {
      "text/html": [
       "<table class=\"simpletable\">\n",
       "<caption>ARIMA Model Results</caption>\n",
       "<tr>\n",
       "  <th>Dep. Variable:</th>        <td>D.y</td>       <th>  No. Observations:  </th>    <td>114</td>  \n",
       "</tr>\n",
       "<tr>\n",
       "  <th>Model:</th>          <td>ARIMA(1, 1, 0)</td>  <th>  Log Likelihood     </th> <td>-531.720</td>\n",
       "</tr>\n",
       "<tr>\n",
       "  <th>Method:</th>             <td>css-mle</td>     <th>  S.D. of innovations</th>  <td>25.659</td> \n",
       "</tr>\n",
       "<tr>\n",
       "  <th>Date:</th>          <td>Wed, 09 Dec 2020</td> <th>  AIC                </th> <td>1069.440</td>\n",
       "</tr>\n",
       "<tr>\n",
       "  <th>Time:</th>              <td>22:26:11</td>     <th>  BIC                </th> <td>1077.649</td>\n",
       "</tr>\n",
       "<tr>\n",
       "  <th>Sample:</th>                <td>1</td>        <th>  HQIC               </th> <td>1072.771</td>\n",
       "</tr>\n",
       "<tr>\n",
       "  <th></th>                       <td> </td>        <th>                     </th>     <td> </td>   \n",
       "</tr>\n",
       "</table>\n",
       "<table class=\"simpletable\">\n",
       "<tr>\n",
       "      <td></td>         <th>coef</th>     <th>std err</th>      <th>z</th>      <th>P>|z|</th>  <th>[0.025</th>    <th>0.975]</th>  \n",
       "</tr>\n",
       "<tr>\n",
       "  <th>const</th>     <td>    3.5124</td> <td>    3.329</td> <td>    1.055</td> <td> 0.291</td> <td>   -3.012</td> <td>   10.037</td>\n",
       "</tr>\n",
       "<tr>\n",
       "  <th>ar.L1.D.y</th> <td>    0.2803</td> <td>    0.091</td> <td>    3.077</td> <td> 0.002</td> <td>    0.102</td> <td>    0.459</td>\n",
       "</tr>\n",
       "</table>\n",
       "<table class=\"simpletable\">\n",
       "<caption>Roots</caption>\n",
       "<tr>\n",
       "    <td></td>   <th>            Real</th>  <th>         Imaginary</th> <th>         Modulus</th>  <th>        Frequency</th>\n",
       "</tr>\n",
       "<tr>\n",
       "  <th>AR.1</th> <td>           3.5681</td> <td>          +0.0000j</td> <td>           3.5681</td> <td>           0.0000</td>\n",
       "</tr>\n",
       "</table>"
      ],
      "text/plain": [
       "<class 'statsmodels.iolib.summary.Summary'>\n",
       "\"\"\"\n",
       "                             ARIMA Model Results                              \n",
       "==============================================================================\n",
       "Dep. Variable:                    D.y   No. Observations:                  114\n",
       "Model:                 ARIMA(1, 1, 0)   Log Likelihood                -531.720\n",
       "Method:                       css-mle   S.D. of innovations             25.659\n",
       "Date:                Wed, 09 Dec 2020   AIC                           1069.440\n",
       "Time:                        22:26:11   BIC                           1077.649\n",
       "Sample:                             1   HQIC                          1072.771\n",
       "                                                                              \n",
       "==============================================================================\n",
       "                 coef    std err          z      P>|z|      [0.025      0.975]\n",
       "------------------------------------------------------------------------------\n",
       "const          3.5124      3.329      1.055      0.291      -3.012      10.037\n",
       "ar.L1.D.y      0.2803      0.091      3.077      0.002       0.102       0.459\n",
       "                                    Roots                                    \n",
       "=============================================================================\n",
       "                  Real          Imaginary           Modulus         Frequency\n",
       "-----------------------------------------------------------------------------\n",
       "AR.1            3.5681           +0.0000j            3.5681            0.0000\n",
       "-----------------------------------------------------------------------------\n",
       "\"\"\""
      ]
     },
     "execution_count": 16,
     "metadata": {},
     "output_type": "execute_result"
    }
   ],
   "source": [
    "# ARIMA model fitting\n",
    "# The (p, d, q) order of the model for the number of AR parameters, differences, and MA parameters to use.\n",
    "\n",
    "model = ARIMA(train_data.values, order=(1,1,0))\n",
    "model_fit = model.fit()\n",
    "model_fit.summary()\n",
    "\n",
    "# AIC 값은 1069.44이고, constant의 p-value 값이 유의미하지 않게 나왔다."
   ]
  },
  {
   "cell_type": "markdown",
   "metadata": {},
   "source": [
    "### Diagnosis Check - ARIMA"
   ]
  },
  {
   "cell_type": "code",
   "execution_count": 17,
   "metadata": {
    "ExecuteTime": {
     "end_time": "2020-12-09T13:26:11.576308Z",
     "start_time": "2020-12-09T13:26:11.566325Z"
    }
   },
   "outputs": [
    {
     "name": "stdout",
     "output_type": "stream",
     "text": [
      "Examples of parameter combinations for Seasonal ARIMA...\n"
     ]
    }
   ],
   "source": [
    "# Parameter search\n",
    "\n",
    "print('Examples of parameter combinations for Seasonal ARIMA...')\n",
    "p = range(0,3)\n",
    "d = range(1,2)\n",
    "q = range(0,3)"
   ]
  },
  {
   "cell_type": "code",
   "execution_count": 18,
   "metadata": {
    "ExecuteTime": {
     "end_time": "2020-12-09T13:26:11.588268Z",
     "start_time": "2020-12-09T13:26:11.580310Z"
    }
   },
   "outputs": [
    {
     "data": {
      "text/plain": [
       "[(0, 1, 0),\n",
       " (0, 1, 1),\n",
       " (0, 1, 2),\n",
       " (1, 1, 0),\n",
       " (1, 1, 1),\n",
       " (1, 1, 2),\n",
       " (2, 1, 0),\n",
       " (2, 1, 1),\n",
       " (2, 1, 2)]"
      ]
     },
     "execution_count": 18,
     "metadata": {},
     "output_type": "execute_result"
    }
   ],
   "source": [
    "pdq = list(itertools.product(p, d, q))\n",
    "pdq"
   ]
  },
  {
   "cell_type": "code",
   "execution_count": 19,
   "metadata": {
    "ExecuteTime": {
     "end_time": "2020-12-09T13:26:12.747740Z",
     "start_time": "2020-12-09T13:26:11.590292Z"
    }
   },
   "outputs": [
    {
     "name": "stdout",
     "output_type": "stream",
     "text": [
      "ARIMA: (0, 1, 0) >> AIC : 1076.52\n",
      "ARIMA: (0, 1, 1) >> AIC : 1064.62\n",
      "ARIMA: (0, 1, 2) >> AIC : 1061.08\n",
      "ARIMA: (1, 1, 0) >> AIC : 1069.44\n",
      "ARIMA: (1, 1, 1) >> AIC : 1058.83\n",
      "ARIMA: (1, 1, 2) >> AIC : 1046.05\n",
      "ARIMA: (2, 1, 0) >> AIC : 1066.2\n",
      "ARIMA: (2, 1, 1) >> AIC : 1045.66\n",
      "ARIMA: (2, 1, 2) >> AIC : 1047.19\n"
     ]
    }
   ],
   "source": [
    "aic=[]\n",
    "for i in pdq:\n",
    "    model = ARIMA(train_data.values, order=(i))\n",
    "    model_fit = model.fit()\n",
    "    print(f'ARIMA: {i} >> AIC : {round(model_fit.aic, 2)}')\n",
    "    aic.append(round(model_fit.aic,2))"
   ]
  },
  {
   "cell_type": "code",
   "execution_count": 20,
   "metadata": {
    "ExecuteTime": {
     "end_time": "2020-12-09T13:26:12.760857Z",
     "start_time": "2020-12-09T13:26:12.751727Z"
    }
   },
   "outputs": [
    {
     "data": {
      "text/plain": [
       "[((2, 1, 1), 1045.66)]"
      ]
     },
     "execution_count": 20,
     "metadata": {},
     "output_type": "execute_result"
    }
   ],
   "source": [
    "# Search optimal parameters\n",
    "\n",
    "optimal = [(pdq[i], j) for i, j in enumerate(aic) if j == min(aic)]\n",
    "optimal"
   ]
  },
  {
   "cell_type": "code",
   "execution_count": 21,
   "metadata": {
    "ExecuteTime": {
     "end_time": "2020-12-09T13:26:13.013758Z",
     "start_time": "2020-12-09T13:26:12.762849Z"
    }
   },
   "outputs": [
    {
     "data": {
      "text/html": [
       "<table class=\"simpletable\">\n",
       "<caption>ARIMA Model Results</caption>\n",
       "<tr>\n",
       "  <th>Dep. Variable:</th>        <td>D.y</td>       <th>  No. Observations:  </th>    <td>114</td>  \n",
       "</tr>\n",
       "<tr>\n",
       "  <th>Model:</th>          <td>ARIMA(2, 1, 1)</td>  <th>  Log Likelihood     </th> <td>-517.830</td>\n",
       "</tr>\n",
       "<tr>\n",
       "  <th>Method:</th>             <td>css-mle</td>     <th>  S.D. of innovations</th>  <td>22.317</td> \n",
       "</tr>\n",
       "<tr>\n",
       "  <th>Date:</th>          <td>Wed, 09 Dec 2020</td> <th>  AIC                </th> <td>1045.660</td>\n",
       "</tr>\n",
       "<tr>\n",
       "  <th>Time:</th>              <td>22:26:12</td>     <th>  BIC                </th> <td>1059.341</td>\n",
       "</tr>\n",
       "<tr>\n",
       "  <th>Sample:</th>                <td>1</td>        <th>  HQIC               </th> <td>1051.212</td>\n",
       "</tr>\n",
       "<tr>\n",
       "  <th></th>                       <td> </td>        <th>                     </th>     <td> </td>   \n",
       "</tr>\n",
       "</table>\n",
       "<table class=\"simpletable\">\n",
       "<tr>\n",
       "      <td></td>         <th>coef</th>     <th>std err</th>      <th>z</th>      <th>P>|z|</th>  <th>[0.025</th>    <th>0.975]</th>  \n",
       "</tr>\n",
       "<tr>\n",
       "  <th>const</th>     <td>    2.5600</td> <td>    0.163</td> <td>   15.754</td> <td> 0.000</td> <td>    2.241</td> <td>    2.878</td>\n",
       "</tr>\n",
       "<tr>\n",
       "  <th>ar.L1.D.y</th> <td>    1.0890</td> <td>    0.085</td> <td>   12.816</td> <td> 0.000</td> <td>    0.922</td> <td>    1.256</td>\n",
       "</tr>\n",
       "<tr>\n",
       "  <th>ar.L2.D.y</th> <td>   -0.4730</td> <td>    0.086</td> <td>   -5.528</td> <td> 0.000</td> <td>   -0.641</td> <td>   -0.305</td>\n",
       "</tr>\n",
       "<tr>\n",
       "  <th>ma.L1.D.y</th> <td>   -0.9999</td> <td>    0.040</td> <td>  -25.219</td> <td> 0.000</td> <td>   -1.078</td> <td>   -0.922</td>\n",
       "</tr>\n",
       "</table>\n",
       "<table class=\"simpletable\">\n",
       "<caption>Roots</caption>\n",
       "<tr>\n",
       "    <td></td>   <th>            Real</th>  <th>         Imaginary</th> <th>         Modulus</th>  <th>        Frequency</th>\n",
       "</tr>\n",
       "<tr>\n",
       "  <th>AR.1</th> <td>           1.1512</td> <td>          -0.8882j</td> <td>           1.4540</td> <td>          -0.1046</td>\n",
       "</tr>\n",
       "<tr>\n",
       "  <th>AR.2</th> <td>           1.1512</td> <td>          +0.8882j</td> <td>           1.4540</td> <td>           0.1046</td>\n",
       "</tr>\n",
       "<tr>\n",
       "  <th>MA.1</th> <td>           1.0001</td> <td>          +0.0000j</td> <td>           1.0001</td> <td>           0.0000</td>\n",
       "</tr>\n",
       "</table>"
      ],
      "text/plain": [
       "<class 'statsmodels.iolib.summary.Summary'>\n",
       "\"\"\"\n",
       "                             ARIMA Model Results                              \n",
       "==============================================================================\n",
       "Dep. Variable:                    D.y   No. Observations:                  114\n",
       "Model:                 ARIMA(2, 1, 1)   Log Likelihood                -517.830\n",
       "Method:                       css-mle   S.D. of innovations             22.317\n",
       "Date:                Wed, 09 Dec 2020   AIC                           1045.660\n",
       "Time:                        22:26:12   BIC                           1059.341\n",
       "Sample:                             1   HQIC                          1051.212\n",
       "                                                                              \n",
       "==============================================================================\n",
       "                 coef    std err          z      P>|z|      [0.025      0.975]\n",
       "------------------------------------------------------------------------------\n",
       "const          2.5600      0.163     15.754      0.000       2.241       2.878\n",
       "ar.L1.D.y      1.0890      0.085     12.816      0.000       0.922       1.256\n",
       "ar.L2.D.y     -0.4730      0.086     -5.528      0.000      -0.641      -0.305\n",
       "ma.L1.D.y     -0.9999      0.040    -25.219      0.000      -1.078      -0.922\n",
       "                                    Roots                                    \n",
       "=============================================================================\n",
       "                  Real          Imaginary           Modulus         Frequency\n",
       "-----------------------------------------------------------------------------\n",
       "AR.1            1.1512           -0.8882j            1.4540           -0.1046\n",
       "AR.2            1.1512           +0.8882j            1.4540            0.1046\n",
       "MA.1            1.0001           +0.0000j            1.0001            0.0000\n",
       "-----------------------------------------------------------------------------\n",
       "\"\"\""
      ]
     },
     "execution_count": 21,
     "metadata": {},
     "output_type": "execute_result"
    }
   ],
   "source": [
    "# 위 최적 값으로 만든 모델 다시 Summary\n",
    "\n",
    "model_opt = ARIMA(train_data.values, order = optimal[0][0])\n",
    "model_opt_fit = model_opt.fit()\n",
    "model_opt_fit.summary()\n",
    "\n",
    "# AIC score가 1045.66으로 임의의 모델보다 성능이 좋아졌고, p-value도 모두 유의미하게 나옴"
   ]
  },
  {
   "cell_type": "markdown",
   "metadata": {},
   "source": [
    "### Use Model to Forecast - ARIMA"
   ]
  },
  {
   "cell_type": "code",
   "execution_count": 22,
   "metadata": {
    "ExecuteTime": {
     "end_time": "2020-12-09T13:26:13.029300Z",
     "start_time": "2020-12-09T13:26:13.018290Z"
    }
   },
   "outputs": [],
   "source": [
    "prediction = model_opt_fit.forecast(len(test_data))\n",
    "predicted_value = prediction[0]\n",
    "predicted_ub = prediction[2][:,0]\n",
    "predicted_lb = prediction[2][:,1]\n",
    "predict_index = list(test_data.index)\n",
    "r2 = r2_score(test_data, predicted_value)"
   ]
  },
  {
   "cell_type": "code",
   "execution_count": 56,
   "metadata": {
    "ExecuteTime": {
     "end_time": "2020-12-02T13:47:28.201771Z",
     "start_time": "2020-12-02T13:47:27.909807Z"
    }
   },
   "outputs": [
    {
     "data": {
      "image/png": "[encoded data removed]",
      "text/plain": [
       "<Figure size 864x432 with 1 Axes>"
      ]
     },
     "metadata": {
      "needs_background": "light"
     },
     "output_type": "display_data"
    }
   ],
   "source": [
    "fig, ax = plt.subplots(figsize=(12,6))\n",
    "\n",
    "ax.plot(predict_index, predicted_value, color = 'orange', label = 'Prediction') # 예측값(위 vline 이후 구간에 표시됨)\n",
    "ax.fill_between(predict_index, predicted_lb, predicted_ub, color = 'k', alpha = 0.1, label = '0.95 Prediction Interval')\n",
    "\n",
    "data.plot(ax = ax);\n",
    "ax.vlines('1958-08-01', 0, 1000, linestyle = '--', color = 'r', label = 'Start of Forecast') # x좌표를 날짜로 적음\n",
    "ax.legend(loc='upper left')\n",
    "plt.suptitle(f'ARIMA {optimal[0][0]} Prediction Results (r2_score: {round(r2,2)})')\n",
    "\n",
    "plt.show()\n",
    "\n",
    "# 빨간 점선 이후의 주황색 선이 예측값이며, 회색 구간이 95% interval 구간이다.\n",
    "# 대체로 추세를 따라가나 피크 값을 완벽히 예측하기에는 다소 무리가 있는 것을 볼 수 있다.\n",
    "# R2 score도 0.22 수준인 것을 확인할 수 있었다."
   ]
  },
  {
   "cell_type": "markdown",
   "metadata": {
    "ExecuteTime": {
     "end_time": "2020-12-02T13:50:06.680860Z",
     "start_time": "2020-12-02T13:50:06.677429Z"
    }
   },
   "source": [
    "### (참고) Diagnosis Sheck - SARIMA\n",
    "- SARIMA까지 해야하는 것인지는 모르겠음"
   ]
  },
  {
   "cell_type": "code",
   "execution_count": 58,
   "metadata": {
    "ExecuteTime": {
     "end_time": "2020-12-02T13:52:33.319815Z",
     "start_time": "2020-12-02T13:52:33.310744Z"
    }
   },
   "outputs": [
    {
     "name": "stdout",
     "output_type": "stream",
     "text": [
      "Examples of parameter combinations for Seasonal ARIMA...\n"
     ]
    },
    {
     "data": {
      "text/plain": [
       "[(0, 1, 0, 12),\n",
       " (0, 1, 1, 12),\n",
       " (0, 1, 2, 12),\n",
       " (1, 1, 0, 12),\n",
       " (1, 1, 1, 12),\n",
       " (1, 1, 2, 12),\n",
       " (2, 1, 0, 12),\n",
       " (2, 1, 1, 12),\n",
       " (2, 1, 2, 12)]"
      ]
     },
     "execution_count": 58,
     "metadata": {},
     "output_type": "execute_result"
    }
   ],
   "source": [
    "print('Examples of parameter combinations for Seasonal ARIMA...')\n",
    "p = range(0,3)\n",
    "d = range(1,2)\n",
    "q = range(0,3)\n",
    "pdq = list(itertools.product(p, d, q))\n",
    "seasonal_pdq = [(x[0], x[1], x[2], 12 # 계절성이 12개월마다 있다고 생각해서 12 입력. 얘도 위에 range로 탐색해도 됨\n",
    "                ) for x in list(itertools.product(p, d, q))]\n",
    "seasonal_pdq"
   ]
  },
  {
   "cell_type": "code",
   "execution_count": 68,
   "metadata": {
    "ExecuteTime": {
     "end_time": "2020-12-02T14:07:20.995279Z",
     "start_time": "2020-12-02T14:05:00.841185Z"
    },
    "scrolled": true
   },
   "outputs": [
    {
     "name": "stdout",
     "output_type": "stream",
     "text": [
      "SARIMA: (0, 1, 0)(0, 1, 0, 12) >> AIC : 757.83\n",
      "SARIMA: (0, 1, 0)(0, 1, 1, 12) >> AIC : 756.99\n",
      "SARIMA: (0, 1, 0)(0, 1, 2, 12) >> AIC : 758.83\n",
      "SARIMA: (0, 1, 0)(1, 1, 0, 12) >> AIC : 756.96\n",
      "SARIMA: (0, 1, 0)(1, 1, 1, 12) >> AIC : 758.92\n",
      "SARIMA: (0, 1, 0)(1, 1, 2, 12) >> AIC : 754.42\n",
      "SARIMA: (0, 1, 0)(2, 1, 0, 12) >> AIC : 758.87\n",
      "SARIMA: (0, 1, 0)(2, 1, 1, 12) >> AIC : 760.73\n"
     ]
    },
    {
     "name": "stderr",
     "output_type": "stream",
     "text": [
      "C:\\Users\\50008313\\AppData\\Local\\Continuum\\anaconda3\\lib\\site-packages\\statsmodels\\base\\model.py:568: ConvergenceWarning: Maximum Likelihood optimization failed to converge. Check mle_retvals\n",
      "  \"Check mle_retvals\", ConvergenceWarning)\n"
     ]
    },
    {
     "name": "stdout",
     "output_type": "stream",
     "text": [
      "SARIMA: (0, 1, 0)(2, 1, 2, 12) >> AIC : 754.9\n",
      "SARIMA: (0, 1, 1)(0, 1, 0, 12) >> AIC : 756.01\n",
      "SARIMA: (0, 1, 1)(0, 1, 1, 12) >> AIC : 756.38\n",
      "SARIMA: (0, 1, 1)(0, 1, 2, 12) >> AIC : 757.65\n",
      "SARIMA: (0, 1, 1)(1, 1, 0, 12) >> AIC : 756.17\n",
      "SARIMA: (0, 1, 1)(1, 1, 1, 12) >> AIC : 758.11\n"
     ]
    },
    {
     "name": "stderr",
     "output_type": "stream",
     "text": [
      "C:\\Users\\50008313\\AppData\\Local\\Continuum\\anaconda3\\lib\\site-packages\\statsmodels\\base\\model.py:568: ConvergenceWarning: Maximum Likelihood optimization failed to converge. Check mle_retvals\n",
      "  \"Check mle_retvals\", ConvergenceWarning)\n"
     ]
    },
    {
     "name": "stdout",
     "output_type": "stream",
     "text": [
      "SARIMA: (0, 1, 1)(1, 1, 2, 12) >> AIC : 751.73\n",
      "SARIMA: (0, 1, 1)(2, 1, 0, 12) >> AIC : 757.99\n",
      "SARIMA: (0, 1, 1)(2, 1, 1, 12) >> AIC : 753.78\n"
     ]
    },
    {
     "name": "stderr",
     "output_type": "stream",
     "text": [
      "C:\\Users\\50008313\\AppData\\Local\\Continuum\\anaconda3\\lib\\site-packages\\statsmodels\\base\\model.py:568: ConvergenceWarning: Maximum Likelihood optimization failed to converge. Check mle_retvals\n",
      "  \"Check mle_retvals\", ConvergenceWarning)\n"
     ]
    },
    {
     "name": "stdout",
     "output_type": "stream",
     "text": [
      "SARIMA: (0, 1, 1)(2, 1, 2, 12) >> AIC : 760.67\n",
      "SARIMA: (0, 1, 2)(0, 1, 0, 12) >> AIC : 757.78\n",
      "SARIMA: (0, 1, 2)(0, 1, 1, 12) >> AIC : 758.04\n",
      "SARIMA: (0, 1, 2)(0, 1, 2, 12) >> AIC : 759.28\n",
      "SARIMA: (0, 1, 2)(1, 1, 0, 12) >> AIC : 757.81\n",
      "SARIMA: (0, 1, 2)(1, 1, 1, 12) >> AIC : 759.75\n",
      "SARIMA: (0, 1, 2)(1, 1, 2, 12) >> AIC : 753.5\n",
      "SARIMA: (0, 1, 2)(2, 1, 0, 12) >> AIC : 759.64\n",
      "SARIMA: (0, 1, 2)(2, 1, 1, 12) >> AIC : 755.48\n"
     ]
    },
    {
     "name": "stderr",
     "output_type": "stream",
     "text": [
      "C:\\Users\\50008313\\AppData\\Local\\Continuum\\anaconda3\\lib\\site-packages\\statsmodels\\base\\model.py:568: ConvergenceWarning: Maximum Likelihood optimization failed to converge. Check mle_retvals\n",
      "  \"Check mle_retvals\", ConvergenceWarning)\n"
     ]
    },
    {
     "name": "stdout",
     "output_type": "stream",
     "text": [
      "SARIMA: (0, 1, 2)(2, 1, 2, 12) >> AIC : 763.81\n",
      "SARIMA: (1, 1, 0)(0, 1, 0, 12) >> AIC : 755.5\n",
      "SARIMA: (1, 1, 0)(0, 1, 1, 12) >> AIC : 755.98\n",
      "SARIMA: (1, 1, 0)(0, 1, 2, 12) >> AIC : 757.1\n",
      "SARIMA: (1, 1, 0)(1, 1, 0, 12) >> AIC : 755.75\n",
      "SARIMA: (1, 1, 0)(1, 1, 1, 12) >> AIC : 757.65\n",
      "SARIMA: (1, 1, 0)(1, 1, 2, 12) >> AIC : 751.15\n",
      "SARIMA: (1, 1, 0)(2, 1, 0, 12) >> AIC : 757.45\n",
      "SARIMA: (1, 1, 0)(2, 1, 1, 12) >> AIC : 752.99\n",
      "SARIMA: (1, 1, 1)(0, 1, 0, 12) >> AIC : 756.02\n",
      "SARIMA: (1, 1, 1)(0, 1, 1, 12) >> AIC : 756.63\n",
      "SARIMA: (1, 1, 1)(0, 1, 2, 12) >> AIC : 757.75\n",
      "SARIMA: (1, 1, 1)(1, 1, 0, 12) >> AIC : 756.41\n",
      "SARIMA: (1, 1, 1)(1, 1, 1, 12) >> AIC : 758.26\n",
      "SARIMA: (1, 1, 1)(1, 1, 2, 12) >> AIC : 752.53\n",
      "SARIMA: (1, 1, 1)(2, 1, 0, 12) >> AIC : 758.03\n",
      "SARIMA: (1, 1, 1)(2, 1, 1, 12) >> AIC : 754.17\n",
      "SARIMA: (1, 1, 1)(2, 1, 2, 12) >> AIC : 760.24\n",
      "SARIMA: (1, 1, 2)(0, 1, 0, 12) >> AIC : 757.92\n",
      "SARIMA: (1, 1, 2)(0, 1, 1, 12) >> AIC : 758.44\n",
      "SARIMA: (1, 1, 2)(0, 1, 2, 12) >> AIC : 759.63\n",
      "SARIMA: (1, 1, 2)(1, 1, 0, 12) >> AIC : 758.22\n",
      "SARIMA: (1, 1, 2)(1, 1, 1, 12) >> AIC : 760.1\n",
      "SARIMA: (1, 1, 2)(1, 1, 2, 12) >> AIC : 754.53\n",
      "SARIMA: (1, 1, 2)(2, 1, 0, 12) >> AIC : 759.92\n"
     ]
    },
    {
     "name": "stderr",
     "output_type": "stream",
     "text": [
      "C:\\Users\\50008313\\AppData\\Local\\Continuum\\anaconda3\\lib\\site-packages\\statsmodels\\base\\model.py:568: ConvergenceWarning: Maximum Likelihood optimization failed to converge. Check mle_retvals\n",
      "  \"Check mle_retvals\", ConvergenceWarning)\n"
     ]
    },
    {
     "name": "stdout",
     "output_type": "stream",
     "text": [
      "SARIMA: (1, 1, 2)(2, 1, 1, 12) >> AIC : 756.16\n"
     ]
    },
    {
     "name": "stderr",
     "output_type": "stream",
     "text": [
      "C:\\Users\\50008313\\AppData\\Local\\Continuum\\anaconda3\\lib\\site-packages\\statsmodels\\base\\model.py:568: ConvergenceWarning: Maximum Likelihood optimization failed to converge. Check mle_retvals\n",
      "  \"Check mle_retvals\", ConvergenceWarning)\n"
     ]
    },
    {
     "name": "stdout",
     "output_type": "stream",
     "text": [
      "SARIMA: (1, 1, 2)(2, 1, 2, 12) >> AIC : 762.45\n",
      "SARIMA: (2, 1, 0)(0, 1, 0, 12) >> AIC : 756.77\n",
      "SARIMA: (2, 1, 0)(0, 1, 1, 12) >> AIC : 757.23\n",
      "SARIMA: (2, 1, 0)(0, 1, 2, 12) >> AIC : 758.31\n",
      "SARIMA: (2, 1, 0)(1, 1, 0, 12) >> AIC : 756.98\n",
      "SARIMA: (2, 1, 0)(1, 1, 1, 12) >> AIC : 758.86\n",
      "SARIMA: (2, 1, 0)(1, 1, 2, 12) >> AIC : 752.77\n",
      "SARIMA: (2, 1, 0)(2, 1, 0, 12) >> AIC : 758.65\n",
      "SARIMA: (2, 1, 0)(2, 1, 1, 12) >> AIC : 754.51\n"
     ]
    },
    {
     "name": "stderr",
     "output_type": "stream",
     "text": [
      "C:\\Users\\50008313\\AppData\\Local\\Continuum\\anaconda3\\lib\\site-packages\\statsmodels\\base\\model.py:568: ConvergenceWarning: Maximum Likelihood optimization failed to converge. Check mle_retvals\n",
      "  \"Check mle_retvals\", ConvergenceWarning)\n"
     ]
    },
    {
     "name": "stdout",
     "output_type": "stream",
     "text": [
      "SARIMA: (2, 1, 0)(2, 1, 2, 12) >> AIC : 760.94\n",
      "SARIMA: (2, 1, 1)(0, 1, 0, 12) >> AIC : 757.98\n"
     ]
    },
    {
     "name": "stderr",
     "output_type": "stream",
     "text": [
      "C:\\Users\\50008313\\AppData\\Local\\Continuum\\anaconda3\\lib\\site-packages\\statsmodels\\tsa\\statespace\\sarimax.py:963: UserWarning: Non-stationary starting autoregressive parameters found. Using zeros as starting parameters.\n",
      "  warn('Non-stationary starting autoregressive parameters'\n",
      "C:\\Users\\50008313\\AppData\\Local\\Continuum\\anaconda3\\lib\\site-packages\\statsmodels\\tsa\\statespace\\sarimax.py:975: UserWarning: Non-invertible starting MA parameters found. Using zeros as starting parameters.\n",
      "  warn('Non-invertible starting MA parameters found.'\n"
     ]
    },
    {
     "name": "stdout",
     "output_type": "stream",
     "text": [
      "SARIMA: (2, 1, 1)(0, 1, 1, 12) >> AIC : 758.54\n",
      "SARIMA: (2, 1, 1)(0, 1, 2, 12) >> AIC : 759.69\n",
      "SARIMA: (2, 1, 1)(1, 1, 0, 12) >> AIC : 758.31\n",
      "SARIMA: (2, 1, 1)(1, 1, 1, 12) >> AIC : 760.18\n"
     ]
    },
    {
     "name": "stderr",
     "output_type": "stream",
     "text": [
      "C:\\Users\\50008313\\AppData\\Local\\Continuum\\anaconda3\\lib\\site-packages\\statsmodels\\base\\model.py:568: ConvergenceWarning: Maximum Likelihood optimization failed to converge. Check mle_retvals\n",
      "  \"Check mle_retvals\", ConvergenceWarning)\n"
     ]
    },
    {
     "name": "stdout",
     "output_type": "stream",
     "text": [
      "SARIMA: (2, 1, 1)(1, 1, 2, 12) >> AIC : 754.53\n",
      "SARIMA: (2, 1, 1)(2, 1, 0, 12) >> AIC : 759.98\n"
     ]
    },
    {
     "name": "stderr",
     "output_type": "stream",
     "text": [
      "C:\\Users\\50008313\\AppData\\Local\\Continuum\\anaconda3\\lib\\site-packages\\statsmodels\\base\\model.py:568: ConvergenceWarning: Maximum Likelihood optimization failed to converge. Check mle_retvals\n",
      "  \"Check mle_retvals\", ConvergenceWarning)\n"
     ]
    },
    {
     "name": "stdout",
     "output_type": "stream",
     "text": [
      "SARIMA: (2, 1, 1)(2, 1, 1, 12) >> AIC : 756.16\n"
     ]
    },
    {
     "name": "stderr",
     "output_type": "stream",
     "text": [
      "C:\\Users\\50008313\\AppData\\Local\\Continuum\\anaconda3\\lib\\site-packages\\statsmodels\\base\\model.py:568: ConvergenceWarning: Maximum Likelihood optimization failed to converge. Check mle_retvals\n",
      "  \"Check mle_retvals\", ConvergenceWarning)\n"
     ]
    },
    {
     "name": "stdout",
     "output_type": "stream",
     "text": [
      "SARIMA: (2, 1, 1)(2, 1, 2, 12) >> AIC : 762.2\n",
      "SARIMA: (2, 1, 2)(0, 1, 0, 12) >> AIC : 755.2\n",
      "SARIMA: (2, 1, 2)(0, 1, 1, 12) >> AIC : 755.99\n",
      "SARIMA: (2, 1, 2)(0, 1, 2, 12) >> AIC : 759.77\n",
      "SARIMA: (2, 1, 2)(1, 1, 0, 12) >> AIC : 755.82\n",
      "SARIMA: (2, 1, 2)(1, 1, 1, 12) >> AIC : 757.71\n",
      "SARIMA: (2, 1, 2)(1, 1, 2, 12) >> AIC : 752.34\n",
      "SARIMA: (2, 1, 2)(2, 1, 0, 12) >> AIC : 757.56\n"
     ]
    },
    {
     "name": "stderr",
     "output_type": "stream",
     "text": [
      "C:\\Users\\50008313\\AppData\\Local\\Continuum\\anaconda3\\lib\\site-packages\\statsmodels\\base\\model.py:568: ConvergenceWarning: Maximum Likelihood optimization failed to converge. Check mle_retvals\n",
      "  \"Check mle_retvals\", ConvergenceWarning)\n"
     ]
    },
    {
     "name": "stdout",
     "output_type": "stream",
     "text": [
      "SARIMA: (2, 1, 2)(2, 1, 1, 12) >> AIC : 753.95\n",
      "SARIMA: (2, 1, 2)(2, 1, 2, 12) >> AIC : 760.17\n"
     ]
    }
   ],
   "source": [
    "aic = []\n",
    "params = []\n",
    "for i in pdq:\n",
    "    for j in seasonal_pdq:\n",
    "        try:\n",
    "            model = SARIMAX(train_data.values, order=(i), seasonal_order = (j))\n",
    "            model_fit = model.fit()\n",
    "            print(f'SARIMA: {i}{j} >> AIC : {round(model_fit.aic,2)}')\n",
    "            aic.append(round(model_fit.aic,2))\n",
    "            params.append((i, j))\n",
    "        except:\n",
    "            continue"
   ]
  },
  {
   "cell_type": "code",
   "execution_count": 69,
   "metadata": {
    "ExecuteTime": {
     "end_time": "2020-12-02T14:07:21.070001Z",
     "start_time": "2020-12-02T14:07:21.062052Z"
    }
   },
   "outputs": [
    {
     "data": {
      "text/plain": [
       "[(((1, 1, 0), (1, 1, 2, 12)), 751.15)]"
      ]
     },
     "execution_count": 69,
     "metadata": {},
     "output_type": "execute_result"
    }
   ],
   "source": [
    "# Search optimal parameters\n",
    "\n",
    "optimal = [(params[i], j) for i, j in enumerate(aic) if j == min(aic)]\n",
    "optimal\n",
    "\n",
    "# small pdq는 (1,1,0), large pdq는 (1,1,2) 그리고 Seasonal parameter는 12인 것을 볼 수 있다."
   ]
  },
  {
   "cell_type": "code",
   "execution_count": 70,
   "metadata": {
    "ExecuteTime": {
     "end_time": "2020-12-02T14:07:23.370794Z",
     "start_time": "2020-12-02T14:07:21.124828Z"
    }
   },
   "outputs": [
    {
     "data": {
      "text/html": [
       "<table class=\"simpletable\">\n",
       "<caption>SARIMAX Results</caption>\n",
       "<tr>\n",
       "  <th>Dep. Variable:</th>                    <td>y</td>                  <th>  No. Observations:  </th>    <td>115</td>  \n",
       "</tr>\n",
       "<tr>\n",
       "  <th>Model:</th>           <td>SARIMAX(1, 1, 0)x(1, 1, [1, 2], 12)</td> <th>  Log Likelihood     </th> <td>-370.575</td>\n",
       "</tr>\n",
       "<tr>\n",
       "  <th>Date:</th>                     <td>Wed, 02 Dec 2020</td>           <th>  AIC                </th>  <td>751.150</td>\n",
       "</tr>\n",
       "<tr>\n",
       "  <th>Time:</th>                         <td>23:07:23</td>               <th>  BIC                </th>  <td>764.274</td>\n",
       "</tr>\n",
       "<tr>\n",
       "  <th>Sample:</th>                           <td>0</td>                  <th>  HQIC               </th>  <td>756.464</td>\n",
       "</tr>\n",
       "<tr>\n",
       "  <th></th>                               <td> - 115</td>                <th>                     </th>     <td> </td>   \n",
       "</tr>\n",
       "<tr>\n",
       "  <th>Covariance Type:</th>                 <td>opg</td>                 <th>                     </th>     <td> </td>   \n",
       "</tr>\n",
       "</table>\n",
       "<table class=\"simpletable\">\n",
       "<tr>\n",
       "      <td></td>        <th>coef</th>     <th>std err</th>      <th>z</th>      <th>P>|z|</th>  <th>[0.025</th>    <th>0.975]</th>  \n",
       "</tr>\n",
       "<tr>\n",
       "  <th>ar.L1</th>    <td>   -0.2362</td> <td>    0.093</td> <td>   -2.541</td> <td> 0.011</td> <td>   -0.418</td> <td>   -0.054</td>\n",
       "</tr>\n",
       "<tr>\n",
       "  <th>ar.S.L12</th> <td>    0.9981</td> <td>    0.192</td> <td>    5.208</td> <td> 0.000</td> <td>    0.622</td> <td>    1.374</td>\n",
       "</tr>\n",
       "<tr>\n",
       "  <th>ma.S.L12</th> <td>   -1.3630</td> <td>    2.095</td> <td>   -0.651</td> <td> 0.515</td> <td>   -5.470</td> <td>    2.744</td>\n",
       "</tr>\n",
       "<tr>\n",
       "  <th>ma.S.L24</th> <td>    0.3914</td> <td>    0.731</td> <td>    0.536</td> <td> 0.592</td> <td>   -1.041</td> <td>    1.823</td>\n",
       "</tr>\n",
       "<tr>\n",
       "  <th>sigma2</th>   <td>   70.2975</td> <td>  134.586</td> <td>    0.522</td> <td> 0.601</td> <td> -193.487</td> <td>  334.082</td>\n",
       "</tr>\n",
       "</table>\n",
       "<table class=\"simpletable\">\n",
       "<tr>\n",
       "  <th>Ljung-Box (Q):</th>          <td>39.85</td> <th>  Jarque-Bera (JB):  </th> <td>2.76</td>\n",
       "</tr>\n",
       "<tr>\n",
       "  <th>Prob(Q):</th>                <td>0.48</td>  <th>  Prob(JB):          </th> <td>0.25</td>\n",
       "</tr>\n",
       "<tr>\n",
       "  <th>Heteroskedasticity (H):</th> <td>1.09</td>  <th>  Skew:              </th> <td>0.38</td>\n",
       "</tr>\n",
       "<tr>\n",
       "  <th>Prob(H) (two-sided):</th>    <td>0.79</td>  <th>  Kurtosis:          </th> <td>2.72</td>\n",
       "</tr>\n",
       "</table><br/><br/>Warnings:<br/>[1] Covariance matrix calculated using the outer product of gradients (complex-step)."
      ],
      "text/plain": [
       "<class 'statsmodels.iolib.summary.Summary'>\n",
       "\"\"\"\n",
       "                                        SARIMAX Results                                        \n",
       "===============================================================================================\n",
       "Dep. Variable:                                       y   No. Observations:                  115\n",
       "Model:             SARIMAX(1, 1, 0)x(1, 1, [1, 2], 12)   Log Likelihood                -370.575\n",
       "Date:                                 Wed, 02 Dec 2020   AIC                            751.150\n",
       "Time:                                         23:07:23   BIC                            764.274\n",
       "Sample:                                              0   HQIC                           756.464\n",
       "                                                 - 115                                         \n",
       "Covariance Type:                                   opg                                         \n",
       "==============================================================================\n",
       "                 coef    std err          z      P>|z|      [0.025      0.975]\n",
       "------------------------------------------------------------------------------\n",
       "ar.L1         -0.2362      0.093     -2.541      0.011      -0.418      -0.054\n",
       "ar.S.L12       0.9981      0.192      5.208      0.000       0.622       1.374\n",
       "ma.S.L12      -1.3630      2.095     -0.651      0.515      -5.470       2.744\n",
       "ma.S.L24       0.3914      0.731      0.536      0.592      -1.041       1.823\n",
       "sigma2        70.2975    134.586      0.522      0.601    -193.487     334.082\n",
       "===================================================================================\n",
       "Ljung-Box (Q):                       39.85   Jarque-Bera (JB):                 2.76\n",
       "Prob(Q):                              0.48   Prob(JB):                         0.25\n",
       "Heteroskedasticity (H):               1.09   Skew:                             0.38\n",
       "Prob(H) (two-sided):                  0.79   Kurtosis:                         2.72\n",
       "===================================================================================\n",
       "\n",
       "Warnings:\n",
       "[1] Covariance matrix calculated using the outer product of gradients (complex-step).\n",
       "\"\"\""
      ]
     },
     "execution_count": 70,
     "metadata": {},
     "output_type": "execute_result"
    }
   ],
   "source": [
    "model_opt = SARIMAX(train_data.values, order=optimal[0][0][0], seasonal_order = optimal[0][0][1])\n",
    "model_opt_fit = model_opt.fit()\n",
    "model_opt_fit.summary()\n",
    "\n",
    "# ARIMA보다 SARIMA가 AIC가 훨씬 낮은 것을 볼 수 있다."
   ]
  },
  {
   "cell_type": "markdown",
   "metadata": {},
   "source": [
    "### Use Model to Forecast - SARIMA"
   ]
  },
  {
   "cell_type": "code",
   "execution_count": 72,
   "metadata": {
    "ExecuteTime": {
     "end_time": "2020-12-02T14:07:57.383531Z",
     "start_time": "2020-12-02T14:07:57.368693Z"
    }
   },
   "outputs": [],
   "source": [
    "prediction = model_opt_fit.get_forecast(len(test_data))\n",
    "predicted_value = prediction.predicted_mean\n",
    "predicted_ub = prediction.conf_int()[:,0]\n",
    "predicted_lb = prediction.conf_int()[:,1]\n",
    "predict_index = list(test_data.index)\n",
    "r2 = r2_score(test_data, predicted_value)"
   ]
  },
  {
   "cell_type": "code",
   "execution_count": 74,
   "metadata": {
    "ExecuteTime": {
     "end_time": "2020-12-02T14:08:42.784894Z",
     "start_time": "2020-12-02T14:08:42.509337Z"
    }
   },
   "outputs": [
    {
     "data": {
      "image/png": "[encoded data removed]",
      "text/plain": [
       "<Figure size 864x432 with 1 Axes>"
      ]
     },
     "metadata": {
      "needs_background": "light"
     },
     "output_type": "display_data"
    }
   ],
   "source": [
    "fig, ax = plt.subplots(figsize=(12,6))\n",
    "\n",
    "ax.plot(predict_index, predicted_value, color = 'orange', label = 'Prediction') # 예측값(위 vline 이후 구간에 표시됨)\n",
    "ax.fill_between(predict_index, predicted_lb, predicted_ub, color = 'k', alpha = 0.1, label = '0.95 Prediction Interval')\n",
    "\n",
    "data.plot(ax = ax);\n",
    "ax.vlines('1958-08-01', 0, 700, linestyle = '--', color = 'r', label = 'Start of Forecast') # x좌표를 날짜로 적음\n",
    "ax.legend(loc='upper left')\n",
    "plt.suptitle(f'SARIMA {optimal[0][0][0]},{optimal[0][0][1]} Prediction Results (r2_score: {round(r2,2)})')\n",
    "\n",
    "plt.show()\n",
    "\n",
    "# 예측 값의 추세가 실제 값을 상당히 잘 따라가고 있으며,\n",
    "# r2 score가 0.89로 훨씬 더 성능이 향상됨\n",
    "# 계절성을 반영한 것이 예측 성능을 향상시키는데 기여를 했다고 볼 수 있다."
   ]
  },
  {
   "cell_type": "markdown",
   "metadata": {},
   "source": [
    "### Diagnosis Check - auto_arima (ADP에서는 패키지 없을 듯)"
   ]
  },
  {
   "cell_type": "code",
   "execution_count": 75,
   "metadata": {
    "ExecuteTime": {
     "end_time": "2020-12-02T14:14:54.821310Z",
     "start_time": "2020-12-02T14:12:39.085858Z"
    },
    "scrolled": true
   },
   "outputs": [
    {
     "name": "stdout",
     "output_type": "stream",
     "text": [
      " ARIMA(0,1,0)(0,1,0)[12]             : AIC=757.826, Time=0.02 sec\n",
      " ARIMA(0,1,0)(0,1,1)[12]             : AIC=756.988, Time=0.14 sec\n",
      " ARIMA(0,1,0)(0,1,2)[12]             : AIC=758.826, Time=0.65 sec\n",
      " ARIMA(0,1,0)(0,1,3)[12]             : AIC=758.186, Time=0.95 sec\n",
      " ARIMA(0,1,0)(1,1,0)[12]             : AIC=756.959, Time=0.08 sec\n",
      " ARIMA(0,1,0)(1,1,1)[12]             : AIC=758.922, Time=0.22 sec\n",
      " ARIMA(0,1,0)(1,1,2)[12]             : AIC=754.423, Time=1.51 sec\n",
      " ARIMA(0,1,0)(1,1,3)[12]             : AIC=754.685, Time=2.87 sec\n",
      " ARIMA(0,1,0)(2,1,0)[12]             : AIC=758.869, Time=0.21 sec\n",
      " ARIMA(0,1,0)(2,1,1)[12]             : AIC=760.726, Time=1.06 sec\n",
      " ARIMA(0,1,0)(2,1,2)[12]             : AIC=754.903, Time=2.88 sec\n",
      " ARIMA(0,1,0)(2,1,3)[12]             : AIC=756.686, Time=4.51 sec\n",
      " ARIMA(0,1,0)(3,1,0)[12]             : AIC=759.643, Time=0.72 sec\n",
      " ARIMA(0,1,0)(3,1,1)[12]             : AIC=755.899, Time=4.26 sec\n",
      " ARIMA(0,1,0)(3,1,2)[12]             : AIC=756.688, Time=5.36 sec\n",
      " ARIMA(0,1,1)(0,1,0)[12]             : AIC=756.011, Time=0.05 sec\n",
      " ARIMA(0,1,1)(0,1,1)[12]             : AIC=756.380, Time=0.21 sec\n",
      " ARIMA(0,1,1)(0,1,2)[12]             : AIC=757.653, Time=1.18 sec\n",
      " ARIMA(0,1,1)(0,1,3)[12]             : AIC=756.866, Time=1.37 sec\n",
      " ARIMA(0,1,1)(1,1,0)[12]             : AIC=756.166, Time=0.13 sec\n",
      " ARIMA(0,1,1)(1,1,1)[12]             : AIC=758.107, Time=0.36 sec\n",
      " ARIMA(0,1,1)(1,1,2)[12]             : AIC=751.728, Time=4.81 sec\n",
      " ARIMA(0,1,1)(1,1,3)[12]             : AIC=752.982, Time=2.64 sec\n",
      " ARIMA(0,1,1)(2,1,0)[12]             : AIC=757.994, Time=0.34 sec\n",
      " ARIMA(0,1,1)(2,1,1)[12]             : AIC=753.780, Time=2.31 sec\n",
      " ARIMA(0,1,1)(2,1,2)[12]             : AIC=760.667, Time=8.78 sec\n",
      " ARIMA(0,1,1)(3,1,0)[12]             : AIC=758.104, Time=0.82 sec\n",
      " ARIMA(0,1,1)(3,1,1)[12]             : AIC=753.668, Time=5.28 sec\n",
      " ARIMA(0,1,2)(0,1,0)[12]             : AIC=757.778, Time=0.07 sec\n",
      " ARIMA(0,1,2)(0,1,1)[12]             : AIC=758.043, Time=0.29 sec\n",
      " ARIMA(0,1,2)(0,1,2)[12]             : AIC=759.284, Time=1.42 sec\n",
      " ARIMA(0,1,2)(0,1,3)[12]             : AIC=758.652, Time=1.70 sec\n",
      " ARIMA(0,1,2)(1,1,0)[12]             : AIC=757.811, Time=0.20 sec\n",
      " ARIMA(0,1,2)(1,1,1)[12]             : AIC=759.751, Time=0.35 sec\n",
      " ARIMA(0,1,2)(1,1,2)[12]             : AIC=753.496, Time=4.55 sec\n",
      " ARIMA(0,1,2)(2,1,0)[12]             : AIC=759.641, Time=0.45 sec\n",
      " ARIMA(0,1,2)(2,1,1)[12]             : AIC=755.484, Time=3.50 sec\n",
      " ARIMA(0,1,2)(3,1,0)[12]             : AIC=759.804, Time=1.31 sec\n",
      " ARIMA(0,1,3)(0,1,0)[12]             : AIC=752.936, Time=0.14 sec\n",
      " ARIMA(0,1,3)(0,1,1)[12]             : AIC=753.809, Time=0.39 sec\n",
      " ARIMA(0,1,3)(0,1,2)[12]             : AIC=755.269, Time=2.28 sec\n",
      " ARIMA(0,1,3)(1,1,0)[12]             : AIC=753.663, Time=0.30 sec\n",
      " ARIMA(0,1,3)(1,1,1)[12]             : AIC=755.497, Time=0.98 sec\n",
      " ARIMA(0,1,3)(2,1,0)[12]             : AIC=755.384, Time=0.79 sec\n",
      " ARIMA(1,1,0)(0,1,0)[12]             : AIC=755.499, Time=0.04 sec\n",
      " ARIMA(1,1,0)(0,1,1)[12]             : AIC=755.982, Time=0.21 sec\n",
      " ARIMA(1,1,0)(0,1,2)[12]             : AIC=757.103, Time=1.23 sec\n",
      " ARIMA(1,1,0)(0,1,3)[12]             : AIC=756.433, Time=1.39 sec\n",
      " ARIMA(1,1,0)(1,1,0)[12]             : AIC=755.750, Time=0.13 sec\n",
      " ARIMA(1,1,0)(1,1,1)[12]             : AIC=757.649, Time=0.34 sec\n",
      " ARIMA(1,1,0)(1,1,2)[12]             : AIC=751.150, Time=2.82 sec\n",
      " ARIMA(1,1,0)(1,1,3)[12]             : AIC=752.557, Time=3.38 sec\n",
      " ARIMA(1,1,0)(2,1,0)[12]             : AIC=757.453, Time=0.34 sec\n",
      " ARIMA(1,1,0)(2,1,1)[12]             : AIC=752.986, Time=2.73 sec\n",
      " ARIMA(1,1,0)(2,1,2)[12]             : AIC=inf, Time=nan sec\n",
      " ARIMA(1,1,0)(3,1,0)[12]             : AIC=757.510, Time=0.77 sec\n",
      " ARIMA(1,1,0)(3,1,1)[12]             : AIC=753.167, Time=4.09 sec\n",
      " ARIMA(1,1,1)(0,1,0)[12]             : AIC=756.022, Time=0.07 sec\n",
      " ARIMA(1,1,1)(0,1,1)[12]             : AIC=756.629, Time=0.29 sec\n",
      " ARIMA(1,1,1)(0,1,2)[12]             : AIC=757.749, Time=1.56 sec\n",
      " ARIMA(1,1,1)(0,1,3)[12]             : AIC=757.733, Time=2.21 sec\n",
      " ARIMA(1,1,1)(1,1,0)[12]             : AIC=756.406, Time=0.21 sec\n",
      " ARIMA(1,1,1)(1,1,1)[12]             : AIC=758.260, Time=0.61 sec\n",
      " ARIMA(1,1,1)(1,1,2)[12]             : AIC=752.530, Time=3.76 sec\n",
      " ARIMA(1,1,1)(2,1,0)[12]             : AIC=758.031, Time=0.65 sec\n",
      " ARIMA(1,1,1)(2,1,1)[12]             : AIC=754.167, Time=2.86 sec\n",
      " ARIMA(1,1,1)(3,1,0)[12]             : AIC=758.462, Time=1.44 sec\n",
      " ARIMA(1,1,2)(0,1,0)[12]             : AIC=757.925, Time=0.08 sec\n",
      " ARIMA(1,1,2)(0,1,1)[12]             : AIC=758.441, Time=0.37 sec\n",
      " ARIMA(1,1,2)(0,1,2)[12]             : AIC=759.634, Time=1.59 sec\n",
      " ARIMA(1,1,2)(1,1,0)[12]             : AIC=758.220, Time=0.28 sec\n",
      " ARIMA(1,1,2)(1,1,1)[12]             : AIC=760.100, Time=0.64 sec\n",
      " ARIMA(1,1,2)(2,1,0)[12]             : AIC=759.915, Time=0.70 sec\n",
      " ARIMA(1,1,3)(0,1,0)[12]             : AIC=754.178, Time=0.21 sec\n",
      " ARIMA(1,1,3)(0,1,1)[12]             : AIC=753.995, Time=0.85 sec\n",
      " ARIMA(1,1,3)(1,1,0)[12]             : AIC=753.975, Time=0.75 sec\n",
      " ARIMA(2,1,0)(0,1,0)[12]             : AIC=756.771, Time=0.06 sec\n",
      " ARIMA(2,1,0)(0,1,1)[12]             : AIC=757.226, Time=0.23 sec\n",
      " ARIMA(2,1,0)(0,1,2)[12]             : AIC=758.313, Time=1.13 sec\n",
      " ARIMA(2,1,0)(0,1,3)[12]             : AIC=758.011, Time=1.45 sec\n",
      " ARIMA(2,1,0)(1,1,0)[12]             : AIC=756.982, Time=0.18 sec\n",
      " ARIMA(2,1,0)(1,1,1)[12]             : AIC=758.859, Time=0.50 sec\n",
      " ARIMA(2,1,0)(1,1,2)[12]             : AIC=752.774, Time=3.90 sec\n",
      " ARIMA(2,1,0)(2,1,0)[12]             : AIC=758.650, Time=0.59 sec\n",
      " ARIMA(2,1,0)(2,1,1)[12]             : AIC=754.508, Time=4.10 sec\n",
      " ARIMA(2,1,0)(3,1,0)[12]             : AIC=758.903, Time=1.12 sec\n",
      " ARIMA(2,1,1)(0,1,0)[12]             : AIC=757.976, Time=0.12 sec\n",
      " ARIMA(2,1,1)(0,1,1)[12]             : AIC=758.537, Time=0.55 sec\n",
      " ARIMA(2,1,1)(0,1,2)[12]             : AIC=759.694, Time=2.29 sec\n",
      " ARIMA(2,1,1)(1,1,0)[12]             : AIC=758.314, Time=0.32 sec\n",
      " ARIMA(2,1,1)(1,1,1)[12]             : AIC=760.183, Time=0.64 sec\n",
      " ARIMA(2,1,1)(2,1,0)[12]             : AIC=759.976, Time=0.92 sec\n",
      " ARIMA(2,1,2)(0,1,0)[12]             : AIC=755.201, Time=0.26 sec\n",
      " ARIMA(2,1,2)(0,1,1)[12]             : AIC=755.987, Time=0.69 sec\n",
      " ARIMA(2,1,2)(1,1,0)[12]             : AIC=755.821, Time=0.74 sec\n",
      " ARIMA(2,1,3)(0,1,0)[12]             : AIC=755.253, Time=0.54 sec\n",
      " ARIMA(3,1,0)(0,1,0)[12]             : AIC=755.605, Time=0.06 sec\n",
      " ARIMA(3,1,0)(0,1,1)[12]             : AIC=756.424, Time=0.33 sec\n",
      " ARIMA(3,1,0)(0,1,2)[12]             : AIC=757.829, Time=1.35 sec\n",
      " ARIMA(3,1,0)(1,1,0)[12]             : AIC=756.268, Time=0.19 sec\n",
      " ARIMA(3,1,0)(1,1,1)[12]             : AIC=758.159, Time=0.47 sec\n",
      " ARIMA(3,1,0)(2,1,0)[12]             : AIC=758.003, Time=0.56 sec\n",
      " ARIMA(3,1,1)(0,1,0)[12]             : AIC=754.435, Time=0.25 sec\n",
      " ARIMA(3,1,1)(0,1,1)[12]             : AIC=754.694, Time=0.71 sec\n",
      " ARIMA(3,1,1)(1,1,0)[12]             : AIC=754.571, Time=0.61 sec\n",
      " ARIMA(3,1,2)(0,1,0)[12]             : AIC=753.233, Time=0.58 sec\n",
      "Total fit time: 135.514 seconds\n"
     ]
    }
   ],
   "source": [
    "# Parameters search\n",
    "\n",
    "auto_arima_model = auto_arima(train_data, start_p=1, start_q=1, # p, q 시작값\n",
    "                             max_p=3, max_q=3, # p, q 최대값\n",
    "                             m=12, seasonal=True, # 계절성 있는지와 구간(True = SARIMA) / 계절성 없다고 생각되면 m빼고, False\n",
    "                             d=1, D=1, # 차분 최소, 최대\n",
    "                             max_P=3, max_Q=3, # P, Q 최대  ## start_P, start_Q의 default 값은 1이라 생략했음\n",
    "                             trace=True,  # 각 결과값은 print 해줌\n",
    "                             error_action='ignore',\n",
    "                             suppress_warnings=True,\n",
    "                             stepwise=False)"
   ]
  },
  {
   "cell_type": "code",
   "execution_count": 76,
   "metadata": {
    "ExecuteTime": {
     "end_time": "2020-12-02T14:14:54.906071Z",
     "start_time": "2020-12-02T14:14:54.884123Z"
    }
   },
   "outputs": [
    {
     "data": {
      "text/html": [
       "<table class=\"simpletable\">\n",
       "<caption>SARIMAX Results</caption>\n",
       "<tr>\n",
       "  <th>Dep. Variable:</th>                    <td>y</td>                  <th>  No. Observations:  </th>    <td>115</td>  \n",
       "</tr>\n",
       "<tr>\n",
       "  <th>Model:</th>           <td>SARIMAX(1, 1, 0)x(1, 1, [1, 2], 12)</td> <th>  Log Likelihood     </th> <td>-370.575</td>\n",
       "</tr>\n",
       "<tr>\n",
       "  <th>Date:</th>                     <td>Wed, 02 Dec 2020</td>           <th>  AIC                </th>  <td>751.150</td>\n",
       "</tr>\n",
       "<tr>\n",
       "  <th>Time:</th>                         <td>23:14:54</td>               <th>  BIC                </th>  <td>764.274</td>\n",
       "</tr>\n",
       "<tr>\n",
       "  <th>Sample:</th>                           <td>0</td>                  <th>  HQIC               </th>  <td>756.464</td>\n",
       "</tr>\n",
       "<tr>\n",
       "  <th></th>                               <td> - 115</td>                <th>                     </th>     <td> </td>   \n",
       "</tr>\n",
       "<tr>\n",
       "  <th>Covariance Type:</th>                 <td>opg</td>                 <th>                     </th>     <td> </td>   \n",
       "</tr>\n",
       "</table>\n",
       "<table class=\"simpletable\">\n",
       "<tr>\n",
       "      <td></td>        <th>coef</th>     <th>std err</th>      <th>z</th>      <th>P>|z|</th>  <th>[0.025</th>    <th>0.975]</th>  \n",
       "</tr>\n",
       "<tr>\n",
       "  <th>ar.L1</th>    <td>   -0.2362</td> <td>    0.093</td> <td>   -2.541</td> <td> 0.011</td> <td>   -0.418</td> <td>   -0.054</td>\n",
       "</tr>\n",
       "<tr>\n",
       "  <th>ar.S.L12</th> <td>    0.9981</td> <td>    0.192</td> <td>    5.208</td> <td> 0.000</td> <td>    0.622</td> <td>    1.374</td>\n",
       "</tr>\n",
       "<tr>\n",
       "  <th>ma.S.L12</th> <td>   -1.3630</td> <td>    2.095</td> <td>   -0.651</td> <td> 0.515</td> <td>   -5.470</td> <td>    2.744</td>\n",
       "</tr>\n",
       "<tr>\n",
       "  <th>ma.S.L24</th> <td>    0.3914</td> <td>    0.731</td> <td>    0.536</td> <td> 0.592</td> <td>   -1.041</td> <td>    1.823</td>\n",
       "</tr>\n",
       "<tr>\n",
       "  <th>sigma2</th>   <td>   70.2975</td> <td>  134.586</td> <td>    0.522</td> <td> 0.601</td> <td> -193.487</td> <td>  334.082</td>\n",
       "</tr>\n",
       "</table>\n",
       "<table class=\"simpletable\">\n",
       "<tr>\n",
       "  <th>Ljung-Box (Q):</th>          <td>39.85</td> <th>  Jarque-Bera (JB):  </th> <td>2.76</td>\n",
       "</tr>\n",
       "<tr>\n",
       "  <th>Prob(Q):</th>                <td>0.48</td>  <th>  Prob(JB):          </th> <td>0.25</td>\n",
       "</tr>\n",
       "<tr>\n",
       "  <th>Heteroskedasticity (H):</th> <td>1.09</td>  <th>  Skew:              </th> <td>0.38</td>\n",
       "</tr>\n",
       "<tr>\n",
       "  <th>Prob(H) (two-sided):</th>    <td>0.79</td>  <th>  Kurtosis:          </th> <td>2.72</td>\n",
       "</tr>\n",
       "</table><br/><br/>Warnings:<br/>[1] Covariance matrix calculated using the outer product of gradients (complex-step)."
      ],
      "text/plain": [
       "<class 'statsmodels.iolib.summary.Summary'>\n",
       "\"\"\"\n",
       "                                        SARIMAX Results                                        \n",
       "===============================================================================================\n",
       "Dep. Variable:                                       y   No. Observations:                  115\n",
       "Model:             SARIMAX(1, 1, 0)x(1, 1, [1, 2], 12)   Log Likelihood                -370.575\n",
       "Date:                                 Wed, 02 Dec 2020   AIC                            751.150\n",
       "Time:                                         23:14:54   BIC                            764.274\n",
       "Sample:                                              0   HQIC                           756.464\n",
       "                                                 - 115                                         \n",
       "Covariance Type:                                   opg                                         \n",
       "==============================================================================\n",
       "                 coef    std err          z      P>|z|      [0.025      0.975]\n",
       "------------------------------------------------------------------------------\n",
       "ar.L1         -0.2362      0.093     -2.541      0.011      -0.418      -0.054\n",
       "ar.S.L12       0.9981      0.192      5.208      0.000       0.622       1.374\n",
       "ma.S.L12      -1.3630      2.095     -0.651      0.515      -5.470       2.744\n",
       "ma.S.L24       0.3914      0.731      0.536      0.592      -1.041       1.823\n",
       "sigma2        70.2975    134.586      0.522      0.601    -193.487     334.082\n",
       "===================================================================================\n",
       "Ljung-Box (Q):                       39.85   Jarque-Bera (JB):                 2.76\n",
       "Prob(Q):                              0.48   Prob(JB):                         0.25\n",
       "Heteroskedasticity (H):               1.09   Skew:                             0.38\n",
       "Prob(H) (two-sided):                  0.79   Kurtosis:                         2.72\n",
       "===================================================================================\n",
       "\n",
       "Warnings:\n",
       "[1] Covariance matrix calculated using the outer product of gradients (complex-step).\n",
       "\"\"\""
      ]
     },
     "execution_count": 76,
     "metadata": {},
     "output_type": "execute_result"
    }
   ],
   "source": [
    "auto_arima_model.summary()\n",
    "# AIC가 751"
   ]
  },
  {
   "cell_type": "code",
   "execution_count": 77,
   "metadata": {
    "ExecuteTime": {
     "end_time": "2020-12-02T14:19:14.032501Z",
     "start_time": "2020-12-02T14:19:14.014545Z"
    }
   },
   "outputs": [],
   "source": [
    "prediction = auto_arima_model.predict(len(test_data), return_conf_int=True)\n",
    "predicted_value = prediction[0]\n",
    "predicted_ub = prediction[1][:,0]\n",
    "predicted_lb = prediction[1][:,1]\n",
    "predict_index = list(test_data.index)\n",
    "r2 = r2_score(test_data, predicted_value)"
   ]
  },
  {
   "cell_type": "code",
   "execution_count": 78,
   "metadata": {
    "ExecuteTime": {
     "end_time": "2020-12-02T14:19:28.070881Z",
     "start_time": "2020-12-02T14:19:27.736314Z"
    }
   },
   "outputs": [
    {
     "data": {
      "image/png": "[encoded data removed]",
      "text/plain": [
       "<Figure size 864x432 with 1 Axes>"
      ]
     },
     "metadata": {
      "needs_background": "light"
     },
     "output_type": "display_data"
    }
   ],
   "source": [
    "fig, ax = plt.subplots(figsize=(12,6))\n",
    "\n",
    "ax.plot(predict_index, predicted_value, color = 'orange', label = 'Prediction') # 예측값(위 vline 이후 구간에 표시됨)\n",
    "ax.fill_between(predict_index, predicted_lb, predicted_ub, color = 'k', alpha = 0.1, label = '0.95 Prediction Interval')\n",
    "\n",
    "data.plot(ax = ax);\n",
    "ax.vlines('1958-08-01', 0, 700, linestyle = '--', color = 'r', label = 'Start of Forecast') # x좌표를 날짜로 적음\n",
    "ax.legend(loc='upper left')\n",
    "plt.suptitle(f'SARIMA {optimal[0][0][0]},{optimal[0][0][1]} Prediction Results (r2_score: {round(r2,2)})')\n",
    "\n",
    "plt.show()\n",
    "\n",
    "# 예측 값의 추세가 실제 값을 상당히 잘 따라가고 있으며,\n",
    "# r2 score가 0.89로 훨씬 더 성능이 향상됨\n",
    "# 계절성을 반영한 것이 예측 성능을 향상시키는데 기여를 했다고 볼 수 있다."
   ]
  },
  {
   "cell_type": "markdown",
   "metadata": {},
   "source": [
    "# 07_기계학습_1"
   ]
  },
  {
   "cell_type": "markdown",
   "metadata": {},
   "source": [
    "## 다중 분류 모델 성능평가"
   ]
  },
  {
   "cell_type": "code",
   "execution_count": 4,
   "metadata": {
    "ExecuteTime": {
     "end_time": "2020-12-01T10:16:04.197582Z",
     "start_time": "2020-12-01T10:16:00.197818Z"
    }
   },
   "outputs": [
    {
     "name": "stdout",
     "output_type": "stream",
     "text": [
      "[[2 0 1]\n",
      " [0 1 1]\n",
      " [0 1 2]]\n",
      "              precision    recall  f1-score   support\n",
      "\n",
      "     class 0       1.00      0.67      0.80         3\n",
      "     class 1       0.50      0.50      0.50         2\n",
      "     class 2       0.50      0.67      0.57         3\n",
      "\n",
      "    accuracy                           0.62         8\n",
      "   macro avg       0.67      0.61      0.62         8\n",
      "weighted avg       0.69      0.62      0.64         8\n",
      "\n"
     ]
    }
   ],
   "source": [
    "# 다중 분류 모델 성능 평가\n",
    "\n",
    "from sklearn.metrics import classification_report\n",
    "from sklearn.metrics import confusion_matrix\n",
    "y_true = [0, 0, 0, 1, 1, 2, 2, 2]\n",
    "y_pred = [0, 0, 2, 1, 2, 2, 2, 1]\n",
    "print(confusion_matrix( y_true, y_pred))\n",
    "target_names = ['class 0', 'class 1', 'class 2']\n",
    "print(classification_report(y_true, y_pred, target_names=target_names))"
   ]
  },
  {
   "cell_type": "markdown",
   "metadata": {},
   "source": [
    "- 해석 : confusion matrics는 세로축이 실제값(y_true), 가로축이 예측값(y_pred)\n",
    "- 해석 : class 0의 precision은 1.00, recall 0.67, f1-score 0.80임\n",
    "- 해석 : 분류결과의 accuracy는 0.62, 전체의 단순평균 precision은 0.67, recall 0.61, f1-score 0.62임\n",
    "\n",
    "- macro avg: 단순평균\n",
    "- weighted avg: 각 클래스에 속하는 표본의 갯수로 가중평균"
   ]
  },
  {
   "cell_type": "code",
   "execution_count": null,
   "metadata": {},
   "outputs": [],
   "source": []
  },
  {
   "cell_type": "markdown",
   "metadata": {
    "ExecuteTime": {
     "end_time": "2020-11-30T13:42:35.293274Z",
     "start_time": "2020-11-30T13:42:35.289230Z"
    }
   },
   "source": [
    "## ROC 및 AUC (다중분류는 이어서 나옴)"
   ]
  },
  {
   "cell_type": "markdown",
   "metadata": {},
   "source": [
    "- ROC Curve\n",
    "- x축 : 허위 양성 비율(FPR) = FP/(FP+TN)\n",
    "- y축 : 참 양성 비율(TPR) = TP/(FP+FN)"
   ]
  },
  {
   "cell_type": "code",
   "execution_count": null,
   "metadata": {},
   "outputs": [],
   "source": [
    "model = LogisticRegression().fit(X, y)   # X, y를 fit하여 모델링\n",
    "y_hat = model.predict(X)   # 예측값 생성(y_hat) \n",
    "\n",
    "from sklearn.metrics import roc_curve\n",
    "\n",
    "# 방법 1\n",
    "fpr, tpr, thresholds = roc_curve(y, model.decision_function(X))\n",
    "\n",
    "# 방법 2 : decision_function 메서드를 제공하지 않는 모형은 predict_proba 명령을 써서 확률을 입력해도 된다.\n",
    "fpr, tpr, thresholds = roc_curve(y, model.predict_proba(X)[:, 1])\n",
    "\n",
    "# AUC : AUC가 1에 가까운 값이고 좋은 모형이다.\n",
    "from sklearn.metrics import auc\n",
    "auc(fpr1, tpr1)\n",
    "\n",
    "# 시각화 : 모델 두 개일 때\n",
    "fpr1, tpr1, thresholds1 = roc_curve(y, model1.decision_function(X)) # 모델 1\n",
    "fpr2, tpr2, thresholds1 = roc_curve(y, model2.decision_function(X)) # 모델 2\n",
    "\n",
    "plt.plot(fpr, tpr, 'o-', label=\"Logistic Regression\") # 모델 1\n",
    "plt.plot([0, 1], [0, 1], 'k--', label=\"random guess\") # 모델 2\n",
    "plt.plot([fallout], [recall], 'ro', ms=10)\n",
    "plt.xlabel('위양성률(Fall-Out)')\n",
    "plt.ylabel('재현률(Recall)')\n",
    "plt.title('Receiver operating characteristic example')\n",
    "plt.show()"
   ]
  },
  {
   "cell_type": "markdown",
   "metadata": {},
   "source": [
    "- MultiClass Classification\n",
    "- 다중 분류 문제에서는 One-versus-Rest(OvR) 문제로 가정하고 (사람, 개, 고양이를 분류하는 문제일 경우에는 사람 vs 나머지, 개 vs 나머지, 고양이 vs 나머지) 각 클래스마다 하나씩 ROC커브를 그립니다."
   ]
  },
  {
   "cell_type": "code",
   "execution_count": 29,
   "metadata": {
    "ExecuteTime": {
     "end_time": "2020-11-30T14:17:02.943671Z",
     "start_time": "2020-11-30T14:17:02.751638Z"
    }
   },
   "outputs": [
    {
     "data": {
      "image/png": "[encoded data removed]",
      "text/plain": [
       "<Figure size 432x288 with 1 Axes>"
      ]
     },
     "metadata": {
      "needs_background": "light"
     },
     "output_type": "display_data"
    },
    {
     "name": "stdout",
     "output_type": "stream",
     "text": [
      "ROC_AUC :  [1.0, 0.9818, 0.989]\n"
     ]
    }
   ],
   "source": [
    "from sklearn.metrics import roc_curve\n",
    "from sklearn.metrics import auc\n",
    "import matplotlib.pyplot as plt\n",
    "from sklearn.naive_bayes import GaussianNB\n",
    "from sklearn.datasets import load_iris\n",
    "from sklearn.preprocessing import label_binarize\n",
    "\n",
    "iris = load_iris()\n",
    "X = iris.data   # 독립변수가 있고\n",
    "\n",
    "\n",
    "# 이 아래부터 활용하면 됨\n",
    "y = label_binarize(iris.target, classes = [0, 1, 2])   # 종속변수 y를 더미화를 시킴\n",
    "\n",
    "fpr = [None] * 3   # class 개수만큼(여기선 3개)\n",
    "tpr = [None] * 3\n",
    "threshold = [None] * 3\n",
    "roc_auc = []\n",
    "\n",
    "for i in range(3):   # range 클래스 개수만큼\n",
    "    model = GaussianNB().fit(X, y[:, i])   # 모델링을 함\n",
    "    fpr[i], tpr[i], threshold[i] = roc_curve(y[:, i], model.predict_proba(X)[:, 1])\n",
    "    plt.plot(fpr[i], tpr[i])\n",
    "    \n",
    "    roc_auc.append(auc(fpr[i], tpr[i]))\n",
    "\n",
    "plt.xlabel('위양성률(Fall-Out)')\n",
    "plt.ylabel('재현률(Recall)')\n",
    "plt.show()\n",
    "print('ROC_AUC : ',roc_auc)"
   ]
  },
  {
   "cell_type": "markdown",
   "metadata": {},
   "source": [
    "## StandardScaler"
   ]
  },
  {
   "cell_type": "code",
   "execution_count": null,
   "metadata": {},
   "outputs": [],
   "source": [
    "from sklearn.preprocessing import StandardScaler\n",
    "\n",
    "# 스케일링 4단계\n",
    "scaler = StandardScaler()\n",
    "scaler.fit(X_train)\n",
    "X_train_scale = scaler.transform(X_train)\n",
    "X_test_scale = scaler.transform(X_test)"
   ]
  },
  {
   "cell_type": "code",
   "execution_count": null,
   "metadata": {},
   "outputs": [],
   "source": [
    "# 스케일링 전으로 되돌리기\n",
    "scaler.inverse_transform(X_test_scale)"
   ]
  },
  {
   "cell_type": "markdown",
   "metadata": {},
   "source": [
    "# 단계적 선택법 (ADP 실기 책 p.198 참고 -  R 코드임)\n"
   ]
  },
  {
   "cell_type": "code",
   "execution_count": null,
   "metadata": {},
   "outputs": [],
   "source": [
    "data = read.csv(file = 'ToyotaCorolla.csv', header=T)\n",
    "data\n",
    "\n",
    "lm_a <- lm(Price ~ ., data = data)\n",
    "summary(lm_a)\n",
    "\n",
    "result <- step(lm_a, direction=\"both\")\n",
    "result\n"
   ]
  }
 ],
 "metadata": {
  "kernelspec": {
   "display_name": "Python 3",
   "language": "python",
   "name": "python3"
  },
  "language_info": {
   "codemirror_mode": {
    "name": "ipython",
    "version": 3
   },
   "file_extension": ".py",
   "mimetype": "text/x-python",
   "name": "python",
   "nbconvert_exporter": "python",
   "pygments_lexer": "ipython3",
   "version": "3.7.4"
  },
  "toc": {
   "base_numbering": 1,
   "nav_menu": {},
   "number_sections": true,
   "sideBar": true,
   "skip_h1_title": false,
   "title_cell": "Table of Contents",
   "title_sidebar": "Contents",
   "toc_cell": false,
   "toc_position": {
    "height": "calc(100% - 180px)",
    "left": "10px",
    "top": "150px",
    "width": "384px"
   },
   "toc_section_display": true,
   "toc_window_display": true
  },
  "varInspector": {
   "cols": {
    "lenName": 16,
    "lenType": 16,
    "lenVar": 40
   },
   "kernels_config": {
    "python": {
     "delete_cmd_postfix": "",
     "delete_cmd_prefix": "del ",
     "library": "var_list.py",
     "varRefreshCmd": "print(var_dic_list())"
    },
    "r": {
     "delete_cmd_postfix": ") ",
     "delete_cmd_prefix": "rm(",
     "library": "var_list.r",
     "varRefreshCmd": "cat(var_dic_list()) "
    }
   },
   "types_to_exclude": [
    "module",
    "function",
    "builtin_function_or_method",
    "instance",
    "_Feature"
   ],
   "window_display": false
  }
 },
 "nbformat": 4,
 "nbformat_minor": 2
}
