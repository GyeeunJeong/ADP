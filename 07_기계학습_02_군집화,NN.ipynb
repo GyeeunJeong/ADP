{
  "cells": [
    {
      "cell_type": "markdown",
      "metadata": {
        "id": "view-in-github",
        "colab_type": "text"
      },
      "source": [
        "<a href=\"https://colab.research.google.com/github/joyfulspace/ADP/blob/master/07_%EA%B8%B0%EA%B3%84%ED%95%99%EC%8A%B5_02_%EA%B5%B0%EC%A7%91%ED%99%94%2C_NN.ipynb\" target=\"_parent\"><img src=\"https://colab.research.google.com/assets/colab-badge.svg\" alt=\"Open In Colab\"/></a>"
      ]
    },
    {
      "cell_type": "markdown",
      "metadata": {
        "id": "5ZrlKmoFQwu1"
      },
      "source": [
        "# 07_기계학습_2_군집화, Neural Network"
      ]
    },
    {
      "cell_type": "markdown",
      "metadata": {
        "id": "nh26xRTPQwu5"
      },
      "source": [
        "# 군집화\n",
        "[참고]\n",
        "- https://lovelydiary.tistory.com/380\n",
        "- https://lovelydiary.tistory.com/381\n",
        "[출처]\n",
        "- https://github.com/wikibook/pymlrev2/blob/main/7%EC%9E%A5/7-6_Clustering_Practice_Customer_Segmentation.ipynb"
      ]
    },
    {
      "cell_type": "markdown",
      "metadata": {
        "id": "X95t01X_Qwu6"
      },
      "source": [
        "## KMeans\n",
        "- 주요 Parameter : n_clusers=5, init='k-means++' 최초 중심점 설정 방식, max_iter=300\n",
        "- 주요 속성 : labels 각 데이터 포인트가 속한 군집 중심점 레이블 / cluster_centers 중심점 좌표\n"
      ]
    },
    {
      "cell_type": "markdown",
      "metadata": {
        "id": "pjSBjVZ0Qwu7"
      },
      "source": [
        "### 군집화 수행"
      ]
    },
    {
      "cell_type": "markdown",
      "metadata": {
        "id": "V760BnlfQwu7"
      },
      "source": [
        "- 라이브러리, 데이터 로딩"
      ]
    },
    {
      "cell_type": "code",
      "execution_count": 1,
      "metadata": {
        "ExecuteTime": {
          "end_time": "2020-09-16T15:13:32.857179Z",
          "start_time": "2020-09-16T15:13:29.697281Z"
        },
        "colab": {
          "base_uri": "https://localhost:8080/",
          "height": 143
        },
        "id": "2Vj95CqvQwu8",
        "outputId": "d08dcd0b-3ea1-491e-9ea8-01a0f8cbbfef"
      },
      "outputs": [
        {
          "output_type": "execute_result",
          "data": {
            "text/plain": [
              "   sepal_length  sepal_width  petal_length  petal_width\n",
              "0           5.1          3.5           1.4          0.2\n",
              "1           4.9          3.0           1.4          0.2\n",
              "2           4.7          3.2           1.3          0.2"
            ],
            "text/html": [
              "\n",
              "  <div id=\"df-ca3aa7a3-908e-428e-962a-367e231c62a0\">\n",
              "    <div class=\"colab-df-container\">\n",
              "      <div>\n",
              "<style scoped>\n",
              "    .dataframe tbody tr th:only-of-type {\n",
              "        vertical-align: middle;\n",
              "    }\n",
              "\n",
              "    .dataframe tbody tr th {\n",
              "        vertical-align: top;\n",
              "    }\n",
              "\n",
              "    .dataframe thead th {\n",
              "        text-align: right;\n",
              "    }\n",
              "</style>\n",
              "<table border=\"1\" class=\"dataframe\">\n",
              "  <thead>\n",
              "    <tr style=\"text-align: right;\">\n",
              "      <th></th>\n",
              "      <th>sepal_length</th>\n",
              "      <th>sepal_width</th>\n",
              "      <th>petal_length</th>\n",
              "      <th>petal_width</th>\n",
              "    </tr>\n",
              "  </thead>\n",
              "  <tbody>\n",
              "    <tr>\n",
              "      <th>0</th>\n",
              "      <td>5.1</td>\n",
              "      <td>3.5</td>\n",
              "      <td>1.4</td>\n",
              "      <td>0.2</td>\n",
              "    </tr>\n",
              "    <tr>\n",
              "      <th>1</th>\n",
              "      <td>4.9</td>\n",
              "      <td>3.0</td>\n",
              "      <td>1.4</td>\n",
              "      <td>0.2</td>\n",
              "    </tr>\n",
              "    <tr>\n",
              "      <th>2</th>\n",
              "      <td>4.7</td>\n",
              "      <td>3.2</td>\n",
              "      <td>1.3</td>\n",
              "      <td>0.2</td>\n",
              "    </tr>\n",
              "  </tbody>\n",
              "</table>\n",
              "</div>\n",
              "      <button class=\"colab-df-convert\" onclick=\"convertToInteractive('df-ca3aa7a3-908e-428e-962a-367e231c62a0')\"\n",
              "              title=\"Convert this dataframe to an interactive table.\"\n",
              "              style=\"display:none;\">\n",
              "        \n",
              "  <svg xmlns=\"http://www.w3.org/2000/svg\" height=\"24px\"viewBox=\"0 0 24 24\"\n",
              "       width=\"24px\">\n",
              "    <path d=\"M0 0h24v24H0V0z\" fill=\"none\"/>\n",
              "    <path d=\"M18.56 5.44l.94 2.06.94-2.06 2.06-.94-2.06-.94-.94-2.06-.94 2.06-2.06.94zm-11 1L8.5 8.5l.94-2.06 2.06-.94-2.06-.94L8.5 2.5l-.94 2.06-2.06.94zm10 10l.94 2.06.94-2.06 2.06-.94-2.06-.94-.94-2.06-.94 2.06-2.06.94z\"/><path d=\"M17.41 7.96l-1.37-1.37c-.4-.4-.92-.59-1.43-.59-.52 0-1.04.2-1.43.59L10.3 9.45l-7.72 7.72c-.78.78-.78 2.05 0 2.83L4 21.41c.39.39.9.59 1.41.59.51 0 1.02-.2 1.41-.59l7.78-7.78 2.81-2.81c.8-.78.8-2.07 0-2.86zM5.41 20L4 18.59l7.72-7.72 1.47 1.35L5.41 20z\"/>\n",
              "  </svg>\n",
              "      </button>\n",
              "      \n",
              "  <style>\n",
              "    .colab-df-container {\n",
              "      display:flex;\n",
              "      flex-wrap:wrap;\n",
              "      gap: 12px;\n",
              "    }\n",
              "\n",
              "    .colab-df-convert {\n",
              "      background-color: #E8F0FE;\n",
              "      border: none;\n",
              "      border-radius: 50%;\n",
              "      cursor: pointer;\n",
              "      display: none;\n",
              "      fill: #1967D2;\n",
              "      height: 32px;\n",
              "      padding: 0 0 0 0;\n",
              "      width: 32px;\n",
              "    }\n",
              "\n",
              "    .colab-df-convert:hover {\n",
              "      background-color: #E2EBFA;\n",
              "      box-shadow: 0px 1px 2px rgba(60, 64, 67, 0.3), 0px 1px 3px 1px rgba(60, 64, 67, 0.15);\n",
              "      fill: #174EA6;\n",
              "    }\n",
              "\n",
              "    [theme=dark] .colab-df-convert {\n",
              "      background-color: #3B4455;\n",
              "      fill: #D2E3FC;\n",
              "    }\n",
              "\n",
              "    [theme=dark] .colab-df-convert:hover {\n",
              "      background-color: #434B5C;\n",
              "      box-shadow: 0px 1px 3px 1px rgba(0, 0, 0, 0.15);\n",
              "      filter: drop-shadow(0px 1px 2px rgba(0, 0, 0, 0.3));\n",
              "      fill: #FFFFFF;\n",
              "    }\n",
              "  </style>\n",
              "\n",
              "      <script>\n",
              "        const buttonEl =\n",
              "          document.querySelector('#df-ca3aa7a3-908e-428e-962a-367e231c62a0 button.colab-df-convert');\n",
              "        buttonEl.style.display =\n",
              "          google.colab.kernel.accessAllowed ? 'block' : 'none';\n",
              "\n",
              "        async function convertToInteractive(key) {\n",
              "          const element = document.querySelector('#df-ca3aa7a3-908e-428e-962a-367e231c62a0');\n",
              "          const dataTable =\n",
              "            await google.colab.kernel.invokeFunction('convertToInteractive',\n",
              "                                                     [key], {});\n",
              "          if (!dataTable) return;\n",
              "\n",
              "          const docLinkHtml = 'Like what you see? Visit the ' +\n",
              "            '<a target=\"_blank\" href=https://colab.research.google.com/notebooks/data_table.ipynb>data table notebook</a>'\n",
              "            + ' to learn more about interactive tables.';\n",
              "          element.innerHTML = '';\n",
              "          dataTable['output_type'] = 'display_data';\n",
              "          await google.colab.output.renderOutput(dataTable, element);\n",
              "          const docLink = document.createElement('div');\n",
              "          docLink.innerHTML = docLinkHtml;\n",
              "          element.appendChild(docLink);\n",
              "        }\n",
              "      </script>\n",
              "    </div>\n",
              "  </div>\n",
              "  "
            ]
          },
          "metadata": {},
          "execution_count": 1
        }
      ],
      "source": [
        "from sklearn.preprocessing import scale\n",
        "from sklearn.datasets import load_iris\n",
        "from sklearn.cluster import KMeans\n",
        "import matplotlib.pyplot as plt\n",
        "import numpy as np\n",
        "import pandas as pd\n",
        "%matplotlib inline\n",
        "\n",
        "iris = load_iris()\n",
        "# 보다 편리한 데이터 Handling을 위해 DataFrame으로 변환\n",
        "irisDF = pd.DataFrame(data=iris.data, columns=['sepal_length','sepal_width','petal_length','petal_width'])\n",
        "irisDF.head(3)"
      ]
    },
    {
      "cell_type": "markdown",
      "metadata": {
        "id": "ptNLBUArQwu_"
      },
      "source": [
        "- KMeans 수행"
      ]
    },
    {
      "cell_type": "code",
      "execution_count": null,
      "metadata": {
        "ExecuteTime": {
          "end_time": "2020-09-16T15:14:05.666082Z",
          "start_time": "2020-09-16T15:14:05.625823Z"
        },
        "colab": {
          "base_uri": "https://localhost:8080/"
        },
        "id": "HgBGPV6mQwvA",
        "outputId": "74506fd2-7a0b-4f65-da22-456697000645"
      },
      "outputs": [
        {
          "output_type": "execute_result",
          "data": {
            "text/plain": [
              "KMeans(n_clusters=3, random_state=0)"
            ]
          },
          "metadata": {},
          "execution_count": 2
        }
      ],
      "source": [
        "kmeans = KMeans(n_clusters=3, init='k-means++', max_iter=300,random_state=0)\n",
        "kmeans.fit(irisDF) # X"
      ]
    },
    {
      "cell_type": "markdown",
      "metadata": {
        "id": "bye_HxqDQwvB"
      },
      "source": [
        "- 결과 표시"
      ]
    },
    {
      "cell_type": "code",
      "execution_count": null,
      "metadata": {
        "ExecuteTime": {
          "end_time": "2020-09-16T15:14:05.832695Z",
          "start_time": "2020-09-16T15:14:05.827817Z"
        },
        "colab": {
          "base_uri": "https://localhost:8080/"
        },
        "id": "8yScDps0QwvC",
        "outputId": "58fce83e-f550-4250-b9c9-a0c342a202d4"
      },
      "outputs": [
        {
          "output_type": "stream",
          "name": "stdout",
          "text": [
            "[1 1 1 1 1 1 1 1 1 1 1 1 1 1 1 1 1 1 1 1 1 1 1 1 1 1 1 1 1 1 1 1 1 1 1 1 1\n",
            " 1 1 1 1 1 1 1 1 1 1 1 1 1 0 0 2 0 0 0 0 0 0 0 0 0 0 0 0 0 0 0 0 0 0 0 0 0\n",
            " 0 0 0 2 0 0 0 0 0 0 0 0 0 0 0 0 0 0 0 0 0 0 0 0 0 0 2 0 2 2 2 2 0 2 2 2 2\n",
            " 2 2 0 0 2 2 2 2 0 2 0 2 0 2 2 0 0 2 2 2 2 2 0 2 2 2 2 0 2 2 2 0 2 2 2 0 2\n",
            " 2 0]\n"
          ]
        }
      ],
      "source": [
        "print(kmeans.labels_)"
      ]
    },
    {
      "cell_type": "markdown",
      "metadata": {
        "id": "bZgIirxSQwvD"
      },
      "source": [
        "- 군집화지만 실제와 비교해봄"
      ]
    },
    {
      "cell_type": "code",
      "execution_count": null,
      "metadata": {
        "ExecuteTime": {
          "end_time": "2020-09-16T15:19:16.102304Z",
          "start_time": "2020-09-16T15:19:16.090688Z"
        },
        "colab": {
          "base_uri": "https://localhost:8080/"
        },
        "id": "buCZeWfIQwvD",
        "outputId": "274f6040-c576-4c15-e993-6a6304b995fd"
      },
      "outputs": [
        {
          "output_type": "stream",
          "name": "stdout",
          "text": [
            "target  cluster\n",
            "0       1          50\n",
            "1       0          48\n",
            "        2           2\n",
            "2       0          14\n",
            "        2          36\n",
            "Name: sepal_length, dtype: int64\n"
          ]
        }
      ],
      "source": [
        "irisDF['cluster'] = kmeans.labels_ # KMeans Clustering 결과를 데이터에 붙임\n",
        "irisDF['target'] = iris.target # 군집화인데 그래도 y를 붙여본다\n",
        "iris_result = irisDF.groupby(['target','cluster'])['sepal_length'].count()\n",
        "print(iris_result)"
      ]
    },
    {
      "cell_type": "code",
      "source": [],
      "metadata": {
        "id": "46h0sJe6SMAm"
      },
      "execution_count": null,
      "outputs": []
    },
    {
      "cell_type": "markdown",
      "metadata": {
        "id": "CymPBaiLQwvE"
      },
      "source": [
        "### 새로운 데이터들에 군집 레이블링하기\n",
        "- 전처리를 똑같이 해줘야한다"
      ]
    },
    {
      "cell_type": "code",
      "execution_count": null,
      "metadata": {
        "id": "3om92nx0QwvF"
      },
      "outputs": [],
      "source": [
        "#cluster_labels = kmeans.fit_predict(X)\n",
        "#clusterDF['kmeans_label']  = cluster_labels"
      ]
    },
    {
      "cell_type": "markdown",
      "metadata": {
        "id": "iWgAy6KHQwvF"
      },
      "source": [
        "### 최적 군집 개수 계산"
      ]
    },
    {
      "cell_type": "markdown",
      "metadata": {
        "id": "sjz0UI3vQwvF"
      },
      "source": [
        "#### 성능평가 : 오차제곱합(SSE) 시각화 - 엘보우 찾기"
      ]
    },
    {
      "cell_type": "code",
      "execution_count": null,
      "metadata": {
        "ExecuteTime": {
          "end_time": "2020-09-16T15:50:31.038368Z",
          "start_time": "2020-09-16T15:50:31.032505Z"
        },
        "id": "yFlLtZc5QwvG",
        "outputId": "9b7578d1-9080-453f-ddb0-e1d56e421e0b"
      },
      "outputs": [
        {
          "data": {
            "text/plain": [
              "78.85144142614601"
            ]
          },
          "execution_count": 11,
          "metadata": {},
          "output_type": "execute_result"
        }
      ],
      "source": [
        "kmeans.inertia_ # 이게 SSE"
      ]
    },
    {
      "cell_type": "markdown",
      "metadata": {
        "id": "0dBaZR1GQwvG"
      },
      "source": [
        "- 군집 개수를 1개 ~ 10개로 비교"
      ]
    },
    {
      "cell_type": "code",
      "execution_count": null,
      "metadata": {
        "ExecuteTime": {
          "end_time": "2020-09-16T15:55:57.870687Z",
          "start_time": "2020-09-16T15:55:57.393193Z"
        },
        "id": "uWU1MKw6QwvG",
        "outputId": "7911ee77-f715-4dfd-a81c-55aa0672b89b"
      },
      "outputs": [
        {
          "data": {
            "image/png": "[encoded data removed]",
            "text/plain": [
              "<Figure size 432x288 with 1 Axes>"
            ]
          },
          "metadata": {
            "needs_background": "light"
          },
          "output_type": "display_data"
        }
      ],
      "source": [
        "def elbow(X):\n",
        "    sse = [] # 오차제곱합\n",
        "    for i in range(1,11):\n",
        "        km = KMeans(n_clusters=i, init='k-means++', random_state=0)\n",
        "        km.fit(X)\n",
        "        sse.append(km.inertia_)\n",
        "        \n",
        "    plt.plot(range(1,11), sse, marker ='o')\n",
        "    plt.xlabel('n_clusters')\n",
        "    plt.ylabel('SSE')\n",
        "    plt.show()\n",
        "    \n",
        "elbow(irisDF)"
      ]
    },
    {
      "cell_type": "markdown",
      "metadata": {
        "ExecuteTime": {
          "end_time": "2020-09-16T15:56:13.609622Z",
          "start_time": "2020-09-16T15:56:13.604964Z"
        },
        "id": "DJVWenyBQwvH"
      },
      "source": [
        "**해석**\n",
        "- 3개일 때가 최적"
      ]
    },
    {
      "cell_type": "markdown",
      "metadata": {
        "id": "VtDcTSbRQwvI"
      },
      "source": [
        "#### 성능평가 : 실루엣 분석 \n",
        "- 수치가 높을 수록 좋은 것 (0~1)\n",
        "- cluster 개수 2개~10개에 따른 실루엣 계수 확인"
      ]
    },
    {
      "cell_type": "code",
      "execution_count": null,
      "metadata": {
        "ExecuteTime": {
          "end_time": "2020-09-16T16:08:25.379493Z",
          "start_time": "2020-09-16T16:08:25.374440Z"
        },
        "id": "LnGIlDDTQwvI"
      },
      "outputs": [],
      "source": [
        "X = irisDF.iloc[:,0:4]"
      ]
    },
    {
      "cell_type": "code",
      "execution_count": null,
      "metadata": {
        "ExecuteTime": {
          "end_time": "2020-09-16T16:14:24.921082Z",
          "start_time": "2020-09-16T16:14:24.565719Z"
        },
        "colab": {
          "base_uri": "https://localhost:8080/"
        },
        "id": "aghcoze4QwvK",
        "outputId": "dac0f3b3-dc32-4712-8926-487def8fe83f"
      },
      "outputs": [
        {
          "output_type": "stream",
          "name": "stdout",
          "text": [
            "[0.681 0.553 0.498 0.493 0.365 0.357 0.362 0.349 0.331]\n"
          ]
        }
      ],
      "source": [
        "from sklearn.metrics import silhouette_samples, silhouette_score\n",
        "\n",
        "def sil(X):\n",
        "    si = [] # 실루엣계수\n",
        "    for i in range(2,11): # cluster가 2개인것 부터 10개까지!!!!\n",
        "        km = KMeans(n_clusters=i, init='k-means++', random_state=0)\n",
        "        km.fit(X)\n",
        "        si.append(silhouette_score(X, km.labels_))\n",
        "    print(np.round(si,3))\n",
        "sil(X)"
      ]
    },
    {
      "cell_type": "markdown",
      "metadata": {
        "id": "vUdrujsYQwvL"
      },
      "source": [
        "- 이건 k 개수 하나 찍어서 KMeans 수행하고, 그 결과 'cluster'로 실루엣 상세 확인하는 법"
      ]
    },
    {
      "cell_type": "code",
      "execution_count": null,
      "metadata": {
        "ExecuteTime": {
          "end_time": "2020-09-16T15:57:06.213832Z",
          "start_time": "2020-09-16T15:57:06.192458Z"
        },
        "colab": {
          "base_uri": "https://localhost:8080/"
        },
        "id": "oWPhTj2fQwvM",
        "outputId": "160f30e9-86a9-4f2b-9357-6929858fc19a"
      },
      "outputs": [
        {
          "output_type": "stream",
          "name": "stdout",
          "text": [
            "붓꽃 데이터셋 Silhouette Analysis Score:0.553\n",
            "silhouette_samples( ) return 값의 shape (150,)\n"
          ]
        },
        {
          "output_type": "execute_result",
          "data": {
            "text/plain": [
              "cluster\n",
              "0    0.417320\n",
              "1    0.798140\n",
              "2    0.451105\n",
              "Name: silhouette_coeff, dtype: float64"
            ]
          },
          "metadata": {},
          "execution_count": 11
        }
      ],
      "source": [
        "from sklearn.metrics import silhouette_samples, silhouette_score\n",
        "\n",
        "# 모든 데이터의 평균 실루엣 계수값을 구함. --> 이게 대표값이라 해야하나, 평균 실루엣 계수 값\n",
        "average_score = silhouette_score(iris.data, irisDF['cluster'])\n",
        "print('붓꽃 데이터셋 Silhouette Analysis Score:{0:.3f}'.format(average_score))\n",
        "\n",
        "# iris 의 모든 개별 데이터에 실루엣 계수값을 구함.  --> 데이터 각 행별 실루엣 계수값\n",
        "score_samples = silhouette_samples(iris.data, irisDF['cluster']) # (X, KMeans 결과)\n",
        "print('silhouette_samples( ) return 값의 shape' , score_samples.shape)\n",
        "# irisDF에 실루엣 계수 컬럼 추가\n",
        "irisDF['silhouette_coeff'] = score_samples\n",
        "\n",
        "# 군집별 실루엣 계수\n",
        "irisDF.groupby('cluster')['silhouette_coeff'].mean()"
      ]
    },
    {
      "cell_type": "code",
      "execution_count": null,
      "metadata": {
        "ExecuteTime": {
          "end_time": "2020-09-16T15:57:34.958493Z",
          "start_time": "2020-09-16T15:57:34.943451Z"
        },
        "colab": {
          "base_uri": "https://localhost:8080/",
          "height": 206
        },
        "id": "4ASlmUGVQwvN",
        "outputId": "677f9f2c-85b8-419f-9c37-07fa9a342e5e"
      },
      "outputs": [
        {
          "output_type": "execute_result",
          "data": {
            "text/plain": [
              "   sepal_length  sepal_width  petal_length  petal_width  cluster  target  \\\n",
              "0           5.1          3.5           1.4          0.2        1       0   \n",
              "1           4.9          3.0           1.4          0.2        1       0   \n",
              "2           4.7          3.2           1.3          0.2        1       0   \n",
              "3           4.6          3.1           1.5          0.2        1       0   \n",
              "4           5.0          3.6           1.4          0.2        1       0   \n",
              "\n",
              "   silhouette_coeff  \n",
              "0          0.852955  \n",
              "1          0.815495  \n",
              "2          0.829315  \n",
              "3          0.805014  \n",
              "4          0.849302  "
            ],
            "text/html": [
              "\n",
              "  <div id=\"df-fbbfa459-5cea-4c6b-b1f1-05600c5d577e\">\n",
              "    <div class=\"colab-df-container\">\n",
              "      <div>\n",
              "<style scoped>\n",
              "    .dataframe tbody tr th:only-of-type {\n",
              "        vertical-align: middle;\n",
              "    }\n",
              "\n",
              "    .dataframe tbody tr th {\n",
              "        vertical-align: top;\n",
              "    }\n",
              "\n",
              "    .dataframe thead th {\n",
              "        text-align: right;\n",
              "    }\n",
              "</style>\n",
              "<table border=\"1\" class=\"dataframe\">\n",
              "  <thead>\n",
              "    <tr style=\"text-align: right;\">\n",
              "      <th></th>\n",
              "      <th>sepal_length</th>\n",
              "      <th>sepal_width</th>\n",
              "      <th>petal_length</th>\n",
              "      <th>petal_width</th>\n",
              "      <th>cluster</th>\n",
              "      <th>target</th>\n",
              "      <th>silhouette_coeff</th>\n",
              "    </tr>\n",
              "  </thead>\n",
              "  <tbody>\n",
              "    <tr>\n",
              "      <th>0</th>\n",
              "      <td>5.1</td>\n",
              "      <td>3.5</td>\n",
              "      <td>1.4</td>\n",
              "      <td>0.2</td>\n",
              "      <td>1</td>\n",
              "      <td>0</td>\n",
              "      <td>0.852955</td>\n",
              "    </tr>\n",
              "    <tr>\n",
              "      <th>1</th>\n",
              "      <td>4.9</td>\n",
              "      <td>3.0</td>\n",
              "      <td>1.4</td>\n",
              "      <td>0.2</td>\n",
              "      <td>1</td>\n",
              "      <td>0</td>\n",
              "      <td>0.815495</td>\n",
              "    </tr>\n",
              "    <tr>\n",
              "      <th>2</th>\n",
              "      <td>4.7</td>\n",
              "      <td>3.2</td>\n",
              "      <td>1.3</td>\n",
              "      <td>0.2</td>\n",
              "      <td>1</td>\n",
              "      <td>0</td>\n",
              "      <td>0.829315</td>\n",
              "    </tr>\n",
              "    <tr>\n",
              "      <th>3</th>\n",
              "      <td>4.6</td>\n",
              "      <td>3.1</td>\n",
              "      <td>1.5</td>\n",
              "      <td>0.2</td>\n",
              "      <td>1</td>\n",
              "      <td>0</td>\n",
              "      <td>0.805014</td>\n",
              "    </tr>\n",
              "    <tr>\n",
              "      <th>4</th>\n",
              "      <td>5.0</td>\n",
              "      <td>3.6</td>\n",
              "      <td>1.4</td>\n",
              "      <td>0.2</td>\n",
              "      <td>1</td>\n",
              "      <td>0</td>\n",
              "      <td>0.849302</td>\n",
              "    </tr>\n",
              "  </tbody>\n",
              "</table>\n",
              "</div>\n",
              "      <button class=\"colab-df-convert\" onclick=\"convertToInteractive('df-fbbfa459-5cea-4c6b-b1f1-05600c5d577e')\"\n",
              "              title=\"Convert this dataframe to an interactive table.\"\n",
              "              style=\"display:none;\">\n",
              "        \n",
              "  <svg xmlns=\"http://www.w3.org/2000/svg\" height=\"24px\"viewBox=\"0 0 24 24\"\n",
              "       width=\"24px\">\n",
              "    <path d=\"M0 0h24v24H0V0z\" fill=\"none\"/>\n",
              "    <path d=\"M18.56 5.44l.94 2.06.94-2.06 2.06-.94-2.06-.94-.94-2.06-.94 2.06-2.06.94zm-11 1L8.5 8.5l.94-2.06 2.06-.94-2.06-.94L8.5 2.5l-.94 2.06-2.06.94zm10 10l.94 2.06.94-2.06 2.06-.94-2.06-.94-.94-2.06-.94 2.06-2.06.94z\"/><path d=\"M17.41 7.96l-1.37-1.37c-.4-.4-.92-.59-1.43-.59-.52 0-1.04.2-1.43.59L10.3 9.45l-7.72 7.72c-.78.78-.78 2.05 0 2.83L4 21.41c.39.39.9.59 1.41.59.51 0 1.02-.2 1.41-.59l7.78-7.78 2.81-2.81c.8-.78.8-2.07 0-2.86zM5.41 20L4 18.59l7.72-7.72 1.47 1.35L5.41 20z\"/>\n",
              "  </svg>\n",
              "      </button>\n",
              "      \n",
              "  <style>\n",
              "    .colab-df-container {\n",
              "      display:flex;\n",
              "      flex-wrap:wrap;\n",
              "      gap: 12px;\n",
              "    }\n",
              "\n",
              "    .colab-df-convert {\n",
              "      background-color: #E8F0FE;\n",
              "      border: none;\n",
              "      border-radius: 50%;\n",
              "      cursor: pointer;\n",
              "      display: none;\n",
              "      fill: #1967D2;\n",
              "      height: 32px;\n",
              "      padding: 0 0 0 0;\n",
              "      width: 32px;\n",
              "    }\n",
              "\n",
              "    .colab-df-convert:hover {\n",
              "      background-color: #E2EBFA;\n",
              "      box-shadow: 0px 1px 2px rgba(60, 64, 67, 0.3), 0px 1px 3px 1px rgba(60, 64, 67, 0.15);\n",
              "      fill: #174EA6;\n",
              "    }\n",
              "\n",
              "    [theme=dark] .colab-df-convert {\n",
              "      background-color: #3B4455;\n",
              "      fill: #D2E3FC;\n",
              "    }\n",
              "\n",
              "    [theme=dark] .colab-df-convert:hover {\n",
              "      background-color: #434B5C;\n",
              "      box-shadow: 0px 1px 3px 1px rgba(0, 0, 0, 0.15);\n",
              "      filter: drop-shadow(0px 1px 2px rgba(0, 0, 0, 0.3));\n",
              "      fill: #FFFFFF;\n",
              "    }\n",
              "  </style>\n",
              "\n",
              "      <script>\n",
              "        const buttonEl =\n",
              "          document.querySelector('#df-fbbfa459-5cea-4c6b-b1f1-05600c5d577e button.colab-df-convert');\n",
              "        buttonEl.style.display =\n",
              "          google.colab.kernel.accessAllowed ? 'block' : 'none';\n",
              "\n",
              "        async function convertToInteractive(key) {\n",
              "          const element = document.querySelector('#df-fbbfa459-5cea-4c6b-b1f1-05600c5d577e');\n",
              "          const dataTable =\n",
              "            await google.colab.kernel.invokeFunction('convertToInteractive',\n",
              "                                                     [key], {});\n",
              "          if (!dataTable) return;\n",
              "\n",
              "          const docLinkHtml = 'Like what you see? Visit the ' +\n",
              "            '<a target=\"_blank\" href=https://colab.research.google.com/notebooks/data_table.ipynb>data table notebook</a>'\n",
              "            + ' to learn more about interactive tables.';\n",
              "          element.innerHTML = '';\n",
              "          dataTable['output_type'] = 'display_data';\n",
              "          await google.colab.output.renderOutput(dataTable, element);\n",
              "          const docLink = document.createElement('div');\n",
              "          docLink.innerHTML = docLinkHtml;\n",
              "          element.appendChild(docLink);\n",
              "        }\n",
              "      </script>\n",
              "    </div>\n",
              "  </div>\n",
              "  "
            ]
          },
          "metadata": {},
          "execution_count": 12
        }
      ],
      "source": [
        "# 데이터 각각의 실루엣 계수\n",
        "irisDF.head()"
      ]
    },
    {
      "cell_type": "markdown",
      "metadata": {
        "id": "LeWiSEnOQwvN"
      },
      "source": [
        "### 군집화 결과 시각화 수행\n",
        "- 데이터의 변수가 4개라 PCA를 통해 2개 요소로 줄여서 산점도 구현"
      ]
    },
    {
      "cell_type": "code",
      "execution_count": null,
      "metadata": {
        "ExecuteTime": {
          "end_time": "2020-09-16T15:22:27.205944Z",
          "start_time": "2020-09-16T15:22:27.185956Z"
        },
        "colab": {
          "base_uri": "https://localhost:8080/",
          "height": 143
        },
        "id": "EjBuCJIzQwvO",
        "outputId": "47fcd31e-066a-4a92-c082-5161c370e696"
      },
      "outputs": [
        {
          "output_type": "execute_result",
          "data": {
            "text/plain": [
              "   sepal_length  sepal_width  petal_length  petal_width  cluster  target  \\\n",
              "0           5.1          3.5           1.4          0.2        1       0   \n",
              "1           4.9          3.0           1.4          0.2        1       0   \n",
              "2           4.7          3.2           1.3          0.2        1       0   \n",
              "\n",
              "   silhouette_coeff     pca_x     pca_y  \n",
              "0          0.852955 -2.684126  0.319397  \n",
              "1          0.815495 -2.714142 -0.177001  \n",
              "2          0.829315 -2.888991 -0.144949  "
            ],
            "text/html": [
              "\n",
              "  <div id=\"df-3ed17224-92a8-49c5-a63c-dd81a5ebf2bb\">\n",
              "    <div class=\"colab-df-container\">\n",
              "      <div>\n",
              "<style scoped>\n",
              "    .dataframe tbody tr th:only-of-type {\n",
              "        vertical-align: middle;\n",
              "    }\n",
              "\n",
              "    .dataframe tbody tr th {\n",
              "        vertical-align: top;\n",
              "    }\n",
              "\n",
              "    .dataframe thead th {\n",
              "        text-align: right;\n",
              "    }\n",
              "</style>\n",
              "<table border=\"1\" class=\"dataframe\">\n",
              "  <thead>\n",
              "    <tr style=\"text-align: right;\">\n",
              "      <th></th>\n",
              "      <th>sepal_length</th>\n",
              "      <th>sepal_width</th>\n",
              "      <th>petal_length</th>\n",
              "      <th>petal_width</th>\n",
              "      <th>cluster</th>\n",
              "      <th>target</th>\n",
              "      <th>silhouette_coeff</th>\n",
              "      <th>pca_x</th>\n",
              "      <th>pca_y</th>\n",
              "    </tr>\n",
              "  </thead>\n",
              "  <tbody>\n",
              "    <tr>\n",
              "      <th>0</th>\n",
              "      <td>5.1</td>\n",
              "      <td>3.5</td>\n",
              "      <td>1.4</td>\n",
              "      <td>0.2</td>\n",
              "      <td>1</td>\n",
              "      <td>0</td>\n",
              "      <td>0.852955</td>\n",
              "      <td>-2.684126</td>\n",
              "      <td>0.319397</td>\n",
              "    </tr>\n",
              "    <tr>\n",
              "      <th>1</th>\n",
              "      <td>4.9</td>\n",
              "      <td>3.0</td>\n",
              "      <td>1.4</td>\n",
              "      <td>0.2</td>\n",
              "      <td>1</td>\n",
              "      <td>0</td>\n",
              "      <td>0.815495</td>\n",
              "      <td>-2.714142</td>\n",
              "      <td>-0.177001</td>\n",
              "    </tr>\n",
              "    <tr>\n",
              "      <th>2</th>\n",
              "      <td>4.7</td>\n",
              "      <td>3.2</td>\n",
              "      <td>1.3</td>\n",
              "      <td>0.2</td>\n",
              "      <td>1</td>\n",
              "      <td>0</td>\n",
              "      <td>0.829315</td>\n",
              "      <td>-2.888991</td>\n",
              "      <td>-0.144949</td>\n",
              "    </tr>\n",
              "  </tbody>\n",
              "</table>\n",
              "</div>\n",
              "      <button class=\"colab-df-convert\" onclick=\"convertToInteractive('df-3ed17224-92a8-49c5-a63c-dd81a5ebf2bb')\"\n",
              "              title=\"Convert this dataframe to an interactive table.\"\n",
              "              style=\"display:none;\">\n",
              "        \n",
              "  <svg xmlns=\"http://www.w3.org/2000/svg\" height=\"24px\"viewBox=\"0 0 24 24\"\n",
              "       width=\"24px\">\n",
              "    <path d=\"M0 0h24v24H0V0z\" fill=\"none\"/>\n",
              "    <path d=\"M18.56 5.44l.94 2.06.94-2.06 2.06-.94-2.06-.94-.94-2.06-.94 2.06-2.06.94zm-11 1L8.5 8.5l.94-2.06 2.06-.94-2.06-.94L8.5 2.5l-.94 2.06-2.06.94zm10 10l.94 2.06.94-2.06 2.06-.94-2.06-.94-.94-2.06-.94 2.06-2.06.94z\"/><path d=\"M17.41 7.96l-1.37-1.37c-.4-.4-.92-.59-1.43-.59-.52 0-1.04.2-1.43.59L10.3 9.45l-7.72 7.72c-.78.78-.78 2.05 0 2.83L4 21.41c.39.39.9.59 1.41.59.51 0 1.02-.2 1.41-.59l7.78-7.78 2.81-2.81c.8-.78.8-2.07 0-2.86zM5.41 20L4 18.59l7.72-7.72 1.47 1.35L5.41 20z\"/>\n",
              "  </svg>\n",
              "      </button>\n",
              "      \n",
              "  <style>\n",
              "    .colab-df-container {\n",
              "      display:flex;\n",
              "      flex-wrap:wrap;\n",
              "      gap: 12px;\n",
              "    }\n",
              "\n",
              "    .colab-df-convert {\n",
              "      background-color: #E8F0FE;\n",
              "      border: none;\n",
              "      border-radius: 50%;\n",
              "      cursor: pointer;\n",
              "      display: none;\n",
              "      fill: #1967D2;\n",
              "      height: 32px;\n",
              "      padding: 0 0 0 0;\n",
              "      width: 32px;\n",
              "    }\n",
              "\n",
              "    .colab-df-convert:hover {\n",
              "      background-color: #E2EBFA;\n",
              "      box-shadow: 0px 1px 2px rgba(60, 64, 67, 0.3), 0px 1px 3px 1px rgba(60, 64, 67, 0.15);\n",
              "      fill: #174EA6;\n",
              "    }\n",
              "\n",
              "    [theme=dark] .colab-df-convert {\n",
              "      background-color: #3B4455;\n",
              "      fill: #D2E3FC;\n",
              "    }\n",
              "\n",
              "    [theme=dark] .colab-df-convert:hover {\n",
              "      background-color: #434B5C;\n",
              "      box-shadow: 0px 1px 3px 1px rgba(0, 0, 0, 0.15);\n",
              "      filter: drop-shadow(0px 1px 2px rgba(0, 0, 0, 0.3));\n",
              "      fill: #FFFFFF;\n",
              "    }\n",
              "  </style>\n",
              "\n",
              "      <script>\n",
              "        const buttonEl =\n",
              "          document.querySelector('#df-3ed17224-92a8-49c5-a63c-dd81a5ebf2bb button.colab-df-convert');\n",
              "        buttonEl.style.display =\n",
              "          google.colab.kernel.accessAllowed ? 'block' : 'none';\n",
              "\n",
              "        async function convertToInteractive(key) {\n",
              "          const element = document.querySelector('#df-3ed17224-92a8-49c5-a63c-dd81a5ebf2bb');\n",
              "          const dataTable =\n",
              "            await google.colab.kernel.invokeFunction('convertToInteractive',\n",
              "                                                     [key], {});\n",
              "          if (!dataTable) return;\n",
              "\n",
              "          const docLinkHtml = 'Like what you see? Visit the ' +\n",
              "            '<a target=\"_blank\" href=https://colab.research.google.com/notebooks/data_table.ipynb>data table notebook</a>'\n",
              "            + ' to learn more about interactive tables.';\n",
              "          element.innerHTML = '';\n",
              "          dataTable['output_type'] = 'display_data';\n",
              "          await google.colab.output.renderOutput(dataTable, element);\n",
              "          const docLink = document.createElement('div');\n",
              "          docLink.innerHTML = docLinkHtml;\n",
              "          element.appendChild(docLink);\n",
              "        }\n",
              "      </script>\n",
              "    </div>\n",
              "  </div>\n",
              "  "
            ]
          },
          "metadata": {},
          "execution_count": 13
        }
      ],
      "source": [
        "from sklearn.decomposition import PCA\n",
        "\n",
        "pca = PCA(n_components=2)\n",
        "pca_transformed = pca.fit_transform(iris.data)\n",
        "\n",
        "irisDF['pca_x'] = pca_transformed[:,0]\n",
        "irisDF['pca_y'] = pca_transformed[:,1]\n",
        "irisDF.head(3)"
      ]
    },
    {
      "cell_type": "code",
      "execution_count": null,
      "metadata": {
        "ExecuteTime": {
          "end_time": "2020-09-16T15:22:28.135191Z",
          "start_time": "2020-09-16T15:22:27.867323Z"
        },
        "colab": {
          "base_uri": "https://localhost:8080/",
          "height": 295
        },
        "id": "IJcV5k8JQwvP",
        "outputId": "6fbb2901-df1d-4291-ad68-6bb5aee55e2a"
      },
      "outputs": [
        {
          "output_type": "display_data",
          "data": {
            "text/plain": [
              "<Figure size 432x288 with 1 Axes>"
            ],
            "image/png": "[encoded data removed]"
          },
          "metadata": {
            "needs_background": "light"
          }
        }
      ],
      "source": [
        "# cluster 값이 0, 1, 2 인 경우마다 별도의 Index로 추출\n",
        "marker0_ind = irisDF[irisDF['cluster']==0].index\n",
        "marker1_ind = irisDF[irisDF['cluster']==1].index\n",
        "marker2_ind = irisDF[irisDF['cluster']==2].index\n",
        "\n",
        "# cluster값 0, 1, 2에 해당하는 Index로 각 cluster 레벨의 pca_x, pca_y 값 추출. o, s, ^ 로 marker 표시\n",
        "plt.scatter(x=irisDF.loc[marker0_ind,'pca_x'], y=irisDF.loc[marker0_ind,'pca_y'], marker='o') \n",
        "plt.scatter(x=irisDF.loc[marker1_ind,'pca_x'], y=irisDF.loc[marker1_ind,'pca_y'], marker='s')\n",
        "plt.scatter(x=irisDF.loc[marker2_ind,'pca_x'], y=irisDF.loc[marker2_ind,'pca_y'], marker='^')\n",
        "\n",
        "plt.xlabel('PCA 1')\n",
        "plt.ylabel('PCA 2')\n",
        "plt.title('3 Clusters Visualization by 2 PCA Components')\n",
        "plt.show()"
      ]
    },
    {
      "cell_type": "markdown",
      "source": [
        "\n",
        "- 전체 데이터의 평균 실루엣 계수 값이 높다고 해서 반드시 최적의 군집 개수로 군집화가 잘 됐다고 볼 수 없음. 개별 군집별로 적당히 거리를 유지하면서 군집 내의 데이터가 서로 뭉쳐있을 대 적절한 군집 개수 설정되었다고 판단.\n",
        "- 실루엣계수를 시각화 해서 평가하는데 도움이 될 수 있음\n",
        "  - 시각화했을 때, 군집별 실루엣계수가 평균 실루엣계수보다 높고 군집별로 실루엣계수가 비슷하면 좋은 군집\n",
        "- 데이터가 너무 클 때는 계산량이 매우 증가함. 이 경우 데이터 샘플링해서 평가하는 방안 고민하기"
      ],
      "metadata": {
        "id": "5IXLxcpGT2jU"
      }
    },
    {
      "cell_type": "code",
      "source": [
        "### 여러개의 클러스터링 갯수를 List로 입력 받아 각각의 실루엣 계수를 면적으로 시각화한 함수 작성  \n",
        "def visualize_silhouette(cluster_lists, X_features): \n",
        "    \n",
        "    from sklearn.datasets import make_blobs\n",
        "    from sklearn.cluster import KMeans\n",
        "    from sklearn.metrics import silhouette_samples, silhouette_score\n",
        "\n",
        "    import matplotlib.pyplot as plt\n",
        "    import matplotlib.cm as cm\n",
        "    import math\n",
        "    \n",
        "    # 입력값으로 클러스터링 갯수들을 리스트로 받아서, 각 갯수별로 클러스터링을 적용하고 실루엣 개수를 구함\n",
        "    n_cols = len(cluster_lists)\n",
        "    \n",
        "    # plt.subplots()으로 리스트에 기재된 클러스터링 만큼의 sub figures를 가지는 axs 생성 \n",
        "    fig, axs = plt.subplots(figsize=(4*n_cols, 4), nrows=1, ncols=n_cols)\n",
        "    \n",
        "    # 리스트에 기재된 클러스터링 갯수들을 차례로 iteration 수행하면서 실루엣 개수 시각화\n",
        "    for ind, n_cluster in enumerate(cluster_lists):\n",
        "        \n",
        "        # KMeans 클러스터링 수행하고, 실루엣 스코어와 개별 데이터의 실루엣 값 계산. \n",
        "        clusterer = KMeans(n_clusters = n_cluster, max_iter=500, random_state=0)\n",
        "        cluster_labels = clusterer.fit_predict(X_features)\n",
        "        \n",
        "        sil_avg = silhouette_score(X_features, cluster_labels)\n",
        "        sil_values = silhouette_samples(X_features, cluster_labels)\n",
        "        \n",
        "        y_lower = 10\n",
        "        axs[ind].set_title('Number of Cluster : '+ str(n_cluster)+'\\n' \\\n",
        "                          'Silhouette Score :' + str(round(sil_avg,3)) )\n",
        "        axs[ind].set_xlabel(\"The silhouette coefficient values\")\n",
        "        axs[ind].set_ylabel(\"Cluster label\")\n",
        "        axs[ind].set_xlim([-0.1, 1])\n",
        "        axs[ind].set_ylim([0, len(X_features) + (n_cluster + 1) * 10])\n",
        "        axs[ind].set_yticks([])  # Clear the yaxis labels / ticks\n",
        "        axs[ind].set_xticks([0, 0.2, 0.4, 0.6, 0.8, 1])\n",
        "        \n",
        "        # 클러스터링 갯수별로 fill_betweenx( )형태의 막대 그래프 표현. \n",
        "        for i in range(n_cluster):\n",
        "            ith_cluster_sil_values = sil_values[cluster_labels==i]\n",
        "            ith_cluster_sil_values.sort()\n",
        "            \n",
        "            size_cluster_i = ith_cluster_sil_values.shape[0]\n",
        "            y_upper = y_lower + size_cluster_i\n",
        "            \n",
        "            color = cm.nipy_spectral(float(i) / n_cluster)\n",
        "            axs[ind].fill_betweenx(np.arange(y_lower, y_upper), 0, ith_cluster_sil_values, \\\n",
        "                                facecolor=color, edgecolor=color, alpha=0.7)\n",
        "            axs[ind].text(-0.05, y_lower + 0.5 * size_cluster_i, str(i))\n",
        "            y_lower = y_upper + 10\n",
        "            \n",
        "        axs[ind].axvline(x=sil_avg, color=\"red\", linestyle=\"--\")"
      ],
      "metadata": {
        "id": "yx61xqiaSXYp"
      },
      "execution_count": null,
      "outputs": []
    },
    {
      "cell_type": "code",
      "source": [
        "visualize_silhouette([2,3,4,5], X)"
      ],
      "metadata": {
        "colab": {
          "base_uri": "https://localhost:8080/",
          "height": 302
        },
        "id": "AFazCmZvYP6Z",
        "outputId": "3834fa15-835e-42c6-a320-b52124dc7366"
      },
      "execution_count": null,
      "outputs": [
        {
          "output_type": "display_data",
          "data": {
            "text/plain": [
              "<Figure size 1152x288 with 4 Axes>"
            ],
            "image/png": "[encoded data removed]"
          },
          "metadata": {
            "needs_background": "light"
          }
        }
      ]
    },
    {
      "cell_type": "markdown",
      "metadata": {
        "id": "hGNXD3MtQwvQ"
      },
      "source": [
        "## 평균 이동 (Mean Shift)\n",
        "- 컴퓨터 비전, 이미지/영상 인식 등에 주로 사용\n",
        "- KMeans는 데이터의 평균 거리 중심으로 이동하는 반면, 평균 이동은 중심이 데이터 밀도가 높은 곳으로 이동 시킴\n",
        "- 군집 중심점을 찾기 위해 확률밀도함수를 이용함\n",
        "  - 확률 밀도 함수가 피크인 점을 군집 중심점으로 선정.\n",
        "  - KDE(Kernel Density Estimation)으로 확률 밀도 함수 찾음\n",
        "  1. 특정 데이터를 반경 내의 데이터 분포 확률 밀도가 가장 높은 곳으로 이동하기 위해 주변 데이터와의 거리 값을 KDE 함수 값으로 입력\n",
        "  2. KDE함수 반환값을 현재 위치에서 업데이트하면서 이동\n",
        "  3. 반복해서 데이터 군집 중심점 찾아냄\n",
        "- 군집의 개수 지정이 필요 없음, 대신 대역폭(bandwidth)의 값을 지정함\n",
        "  - 대역폭: KDE 형태를 Smoothing하는데 적용. 값이 작으면 그래프모양이 좁고 뾰족, 오버피팅되기 쉬움. 값이 크면 넓고 부드러움, 과소적합하기 쉬움.\n",
        "  - 대역폭이 클수록 적은 군집 중심점을 가지고, 작을수록 큰 군집 중심점을 가짐.\n",
        "\n",
        "- 데이터 세트의 형태를 가정하지 않아 유연한 군집화 가능.\n",
        "- 이상치의 영향력 크지 않고 미리 군집 개수 정할 필요 없음\n",
        "-단, 알고리즘 수행 시간 오래 걸리고 bandwidth 크기에 따른 영향이 매우 큼"
      ]
    },
    {
      "cell_type": "markdown",
      "metadata": {
        "id": "AHXikzs8QwvQ"
      },
      "source": [
        "- 라이브러리 로딩 및 데이터 생성"
      ]
    },
    {
      "cell_type": "code",
      "execution_count": null,
      "metadata": {
        "ExecuteTime": {
          "end_time": "2020-09-16T16:22:51.609023Z",
          "start_time": "2020-09-16T16:22:51.603098Z"
        },
        "id": "qUF6bNJcQwvQ"
      },
      "outputs": [],
      "source": [
        "import numpy as np\n",
        "from sklearn.datasets import make_blobs\n",
        "from sklearn.cluster import MeanShift\n",
        "\n",
        "X, y = make_blobs(n_samples=200, n_features=2, centers=3, \n",
        "                  cluster_std=0.8, random_state=0)"
      ]
    },
    {
      "cell_type": "markdown",
      "metadata": {
        "id": "zgAmMUECQwvR"
      },
      "source": [
        "- 최적 bandwidth 개수 찾기"
      ]
    },
    {
      "cell_type": "code",
      "execution_count": null,
      "metadata": {
        "ExecuteTime": {
          "end_time": "2020-09-16T16:26:54.396987Z",
          "start_time": "2020-09-16T16:26:54.388650Z"
        },
        "colab": {
          "base_uri": "https://localhost:8080/"
        },
        "id": "1AR4ql3hQwvS",
        "outputId": "a78da5f8-d716-415b-edd1-07e66c4e2d69"
      },
      "outputs": [
        {
          "output_type": "stream",
          "name": "stdout",
          "text": [
            "bandwidth 값: 1.689\n"
          ]
        }
      ],
      "source": [
        "from sklearn.cluster import estimate_bandwidth\n",
        "\n",
        "best_bandwidth = estimate_bandwidth(X, quantile=0.25)\n",
        "print('bandwidth 값:', round(best_bandwidth, 3))"
      ]
    },
    {
      "cell_type": "markdown",
      "metadata": {
        "id": "Rp732BenQwvT"
      },
      "source": [
        "- 평균 이동 군집화 시행"
      ]
    },
    {
      "cell_type": "code",
      "execution_count": null,
      "metadata": {
        "ExecuteTime": {
          "end_time": "2020-09-16T16:24:52.512538Z",
          "start_time": "2020-09-16T16:24:51.916085Z"
        },
        "colab": {
          "base_uri": "https://localhost:8080/"
        },
        "id": "ont4depGQwvU",
        "outputId": "a6380bc9-9876-4fd8-b9f1-78184357c915"
      },
      "outputs": [
        {
          "output_type": "stream",
          "name": "stdout",
          "text": [
            "cluster labels 유형: [0 1 2]\n"
          ]
        }
      ],
      "source": [
        "# bandwidth = 1의 평균 이동 군집 --> label 3개\n",
        "meanshift= MeanShift(bandwidth=best_bandwidth)\n",
        "cluster_labels = meanshift.fit_predict(X)\n",
        "print('cluster labels 유형:', np.unique(cluster_labels))"
      ]
    },
    {
      "cell_type": "code",
      "execution_count": null,
      "metadata": {
        "ExecuteTime": {
          "end_time": "2020-09-16T16:27:26.393149Z",
          "start_time": "2020-09-16T16:27:26.387642Z"
        },
        "colab": {
          "base_uri": "https://localhost:8080/"
        },
        "id": "AnOo0E6FQwvU",
        "outputId": "39dc701d-8eda-41a5-cc0b-efbac0744673"
      },
      "outputs": [
        {
          "output_type": "execute_result",
          "data": {
            "text/plain": [
              "array([1, 0, 0, 1, 0, 1, 2, 2, 0, 1, 0, 1, 0, 0, 0, 1, 2, 2, 0, 1])"
            ]
          },
          "metadata": {},
          "execution_count": 22
        }
      ],
      "source": [
        "cluster_labels[:20]"
      ]
    },
    {
      "cell_type": "markdown",
      "source": [
        "* 군집화 시각화"
      ],
      "metadata": {
        "id": "Yr0f2XP_Jje7"
      }
    },
    {
      "cell_type": "code",
      "source": [
        "import matplotlib.pyplot as plt\n",
        "%matplotlib inline\n",
        "\n",
        "clusterDF = pd.DataFrame(data=X, columns=['ftr1', 'ftr2'])\n",
        "clusterDF['target'] = y\n",
        "clusterDF['meanshift_label'] = cluster_labels\n",
        "\n",
        "centers = meanshift.cluster_centers_\n",
        "unique_labels = np.unique(cluster_labels)\n",
        "markers = ['o', 's', '^', 'x', '*']\n",
        "\n",
        "for label in unique_labels:\n",
        "  label_cluster = clusterDF[clusterDF['meanshift_label']==label]\n",
        "  center_x_y = centers[label]\n",
        "\n",
        "  # 군집별로 다른 마커로 산점도 적용\n",
        "  plt.scatter(x=label_cluster['ftr1'], y=label_cluster['ftr2'], edgecolor='k', marker=markers[label])\n",
        "\n",
        "  # 군집별 중심 표현\n",
        "  plt.scatter(x=center_x_y[0], y=center_x_y[1], s=200, color='gray', alpha=0.9, marker=markers[label])\n",
        "  plt.scatter(x=center_x_y[0], y=center_x_y[1], s=70, color='k', edgecolor='k', marker='$%d$' %label)\n",
        "\n",
        "plt.show()"
      ],
      "metadata": {
        "colab": {
          "base_uri": "https://localhost:8080/",
          "height": 265
        },
        "id": "8z5wtcldJjVI",
        "outputId": "923d365d-9213-4153-ffab-0aa8cac69b43"
      },
      "execution_count": null,
      "outputs": [
        {
          "output_type": "display_data",
          "data": {
            "text/plain": [
              "<Figure size 432x288 with 1 Axes>"
            ],
            "image/png": "[encoded data removed]"
          },
          "metadata": {
            "needs_background": "light"
          }
        }
      ]
    },
    {
      "cell_type": "code",
      "source": [],
      "metadata": {
        "id": "sfwijiKVJjLQ"
      },
      "execution_count": null,
      "outputs": []
    },
    {
      "cell_type": "markdown",
      "metadata": {
        "id": "y5DMdZiIQwvV"
      },
      "source": [
        "## GMM 군집화 (Gaussian Mixture Model)\n",
        "- 데이터가 여러 개의 가우시안 분포가 섞인 것으로 간주\n",
        "  - 가우시안 분포(정규 분포): 평균 mu를 중심으로 좌우 표준편차 1에 전체 데이터의 68.27%, 좌우 표준편차 2에 95.45% 가지고 있음. 평균이 0이고, 표준편차가 1이면 표준 정규 분포라고 함.\n",
        "- 데이터 세트를 이루는 여러 개의 정규 분포 곡선을 추출하고, 개별 데이터가 이 중 어떤 정규 분포에 속하는지 결정\n",
        "  - 모수 추정: 개별 정규 분포의 평균과 분산 / 각 데이터가 어떤 정규 분포에 해당되는지 확률\n",
        "  - EM(Expectation and Maximization) 방법으로 모수 추정\n",
        "- KMeans는 거리 기반 군집화인 반면, GMM은 확률 기반 군집화임\n",
        "- 주요 파라미터 : n_components=3 섞인 정규분포의 개수가 3개라는 뜻\n",
        "- KMeans보다 유연하게 데이터에 적용되지만 시간이 오래 걸림"
      ]
    },
    {
      "cell_type": "code",
      "source": [
        "irisDF['target'] = iris.target"
      ],
      "metadata": {
        "id": "bh3M5NtnP1g6"
      },
      "execution_count": null,
      "outputs": []
    },
    {
      "cell_type": "code",
      "execution_count": null,
      "metadata": {
        "id": "U2Lp6XO1QwvV"
      },
      "outputs": [],
      "source": [
        "from sklearn.mixture import GaussianMixture\n",
        "\n",
        "gmm = GaussianMixture(n_components=3, random_state=0).fit(iris.data) # X 투입(군집화니까 y는 없을 수도 있음)\n",
        "gmm_cluster_labels = gmm.predict(iris.data) # 결과를 뱉어줌"
      ]
    },
    {
      "cell_type": "code",
      "source": [
        "irisDF['gmm_cluster'] = gmm_cluster_labels\n",
        "irisDF['target'] = iris.target\n",
        "\n",
        "# target에 따라 gmm_cluster 값 매핑 확인\n",
        "iris_result = irisDF.groupby(['target'])['gmm_cluster'].value_counts()"
      ],
      "metadata": {
        "id": "3nSDmtb0QkwX"
      },
      "execution_count": null,
      "outputs": []
    },
    {
      "cell_type": "code",
      "source": [
        "iris_result"
      ],
      "metadata": {
        "colab": {
          "base_uri": "https://localhost:8080/"
        },
        "id": "PHz3Ta6CQkdc",
        "outputId": "4fcc878a-4045-4cdc-d78a-c48c39704dc4"
      },
      "execution_count": null,
      "outputs": [
        {
          "output_type": "execute_result",
          "data": {
            "text/plain": [
              "target  gmm_cluster\n",
              "0       0              50\n",
              "1       2              45\n",
              "        1               5\n",
              "2       1              50\n",
              "Name: gmm_cluster, dtype: int64"
            ]
          },
          "metadata": {},
          "execution_count": 29
        }
      ]
    },
    {
      "cell_type": "code",
      "source": [
        "kmeans = KMeans"
      ],
      "metadata": {
        "id": "dge08dEMQkTj"
      },
      "execution_count": null,
      "outputs": []
    },
    {
      "cell_type": "markdown",
      "metadata": {
        "id": "7f_zKGxXQwvW"
      },
      "source": [
        "## DBSCAN 밀도 기반 군집화\n",
        "- 복잡한 기하학적 분포의 데이터 세트에 대해서도 군집화 잘 됨\n",
        "- 특정 공간 내에 데이터 밀도 차이를 기반으로 군집화\n",
        "- 주요 파라미터 : eps 입실론 주변 영역의 반경 / min_samples 핵심 포인트가 되기 위한 최소 데이터 수(입실론 주변에 포함되는 최소 데이터 수)\n",
        "- 군집개수 강제하지 않는게 좋음. eps 크면 노이즈 데이터 개수 작아짐, min_samples 크면 노이즈 데이터 개수 커짐\n",
        "- 정의\n",
        "  - 핵심 포인트: 주변 영역 내에 최소 데이터 개수 이상의 타 데이터를 가지고 잇을 경우\n",
        "  - 이웃 포인트: 주변 영역 내에 위치한 타 데이터\n",
        "  - 경계 포인트: 주변 영역 내에 최소 데이터 개수 이상의 이웃 포인트를 가지고 있지 않지만 핵심 포인트를 이웃 포인트로 가지고 있는 데이터\n",
        "  - 잡음 포인트: 최소 데이터 개수 이상의 이웃 포인트를 가지고 있지 않으며, 핵심 포인트도 이웃 포인트로 가지고 있지 않는 데이터\n",
        "- 방법\n",
        "  1. 임의의 핵심 포인트 찾음\n",
        "  2. 핵심 포인트의 이웃 포인트 중 핵심 포인트 될 수 있는 데이터 찾음(직접 접근)\n",
        "  3. 2와 같이 직접 접근 가능한 핵심 포인트들을 서로 연결해 군집화 구성\n"
      ]
    },
    {
      "cell_type": "code",
      "execution_count": 2,
      "metadata": {
        "id": "1FSa96oKQwvW",
        "colab": {
          "base_uri": "https://localhost:8080/"
        },
        "outputId": "00f27f40-036d-4009-e59b-635dc9965751"
      },
      "outputs": [
        {
          "output_type": "stream",
          "name": "stdout",
          "text": [
            "target  dbscan_cluster\n",
            "0        0                49\n",
            "        -1                 1\n",
            "1        1                46\n",
            "        -1                 4\n",
            "2        1                42\n",
            "        -1                 8\n",
            "Name: dbscan_cluster, dtype: int64\n"
          ]
        }
      ],
      "source": [
        "from sklearn.cluster import DBSCAN\n",
        "\n",
        "dbscan = DBSCAN(eps=0.6, min_samples=8, metric='euclidean')\n",
        "dbscan_labels = dbscan.fit_predict(iris.data)\n",
        "\n",
        "# 결과 붙여서 실제 y와 비교해보기\n",
        "irisDF['dbscan_cluster'] = dbscan_labels\n",
        "irisDF['target'] = iris.target\n",
        "\n",
        "iris_result = irisDF.groupby(['target'])['dbscan_cluster'].value_counts()\n",
        "print(iris_result)"
      ]
    },
    {
      "cell_type": "markdown",
      "source": [
        "cluster가 -1인 것은 노이즈."
      ],
      "metadata": {
        "id": "Gl79mUABl5NP"
      }
    },
    {
      "cell_type": "code",
      "source": [
        "def visualize_cluster_plot(clusterobj, dataframe, label_name, iscenter):\n",
        "  import matplotlib.pyplot as plt\n",
        "\n",
        "  clusterDF = dataframe[['ftr1', 'ftr2', label_name]]\n",
        "  unique_labels = clusterDF[label_name].unique()\n",
        "  markers = ['o', 's', '^', 'x', '*']\n",
        "  if iscenter:\n",
        "    centers = clusterobj.cluster_centers_\n",
        "\n",
        "  for label in unique_labels:\n",
        "    label_cluster = clusterDF[clusterDF[label_name]==label]\n",
        "\n",
        "    # 군집별로 다른 마커로 산점도 적용\n",
        "    plt.scatter(x=label_cluster['ftr1'], y=label_cluster['ftr2'], edgecolor='k', marker=markers[label])\n",
        "\n",
        "    # 군집별 중심 표현\n",
        "    if iscenter:\n",
        "      center_x_y = centers[label]\n",
        "      plt.scatter(x=center_x_y[0], y=center_x_y[1], s=200, color='gray', alpha=0.9, marker=markers[label])\n",
        "      plt.scatter(x=center_x_y[0], y=center_x_y[1], s=70, color='k', edgecolor='k', marker='$%d$' %label)\n",
        "\n",
        "  plt.show()"
      ],
      "metadata": {
        "id": "GUiyWEeSYBF6"
      },
      "execution_count": 16,
      "outputs": []
    },
    {
      "cell_type": "code",
      "source": [
        "from sklearn.decomposition import PCA\n",
        "\n",
        "# 2차원으로 시각화하기 위해 PCA n_components=2로 피처 데이터 세트 변환\n",
        "pca = PCA(n_components=2, random_state=0)\n",
        "pca_transformed = pca.fit_transform(iris.data)\n",
        "\n",
        "# visualize_cluster_2d() 함수는 ftr1, ftr2 칼럼을 좦표에 표현하므로 PCA 변환값을 해당 칼럼으로 생성\n",
        "irisDF['ftr1'] = pca_transformed[:, 0]\n",
        "irisDF['ftr2'] = pca_transformed[:, 1]\n",
        "\n",
        "visualize_cluster_plot(dbscan, irisDF, 'dbscan_cluster', iscenter=False)"
      ],
      "metadata": {
        "colab": {
          "base_uri": "https://localhost:8080/",
          "height": 269
        },
        "id": "HkOxzc9QmKa_",
        "outputId": "05fce208-aaff-47ad-9986-889aab92deec"
      },
      "execution_count": 17,
      "outputs": [
        {
          "output_type": "display_data",
          "data": {
            "text/plain": [
              "<Figure size 432x288 with 1 Axes>"
            ],
            "image/png": "[encoded data removed]"
          },
          "metadata": {
            "needs_background": "light"
          }
        }
      ]
    },
    {
      "cell_type": "markdown",
      "source": [
        "#### 이중원모양 데이터에 군집화 적용해보기"
      ],
      "metadata": {
        "id": "3OnhgJiNaaeb"
      }
    },
    {
      "cell_type": "code",
      "source": [
        "# 타겟\n",
        "from sklearn.datasets import make_circles\n",
        "\n",
        "X, y = make_circles(n_samples=1000, shuffle=True, noise=0.05, random_state=0, factor=0.5)\n",
        "clusterDF = pd.DataFrame(data=X, columns=['ftr1', 'ftr2'])\n",
        "clusterDF['target'] = y\n",
        "visualize_cluster_plot(None, clusterDF, 'target', iscenter=False)"
      ],
      "metadata": {
        "colab": {
          "base_uri": "https://localhost:8080/",
          "height": 265
        },
        "id": "KGv0lHWeYs2V",
        "outputId": "2c82bbff-26be-435d-ef38-e5268f6d5861"
      },
      "execution_count": 18,
      "outputs": [
        {
          "output_type": "display_data",
          "data": {
            "text/plain": [
              "<Figure size 432x288 with 1 Axes>"
            ],
            "image/png": "[encoded data removed]"
          },
          "metadata": {
            "needs_background": "light"
          }
        }
      ]
    },
    {
      "cell_type": "code",
      "source": [
        "# KMeans\n",
        "from sklearn.cluster import KMeans\n",
        "\n",
        "kmeans = KMeans(n_clusters=2, max_iter=1000, random_state=0)\n",
        "kmeans_labels = kmeans.fit_predict(X)\n",
        "clusterDF['kmeans_cluster'] = kmeans_labels\n",
        "\n",
        "visualize_cluster_plot(kmeans, clusterDF, 'kmeans_cluster', iscenter=True)"
      ],
      "metadata": {
        "colab": {
          "base_uri": "https://localhost:8080/",
          "height": 265
        },
        "id": "OhSN9iyGaZKE",
        "outputId": "683bcedf-90ae-4610-977f-5a5ff972adeb"
      },
      "execution_count": 21,
      "outputs": [
        {
          "output_type": "display_data",
          "data": {
            "text/plain": [
              "<Figure size 432x288 with 1 Axes>"
            ],
            "image/png": "[encoded data removed]"
          },
          "metadata": {
            "needs_background": "light"
          }
        }
      ]
    },
    {
      "cell_type": "code",
      "source": [
        "# GMM\n",
        "from sklearn.mixture import GaussianMixture\n",
        "\n",
        "gmm = GaussianMixture(n_components=2, random_state=0)\n",
        "gmm_labels = gmm.fit_predict(X)\n",
        "clusterDF['gmm_cluster'] = gmm_labels\n",
        "\n",
        "visualize_cluster_plot(gmm, clusterDF, 'gmm_cluster', iscenter=False)"
      ],
      "metadata": {
        "colab": {
          "base_uri": "https://localhost:8080/",
          "height": 265
        },
        "id": "lKQMAPrqbBB9",
        "outputId": "e5fd7b76-fbca-4132-bc5f-4eaebdf35f94"
      },
      "execution_count": 22,
      "outputs": [
        {
          "output_type": "display_data",
          "data": {
            "text/plain": [
              "<Figure size 432x288 with 1 Axes>"
            ],
            "image/png": "[encoded data removed]"
          },
          "metadata": {
            "needs_background": "light"
          }
        }
      ]
    },
    {
      "cell_type": "code",
      "source": [
        "# DBSCAN\n",
        "from sklearn.cluster import DBSCAN\n",
        "\n",
        "dbscan = DBSCAN(eps=0.2, min_samples=10, metric='euclidean')\n",
        "dbscan_labels = dbscan.fit_predict(X)\n",
        "clusterDF['dbscan_cluster'] = dbscan_labels\n",
        "\n",
        "visualize_cluster_plot(dbscan, clusterDF, 'dbscan_cluster', iscenter=False)"
      ],
      "metadata": {
        "colab": {
          "base_uri": "https://localhost:8080/",
          "height": 265
        },
        "id": "3N-sqD3yZWxQ",
        "outputId": "7c19bce7-87d3-4e85-ddb4-c333f4a0c913"
      },
      "execution_count": 20,
      "outputs": [
        {
          "output_type": "display_data",
          "data": {
            "text/plain": [
              "<Figure size 432x288 with 1 Axes>"
            ],
            "image/png": "[encoded data removed]"
          },
          "metadata": {
            "needs_background": "light"
          }
        }
      ]
    },
    {
      "cell_type": "markdown",
      "metadata": {
        "id": "dD77QGgBQwvW"
      },
      "source": [
        "## 병합 군집 Hierarchical Clustering"
      ]
    },
    {
      "cell_type": "code",
      "execution_count": null,
      "metadata": {
        "ExecuteTime": {
          "end_time": "2020-09-17T09:28:15.782004Z",
          "start_time": "2020-09-17T09:28:15.775026Z"
        },
        "id": "vhKiY9saQwvX"
      },
      "outputs": [],
      "source": [
        "from sklearn.datasets import load_iris\n",
        "iris = load_iris()\n",
        "X = iris.data\n",
        "Y = iris.target\n",
        "\n",
        "from sklearn.cluster import AgglomerativeClustering\n",
        "from sklearn.metrics import silhouette_score\n",
        "from sklearn.metrics import adjusted_mutual_info_score\n",
        "\n",
        "k_set = range(2,10)\n",
        "names = []\n",
        "models = []\n",
        "results = []\n",
        "silhouette_scores = []\n",
        "mutual_scores = []\n",
        "for k in k_set:\n",
        "    # Add model name\n",
        "    names.append('HC_k=%d' % k)\n",
        "    \n",
        "    # Call model\n",
        "    model = AgglomerativeClustering(n_clusters=k, affinity='euclidean', \n",
        "                                    linkage='ward')\n",
        "    \n",
        "    # Get cluster IDs \n",
        "    result = model.fit_predict(X)\n",
        "    \n",
        "    models.append(model)\n",
        "    results.append(result)\n",
        "\n",
        "    # Calculate silhouette score\n",
        "    silhouette_scores.append(silhouette_score(X, result, metric='euclidean'))\n",
        "\n",
        "    # Calculate mutual_information\n",
        "    mutual_scores.append(adjusted_mutual_info_score(Y, result))"
      ]
    },
    {
      "cell_type": "code",
      "execution_count": null,
      "metadata": {
        "ExecuteTime": {
          "end_time": "2020-09-17T09:29:06.772592Z",
          "start_time": "2020-09-17T09:29:03.463444Z"
        },
        "id": "wl9uenFOQwvX",
        "outputId": "6079e9ff-aa71-4527-8e9b-c4f1f9d4c6f9"
      },
      "outputs": [
        {
          "data": {
            "image/png": "[encoded data removed]",
            "text/plain": [
              "<Figure size 1800x720 with 1 Axes>"
            ]
          },
          "metadata": {
            "needs_background": "light"
          },
          "output_type": "display_data"
        }
      ],
      "source": [
        "import numpy as np\n",
        "import pandas as pd\n",
        "import matplotlib.pyplot as plt\n",
        "import time\n",
        "\n",
        "from scipy.cluster.hierarchy import dendrogram, linkage\n",
        "\n",
        "# generate the linkage matrix\n",
        "Z = linkage(X, 'ward')\n",
        "\n",
        "# calculate full dendrogram\n",
        "plt.figure(figsize=(25, 10))\n",
        "plt.title('Hierarchical Clustering Dendrogram')\n",
        "plt.xlabel('sample index')\n",
        "plt.ylabel('distance')\n",
        "dendrogram(\n",
        "    Z,\n",
        "    leaf_rotation=90.,  # rotates the x axis labels\n",
        "    leaf_font_size=10,  # font size for the x axis labels\n",
        "    \n",
        ")\n",
        "plt.show()"
      ]
    },
    {
      "cell_type": "markdown",
      "metadata": {
        "id": "Kfk7xxFNQwvY"
      },
      "source": [
        "# 인공 신경망 NN Neural Network"
      ]
    },
    {
      "cell_type": "markdown",
      "metadata": {
        "id": "MnR3wQwEQwvY"
      },
      "source": [
        "## MLP ; Feed-forward network a.k.a. Multi-layer perceptron"
      ]
    },
    {
      "cell_type": "markdown",
      "metadata": {
        "ExecuteTime": {
          "end_time": "2020-09-17T15:09:45.991802Z",
          "start_time": "2020-09-17T15:09:45.988838Z"
        },
        "id": "LvfLB73-QwvY"
      },
      "source": [
        "### MLP Regressor"
      ]
    },
    {
      "cell_type": "code",
      "execution_count": null,
      "metadata": {
        "ExecuteTime": {
          "end_time": "2020-09-17T15:28:40.758884Z",
          "start_time": "2020-09-17T15:28:40.701038Z"
        },
        "id": "bMNX9r9oQwvZ"
      },
      "outputs": [],
      "source": [
        "from sklearn.datasets import make_regression\n",
        "X, y = make_regression(n_samples=200, random_state=1)\n",
        "\n",
        "from sklearn.model_selection import train_test_split\n",
        "X_train, X_test, y_train, y_test = train_test_split(X, y,\n",
        "                                                    random_state=1)"
      ]
    },
    {
      "cell_type": "code",
      "execution_count": null,
      "metadata": {
        "ExecuteTime": {
          "end_time": "2020-09-17T15:28:41.927758Z",
          "start_time": "2020-09-17T15:28:41.298441Z"
        },
        "id": "DuXNNkAQQwvZ",
        "outputId": "10b7cc55-326d-446e-8ce9-16b24bda9723"
      },
      "outputs": [
        {
          "name": "stderr",
          "output_type": "stream",
          "text": [
            "C:\\Users\\50008313\\AppData\\Local\\Continuum\\anaconda3\\lib\\site-packages\\sklearn\\neural_network\\multilayer_perceptron.py:566: ConvergenceWarning: Stochastic Optimizer: Maximum iterations (500) reached and the optimization hasn't converged yet.\n",
            "  % self.max_iter, ConvergenceWarning)\n"
          ]
        },
        {
          "data": {
            "text/plain": [
              "array([-0.98506347, -7.19854141])"
            ]
          },
          "execution_count": 40,
          "metadata": {},
          "output_type": "execute_result"
        }
      ],
      "source": [
        "from sklearn.neural_network import MLPRegressor\n",
        "regr = MLPRegressor(random_state=1, max_iter=500).fit(X_train, y_train)\n",
        "regr.predict(X_test[:2])"
      ]
    },
    {
      "cell_type": "code",
      "execution_count": null,
      "metadata": {
        "ExecuteTime": {
          "end_time": "2020-09-17T15:28:42.835333Z",
          "start_time": "2020-09-17T15:28:42.827354Z"
        },
        "id": "lfvMxFAaQwvZ",
        "outputId": "65576b1c-96ca-41be-edcd-ec0fdbf86ca2"
      },
      "outputs": [
        {
          "data": {
            "text/plain": [
              "0.4162338898076593"
            ]
          },
          "execution_count": 41,
          "metadata": {},
          "output_type": "execute_result"
        }
      ],
      "source": [
        "# R^2 score\n",
        "regr.score(X_test, y_test)"
      ]
    },
    {
      "cell_type": "code",
      "execution_count": null,
      "metadata": {
        "ExecuteTime": {
          "end_time": "2020-09-17T15:29:20.071764Z",
          "start_time": "2020-09-17T15:29:20.064784Z"
        },
        "id": "ZUFTpzh8Qwva",
        "outputId": "d3f3be76-745a-4dc2-cc95-226724381e09"
      },
      "outputs": [
        {
          "data": {
            "text/plain": [
              "<bound method BaseEstimator.get_params of MLPRegressor(activation='relu', alpha=0.0001, batch_size='auto', beta_1=0.9,\n",
              "             beta_2=0.999, early_stopping=False, epsilon=1e-08,\n",
              "             hidden_layer_sizes=(100,), learning_rate='constant',\n",
              "             learning_rate_init=0.001, max_iter=500, momentum=0.9,\n",
              "             n_iter_no_change=10, nesterovs_momentum=True, power_t=0.5,\n",
              "             random_state=1, shuffle=True, solver='adam', tol=0.0001,\n",
              "             validation_fraction=0.1, verbose=False, warm_start=False)>"
            ]
          },
          "execution_count": 42,
          "metadata": {},
          "output_type": "execute_result"
        }
      ],
      "source": [
        "regr.get_params"
      ]
    },
    {
      "cell_type": "markdown",
      "metadata": {
        "id": "ku-KWNqXQwva"
      },
      "source": [
        "### MLP Classifier"
      ]
    },
    {
      "cell_type": "markdown",
      "metadata": {
        "id": "bPE38AKrQwvb"
      },
      "source": [
        "- 데이터 로딩"
      ]
    },
    {
      "cell_type": "code",
      "execution_count": null,
      "metadata": {
        "ExecuteTime": {
          "end_time": "2020-09-17T15:21:22.518718Z",
          "start_time": "2020-09-17T15:21:22.505752Z"
        },
        "id": "5QR1JxSVQwvb",
        "outputId": "74b2596d-72a0-4448-9063-7492f05d8db1"
      },
      "outputs": [
        {
          "data": {
            "text/html": [
              "<div>\n",
              "<style scoped>\n",
              "    .dataframe tbody tr th:only-of-type {\n",
              "        vertical-align: middle;\n",
              "    }\n",
              "\n",
              "    .dataframe tbody tr th {\n",
              "        vertical-align: top;\n",
              "    }\n",
              "\n",
              "    .dataframe thead th {\n",
              "        text-align: right;\n",
              "    }\n",
              "</style>\n",
              "<table border=\"1\" class=\"dataframe\">\n",
              "  <thead>\n",
              "    <tr style=\"text-align: right;\">\n",
              "      <th></th>\n",
              "      <th>Clump-Thickness</th>\n",
              "      <th>Cell-Size</th>\n",
              "      <th>Cell-Shape</th>\n",
              "      <th>Adhesion</th>\n",
              "      <th>Single-Cell-Size</th>\n",
              "      <th>Bare-Nuclei</th>\n",
              "      <th>Chromatin</th>\n",
              "      <th>Nucleoli</th>\n",
              "      <th>Mitoses</th>\n",
              "      <th>Class</th>\n",
              "    </tr>\n",
              "  </thead>\n",
              "  <tbody>\n",
              "    <tr>\n",
              "      <th>0</th>\n",
              "      <td>5</td>\n",
              "      <td>1</td>\n",
              "      <td>1</td>\n",
              "      <td>1</td>\n",
              "      <td>2</td>\n",
              "      <td>1.0</td>\n",
              "      <td>3</td>\n",
              "      <td>1</td>\n",
              "      <td>1</td>\n",
              "      <td>2</td>\n",
              "    </tr>\n",
              "    <tr>\n",
              "      <th>1</th>\n",
              "      <td>5</td>\n",
              "      <td>4</td>\n",
              "      <td>4</td>\n",
              "      <td>5</td>\n",
              "      <td>7</td>\n",
              "      <td>10.0</td>\n",
              "      <td>3</td>\n",
              "      <td>2</td>\n",
              "      <td>1</td>\n",
              "      <td>2</td>\n",
              "    </tr>\n",
              "    <tr>\n",
              "      <th>2</th>\n",
              "      <td>3</td>\n",
              "      <td>1</td>\n",
              "      <td>1</td>\n",
              "      <td>1</td>\n",
              "      <td>2</td>\n",
              "      <td>2.0</td>\n",
              "      <td>3</td>\n",
              "      <td>1</td>\n",
              "      <td>1</td>\n",
              "      <td>2</td>\n",
              "    </tr>\n",
              "    <tr>\n",
              "      <th>3</th>\n",
              "      <td>6</td>\n",
              "      <td>8</td>\n",
              "      <td>8</td>\n",
              "      <td>1</td>\n",
              "      <td>3</td>\n",
              "      <td>4.0</td>\n",
              "      <td>3</td>\n",
              "      <td>7</td>\n",
              "      <td>1</td>\n",
              "      <td>2</td>\n",
              "    </tr>\n",
              "    <tr>\n",
              "      <th>4</th>\n",
              "      <td>4</td>\n",
              "      <td>1</td>\n",
              "      <td>1</td>\n",
              "      <td>3</td>\n",
              "      <td>2</td>\n",
              "      <td>1.0</td>\n",
              "      <td>3</td>\n",
              "      <td>1</td>\n",
              "      <td>1</td>\n",
              "      <td>2</td>\n",
              "    </tr>\n",
              "  </tbody>\n",
              "</table>\n",
              "</div>"
            ],
            "text/plain": [
              "   Clump-Thickness  Cell-Size  Cell-Shape  Adhesion  Single-Cell-Size  \\\n",
              "0                5          1           1         1                 2   \n",
              "1                5          4           4         5                 7   \n",
              "2                3          1           1         1                 2   \n",
              "3                6          8           8         1                 3   \n",
              "4                4          1           1         3                 2   \n",
              "\n",
              "   Bare-Nuclei  Chromatin  Nucleoli  Mitoses  Class  \n",
              "0          1.0          3         1        1      2  \n",
              "1         10.0          3         2        1      2  \n",
              "2          2.0          3         1        1      2  \n",
              "3          4.0          3         7        1      2  \n",
              "4          1.0          3         1        1      2  "
            ]
          },
          "execution_count": 38,
          "metadata": {},
          "output_type": "execute_result"
        }
      ],
      "source": [
        "import pandas as pd\n",
        "\n",
        "dataset.head()"
      ]
    },
    {
      "cell_type": "code",
      "execution_count": null,
      "metadata": {
        "ExecuteTime": {
          "end_time": "2020-09-17T15:13:30.997637Z",
          "start_time": "2020-09-17T15:13:30.991624Z"
        },
        "id": "71fT7tNvQwvc"
      },
      "outputs": [],
      "source": [
        "from sklearn import model_selection\n",
        "array = dataset.values\n",
        "X = array[:,0:9]\n",
        "Y = array[:,9]\n",
        "test_size = 0.20\n",
        "seed = 15\n",
        "X_train, X_test, Y_train, Y_test = model_selection.train_test_split(X, Y, test_size=test_size, random_state=seed)"
      ]
    },
    {
      "cell_type": "code",
      "execution_count": null,
      "metadata": {
        "ExecuteTime": {
          "end_time": "2020-09-17T15:19:07.147437Z",
          "start_time": "2020-09-17T15:19:07.141463Z"
        },
        "id": "OM7z4M5dQwvc",
        "outputId": "08524d56-3145-41f8-ddd2-3e39aa1d214d"
      },
      "outputs": [
        {
          "data": {
            "text/plain": [
              "array([[ 5.,  1.,  1., ...,  3.,  1.,  1.],\n",
              "       [ 5.,  4.,  4., ...,  3.,  2.,  1.],\n",
              "       [ 3.,  1.,  1., ...,  3.,  1.,  1.],\n",
              "       ...,\n",
              "       [ 5., 10., 10., ...,  8., 10.,  2.],\n",
              "       [ 4.,  8.,  6., ..., 10.,  6.,  1.],\n",
              "       [ 4.,  8.,  8., ..., 10.,  4.,  1.]])"
            ]
          },
          "execution_count": 31,
          "metadata": {},
          "output_type": "execute_result"
        }
      ],
      "source": [
        "X"
      ]
    },
    {
      "cell_type": "code",
      "execution_count": null,
      "metadata": {
        "ExecuteTime": {
          "end_time": "2020-09-17T15:19:20.430916Z",
          "start_time": "2020-09-17T15:19:20.424933Z"
        },
        "id": "9HzO5tziQwvd",
        "outputId": "fe451a28-59c4-4981-d24b-7c48c23bbca9"
      },
      "outputs": [
        {
          "data": {
            "text/plain": [
              "array([2., 2., 2., 2., 2., 4., 2., 2., 2., 2., 2., 2., 4., 2., 4., 4., 2.,\n",
              "       2., 4., 2.])"
            ]
          },
          "execution_count": 34,
          "metadata": {},
          "output_type": "execute_result"
        }
      ],
      "source": [
        "Y[:20]"
      ]
    },
    {
      "cell_type": "code",
      "execution_count": null,
      "metadata": {
        "ExecuteTime": {
          "end_time": "2020-09-17T15:13:49.839239Z",
          "start_time": "2020-09-17T15:13:49.834245Z"
        },
        "id": "_w5DYpXpQwvd",
        "outputId": "35a59683-cf4b-4318-a05d-942e668dbb38"
      },
      "outputs": [
        {
          "name": "stdout",
          "output_type": "stream",
          "text": [
            "(546, 9)\n",
            "(137, 9)\n"
          ]
        }
      ],
      "source": [
        "print(X_train.shape)\n",
        "print(X_test.shape)"
      ]
    },
    {
      "cell_type": "code",
      "execution_count": null,
      "metadata": {
        "ExecuteTime": {
          "end_time": "2020-09-17T15:14:23.791436Z",
          "start_time": "2020-09-17T15:14:23.787458Z"
        },
        "id": "xVNU2FQ7Qwve"
      },
      "outputs": [],
      "source": [
        "from sklearn.neural_network import MLPClassifier\n",
        "\n",
        "# MLPClassifier는 NN을 학습하는 함수\n",
        "# 활성함수는 relu가 default\n",
        "\n",
        "clf = MLPClassifier(hidden_layer_sizes=(9, 9), # 은닉층 9개, 9개로 두 층\n",
        "                    learning_rate_init=0.005,\n",
        "                    max_iter=300,\n",
        "                    random_state=1234,\n",
        "                    verbose=1) # verbose는 학습이 되고 있는 과정을 프린트 해 줌"
      ]
    },
    {
      "cell_type": "code",
      "execution_count": null,
      "metadata": {
        "ExecuteTime": {
          "end_time": "2020-09-17T15:20:34.603575Z",
          "start_time": "2020-09-17T15:20:34.056040Z"
        },
        "id": "roMQntUJQwve"
      },
      "outputs": [],
      "source": [
        "clf.fit(X_train, Y_train)"
      ]
    },
    {
      "cell_type": "code",
      "execution_count": null,
      "metadata": {
        "ExecuteTime": {
          "end_time": "2020-09-17T15:14:40.570568Z",
          "start_time": "2020-09-17T15:14:40.564592Z"
        },
        "id": "ZtcapFEhQwvf"
      },
      "outputs": [],
      "source": [
        "Y_train_hat = clf.predict(X_train)\n",
        "Y_test_hat = clf.predict(X_test)"
      ]
    },
    {
      "cell_type": "code",
      "execution_count": null,
      "metadata": {
        "ExecuteTime": {
          "end_time": "2020-09-17T15:14:53.579781Z",
          "start_time": "2020-09-17T15:14:53.568810Z"
        },
        "id": "N8DqmIQ9Qwvf",
        "outputId": "d9083b68-7845-40b7-ab48-05f958ec6d70"
      },
      "outputs": [
        {
          "name": "stdout",
          "output_type": "stream",
          "text": [
            "              precision    recall  f1-score   support\n",
            "\n",
            "         2.0       0.98      0.98      0.98       363\n",
            "         4.0       0.97      0.96      0.96       183\n",
            "\n",
            "    accuracy                           0.97       546\n",
            "   macro avg       0.97      0.97      0.97       546\n",
            "weighted avg       0.97      0.97      0.97       546\n",
            "\n"
          ]
        }
      ],
      "source": [
        "from sklearn import metrics\n",
        "print(metrics.classification_report(Y_train, Y_train_hat))"
      ]
    },
    {
      "cell_type": "code",
      "execution_count": null,
      "metadata": {
        "ExecuteTime": {
          "end_time": "2020-09-17T15:15:01.532529Z",
          "start_time": "2020-09-17T15:15:01.521545Z"
        },
        "id": "M4c1Y0veQwvf",
        "outputId": "3df47973-54bc-478c-d907-f52dee307fa0"
      },
      "outputs": [
        {
          "name": "stdout",
          "output_type": "stream",
          "text": [
            "              precision    recall  f1-score   support\n",
            "\n",
            "         2.0       0.91      0.99      0.95        81\n",
            "         4.0       0.98      0.86      0.91        56\n",
            "\n",
            "    accuracy                           0.93       137\n",
            "   macro avg       0.94      0.92      0.93       137\n",
            "weighted avg       0.94      0.93      0.93       137\n",
            "\n"
          ]
        }
      ],
      "source": [
        "print(metrics.classification_report(Y_test, Y_test_hat))"
      ]
    },
    {
      "cell_type": "markdown",
      "metadata": {
        "id": "boElE3HFQwvg"
      },
      "source": [
        "#### GridSearchCV"
      ]
    },
    {
      "cell_type": "code",
      "execution_count": null,
      "metadata": {
        "ExecuteTime": {
          "end_time": "2020-09-17T15:15:38.671206Z",
          "start_time": "2020-09-17T15:15:38.666219Z"
        },
        "id": "HfQ21hgdQwvg"
      },
      "outputs": [],
      "source": [
        "from sklearn.model_selection import GridSearchCV\n",
        "params = {\n",
        "    'activation': ['logistic', 'tanh', 'relu'], # 활성함수 종류\n",
        "    'hidden_layer_sizes': [(9,), (9, 9)]\n",
        "}"
      ]
    },
    {
      "cell_type": "code",
      "execution_count": null,
      "metadata": {
        "ExecuteTime": {
          "end_time": "2020-09-17T15:15:45.515903Z",
          "start_time": "2020-09-17T15:15:45.510950Z"
        },
        "id": "K8j6Jx_hQwvg"
      },
      "outputs": [],
      "source": [
        "gridsearch = GridSearchCV(estimator=MLPClassifier(max_iter=300),\n",
        "                          param_grid=params,\n",
        "                          cv=5,\n",
        "                          verbose=1, n_jobs = -1) # n_jobs는 일을 집중하게 해서 빨리 돌리는 것"
      ]
    },
    {
      "cell_type": "code",
      "execution_count": null,
      "metadata": {
        "ExecuteTime": {
          "end_time": "2020-09-17T15:16:02.625152Z",
          "start_time": "2020-09-17T15:15:52.739587Z"
        },
        "id": "qdy_B1qQQwvh",
        "outputId": "70023718-b9f1-4b3f-c113-4ecd0ef720f6"
      },
      "outputs": [
        {
          "name": "stdout",
          "output_type": "stream",
          "text": [
            "Fitting 5 folds for each of 6 candidates, totalling 30 fits\n"
          ]
        },
        {
          "name": "stderr",
          "output_type": "stream",
          "text": [
            "[Parallel(n_jobs=-1)]: Using backend LokyBackend with 4 concurrent workers.\n",
            "[Parallel(n_jobs=-1)]: Done  30 out of  30 | elapsed:    8.9s finished\n",
            "C:\\Users\\50008313\\AppData\\Local\\Continuum\\anaconda3\\lib\\site-packages\\sklearn\\neural_network\\multilayer_perceptron.py:566: ConvergenceWarning: Stochastic Optimizer: Maximum iterations (300) reached and the optimization hasn't converged yet.\n",
            "  % self.max_iter, ConvergenceWarning)\n"
          ]
        },
        {
          "data": {
            "text/plain": [
              "GridSearchCV(cv=5, error_score='raise-deprecating',\n",
              "             estimator=MLPClassifier(activation='relu', alpha=0.0001,\n",
              "                                     batch_size='auto', beta_1=0.9,\n",
              "                                     beta_2=0.999, early_stopping=False,\n",
              "                                     epsilon=1e-08, hidden_layer_sizes=(100,),\n",
              "                                     learning_rate='constant',\n",
              "                                     learning_rate_init=0.001, max_iter=300,\n",
              "                                     momentum=0.9, n_iter_no_change=10,\n",
              "                                     nesterovs_momentum=True, power_t=0.5,\n",
              "                                     random_state=None, shuffle=True,\n",
              "                                     solver='adam', tol=0.0001,\n",
              "                                     validation_fraction=0.1, verbose=False,\n",
              "                                     warm_start=False),\n",
              "             iid='warn', n_jobs=-1,\n",
              "             param_grid={'activation': ['logistic', 'tanh', 'relu'],\n",
              "                         'hidden_layer_sizes': [(9,), (9, 9)]},\n",
              "             pre_dispatch='2*n_jobs', refit=True, return_train_score=False,\n",
              "             scoring=None, verbose=1)"
            ]
          },
          "execution_count": 23,
          "metadata": {},
          "output_type": "execute_result"
        }
      ],
      "source": [
        "gridsearch.fit(X_train, Y_train)\n",
        "#[Parallel(n_jobs=-1)]: Using backend LokyBackend with 4 concurrent workers. 4개로 돌린다고 나옴"
      ]
    },
    {
      "cell_type": "code",
      "execution_count": null,
      "metadata": {
        "ExecuteTime": {
          "end_time": "2020-09-17T15:16:02.820629Z",
          "start_time": "2020-09-17T15:16:02.800683Z"
        },
        "id": "OklQpb7zQwvh",
        "outputId": "43b8b4e6-d446-4279-9dc1-afaaac5be150"
      },
      "outputs": [
        {
          "data": {
            "text/plain": [
              "{'mean_fit_time': array([0.48829389, 0.5722693 , 0.37898817, 1.09467344, 0.65085807,\n",
              "        0.63450246]),\n",
              " 'std_fit_time': array([0.04423327, 0.00881731, 0.01072013, 0.16678837, 0.11706204,\n",
              "        0.0238731 ]),\n",
              " 'mean_score_time': array([0.0012023 , 0.00039887, 0.00039716, 0.00059805, 0.00060086,\n",
              "        0.00060015]),\n",
              " 'std_score_time': array([0.00146538, 0.00048852, 0.00048643, 0.00048831, 0.00049063,\n",
              "        0.00049002]),\n",
              " 'param_activation': masked_array(data=['logistic', 'logistic', 'tanh', 'tanh', 'relu', 'relu'],\n",
              "              mask=[False, False, False, False, False, False],\n",
              "        fill_value='?',\n",
              "             dtype=object),\n",
              " 'param_hidden_layer_sizes': masked_array(data=[(9,), (9, 9), (9,), (9, 9), (9,), (9, 9)],\n",
              "              mask=[False, False, False, False, False, False],\n",
              "        fill_value='?',\n",
              "             dtype=object),\n",
              " 'params': [{'activation': 'logistic', 'hidden_layer_sizes': (9,)},\n",
              "  {'activation': 'logistic', 'hidden_layer_sizes': (9, 9)},\n",
              "  {'activation': 'tanh', 'hidden_layer_sizes': (9,)},\n",
              "  {'activation': 'tanh', 'hidden_layer_sizes': (9, 9)},\n",
              "  {'activation': 'relu', 'hidden_layer_sizes': (9,)},\n",
              "  {'activation': 'relu', 'hidden_layer_sizes': (9, 9)}],\n",
              " 'split0_test_score': array([0.97272727, 0.97272727, 0.97272727, 0.97272727, 0.96363636,\n",
              "        0.97272727]),\n",
              " 'split1_test_score': array([0.95454545, 0.95454545, 0.95454545, 0.97272727, 0.95454545,\n",
              "        0.95454545]),\n",
              " 'split2_test_score': array([0.87272727, 0.95454545, 0.91818182, 0.97272727, 0.94545455,\n",
              "        0.97272727]),\n",
              " 'split3_test_score': array([0.96296296, 0.97222222, 0.96296296, 0.96296296, 0.99074074,\n",
              "        0.99074074]),\n",
              " 'split4_test_score': array([0.91666667, 0.93518519, 0.92592593, 0.89814815, 0.94444444,\n",
              "        0.92592593]),\n",
              " 'mean_test_score': array([0.93589744, 0.95787546, 0.94688645, 0.95604396, 0.95970696,\n",
              "        0.96336996]),\n",
              " 'std_test_score': array([0.03695031, 0.01383684, 0.02122193, 0.02899501, 0.01691098,\n",
              "        0.02182851]),\n",
              " 'rank_test_score': array([6, 3, 5, 4, 2, 1])}"
            ]
          },
          "execution_count": 24,
          "metadata": {},
          "output_type": "execute_result"
        }
      ],
      "source": [
        "gridsearch.cv_results_"
      ]
    },
    {
      "cell_type": "code",
      "execution_count": null,
      "metadata": {
        "ExecuteTime": {
          "end_time": "2020-09-17T15:16:09.279358Z",
          "start_time": "2020-09-17T15:16:09.273374Z"
        },
        "id": "XF1LutEQQwvh",
        "outputId": "55921302-32fb-4718-b957-b19acd27691c"
      },
      "outputs": [
        {
          "data": {
            "text/plain": [
              "{'activation': 'relu', 'hidden_layer_sizes': (9, 9)}"
            ]
          },
          "execution_count": 25,
          "metadata": {},
          "output_type": "execute_result"
        }
      ],
      "source": [
        "gridsearch.best_params_"
      ]
    },
    {
      "cell_type": "code",
      "execution_count": null,
      "metadata": {
        "ExecuteTime": {
          "end_time": "2020-09-17T15:16:12.854806Z",
          "start_time": "2020-09-17T15:16:12.848814Z"
        },
        "id": "wB49h8hDQwvi",
        "outputId": "d8f8727a-5a02-4320-fb7b-befef0169d5f"
      },
      "outputs": [
        {
          "data": {
            "text/plain": [
              "0.9633699633699634"
            ]
          },
          "execution_count": 26,
          "metadata": {},
          "output_type": "execute_result"
        }
      ],
      "source": [
        "gridsearch.best_score_"
      ]
    },
    {
      "cell_type": "code",
      "execution_count": null,
      "metadata": {
        "ExecuteTime": {
          "end_time": "2020-09-17T15:16:18.814860Z",
          "start_time": "2020-09-17T15:16:18.808879Z"
        },
        "id": "harV6oSzQwvi",
        "outputId": "67e859a3-158d-4b65-aa31-a3c93174ece2"
      },
      "outputs": [
        {
          "data": {
            "text/plain": [
              "MLPClassifier(activation='relu', alpha=0.0001, batch_size='auto', beta_1=0.9,\n",
              "              beta_2=0.999, early_stopping=False, epsilon=1e-08,\n",
              "              hidden_layer_sizes=(9, 9), learning_rate='constant',\n",
              "              learning_rate_init=0.001, max_iter=300, momentum=0.9,\n",
              "              n_iter_no_change=10, nesterovs_momentum=True, power_t=0.5,\n",
              "              random_state=None, shuffle=True, solver='adam', tol=0.0001,\n",
              "              validation_fraction=0.1, verbose=False, warm_start=False)"
            ]
          },
          "execution_count": 27,
          "metadata": {},
          "output_type": "execute_result"
        }
      ],
      "source": [
        "gridsearch.best_estimator_"
      ]
    },
    {
      "cell_type": "code",
      "execution_count": null,
      "metadata": {
        "ExecuteTime": {
          "end_time": "2020-09-17T15:16:27.779895Z",
          "start_time": "2020-09-17T15:16:27.770913Z"
        },
        "id": "eYUFFHvyQwvi"
      },
      "outputs": [],
      "source": [
        "Y_train_hat = gridsearch.predict(X_train)\n",
        "Y_test_hat = gridsearch.predict(X_test)"
      ]
    },
    {
      "cell_type": "code",
      "execution_count": null,
      "metadata": {
        "ExecuteTime": {
          "end_time": "2020-09-17T15:16:35.167167Z",
          "start_time": "2020-09-17T15:16:35.156164Z"
        },
        "id": "f-lsDRAAQwvj",
        "outputId": "7e0d97e6-8de6-4a6a-80f2-f9aadd488a51"
      },
      "outputs": [
        {
          "name": "stdout",
          "output_type": "stream",
          "text": [
            "              precision    recall  f1-score   support\n",
            "\n",
            "         2.0       0.99      0.98      0.98       363\n",
            "         4.0       0.96      0.97      0.96       183\n",
            "\n",
            "    accuracy                           0.98       546\n",
            "   macro avg       0.97      0.98      0.97       546\n",
            "weighted avg       0.98      0.98      0.98       546\n",
            "\n"
          ]
        }
      ],
      "source": [
        "print(metrics.classification_report(Y_train, Y_train_hat))"
      ]
    },
    {
      "cell_type": "code",
      "execution_count": null,
      "metadata": {
        "ExecuteTime": {
          "end_time": "2020-09-17T15:16:39.437722Z",
          "start_time": "2020-09-17T15:16:39.428765Z"
        },
        "id": "kT6XRtJiQwvk",
        "outputId": "789fa728-262d-47d9-e211-850f37e6c4e2"
      },
      "outputs": [
        {
          "name": "stdout",
          "output_type": "stream",
          "text": [
            "              precision    recall  f1-score   support\n",
            "\n",
            "         2.0       0.96      0.98      0.97        81\n",
            "         4.0       0.96      0.95      0.95        56\n",
            "\n",
            "    accuracy                           0.96       137\n",
            "   macro avg       0.96      0.96      0.96       137\n",
            "weighted avg       0.96      0.96      0.96       137\n",
            "\n"
          ]
        }
      ],
      "source": [
        "print(metrics.classification_report(Y_test, Y_test_hat))"
      ]
    }
  ],
  "metadata": {
    "kernelspec": {
      "display_name": "Python 3",
      "language": "python",
      "name": "python3"
    },
    "language_info": {
      "codemirror_mode": {
        "name": "ipython",
        "version": 3
      },
      "file_extension": ".py",
      "mimetype": "text/x-python",
      "name": "python",
      "nbconvert_exporter": "python",
      "pygments_lexer": "ipython3",
      "version": "3.7.4"
    },
    "toc": {
      "base_numbering": 1,
      "nav_menu": {},
      "number_sections": true,
      "sideBar": true,
      "skip_h1_title": false,
      "title_cell": "Table of Contents",
      "title_sidebar": "Contents",
      "toc_cell": false,
      "toc_position": {
        "height": "calc(100% - 180px)",
        "left": "10px",
        "top": "150px",
        "width": "510px"
      },
      "toc_section_display": true,
      "toc_window_display": true
    },
    "varInspector": {
      "cols": {
        "lenName": 16,
        "lenType": 16,
        "lenVar": 40
      },
      "kernels_config": {
        "python": {
          "delete_cmd_postfix": "",
          "delete_cmd_prefix": "del ",
          "library": "var_list.py",
          "varRefreshCmd": "print(var_dic_list())"
        },
        "r": {
          "delete_cmd_postfix": ") ",
          "delete_cmd_prefix": "rm(",
          "library": "var_list.r",
          "varRefreshCmd": "cat(var_dic_list()) "
        }
      },
      "types_to_exclude": [
        "module",
        "function",
        "builtin_function_or_method",
        "instance",
        "_Feature"
      ],
      "window_display": false
    },
    "colab": {
      "provenance": [],
      "collapsed_sections": [
        "iWgAy6KHQwvF",
        "sjz0UI3vQwvF",
        "VtDcTSbRQwvI",
        "LeWiSEnOQwvN",
        "LvfLB73-QwvY",
        "ku-KWNqXQwva",
        "boElE3HFQwvg"
      ],
      "include_colab_link": true
    }
  },
  "nbformat": 4,
  "nbformat_minor": 0
}