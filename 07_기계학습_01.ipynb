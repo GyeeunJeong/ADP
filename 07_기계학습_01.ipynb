{
  "cells": [
    {
      "cell_type": "markdown",
      "metadata": {
        "id": "S7rkhC3FZPED"
      },
      "source": [
        "# 07_기계학습_1"
      ]
    },
    {
      "cell_type": "markdown",
      "metadata": {
        "id": "4cqbIOC3ZPEK"
      },
      "source": [
        "# Train Test Split"
      ]
    },
    {
      "cell_type": "code",
      "execution_count": null,
      "metadata": {
        "id": "A6TRnj13ZPEM"
      },
      "outputs": [],
      "source": [
        "X_train , X_test , y_train , y_test = train_test_split(X , y ,test_size=0.3, random_state=0)\n",
        "\n",
        "# y의 비율이 불균형할 때 사용하는 층화추출\n",
        "X_train, X_test, y_train, y_test =  train_test_split(X, y, test_size=0.3, random_state=0, stratify=y_target)"
      ]
    },
    {
      "cell_type": "markdown",
      "metadata": {
        "ExecuteTime": {
          "end_time": "2020-09-15T12:59:42.987784Z",
          "start_time": "2020-09-15T12:59:42.983794Z"
        },
        "id": "y86YkM93ZPES"
      },
      "source": [
        "# 정규화, 표준화 - StandardScaler, MinMaxScaler, Log\n",
        "**train 데이터에는 .fit_transform(X_train) <br>\n",
        "test 데이터에는 .transform(X_test)다 명심**\n",
        "- 0단계 : 그냥 씀\n",
        "- 1단계 : 로그변환을 해본다\n",
        "- 2단계 : 정규화, 표준화를 해본다\n",
        "- 3단계 : 성능이 별 차이 없으면 다항 변수를 만들어본다"
      ]
    },
    {
      "cell_type": "markdown",
      "metadata": {
        "ExecuteTime": {
          "end_time": "2020-09-15T16:13:52.585174Z",
          "start_time": "2020-09-15T16:13:52.579190Z"
        },
        "id": "oXpmtkBVZPEU"
      },
      "source": [
        "- y(타겟변수)는 hist를 그려봐서 분포가 한쪽으로 쏠려있으면 로그 변환을 해서 왜곡을 낮춘다.\n",
        "- y(타겟변수)는 변환을 한다면 일반적으로 로그 변환을 적용한다.\n",
        "\n",
        "- np.log1p(x)는 에러를 방지하기 위해 x에 1을 자동으로 더해서 계산해주는 것\n",
        "- np.log1p(x)의 역함수는 np.expm1(x)"
      ]
    },
    {
      "cell_type": "code",
      "execution_count": null,
      "metadata": {
        "id": "B82izbAKZPEX"
      },
      "outputs": [],
      "source": [
        "# log 씌우고\n",
        "y_log = np.log1p(y)\n",
        "# train, test split 하고\n",
        "# 모델링 하고\n",
        "\n",
        "# 평가는 test, pred 모두 expm1으로 풀어서 비교\n",
        "y_test_exp = np.expm1(y_test)\n",
        "y_pred_exp = np.expm1(y_pred)\n",
        "\n",
        "(y_test_exp, y_pred_exp)"
      ]
    },
    {
      "cell_type": "markdown",
      "metadata": {
        "id": "PvfOJkHbZPEb"
      },
      "source": [
        "## 개별 정규화/표준화"
      ]
    },
    {
      "cell_type": "code",
      "execution_count": null,
      "metadata": {
        "ExecuteTime": {
          "end_time": "2020-09-15T13:09:51.444017Z",
          "start_time": "2020-09-15T13:09:51.428060Z"
        },
        "id": "5iEamx9nZPEi"
      },
      "outputs": [],
      "source": [
        "from sklearn.preprocessing import StandardScaler, MinMaxScaler, PolynomialFeatures\n",
        "\n",
        "scaled_data = StandardScaler().fit_transform(X_train)\n",
        "scaled_data = MinMaxScaler().fit_transform(X_train)\n",
        "scaled_data = np.log1p(input_data)\n",
        "scaled_data = PolynomialFeatures(degree=p_degree, include_bias=False).fit_transform(scaled_data)"
      ]
    },
    {
      "cell_type": "markdown",
      "metadata": {
        "ExecuteTime": {
          "end_time": "2020-09-15T13:10:14.205072Z",
          "start_time": "2020-09-15T13:10:14.201119Z"
        },
        "id": "qN2RgripZPEm"
      },
      "source": [
        "## 한 번에 다 비교해보기"
      ]
    },
    {
      "cell_type": "code",
      "execution_count": null,
      "metadata": {
        "ExecuteTime": {
          "end_time": "2020-09-15T12:58:12.288116Z",
          "start_time": "2020-09-15T12:58:10.871767Z"
        },
        "id": "POW0XtROZPEp"
      },
      "outputs": [],
      "source": [
        "from sklearn.preprocessing import StandardScaler, MinMaxScaler, PolynomialFeatures\n",
        "\n",
        "# method는 표준 정규 분포 변환(Standard), 최대값/최소값 정규화(MinMax), 로그변환(Log) 결정\n",
        "# p_degree는 다향식 특성을 추가할 때 적용. p_degree는 2이상 부여하지 않음. \n",
        "def get_scaled_data(method='None', p_degree=None, input_data=None):\n",
        "    if method == 'Standard':\n",
        "        scaled_data = StandardScaler().fit_transform(input_data)\n",
        "    elif method == 'MinMax':\n",
        "        scaled_data = MinMaxScaler().fit_transform(input_data)\n",
        "    elif method == 'Log':\n",
        "        scaled_data = np.log1p(input_data)\n",
        "    else:\n",
        "        scaled_data = input_data\n",
        "\n",
        "    if p_degree != None:\n",
        "        scaled_data = PolynomialFeatures(degree=p_degree, \n",
        "                                         include_bias=False).fit_transform(scaled_data)\n",
        "    \n",
        "    return scaled_data"
      ]
    },
    {
      "cell_type": "code",
      "execution_count": null,
      "metadata": {
        "id": "aCHYQ1WwZPEs"
      },
      "outputs": [],
      "source": [
        "# Ridge의 alpha값을 다르게 적용하고 다양한 데이터 변환방법에 따른 RMSE 추출. \n",
        "alphas = [0.1, 1, 10, 100]\n",
        "#변환 방법은 모두 6개, 원본 그대로, 표준정규분포, 표준정규분포+다항식 특성\n",
        "# 최대/최소 정규화, 최대/최소 정규화+다항식 특성, 로그변환 \n",
        "scale_methods=[(None, None), ('Standard', None), ('Standard', 2), \n",
        "               ('MinMax', None), ('MinMax', 2), ('Log', None)]\n",
        "for scale_method in scale_methods:\n",
        "    X_data_scaled = get_scaled_data(method=scale_method[0], p_degree=scale_method[1], \n",
        "                                    input_data=X_data)\n",
        "    print('\\n## 변환 유형:{0}, Polynomial Degree:{1}'.format(scale_method[0], scale_method[1]))\n",
        "    get_linear_reg_eval('Ridge', params=alphas, X_data_n=X_data_scaled, \n",
        "                        y_target_n=y_target, verbose=False)"
      ]
    },
    {
      "cell_type": "markdown",
      "metadata": {
        "id": "MgnpF3vZZPEu"
      },
      "source": [
        "# 오버샘플링 / 언더샘플링"
      ]
    },
    {
      "cell_type": "markdown",
      "metadata": {
        "id": "AxvjRS2dZPEv"
      },
      "source": [
        "- train set에만 쓰는 것이지, 당연히 test set에는 쓰는 거 아니다!\n",
        "- 오버샘플링이 1옵션이고, 오버샘플링 방식은 일단 SMOTE 방식을 써라\n",
        "- 만약 다른 것도 해야하면 아래 참조\n",
        "\n",
        "- 데이터 불균형 처리 방법\n",
        "1. 언더샘플링\n",
        "  - 데이터 소실이 크고 중요한 데이터를 잃게 될 수 있음\n",
        "  - 1) 무작위추출: 무작위로 정상 데이터 일부만 선택\n",
        "  - 2) 유의정보: 유의한 데이터만 남김 (EasyEnsemble, BalanceCasade)\n",
        "2. 오버샘플링\n",
        "  - 1) 무작위추출: 무작위로 소수 데이터 복제\n",
        "  - 2) 유의정보: 사전에 기준을 정해서 소수 데이터 복제\n",
        "  - 정보가 손실되지 않으나 단순 데이터 복제는 오버피팅 초래 가능\n",
        "  - 3) 합성데이터 생성: 새로운 복제본을 만들어 냄\n",
        "    - SMOTE: K-NN알고리즘 활용해 데이터 생성\n",
        "      - 소수 클래스의 데이터 중 특정 벡터와 가까운 k개의 이웃 벡터 선정 > 기준벡터와 선정한 벡터를 선분으로 이음 > 선분 위의 임의의 점이 새로운 벡터\n",
        "      - 단점: 다른 클래스는 존재하지 않아 기존 데이터와 중첩될 수 있다. 노이즈 생성 가능.\n",
        "\n",
        "3. 비용 민감 학습\n",
        "  - 오분류하는 행위를 비용으로 측정\n",
        "  - Total Cost = C(FN)*FN + C(FP)*FP\n",
        "    - FN: 잘못 예측된 부정적 사례의 수\n",
        "    - FP: 잘못 예측된 긍정적 사례의 수\n",
        "    - C(-): 비용함수\n",
        "  \n",
        "[출처] \n",
        "- https://mkjjo.github.io/python/2019/01/04/smote_duplicate.html  \n",
        "- http://www.incodom.kr/SMOTE#:~:text=SMOTE%EB%8A%94%20Synthetic%20Minority%20Over,%EC%83%88%EB%A1%AD%EA%B2%8C%20%EC%83%9D%EC%84%B1%ED%95%98%EB%8A%94%20%EB%B0%A9%EB%B2%95%EC%9D%B4%EB%8B%A4."
      ]
    },
    {
      "cell_type": "code",
      "execution_count": null,
      "metadata": {
        "id": "oOjuFPKcZPEx"
      },
      "outputs": [],
      "source": [
        "from imblearn.over_sampling import SMOTE\n",
        "\n",
        "smote = SMOTE(random_state=0)\n",
        "X_train_over, y_train_over = smote.fit_sample(X_train, y_train)"
      ]
    },
    {
      "cell_type": "code",
      "execution_count": null,
      "metadata": {
        "id": "eF1bC1mYZPEy"
      },
      "outputs": [],
      "source": [
        "## 오버샘플링\n",
        "import imblearn.over_sampling as osam \n",
        "\n",
        "# 오버샘플링 전\n",
        "model = SVC(kernel = 'rbf').fit(train_X, train_Y)\n",
        "predicted = model.predict(test_X)\n",
        "\n",
        "# 랜덤 오버샘플링\n",
        "ros = osam.RandomOverSampler()\n",
        "oversampled_X, oversampled_Y = ros.fit_sample(train_X, train_Y)\n",
        "model = SVC(kernel = 'rbf').fit(oversampled_X, oversampled_Y)\n",
        "predicted = model.predict(test_X)\n",
        "\n",
        "# SMOTE\n",
        "SMOTEos = osam.SMOTE(k_neighbors = 5)\n",
        "oversampled_X, oversampled_Y = SMOTEos.fit_sample(train_X, train_Y)\n",
        "model = SVC(kernel = 'rbf').fit(oversampled_X, oversampled_Y)\n",
        "predicted = model.predict(test_X)\n",
        "\n",
        "# Borderline SMOTE\n",
        "B_SMOTEos = osam.SMOTE(k_neighbors = 5, m_neighbors = 5)\n",
        "oversampled_X, oversampled_Y = B_SMOTEos.fit_sample(train_X, train_Y)\n",
        "\n",
        "# ADASYN\n",
        "A_SMOTEos = osam.ADASYN(n_neighbors = 5)\n",
        "oversampled_X, oversampled_Y = A_SMOTEos.fit_sample(train_X, train_Y)"
      ]
    },
    {
      "cell_type": "code",
      "execution_count": null,
      "metadata": {
        "id": "ki7hNSRCZPEz"
      },
      "outputs": [],
      "source": [
        "## 언더샘플링\n",
        "\n",
        "# 랜덤 언더샘플링\n",
        "import imblearn.under_sampling as usam\n",
        "rus = usam.RandomUnderSampler()\n",
        "undersampled_X, undersampled_Y = rus.fit_sample(train_X, train_Y)\n",
        "\n",
        "# k-NN 기반의 언더샘플링\n",
        "krus = usam.CondensedNearestNeighbour(n_neighbors = 3)\n",
        "undersampled_X, undersampled_Y = krus.fit_sample(train_X, train_Y)\n",
        "\n",
        "# 수정된 k-NN 기반의 언더샘플링\n",
        "erus = usam.CondensedNearestNeighbour(n_neighbors = 3, n_jobs = 1)\n",
        "undersampled_X, undersampled_Y = erus.fit_sample(train_X, train_Y)\n",
        "\n",
        "# NearMiss 언더샘플링 Type 1\n",
        "nrus1 = usam.NearMiss(n_neighbors = 3, version = 1)\n",
        "undersampled_X, undersampled_Y = nrus1.fit_sample(train_X, train_Y)\n",
        "\n",
        "# NearMiss 언더샘플링 Type 2\n",
        "nrus2 = usam.NearMiss(n_neighbors = 3, version = 2)\n",
        "undersampled_X, undersampled_Y = nrus2.fit_sample(train_X, train_Y)\n",
        "\n",
        "# NearMiss 언더샘플링 Type 3\n",
        "nrus3 = usam.NearMiss(n_neighbors = 3, version = 3)\n",
        "undersampled_X, undersampled_Y = nrus3.fit_sample(train_X, train_Y)"
      ]
    },
    {
      "cell_type": "markdown",
      "metadata": {
        "id": "BUsDT5_oZPE0"
      },
      "source": [
        "# 모델 성능 평가"
      ]
    },
    {
      "cell_type": "markdown",
      "metadata": {
        "id": "WLztUWkaZPE1"
      },
      "source": [
        "## 회귀 모델 성능 평가\n",
        "- R2\n",
        "- MAE Mean absolute error\n",
        "- MSE Mean Squared Error\n",
        "- RMSE Root MSE\n",
        "- RMSLE (Root Mean Square Log Error) : 오류값의 로그에 대한 RMSE\n",
        "- MAPE mean absolute percentage error"
      ]
    },
    {
      "cell_type": "code",
      "execution_count": null,
      "metadata": {
        "ExecuteTime": {
          "end_time": "2020-09-17T06:14:50.091615Z",
          "start_time": "2020-09-17T06:14:49.841280Z"
        },
        "id": "WsxRuPuVZPE2"
      },
      "outputs": [],
      "source": [
        "from sklearn.metrics import mean_absolute_error, mean_squared_error , r2_score\n",
        "\n",
        "r2 = r2_score(y_test, y_preds) # R2 : 0~1, 1에 가까울수록 설명력이 높은 것, 음수가 나오는 경우도 있는데, 그건 망한 거.\n",
        "mae = mean_absolute_error(true, pred)\n",
        "mse = mean_squared_error(y_test, y_preds) # MSE : 낮을 수록 좋겠지\n",
        "rmse = np.sqrt(mse) # RMSE : 얘도 당연히 낮을 수록 좋겠지\n",
        "def rmsle(y, pred): # RMSLE : 얘도 당연히 낮을 수록 좋겠지\n",
        "    log_y = np.log1p(y)\n",
        "    log_pred = np.log1p(pred)\n",
        "    squared_error = (log_y - log_pred) ** 2\n",
        "    rmsle = np.sqrt(np.mean(squared_error))\n",
        "    return rmsle"
      ]
    },
    {
      "cell_type": "code",
      "execution_count": null,
      "metadata": {
        "id": "M9S-Qon1ZPE4"
      },
      "outputs": [],
      "source": [
        "# mape\n",
        "def mape(y_test, y_preds): \n",
        "    y_test, y_preds = np.array(y_test), np.array(y_preds)\n",
        "    return np.mean(np.abs((y_test - y_preds) / y_test)) * 100"
      ]
    },
    {
      "cell_type": "markdown",
      "metadata": {
        "id": "JbIfvz1pZPE6"
      },
      "source": [
        "### Cross Validation 시 \n",
        "- Negative MSE\n",
        "- RMSE"
      ]
    },
    {
      "cell_type": "code",
      "execution_count": null,
      "metadata": {
        "id": "AGRvq5_hZPE7"
      },
      "outputs": [],
      "source": [
        "from sklearn.model_selection import cross_val_score\n",
        "\n",
        "neg_mse_scores = cross_val_score(model, X_data, y_target, scoring=\"neg_mean_squared_error\", cv = 5) # Negative MSE\n",
        "rmse_scores  = np.sqrt(-1 * neg_mse_scores) # RMSE\n",
        "avg_rmse = np.mean(rmse_scores) # RMSE 평균"
      ]
    },
    {
      "cell_type": "markdown",
      "metadata": {
        "id": "hzEvBL4qZPE7"
      },
      "source": [
        "## 분류 모델 성능 평가\n",
        "- 오차행렬\n",
        "- 정확도\n",
        "- 정밀도\n",
        "- 재현율 = 민감도\n",
        "- F1\n",
        "- AUC\n",
        "- 특이도\n",
        "- ROC - x축 : 1-특이성 = FP / (FP+TN) // y축 : 민감도(재현율) = TP / (FN+TP)"
      ]
    },
    {
      "cell_type": "code",
      "execution_count": null,
      "metadata": {
        "id": "Q0Xo5kF7ZPE9"
      },
      "outputs": [],
      "source": [
        "from sklearn.metrics import accuracy_score\n",
        "from sklearn.metrics import confusion_matrix\n",
        "from sklearn.metrics import precision_score, recall_score\n",
        "from sklearn.metrics import f1_score, roc_auc_score\n",
        "\n",
        "confusion = confusion_matrix( y_test, pred)\n",
        "accuracy_score(y_test, lr_preds) # 정확도 : 0~1, 1에 가까울수록 좋다\n",
        "precision_score(y_test , pred) # 정밀도 : TP/ (FP+TP) 예측 Positive 중에 실제 Positive\n",
        "recall_score(y_test , pred) # 재현율 : TP/(FN+TP) 실제 Positive 중에 예측이 Positive 암환자는 재현율이 중요\n",
        "f1_score(y_test,pred) # F1\n",
        "roc_auc_score(y_test , lr_preds) # AUC : 0~1, 1에 가까울수록 좋다"
      ]
    },
    {
      "cell_type": "code",
      "execution_count": null,
      "metadata": {
        "ExecuteTime": {
          "end_time": "2020-09-17T06:08:26.436242Z",
          "start_time": "2020-09-17T06:08:26.421283Z"
        },
        "id": "_e7a6JuCZPE9",
        "outputId": "c3970cf7-52f2-42f3-e401-73344d80aef9"
      },
      "outputs": [
        {
          "data": {
            "text/plain": [
              "0.6666666666666666"
            ]
          },
          "execution_count": 2,
          "metadata": {},
          "output_type": "execute_result"
        }
      ],
      "source": [
        "# 특이도는 직접 짜야함\n",
        "from sklearn.metrics import confusion_matrix\n",
        "tn, fp, fn, tp = confusion_matrix(y_true, y_pred).ravel()\n",
        "specificity = tn / (tn+fp)"
      ]
    },
    {
      "cell_type": "markdown",
      "metadata": {
        "id": "8k-RPMPtZPE_"
      },
      "source": [
        "- ROC curve는 길어서 별도로 정리"
      ]
    },
    {
      "cell_type": "code",
      "execution_count": null,
      "metadata": {
        "id": "QNwSSV1OZPFA"
      },
      "outputs": [],
      "source": [
        "from sklearn.metrics import roc_curve\n",
        "\n",
        "# 레이블 값이 1일때의 예측 확률을 추출 \n",
        "pred_proba_class1 = lr_clf.predict_proba(X_test)[:, 1] \n",
        "\n",
        "fprs , tprs , thresholds = roc_curve(y_test, pred_proba_class1)\n",
        "# fprs , tprs , thresholds = roc_curve(y_test, pred_proba_class1, pos_label=2) # y에 음수가 있으면 에러나나? 그래서 이렇게\n",
        "\n",
        "# 5 step에 하나씩 쓰겠다는 소리\n",
        "# 반환된 임곗값 배열 로우가 47건이므로 샘플로 10건만 추출하되, 임곗값을 5 Step으로 추출. \n",
        "thr_index = np.arange(0, thresholds.shape[0], 5)\n",
        "print('샘플 추출을 위한 임곗값 배열의 index 10개:', thr_index)\n",
        "print('샘플용 10개의 임곗값: ', np.round(thresholds[thr_index], 2))\n",
        "# 5 step 단위로 추출된 임계값에 따른 FPR, TPR 값\n",
        "print('샘플 임곗값별 FPR: ', np.round(fprs[thr_index], 3))\n",
        "print('샘플 임곗값별 TPR: ', np.round(tprs[thr_index], 3))"
      ]
    },
    {
      "cell_type": "code",
      "execution_count": null,
      "metadata": {
        "id": "Vv863uwtZPFA"
      },
      "outputs": [],
      "source": [
        "def roc_curve_plot(y_test , pred_proba_c1):\n",
        "    # 임곗값에 따른 FPR, TPR 값을 반환 받음. \n",
        "    fprs , tprs , thresholds = roc_curve(y_test ,pred_proba_c1)\n",
        "\n",
        "    # ROC Curve를 plot 곡선으로 그림. \n",
        "    plt.plot(fprs , tprs, label='ROC')\n",
        "    # 가운데 대각선 직선을 그림. \n",
        "    plt.plot([0, 1], [0, 1], 'k--', label='Random')\n",
        "    \n",
        "    # FPR X 축의 Scale을 0.1 단위로 변경, X,Y 축명 설정등   \n",
        "    start, end = plt.xlim()\n",
        "    plt.xticks(np.round(np.arange(start, end, 0.1),2))\n",
        "    plt.xlim(0,1); plt.ylim(0,1)\n",
        "    plt.xlabel('FPR( 1 - Sensitivity )'); plt.ylabel('TPR( Recall )')\n",
        "    plt.legend()\n",
        "    plt.show()\n",
        "    \n",
        "roc_curve_plot(y_test, lr_clf.predict_proba(X_test)[:, 1] )\n"
      ]
    },
    {
      "cell_type": "markdown",
      "metadata": {
        "id": "qbuknWiNZPFB"
      },
      "source": [
        "## 군집화 모델 성능 평가"
      ]
    },
    {
      "cell_type": "code",
      "execution_count": null,
      "metadata": {
        "id": "btHI-Ws8ZPFB"
      },
      "outputs": [],
      "source": []
    },
    {
      "cell_type": "markdown",
      "metadata": {
        "id": "_4Bo8G9dZPFC"
      },
      "source": [
        "# 분류"
      ]
    },
    {
      "cell_type": "markdown",
      "metadata": {
        "id": "Z3GOnYTUZPFC"
      },
      "source": [
        "## 로지스틱 회귀"
      ]
    },
    {
      "cell_type": "markdown",
      "metadata": {
        "id": "txub8QpHZPFC"
      },
      "source": [
        "### 데이터 로딩"
      ]
    },
    {
      "cell_type": "code",
      "execution_count": null,
      "metadata": {
        "ExecuteTime": {
          "end_time": "2020-09-17T08:55:55.728259Z",
          "start_time": "2020-09-17T08:55:52.738526Z"
        },
        "id": "mjjJqgoVZPFD"
      },
      "outputs": [],
      "source": [
        "# 데이터 로딩\n",
        "import pandas as pd\n",
        "import matplotlib.pyplot as plt\n",
        "%matplotlib inline\n",
        "\n",
        "from sklearn.datasets import load_breast_cancer\n",
        "from sklearn.linear_model import LogisticRegression\n",
        "\n",
        "cancer = load_breast_cancer()"
      ]
    },
    {
      "cell_type": "markdown",
      "metadata": {
        "id": "liHUSWJfZPFE"
      },
      "source": [
        "### StandardScaler, Train Test split"
      ]
    },
    {
      "cell_type": "code",
      "execution_count": null,
      "metadata": {
        "ExecuteTime": {
          "end_time": "2020-09-17T08:55:55.758894Z",
          "start_time": "2020-09-17T08:55:55.731207Z"
        },
        "id": "9vBID1JqZPFE"
      },
      "outputs": [],
      "source": [
        "from sklearn.preprocessing import StandardScaler\n",
        "from sklearn.model_selection import train_test_split\n",
        "\n",
        "# StandardScaler( )로 평균이 0, 분산 1로 데이터 분포도 변환\n",
        "scaler = StandardScaler()\n",
        "data_scaled = scaler.fit_transform(cancer.data) \n",
        "# 내 생각엔 Split 먼저 하고, fit_transform(X_train)해서 모델링, 그 후에 transform(X_test)가 맞는 것 같음\n",
        "\n",
        "X_train , X_test, y_train , y_test = train_test_split(data_scaled, cancer.target, test_size=0.3, random_state=0)"
      ]
    },
    {
      "cell_type": "code",
      "execution_count": null,
      "metadata": {
        "ExecuteTime": {
          "end_time": "2020-09-17T08:55:55.807797Z",
          "start_time": "2020-09-17T08:55:55.761883Z"
        },
        "id": "PYRI4F9zZPFF",
        "outputId": "cd772fb6-d188-475b-dd1c-4fd57d4bc759"
      },
      "outputs": [
        {
          "name": "stdout",
          "output_type": "stream",
          "text": [
            "accuracy: 0.982\n",
            "roc_auc: 0.979\n"
          ]
        },
        {
          "name": "stderr",
          "output_type": "stream",
          "text": [
            "C:\\Users\\50008313\\AppData\\Local\\Continuum\\anaconda3\\lib\\site-packages\\sklearn\\linear_model\\logistic.py:432: FutureWarning: Default solver will be changed to 'lbfgs' in 0.22. Specify a solver to silence this warning.\n",
            "  FutureWarning)\n"
          ]
        }
      ],
      "source": [
        "from sklearn.metrics import accuracy_score, roc_auc_score\n",
        "\n",
        "# 로지스틱 회귀를 이용하여 학습 및 예측 수행. \n",
        "lr_clf = LogisticRegression()\n",
        "lr_clf.fit(X_train, y_train)\n",
        "lr_preds = lr_clf.predict(X_test)\n",
        "\n",
        "# accuracy와 roc_auc 측정\n",
        "print('accuracy: {:0.3f}'.format(accuracy_score(y_test, lr_preds)))\n",
        "print('roc_auc: {:0.3f}'.format(roc_auc_score(y_test , lr_preds)))"
      ]
    },
    {
      "cell_type": "code",
      "execution_count": null,
      "metadata": {
        "ExecuteTime": {
          "end_time": "2020-09-17T08:55:55.977753Z",
          "start_time": "2020-09-17T08:55:55.809753Z"
        },
        "id": "bM-SCf-7ZPFG"
      },
      "outputs": [],
      "source": [
        "# 파라미터 튜닝하는 거\n",
        "# penalty는 규제 종류\n",
        "# C는 1/alpha로 작을수록 규제 강도가 커짐\n",
        "from sklearn.model_selection import GridSearchCV\n",
        "\n",
        "params={'penalty':['l2', 'l1'],\n",
        "        'C':[0.01, 0.1, 1, 1, 5, 10]}\n",
        "\n",
        "grid_clf = GridSearchCV(lr_clf, param_grid=params, scoring='accuracy', cv=3 )\n",
        "grid_clf.fit(data_scaled, cancer.target)\n",
        "print('최적 하이퍼 파라미터:{0}, 최적 평균 정확도:{1:.3f}'.format(grid_clf.best_params_, \n",
        "                                                  grid_clf.best_score_))"
      ]
    },
    {
      "cell_type": "markdown",
      "metadata": {
        "id": "QyoI3f7bZPFH"
      },
      "source": [
        "## Decision Tree Classifier"
      ]
    },
    {
      "cell_type": "code",
      "execution_count": null,
      "metadata": {
        "ExecuteTime": {
          "end_time": "2020-09-16T04:59:13.254512Z",
          "start_time": "2020-09-16T04:59:11.347924Z"
        },
        "id": "9x5ZuTMNZPFH",
        "outputId": "9bb1a05d-9bb1-400f-91f1-e84ed8891fb2"
      },
      "outputs": [
        {
          "data": {
            "text/plain": [
              "DecisionTreeClassifier(class_weight=None, criterion='gini', max_depth=None,\n",
              "                       max_features=None, max_leaf_nodes=None,\n",
              "                       min_impurity_decrease=0.0, min_impurity_split=None,\n",
              "                       min_samples_leaf=1, min_samples_split=2,\n",
              "                       min_weight_fraction_leaf=0.0, presort=False,\n",
              "                       random_state=156, splitter='best')"
            ]
          },
          "execution_count": 1,
          "metadata": {},
          "output_type": "execute_result"
        }
      ],
      "source": [
        "from sklearn.tree import DecisionTreeClassifier\n",
        "from sklearn.datasets import load_iris\n",
        "from sklearn.model_selection import train_test_split\n",
        "import warnings\n",
        "warnings.filterwarnings('ignore')\n",
        "\n",
        "# DecisionTree Classifier 생성\n",
        "dt_clf = DecisionTreeClassifier(random_state=156)\n",
        "\n",
        "# 붓꽃 데이터를 로딩하고, 학습과 테스트 데이터 셋으로 분리\n",
        "iris_data = load_iris()\n",
        "X_train , X_test , y_train , y_test = train_test_split(iris_data.data, iris_data.target,\n",
        "                                                       test_size=0.2,  random_state=11)\n",
        "\n",
        "# DecisionTreeClassifer 학습. \n",
        "dt_clf.fit(X_train , y_train)"
      ]
    },
    {
      "cell_type": "code",
      "execution_count": null,
      "metadata": {
        "ExecuteTime": {
          "end_time": "2020-09-16T05:18:44.390023Z",
          "start_time": "2020-09-16T05:18:44.384048Z"
        },
        "id": "x0uMJt8AZPFI",
        "outputId": "29921505-0393-44d2-8084-1b046b117d5d"
      },
      "outputs": [
        {
          "data": {
            "text/plain": [
              "array([2, 2, 1, 1, 2, 0, 1, 0, 0, 1, 1, 1, 1, 2, 2, 0, 2, 1, 2, 2, 1, 0,\n",
              "       0, 1, 0, 0, 2, 1, 0, 1])"
            ]
          },
          "execution_count": 10,
          "metadata": {},
          "output_type": "execute_result"
        }
      ],
      "source": [
        "y_pred = dt_clf.predict(X_test)\n",
        "y_pred"
      ]
    },
    {
      "cell_type": "markdown",
      "metadata": {
        "id": "XlvUlZdzZPFK"
      },
      "source": [
        "### 트리 시각화\n",
        "- `sklearn.tree.export_graphviz`를 이용하여 **.dot** 파일을 생성\n",
        "- 생성된 dot 파일을 텍스트 편집기에서 불러들인 후, 이를 복사하여 [WebGraphviz.com](http://webgraphviz.com/)에 붙여넣으면 의사결정나무 그림을 얻을 수 있음"
      ]
    },
    {
      "cell_type": "code",
      "execution_count": null,
      "metadata": {
        "ExecuteTime": {
          "end_time": "2020-09-16T04:59:13.316616Z",
          "start_time": "2020-09-16T04:59:13.305614Z"
        },
        "id": "FkRh34ngZPFK"
      },
      "outputs": [],
      "source": [
        "# 시각화를 위한 부분 - tree.dot 파일을 생성해줌\n",
        "\n",
        "from sklearn.tree import export_graphviz\n",
        "\n",
        "# export_graphviz()의 호출 결과로 out_file로 지정된 tree.dot 파일을 생성함. \n",
        "export_graphviz(dt_clf, out_file=\"tree.dot\", class_names=iris_data.target_names , \\\n",
        "feature_names = iris_data.feature_names, impurity=True, filled=True)"
      ]
    },
    {
      "cell_type": "code",
      "execution_count": null,
      "metadata": {
        "ExecuteTime": {
          "end_time": "2020-09-16T04:59:24.736102Z",
          "start_time": "2020-09-16T04:59:24.707184Z"
        },
        "id": "6EG5CTYAZPFL"
      },
      "outputs": [],
      "source": [
        "# 에러나면 망한 거 포기. 인터넷 되어야 해결 가능. --> tree.dot 내용 복사해서  WebGraphviz.com에 넣으면 보임\n",
        "\n",
        "import graphviz\n",
        "\n",
        "# 위에서 생성된 tree.dot 파일을 Graphviz 읽어서 Jupyter Notebook상에서 시각화 \n",
        "with open('tree.dot') as f:\n",
        "    dot_graph = f.read()\n",
        "graphviz.Source(dot_graph)"
      ]
    },
    {
      "cell_type": "markdown",
      "metadata": {
        "id": "BXNgXFpmZPFL"
      },
      "source": [
        "### feature importance 시각화"
      ]
    },
    {
      "cell_type": "code",
      "execution_count": null,
      "metadata": {
        "ExecuteTime": {
          "end_time": "2020-09-16T05:15:41.977856Z",
          "start_time": "2020-09-16T05:15:39.854094Z"
        },
        "scrolled": false,
        "id": "TnvXCH_iZPFM",
        "outputId": "3eab90df-d45c-450a-b923-b4a5f991832a"
      },
      "outputs": [
        {
          "name": "stdout",
          "output_type": "stream",
          "text": [
            "Feature importances:\n",
            "[0.025 0.    0.555 0.42 ]\n",
            "sepal length (cm) : 0.025\n",
            "sepal width (cm) : 0.000\n",
            "petal length (cm) : 0.555\n",
            "petal width (cm) : 0.420\n"
          ]
        },
        {
          "data": {
            "text/plain": [
              "<matplotlib.axes._subplots.AxesSubplot at 0x189b224df88>"
            ]
          },
          "execution_count": 7,
          "metadata": {},
          "output_type": "execute_result"
        },
        {
          "data": {
            "image/png": "[encoded data removed]",
            "text/plain": [
              "<Figure size 432x288 with 1 Axes>"
            ]
          },
          "metadata": {
            "needs_background": "light"
          },
          "output_type": "display_data"
        }
      ],
      "source": [
        "import seaborn as sns\n",
        "import numpy as np\n",
        "%matplotlib inline\n",
        "\n",
        "# feature importance 추출 \n",
        "print(\"Feature importances:\\n{0}\".format(np.round(dt_clf.feature_importances_, 3)))\n",
        "\n",
        "# feature별 importance 매핑\n",
        "for name, value in zip(iris_data.feature_names , dt_clf.feature_importances_):\n",
        "    print('{0} : {1:.3f}'.format(name, value))\n",
        "\n",
        "# feature importance를 column 별로 시각화 하기 \n",
        "sns.barplot(x=dt_clf.feature_importances_ , y=iris_data.feature_names)"
      ]
    },
    {
      "cell_type": "markdown",
      "metadata": {
        "id": "Jhz7HWgNZPFM"
      },
      "source": [
        "### DT GridSearch CV\n",
        "- max_depth, min_sample_split 조정하며 비교\n",
        "- train도 해보고, test도 해 보면 됨"
      ]
    },
    {
      "cell_type": "markdown",
      "metadata": {
        "id": "qSW7EpE9ZPFN"
      },
      "source": [
        "- train으로 GridSearchCV"
      ]
    },
    {
      "cell_type": "code",
      "execution_count": null,
      "metadata": {
        "id": "bc6ozAfwZPFN"
      },
      "outputs": [],
      "source": [
        "from sklearn.model_selection import GridSearchCV\n",
        "\n",
        "params = {\n",
        "    'max_depth' : [ 8 , 12, 16 ,20], \n",
        "    'min_samples_split' : [16,24],\n",
        "}\n",
        "\n",
        "grid_cv = GridSearchCV(dt_clf, param_grid=params, scoring='accuracy', cv=5, verbose=1 )\n",
        "grid_cv.fit(X_train , y_train)\n",
        "print('GridSearchCV 최고 평균 정확도 수치: {0:.4f}'.format(grid_cv.best_score_))\n",
        "print('GridSearchCV 최적 하이퍼 파라미터:', grid_cv.best_params_)\n"
      ]
    },
    {
      "cell_type": "markdown",
      "metadata": {
        "id": "-RnOugBPZPFO"
      },
      "source": [
        "- test로 예측하고 정확도 계산"
      ]
    },
    {
      "cell_type": "code",
      "execution_count": null,
      "metadata": {
        "id": "UshuWPSSZPFO"
      },
      "outputs": [],
      "source": [
        "best_df_clf = grid_cv.best_estimator_\n",
        "\n",
        "pred1 = best_df_clf.predict(X_test)\n",
        "accuracy = accuracy_score(y_test , pred1)\n",
        "print('결정 트리 예측 정확도:{0:.4f}'.format(accuracy))"
      ]
    },
    {
      "cell_type": "markdown",
      "metadata": {
        "id": "0X1kT--UZPFP"
      },
      "source": [
        "- GridSearch CV의 세부 주요 내역"
      ]
    },
    {
      "cell_type": "code",
      "execution_count": null,
      "metadata": {
        "id": "jaWbToXTZPFP"
      },
      "outputs": [],
      "source": [
        "# GridSearchCV객체의 cv_results_ 속성을 DataFrame으로 생성. \n",
        "cv_results_df = pd.DataFrame(grid_cv.cv_results_)\n",
        "\n",
        "# max_depth 파라미터 값과 그때의 테스트(Evaluation)셋, 학습 데이터 셋의 정확도 수치 추출\n",
        "# 사이킷런 버전이 업그레이드 되면서 아래의 GridSearchCV 객체의 cv_results_에서 mean_train_score는 더이상 제공되지 않습니다\n",
        "# cv_results_df[['param_max_depth', 'mean_test_score', 'mean_train_score']]\n",
        "\n",
        "# max_depth 파라미터 값과 그때의 테스트(Evaluation)셋, 학습 데이터 셋의 정확도 수치 추출\n",
        "cv_results_df[['param_max_depth', 'mean_test_score']]"
      ]
    },
    {
      "cell_type": "markdown",
      "metadata": {
        "id": "6a8Y6gqwZPFP"
      },
      "source": [
        "- feature importance 시각화"
      ]
    },
    {
      "cell_type": "code",
      "execution_count": null,
      "metadata": {
        "id": "4V_NI_tWZPFQ"
      },
      "outputs": [],
      "source": [
        "import seaborn as sns\n",
        "\n",
        "ftr_importances_values = best_df_clf.feature_importances_\n",
        "\n",
        "# Top 중요도로 정렬을 쉽게 하고, 시본(Seaborn)의 막대그래프로 쉽게 표현하기 위해 Series변환\n",
        "ftr_importances = pd.Series(ftr_importances_values, index=X_train.columns  )\n",
        "\n",
        "# 중요도값 순으로 Series를 정렬\n",
        "ftr_top20 = ftr_importances.sort_values(ascending=False)[:20]\n",
        "plt.figure(figsize=(8,6))\n",
        "plt.title('Feature importances Top 20')\n",
        "sns.barplot(x=ftr_top20 , y = ftr_top20.index)\n",
        "plt.show()"
      ]
    },
    {
      "cell_type": "markdown",
      "metadata": {
        "id": "uItMiQP2ZPFQ"
      },
      "source": [
        "## 앙상블 분류"
      ]
    },
    {
      "cell_type": "markdown",
      "metadata": {
        "id": "SAW0KIutZPFR"
      },
      "source": [
        "### Voting"
      ]
    },
    {
      "cell_type": "markdown",
      "metadata": {
        "id": "FmeCCm2fZPFR"
      },
      "source": [
        "- Logistic과 KNN을 Voting해보겠음"
      ]
    },
    {
      "cell_type": "code",
      "execution_count": null,
      "metadata": {
        "ExecuteTime": {
          "end_time": "2020-09-16T06:15:48.066088Z",
          "start_time": "2020-09-16T06:15:47.928557Z"
        },
        "id": "QTXxRH3YZPFS",
        "outputId": "90e25c0e-488e-48a3-e3a7-bcff07f1122c"
      },
      "outputs": [
        {
          "data": {
            "text/html": [
              "<div>\n",
              "<style scoped>\n",
              "    .dataframe tbody tr th:only-of-type {\n",
              "        vertical-align: middle;\n",
              "    }\n",
              "\n",
              "    .dataframe tbody tr th {\n",
              "        vertical-align: top;\n",
              "    }\n",
              "\n",
              "    .dataframe thead th {\n",
              "        text-align: right;\n",
              "    }\n",
              "</style>\n",
              "<table border=\"1\" class=\"dataframe\">\n",
              "  <thead>\n",
              "    <tr style=\"text-align: right;\">\n",
              "      <th></th>\n",
              "      <th>mean radius</th>\n",
              "      <th>mean texture</th>\n",
              "      <th>mean perimeter</th>\n",
              "      <th>mean area</th>\n",
              "      <th>mean smoothness</th>\n",
              "      <th>mean compactness</th>\n",
              "      <th>mean concavity</th>\n",
              "      <th>mean concave points</th>\n",
              "      <th>mean symmetry</th>\n",
              "      <th>mean fractal dimension</th>\n",
              "      <th>...</th>\n",
              "      <th>worst radius</th>\n",
              "      <th>worst texture</th>\n",
              "      <th>worst perimeter</th>\n",
              "      <th>worst area</th>\n",
              "      <th>worst smoothness</th>\n",
              "      <th>worst compactness</th>\n",
              "      <th>worst concavity</th>\n",
              "      <th>worst concave points</th>\n",
              "      <th>worst symmetry</th>\n",
              "      <th>worst fractal dimension</th>\n",
              "    </tr>\n",
              "  </thead>\n",
              "  <tbody>\n",
              "    <tr>\n",
              "      <td>0</td>\n",
              "      <td>17.99</td>\n",
              "      <td>10.38</td>\n",
              "      <td>122.8</td>\n",
              "      <td>1001.0</td>\n",
              "      <td>0.11840</td>\n",
              "      <td>0.27760</td>\n",
              "      <td>0.3001</td>\n",
              "      <td>0.14710</td>\n",
              "      <td>0.2419</td>\n",
              "      <td>0.07871</td>\n",
              "      <td>...</td>\n",
              "      <td>25.38</td>\n",
              "      <td>17.33</td>\n",
              "      <td>184.6</td>\n",
              "      <td>2019.0</td>\n",
              "      <td>0.1622</td>\n",
              "      <td>0.6656</td>\n",
              "      <td>0.7119</td>\n",
              "      <td>0.2654</td>\n",
              "      <td>0.4601</td>\n",
              "      <td>0.11890</td>\n",
              "    </tr>\n",
              "    <tr>\n",
              "      <td>1</td>\n",
              "      <td>20.57</td>\n",
              "      <td>17.77</td>\n",
              "      <td>132.9</td>\n",
              "      <td>1326.0</td>\n",
              "      <td>0.08474</td>\n",
              "      <td>0.07864</td>\n",
              "      <td>0.0869</td>\n",
              "      <td>0.07017</td>\n",
              "      <td>0.1812</td>\n",
              "      <td>0.05667</td>\n",
              "      <td>...</td>\n",
              "      <td>24.99</td>\n",
              "      <td>23.41</td>\n",
              "      <td>158.8</td>\n",
              "      <td>1956.0</td>\n",
              "      <td>0.1238</td>\n",
              "      <td>0.1866</td>\n",
              "      <td>0.2416</td>\n",
              "      <td>0.1860</td>\n",
              "      <td>0.2750</td>\n",
              "      <td>0.08902</td>\n",
              "    </tr>\n",
              "    <tr>\n",
              "      <td>2</td>\n",
              "      <td>19.69</td>\n",
              "      <td>21.25</td>\n",
              "      <td>130.0</td>\n",
              "      <td>1203.0</td>\n",
              "      <td>0.10960</td>\n",
              "      <td>0.15990</td>\n",
              "      <td>0.1974</td>\n",
              "      <td>0.12790</td>\n",
              "      <td>0.2069</td>\n",
              "      <td>0.05999</td>\n",
              "      <td>...</td>\n",
              "      <td>23.57</td>\n",
              "      <td>25.53</td>\n",
              "      <td>152.5</td>\n",
              "      <td>1709.0</td>\n",
              "      <td>0.1444</td>\n",
              "      <td>0.4245</td>\n",
              "      <td>0.4504</td>\n",
              "      <td>0.2430</td>\n",
              "      <td>0.3613</td>\n",
              "      <td>0.08758</td>\n",
              "    </tr>\n",
              "  </tbody>\n",
              "</table>\n",
              "<p>3 rows × 30 columns</p>\n",
              "</div>"
            ],
            "text/plain": [
              "   mean radius  mean texture  mean perimeter  mean area  mean smoothness  \\\n",
              "0        17.99         10.38           122.8     1001.0          0.11840   \n",
              "1        20.57         17.77           132.9     1326.0          0.08474   \n",
              "2        19.69         21.25           130.0     1203.0          0.10960   \n",
              "\n",
              "   mean compactness  mean concavity  mean concave points  mean symmetry  \\\n",
              "0           0.27760          0.3001              0.14710         0.2419   \n",
              "1           0.07864          0.0869              0.07017         0.1812   \n",
              "2           0.15990          0.1974              0.12790         0.2069   \n",
              "\n",
              "   mean fractal dimension  ...  worst radius  worst texture  worst perimeter  \\\n",
              "0                 0.07871  ...         25.38          17.33            184.6   \n",
              "1                 0.05667  ...         24.99          23.41            158.8   \n",
              "2                 0.05999  ...         23.57          25.53            152.5   \n",
              "\n",
              "   worst area  worst smoothness  worst compactness  worst concavity  \\\n",
              "0      2019.0            0.1622             0.6656           0.7119   \n",
              "1      1956.0            0.1238             0.1866           0.2416   \n",
              "2      1709.0            0.1444             0.4245           0.4504   \n",
              "\n",
              "   worst concave points  worst symmetry  worst fractal dimension  \n",
              "0                0.2654          0.4601                  0.11890  \n",
              "1                0.1860          0.2750                  0.08902  \n",
              "2                0.2430          0.3613                  0.08758  \n",
              "\n",
              "[3 rows x 30 columns]"
            ]
          },
          "execution_count": 11,
          "metadata": {},
          "output_type": "execute_result"
        }
      ],
      "source": [
        "import pandas as pd\n",
        "\n",
        "from sklearn.ensemble import VotingClassifier\n",
        "from sklearn.linear_model import LogisticRegression\n",
        "from sklearn.neighbors import KNeighborsClassifier\n",
        "from sklearn.datasets import load_breast_cancer\n",
        "from sklearn.model_selection import train_test_split\n",
        "from sklearn.metrics import accuracy_score\n",
        "\n",
        "cancer = load_breast_cancer()\n",
        "\n",
        "data_df = pd.DataFrame(cancer.data, columns=cancer.feature_names)\n",
        "data_df.head(3)"
      ]
    },
    {
      "cell_type": "markdown",
      "metadata": {
        "id": "8Ffv_70lZPFT"
      },
      "source": [
        "- 개별 모델을 VotingClassifier로 먼저 결합하고 데이터를 train\n",
        "- parameter에서 'hard', 'soft' 미리 결정"
      ]
    },
    {
      "cell_type": "code",
      "execution_count": null,
      "metadata": {
        "ExecuteTime": {
          "end_time": "2020-09-16T06:17:25.594905Z",
          "start_time": "2020-09-16T06:17:25.536976Z"
        },
        "id": "wgHIm9VsZPFU",
        "outputId": "338e7834-4513-4948-931a-045edc1eeaf7"
      },
      "outputs": [
        {
          "name": "stdout",
          "output_type": "stream",
          "text": [
            "Voting 분류기 정확도: 0.9561\n",
            "LogisticRegression 정확도: 0.9474\n",
            "KNeighborsClassifier 정확도: 0.9386\n"
          ]
        }
      ],
      "source": [
        "# 개별 모델은 로지스틱 회귀와 KNN 임. \n",
        "lr_clf = LogisticRegression()\n",
        "knn_clf = KNeighborsClassifier(n_neighbors=8)\n",
        "\n",
        "# 개별 모델을 소프트 보팅 기반의 앙상블 모델로 구현한 분류기 \n",
        "vo_clf = VotingClassifier( estimators=[('LR',lr_clf),('KNN',knn_clf)] , voting='soft' )\n",
        "\n",
        "X_train, X_test, y_train, y_test = train_test_split(cancer.data, cancer.target, \n",
        "                                                    test_size=0.2 , random_state= 156)\n",
        "\n",
        "# VotingClassifier 학습/예측/평가. \n",
        "vo_clf.fit(X_train , y_train)\n",
        "pred = vo_clf.predict(X_test)\n",
        "print('Voting 분류기 정확도: {0:.4f}'.format(accuracy_score(y_test , pred)))\n",
        "\n",
        "# 개별 모델의 학습/예측/평가.\n",
        "classifiers = [lr_clf, knn_clf]\n",
        "for classifier in classifiers:\n",
        "    classifier.fit(X_train , y_train)\n",
        "    pred = classifier.predict(X_test)\n",
        "    class_name= classifier.__class__.__name__\n",
        "    print('{0} 정확도: {1:.4f}'.format(class_name, accuracy_score(y_test , pred)))"
      ]
    },
    {
      "cell_type": "markdown",
      "metadata": {
        "id": "CUfpUBWwZPFV"
      },
      "source": [
        "### Random Forest Classifier"
      ]
    },
    {
      "cell_type": "code",
      "execution_count": null,
      "metadata": {
        "ExecuteTime": {
          "end_time": "2020-09-16T06:21:48.873959Z",
          "start_time": "2020-09-16T06:21:48.781317Z"
        },
        "id": "OUS-meTLZPFV"
      },
      "outputs": [],
      "source": [
        "from sklearn.ensemble import RandomForestClassifier\n",
        "from sklearn.metrics import accuracy_score\n",
        "import pandas as pd\n",
        "import warnings\n",
        "warnings.filterwarnings('ignore')\n",
        "\n",
        "# 결정 트리에서 사용한 get_human_dataset( )을 이용해 학습/테스트용 DataFrame 반환\n",
        "X_train, X_test, y_train, y_test = get_human_dataset()\n",
        "\n",
        "# 랜덤 포레스트 학습 및 별도의 테스트 셋으로 예측 성능 평가\n",
        "rf_clf = RandomForestClassifier(random_state=0)\n",
        "rf_clf.fit(X_train , y_train)\n",
        "pred = rf_clf.predict(X_test)\n",
        "\n",
        "accuracy = accuracy_score(y_test , pred)\n",
        "print('랜덤 포레스트 정확도: {0:.4f}'.format(accuracy))"
      ]
    },
    {
      "cell_type": "markdown",
      "metadata": {
        "id": "FPGUHcKfZPFW"
      },
      "source": [
        "- GridSearch CV로 파라미터 튜닝 (train으로 튜닝)"
      ]
    },
    {
      "cell_type": "code",
      "execution_count": null,
      "metadata": {
        "id": "PtydURI_ZPFX"
      },
      "outputs": [],
      "source": [
        "from sklearn.model_selection import GridSearchCV\n",
        "\n",
        "params = {\n",
        "    'n_estimators':[100],\n",
        "    'max_depth' : [6, 8, 10, 12], \n",
        "    'min_samples_leaf' : [8, 12, 18 ],\n",
        "    'min_samples_split' : [8, 16, 20]\n",
        "}\n",
        "# RandomForestClassifier 객체 생성 후 GridSearchCV 수행\n",
        "rf_clf = RandomForestClassifier(random_state=0, n_jobs=-1)\n",
        "grid_cv = GridSearchCV(rf_clf , param_grid=params , cv=2, n_jobs=-1 )\n",
        "grid_cv.fit(X_train , y_train)\n",
        "\n",
        "print('최적 하이퍼 파라미터:\\n', grid_cv.best_params_)\n",
        "print('최고 예측 정확도: {0:.4f}'.format(grid_cv.best_score_))"
      ]
    },
    {
      "cell_type": "markdown",
      "metadata": {
        "id": "1JHey5-XZPFY"
      },
      "source": [
        "- GridSearch CV 후 test로 성능 평가"
      ]
    },
    {
      "cell_type": "code",
      "execution_count": null,
      "metadata": {
        "id": "Vd_YKPZfZPFY"
      },
      "outputs": [],
      "source": [
        "rf_clf1 = RandomForestClassifier(n_estimators=300, max_depth=10, min_samples_leaf=8, \\\n",
        "                                 min_samples_split=8, random_state=0)\n",
        "rf_clf1.fit(X_train , y_train)\n",
        "pred = rf_clf1.predict(X_test)\n",
        "print('예측 정확도: {0:.4f}'.format(accuracy_score(y_test , pred)))"
      ]
    },
    {
      "cell_type": "markdown",
      "metadata": {
        "id": "S7s62KqFZPFZ"
      },
      "source": [
        "- Feature Importance 시각화"
      ]
    },
    {
      "cell_type": "code",
      "execution_count": null,
      "metadata": {
        "id": "Yebj-rfDZPFa"
      },
      "outputs": [],
      "source": [
        "import matplotlib.pyplot as plt\n",
        "import seaborn as sns\n",
        "%matplotlib inline\n",
        "\n",
        "ftr_importances_values = rf_clf1.feature_importances_\n",
        "ftr_importances = pd.Series(ftr_importances_values,index=X_train.columns  )\n",
        "ftr_top20 = ftr_importances.sort_values(ascending=False)[:20]\n",
        "\n",
        "plt.figure(figsize=(8,6))\n",
        "plt.title('Feature importances Top 20')\n",
        "sns.barplot(x=ftr_top20 , y = ftr_top20.index)\n",
        "plt.show()"
      ]
    },
    {
      "cell_type": "markdown",
      "metadata": {
        "id": "-2t_JfiHZPFa"
      },
      "source": [
        "### GBM (Gradient Boosting Machine)"
      ]
    },
    {
      "cell_type": "code",
      "execution_count": null,
      "metadata": {
        "id": "i4EgWPHfZPFa"
      },
      "outputs": [],
      "source": [
        "from sklearn.ensemble import GradientBoostingClassifier\n",
        "import time\n",
        "import warnings\n",
        "warnings.filterwarnings('ignore')\n",
        "\n",
        "X_train, X_test, y_train, y_test = get_human_dataset()\n",
        "\n",
        "# GBM 수행 시간 측정을 위함. 시작 시간 설정.\n",
        "start_time = time.time()\n",
        "\n",
        "gb_clf = GradientBoostingClassifier(random_state=0)\n",
        "gb_clf.fit(X_train , y_train)\n",
        "gb_pred = gb_clf.predict(X_test)\n",
        "gb_accuracy = accuracy_score(y_test, gb_pred)\n",
        "\n",
        "print('GBM 정확도: {0:.4f}'.format(gb_accuracy))\n",
        "print(\"GBM 수행 시간: {0:.1f} 초 \".format(time.time() - start_time))"
      ]
    },
    {
      "cell_type": "markdown",
      "metadata": {
        "id": "bSaqf8hEZPFb"
      },
      "source": [
        "- GridSearch CV"
      ]
    },
    {
      "cell_type": "code",
      "execution_count": null,
      "metadata": {
        "ExecuteTime": {
          "end_time": "2020-09-16T06:23:16.052747Z",
          "start_time": "2020-09-16T06:23:16.035328Z"
        },
        "id": "zA27a2zJZPFb"
      },
      "outputs": [],
      "source": [
        "from sklearn.model_selection import GridSearchCV\n",
        "\n",
        "params = {\n",
        "    'n_estimators':[100, 500],\n",
        "    'learning_rate' : [ 0.05, 0.1]\n",
        "}\n",
        "grid_cv = GridSearchCV(gb_clf , param_grid=params , cv=2 ,verbose=1)\n",
        "grid_cv.fit(X_train , y_train)\n",
        "print('최적 하이퍼 파라미터:\\n', grid_cv.best_params_)\n",
        "print('최고 예측 정확도: {0:.4f}'.format(grid_cv.best_score_))"
      ]
    },
    {
      "cell_type": "markdown",
      "metadata": {
        "id": "aqiDN-3AZPFc"
      },
      "source": [
        "- GridSearch CV 상세"
      ]
    },
    {
      "cell_type": "code",
      "execution_count": null,
      "metadata": {
        "id": "Ks44gdb0ZPFc"
      },
      "outputs": [],
      "source": [
        "scores_df = pd.DataFrame(grid_cv.cv_results_)\n",
        "scores_df[['params', 'mean_test_score', 'rank_test_score',\n",
        "'split0_test_score', 'split1_test_score']]"
      ]
    },
    {
      "cell_type": "markdown",
      "metadata": {
        "id": "ue6mdEkSZPFd"
      },
      "source": [
        "- 최적 모델로 test 수행"
      ]
    },
    {
      "cell_type": "code",
      "execution_count": null,
      "metadata": {
        "id": "2kHbxZZ2ZPFd"
      },
      "outputs": [],
      "source": [
        "# GridSearchCV를 이용하여 최적으로 학습된 estimator로 predict 수행. \n",
        "gb_pred = grid_cv.best_estimator_.predict(X_test)\n",
        "gb_accuracy = accuracy_score(y_test, gb_pred)\n",
        "print('GBM 정확도: {0:.4f}'.format(gb_accuracy))"
      ]
    },
    {
      "cell_type": "markdown",
      "metadata": {
        "ExecuteTime": {
          "end_time": "2020-09-16T06:25:08.758376Z",
          "start_time": "2020-09-16T06:25:08.744312Z"
        },
        "id": "OC6eCZuzZPFd"
      },
      "source": [
        "### XGB (eXtra Gradient Boost)\n",
        "- early_stopping_rounds(조기 종료) 숫자를 조정하며 튜닝, 너무 적으면 성능이 안 나오니 적당히 100 정도"
      ]
    },
    {
      "cell_type": "code",
      "execution_count": null,
      "metadata": {
        "id": "KRdl52TCZPFe"
      },
      "outputs": [],
      "source": [
        "# 사이킷런 래퍼 XGBoost 클래스인 XGBClassifier 임포트\n",
        "from xgboost import XGBClassifier\n",
        "\n",
        "evals = [(X_tr, y_tr), (X_val, y_val)]\n",
        "xgb_wrapper = XGBClassifier(n_estimators=400, learning_rate=0.05, max_depth=3)\n",
        "xgb_wrapper.fit(X_tr, y_tr,  early_stopping_rounds=50, eval_metric='logloss',\n",
        "                eval_set=evals,  verbose=True)\n",
        "w_preds = xgb_wrapper.predict(X_test)\n",
        "w_pred_proba = xgb_wrapper.predict_proba(X_test)[:, 1]"
      ]
    },
    {
      "cell_type": "markdown",
      "metadata": {
        "id": "h09JHlAGZPFe"
      },
      "source": [
        "- 변수 중요도 시각화"
      ]
    },
    {
      "cell_type": "code",
      "execution_count": null,
      "metadata": {
        "id": "sb1Zu-EhZPFe"
      },
      "outputs": [],
      "source": [
        "from xgboost import plot_importance\n",
        "import matplotlib.pyplot as plt\n",
        "%matplotlib inline\n",
        "\n",
        "fig, ax = plt.subplots(figsize=(10, 12))\n",
        "# 사이킷런 래퍼 클래스를 입력해도 무방. \n",
        "plot_importance(xgb_wrapper, ax=ax)"
      ]
    },
    {
      "cell_type": "markdown",
      "metadata": {
        "id": "_yeTY44SZPFf"
      },
      "source": [
        "- XGB GridSearch CV "
      ]
    },
    {
      "cell_type": "code",
      "execution_count": null,
      "metadata": {
        "id": "4ZFFAae7ZPFf"
      },
      "outputs": [],
      "source": [
        "from sklearn.model_selection import GridSearchCV\n",
        "\n",
        "xgb_clf = XGBClassifier(n_estimators=100)\n",
        "params = {'max_depth':[5, 7] , 'min_child_weight':[1,3] ,'colsample_bytree':[0.5, 0.75] }\n",
        "\n",
        "# 하이퍼 파라미터 테스트의 수행속도를 향상 시키기 위해 cv 를 지정하지 않음. \n",
        "gridcv = GridSearchCV(xgb_clf, param_grid=params)\n",
        "gridcv.fit(X_train, y_train, early_stopping_rounds=30, eval_metric=\"auc\",\n",
        "           eval_set=[(X_train, y_train), (X_test, y_test)])\n",
        "\n",
        "print('GridSearchCV 최적 파라미터:',gridcv.best_params_) \n",
        "\n",
        "xgb_roc_score = roc_auc_score(y_test, gridcv.predict_proba(X_test)[:,1], average='macro')\n",
        "print('ROC AUC: {0:.4f}'.format(xgb_roc_score))"
      ]
    },
    {
      "cell_type": "markdown",
      "metadata": {
        "id": "WufRxIkpZPFf"
      },
      "source": [
        "### LGB (LightGBM)\n",
        "- XGBoost보다 학습시간, 메모리 사용량이 적음\n",
        "- 카테고리형 피처 자동 변환\n",
        "- 예측성능은 비슷함\n",
        "- 적은 데이터 (10,000건 이하)에서는 과적합 발생이 쉬움\n",
        "- 리프 중심 트리 분할 방식 사용\n",
        "  - 보통 균형 트리 분할 (Level wise) 방식 사용\n",
        "  - 오버피팅에 강하지만 균형 맞추기 위한 시간 필요\n",
        "  - 리프 중심(leaf wise)는 최대 손실 값을 가지는 리프 노드를 지속적으로 분할\n",
        "  - 트리 깊이 깊어지고 비대칭적 규칙 트리 생성"
      ]
    },
    {
      "cell_type": "code",
      "execution_count": null,
      "metadata": {
        "id": "MIXYKmauZPFg"
      },
      "outputs": [],
      "source": [
        "# LightGBM의 파이썬 패키지인 lightgbm에서 LGBMClassifier 임포트\n",
        "from lightgbm import LGBMClassifier\n",
        "import pandas as pd\n",
        "import numpy as np\n",
        "from sklearn.model_selection import train_test_split\n",
        "\n",
        "# 전체 데이터 중 80%는 학습용 데이터, 20%는 테스트용 데이터 추출\n",
        "X_train, X_test, y_train, y_test=train_test_split(ftr, target, test_size=0.2, random_state=156 )\n",
        "X_tr, X_val, y_tr, y_val = train_test_split(X_train, y_train, test_size=0.1, random_state=156 )\n",
        "\n",
        "# 앞서 XGBoost와 동일하게 n_estimators는 400 설정. \n",
        "lgbm_wrapper = LGBMClassifier(n_estimators=400, leaerning_rate=0.05)\n",
        "\n",
        "# y의 class 비율이 극도로 불균형일 때는 아래와 같이 boost_from_average=False로 설정\n",
        "# lgbm_clf = LGBMClassifier(n_estimators=1000, num_leaves=64, n_jobs=-1, boost_from_average=False)\n",
        "\n",
        "# LightGBM도 XGBoost와 동일하게 조기 중단 수행 가능. \n",
        "evals = [(X_tr, y_tr), (X-val, y_val)]\n",
        "lgbm_wrapper.fit(X_tr, y_tr, early_stopping_rounds=50, eval_metric=\"logloss\", \n",
        "                 eval_set=evals, verbose=True)\n",
        "preds = lgbm_wrapper.predict(X_test)\n",
        "pred_proba = lgbm_wrapper.predict_proba(X_test)[:, 1]"
      ]
    },
    {
      "cell_type": "markdown",
      "metadata": {
        "id": "Wyw4L-eGZPFg"
      },
      "source": [
        "- 변수 중요도 시각화"
      ]
    },
    {
      "cell_type": "code",
      "execution_count": null,
      "metadata": {
        "id": "f3Rcp4PaZPFh"
      },
      "outputs": [],
      "source": [
        "# plot_importance( )를 이용하여 feature 중요도 시각화\n",
        "from lightgbm import plot_importance\n",
        "import matplotlib.pyplot as plt\n",
        "%matplotlib inline\n",
        "\n",
        "fig, ax = plt.subplots(figsize=(10, 12))\n",
        "plot_importance(lgbm_wrapper, ax=ax, feature_names=dataset.feature_names)"
      ]
    },
    {
      "cell_type": "markdown",
      "metadata": {
        "id": "pD3SOkdqZPFh"
      },
      "source": [
        "- LGB GridSearch CV "
      ]
    },
    {
      "cell_type": "code",
      "execution_count": null,
      "metadata": {
        "id": "5TcH0AblZPFi"
      },
      "outputs": [],
      "source": [
        "from sklearn.model_selection import GridSearchCV\n",
        "\n",
        "LGBM_clf = LGBMClassifier(n_estimators=200)\n",
        "params = {'num_leaves': [32, 64 ],\n",
        "          'max_depth':[128, 160],\n",
        "          'min_child_samples':[60, 100],\n",
        "          'subsample':[0.8, 1]}\n",
        "\n",
        "# 하이퍼 파라미터 테스트의 수행속도를 향상 시키기 위해 cv 를 지정하지 않습니다. \n",
        "gridcv = GridSearchCV(lgbm_clf, param_grid=params)\n",
        "gridcv.fit(X_train, y_train, early_stopping_rounds=30, eval_metric=\"auc\",\n",
        "           eval_set=[(X_train, y_train), (X_test, y_test)])\n",
        "\n",
        "print('GridSearchCV 최적 파라미터:', gridcv.best_params_)\n",
        "lgbm_roc_score = roc_auc_score(y_test, gridcv.predict_proba(X_test)[:,1], average='macro')\n",
        "print('ROC AUC: {0:.4f}'.format(lgbm_roc_score))\n"
      ]
    },
    {
      "cell_type": "markdown",
      "metadata": {
        "id": "EAB4rUcIZPFi"
      },
      "source": [
        "## 기타 분류 모델"
      ]
    },
    {
      "cell_type": "markdown",
      "metadata": {
        "id": "2qMkQxSHZPFj"
      },
      "source": [
        "- KNN clf"
      ]
    },
    {
      "cell_type": "code",
      "execution_count": null,
      "metadata": {
        "id": "SWWI10NGZPFj"
      },
      "outputs": [],
      "source": [
        "X = [[0], [1], [2], [3]]\n",
        "y = [0, 0, 1, 1]\n",
        "from sklearn.neighbors import KNeighborsClassifier\n",
        "neigh = KNeighborsClassifier(n_neighbors=3)\n",
        "neigh.fit(X, y)\n",
        "\n",
        "print(neigh.predict([[1.1]]))\n",
        "\n",
        "print(neigh.predict_proba([[0.9]]))"
      ]
    },
    {
      "cell_type": "markdown",
      "metadata": {
        "id": "mSt6nux_ZPFk"
      },
      "source": [
        "- 가우시안 나이브 베이즈"
      ]
    },
    {
      "cell_type": "code",
      "execution_count": null,
      "metadata": {
        "id": "aQXySwM8ZPFl"
      },
      "outputs": [],
      "source": [
        "X = np.array([[-1, -1], [-2, -1], [-3, -2], [1, 1], [2, 1], [3, 2]])\n",
        "Y = np.array([1, 1, 1, 2, 2, 2])\n",
        "from sklearn.naive_bayes import GaussianNB\n",
        "clf = GaussianNB()\n",
        "clf.fit(X, Y)\n",
        "\n",
        "print(clf.predict([[-0.8, -1]]))"
      ]
    },
    {
      "cell_type": "markdown",
      "metadata": {
        "id": "EhSQeTTRZPFl"
      },
      "source": [
        "- LDA clf"
      ]
    },
    {
      "cell_type": "code",
      "execution_count": null,
      "metadata": {
        "id": "QQnvrZp9ZPFm"
      },
      "outputs": [],
      "source": [
        "import numpy as np\n",
        "from sklearn.discriminant_analysis import LinearDiscriminantAnalysis\n",
        "X = np.array([[-1, -1], [-2, -1], [-3, -2], [1, 1], [2, 1], [3, 2]])\n",
        "y = np.array([1, 1, 1, 2, 2, 2])\n",
        "clf = LinearDiscriminantAnalysis()\n",
        "clf.fit(X, y)\n",
        "\n",
        "print(clf.predict([[-0.8, -1]]))"
      ]
    },
    {
      "cell_type": "markdown",
      "metadata": {
        "id": "FR1Cf-QKZPFm"
      },
      "source": [
        "- MLP clf"
      ]
    },
    {
      "cell_type": "code",
      "execution_count": null,
      "metadata": {
        "id": "M7gsixUiZPFn"
      },
      "outputs": [],
      "source": [
        "from sklearn.neural_network import MLPClassifier\n",
        "from sklearn.datasets import make_classification\n",
        "from sklearn.model_selection import train_test_split\n",
        "X, y = make_classification(n_samples=100, random_state=1)\n",
        "X_train, X_test, y_train, y_test = train_test_split(X, y, stratify=y,\n",
        "                                                    random_state=1)\n",
        "clf = MLPClassifier(random_state=1, max_iter=300).fit(X_train, y_train)\n",
        "clf.predict_proba(X_test[:1])\n",
        "\n",
        "clf.predict(X_test[:5, :])\n",
        "\n",
        "clf.score(X_test, y_test)"
      ]
    },
    {
      "cell_type": "markdown",
      "metadata": {
        "id": "82pBiCtzZPFn"
      },
      "source": [
        "- SVM"
      ]
    },
    {
      "cell_type": "code",
      "execution_count": null,
      "metadata": {
        "id": "4ZXnbdSLZPFo"
      },
      "outputs": [],
      "source": [
        "from sklearn.svm import SVC\n",
        "\n",
        "model = SVC(kernel = 'rbf').fit(train_X, train_Y)\n",
        "predicted = model.predict(test_X)"
      ]
    },
    {
      "cell_type": "markdown",
      "metadata": {
        "id": "Syso-WE0ZPFp"
      },
      "source": [
        "# 차원축소\n",
        "- 잠재된 요소 추출이 목적. 오버피팅 방지\n",
        "- 피처선택: 종속성이 강한 불필요한 피처 제거\n",
        "- 피처추출: 기존 피처를 저차원의 중요 피처로 압축"
      ]
    },
    {
      "cell_type": "markdown",
      "metadata": {
        "id": "q2l3oGiiZPFq"
      },
      "source": [
        "## PCA\n",
        "- 가장 높은 분산을 가지는 데이터 축으로 차원 축소.\n",
        "- 분산이 데이터 특성을 가장 잘 나타내는 것으로 간주\n",
        "- 스케일링 필요 - StandardScaling (여러 속성을 동일한 스케일로 변환하는 것이 필요)"
      ]
    },
    {
      "cell_type": "code",
      "execution_count": 3,
      "metadata": {
        "ExecuteTime": {
          "end_time": "2020-12-11T07:57:59.272202Z",
          "start_time": "2020-12-11T07:57:58.059318Z"
        },
        "id": "hIMKRdDvZPFq",
        "outputId": "fd8d0793-da04-40b6-c0f3-45d58dbb75cb",
        "colab": {
          "base_uri": "https://localhost:8080/",
          "height": 143
        }
      },
      "outputs": [
        {
          "output_type": "execute_result",
          "data": {
            "text/plain": [
              "   sepal_length  sepal_width  petal_length  petal_width  target\n",
              "0           5.1          3.5           1.4          0.2       0\n",
              "1           4.9          3.0           1.4          0.2       0\n",
              "2           4.7          3.2           1.3          0.2       0"
            ],
            "text/html": [
              "\n",
              "  <div id=\"df-5f784e43-9367-4d0f-b7d0-8b4e49d6d896\">\n",
              "    <div class=\"colab-df-container\">\n",
              "      <div>\n",
              "<style scoped>\n",
              "    .dataframe tbody tr th:only-of-type {\n",
              "        vertical-align: middle;\n",
              "    }\n",
              "\n",
              "    .dataframe tbody tr th {\n",
              "        vertical-align: top;\n",
              "    }\n",
              "\n",
              "    .dataframe thead th {\n",
              "        text-align: right;\n",
              "    }\n",
              "</style>\n",
              "<table border=\"1\" class=\"dataframe\">\n",
              "  <thead>\n",
              "    <tr style=\"text-align: right;\">\n",
              "      <th></th>\n",
              "      <th>sepal_length</th>\n",
              "      <th>sepal_width</th>\n",
              "      <th>petal_length</th>\n",
              "      <th>petal_width</th>\n",
              "      <th>target</th>\n",
              "    </tr>\n",
              "  </thead>\n",
              "  <tbody>\n",
              "    <tr>\n",
              "      <th>0</th>\n",
              "      <td>5.1</td>\n",
              "      <td>3.5</td>\n",
              "      <td>1.4</td>\n",
              "      <td>0.2</td>\n",
              "      <td>0</td>\n",
              "    </tr>\n",
              "    <tr>\n",
              "      <th>1</th>\n",
              "      <td>4.9</td>\n",
              "      <td>3.0</td>\n",
              "      <td>1.4</td>\n",
              "      <td>0.2</td>\n",
              "      <td>0</td>\n",
              "    </tr>\n",
              "    <tr>\n",
              "      <th>2</th>\n",
              "      <td>4.7</td>\n",
              "      <td>3.2</td>\n",
              "      <td>1.3</td>\n",
              "      <td>0.2</td>\n",
              "      <td>0</td>\n",
              "    </tr>\n",
              "  </tbody>\n",
              "</table>\n",
              "</div>\n",
              "      <button class=\"colab-df-convert\" onclick=\"convertToInteractive('df-5f784e43-9367-4d0f-b7d0-8b4e49d6d896')\"\n",
              "              title=\"Convert this dataframe to an interactive table.\"\n",
              "              style=\"display:none;\">\n",
              "        \n",
              "  <svg xmlns=\"http://www.w3.org/2000/svg\" height=\"24px\"viewBox=\"0 0 24 24\"\n",
              "       width=\"24px\">\n",
              "    <path d=\"M0 0h24v24H0V0z\" fill=\"none\"/>\n",
              "    <path d=\"M18.56 5.44l.94 2.06.94-2.06 2.06-.94-2.06-.94-.94-2.06-.94 2.06-2.06.94zm-11 1L8.5 8.5l.94-2.06 2.06-.94-2.06-.94L8.5 2.5l-.94 2.06-2.06.94zm10 10l.94 2.06.94-2.06 2.06-.94-2.06-.94-.94-2.06-.94 2.06-2.06.94z\"/><path d=\"M17.41 7.96l-1.37-1.37c-.4-.4-.92-.59-1.43-.59-.52 0-1.04.2-1.43.59L10.3 9.45l-7.72 7.72c-.78.78-.78 2.05 0 2.83L4 21.41c.39.39.9.59 1.41.59.51 0 1.02-.2 1.41-.59l7.78-7.78 2.81-2.81c.8-.78.8-2.07 0-2.86zM5.41 20L4 18.59l7.72-7.72 1.47 1.35L5.41 20z\"/>\n",
              "  </svg>\n",
              "      </button>\n",
              "      \n",
              "  <style>\n",
              "    .colab-df-container {\n",
              "      display:flex;\n",
              "      flex-wrap:wrap;\n",
              "      gap: 12px;\n",
              "    }\n",
              "\n",
              "    .colab-df-convert {\n",
              "      background-color: #E8F0FE;\n",
              "      border: none;\n",
              "      border-radius: 50%;\n",
              "      cursor: pointer;\n",
              "      display: none;\n",
              "      fill: #1967D2;\n",
              "      height: 32px;\n",
              "      padding: 0 0 0 0;\n",
              "      width: 32px;\n",
              "    }\n",
              "\n",
              "    .colab-df-convert:hover {\n",
              "      background-color: #E2EBFA;\n",
              "      box-shadow: 0px 1px 2px rgba(60, 64, 67, 0.3), 0px 1px 3px 1px rgba(60, 64, 67, 0.15);\n",
              "      fill: #174EA6;\n",
              "    }\n",
              "\n",
              "    [theme=dark] .colab-df-convert {\n",
              "      background-color: #3B4455;\n",
              "      fill: #D2E3FC;\n",
              "    }\n",
              "\n",
              "    [theme=dark] .colab-df-convert:hover {\n",
              "      background-color: #434B5C;\n",
              "      box-shadow: 0px 1px 3px 1px rgba(0, 0, 0, 0.15);\n",
              "      filter: drop-shadow(0px 1px 2px rgba(0, 0, 0, 0.3));\n",
              "      fill: #FFFFFF;\n",
              "    }\n",
              "  </style>\n",
              "\n",
              "      <script>\n",
              "        const buttonEl =\n",
              "          document.querySelector('#df-5f784e43-9367-4d0f-b7d0-8b4e49d6d896 button.colab-df-convert');\n",
              "        buttonEl.style.display =\n",
              "          google.colab.kernel.accessAllowed ? 'block' : 'none';\n",
              "\n",
              "        async function convertToInteractive(key) {\n",
              "          const element = document.querySelector('#df-5f784e43-9367-4d0f-b7d0-8b4e49d6d896');\n",
              "          const dataTable =\n",
              "            await google.colab.kernel.invokeFunction('convertToInteractive',\n",
              "                                                     [key], {});\n",
              "          if (!dataTable) return;\n",
              "\n",
              "          const docLinkHtml = 'Like what you see? Visit the ' +\n",
              "            '<a target=\"_blank\" href=https://colab.research.google.com/notebooks/data_table.ipynb>data table notebook</a>'\n",
              "            + ' to learn more about interactive tables.';\n",
              "          element.innerHTML = '';\n",
              "          dataTable['output_type'] = 'display_data';\n",
              "          await google.colab.output.renderOutput(dataTable, element);\n",
              "          const docLink = document.createElement('div');\n",
              "          docLink.innerHTML = docLinkHtml;\n",
              "          element.appendChild(docLink);\n",
              "        }\n",
              "      </script>\n",
              "    </div>\n",
              "  </div>\n",
              "  "
            ]
          },
          "metadata": {},
          "execution_count": 3
        }
      ],
      "source": [
        "from sklearn.datasets import load_iris\n",
        "import pandas as pd\n",
        "import matplotlib.pyplot as plt\n",
        "%matplotlib inline\n",
        "\n",
        "iris = load_iris()\n",
        "columns = ['sepal_length', 'sepal_width', 'petal_length', 'petal_width']\n",
        "irisDF = pd.DataFrame(iris.data, columns=columns)\n",
        "irisDF['target'] = iris.target\n",
        "irisDF.head(3)"
      ]
    },
    {
      "cell_type": "code",
      "source": [
        "markers = ['^', 's', 'o']\n",
        "\n",
        "for i, marker in enumerate(markers):\n",
        "  x_axis_data = irisDF[irisDF['target']==i]['sepal_length']\n",
        "  y_axis_data = irisDF[irisDF['target']==i]['sepal_width']\n",
        "  plt.scatter(x_axis_data, y_axis_data, marker=marker, label=iris.target_names[i])\n",
        "\n",
        "plt.legend()\n",
        "plt.xlabel('sepal length')\n",
        "plt.ylabel('sepal width')\n",
        "plt.show()"
      ],
      "metadata": {
        "id": "RLiCCZsNM-ya",
        "outputId": "9e8ba901-d43e-477f-ad5f-109afd2cdd30",
        "colab": {
          "base_uri": "https://localhost:8080/",
          "height": 452
        }
      },
      "execution_count": 4,
      "outputs": [
        {
          "output_type": "display_data",
          "data": {
            "text/plain": [
              "<Figure size 640x480 with 1 Axes>"
            ],
            "image/png": "[encoded data removed]"
          },
          "metadata": {}
        }
      ]
    },
    {
      "cell_type": "code",
      "execution_count": 6,
      "metadata": {
        "ExecuteTime": {
          "end_time": "2020-12-11T07:58:52.149375Z",
          "start_time": "2020-12-11T07:58:49.435939Z"
        },
        "id": "vrWMnE0TZPFs"
      },
      "outputs": [],
      "source": [
        "from sklearn.preprocessing import StandardScaler\n",
        "\n",
        "iris_scaled = StandardScaler().fit_transform(irisDF.iloc[:, :-1])"
      ]
    },
    {
      "cell_type": "code",
      "execution_count": 7,
      "metadata": {
        "ExecuteTime": {
          "end_time": "2020-12-11T07:59:08.042939Z",
          "start_time": "2020-12-11T07:59:07.719805Z"
        },
        "id": "A52vHtJ7ZPFt",
        "outputId": "3d7aa5e8-6888-4cd6-f3b0-baf9857acc05",
        "colab": {
          "base_uri": "https://localhost:8080/"
        }
      },
      "outputs": [
        {
          "output_type": "stream",
          "name": "stdout",
          "text": [
            "(150, 2)\n"
          ]
        }
      ],
      "source": [
        "from sklearn.decomposition import PCA\n",
        "\n",
        "pca = PCA(n_components=2)\n",
        "\n",
        "#fit( )과 transform( ) 을 호출하여 PCA 변환 데이터 반환\n",
        "pca.fit(iris_scaled)\n",
        "iris_pca = pca.transform(iris_scaled)\n",
        "print(iris_pca.shape)"
      ]
    },
    {
      "cell_type": "code",
      "execution_count": 8,
      "metadata": {
        "ExecuteTime": {
          "end_time": "2020-12-11T08:03:34.505770Z",
          "start_time": "2020-12-11T08:03:34.492804Z"
        },
        "id": "nfDAIWbxZPFu",
        "outputId": "b365fdd5-64a3-4493-dcb0-35c1374df851",
        "colab": {
          "base_uri": "https://localhost:8080/",
          "height": 143
        }
      },
      "outputs": [
        {
          "output_type": "execute_result",
          "data": {
            "text/plain": [
              "   pca_component_1  pca_component_2  target\n",
              "0        -2.264703         0.480027       0\n",
              "1        -2.080961        -0.674134       0\n",
              "2        -2.364229        -0.341908       0"
            ],
            "text/html": [
              "\n",
              "  <div id=\"df-c849ebad-2696-4112-b385-5247731bf5a1\">\n",
              "    <div class=\"colab-df-container\">\n",
              "      <div>\n",
              "<style scoped>\n",
              "    .dataframe tbody tr th:only-of-type {\n",
              "        vertical-align: middle;\n",
              "    }\n",
              "\n",
              "    .dataframe tbody tr th {\n",
              "        vertical-align: top;\n",
              "    }\n",
              "\n",
              "    .dataframe thead th {\n",
              "        text-align: right;\n",
              "    }\n",
              "</style>\n",
              "<table border=\"1\" class=\"dataframe\">\n",
              "  <thead>\n",
              "    <tr style=\"text-align: right;\">\n",
              "      <th></th>\n",
              "      <th>pca_component_1</th>\n",
              "      <th>pca_component_2</th>\n",
              "      <th>target</th>\n",
              "    </tr>\n",
              "  </thead>\n",
              "  <tbody>\n",
              "    <tr>\n",
              "      <th>0</th>\n",
              "      <td>-2.264703</td>\n",
              "      <td>0.480027</td>\n",
              "      <td>0</td>\n",
              "    </tr>\n",
              "    <tr>\n",
              "      <th>1</th>\n",
              "      <td>-2.080961</td>\n",
              "      <td>-0.674134</td>\n",
              "      <td>0</td>\n",
              "    </tr>\n",
              "    <tr>\n",
              "      <th>2</th>\n",
              "      <td>-2.364229</td>\n",
              "      <td>-0.341908</td>\n",
              "      <td>0</td>\n",
              "    </tr>\n",
              "  </tbody>\n",
              "</table>\n",
              "</div>\n",
              "      <button class=\"colab-df-convert\" onclick=\"convertToInteractive('df-c849ebad-2696-4112-b385-5247731bf5a1')\"\n",
              "              title=\"Convert this dataframe to an interactive table.\"\n",
              "              style=\"display:none;\">\n",
              "        \n",
              "  <svg xmlns=\"http://www.w3.org/2000/svg\" height=\"24px\"viewBox=\"0 0 24 24\"\n",
              "       width=\"24px\">\n",
              "    <path d=\"M0 0h24v24H0V0z\" fill=\"none\"/>\n",
              "    <path d=\"M18.56 5.44l.94 2.06.94-2.06 2.06-.94-2.06-.94-.94-2.06-.94 2.06-2.06.94zm-11 1L8.5 8.5l.94-2.06 2.06-.94-2.06-.94L8.5 2.5l-.94 2.06-2.06.94zm10 10l.94 2.06.94-2.06 2.06-.94-2.06-.94-.94-2.06-.94 2.06-2.06.94z\"/><path d=\"M17.41 7.96l-1.37-1.37c-.4-.4-.92-.59-1.43-.59-.52 0-1.04.2-1.43.59L10.3 9.45l-7.72 7.72c-.78.78-.78 2.05 0 2.83L4 21.41c.39.39.9.59 1.41.59.51 0 1.02-.2 1.41-.59l7.78-7.78 2.81-2.81c.8-.78.8-2.07 0-2.86zM5.41 20L4 18.59l7.72-7.72 1.47 1.35L5.41 20z\"/>\n",
              "  </svg>\n",
              "      </button>\n",
              "      \n",
              "  <style>\n",
              "    .colab-df-container {\n",
              "      display:flex;\n",
              "      flex-wrap:wrap;\n",
              "      gap: 12px;\n",
              "    }\n",
              "\n",
              "    .colab-df-convert {\n",
              "      background-color: #E8F0FE;\n",
              "      border: none;\n",
              "      border-radius: 50%;\n",
              "      cursor: pointer;\n",
              "      display: none;\n",
              "      fill: #1967D2;\n",
              "      height: 32px;\n",
              "      padding: 0 0 0 0;\n",
              "      width: 32px;\n",
              "    }\n",
              "\n",
              "    .colab-df-convert:hover {\n",
              "      background-color: #E2EBFA;\n",
              "      box-shadow: 0px 1px 2px rgba(60, 64, 67, 0.3), 0px 1px 3px 1px rgba(60, 64, 67, 0.15);\n",
              "      fill: #174EA6;\n",
              "    }\n",
              "\n",
              "    [theme=dark] .colab-df-convert {\n",
              "      background-color: #3B4455;\n",
              "      fill: #D2E3FC;\n",
              "    }\n",
              "\n",
              "    [theme=dark] .colab-df-convert:hover {\n",
              "      background-color: #434B5C;\n",
              "      box-shadow: 0px 1px 3px 1px rgba(0, 0, 0, 0.15);\n",
              "      filter: drop-shadow(0px 1px 2px rgba(0, 0, 0, 0.3));\n",
              "      fill: #FFFFFF;\n",
              "    }\n",
              "  </style>\n",
              "\n",
              "      <script>\n",
              "        const buttonEl =\n",
              "          document.querySelector('#df-c849ebad-2696-4112-b385-5247731bf5a1 button.colab-df-convert');\n",
              "        buttonEl.style.display =\n",
              "          google.colab.kernel.accessAllowed ? 'block' : 'none';\n",
              "\n",
              "        async function convertToInteractive(key) {\n",
              "          const element = document.querySelector('#df-c849ebad-2696-4112-b385-5247731bf5a1');\n",
              "          const dataTable =\n",
              "            await google.colab.kernel.invokeFunction('convertToInteractive',\n",
              "                                                     [key], {});\n",
              "          if (!dataTable) return;\n",
              "\n",
              "          const docLinkHtml = 'Like what you see? Visit the ' +\n",
              "            '<a target=\"_blank\" href=https://colab.research.google.com/notebooks/data_table.ipynb>data table notebook</a>'\n",
              "            + ' to learn more about interactive tables.';\n",
              "          element.innerHTML = '';\n",
              "          dataTable['output_type'] = 'display_data';\n",
              "          await google.colab.output.renderOutput(dataTable, element);\n",
              "          const docLink = document.createElement('div');\n",
              "          docLink.innerHTML = docLinkHtml;\n",
              "          element.appendChild(docLink);\n",
              "        }\n",
              "      </script>\n",
              "    </div>\n",
              "  </div>\n",
              "  "
            ]
          },
          "metadata": {},
          "execution_count": 8
        }
      ],
      "source": [
        "# PCA 환된 데이터의 컬럼명을 각각 pca_component_1, pca_component_2로 명명\n",
        "pca_columns=['pca_component_1','pca_component_2']\n",
        "irisDF_pca = pd.DataFrame(iris_pca, columns=pca_columns)\n",
        "irisDF_pca['target'] = iris.target\n",
        "irisDF_pca.head(3)"
      ]
    },
    {
      "cell_type": "markdown",
      "metadata": {
        "id": "nn-54mVDZPFv"
      },
      "source": [
        "- PCA 변환된 데이터 시각화"
      ]
    },
    {
      "cell_type": "code",
      "execution_count": 9,
      "metadata": {
        "ExecuteTime": {
          "end_time": "2020-12-11T08:04:09.554976Z",
          "start_time": "2020-12-11T08:04:09.206540Z"
        },
        "id": "byQ6xHDtZPFv",
        "outputId": "1d4fc717-5927-4518-afb8-2ca08a5d5845",
        "colab": {
          "base_uri": "https://localhost:8080/",
          "height": 449
        }
      },
      "outputs": [
        {
          "output_type": "display_data",
          "data": {
            "text/plain": [
              "<Figure size 640x480 with 1 Axes>"
            ],
            "image/png": "[encoded data removed]"
          },
          "metadata": {}
        }
      ],
      "source": [
        "#setosa를 세모, versicolor를 네모, virginica를 동그라미로 표시\n",
        "markers=['^', 's', 'o']\n",
        "\n",
        "#pca_component_1 을 x축, pc_component_2를 y축으로 scatter plot 수행. \n",
        "for i, marker in enumerate(markers):\n",
        "    x_axis_data = irisDF_pca[irisDF_pca['target']==i]['pca_component_1']\n",
        "    y_axis_data = irisDF_pca[irisDF_pca['target']==i]['pca_component_2']\n",
        "    plt.scatter(x_axis_data, y_axis_data, marker=marker, label=iris.target_names[i])\n",
        "\n",
        "plt.legend()\n",
        "plt.xlabel('pca_component_1')\n",
        "plt.ylabel('pca_component_2')\n",
        "plt.show()"
      ]
    },
    {
      "cell_type": "code",
      "execution_count": 10,
      "metadata": {
        "id": "x2lN2zGiZPFx",
        "outputId": "31db4b0d-19d3-4d3a-9d1d-fd809dffec53",
        "colab": {
          "base_uri": "https://localhost:8080/"
        }
      },
      "outputs": [
        {
          "output_type": "stream",
          "name": "stdout",
          "text": [
            "[0.72962445 0.22850762]\n"
          ]
        }
      ],
      "source": [
        "print(pca.explained_variance_ratio_)"
      ]
    },
    {
      "cell_type": "markdown",
      "metadata": {
        "id": "v-iaeMETZPFw"
      },
      "source": [
        "- PCA 변환을 수행한 PCA 컴포넌트별로 차지하는 변동성 비율을 나타냄\n",
        "- 첫 번째 PCA 변환 요소가 전체 변동성의 72.9%, 두 번째가 22.8%를 차지하면 두 개의 요소만으로도 원본 데이터의 95% 설명 가능"
      ]
    },
    {
      "cell_type": "markdown",
      "metadata": {
        "id": "0Ina2C8lZPFx"
      },
      "source": [
        "### 분류모델 적용\n",
        "- 원본 데이터와 PCA 데이터의 CV 분류 결과"
      ]
    },
    {
      "cell_type": "code",
      "execution_count": 11,
      "metadata": {
        "id": "G1pBNOR6ZPFy",
        "outputId": "f8fc8524-7200-43f8-e8c3-d86d42e375d4",
        "colab": {
          "base_uri": "https://localhost:8080/"
        }
      },
      "outputs": [
        {
          "output_type": "stream",
          "name": "stdout",
          "text": [
            "원본 데이터 교차 검증 개별 정확도: [0.98 0.94 0.96]\n",
            "원본 데이터 평균 정확도: 0.96\n"
          ]
        }
      ],
      "source": [
        "from sklearn.ensemble import RandomForestClassifier\n",
        "from sklearn.model_selection import cross_val_score\n",
        "import numpy as np\n",
        "\n",
        "rcf = RandomForestClassifier(random_state=156)\n",
        "scores = cross_val_score(rcf, iris.data, iris.target, scoring='accuracy', cv=3)\n",
        "print('원본 데이터 교차 검증 개별 정확도:', scores)\n",
        "print('원본 데이터 평균 정확도:', np.mean(scores))"
      ]
    },
    {
      "cell_type": "code",
      "execution_count": 12,
      "metadata": {
        "id": "kbVtJ5j3ZPFz",
        "outputId": "a9d6c25e-5d51-4190-c172-cf8465ec2da6",
        "colab": {
          "base_uri": "https://localhost:8080/"
        }
      },
      "outputs": [
        {
          "output_type": "stream",
          "name": "stdout",
          "text": [
            "PCA 변환 데이터 교차 검증 개별 정확도: [0.88 0.88 0.88]\n",
            "PCA 변환 데이터 평균 정확도: 0.88\n"
          ]
        }
      ],
      "source": [
        "# PCA 요소로 교차 검증\n",
        "pca_X = irisDF_pca[['pca_component_1', 'pca_component_2']]\n",
        "scores_pca = cross_val_score(rcf, pca_X, iris.target, scoring='accuracy', cv=3 )\n",
        "print('PCA 변환 데이터 교차 검증 개별 정확도:', scores_pca)\n",
        "print('PCA 변환 데이터 평균 정확도:', np.mean(scores_pca))"
      ]
    },
    {
      "cell_type": "markdown",
      "source": [
        "원본 데이터 대비 PCA 변환 차원이 예측 정확도가 떨어짐  \n",
        "정확도가 8% 하락했지만 4개 속성이 2개로 50% 감소한 것을 고려하면 원본 데이터 특성을 상당히 유지하고 있음을 알 수 있음"
      ],
      "metadata": {
        "id": "2_uyQTfxO0kR"
      }
    },
    {
      "cell_type": "markdown",
      "metadata": {
        "id": "BOWH7PYqZPFz"
      },
      "source": [
        "## LDA 선형 판별분석 Linear Discriminant Analysis\n",
        "- 특히 분류에 유리\n",
        "- 개별 클래스를 분별할 수 있는 기준 최대한 유지\n",
        "- 입력데이터 결정값 클래스를 최대한 분리할 수 있는 축을 찾음\n",
        "- 클래스 간 분산과 클래스 내부 분산의 비율을 최대화하는 방식\n",
        "  - 클래스 간 분산 최대화, 클래스 내부 분산 최소화\n",
        "- 스케일링 필요 - StandardScaling\n"
      ]
    },
    {
      "cell_type": "code",
      "execution_count": 1,
      "metadata": {
        "id": "lMN1nNZ3ZPF0"
      },
      "outputs": [],
      "source": [
        "from sklearn.discriminant_analysis import LinearDiscriminantAnalysis\n",
        "from sklearn.preprocessing import StandardScaler\n",
        "from sklearn.datasets import load_iris\n",
        "\n",
        "iris = load_iris()\n",
        "iris_scaled = StandardScaler().fit_transform(iris.data) # X를 넣어줌"
      ]
    },
    {
      "cell_type": "markdown",
      "metadata": {
        "id": "36zwZZLBZPF1"
      },
      "source": [
        "- LDA는 PCA와 달리 지도학습이기 때문에 y가 필요함\n",
        "- 아래는 2개 컴포넌트로 데이터를 LDA 변환함"
      ]
    },
    {
      "cell_type": "code",
      "execution_count": 2,
      "metadata": {
        "id": "a_927WLJZPF1",
        "outputId": "c2317a07-89e3-4d85-ae8d-087f47346b02",
        "colab": {
          "base_uri": "https://localhost:8080/"
        }
      },
      "outputs": [
        {
          "output_type": "stream",
          "name": "stdout",
          "text": [
            "(150, 2)\n"
          ]
        }
      ],
      "source": [
        "lda = LinearDiscriminantAnalysis(n_components=2)\n",
        "lda.fit(iris_scaled, iris.target) # X들과 y를 넣어줌\n",
        "iris_lda = lda.transform(iris_scaled) # Scaled X를 넣어줌\n",
        "print(iris_lda.shape)"
      ]
    },
    {
      "cell_type": "code",
      "execution_count": null,
      "metadata": {
        "id": "NUWmCk52ZPF2"
      },
      "outputs": [],
      "source": [
        "# LDA 변환된 데이터의 컬럼명을 각각 lda_component_1, lda_component_2로 명명\n",
        "lda_columns=['lda_component_1','lda_component_2']\n",
        "irisDF_lda = pd.DataFrame(iris_lda,columns=lda_columns)\n",
        "irisDF_lda['target']=iris.target\n",
        "irisDF_lda.head(3)"
      ]
    },
    {
      "cell_type": "code",
      "execution_count": null,
      "metadata": {
        "id": "vTFwIaFLZPF4"
      },
      "outputs": [],
      "source": [
        "lda_X = irisDF_lda[['lda_component_1', 'lda_component_2']]\n",
        "scores_lda = cross_val_score(rcf, lda_X, iris.target, scoring='accuracy', cv=3 )\n",
        "print(scores_lda)"
      ]
    },
    {
      "cell_type": "markdown",
      "metadata": {
        "id": "ZmFQ1ikrZPF5"
      },
      "source": [
        "## SVD \n",
        "- Singular Value Decomposition\n",
        "- PCA와 유사하지만 행과 열 크기가 다른 행렬에도 적용 가능(특이값 분해)\n",
        "- $A=UΣV^T$ (U, V: 특이벡터, Σ: 대각행렬)\n",
        "- Truncated SVD는 Σ의 대각원소 중 상위 몇 개만 추출해 대응되는 U, V 원소도 함께 제거\n",
        "- 스케일링으로 데이터 중심이 동일해지면 PCA, SVD는 동일한 변환 수행\n",
        "- PCA는 Dense Matrix만 가능, SVD는 Sparse Matrix도 가능"
      ]
    },
    {
      "cell_type": "code",
      "execution_count": 4,
      "metadata": {
        "id": "cF-bddLZZPF6",
        "outputId": "1195e04b-e543-4a35-f1a1-5c9ba25484db",
        "colab": {
          "base_uri": "https://localhost:8080/",
          "height": 468
        }
      },
      "outputs": [
        {
          "output_type": "execute_result",
          "data": {
            "text/plain": [
              "Text(0, 0.5, 'TruncatedSVD Component 2')"
            ]
          },
          "metadata": {},
          "execution_count": 4
        },
        {
          "output_type": "display_data",
          "data": {
            "text/plain": [
              "<Figure size 640x480 with 1 Axes>"
            ],
            "image/png": "[encoded data removed]"
          },
          "metadata": {}
        }
      ],
      "source": [
        "from sklearn.decomposition import TruncatedSVD, PCA\n",
        "from sklearn.datasets import load_iris\n",
        "import matplotlib.pyplot as plt\n",
        "%matplotlib inline\n",
        "\n",
        "iris = load_iris()\n",
        "iris_ftrs = iris.data # X\n",
        "\n",
        "# iris 데이터를 StandardScaler로 변환\n",
        "from sklearn.preprocessing import StandardScaler\n",
        "scaler = StandardScaler()\n",
        "iris_scaled = scaler.fit_transform(iris_ftrs) # X\n",
        "\n",
        "\n",
        "# TruncatedSVD 수행\n",
        "# 스케일링된 데이터를 기반으로 2개의 주요 component로 TruncatedSVD 변환 수행 \n",
        "tsvd = TruncatedSVD(n_components=2)\n",
        "tsvd.fit(iris_scaled) # Scaled X\n",
        "iris_tsvd = tsvd.transform(iris_scaled) # Scaled X\n",
        "\n",
        "# Scatter plot 2차원으로 TruncatedSVD 변환 된 데이터 표현. 품종은 색깔로 구분\n",
        "plt.scatter(x=iris_tsvd[:,0], y= iris_tsvd[:,1], c= iris.target)\n",
        "plt.xlabel('TruncatedSVD Component 1')\n",
        "plt.ylabel('TruncatedSVD Component 2')"
      ]
    },
    {
      "cell_type": "markdown",
      "metadata": {
        "id": "pytX9GoqZPF7"
      },
      "source": [
        "## NMF \n",
        "- Non-Negative Matrix Factorization\n",
        "- Truncated SVD와 같이 낮은 랭크를 통한 행렬 근사 방식"
      ]
    },
    {
      "cell_type": "code",
      "execution_count": 5,
      "metadata": {
        "id": "U-bW4bsUZPF7",
        "outputId": "fc6798cf-24dd-4fa8-922c-2b48b40dc873",
        "colab": {
          "base_uri": "https://localhost:8080/",
          "height": 525
        }
      },
      "outputs": [
        {
          "output_type": "stream",
          "name": "stderr",
          "text": [
            "/usr/local/lib/python3.10/dist-packages/sklearn/decomposition/_nmf.py:1665: ConvergenceWarning: Maximum number of iterations 200 reached. Increase it to improve convergence.\n",
            "  warnings.warn(\n"
          ]
        },
        {
          "output_type": "execute_result",
          "data": {
            "text/plain": [
              "Text(0, 0.5, 'NMF Component 2')"
            ]
          },
          "metadata": {},
          "execution_count": 5
        },
        {
          "output_type": "display_data",
          "data": {
            "text/plain": [
              "<Figure size 640x480 with 1 Axes>"
            ],
            "image/png": "[encoded data removed]"
          },
          "metadata": {}
        }
      ],
      "source": [
        "from sklearn.decomposition import NMF\n",
        "from sklearn.datasets import load_iris\n",
        "import matplotlib.pyplot as plt\n",
        "%matplotlib inline\n",
        "\n",
        "iris = load_iris()\n",
        "iris_ftrs = iris.data # X\n",
        "nmf = NMF(n_components=2) \n",
        "nmf.fit(iris_ftrs) # X\n",
        "iris_nmf = nmf.transform(iris_ftrs) # X\n",
        "plt.scatter(x=iris_nmf[:,0], y= iris_nmf[:,1], c= iris.target)\n",
        "plt.xlabel('NMF Component 1')\n",
        "plt.ylabel('NMF Component 2')"
      ]
    }
  ],
  "metadata": {
    "kernelspec": {
      "display_name": "Python 3",
      "language": "python",
      "name": "python3"
    },
    "language_info": {
      "codemirror_mode": {
        "name": "ipython",
        "version": 3
      },
      "file_extension": ".py",
      "mimetype": "text/x-python",
      "name": "python",
      "nbconvert_exporter": "python",
      "pygments_lexer": "ipython3",
      "version": "3.7.4"
    },
    "toc": {
      "base_numbering": 1,
      "nav_menu": {},
      "number_sections": true,
      "sideBar": true,
      "skip_h1_title": false,
      "title_cell": "Table of Contents",
      "title_sidebar": "Contents",
      "toc_cell": false,
      "toc_position": {
        "height": "calc(100% - 180px)",
        "left": "10px",
        "top": "150px",
        "width": "389px"
      },
      "toc_section_display": true,
      "toc_window_display": true
    },
    "varInspector": {
      "cols": {
        "lenName": 16,
        "lenType": 16,
        "lenVar": 40
      },
      "kernels_config": {
        "python": {
          "delete_cmd_postfix": "",
          "delete_cmd_prefix": "del ",
          "library": "var_list.py",
          "varRefreshCmd": "print(var_dic_list())"
        },
        "r": {
          "delete_cmd_postfix": ") ",
          "delete_cmd_prefix": "rm(",
          "library": "var_list.r",
          "varRefreshCmd": "cat(var_dic_list()) "
        }
      },
      "types_to_exclude": [
        "module",
        "function",
        "builtin_function_or_method",
        "instance",
        "_Feature"
      ],
      "window_display": false
    },
    "colab": {
      "name": "07_기계학습_01.ipynb",
      "provenance": []
    }
  },
  "nbformat": 4,
  "nbformat_minor": 0
}