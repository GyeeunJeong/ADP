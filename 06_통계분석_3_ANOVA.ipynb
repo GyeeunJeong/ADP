{
  "nbformat": 4,
  "nbformat_minor": 0,
  "metadata": {
    "colab": {
      "provenance": [],
      "collapsed_sections": [],
      "authorship_tag": "ABX9TyM3RU+oqRCxdNrGiJLtA7Dd",
      "include_colab_link": true
    },
    "kernelspec": {
      "name": "python3",
      "display_name": "Python 3"
    },
    "language_info": {
      "name": "python"
    }
  },
  "cells": [
    {
      "cell_type": "markdown",
      "metadata": {
        "id": "view-in-github",
        "colab_type": "text"
      },
      "source": [
        "<a href=\"https://colab.research.google.com/github/joyfulspace/ADP/blob/master/06_%ED%86%B5%EA%B3%84%EB%B6%84%EC%84%9D_3_ANOVA.ipynb\" target=\"_parent\"><img src=\"https://colab.research.google.com/assets/colab-badge.svg\" alt=\"Open In Colab\"/></a>"
      ]
    },
    {
      "cell_type": "code",
      "source": [
        "!git clone https://github.com/joyfulspace/ADP.git"
      ],
      "metadata": {
        "colab": {
          "base_uri": "https://localhost:8080/"
        },
        "id": "IEFdxEC-Rva8",
        "outputId": "26153183-adfe-4db4-ac24-e4da33fe6709"
      },
      "execution_count": 1,
      "outputs": [
        {
          "output_type": "stream",
          "name": "stdout",
          "text": [
            "Cloning into 'ADP'...\n",
            "remote: Enumerating objects: 2586, done.\u001b[K\n",
            "remote: Counting objects: 100% (449/449), done.\u001b[K\n",
            "remote: Compressing objects: 100% (257/257), done.\u001b[K\n",
            "remote: Total 2586 (delta 196), reused 425 (delta 183), pack-reused 2137\u001b[K\n",
            "Receiving objects: 100% (2586/2586), 58.91 MiB | 31.27 MiB/s, done.\n",
            "Resolving deltas: 100% (200/200), done.\n"
          ]
        }
      ]
    },
    {
      "cell_type": "markdown",
      "source": [
        "# 분산분석 ANOVA\n",
        "- 두 개이상의 집단에서 그룹 평균 간 차이를 그룹 내 변동에 비교하여 살펴보는 데이터 분석방법\n",
        "- 여러 그룹간의 평균의 차이가 통계적으로 유의미한지 판단하기 위한 시험법  \n",
        "- One-way ANOVA(일원배치 분산분석)\n",
        "  - 반응값에 대해 하나의 범주형 변수의 영향을 알아보기 위해 사용되는 검증방법\n",
        "  - 한가지 변수의 변화가 결과 변수에 미치는 영향을 보기 위해 사용\n",
        "- Two-way ANOVA\n",
        "  - 두개의 요인의 효과를 분석\n",
        "  - 귀무가설/대립가설: 독립요인을 A, B, 종속변수를 C라고 할 때, \n",
        "    1) A그룹들의 평균은 동일하다./적어도 한 개의 A그룹의 평균은 다르다. \n",
        "    2) B그룹들의 평균은 동일하다./B그룹의 평균은 다르다. \n",
        "    3) A와 B 사이의 상호작용이 없다./A와 B사이의 상호작용이 있다.\n",
        "- 한계\n",
        "  1. 두 그룹의 평균 간에 유의한 차이가 있는지 여부는 알 수 있지만 어떤 쌍에서 평균이 다른지는 설명 못 함\n",
        "  2. 평균만 비교하기 때문에 데이터 세트가 균일하게 분포한다 가정. 데이터가 정규 분포가 아니거나 특이치가 있으면 적합하지 않음\n",
        "  3. 표준 편차가 그룹간에 동일하거나 유사하다고 가정. 표준편차에 큰 차이가 있으면 검정의 결론이 정확하지 않을 수 있음\n",
        "  \n",
        "[출처] https://www.tibco.com/ko/reference-center/what-is-analysis-of-variance-anova#:~:text=%EB%B6%84%EC%82%B0%20%EB%B6%84%EC%84%9D%20(%20ANOVA%20)%EC%9D%80%20%EC%84%9C%EB%A1%9C,%EC%B0%A8%EC%9D%B4%EA%B0%80%20%EC%9E%88%EB%8A%94%EC%A7%80%20%ED%99%95%EC%9D%B8%ED%95%A9%EB%8B%88%EB%8B%A4.\n",
        "\n"
      ],
      "metadata": {
        "id": "aiKPESjJ9QOk"
      }
    },
    {
      "cell_type": "markdown",
      "source": [
        "### Anova 가정\n",
        "\n",
        "* 독립변인/독립변수의 그룹 군은 서로 독립\n",
        "* 독립변인에 대한 종속변인은 정규분포\n",
        "* 독립변인에 따른 종속변인의 분산은 등분산"
      ],
      "metadata": {
        "id": "HZauDYrzSz8S"
      }
    },
    {
      "cell_type": "code",
      "source": [
        "import pandas as pd\n",
        "\n",
        "import matplotlib.pyplot as plt\n",
        "%matplotlib inline\n",
        "\n",
        "#Graph에 한글을 표시하기 위한 코드\n",
        "import matplotlib\n",
        "from matplotlib import font_manager, rc\n",
        "import platform\n",
        "font_name = font_manager.FontProperties(fname=\"ADP/file/malgun.ttf\").get_name()\n",
        "#font_name = font_manager.FontProperties(fname=\"/usr/share/fonts/NanumGothicCoding.ttf\").get_name()\n",
        "rc('font', family=font_name)\\\n",
        "    \n",
        "matplotlib.rcParams['axes.unicode_minus'] = False"
      ],
      "metadata": {
        "id": "T3cBH33AR01C"
      },
      "execution_count": 10,
      "outputs": []
    },
    {
      "cell_type": "code",
      "source": [
        "#원본데이터와 인터넷에서 찾은 데이터가 양식이 달라 맞추기\n",
        "df = pd.read_csv('ADP/data/FIFA.csv')\n",
        "df = df[['sofifa_id', 'short_name', 'age', 'nationality', 'overall', 'club', 'preferred_foot', 'work_rate', 'team_position', 'team_jersey_number',\t\n",
        "         'contract_valid_until', 'height_cm', 'weight_kg', 'release_clause_eur', 'value_eur', 'wage_eur']]\n",
        "df = df.dropna()\n",
        "df['team_jersey_number'] = df['team_jersey_number'].astype(int)\n",
        "df['contract_valid_until'] = df['contract_valid_until'].astype(int)\n",
        "df['release_clause_eur'] = (df['release_clause_eur']/1000).astype(int)\n",
        "df['value_eur'] = (df['value_eur']/1000).astype(int)\n",
        "df['wage_eur'] = (df['wage_eur']/1000).astype(int)\n",
        "\n",
        "df.columns = ['ID',\t'Name',\t'Age',\t'Nationality',\t'Overall',\t'Club',\t'Preferred_Foot',\t'Work_Rate',\t'Position',\t'Jersey_Number',\n",
        "              'Contract_Valid_Until',\t'Height',\t'Weight_lb',\t'Release_Clause',\t'Value',\t'Wage']\n",
        "print(df.shape)\n",
        "df.head()"
      ],
      "metadata": {
        "colab": {
          "base_uri": "https://localhost:8080/",
          "height": 392
        },
        "id": "nr5pXELbrT3w",
        "outputId": "d61c5343-e80d-4dd5-be4f-cf8f7081e305"
      },
      "execution_count": 4,
      "outputs": [
        {
          "output_type": "stream",
          "name": "stdout",
          "text": [
            "(16980, 16)\n"
          ]
        },
        {
          "output_type": "execute_result",
          "data": {
            "text/plain": [
              "       ID               Name  Age Nationality  Overall                 Club  \\\n",
              "0  158023           L. Messi   32   Argentina       94         FC Barcelona   \n",
              "1   20801  Cristiano Ronaldo   34    Portugal       93             Juventus   \n",
              "2  190871          Neymar Jr   27      Brazil       92  Paris Saint-Germain   \n",
              "3  200389           J. Oblak   26    Slovenia       91      Atlético Madrid   \n",
              "4  183277          E. Hazard   28     Belgium       91          Real Madrid   \n",
              "\n",
              "  Preferred_Foot      Work_Rate Position  Jersey_Number  Contract_Valid_Until  \\\n",
              "0           Left     Medium/Low       RW             10                  2021   \n",
              "1          Right       High/Low       LW              7                  2022   \n",
              "2          Right    High/Medium      CAM             10                  2022   \n",
              "3          Right  Medium/Medium       GK             13                  2023   \n",
              "4          Right    High/Medium       LW              7                  2024   \n",
              "\n",
              "   Height  Weight_lb  Release_Clause   Value  Wage  \n",
              "0     170         72          195800   95500   565  \n",
              "1     187         83           96500   58500   405  \n",
              "2     175         68          195200  105500   290  \n",
              "3     188         87          164700   77500   125  \n",
              "4     175         74          184500   90000   470  "
            ],
            "text/html": [
              "\n",
              "  <div id=\"df-ca0af11b-a0af-4f91-8dd4-9f8134d349eb\">\n",
              "    <div class=\"colab-df-container\">\n",
              "      <div>\n",
              "<style scoped>\n",
              "    .dataframe tbody tr th:only-of-type {\n",
              "        vertical-align: middle;\n",
              "    }\n",
              "\n",
              "    .dataframe tbody tr th {\n",
              "        vertical-align: top;\n",
              "    }\n",
              "\n",
              "    .dataframe thead th {\n",
              "        text-align: right;\n",
              "    }\n",
              "</style>\n",
              "<table border=\"1\" class=\"dataframe\">\n",
              "  <thead>\n",
              "    <tr style=\"text-align: right;\">\n",
              "      <th></th>\n",
              "      <th>ID</th>\n",
              "      <th>Name</th>\n",
              "      <th>Age</th>\n",
              "      <th>Nationality</th>\n",
              "      <th>Overall</th>\n",
              "      <th>Club</th>\n",
              "      <th>Preferred_Foot</th>\n",
              "      <th>Work_Rate</th>\n",
              "      <th>Position</th>\n",
              "      <th>Jersey_Number</th>\n",
              "      <th>Contract_Valid_Until</th>\n",
              "      <th>Height</th>\n",
              "      <th>Weight_lb</th>\n",
              "      <th>Release_Clause</th>\n",
              "      <th>Value</th>\n",
              "      <th>Wage</th>\n",
              "    </tr>\n",
              "  </thead>\n",
              "  <tbody>\n",
              "    <tr>\n",
              "      <th>0</th>\n",
              "      <td>158023</td>\n",
              "      <td>L. Messi</td>\n",
              "      <td>32</td>\n",
              "      <td>Argentina</td>\n",
              "      <td>94</td>\n",
              "      <td>FC Barcelona</td>\n",
              "      <td>Left</td>\n",
              "      <td>Medium/Low</td>\n",
              "      <td>RW</td>\n",
              "      <td>10</td>\n",
              "      <td>2021</td>\n",
              "      <td>170</td>\n",
              "      <td>72</td>\n",
              "      <td>195800</td>\n",
              "      <td>95500</td>\n",
              "      <td>565</td>\n",
              "    </tr>\n",
              "    <tr>\n",
              "      <th>1</th>\n",
              "      <td>20801</td>\n",
              "      <td>Cristiano Ronaldo</td>\n",
              "      <td>34</td>\n",
              "      <td>Portugal</td>\n",
              "      <td>93</td>\n",
              "      <td>Juventus</td>\n",
              "      <td>Right</td>\n",
              "      <td>High/Low</td>\n",
              "      <td>LW</td>\n",
              "      <td>7</td>\n",
              "      <td>2022</td>\n",
              "      <td>187</td>\n",
              "      <td>83</td>\n",
              "      <td>96500</td>\n",
              "      <td>58500</td>\n",
              "      <td>405</td>\n",
              "    </tr>\n",
              "    <tr>\n",
              "      <th>2</th>\n",
              "      <td>190871</td>\n",
              "      <td>Neymar Jr</td>\n",
              "      <td>27</td>\n",
              "      <td>Brazil</td>\n",
              "      <td>92</td>\n",
              "      <td>Paris Saint-Germain</td>\n",
              "      <td>Right</td>\n",
              "      <td>High/Medium</td>\n",
              "      <td>CAM</td>\n",
              "      <td>10</td>\n",
              "      <td>2022</td>\n",
              "      <td>175</td>\n",
              "      <td>68</td>\n",
              "      <td>195200</td>\n",
              "      <td>105500</td>\n",
              "      <td>290</td>\n",
              "    </tr>\n",
              "    <tr>\n",
              "      <th>3</th>\n",
              "      <td>200389</td>\n",
              "      <td>J. Oblak</td>\n",
              "      <td>26</td>\n",
              "      <td>Slovenia</td>\n",
              "      <td>91</td>\n",
              "      <td>Atlético Madrid</td>\n",
              "      <td>Right</td>\n",
              "      <td>Medium/Medium</td>\n",
              "      <td>GK</td>\n",
              "      <td>13</td>\n",
              "      <td>2023</td>\n",
              "      <td>188</td>\n",
              "      <td>87</td>\n",
              "      <td>164700</td>\n",
              "      <td>77500</td>\n",
              "      <td>125</td>\n",
              "    </tr>\n",
              "    <tr>\n",
              "      <th>4</th>\n",
              "      <td>183277</td>\n",
              "      <td>E. Hazard</td>\n",
              "      <td>28</td>\n",
              "      <td>Belgium</td>\n",
              "      <td>91</td>\n",
              "      <td>Real Madrid</td>\n",
              "      <td>Right</td>\n",
              "      <td>High/Medium</td>\n",
              "      <td>LW</td>\n",
              "      <td>7</td>\n",
              "      <td>2024</td>\n",
              "      <td>175</td>\n",
              "      <td>74</td>\n",
              "      <td>184500</td>\n",
              "      <td>90000</td>\n",
              "      <td>470</td>\n",
              "    </tr>\n",
              "  </tbody>\n",
              "</table>\n",
              "</div>\n",
              "      <button class=\"colab-df-convert\" onclick=\"convertToInteractive('df-ca0af11b-a0af-4f91-8dd4-9f8134d349eb')\"\n",
              "              title=\"Convert this dataframe to an interactive table.\"\n",
              "              style=\"display:none;\">\n",
              "        \n",
              "  <svg xmlns=\"http://www.w3.org/2000/svg\" height=\"24px\"viewBox=\"0 0 24 24\"\n",
              "       width=\"24px\">\n",
              "    <path d=\"M0 0h24v24H0V0z\" fill=\"none\"/>\n",
              "    <path d=\"M18.56 5.44l.94 2.06.94-2.06 2.06-.94-2.06-.94-.94-2.06-.94 2.06-2.06.94zm-11 1L8.5 8.5l.94-2.06 2.06-.94-2.06-.94L8.5 2.5l-.94 2.06-2.06.94zm10 10l.94 2.06.94-2.06 2.06-.94-2.06-.94-.94-2.06-.94 2.06-2.06.94z\"/><path d=\"M17.41 7.96l-1.37-1.37c-.4-.4-.92-.59-1.43-.59-.52 0-1.04.2-1.43.59L10.3 9.45l-7.72 7.72c-.78.78-.78 2.05 0 2.83L4 21.41c.39.39.9.59 1.41.59.51 0 1.02-.2 1.41-.59l7.78-7.78 2.81-2.81c.8-.78.8-2.07 0-2.86zM5.41 20L4 18.59l7.72-7.72 1.47 1.35L5.41 20z\"/>\n",
              "  </svg>\n",
              "      </button>\n",
              "      \n",
              "  <style>\n",
              "    .colab-df-container {\n",
              "      display:flex;\n",
              "      flex-wrap:wrap;\n",
              "      gap: 12px;\n",
              "    }\n",
              "\n",
              "    .colab-df-convert {\n",
              "      background-color: #E8F0FE;\n",
              "      border: none;\n",
              "      border-radius: 50%;\n",
              "      cursor: pointer;\n",
              "      display: none;\n",
              "      fill: #1967D2;\n",
              "      height: 32px;\n",
              "      padding: 0 0 0 0;\n",
              "      width: 32px;\n",
              "    }\n",
              "\n",
              "    .colab-df-convert:hover {\n",
              "      background-color: #E2EBFA;\n",
              "      box-shadow: 0px 1px 2px rgba(60, 64, 67, 0.3), 0px 1px 3px 1px rgba(60, 64, 67, 0.15);\n",
              "      fill: #174EA6;\n",
              "    }\n",
              "\n",
              "    [theme=dark] .colab-df-convert {\n",
              "      background-color: #3B4455;\n",
              "      fill: #D2E3FC;\n",
              "    }\n",
              "\n",
              "    [theme=dark] .colab-df-convert:hover {\n",
              "      background-color: #434B5C;\n",
              "      box-shadow: 0px 1px 3px 1px rgba(0, 0, 0, 0.15);\n",
              "      filter: drop-shadow(0px 1px 2px rgba(0, 0, 0, 0.3));\n",
              "      fill: #FFFFFF;\n",
              "    }\n",
              "  </style>\n",
              "\n",
              "      <script>\n",
              "        const buttonEl =\n",
              "          document.querySelector('#df-ca0af11b-a0af-4f91-8dd4-9f8134d349eb button.colab-df-convert');\n",
              "        buttonEl.style.display =\n",
              "          google.colab.kernel.accessAllowed ? 'block' : 'none';\n",
              "\n",
              "        async function convertToInteractive(key) {\n",
              "          const element = document.querySelector('#df-ca0af11b-a0af-4f91-8dd4-9f8134d349eb');\n",
              "          const dataTable =\n",
              "            await google.colab.kernel.invokeFunction('convertToInteractive',\n",
              "                                                     [key], {});\n",
              "          if (!dataTable) return;\n",
              "\n",
              "          const docLinkHtml = 'Like what you see? Visit the ' +\n",
              "            '<a target=\"_blank\" href=https://colab.research.google.com/notebooks/data_table.ipynb>data table notebook</a>'\n",
              "            + ' to learn more about interactive tables.';\n",
              "          element.innerHTML = '';\n",
              "          dataTable['output_type'] = 'display_data';\n",
              "          await google.colab.output.renderOutput(dataTable, element);\n",
              "          const docLink = document.createElement('div');\n",
              "          docLink.innerHTML = docLinkHtml;\n",
              "          element.appendChild(docLink);\n",
              "        }\n",
              "      </script>\n",
              "    </div>\n",
              "  </div>\n",
              "  "
            ]
          },
          "metadata": {},
          "execution_count": 4
        }
      ]
    },
    {
      "cell_type": "markdown",
      "source": [
        "### 데이터 범주화\n",
        "- ANOVA의 독립변수는 항상 class형"
      ],
      "metadata": {
        "id": "0-mQ54e4RzS3"
      }
    },
    {
      "cell_type": "code",
      "source": [
        "foward = ['LS', 'ST', 'RS', 'LW', 'LF', 'CF', 'RF', 'RW']\n",
        "mid = ['LAM', 'CAM', 'RAM', 'LM', 'LCM', 'CM', 'RCM', 'RM']\n",
        "defender = ['LWB', 'LDM', 'CDM', 'RDM', 'RWB', 'LB', 'LCB', 'CB', 'RCB', 'RB']\n",
        "gk = ['GK']"
      ],
      "metadata": {
        "id": "glcohQ5dx_uJ"
      },
      "execution_count": 5,
      "outputs": []
    },
    {
      "cell_type": "code",
      "source": [
        "df.loc[df['Position'].isin(foward) , 'Position_Class'] = 'Forward'\n",
        "df.loc[df['Position'].isin(mid) , 'Position_Class'] = 'Midfielder'\n",
        "df.loc[df['Position'].isin(defender) , 'Position_Class'] = 'Defender'\n",
        "df.loc[df['Position'].isin(gk) , 'Position_Class'] = 'GoalKeeper'"
      ],
      "metadata": {
        "id": "9AncaeF-yepF"
      },
      "execution_count": 6,
      "outputs": []
    },
    {
      "cell_type": "code",
      "source": [
        "df['Position_Class'] = df['Position_Class'].astype('category')"
      ],
      "metadata": {
        "id": "4a-jFrJbzEz2"
      },
      "execution_count": 7,
      "outputs": []
    },
    {
      "cell_type": "markdown",
      "source": [
        "## anova 분석 실행"
      ],
      "metadata": {
        "id": "uZKEmq3aSBIK"
      }
    },
    {
      "cell_type": "code",
      "source": [
        "df.groupby('Position_Class')['Value'].mean()"
      ],
      "metadata": {
        "colab": {
          "base_uri": "https://localhost:8080/"
        },
        "id": "f5M1Bepg-gTA",
        "outputId": "dba5d940-a1d9-4a26-a3b1-ec2d930d854a"
      },
      "execution_count": 8,
      "outputs": [
        {
          "output_type": "execute_result",
          "data": {
            "text/plain": [
              "Position_Class\n",
              "Defender      3134.022734\n",
              "Forward       5644.000892\n",
              "GoalKeeper    3808.059581\n",
              "Midfielder    4304.445607\n",
              "Name: Value, dtype: float64"
            ]
          },
          "metadata": {},
          "execution_count": 8
        }
      ]
    },
    {
      "cell_type": "code",
      "source": [
        "plot_data = [df.loc[df['Position_Class']=='Forward', 'Value'], df.loc[df['Position_Class']=='Midfielder', 'Value'],\n",
        "             df.loc[df['Position_Class']=='Defender', 'Value'], df.loc[df['Position_Class']=='GoalKeeper', 'Value']]\n",
        "plt.boxplot(plot_data)\n",
        "plt.show()"
      ],
      "metadata": {
        "colab": {
          "base_uri": "https://localhost:8080/",
          "height": 339
        },
        "id": "MAgt2wkI-mRc",
        "outputId": "624355b8-1adc-47ae-8624-57685eb4fc19"
      },
      "execution_count": 11,
      "outputs": [
        {
          "output_type": "stream",
          "name": "stderr",
          "text": [
            "/usr/local/lib/python3.7/dist-packages/matplotlib/cbook/__init__.py:1376: VisibleDeprecationWarning: Creating an ndarray from ragged nested sequences (which is a list-or-tuple of lists-or-tuples-or ndarrays with different lengths or shapes) is deprecated. If you meant to do this, you must specify 'dtype=object' when creating the ndarray.\n",
            "  X = np.atleast_1d(X.T if isinstance(X, np.ndarray) else np.asarray(X))\n",
            "WARNING:matplotlib.font_manager:findfont: Font family ['Malgun Gothic'] not found. Falling back to DejaVu Sans.\n"
          ]
        },
        {
          "output_type": "display_data",
          "data": {
            "text/plain": [
              "<Figure size 432x288 with 1 Axes>"
            ],
            "image/png": "[encoded data removed]"
          },
          "metadata": {
            "needs_background": "light"
          }
        }
      ]
    },
    {
      "cell_type": "markdown",
      "source": [
        "### 일원분산분석\n",
        "- 독립변수 1개"
      ],
      "metadata": {
        "id": "33wejX5ISm7_"
      }
    },
    {
      "cell_type": "code",
      "source": [
        "from statsmodels.formula.api import ols\n",
        "from statsmodels.stats.anova import anova_lm\n",
        "\n",
        "model = ols('Value ~ C(Position_Class)', df).fit() # Position_Class에 따라 Value의 평균 차이가 있는지\n",
        "print(anova_lm(model))"
      ],
      "metadata": {
        "colab": {
          "base_uri": "https://localhost:8080/"
        },
        "id": "zcgMIczG78xU",
        "outputId": "33724f57-5d25-4208-b3e7-1ab1470856cc"
      },
      "execution_count": 12,
      "outputs": [
        {
          "output_type": "stream",
          "name": "stdout",
          "text": [
            "                       df        sum_sq       mean_sq          F        PR(>F)\n",
            "C(Position_Class)     3.0  5.576891e+09  1.858964e+09  31.388968  3.822585e-20\n",
            "Residual           6817.0  4.037264e+11  5.922347e+07        NaN           NaN\n"
          ]
        }
      ]
    },
    {
      "cell_type": "markdown",
      "source": [
        "### 사후 검정\n",
        "* 분산분석의 결과 귀무가설이 기각되어 적어도 한 집단에서 평균의 차이가 있음이 통계적으로 증명되었을 경우, 어떤 집단들에 대해서 평균의 차이가 존재하는지를 알아보기 위해 실시.\n",
        "* 던칸의 MRT, 피셔의 최소유의차(LSD), 봉페로니 교정, 튜키의 HSD, Scheffe(셰페) 방법\n",
        "* 조합 가능한 모든 쌍에 대해 비교를 하므로 과잉검증으로 인한 FWER 증가\n",
        "  - FWER: Familywise Error Rate. 여러 개의 가설 검정을 할 때 적어도 하나의 가설에서 1종 오류가 발생할 가능성. 가설검정을 많이 할수록 FWER 증가.\n",
        "\n",
        "[참조] https://mindscale.kr/course/basic-stat-python/22/"
      ],
      "metadata": {
        "id": "uxi-EQvVSR3y"
      }
    },
    {
      "cell_type": "markdown",
      "source": [
        "* 봉페로니 교정과 투기의 HSD 실습"
      ],
      "metadata": {
        "id": "UFZMci85TIiU"
      }
    },
    {
      "cell_type": "code",
      "source": [
        "df['Position_Value'] = df.Position_Class.replace({'Forward':1, 'Midfielder':2, 'Defender':3, 'GoalKeeper':4})"
      ],
      "metadata": {
        "id": "OzY6DWSxeUWU"
      },
      "execution_count": 20,
      "outputs": []
    },
    {
      "cell_type": "code",
      "source": [
        "# 준비\n",
        "#df = pd.read_csv('PlantGrowth.csv')\n",
        "from statsmodels.sandbox.stats.multicomp import MultiComparison\n",
        "import scipy.stats\n",
        "\n",
        "comp = MultiComparison(df['Value'], df['Position_Value'])"
      ],
      "metadata": {
        "id": "bvKDhBIPTIyZ"
      },
      "execution_count": 27,
      "outputs": []
    },
    {
      "cell_type": "markdown",
      "source": [
        "###봉페로니 교정\n",
        "- Bonferroni correction\n",
        "- 모든 집단을 짝지어 t-test\n",
        "- 짝지어 비교를 3번하면, p값을 3배\n",
        "- FWER이 중간 정도"
      ],
      "metadata": {
        "id": "vIiqRnxndRRl"
      }
    },
    {
      "cell_type": "code",
      "source": [
        "result = comp.allpairtest(scipy.stats.ttest_ind, method='bonf')"
      ],
      "metadata": {
        "id": "8EqAwiXiddQ3"
      },
      "execution_count": 28,
      "outputs": []
    },
    {
      "cell_type": "code",
      "source": [
        "result[0]"
      ],
      "metadata": {
        "colab": {
          "base_uri": "https://localhost:8080/",
          "height": 304
        },
        "id": "_-O7FgKudm_c",
        "outputId": "4c019b77-e0a8-4f31-f718-6628f2eea7f6"
      },
      "execution_count": 29,
      "outputs": [
        {
          "output_type": "execute_result",
          "data": {
            "text/plain": [
              "<class 'statsmodels.iolib.table.SimpleTable'>"
            ],
            "text/html": [
              "<table class=\"simpletable\">\n",
              "<caption>Test Multiple Comparison ttest_ind \n",
              "FWER=0.05 method=bonf\n",
              "alphacSidak=0.01, alphacBonf=0.005</caption>\n",
              "<tr>\n",
              "  <th>group1</th> <th>group2</th>  <th>stat</th>    <th>pval</th>  <th>pval_corr</th> <th>reject</th>\n",
              "</tr>\n",
              "<tr>\n",
              "    <td>1.0</td>    <td>2.0</td>  <td>3.9437</td>  <td>0.0001</td>  <td>0.0008</td>    <td>True</td> \n",
              "</tr>\n",
              "<tr>\n",
              "    <td>1.0</td>    <td>3.0</td>  <td>9.5683</td>    <td>0.0</td>     <td>0.0</td>     <td>True</td> \n",
              "</tr>\n",
              "<tr>\n",
              "    <td>1.0</td>    <td>4.0</td>  <td>3.7221</td>  <td>0.0002</td>   <td>0.002</td>    <td>True</td> \n",
              "</tr>\n",
              "<tr>\n",
              "    <td>1.0</td>    <td>nan</td>    <td>nan</td>     <td>nan</td>     <td>nan</td>     <td>False</td>\n",
              "</tr>\n",
              "<tr>\n",
              "    <td>2.0</td>    <td>3.0</td>  <td>5.9458</td>    <td>0.0</td>     <td>0.0</td>     <td>True</td> \n",
              "</tr>\n",
              "<tr>\n",
              "    <td>2.0</td>    <td>4.0</td>  <td>1.3536</td>   <td>0.176</td>    <td>1.0</td>     <td>False</td>\n",
              "</tr>\n",
              "<tr>\n",
              "    <td>2.0</td>    <td>nan</td>    <td>nan</td>     <td>nan</td>     <td>nan</td>     <td>False</td>\n",
              "</tr>\n",
              "<tr>\n",
              "    <td>3.0</td>    <td>4.0</td>  <td>-2.3881</td>  <td>0.017</td>  <td>0.1698</td>    <td>False</td>\n",
              "</tr>\n",
              "<tr>\n",
              "    <td>3.0</td>    <td>nan</td>    <td>nan</td>     <td>nan</td>     <td>nan</td>     <td>False</td>\n",
              "</tr>\n",
              "<tr>\n",
              "    <td>4.0</td>    <td>nan</td>    <td>nan</td>     <td>nan</td>     <td>nan</td>     <td>False</td>\n",
              "</tr>\n",
              "</table>"
            ]
          },
          "metadata": {},
          "execution_count": 29
        }
      ]
    },
    {
      "cell_type": "markdown",
      "source": [
        "* (1, 2), (1, 3), (1, 4), (2, 3) 수준 간의 평균 차이만 유의미함\n",
        "* Forward(1)는 Midfielder(2), Defender(3), GoalKeeper(4)의 Value와 차이가 있고, Midfielder(2)는 Defender(3)와 Value의 유의차가 존재함"
      ],
      "metadata": {
        "id": "IJe_M_j8f-j3"
      }
    },
    {
      "cell_type": "markdown",
      "source": [
        "### 투키의 HSD\n",
        "- Tuckey's Honestly Significant Difference\n",
        "- FWER이 중간 정도"
      ],
      "metadata": {
        "id": "u6OqMJghhN_8"
      }
    },
    {
      "cell_type": "code",
      "source": [
        "from statsmodels.stats.multicomp import pairwise_tukeyhsd\n",
        "\n",
        "hsd = pairwise_tukeyhsd(df['Value'], df['Position_Value'], alpha=0.05)\n",
        "hsd.summary()"
      ],
      "metadata": {
        "colab": {
          "base_uri": "https://localhost:8080/",
          "height": 269
        },
        "id": "1YNok3yWhNyK",
        "outputId": "566438fc-c63d-4ae0-e231-d8129244002c"
      },
      "execution_count": 31,
      "outputs": [
        {
          "output_type": "execute_result",
          "data": {
            "text/plain": [
              "<class 'statsmodels.iolib.table.SimpleTable'>"
            ],
            "text/html": [
              "<table class=\"simpletable\">\n",
              "<caption>Multiple Comparison of Means - Tukey HSD, FWER=0.05</caption>\n",
              "<tr>\n",
              "  <th>group1</th> <th>group2</th>  <th>meandiff</th>   <th>p-adj</th>    <th>lower</th>      <th>upper</th>   <th>reject</th>\n",
              "</tr>\n",
              "<tr>\n",
              "    <td>1.0</td>    <td>2.0</td>  <td>-1339.5553</td>  <td>0.001</td> <td>-1911.1376</td>  <td>-767.9729</td>  <td>True</td> \n",
              "</tr>\n",
              "<tr>\n",
              "    <td>1.0</td>    <td>3.0</td>  <td>-2509.9782</td>  <td>0.001</td> <td>-3038.0462</td> <td>-1981.9101</td>  <td>True</td> \n",
              "</tr>\n",
              "<tr>\n",
              "    <td>1.0</td>    <td>4.0</td>  <td>-1835.9413</td>  <td>0.001</td>  <td>-2596.031</td> <td>-1075.8516</td>  <td>True</td> \n",
              "</tr>\n",
              "<tr>\n",
              "    <td>1.0</td>    <td>nan</td>   <td>-4051.197</td>  <td>0.001</td> <td>-4529.4036</td> <td>-3572.9903</td>  <td>True</td> \n",
              "</tr>\n",
              "<tr>\n",
              "    <td>2.0</td>    <td>3.0</td>  <td>-1170.4229</td>  <td>0.001</td> <td>-1610.4814</td>  <td>-730.3643</td>  <td>True</td> \n",
              "</tr>\n",
              "<tr>\n",
              "    <td>2.0</td>    <td>4.0</td>   <td>-496.386</td>  <td>0.3017</td> <td>-1198.1922</td>  <td>205.4202</td>   <td>False</td>\n",
              "</tr>\n",
              "<tr>\n",
              "    <td>2.0</td>    <td>nan</td>  <td>-2711.6417</td>  <td>0.001</td> <td>-3090.4256</td> <td>-2332.8577</td>  <td>True</td> \n",
              "</tr>\n",
              "<tr>\n",
              "    <td>3.0</td>    <td>4.0</td>   <td>674.0368</td>  <td>0.0461</td>   <td>7.1924</td>    <td>1340.8813</td>  <td>True</td> \n",
              "</tr>\n",
              "<tr>\n",
              "    <td>3.0</td>    <td>nan</td>  <td>-1541.2188</td>  <td>0.001</td> <td>-1850.4546</td>  <td>-1231.983</td>  <td>True</td> \n",
              "</tr>\n",
              "<tr>\n",
              "    <td>4.0</td>    <td>nan</td>  <td>-2215.2557</td>  <td>0.001</td> <td>-2843.3537</td> <td>-1587.1576</td>  <td>True</td> \n",
              "</tr>\n",
              "</table>"
            ]
          },
          "metadata": {},
          "execution_count": 31
        }
      ]
    },
    {
      "cell_type": "markdown",
      "source": [
        "* (Midfielder, GoalKeeper) 외의 모든 조합에서 통계적으로 유의한 차이가 있다.\n",
        "* meandiff는 group1과 group2 간의 반응값 차이를 나타내는데, 양수면 group2의 평균이 더 높다."
      ],
      "metadata": {
        "id": "IVww_YVFh5rb"
      }
    },
    {
      "cell_type": "markdown",
      "source": [
        "ANOVA 결과, p-value는 0.05보다 작아 귀무가설을 기각할 수 있고, 포지션별 시장가치는 동일하지 않다. 즉, 포지션의 변화는 시장가치에 영향을 준다. 포지션별 시장가치의 평균값들 중 적어도 한 포지션은 통계적으로 유의한 차이가 있다고 말할 수 있다. 분산분석 SSA의 자유도는 3(집단의 수 - 1 = 4 - 1), SST의 자유도는 6817(관측값의 수 - 집단의 수 = 6821 - 4)이다.  \n",
        "귀무가설을 '집단들 간의 평균값은 같다', 대립가설을 '집단들 간의 평균값은 같지 않다.'로 두고 사후검정을 진행한다. 모든 집단은 두 집단씩 짝을 지어 각각 비교한다.  \n",
        "봉페로니 교정 결과, (Forward,Midfielder), (Forward,Defender), (Forward,GoalKeeper), (Midfielder, Defender) 조합의 시장가치 평균에 통계적으로 차이가 난다.  \n",
        "투키의 HSD 결과, (Midfielder, GoalKeeper) 조합을 제외한 모든 p-value가 0.05보다 작으므로 시장가치 평균에 통계적으로 차이가 있다. 또한 시장가치 평균에 차이가 있는 조합 중 (Defender, GoalKeeper) 외의 모든 조합의 meandiff가 음수이므로 group1의 시장가치 평균이 더 크다. "
      ],
      "metadata": {
        "id": "y7SEZWTxooCk"
      }
    },
    {
      "cell_type": "markdown",
      "source": [
        "### 이원분산분석"
      ],
      "metadata": {
        "id": "18UXmANFTJEf"
      }
    },
    {
      "cell_type": "code",
      "source": [
        "model2 = ols('Value ~ C(Preferred_Foot)*C(Position_Class)', df).fit()\n",
        "\n",
        "print(anova_lm(model2))"
      ],
      "metadata": {
        "colab": {
          "base_uri": "https://localhost:8080/"
        },
        "id": "RZxVvOriTpa_",
        "outputId": "3f4b2428-a4b3-4f37-e79a-42e34cc89ee5"
      },
      "execution_count": 13,
      "outputs": [
        {
          "output_type": "stream",
          "name": "stdout",
          "text": [
            "                                         df        sum_sq       mean_sq  \\\n",
            "C(Preferred_Foot)                       1.0  1.884403e+07  1.884403e+07   \n",
            "C(Position_Class)                       3.0  5.675122e+09  1.891707e+09   \n",
            "C(Preferred_Foot):C(Position_Class)     3.0  1.327881e+09  4.426271e+08   \n",
            "Residual                             6813.0  4.022815e+11  5.904616e+07   \n",
            "\n",
            "                                             F        PR(>F)  \n",
            "C(Preferred_Foot)                     0.319141  5.721431e-01  \n",
            "C(Position_Class)                    32.037770  1.478739e-20  \n",
            "C(Preferred_Foot):C(Position_Class)   7.496289  5.248802e-05  \n",
            "Residual                                   NaN           NaN  \n"
          ]
        }
      ]
    },
    {
      "cell_type": "markdown",
      "source": [
        "Position_Class의 p-value가 0.0000이므로 귀무가설을 기각하여 통계적으로 평균 차이가 유의미하다. 다만, Preferred_Foot의 p-value는 0.5721로 0.05보다 커 평균 차이가 유의미하지 않다. 반면, Preferred_Foot 변수와 Position_Class 변수 간에는 상호작용이 있다."
      ],
      "metadata": {
        "id": "RVcUj0mOgHda"
      }
    },
    {
      "cell_type": "code",
      "source": [],
      "metadata": {
        "id": "V1bjVod2T9Dm"
      },
      "execution_count": null,
      "outputs": []
    },
    {
      "cell_type": "code",
      "source": [],
      "metadata": {
        "id": "lB4NgvoFTnNa"
      },
      "execution_count": null,
      "outputs": []
    }
  ]
}